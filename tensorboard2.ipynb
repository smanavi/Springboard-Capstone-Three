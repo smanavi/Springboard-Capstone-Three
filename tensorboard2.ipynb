{
 "cells": [
  {
   "cell_type": "code",
   "execution_count": 1,
   "id": "18edf93d",
   "metadata": {},
   "outputs": [],
   "source": [
    "%load_ext tensorboard"
   ]
  },
  {
   "cell_type": "code",
   "execution_count": 2,
   "id": "efc2f040",
   "metadata": {},
   "outputs": [],
   "source": [
    "rm -rf ./logs/"
   ]
  },
  {
   "cell_type": "code",
   "execution_count": 3,
   "id": "d559540b",
   "metadata": {},
   "outputs": [],
   "source": [
    "import tensorflow as tf\n",
    "from tensorboard.plugins.hparams import api as hp\n",
    "from tensorflow import keras"
   ]
  },
  {
   "cell_type": "code",
   "execution_count": 4,
   "id": "6b1d7c5b",
   "metadata": {},
   "outputs": [],
   "source": [
    "import pandas as pd\n",
    "import numpy as np\n",
    "from sklearn.model_selection import train_test_split\n",
    "from sklearn.preprocessing import LabelEncoder"
   ]
  },
  {
   "cell_type": "code",
   "execution_count": 5,
   "id": "d0d1933e",
   "metadata": {},
   "outputs": [],
   "source": [
    "ratings = pd.read_pickle(\"tiny_selection_longform.pkl\")"
   ]
  },
  {
   "cell_type": "code",
   "execution_count": 6,
   "id": "9586f72c",
   "metadata": {},
   "outputs": [
    {
     "data": {
      "text/plain": [
       "2390"
      ]
     },
     "execution_count": 6,
     "metadata": {},
     "output_type": "execute_result"
    }
   ],
   "source": [
    "user_enc = LabelEncoder()\n",
    "ratings['user'] = user_enc.fit_transform(ratings['user_id'].values)\n",
    "n_users = ratings['user'].nunique()\n",
    "n_users"
   ]
  },
  {
   "cell_type": "code",
   "execution_count": 7,
   "id": "23e72927",
   "metadata": {},
   "outputs": [
    {
     "data": {
      "text/plain": [
       "1648"
      ]
     },
     "execution_count": 7,
     "metadata": {},
     "output_type": "execute_result"
    }
   ],
   "source": [
    "item_enc = LabelEncoder()\n",
    "ratings['movie'] = item_enc.fit_transform(ratings['movie_id'].values)\n",
    "n_movies = ratings['movie'].nunique()\n",
    "n_movies"
   ]
  },
  {
   "cell_type": "code",
   "execution_count": 8,
   "id": "1b38bee2",
   "metadata": {},
   "outputs": [],
   "source": [
    "X_train, X_test = train_test_split(ratings[['movie', 'user', 'rating_score']], test_size=0.2, random_state=42)"
   ]
  },
  {
   "cell_type": "code",
   "execution_count": 9,
   "id": "74762260",
   "metadata": {},
   "outputs": [],
   "source": [
    "HP_NUM_UNITS = hp.HParam('num_units', hp.Discrete([64, 128]))\n",
    "HP_DROPOUT = hp.HParam('droupout', hp.RealInterval(.6, .7))\n",
    "HP_LEARNING_RATE = hp.HParam('learning_rate', hp.Discrete([.001, .01]))\n",
    "# HP_ACTIVATION = hp.HParam('activation', hp.Discrete(['relu', 'sigmoid']))\n",
    "\n",
    "\n",
    "METRIC = 'mean_squared_error'\n",
    "\n",
    "with tf.summary.create_file_writer('logs/hparam_tuning').as_default():\n",
    "    hp.hparams_config(\n",
    "        hparams=[HP_NUM_UNITS, HP_DROPOUT, HP_LEARNING_RATE],\n",
    "        metrics=[hp.Metric(METRIC, display_name = 'mse')],\n",
    "    )"
   ]
  },
  {
   "cell_type": "code",
   "execution_count": 10,
   "id": "65b41da0",
   "metadata": {},
   "outputs": [],
   "source": [
    "def train_test_model(hparams, nmovie_id, nuser_id):\n",
    "    \n",
    "    input_movies = keras.layers.Input(shape=[1])\n",
    "    embed_movies = keras.layers.Embedding(nmovie_id+1, 15)(input_movies)\n",
    "    movies_out = keras.layers.Flatten()(embed_movies)\n",
    "\n",
    "    input_users = keras.layers.Input(shape=[1])\n",
    "    embed_users = keras.layers.Embedding(nuser_id+1, 15)(input_users)\n",
    "    users_out = keras.layers.Flatten()(embed_users)\n",
    "\n",
    "    conc_layer = keras.layers.Concatenate()([movies_out, users_out])\n",
    "    x = keras.layers.Dense(hparams[HP_NUM_UNITS], activation='relu')(conc_layer)\n",
    "    dropout = x = keras.layers.Dropout(rate=hparams[HP_DROPOUT], seed=42)(x)\n",
    "    x_out = x = keras.layers.Dense(1, activation='relu')(x)\n",
    "\n",
    "    model = keras.Model([input_movies, input_users], x_out)\n",
    "    \n",
    "    opt = tf.optimizers.Adam(learning_rate=hparams[HP_LEARNING_RATE])\n",
    "    model.compile(optimizer=opt, loss='mean_squared_error', metrics = 'mean_squared_error')\n",
    "    \n",
    "    hist = model.fit([X_train.movie, X_train.user], \n",
    "                 X_train.rating_score,  \n",
    "                 batch_size=1000, epochs=10, validation_split=.2)\n",
    "\n",
    "#     print(hist.history['val_mean_squared_error'])\n",
    "    return hist.history['val_mean_squared_error'][-1]"
   ]
  },
  {
   "cell_type": "code",
   "execution_count": 11,
   "id": "8ef2b592",
   "metadata": {},
   "outputs": [],
   "source": [
    "def run(run_dir, hparams, nmovie_id, nuser_id):\n",
    "    with tf.summary.create_file_writer(run_dir).as_default():\n",
    "        hp.hparams(hparams)\n",
    "        mse = train_test_model(hparams, nmovie_id, nuser_id)\n",
    "        tf.summary.scalar(METRIC, mse, step=1)"
   ]
  },
  {
   "cell_type": "code",
   "execution_count": 12,
   "id": "f10a587b",
   "metadata": {},
   "outputs": [],
   "source": [
    "nmovie_id = ratings.movie_id.nunique()\n",
    "nuser_id = ratings.user_id.nunique()"
   ]
  },
  {
   "cell_type": "code",
   "execution_count": 13,
   "id": "2398a17e",
   "metadata": {
    "scrolled": false
   },
   "outputs": [
    {
     "name": "stdout",
     "output_type": "stream",
     "text": [
      "----Starting trial: run-0\n",
      "{'num_units': 64, 'droupout': 0.6, 'learning_rate': 0.001}\n",
      "Epoch 1/10\n",
      "2/2 [==============================] - 3s 969ms/step - loss: 10.7858 - mean_squared_error: 10.7858 - val_loss: 10.5408 - val_mean_squared_error: 10.5408\n",
      "Epoch 2/10\n",
      "2/2 [==============================] - 0s 140ms/step - loss: 10.5835 - mean_squared_error: 10.5835 - val_loss: 10.4510 - val_mean_squared_error: 10.4510\n",
      "Epoch 3/10\n",
      "2/2 [==============================] - 0s 291ms/step - loss: 10.5356 - mean_squared_error: 10.5356 - val_loss: 10.3579 - val_mean_squared_error: 10.3579\n",
      "Epoch 4/10\n",
      "2/2 [==============================] - 0s 252ms/step - loss: 10.5076 - mean_squared_error: 10.5076 - val_loss: 10.2631 - val_mean_squared_error: 10.2631\n",
      "Epoch 5/10\n",
      "2/2 [==============================] - 0s 264ms/step - loss: 10.3232 - mean_squared_error: 10.3232 - val_loss: 10.1665 - val_mean_squared_error: 10.1665\n",
      "Epoch 6/10\n",
      "2/2 [==============================] - 0s 236ms/step - loss: 10.2028 - mean_squared_error: 10.2028 - val_loss: 10.0677 - val_mean_squared_error: 10.0677\n",
      "Epoch 7/10\n",
      "2/2 [==============================] - 0s 239ms/step - loss: 10.1414 - mean_squared_error: 10.1414 - val_loss: 9.9661 - val_mean_squared_error: 9.9661\n",
      "Epoch 8/10\n",
      "2/2 [==============================] - 0s 218ms/step - loss: 9.9251 - mean_squared_error: 9.9251 - val_loss: 9.8618 - val_mean_squared_error: 9.8618\n",
      "Epoch 9/10\n",
      "2/2 [==============================] - 0s 205ms/step - loss: 9.9123 - mean_squared_error: 9.9123 - val_loss: 9.7542 - val_mean_squared_error: 9.7542\n",
      "Epoch 10/10\n",
      "2/2 [==============================] - 0s 232ms/step - loss: 9.7446 - mean_squared_error: 9.7446 - val_loss: 9.6430 - val_mean_squared_error: 9.6430\n",
      "----Starting trial: run-1\n",
      "{'num_units': 64, 'droupout': 0.6, 'learning_rate': 0.01}\n",
      "Epoch 1/10\n",
      "2/2 [==============================] - 2s 500ms/step - loss: 10.7145 - mean_squared_error: 10.7145 - val_loss: 9.9631 - val_mean_squared_error: 9.9631\n",
      "Epoch 2/10\n",
      "2/2 [==============================] - 0s 225ms/step - loss: 9.9350 - mean_squared_error: 9.9350 - val_loss: 9.1346 - val_mean_squared_error: 9.1346\n",
      "Epoch 3/10\n",
      "2/2 [==============================] - 0s 229ms/step - loss: 8.9809 - mean_squared_error: 8.9809 - val_loss: 8.1550 - val_mean_squared_error: 8.1550\n",
      "Epoch 4/10\n",
      "2/2 [==============================] - 0s 199ms/step - loss: 7.5474 - mean_squared_error: 7.5474 - val_loss: 7.0260 - val_mean_squared_error: 7.0260\n",
      "Epoch 5/10\n",
      "2/2 [==============================] - 0s 265ms/step - loss: 5.9268 - mean_squared_error: 5.9268 - val_loss: 5.7895 - val_mean_squared_error: 5.7895\n",
      "Epoch 6/10\n",
      "2/2 [==============================] - 0s 246ms/step - loss: 4.1968 - mean_squared_error: 4.1968 - val_loss: 4.5446 - val_mean_squared_error: 4.5446\n",
      "Epoch 7/10\n",
      "2/2 [==============================] - 0s 230ms/step - loss: 2.5894 - mean_squared_error: 2.5894 - val_loss: 3.4753 - val_mean_squared_error: 3.4753\n",
      "Epoch 8/10\n",
      "2/2 [==============================] - 0s 231ms/step - loss: 1.7684 - mean_squared_error: 1.7684 - val_loss: 2.8124 - val_mean_squared_error: 2.8124\n",
      "Epoch 9/10\n",
      "2/2 [==============================] - 0s 176ms/step - loss: 1.9862 - mean_squared_error: 1.9862 - val_loss: 2.5872 - val_mean_squared_error: 2.5872\n",
      "Epoch 10/10\n",
      "2/2 [==============================] - 0s 252ms/step - loss: 2.0237 - mean_squared_error: 2.0237 - val_loss: 2.5698 - val_mean_squared_error: 2.5698\n",
      "----Starting trial: run-2\n",
      "{'num_units': 64, 'droupout': 0.7, 'learning_rate': 0.001}\n",
      "Epoch 1/10\n",
      "2/2 [==============================] - 1s 418ms/step - loss: 10.7723 - mean_squared_error: 10.7723 - val_loss: 10.5928 - val_mean_squared_error: 10.5928\n",
      "Epoch 2/10\n",
      "2/2 [==============================] - 0s 223ms/step - loss: 10.6735 - mean_squared_error: 10.6735 - val_loss: 10.5119 - val_mean_squared_error: 10.5119\n",
      "Epoch 3/10\n",
      "2/2 [==============================] - 0s 308ms/step - loss: 10.5913 - mean_squared_error: 10.5913 - val_loss: 10.4282 - val_mean_squared_error: 10.4282\n",
      "Epoch 4/10\n",
      "2/2 [==============================] - 0s 269ms/step - loss: 10.5385 - mean_squared_error: 10.5385 - val_loss: 10.3434 - val_mean_squared_error: 10.3434\n",
      "Epoch 5/10\n",
      "2/2 [==============================] - 0s 289ms/step - loss: 10.5276 - mean_squared_error: 10.5276 - val_loss: 10.2575 - val_mean_squared_error: 10.2575\n",
      "Epoch 6/10\n",
      "2/2 [==============================] - 0s 234ms/step - loss: 10.3633 - mean_squared_error: 10.3633 - val_loss: 10.1702 - val_mean_squared_error: 10.1702\n",
      "Epoch 7/10\n",
      "2/2 [==============================] - 0s 250ms/step - loss: 10.3322 - mean_squared_error: 10.3322 - val_loss: 10.0817 - val_mean_squared_error: 10.0817\n",
      "Epoch 8/10\n",
      "2/2 [==============================] - 0s 231ms/step - loss: 10.1069 - mean_squared_error: 10.1069 - val_loss: 9.9915 - val_mean_squared_error: 9.9915\n",
      "Epoch 9/10\n",
      "2/2 [==============================] - 0s 238ms/step - loss: 9.9644 - mean_squared_error: 9.9644 - val_loss: 9.8993 - val_mean_squared_error: 9.8993\n",
      "Epoch 10/10\n",
      "2/2 [==============================] - 0s 197ms/step - loss: 9.9221 - mean_squared_error: 9.9221 - val_loss: 9.8048 - val_mean_squared_error: 9.8048\n",
      "----Starting trial: run-3\n",
      "{'num_units': 64, 'droupout': 0.7, 'learning_rate': 0.01}\n",
      "Epoch 1/10\n",
      "2/2 [==============================] - 2s 532ms/step - loss: 10.7188 - mean_squared_error: 10.7188 - val_loss: 9.9622 - val_mean_squared_error: 9.9622\n",
      "Epoch 2/10\n",
      "2/2 [==============================] - 0s 240ms/step - loss: 9.8951 - mean_squared_error: 9.8951 - val_loss: 9.0843 - val_mean_squared_error: 9.0843\n",
      "Epoch 3/10\n",
      "2/2 [==============================] - 0s 234ms/step - loss: 8.9280 - mean_squared_error: 8.9280 - val_loss: 8.0536 - val_mean_squared_error: 8.0536\n",
      "Epoch 4/10\n",
      "2/2 [==============================] - 0s 194ms/step - loss: 7.5027 - mean_squared_error: 7.5027 - val_loss: 6.8689 - val_mean_squared_error: 6.8689\n",
      "Epoch 5/10\n",
      "2/2 [==============================] - 0s 269ms/step - loss: 5.9008 - mean_squared_error: 5.9008 - val_loss: 5.5996 - val_mean_squared_error: 5.5996\n",
      "Epoch 6/10\n",
      "2/2 [==============================] - 0s 209ms/step - loss: 4.3248 - mean_squared_error: 4.3248 - val_loss: 4.3735 - val_mean_squared_error: 4.3735\n",
      "Epoch 7/10\n",
      "2/2 [==============================] - 0s 249ms/step - loss: 2.7691 - mean_squared_error: 2.7691 - val_loss: 3.3955 - val_mean_squared_error: 3.3955\n",
      "Epoch 8/10\n",
      "2/2 [==============================] - 0s 257ms/step - loss: 2.0098 - mean_squared_error: 2.0098 - val_loss: 2.8610 - val_mean_squared_error: 2.8610\n",
      "Epoch 9/10\n",
      "2/2 [==============================] - 0s 238ms/step - loss: 2.1019 - mean_squared_error: 2.1019 - val_loss: 2.6991 - val_mean_squared_error: 2.6991\n",
      "Epoch 10/10\n",
      "2/2 [==============================] - 0s 199ms/step - loss: 2.2294 - mean_squared_error: 2.2294 - val_loss: 2.6720 - val_mean_squared_error: 2.6720\n",
      "----Starting trial: run-4\n",
      "{'num_units': 128, 'droupout': 0.6, 'learning_rate': 0.001}\n",
      "Epoch 1/10\n",
      "2/2 [==============================] - 1s 513ms/step - loss: 10.9050 - mean_squared_error: 10.9050 - val_loss: 10.6799 - val_mean_squared_error: 10.6799\n",
      "Epoch 2/10\n",
      "2/2 [==============================] - 0s 332ms/step - loss: 10.7763 - mean_squared_error: 10.7763 - val_loss: 10.5945 - val_mean_squared_error: 10.5945\n",
      "Epoch 3/10\n",
      "2/2 [==============================] - 0s 209ms/step - loss: 10.8258 - mean_squared_error: 10.8258 - val_loss: 10.4936 - val_mean_squared_error: 10.4936\n",
      "Epoch 4/10\n",
      "2/2 [==============================] - 0s 210ms/step - loss: 10.6867 - mean_squared_error: 10.6867 - val_loss: 10.3895 - val_mean_squared_error: 10.3895\n",
      "Epoch 5/10\n",
      "2/2 [==============================] - 0s 219ms/step - loss: 10.5601 - mean_squared_error: 10.5601 - val_loss: 10.2849 - val_mean_squared_error: 10.2849\n",
      "Epoch 6/10\n",
      "2/2 [==============================] - 0s 206ms/step - loss: 10.4405 - mean_squared_error: 10.4405 - val_loss: 10.1798 - val_mean_squared_error: 10.1798\n",
      "Epoch 7/10\n",
      "2/2 [==============================] - 0s 214ms/step - loss: 10.2532 - mean_squared_error: 10.2532 - val_loss: 10.0737 - val_mean_squared_error: 10.0737\n",
      "Epoch 8/10\n",
      "2/2 [==============================] - 0s 220ms/step - loss: 10.1422 - mean_squared_error: 10.1422 - val_loss: 9.9658 - val_mean_squared_error: 9.9658\n"
     ]
    },
    {
     "name": "stdout",
     "output_type": "stream",
     "text": [
      "Epoch 9/10\n",
      "2/2 [==============================] - 0s 248ms/step - loss: 10.0322 - mean_squared_error: 10.0322 - val_loss: 9.8551 - val_mean_squared_error: 9.8551\n",
      "Epoch 10/10\n",
      "2/2 [==============================] - 0s 181ms/step - loss: 9.9446 - mean_squared_error: 9.9446 - val_loss: 9.7407 - val_mean_squared_error: 9.7407\n",
      "----Starting trial: run-5\n",
      "{'num_units': 128, 'droupout': 0.6, 'learning_rate': 0.01}\n",
      "Epoch 1/10\n",
      "2/2 [==============================] - 1s 395ms/step - loss: 10.6820 - mean_squared_error: 10.6820 - val_loss: 9.8387 - val_mean_squared_error: 9.8387\n",
      "Epoch 2/10\n",
      "2/2 [==============================] - 0s 269ms/step - loss: 9.8388 - mean_squared_error: 9.8388 - val_loss: 8.7786 - val_mean_squared_error: 8.7786\n",
      "Epoch 3/10\n",
      "2/2 [==============================] - 0s 226ms/step - loss: 8.4386 - mean_squared_error: 8.4386 - val_loss: 7.4360 - val_mean_squared_error: 7.4360\n",
      "Epoch 4/10\n",
      "2/2 [==============================] - 0s 212ms/step - loss: 6.6340 - mean_squared_error: 6.6340 - val_loss: 5.8717 - val_mean_squared_error: 5.8717\n",
      "Epoch 5/10\n",
      "2/2 [==============================] - 0s 224ms/step - loss: 4.4499 - mean_squared_error: 4.4499 - val_loss: 4.2781 - val_mean_squared_error: 4.2781\n",
      "Epoch 6/10\n",
      "2/2 [==============================] - 0s 204ms/step - loss: 2.4928 - mean_squared_error: 2.4928 - val_loss: 3.0429 - val_mean_squared_error: 3.0429\n",
      "Epoch 7/10\n",
      "2/2 [==============================] - 0s 220ms/step - loss: 1.5835 - mean_squared_error: 1.5835 - val_loss: 2.5287 - val_mean_squared_error: 2.5287\n",
      "Epoch 8/10\n",
      "2/2 [==============================] - 0s 342ms/step - loss: 1.9659 - mean_squared_error: 1.9659 - val_loss: 2.4180 - val_mean_squared_error: 2.4180\n",
      "Epoch 9/10\n",
      "2/2 [==============================] - 0s 302ms/step - loss: 1.7387 - mean_squared_error: 1.7387 - val_loss: 2.4404 - val_mean_squared_error: 2.4404\n",
      "Epoch 10/10\n",
      "2/2 [==============================] - 0s 214ms/step - loss: 0.9456 - mean_squared_error: 0.9456 - val_loss: 2.6239 - val_mean_squared_error: 2.6239\n",
      "----Starting trial: run-6\n",
      "{'num_units': 128, 'droupout': 0.7, 'learning_rate': 0.001}\n",
      "Epoch 1/10\n",
      "2/2 [==============================] - 1s 464ms/step - loss: 10.8079 - mean_squared_error: 10.8079 - val_loss: 10.6416 - val_mean_squared_error: 10.6416\n",
      "Epoch 2/10\n",
      "2/2 [==============================] - 0s 222ms/step - loss: 10.7119 - mean_squared_error: 10.7119 - val_loss: 10.5411 - val_mean_squared_error: 10.5411\n",
      "Epoch 3/10\n",
      "2/2 [==============================] - 0s 259ms/step - loss: 10.6139 - mean_squared_error: 10.6139 - val_loss: 10.4337 - val_mean_squared_error: 10.4337\n",
      "Epoch 4/10\n",
      "2/2 [==============================] - 0s 293ms/step - loss: 10.5042 - mean_squared_error: 10.5042 - val_loss: 10.3239 - val_mean_squared_error: 10.3239\n",
      "Epoch 5/10\n",
      "2/2 [==============================] - 0s 219ms/step - loss: 10.3824 - mean_squared_error: 10.3824 - val_loss: 10.2125 - val_mean_squared_error: 10.2125\n",
      "Epoch 6/10\n",
      "2/2 [==============================] - 0s 222ms/step - loss: 10.3063 - mean_squared_error: 10.3063 - val_loss: 10.0992 - val_mean_squared_error: 10.0992\n",
      "Epoch 7/10\n",
      "2/2 [==============================] - 0s 281ms/step - loss: 10.1569 - mean_squared_error: 10.1569 - val_loss: 9.9837 - val_mean_squared_error: 9.9837\n",
      "Epoch 8/10\n",
      "2/2 [==============================] - 0s 227ms/step - loss: 9.9848 - mean_squared_error: 9.9848 - val_loss: 9.8651 - val_mean_squared_error: 9.8651\n",
      "Epoch 9/10\n",
      "2/2 [==============================] - 0s 266ms/step - loss: 9.8565 - mean_squared_error: 9.8565 - val_loss: 9.7426 - val_mean_squared_error: 9.7426\n",
      "Epoch 10/10\n",
      "2/2 [==============================] - 0s 274ms/step - loss: 9.8092 - mean_squared_error: 9.8092 - val_loss: 9.6157 - val_mean_squared_error: 9.6157\n",
      "----Starting trial: run-7\n",
      "{'num_units': 128, 'droupout': 0.7, 'learning_rate': 0.01}\n",
      "Epoch 1/10\n",
      "2/2 [==============================] - 1s 384ms/step - loss: 10.7361 - mean_squared_error: 10.7361 - val_loss: 9.7081 - val_mean_squared_error: 9.7081\n",
      "Epoch 2/10\n",
      "2/2 [==============================] - 0s 222ms/step - loss: 9.5948 - mean_squared_error: 9.5948 - val_loss: 8.5358 - val_mean_squared_error: 8.5358\n",
      "Epoch 3/10\n",
      "2/2 [==============================] - 0s 185ms/step - loss: 8.1719 - mean_squared_error: 8.1719 - val_loss: 7.0983 - val_mean_squared_error: 7.0983\n",
      "Epoch 4/10\n",
      "2/2 [==============================] - 0s 304ms/step - loss: 6.1677 - mean_squared_error: 6.1677 - val_loss: 5.4877 - val_mean_squared_error: 5.4877\n",
      "Epoch 5/10\n",
      "2/2 [==============================] - 0s 168ms/step - loss: 3.9598 - mean_squared_error: 3.9598 - val_loss: 3.9329 - val_mean_squared_error: 3.9329\n",
      "Epoch 6/10\n",
      "2/2 [==============================] - 0s 257ms/step - loss: 2.2357 - mean_squared_error: 2.2357 - val_loss: 2.8238 - val_mean_squared_error: 2.8238\n",
      "Epoch 7/10\n",
      "2/2 [==============================] - 0s 175ms/step - loss: 1.8064 - mean_squared_error: 1.8064 - val_loss: 2.4287 - val_mean_squared_error: 2.4287\n",
      "Epoch 8/10\n",
      "2/2 [==============================] - 0s 284ms/step - loss: 2.1927 - mean_squared_error: 2.1927 - val_loss: 2.3706 - val_mean_squared_error: 2.3706\n",
      "Epoch 9/10\n",
      "2/2 [==============================] - 0s 246ms/step - loss: 1.5667 - mean_squared_error: 1.5667 - val_loss: 2.4884 - val_mean_squared_error: 2.4884\n",
      "Epoch 10/10\n",
      "2/2 [==============================] - 0s 271ms/step - loss: 0.9478 - mean_squared_error: 0.9478 - val_loss: 2.7458 - val_mean_squared_error: 2.7458\n"
     ]
    }
   ],
   "source": [
    "session_num = 0\n",
    "\n",
    "for num_units in HP_NUM_UNITS.domain.values:\n",
    "    for dropout_rate in (HP_DROPOUT.domain.min_value, HP_DROPOUT.domain.max_value):\n",
    "        for learning_rate in HP_LEARNING_RATE.domain.values:\n",
    "#             for activation in HP_ACTIVATION.domain.values:\n",
    "            hparams = {\n",
    "                HP_NUM_UNITS: num_units,\n",
    "                HP_DROPOUT: dropout_rate,\n",
    "                HP_LEARNING_RATE: learning_rate,\n",
    "#                     HP_ACTIVATION: activation,\n",
    "            }\n",
    "\n",
    "            run_name = \"run-{}\".format(session_num)\n",
    "            print(\"----Starting trial: {}\".format(run_name))\n",
    "            print({h.name: hparams[h] for h in hparams})\n",
    "            run('logs/hparam_tuning/' + run_name, hparams, nmovie_id, nuser_id)\n",
    "            session_num += 1"
   ]
  },
  {
   "cell_type": "code",
   "execution_count": 27,
   "id": "e5a037a5",
   "metadata": {},
   "outputs": [
    {
     "data": {
      "text/plain": [
       "ERROR: Could not find `tensorboard`. Please ensure that your PATH\n",
       "contains an executable `tensorboard` program, or explicitly specify\n",
       "the path to a TensorBoard binary by setting the `TENSORBOARD_BINARY`\n",
       "environment variable."
      ]
     },
     "metadata": {},
     "output_type": "display_data"
    }
   ],
   "source": [
    "%tensorboard --logdir logs/hparam_tuning"
   ]
  },
  {
   "cell_type": "code",
   "execution_count": 28,
   "id": "da939d97",
   "metadata": {},
   "outputs": [],
   "source": [
    "import tensorboard"
   ]
  },
  {
   "cell_type": "code",
   "execution_count": 29,
   "id": "4aa4a67d",
   "metadata": {},
   "outputs": [
    {
     "data": {
      "text/plain": [
       "'/home/sahar/anaconda3/envs/tf_env/lib/python3.8/site-packages/tensorboard/__init__.py'"
      ]
     },
     "execution_count": 29,
     "metadata": {},
     "output_type": "execute_result"
    }
   ],
   "source": [
    "tensorboard.__file__"
   ]
  },
  {
   "cell_type": "code",
   "execution_count": 30,
   "id": "73a27d05",
   "metadata": {},
   "outputs": [],
   "source": [
    "import sys"
   ]
  },
  {
   "cell_type": "code",
   "execution_count": 31,
   "id": "57ed4a42",
   "metadata": {},
   "outputs": [
    {
     "data": {
      "text/plain": [
       "['/home/sahar/Documents/Springboard-Capstone-Three',\n",
       " '/home/sahar/anaconda3/envs/tf_env/lib/python38.zip',\n",
       " '/home/sahar/anaconda3/envs/tf_env/lib/python3.8',\n",
       " '/home/sahar/anaconda3/envs/tf_env/lib/python3.8/lib-dynload',\n",
       " '',\n",
       " '/home/sahar/anaconda3/envs/tf_env/lib/python3.8/site-packages',\n",
       " '/home/sahar/anaconda3/envs/tf_env/lib/python3.8/site-packages/IPython/extensions',\n",
       " '/home/sahar/.ipython']"
      ]
     },
     "execution_count": 31,
     "metadata": {},
     "output_type": "execute_result"
    }
   ],
   "source": [
    "sys.path"
   ]
  },
  {
   "cell_type": "code",
   "execution_count": 32,
   "id": "c567eed5",
   "metadata": {},
   "outputs": [],
   "source": [
    "from tensorboard import notebook"
   ]
  },
  {
   "cell_type": "code",
   "execution_count": 33,
   "id": "1f72d1aa",
   "metadata": {},
   "outputs": [
    {
     "name": "stdout",
     "output_type": "stream",
     "text": [
      "No known TensorBoard instances running.\n"
     ]
    }
   ],
   "source": [
    "notebook.list()"
   ]
  },
  {
   "cell_type": "code",
   "execution_count": null,
   "id": "98e69a3d",
   "metadata": {},
   "outputs": [],
   "source": []
  }
 ],
 "metadata": {
  "kernelspec": {
   "display_name": "tf_env",
   "language": "python",
   "name": "tf_env"
  },
  "language_info": {
   "codemirror_mode": {
    "name": "ipython",
    "version": 3
   },
   "file_extension": ".py",
   "mimetype": "text/x-python",
   "name": "python",
   "nbconvert_exporter": "python",
   "pygments_lexer": "ipython3",
   "version": "3.8.5"
  }
 },
 "nbformat": 4,
 "nbformat_minor": 5
}
