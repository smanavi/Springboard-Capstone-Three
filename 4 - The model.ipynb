{
 "cells": [
  {
   "cell_type": "markdown",
   "metadata": {},
   "source": [
    "A lot of the code for setting up the model is either taken from or inspired by this blog post: https://heartbeat.fritz.ai/build-train-and-deploy-a-book-recommender-system-using-keras-tensorflow-js-b96944b936a7"
   ]
  },
  {
   "cell_type": "markdown",
   "metadata": {},
   "source": [
    "### Imports"
   ]
  },
  {
   "cell_type": "code",
   "execution_count": 1,
   "metadata": {},
   "outputs": [],
   "source": [
    "import tensorflow as tf\n",
    "from tensorflow import keras\n",
    "\n",
    "import pandas as pd\n",
    "import numpy as np\n",
    "from sklearn.model_selection import train_test_split\n",
    "from sklearn.preprocessing import LabelEncoder\n",
    "\n",
    "import matplotlib.pyplot as plt\n",
    "import seaborn as sns\n",
    "\n",
    "import warnings\n",
    "warnings.filterwarnings('ignore')"
   ]
  },
  {
   "cell_type": "code",
   "execution_count": null,
   "metadata": {},
   "outputs": [],
   "source": [
    "import random\n",
    "from itertools import chain\n",
    "def flatten(list_of_lists):\n",
    "    \"Flatten one level of nesting\"\n",
    "    return chain.from_iterable(list_of_lists)"
   ]
  },
  {
   "cell_type": "markdown",
   "metadata": {},
   "source": [
    "### Data loading and prep"
   ]
  },
  {
   "cell_type": "code",
   "execution_count": null,
   "metadata": {},
   "outputs": [],
   "source": [
    "ratings = pd.read_pickle(\"./Data/reviews_20_1000_longform.pkl\")"
   ]
  },
  {
   "cell_type": "code",
   "execution_count": 6,
   "metadata": {},
   "outputs": [
    {
     "data": {
      "text/plain": [
       "(8854093, 3)"
      ]
     },
     "execution_count": 6,
     "metadata": {},
     "output_type": "execute_result"
    }
   ],
   "source": [
    "ratings.shape"
   ]
  },
  {
   "cell_type": "code",
   "execution_count": 7,
   "metadata": {},
   "outputs": [
    {
     "data": {
      "text/plain": [
       "(64815, 89418)"
      ]
     },
     "execution_count": 7,
     "metadata": {},
     "output_type": "execute_result"
    }
   ],
   "source": [
    "user_enc = LabelEncoder()\n",
    "ratings['user'] = user_enc.fit_transform(ratings['user_id'].values)\n",
    "n_users = ratings['user'].nunique()\n",
    "\n",
    "item_enc = LabelEncoder()\n",
    "ratings['movie'] = item_enc.fit_transform(ratings['movie_id'].values)\n",
    "n_movies = ratings['movie'].nunique()\n",
    "\n",
    "nmovie_id = ratings.movie_id.nunique()\n",
    "nuser_id = ratings.user_id.nunique()\n",
    "\n",
    "n_users, n_movies"
   ]
  },
  {
   "cell_type": "code",
   "execution_count": 45,
   "metadata": {},
   "outputs": [
    {
     "data": {
      "text/plain": [
       "(8854093, 5)"
      ]
     },
     "execution_count": 45,
     "metadata": {},
     "output_type": "execute_result"
    }
   ],
   "source": [
    "ratings.shape"
   ]
  },
  {
   "cell_type": "code",
   "execution_count": 8,
   "metadata": {},
   "outputs": [],
   "source": [
    "X_train, X_test = train_test_split(ratings[['movie', 'user', 'rating_score']], test_size=0.3, random_state=42)"
   ]
  },
  {
   "cell_type": "code",
   "execution_count": 9,
   "metadata": {},
   "outputs": [
    {
     "data": {
      "text/plain": [
       "((6197865, 3), (2656228, 3))"
      ]
     },
     "execution_count": 9,
     "metadata": {},
     "output_type": "execute_result"
    }
   ],
   "source": [
    "X_train.shape, X_test.shape"
   ]
  },
  {
   "cell_type": "markdown",
   "metadata": {},
   "source": [
    "### Train the model"
   ]
  },
  {
   "cell_type": "code",
   "execution_count": 7,
   "metadata": {},
   "outputs": [],
   "source": [
    "def train_test_model(output_bias):\n",
    "    \n",
    "    input_movies = keras.layers.Input(shape=[1])\n",
    "    embed_movies = keras.layers.Embedding(nmovie_id+1, 15)(input_movies)\n",
    "    movies_out = keras.layers.Flatten()(embed_movies)\n",
    "\n",
    "    input_users = keras.layers.Input(shape=[1])\n",
    "    embed_users = keras.layers.Embedding(nuser_id+1, 15)(input_users)\n",
    "    users_out = keras.layers.Flatten()(embed_users)\n",
    "\n",
    "    bias = keras.initializers.Constant(output_bias)\n",
    "    \n",
    "    conc_layer = keras.layers.Concatenate()([movies_out, users_out])\n",
    "    \n",
    "    dense1 = keras.layers.Dense(128,activation='relu', kernel_regularizer='l2')(conc_layer)\n",
    "    \n",
    "    dropout1 = keras.layers.Dropout(rate=.6, seed=42)(dense1)\n",
    "    \n",
    "    dense2 = keras.layers.Dense(64,activation='relu', kernel_regularizer='l2')(dropout1)\n",
    "    \n",
    "    dropout2 = keras.layers.Dropout(rate=.5, seed=42)(dense2)\n",
    "    \n",
    "    dense3 = keras.layers.Dense(32, activation='relu', kernel_regularizer='l2')(dropout2)\n",
    "    \n",
    "    dropout3 = keras.layers.Dropout(rate=.4, seed=42)(dense3)\n",
    "    \n",
    "    dense4 = keras.layers.Dense(16, activation='relu', kernel_regularizer='l2')(dropout3)\n",
    "    \n",
    "    x_out = keras.layers.Dense(1, activation='relu', kernel_regularizer='l2', bias_initializer=bias)(dense3)\n",
    "\n",
    "    model = keras.Model([input_movies, input_users], x_out)\n",
    "    \n",
    "    opt = tf.optimizers.Adam(learning_rate=.01)\n",
    "    model.compile(optimizer=opt, loss='mean_squared_error', metrics = keras.metrics.RootMeanSquaredError())\n",
    "\n",
    "    return model"
   ]
  },
  {
   "cell_type": "code",
   "execution_count": 12,
   "metadata": {},
   "outputs": [],
   "source": [
    "model = train_test_model(output_bias=7)"
   ]
  },
  {
   "cell_type": "code",
   "execution_count": 9,
   "metadata": {},
   "outputs": [
    {
     "name": "stdout",
     "output_type": "stream",
     "text": [
      "Model: \"model\"\n",
      "__________________________________________________________________________________________________\n",
      "Layer (type)                    Output Shape         Param #     Connected to                     \n",
      "==================================================================================================\n",
      "input_1 (InputLayer)            [(None, 1)]          0                                            \n",
      "__________________________________________________________________________________________________\n",
      "input_2 (InputLayer)            [(None, 1)]          0                                            \n",
      "__________________________________________________________________________________________________\n",
      "embedding (Embedding)           (None, 1, 15)        24735       input_1[0][0]                    \n",
      "__________________________________________________________________________________________________\n",
      "embedding_1 (Embedding)         (None, 1, 15)        35865       input_2[0][0]                    \n",
      "__________________________________________________________________________________________________\n",
      "flatten (Flatten)               (None, 15)           0           embedding[0][0]                  \n",
      "__________________________________________________________________________________________________\n",
      "flatten_1 (Flatten)             (None, 15)           0           embedding_1[0][0]                \n",
      "__________________________________________________________________________________________________\n",
      "concatenate (Concatenate)       (None, 30)           0           flatten[0][0]                    \n",
      "                                                                 flatten_1[0][0]                  \n",
      "__________________________________________________________________________________________________\n",
      "dense (Dense)                   (None, 128)          3968        concatenate[0][0]                \n",
      "__________________________________________________________________________________________________\n",
      "dropout (Dropout)               (None, 128)          0           dense[0][0]                      \n",
      "__________________________________________________________________________________________________\n",
      "dense_1 (Dense)                 (None, 64)           8256        dropout[0][0]                    \n",
      "__________________________________________________________________________________________________\n",
      "dropout_1 (Dropout)             (None, 64)           0           dense_1[0][0]                    \n",
      "__________________________________________________________________________________________________\n",
      "dense_2 (Dense)                 (None, 32)           2080        dropout_1[0][0]                  \n",
      "__________________________________________________________________________________________________\n",
      "dense_4 (Dense)                 (None, 1)            33          dense_2[0][0]                    \n",
      "==================================================================================================\n",
      "Total params: 74,937\n",
      "Trainable params: 74,937\n",
      "Non-trainable params: 0\n",
      "__________________________________________________________________________________________________\n"
     ]
    }
   ],
   "source": [
    "model.summary()"
   ]
  },
  {
   "cell_type": "code",
   "execution_count": 13,
   "metadata": {
    "scrolled": false
   },
   "outputs": [
    {
     "name": "stdout",
     "output_type": "stream",
     "text": [
      "Epoch 1/100\n",
      "1/1 [==============================] - 15s 15s/step - loss: 13.6929 - root_mean_squared_error: 3.4515 - val_loss: 12.5734 - val_root_mean_squared_error: 3.3108\n",
      "Epoch 2/100\n",
      "1/1 [==============================] - 10s 10s/step - loss: 12.5283 - root_mean_squared_error: 3.3040 - val_loss: 10.8730 - val_root_mean_squared_error: 3.0645\n",
      "Epoch 3/100\n",
      "1/1 [==============================] - 8s 8s/step - loss: 10.7937 - root_mean_squared_error: 3.0516 - val_loss: 8.1644 - val_root_mean_squared_error: 2.6034\n",
      "Epoch 4/100\n",
      "1/1 [==============================] - 8s 8s/step - loss: 8.1149 - root_mean_squared_error: 2.5939 - val_loss: 4.6072 - val_root_mean_squared_error: 1.8123\n",
      "Epoch 5/100\n",
      "1/1 [==============================] - 9s 9s/step - loss: 4.7049 - root_mean_squared_error: 1.8390 - val_loss: 2.5206 - val_root_mean_squared_error: 1.1123\n",
      "Epoch 6/100\n",
      "1/1 [==============================] - 8s 8s/step - loss: 3.1600 - root_mean_squared_error: 1.3699 - val_loss: 4.7601 - val_root_mean_squared_error: 1.8800\n",
      "Epoch 7/100\n",
      "1/1 [==============================] - 8s 8s/step - loss: 5.8082 - root_mean_squared_error: 2.1407 - val_loss: 3.1793 - val_root_mean_squared_error: 1.4259\n",
      "Epoch 8/100\n",
      "1/1 [==============================] - 8s 8s/step - loss: 4.1299 - root_mean_squared_error: 1.7274 - val_loss: 2.0364 - val_root_mean_squared_error: 0.9853\n",
      "Epoch 9/100\n",
      "1/1 [==============================] - 9s 9s/step - loss: 2.5956 - root_mean_squared_error: 1.2369 - val_loss: 2.3029 - val_root_mean_squared_error: 1.1443\n",
      "Epoch 10/100\n",
      "1/1 [==============================] - 8s 8s/step - loss: 2.5817 - root_mean_squared_error: 1.2602 - val_loss: 2.8726 - val_root_mean_squared_error: 1.3929\n",
      "Epoch 11/100\n",
      "1/1 [==============================] - 9s 9s/step - loss: 3.0212 - root_mean_squared_error: 1.4453 - val_loss: 3.1678 - val_root_mean_squared_error: 1.5121\n",
      "Epoch 12/100\n",
      "1/1 [==============================] - 8s 8s/step - loss: 3.2664 - root_mean_squared_error: 1.5443 - val_loss: 3.1112 - val_root_mean_squared_error: 1.5071\n",
      "Epoch 13/100\n",
      "1/1 [==============================] - 9s 9s/step - loss: 3.2054 - root_mean_squared_error: 1.5381 - val_loss: 2.7785 - val_root_mean_squared_error: 1.4045\n",
      "Epoch 14/100\n",
      "1/1 [==============================] - 9s 9s/step - loss: 2.9014 - root_mean_squared_error: 1.4476 - val_loss: 2.2950 - val_root_mean_squared_error: 1.2314\n",
      "Epoch 15/100\n",
      "1/1 [==============================] - 9s 9s/step - loss: 2.4775 - root_mean_squared_error: 1.3034 - val_loss: 1.8265 - val_root_mean_squared_error: 1.0340\n",
      "Epoch 16/100\n",
      "1/1 [==============================] - 9s 9s/step - loss: 2.1020 - root_mean_squared_error: 1.1596 - val_loss: 1.5563 - val_root_mean_squared_error: 0.9035\n",
      "Epoch 17/100\n",
      "1/1 [==============================] - 9s 9s/step - loss: 1.9537 - root_mean_squared_error: 1.1017 - val_loss: 1.5699 - val_root_mean_squared_error: 0.9194\n",
      "Epoch 18/100\n",
      "1/1 [==============================] - 9s 9s/step - loss: 2.0907 - root_mean_squared_error: 1.1689 - val_loss: 1.7049 - val_root_mean_squared_error: 0.9985\n",
      "Epoch 19/100\n",
      "1/1 [==============================] - 9s 9s/step - loss: 2.2998 - root_mean_squared_error: 1.2617 - val_loss: 1.6975 - val_root_mean_squared_error: 1.0044\n",
      "Epoch 20/100\n",
      "1/1 [==============================] - 9s 9s/step - loss: 2.2870 - root_mean_squared_error: 1.2642 - val_loss: 1.5316 - val_root_mean_squared_error: 0.9296\n",
      "Epoch 21/100\n",
      "1/1 [==============================] - 9s 9s/step - loss: 2.0514 - root_mean_squared_error: 1.1764 - val_loss: 1.3941 - val_root_mean_squared_error: 0.8654\n",
      "Epoch 22/100\n",
      "1/1 [==============================] - 9s 9s/step - loss: 1.8140 - root_mean_squared_error: 1.0811 - val_loss: 1.3992 - val_root_mean_squared_error: 0.8806\n",
      "Epoch 23/100\n",
      "1/1 [==============================] - 9s 9s/step - loss: 1.7210 - root_mean_squared_error: 1.0474 - val_loss: 1.5102 - val_root_mean_squared_error: 0.9518\n",
      "Epoch 24/100\n",
      "1/1 [==============================] - 9s 9s/step - loss: 1.7557 - root_mean_squared_error: 1.0730 - val_loss: 1.6308 - val_root_mean_squared_error: 1.0217\n",
      "Epoch 25/100\n",
      "1/1 [==============================] - 8s 8s/step - loss: 1.8292 - root_mean_squared_error: 1.1146 - val_loss: 1.6878 - val_root_mean_squared_error: 1.0563\n",
      "Epoch 26/100\n",
      "1/1 [==============================] - 9s 9s/step - loss: 1.8625 - root_mean_squared_error: 1.1360 - val_loss: 1.6552 - val_root_mean_squared_error: 1.0469\n",
      "Epoch 27/100\n",
      "1/1 [==============================] - 8s 8s/step - loss: 1.8267 - root_mean_squared_error: 1.1258 - val_loss: 1.5483 - val_root_mean_squared_error: 1.0000\n",
      "Epoch 28/100\n",
      "1/1 [==============================] - 9s 9s/step - loss: 1.7362 - root_mean_squared_error: 1.0898 - val_loss: 1.4122 - val_root_mean_squared_error: 0.9344\n",
      "Epoch 29/100\n",
      "1/1 [==============================] - 9s 9s/step - loss: 1.6313 - root_mean_squared_error: 1.0450 - val_loss: 1.3022 - val_root_mean_squared_error: 0.8782\n",
      "Epoch 30/100\n",
      "1/1 [==============================] - 9s 9s/step - loss: 1.5649 - root_mean_squared_error: 1.0168 - val_loss: 1.2543 - val_root_mean_squared_error: 0.8553\n",
      "Epoch 31/100\n",
      "1/1 [==============================] - 9s 9s/step - loss: 1.5588 - root_mean_squared_error: 1.0179 - val_loss: 1.2567 - val_root_mean_squared_error: 0.8619\n",
      "Epoch 32/100\n",
      "1/1 [==============================] - 9s 9s/step - loss: 1.5909 - root_mean_squared_error: 1.0379 - val_loss: 1.2602 - val_root_mean_squared_error: 0.8700\n",
      "Epoch 33/100\n",
      "1/1 [==============================] - 9s 9s/step - loss: 1.6020 - root_mean_squared_error: 1.0482 - val_loss: 1.2313 - val_root_mean_squared_error: 0.8604\n",
      "Epoch 34/100\n",
      "1/1 [==============================] - 9s 9s/step - loss: 1.5538 - root_mean_squared_error: 1.0309 - val_loss: 1.1948 - val_root_mean_squared_error: 0.8467\n",
      "Epoch 35/100\n",
      "1/1 [==============================] - 9s 9s/step - loss: 1.4779 - root_mean_squared_error: 1.0000 - val_loss: 1.1951 - val_root_mean_squared_error: 0.8546\n",
      "Epoch 36/100\n",
      "1/1 [==============================] - 9s 9s/step - loss: 1.4327 - root_mean_squared_error: 0.9838 - val_loss: 1.2343 - val_root_mean_squared_error: 0.8843\n",
      "Epoch 37/100\n",
      "1/1 [==============================] - 9s 9s/step - loss: 1.4312 - root_mean_squared_error: 0.9894 - val_loss: 1.2707 - val_root_mean_squared_error: 0.9111\n",
      "Epoch 38/100\n",
      "1/1 [==============================] - 9s 9s/step - loss: 1.4426 - root_mean_squared_error: 1.0009 - val_loss: 1.2672 - val_root_mean_squared_error: 0.9149\n",
      "Epoch 39/100\n",
      "1/1 [==============================] - 9s 9s/step - loss: 1.4310 - root_mean_squared_error: 1.0005 - val_loss: 1.2258 - val_root_mean_squared_error: 0.8974\n",
      "Epoch 40/100\n",
      "1/1 [==============================] - 9s 9s/step - loss: 1.3967 - root_mean_squared_error: 0.9880 - val_loss: 1.1720 - val_root_mean_squared_error: 0.8718\n",
      "Epoch 41/100\n",
      "1/1 [==============================] - 9s 9s/step - loss: 1.3586 - root_mean_squared_error: 0.9729 - val_loss: 1.1302 - val_root_mean_squared_error: 0.8521\n",
      "Epoch 42/100\n",
      "1/1 [==============================] - 9s 9s/step - loss: 1.3363 - root_mean_squared_error: 0.9655 - val_loss: 1.1095 - val_root_mean_squared_error: 0.8443\n",
      "Epoch 43/100\n",
      "1/1 [==============================] - 9s 9s/step - loss: 1.3317 - root_mean_squared_error: 0.9670 - val_loss: 1.1016 - val_root_mean_squared_error: 0.8441\n",
      "Epoch 44/100\n",
      "1/1 [==============================] - 9s 9s/step - loss: 1.3310 - root_mean_squared_error: 0.9705 - val_loss: 1.0934 - val_root_mean_squared_error: 0.8439\n",
      "Epoch 45/100\n",
      "1/1 [==============================] - 9s 9s/step - loss: 1.3194 - root_mean_squared_error: 0.9685 - val_loss: 1.0835 - val_root_mean_squared_error: 0.8429\n",
      "Epoch 46/100\n",
      "1/1 [==============================] - 9s 9s/step - loss: 1.2952 - root_mean_squared_error: 0.9603 - val_loss: 1.0795 - val_root_mean_squared_error: 0.8454\n",
      "Epoch 47/100\n",
      "1/1 [==============================] - 9s 9s/step - loss: 1.2722 - root_mean_squared_error: 0.9525 - val_loss: 1.0861 - val_root_mean_squared_error: 0.8539\n",
      "Epoch 48/100\n",
      "1/1 [==============================] - 9s 9s/step - loss: 1.2593 - root_mean_squared_error: 0.9500 - val_loss: 1.0982 - val_root_mean_squared_error: 0.8653\n",
      "Epoch 49/100\n",
      "1/1 [==============================] - 9s 9s/step - loss: 1.2543 - root_mean_squared_error: 0.9512 - val_loss: 1.1002 - val_root_mean_squared_error: 0.8704\n",
      "Epoch 50/100\n",
      "1/1 [==============================] - 9s 9s/step - loss: 1.2487 - root_mean_squared_error: 0.9518 - val_loss: 1.0858 - val_root_mean_squared_error: 0.8655\n",
      "Epoch 51/100\n",
      "1/1 [==============================] - 9s 9s/step - loss: 1.2354 - root_mean_squared_error: 0.9480 - val_loss: 1.0632 - val_root_mean_squared_error: 0.8555\n",
      "Epoch 52/100\n",
      "1/1 [==============================] - 9s 9s/step - loss: 1.2189 - root_mean_squared_error: 0.9422 - val_loss: 1.0429 - val_root_mean_squared_error: 0.8466\n",
      "Epoch 53/100\n",
      "1/1 [==============================] - 9s 9s/step - loss: 1.2066 - root_mean_squared_error: 0.9383 - val_loss: 1.0293 - val_root_mean_squared_error: 0.8414\n",
      "Epoch 54/100\n",
      "1/1 [==============================] - 9s 9s/step - loss: 1.1988 - root_mean_squared_error: 0.9368 - val_loss: 1.0213 - val_root_mean_squared_error: 0.8396\n",
      "Epoch 55/100\n",
      "1/1 [==============================] - 9s 9s/step - loss: 1.1937 - root_mean_squared_error: 0.9367 - val_loss: 1.0156 - val_root_mean_squared_error: 0.8394\n",
      "Epoch 56/100\n",
      "1/1 [==============================] - 9s 9s/step - loss: 1.1842 - root_mean_squared_error: 0.9344 - val_loss: 1.0114 - val_root_mean_squared_error: 0.8401\n",
      "Epoch 57/100\n",
      "1/1 [==============================] - 9s 9s/step - loss: 1.1716 - root_mean_squared_error: 0.9306 - val_loss: 1.0105 - val_root_mean_squared_error: 0.8429\n",
      "Epoch 58/100\n",
      "1/1 [==============================] - 9s 9s/step - loss: 1.1604 - root_mean_squared_error: 0.9276 - val_loss: 1.0136 - val_root_mean_squared_error: 0.8479\n",
      "Epoch 59/100\n",
      "1/1 [==============================] - 9s 9s/step - loss: 1.1542 - root_mean_squared_error: 0.9271 - val_loss: 1.0157 - val_root_mean_squared_error: 0.8521\n",
      "Epoch 60/100\n",
      "1/1 [==============================] - 9s 9s/step - loss: 1.1487 - root_mean_squared_error: 0.9269 - val_loss: 1.0110 - val_root_mean_squared_error: 0.8522\n",
      "Epoch 61/100\n",
      "1/1 [==============================] - 9s 9s/step - loss: 1.1412 - root_mean_squared_error: 0.9254 - val_loss: 0.9997 - val_root_mean_squared_error: 0.8481\n",
      "Epoch 62/100\n",
      "1/1 [==============================] - 9s 9s/step - loss: 1.1318 - root_mean_squared_error: 0.9226 - val_loss: 0.9873 - val_root_mean_squared_error: 0.8431\n",
      "Epoch 63/100\n",
      "1/1 [==============================] - 9s 9s/step - loss: 1.1223 - root_mean_squared_error: 0.9197 - val_loss: 0.9782 - val_root_mean_squared_error: 0.8401\n",
      "Epoch 64/100\n",
      "1/1 [==============================] - 9s 9s/step - loss: 1.1168 - root_mean_squared_error: 0.9190 - val_loss: 0.9727 - val_root_mean_squared_error: 0.8393\n",
      "Epoch 65/100\n",
      "1/1 [==============================] - 9s 9s/step - loss: 1.1106 - root_mean_squared_error: 0.9178 - val_loss: 0.9691 - val_root_mean_squared_error: 0.8396\n",
      "Epoch 66/100\n",
      "1/1 [==============================] - 9s 9s/step - loss: 1.1040 - root_mean_squared_error: 0.9164 - val_loss: 0.9673 - val_root_mean_squared_error: 0.8409\n",
      "Epoch 67/100\n",
      "1/1 [==============================] - 9s 9s/step - loss: 1.0966 - root_mean_squared_error: 0.9146 - val_loss: 0.9673 - val_root_mean_squared_error: 0.8433\n",
      "Epoch 68/100\n",
      "1/1 [==============================] - 9s 9s/step - loss: 1.0906 - root_mean_squared_error: 0.9135 - val_loss: 0.9670 - val_root_mean_squared_error: 0.8455\n",
      "Epoch 69/100\n",
      "1/1 [==============================] - 9s 9s/step - loss: 1.0864 - root_mean_squared_error: 0.9134 - val_loss: 0.9638 - val_root_mean_squared_error: 0.8457\n",
      "Epoch 70/100\n",
      "1/1 [==============================] - 9s 9s/step - loss: 1.0808 - root_mean_squared_error: 0.9123 - val_loss: 0.9575 - val_root_mean_squared_error: 0.8441\n",
      "Epoch 71/100\n",
      "1/1 [==============================] - 9s 9s/step - loss: 1.0750 - root_mean_squared_error: 0.9110 - val_loss: 0.9505 - val_root_mean_squared_error: 0.8419\n",
      "Epoch 72/100\n",
      "1/1 [==============================] - 8s 8s/step - loss: 1.0695 - root_mean_squared_error: 0.9099 - val_loss: 0.9449 - val_root_mean_squared_error: 0.8406\n",
      "Epoch 73/100\n",
      "1/1 [==============================] - 9s 9s/step - loss: 1.0651 - root_mean_squared_error: 0.9093 - val_loss: 0.9411 - val_root_mean_squared_error: 0.8402\n",
      "Epoch 74/100\n",
      "1/1 [==============================] - 9s 9s/step - loss: 1.0600 - root_mean_squared_error: 0.9082 - val_loss: 0.9385 - val_root_mean_squared_error: 0.8406\n",
      "Epoch 75/100\n",
      "1/1 [==============================] - 9s 9s/step - loss: 1.0552 - root_mean_squared_error: 0.9074 - val_loss: 0.9373 - val_root_mean_squared_error: 0.8418\n",
      "Epoch 76/100\n",
      "1/1 [==============================] - 8s 8s/step - loss: 1.0497 - root_mean_squared_error: 0.9061 - val_loss: 0.9369 - val_root_mean_squared_error: 0.8434\n",
      "Epoch 77/100\n",
      "1/1 [==============================] - 9s 9s/step - loss: 1.0463 - root_mean_squared_error: 0.9060 - val_loss: 0.9356 - val_root_mean_squared_error: 0.8444\n",
      "Epoch 78/100\n",
      "1/1 [==============================] - 9s 9s/step - loss: 1.0413 - root_mean_squared_error: 0.9049 - val_loss: 0.9321 - val_root_mean_squared_error: 0.8441\n",
      "Epoch 79/100\n",
      "1/1 [==============================] - 9s 9s/step - loss: 1.0374 - root_mean_squared_error: 0.9043 - val_loss: 0.9272 - val_root_mean_squared_error: 0.8428\n",
      "Epoch 80/100\n",
      "1/1 [==============================] - 9s 9s/step - loss: 1.0329 - root_mean_squared_error: 0.9033 - val_loss: 0.9226 - val_root_mean_squared_error: 0.8416\n",
      "Epoch 81/100\n",
      "1/1 [==============================] - 9s 9s/step - loss: 1.0284 - root_mean_squared_error: 0.9023 - val_loss: 0.9191 - val_root_mean_squared_error: 0.8411\n",
      "Epoch 82/100\n",
      "1/1 [==============================] - 9s 9s/step - loss: 1.0250 - root_mean_squared_error: 0.9018 - val_loss: 0.9169 - val_root_mean_squared_error: 0.8413\n",
      "Epoch 83/100\n",
      "1/1 [==============================] - 9s 9s/step - loss: 1.0214 - root_mean_squared_error: 0.9012 - val_loss: 0.9156 - val_root_mean_squared_error: 0.8420\n",
      "Epoch 84/100\n",
      "1/1 [==============================] - 9s 9s/step - loss: 1.0173 - root_mean_squared_error: 0.9004 - val_loss: 0.9150 - val_root_mean_squared_error: 0.8431\n"
     ]
    }
   ],
   "source": [
    "callback = keras.callbacks.EarlyStopping(monitor='val_root_mean_squared_error',\n",
    "                                        min_delta=.001,\n",
    "                                        patience=30,\n",
    "                                        mode=\"auto\",\n",
    "                                        restore_best_weights=True)\n",
    "\n",
    "output = model.fit([X_train.movie, X_train.user], \n",
    "                    X_train.rating_score,  \n",
    "                    batch_size=len(X_train), \n",
    "                    epochs=100, \n",
    "                    validation_split=.2,\n",
    "                    callbacks=[callback])"
   ]
  },
  {
   "cell_type": "code",
   "execution_count": 14,
   "metadata": {},
   "outputs": [
    {
     "data": {
      "text/plain": [
       "0.8396117091178894"
      ]
     },
     "execution_count": 14,
     "metadata": {},
     "output_type": "execute_result"
    }
   ],
   "source": [
    "callback.best"
   ]
  },
  {
   "cell_type": "markdown",
   "metadata": {},
   "source": [
    "### Evaluate model results"
   ]
  },
  {
   "cell_type": "code",
   "execution_count": 15,
   "metadata": {},
   "outputs": [
    {
     "data": {
      "image/png": "[encoded data removed]",
      "text/plain": [
       "<Figure size 720x216 with 2 Axes>"
      ]
     },
     "metadata": {
      "needs_background": "light"
     },
     "output_type": "display_data"
    }
   ],
   "source": [
    "fig, axs = plt.subplots(ncols=2, figsize=(10, 3))\n",
    "\n",
    "\n",
    "axs[0].plot(output.history['loss'], color='r')\n",
    "axs[0].plot(output.history['val_loss'], color='b')\n",
    "\n",
    "axs[1].plot(output.history['root_mean_squared_error'], color='r')\n",
    "axs[1].plot(output.history['val_root_mean_squared_error'], color='b')\n",
    "axs[1].axvline(np.where(output.history['val_root_mean_squared_error']==np.min(output.history['val_root_mean_squared_error'])), \n",
    "                 color='k', lw=1)\n",
    "axs[1].annotate(str(np.min(output.history['val_root_mean_squared_error'])),\n",
    "                    xy=(40,3),)\n",
    "\n",
    "axs[0].set_title(\"mse\")\n",
    "axs[1].set_title(\"rmse\")\n",
    "\n",
    "axs[0].set_ylim(0,10)\n",
    "axs[1].set_ylim(0,5)\n",
    "\n",
    "axs[1].axhline(1, color='k', lw=1)\n",
    "    \n",
    "plt.tight_layout()   \n",
    "plt.show()"
   ]
  },
  {
   "cell_type": "code",
   "execution_count": null,
   "metadata": {},
   "outputs": [],
   "source": []
  },
  {
   "cell_type": "code",
   "execution_count": null,
   "metadata": {},
   "outputs": [],
   "source": []
  },
  {
   "cell_type": "code",
   "execution_count": 19,
   "metadata": {},
   "outputs": [],
   "source": [
    "def is_close_enough(pred, ratings):\n",
    "    '''function to determine whether estimated ratings are close enough to actual ratings'''\n",
    "    val = []\n",
    "    for pair in zip(pred, ratings):\n",
    "        if pair[1] == 5:\n",
    "            val.append(pair[1] - 1 <= pair[0])\n",
    "        else:\n",
    "            val.append(pair[1] - .5 <= pair[0] <= pair[1] + .5)\n",
    "        \n",
    "    return val"
   ]
  },
  {
   "cell_type": "code",
   "execution_count": 18,
   "metadata": {},
   "outputs": [
    {
     "data": {
      "text/html": [
       "<div>\n",
       "<style scoped>\n",
       "    .dataframe tbody tr th:only-of-type {\n",
       "        vertical-align: middle;\n",
       "    }\n",
       "\n",
       "    .dataframe tbody tr th {\n",
       "        vertical-align: top;\n",
       "    }\n",
       "\n",
       "    .dataframe thead th {\n",
       "        text-align: right;\n",
       "    }\n",
       "</style>\n",
       "<table border=\"1\" class=\"dataframe\">\n",
       "  <thead>\n",
       "    <tr style=\"text-align: right;\">\n",
       "      <th></th>\n",
       "      <th>movie</th>\n",
       "      <th>rating_score</th>\n",
       "    </tr>\n",
       "    <tr>\n",
       "      <th>user</th>\n",
       "      <th></th>\n",
       "      <th></th>\n",
       "    </tr>\n",
       "  </thead>\n",
       "  <tbody>\n",
       "    <tr>\n",
       "      <th>49758</th>\n",
       "      <td>735</td>\n",
       "      <td>735</td>\n",
       "    </tr>\n",
       "    <tr>\n",
       "      <th>46967</th>\n",
       "      <td>734</td>\n",
       "      <td>734</td>\n",
       "    </tr>\n",
       "    <tr>\n",
       "      <th>14547</th>\n",
       "      <td>722</td>\n",
       "      <td>722</td>\n",
       "    </tr>\n",
       "    <tr>\n",
       "      <th>40854</th>\n",
       "      <td>719</td>\n",
       "      <td>719</td>\n",
       "    </tr>\n",
       "    <tr>\n",
       "      <th>20490</th>\n",
       "      <td>718</td>\n",
       "      <td>718</td>\n",
       "    </tr>\n",
       "  </tbody>\n",
       "</table>\n",
       "</div>"
      ],
      "text/plain": [
       "       movie  rating_score\n",
       "user                      \n",
       "49758    735           735\n",
       "46967    734           734\n",
       "14547    722           722\n",
       "40854    719           719\n",
       "20490    718           718"
      ]
     },
     "execution_count": 18,
     "metadata": {},
     "output_type": "execute_result"
    }
   ],
   "source": [
    "X_train.groupby('user').count().sort_values(by='movie',ascending=False).head()"
   ]
  },
  {
   "cell_type": "markdown",
   "metadata": {},
   "source": [
    "evaluate model for a single user"
   ]
  },
  {
   "cell_type": "code",
   "execution_count": 16,
   "metadata": {},
   "outputs": [
    {
     "data": {
      "text/html": [
       "<div>\n",
       "<style scoped>\n",
       "    .dataframe tbody tr th:only-of-type {\n",
       "        vertical-align: middle;\n",
       "    }\n",
       "\n",
       "    .dataframe tbody tr th {\n",
       "        vertical-align: top;\n",
       "    }\n",
       "\n",
       "    .dataframe thead th {\n",
       "        text-align: right;\n",
       "    }\n",
       "</style>\n",
       "<table border=\"1\" class=\"dataframe\">\n",
       "  <thead>\n",
       "    <tr style=\"text-align: right;\">\n",
       "      <th></th>\n",
       "      <th>movie_id</th>\n",
       "      <th>rating_score</th>\n",
       "      <th>user_id</th>\n",
       "      <th>user</th>\n",
       "      <th>movie</th>\n",
       "    </tr>\n",
       "  </thead>\n",
       "  <tbody>\n",
       "    <tr>\n",
       "      <th>13381</th>\n",
       "      <td>1085</td>\n",
       "      <td>4</td>\n",
       "      <td>89904558</td>\n",
       "      <td>58315</td>\n",
       "      <td>1038</td>\n",
       "    </tr>\n",
       "    <tr>\n",
       "      <th>19800</th>\n",
       "      <td>1094</td>\n",
       "      <td>4</td>\n",
       "      <td>89904558</td>\n",
       "      <td>58315</td>\n",
       "      <td>1047</td>\n",
       "    </tr>\n",
       "    <tr>\n",
       "      <th>23850</th>\n",
       "      <td>1099</td>\n",
       "      <td>2</td>\n",
       "      <td>89904558</td>\n",
       "      <td>58315</td>\n",
       "      <td>1052</td>\n",
       "    </tr>\n",
       "    <tr>\n",
       "      <th>35843</th>\n",
       "      <td>1103</td>\n",
       "      <td>5</td>\n",
       "      <td>89904558</td>\n",
       "      <td>58315</td>\n",
       "      <td>1056</td>\n",
       "    </tr>\n",
       "    <tr>\n",
       "      <th>48584</th>\n",
       "      <td>1116</td>\n",
       "      <td>3</td>\n",
       "      <td>89904558</td>\n",
       "      <td>58315</td>\n",
       "      <td>1069</td>\n",
       "    </tr>\n",
       "    <tr>\n",
       "      <th>...</th>\n",
       "      <td>...</td>\n",
       "      <td>...</td>\n",
       "      <td>...</td>\n",
       "      <td>...</td>\n",
       "      <td>...</td>\n",
       "    </tr>\n",
       "    <tr>\n",
       "      <th>15428890</th>\n",
       "      <td>981</td>\n",
       "      <td>2</td>\n",
       "      <td>89904558</td>\n",
       "      <td>58315</td>\n",
       "      <td>941</td>\n",
       "    </tr>\n",
       "    <tr>\n",
       "      <th>15489675</th>\n",
       "      <td>1046</td>\n",
       "      <td>3</td>\n",
       "      <td>89904558</td>\n",
       "      <td>58315</td>\n",
       "      <td>1002</td>\n",
       "    </tr>\n",
       "    <tr>\n",
       "      <th>15493413</th>\n",
       "      <td>1047</td>\n",
       "      <td>2</td>\n",
       "      <td>89904558</td>\n",
       "      <td>58315</td>\n",
       "      <td>1003</td>\n",
       "    </tr>\n",
       "    <tr>\n",
       "      <th>15498925</th>\n",
       "      <td>1049</td>\n",
       "      <td>2</td>\n",
       "      <td>89904558</td>\n",
       "      <td>58315</td>\n",
       "      <td>1005</td>\n",
       "    </tr>\n",
       "    <tr>\n",
       "      <th>15501406</th>\n",
       "      <td>1050</td>\n",
       "      <td>3</td>\n",
       "      <td>89904558</td>\n",
       "      <td>58315</td>\n",
       "      <td>1006</td>\n",
       "    </tr>\n",
       "  </tbody>\n",
       "</table>\n",
       "<p>998 rows × 5 columns</p>\n",
       "</div>"
      ],
      "text/plain": [
       "          movie_id  rating_score   user_id   user  movie\n",
       "13381         1085             4  89904558  58315   1038\n",
       "19800         1094             4  89904558  58315   1047\n",
       "23850         1099             2  89904558  58315   1052\n",
       "35843         1103             5  89904558  58315   1056\n",
       "48584         1116             3  89904558  58315   1069\n",
       "...            ...           ...       ...    ...    ...\n",
       "15428890       981             2  89904558  58315    941\n",
       "15489675      1046             3  89904558  58315   1002\n",
       "15493413      1047             2  89904558  58315   1003\n",
       "15498925      1049             2  89904558  58315   1005\n",
       "15501406      1050             3  89904558  58315   1006\n",
       "\n",
       "[998 rows x 5 columns]"
      ]
     },
     "execution_count": 16,
     "metadata": {},
     "output_type": "execute_result"
    }
   ],
   "source": [
    "user = 58315\n",
    "ratings[ratings.user==user]"
   ]
  },
  {
   "cell_type": "code",
   "execution_count": 17,
   "metadata": {},
   "outputs": [],
   "source": [
    "movie_array = ratings[ratings.user==user].movie.values.astype(int)\n",
    "user_array = np.array([int(user) for n in range(len(movie_array))])"
   ]
  },
  {
   "cell_type": "code",
   "execution_count": 18,
   "metadata": {},
   "outputs": [],
   "source": [
    "pred = model.predict([movie_array, user_array])"
   ]
  },
  {
   "cell_type": "code",
   "execution_count": 20,
   "metadata": {},
   "outputs": [],
   "source": [
    "val = is_close_enough(np.round(pred.flatten(), 1), ratings[ratings.user==user].rating_score.values)"
   ]
  },
  {
   "cell_type": "code",
   "execution_count": 21,
   "metadata": {},
   "outputs": [
    {
     "data": {
      "text/plain": [
       "0.5220440881763527"
      ]
     },
     "execution_count": 21,
     "metadata": {},
     "output_type": "execute_result"
    }
   ],
   "source": [
    "sum(val) / len(pred.flatten())"
   ]
  },
  {
   "cell_type": "code",
   "execution_count": 22,
   "metadata": {},
   "outputs": [
    {
     "data": {
      "image/png": "[encoded data removed]",
      "text/plain": [
       "<Figure size 432x288 with 1 Axes>"
      ]
     },
     "metadata": {
      "needs_background": "light"
     },
     "output_type": "display_data"
    }
   ],
   "source": [
    "sns.histplot(pred.flatten(), bins=4, color='red', fill=False)\n",
    "sns.histplot(X_train[X_train.user==user].rating_score.values, bins=5, color='blue', fill=False)\n",
    "\n",
    "plt.show()"
   ]
  },
  {
   "cell_type": "markdown",
   "metadata": {},
   "source": [
    "Evaluate model for the 20 users with the most ratings in this subset."
   ]
  },
  {
   "cell_type": "code",
   "execution_count": 23,
   "metadata": {},
   "outputs": [],
   "source": [
    "top_20_users = X_train.groupby('user').count().sort_values(by='movie',ascending=False).head(20).index"
   ]
  },
  {
   "cell_type": "code",
   "execution_count": 24,
   "metadata": {},
   "outputs": [
    {
     "name": "stdout",
     "output_type": "stream",
     "text": [
      "49758 0.40816326530612246\n",
      "46967 0.3896457765667575\n",
      "14547 0.3808864265927978\n",
      "40854 0.4297635605006954\n",
      "20490 0.3022284122562674\n",
      "13686 0.40585774058577406\n",
      "18058 0.3263598326359833\n",
      "28524 0.4167832167832168\n",
      "38238 0.3848314606741573\n",
      "13828 0.3693820224719101\n",
      "41054 0.41068917018284107\n",
      "1380 0.37799717912552894\n",
      "55147 0.3135593220338983\n",
      "10210 0.39745403111739747\n",
      "5321 0.371994342291372\n",
      "14125 0.4490084985835694\n",
      "6497 0.34844192634560905\n",
      "17796 0.4164305949008499\n",
      "59336 0.4156028368794326\n",
      "2488 0.5752840909090909\n"
     ]
    }
   ],
   "source": [
    "predictions = []\n",
    "\n",
    "for user in top_20_users:\n",
    "    movie_array = X_train[X_train.user==user].movie.values.astype(int)\n",
    "    user_array = np.array([int(user) for n in range(len(movie_array))])\n",
    "    pred = model.predict([movie_array, user_array])\n",
    "    val = is_close_enough(np.round(pred.flatten(), 1), ratings[ratings.user==user].rating_score.values)\n",
    "    \n",
    "    predictions.append(list(pred.flatten()))\n",
    "    print(user, sum(val) / len(pred.flatten()))"
   ]
  },
  {
   "cell_type": "code",
   "execution_count": 27,
   "metadata": {},
   "outputs": [
    {
     "data": {
      "image/png": "[encoded data removed]",
      "text/plain": [
       "<Figure size 432x288 with 1 Axes>"
      ]
     },
     "metadata": {
      "needs_background": "light"
     },
     "output_type": "display_data"
    }
   ],
   "source": [
    "sns.histplot(list(flatten(predictions)), bins=5, color='red', fill=False)\n",
    "sns.histplot(X_train[X_train.user.isin(top_20_users)].rating_score.values, bins=5, color='blue', fill=False)\n",
    "\n",
    "plt.show()"
   ]
  },
  {
   "cell_type": "markdown",
   "metadata": {},
   "source": [
    "Do the same, but for 20 random users. "
   ]
  },
  {
   "cell_type": "code",
   "execution_count": 33,
   "metadata": {},
   "outputs": [],
   "source": [
    "random_20_users = random.choices(X_train.user.unique(), k=20)"
   ]
  },
  {
   "cell_type": "code",
   "execution_count": 34,
   "metadata": {},
   "outputs": [
    {
     "name": "stdout",
     "output_type": "stream",
     "text": [
      "51322 0.4198473282442748\n",
      "10720 0.6046511627906976\n",
      "63366 0.38461538461538464\n",
      "28880 0.5384615384615384\n",
      "16810 0.5714285714285714\n",
      "61459 0.5263157894736842\n",
      "63212 0.6944444444444444\n",
      "22558 0.6513761467889908\n",
      "61437 0.7087378640776699\n",
      "3751 0.39285714285714285\n",
      "6251 0.8823529411764706\n",
      "2802 0.7428571428571429\n",
      "30134 0.4827586206896552\n",
      "16424 0.31718061674008813\n",
      "50910 0.3471882640586797\n",
      "52062 0.7058823529411765\n",
      "55578 0.8\n",
      "57625 0.8\n",
      "36341 0.6153846153846154\n",
      "19773 0.32\n"
     ]
    }
   ],
   "source": [
    "predictions = []\n",
    "\n",
    "for user in random_20_users:\n",
    "    movie_array = X_train[X_train.user==user].movie.values.astype(int)\n",
    "    user_array = np.array([int(user) for n in range(len(movie_array))])\n",
    "    pred = model.predict([movie_array, user_array])\n",
    "    val = is_close_enough(np.round(pred.flatten(), 1), ratings[ratings.user==user].rating_score.values)\n",
    "    \n",
    "    predictions.append(list(pred.flatten()))\n",
    "    print(user, sum(val) / len(pred.flatten()))"
   ]
  },
  {
   "cell_type": "code",
   "execution_count": 41,
   "metadata": {},
   "outputs": [
    {
     "data": {
      "image/png": "[encoded data removed]",
      "text/plain": [
       "<Figure size 432x288 with 1 Axes>"
      ]
     },
     "metadata": {
      "needs_background": "light"
     },
     "output_type": "display_data"
    }
   ],
   "source": [
    "sns.histplot(list(flatten(predictions)), bins=5, color='red', fill=False,\n",
    "            stat='density', common_norm=False)\n",
    "\n",
    "\n",
    "sns.histplot(X_train[X_train.user.isin(top_20_users)].rating_score.values, bins=5, color='blue', fill=False,\n",
    "            stat='density', common_norm=False)\n",
    "\n",
    "plt.show()"
   ]
  },
  {
   "cell_type": "markdown",
   "metadata": {},
   "source": [
    "### Save everything"
   ]
  },
  {
   "cell_type": "code",
   "execution_count": 42,
   "metadata": {},
   "outputs": [
    {
     "name": "stdout",
     "output_type": "stream",
     "text": [
      "INFO:tensorflow:Assets written to: saved_model/rmse_839/assets\n"
     ]
    }
   ],
   "source": [
    "!mkdir -p saved_model\n",
    "model.save('saved_model/rmse_839')"
   ]
  },
  {
   "cell_type": "code",
   "execution_count": 43,
   "metadata": {},
   "outputs": [],
   "source": [
    "model.save('saved_model/rmse_839/model.h5')"
   ]
  },
  {
   "cell_type": "code",
   "execution_count": 44,
   "metadata": {},
   "outputs": [],
   "source": [
    "pd.to_pickle(X_train, 'saved_model/rmse_839/X_train.pkl')\n",
    "pd.to_pickle(X_test, 'saved_model/rmse_839/X_test.pkl')"
   ]
  }
 ],
 "metadata": {
  "kernelspec": {
   "display_name": "keras",
   "language": "python",
   "name": "keras"
  },
  "language_info": {
   "codemirror_mode": {
    "name": "ipython",
    "version": 3
   },
   "file_extension": ".py",
   "mimetype": "text/x-python",
   "name": "python",
   "nbconvert_exporter": "python",
   "pygments_lexer": "ipython3",
   "version": "3.8.5"
  }
 },
 "nbformat": 4,
 "nbformat_minor": 5
}
