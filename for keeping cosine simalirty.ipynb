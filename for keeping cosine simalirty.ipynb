{
 "cells": [
  {
   "cell_type": "markdown",
   "metadata": {},
   "source": [
    "Exploring, cleaning, and wrangling just the numerical ratings from the MUBI database."
   ]
  },
  {
   "cell_type": "markdown",
   "metadata": {},
   "source": [
    "#### Imports"
   ]
  },
  {
   "cell_type": "code",
   "execution_count": 1,
   "metadata": {},
   "outputs": [],
   "source": [
    "%load_ext sql\n",
    "%sql sqlite:///Data//mubi_db.sqlite"
   ]
  },
  {
   "cell_type": "code",
   "execution_count": 2,
   "metadata": {},
   "outputs": [],
   "source": [
    "from sqlalchemy import create_engine\n",
    "conn = create_engine('sqlite:///Data//mubi_db.sqlite').connect()"
   ]
  },
  {
   "cell_type": "code",
   "execution_count": 3,
   "metadata": {},
   "outputs": [],
   "source": [
    "import pandas as pd\n",
    "import math\n",
    "import matplotlib.pyplot as plt\n",
    "import numpy as np\n",
    "import seaborn as sns\n",
    "import random"
   ]
  },
  {
   "cell_type": "code",
   "execution_count": 4,
   "metadata": {},
   "outputs": [],
   "source": [
    "from itertools import chain\n",
    "def flatten(list_of_lists):\n",
    "    \"Flatten one level of nesting\"\n",
    "    return chain.from_iterable(list_of_lists)"
   ]
  },
  {
   "cell_type": "markdown",
   "metadata": {},
   "source": [
    "#### Grab the data and import it into a dataframe"
   ]
  },
  {
   "cell_type": "code",
   "execution_count": 5,
   "metadata": {},
   "outputs": [],
   "source": [
    "q = \"SELECT movie_id, rating_score, user_id FROM ratings;\"\n",
    "df = pd.read_sql_query(q, conn)"
   ]
  },
  {
   "cell_type": "code",
   "execution_count": 6,
   "metadata": {},
   "outputs": [],
   "source": [
    "#Some people write reviews but don't give a numerical rating. \n",
    "#These are kept in the databse but I don't need them for now.\n",
    "df.dropna(inplace=True)"
   ]
  },
  {
   "cell_type": "code",
   "execution_count": 7,
   "metadata": {},
   "outputs": [
    {
     "name": "stdout",
     "output_type": "stream",
     "text": [
      "<class 'pandas.core.frame.DataFrame'>\n",
      "Int64Index: 15493274 entries, 0 to 15520004\n",
      "Data columns (total 3 columns):\n",
      " #   Column        Dtype  \n",
      "---  ------        -----  \n",
      " 0   movie_id      int64  \n",
      " 1   rating_score  float64\n",
      " 2   user_id       int64  \n",
      "dtypes: float64(1), int64(2)\n",
      "memory usage: 472.8 MB\n"
     ]
    }
   ],
   "source": [
    "df.info()"
   ]
  },
  {
   "cell_type": "code",
   "execution_count": 8,
   "metadata": {},
   "outputs": [],
   "source": [
    "#reduce memory load of the dataframe\n",
    "df['rating_score'] = df['rating_score'].astype('int8')\n",
    "df['movie_id'] = df['movie_id'].astype('int32')\n",
    "df['user_id'] = df['user_id'].astype('int32')"
   ]
  },
  {
   "cell_type": "code",
   "execution_count": 9,
   "metadata": {},
   "outputs": [
    {
     "name": "stdout",
     "output_type": "stream",
     "text": [
      "<class 'pandas.core.frame.DataFrame'>\n",
      "Int64Index: 15493274 entries, 0 to 15520004\n",
      "Data columns (total 3 columns):\n",
      " #   Column        Dtype\n",
      "---  ------        -----\n",
      " 0   movie_id      int32\n",
      " 1   rating_score  int8 \n",
      " 2   user_id       int32\n",
      "dtypes: int32(2), int8(1)\n",
      "memory usage: 251.2 MB\n"
     ]
    }
   ],
   "source": [
    "df.info()"
   ]
  },
  {
   "cell_type": "markdown",
   "metadata": {},
   "source": [
    "#### Look at users"
   ]
  },
  {
   "cell_type": "markdown",
   "metadata": {},
   "source": [
    "There are almost 450k unique users. the vast majority of them only have 1-2 ratings in the system. Some of them have 10s of thousands of ratings. I probably don't need to keep the extremes of these ranges on either end. "
   ]
  },
  {
   "cell_type": "code",
   "execution_count": 11,
   "metadata": {},
   "outputs": [
    {
     "data": {
      "text/plain": [
       "user_id\n",
       "12295046    19983\n",
       "2591449     17053\n",
       "24226320    11183\n",
       "35097747    11158\n",
       "92027428    10544\n",
       "            ...  \n",
       "46061762        1\n",
       "46062167        1\n",
       "46062375        1\n",
       "46062569        1\n",
       "99999860        1\n",
       "Name: rating_score, Length: 448627, dtype: int64"
      ]
     },
     "execution_count": 11,
     "metadata": {},
     "output_type": "execute_result"
    }
   ],
   "source": [
    "sorted_users = df.groupby('user_id').count()['rating_score'].sort_values(ascending=False)\n",
    "sorted_users"
   ]
  },
  {
   "cell_type": "code",
   "execution_count": 17,
   "metadata": {},
   "outputs": [
    {
     "data": {
      "text/plain": [
       "array([  5.  ,  11.  ,  41.  , 695.74])"
      ]
     },
     "execution_count": 17,
     "metadata": {},
     "output_type": "execute_result"
    }
   ],
   "source": [
    "np.quantile(sorted_users.values, [.7, .8, .9, .99])"
   ]
  },
  {
   "cell_type": "code",
   "execution_count": 18,
   "metadata": {},
   "outputs": [
    {
     "data": {
      "text/plain": [
       "142606"
      ]
     },
     "execution_count": 18,
     "metadata": {},
     "output_type": "execute_result"
    }
   ],
   "source": [
    "n_movies = len(df.movie_id.unique())\n",
    "n_movies"
   ]
  },
  {
   "cell_type": "markdown",
   "metadata": {},
   "source": [
    "I can do a comparison of how limiting the number of users via number of ratings will affect the number of unique movies in the reuslting dataset. I don't want to lose too many movies, but I also can't run the analyses on ALL this data. "
   ]
  },
  {
   "cell_type": "code",
   "execution_count": 37,
   "metadata": {},
   "outputs": [],
   "source": [
    "def percent_movies_kept(rating_percentile_range=(.5, .99), n_movies=n_movies):\n",
    "    '''\n",
    "    takes two percentiles (lower and upper bound), and the number of unique movies in the dataset.\n",
    "    returns the percentage of movies that will be kept if number of ratings is limited to the percentile ranges set.\n",
    "    also returns the length of the resulting dataframe (in long form)\n",
    "    '''\n",
    "    \n",
    "    upper = np.ceil(np.quantile(sorted_users.values, rating_percentile_range[1]))\n",
    "    lower = np.ceil(np.quantile(sorted_users.values, rating_percentile_range[0]))\n",
    "    \n",
    "    temp_users = sorted_users[(sorted_users.values<=upper)&(sorted_users.values>=lower)].index\n",
    "    movies_kept = df[df.user_id.isin(temp_users)]\n",
    "    \n",
    "    p_movies_kept = len(movies_kept.movie_id.unique()) / n_movies\n",
    "    \n",
    "    return p_movies_kept, len(movies_kept)"
   ]
  },
  {
   "cell_type": "code",
   "execution_count": 43,
   "metadata": {},
   "outputs": [],
   "source": [
    "upper_ranges = [.9, .92, .95, .97, .99]\n",
    "lower_ranges = [.4, .5, .6, .7, .75]"
   ]
  },
  {
   "cell_type": "code",
   "execution_count": 44,
   "metadata": {},
   "outputs": [],
   "source": [
    "range_combos = ((l,u) for l in lower_ranges for u in upper_ranges)\n",
    "\n",
    "percents = []\n",
    "for combo in range_combos:\n",
    "    p, l = percent_movies_kept(rating_percentile_range=combo)\n",
    "    percents.append((combo[0], combo[1], p, l))"
   ]
  },
  {
   "cell_type": "code",
   "execution_count": 45,
   "metadata": {},
   "outputs": [],
   "source": [
    "percents_df = pd.DataFrame(index = lower_ranges, columns=upper_ranges)\n",
    "for p in percents:\n",
    "    percents_df.at[p[0], p[1]] = p[2]"
   ]
  },
  {
   "cell_type": "code",
   "execution_count": 46,
   "metadata": {},
   "outputs": [
    {
     "data": {
      "text/html": [
       "<div>\n",
       "<style scoped>\n",
       "    .dataframe tbody tr th:only-of-type {\n",
       "        vertical-align: middle;\n",
       "    }\n",
       "\n",
       "    .dataframe tbody tr th {\n",
       "        vertical-align: top;\n",
       "    }\n",
       "\n",
       "    .dataframe thead th {\n",
       "        text-align: right;\n",
       "    }\n",
       "</style>\n",
       "<table border=\"1\" class=\"dataframe\">\n",
       "  <thead>\n",
       "    <tr style=\"text-align: right;\">\n",
       "      <th></th>\n",
       "      <th>0.90</th>\n",
       "      <th>0.92</th>\n",
       "      <th>0.95</th>\n",
       "      <th>0.97</th>\n",
       "      <th>0.99</th>\n",
       "    </tr>\n",
       "  </thead>\n",
       "  <tbody>\n",
       "    <tr>\n",
       "      <th>0.40</th>\n",
       "      <td>0.269869</td>\n",
       "      <td>0.29578</td>\n",
       "      <td>0.354389</td>\n",
       "      <td>0.425796</td>\n",
       "      <td>0.590361</td>\n",
       "    </tr>\n",
       "    <tr>\n",
       "      <th>0.50</th>\n",
       "      <td>0.234527</td>\n",
       "      <td>0.263972</td>\n",
       "      <td>0.328254</td>\n",
       "      <td>0.40452</td>\n",
       "      <td>0.576175</td>\n",
       "    </tr>\n",
       "    <tr>\n",
       "      <th>0.60</th>\n",
       "      <td>0.224079</td>\n",
       "      <td>0.254982</td>\n",
       "      <td>0.321389</td>\n",
       "      <td>0.399331</td>\n",
       "      <td>0.572928</td>\n",
       "    </tr>\n",
       "    <tr>\n",
       "      <th>0.70</th>\n",
       "      <td>0.212726</td>\n",
       "      <td>0.245445</td>\n",
       "      <td>0.314489</td>\n",
       "      <td>0.394338</td>\n",
       "      <td>0.570011</td>\n",
       "    </tr>\n",
       "    <tr>\n",
       "      <th>0.75</th>\n",
       "      <td>0.201268</td>\n",
       "      <td>0.236294</td>\n",
       "      <td>0.308185</td>\n",
       "      <td>0.389731</td>\n",
       "      <td>0.567374</td>\n",
       "    </tr>\n",
       "  </tbody>\n",
       "</table>\n",
       "</div>"
      ],
      "text/plain": [
       "          0.90      0.92      0.95      0.97      0.99\n",
       "0.40  0.269869   0.29578  0.354389  0.425796  0.590361\n",
       "0.50  0.234527  0.263972  0.328254   0.40452  0.576175\n",
       "0.60  0.224079  0.254982  0.321389  0.399331  0.572928\n",
       "0.70  0.212726  0.245445  0.314489  0.394338  0.570011\n",
       "0.75  0.201268  0.236294  0.308185  0.389731  0.567374"
      ]
     },
     "execution_count": 46,
     "metadata": {},
     "output_type": "execute_result"
    }
   ],
   "source": [
    "percents_df"
   ]
  },
  {
   "cell_type": "code",
   "execution_count": 51,
   "metadata": {
    "scrolled": true
   },
   "outputs": [],
   "source": [
    "longform_percents_df = pd.DataFrame(columns = [\"lower\", \"upper\", \"percent\", \"df_len\"], data = percents)"
   ]
  },
  {
   "cell_type": "code",
   "execution_count": 62,
   "metadata": {},
   "outputs": [
    {
     "data": {
      "image/png": "[encoded data removed]",
      "text/plain": [
       "<Figure size 1080x720 with 1 Axes>"
      ]
     },
     "metadata": {
      "needs_background": "light"
     },
     "output_type": "display_data"
    }
   ],
   "source": [
    "fig, ax = plt.subplots(figsize=(15,10))\n",
    "\n",
    "sns.scatterplot(data = longform_percents_df, \n",
    "                x='percent', y='df_len',\n",
    "               hue = 'lower',\n",
    "               style = 'upper',\n",
    "               s=200)\n",
    "plt.show()"
   ]
  },
  {
   "cell_type": "markdown",
   "metadata": {},
   "source": [
    "This is interesting but I do need the keep the business case in mind here. Having ready recommendations for users who have rated 100s, if not 1000s of movies is definitely desireable, but it's going to lead to better customer retention to be able to recommend movies to users with very few ratings. Enticing newer customers to stay is always a harder task than keeping long-standing customers (though long standing customers are obviously still very important!)"
   ]
  },
  {
   "cell_type": "markdown",
   "metadata": {},
   "source": [
    "So let's look at the actual numbers these percentiles represent. "
   ]
  },
  {
   "cell_type": "code",
   "execution_count": 65,
   "metadata": {},
   "outputs": [
    {
     "data": {
      "text/plain": [
       "array([  1.  ,   2.  ,   3.  ,   5.  ,   8.  , 695.74])"
      ]
     },
     "execution_count": 65,
     "metadata": {},
     "output_type": "execute_result"
    }
   ],
   "source": [
    "np.quantile(sorted_users.values, [.4, .5, .6, .7, .75, .99])"
   ]
  },
  {
   "cell_type": "markdown",
   "metadata": {},
   "source": [
    "It does not seem unreasonable to ask new members to rate at least 5 movies upon signing up if they want to take advantage of the recommender system. However, can we go lower than the 99th percentile (almost 700 ratings) while not losing too many unique movies in our list?"
   ]
  },
  {
   "cell_type": "code",
   "execution_count": 66,
   "metadata": {},
   "outputs": [],
   "source": [
    "upper_ranges = [.975, .98, .985, .99]\n",
    "lower_ranges = [.7]\n",
    "\n",
    "range_combos = ((l,u) for l in lower_ranges for u in upper_ranges)\n",
    "\n",
    "percents = []\n",
    "for combo in range_combos:\n",
    "    p, l = percent_movies_kept(rating_percentile_range=combo)\n",
    "    percents.append((combo[0], combo[1], p, l))"
   ]
  },
  {
   "cell_type": "code",
   "execution_count": 67,
   "metadata": {
    "scrolled": true
   },
   "outputs": [],
   "source": [
    "longform_percents_df = pd.DataFrame(columns = [\"lower\", \"upper\", \"percent\", \"df_len\"], data = percents)"
   ]
  },
  {
   "cell_type": "code",
   "execution_count": 73,
   "metadata": {},
   "outputs": [
    {
     "data": {
      "text/html": [
       "<div>\n",
       "<style scoped>\n",
       "    .dataframe tbody tr th:only-of-type {\n",
       "        vertical-align: middle;\n",
       "    }\n",
       "\n",
       "    .dataframe tbody tr th {\n",
       "        vertical-align: top;\n",
       "    }\n",
       "\n",
       "    .dataframe thead th {\n",
       "        text-align: right;\n",
       "    }\n",
       "</style>\n",
       "<table border=\"1\" class=\"dataframe\">\n",
       "  <thead>\n",
       "    <tr style=\"text-align: right;\">\n",
       "      <th></th>\n",
       "      <th>lower</th>\n",
       "      <th>upper</th>\n",
       "      <th>percent</th>\n",
       "      <th>df_len</th>\n",
       "    </tr>\n",
       "  </thead>\n",
       "  <tbody>\n",
       "    <tr>\n",
       "      <th>0</th>\n",
       "      <td>0.7</td>\n",
       "      <td>0.975</td>\n",
       "      <td>0.424470</td>\n",
       "      <td>5171865</td>\n",
       "    </tr>\n",
       "    <tr>\n",
       "      <th>1</th>\n",
       "      <td>0.7</td>\n",
       "      <td>0.980</td>\n",
       "      <td>0.464700</td>\n",
       "      <td>5914822</td>\n",
       "    </tr>\n",
       "    <tr>\n",
       "      <th>2</th>\n",
       "      <td>0.7</td>\n",
       "      <td>0.985</td>\n",
       "      <td>0.509102</td>\n",
       "      <td>6864260</td>\n",
       "    </tr>\n",
       "    <tr>\n",
       "      <th>3</th>\n",
       "      <td>0.7</td>\n",
       "      <td>0.990</td>\n",
       "      <td>0.570011</td>\n",
       "      <td>8168743</td>\n",
       "    </tr>\n",
       "  </tbody>\n",
       "</table>\n",
       "</div>"
      ],
      "text/plain": [
       "   lower  upper   percent   df_len\n",
       "0    0.7  0.975  0.424470  5171865\n",
       "1    0.7  0.980  0.464700  5914822\n",
       "2    0.7  0.985  0.509102  6864260\n",
       "3    0.7  0.990  0.570011  8168743"
      ]
     },
     "execution_count": 73,
     "metadata": {},
     "output_type": "execute_result"
    }
   ],
   "source": [
    "longform_percents_df"
   ]
  },
  {
   "cell_type": "code",
   "execution_count": 70,
   "metadata": {},
   "outputs": [
    {
     "data": {
      "image/png": "[encoded data removed]",
      "text/plain": [
       "<Figure size 576x432 with 1 Axes>"
      ]
     },
     "metadata": {
      "needs_background": "light"
     },
     "output_type": "display_data"
    }
   ],
   "source": [
    "fig, ax = plt.subplots(figsize=(8,6))\n",
    "\n",
    "sns.scatterplot(data = longform_percents_df, \n",
    "                x='percent', y='df_len',\n",
    "#                hue = 'lower',\n",
    "               style = 'upper',\n",
    "               s=200)\n",
    "plt.show()"
   ]
  },
  {
   "cell_type": "code",
   "execution_count": 74,
   "metadata": {},
   "outputs": [
    {
     "data": {
      "text/plain": [
       "81285.42"
      ]
     },
     "execution_count": 74,
     "metadata": {},
     "output_type": "execute_result"
    }
   ],
   "source": [
    "#unique movies kept if I put threshold at 99th percentile of ratings\n",
    "n_movies * .57"
   ]
  },
  {
   "cell_type": "code",
   "execution_count": 78,
   "metadata": {},
   "outputs": [
    {
     "data": {
      "text/plain": [
       "72729.06"
      ]
     },
     "execution_count": 78,
     "metadata": {},
     "output_type": "execute_result"
    }
   ],
   "source": [
    "#unique movies kept if I put threshold at 98.5th percentile of ratings\n",
    "n_movies * .51"
   ]
  },
  {
   "cell_type": "code",
   "execution_count": 79,
   "metadata": {},
   "outputs": [
    {
     "data": {
      "text/plain": [
       "array([  5., 490.])"
      ]
     },
     "execution_count": 79,
     "metadata": {},
     "output_type": "execute_result"
    }
   ],
   "source": [
    "#rating ranges to be kept\n",
    "np.quantile(sorted_users.values, [.7, .985])"
   ]
  },
  {
   "cell_type": "markdown",
   "metadata": {},
   "source": [
    "losing 1/2 a percent (~700 movies) of total unique movies but having over a million fewer entries in the dataframe seems like a legitimate tradeoff. "
   ]
  },
  {
   "cell_type": "code",
   "execution_count": null,
   "metadata": {},
   "outputs": [],
   "source": []
  },
  {
   "cell_type": "markdown",
   "metadata": {},
   "source": [
    "#### Create dataframe of \"moderate\" users"
   ]
  },
  {
   "cell_type": "code",
   "execution_count": 80,
   "metadata": {},
   "outputs": [],
   "source": [
    "moderate_users = sorted_users[(sorted_users.values<=490)&(sorted_users.values>=5)].index"
   ]
  },
  {
   "cell_type": "code",
   "execution_count": 81,
   "metadata": {},
   "outputs": [],
   "source": [
    "df_moderate = df[df.user_id.isin(moderate_users)]"
   ]
  },
  {
   "cell_type": "code",
   "execution_count": 82,
   "metadata": {},
   "outputs": [
    {
     "name": "stdout",
     "output_type": "stream",
     "text": [
      "<class 'pandas.core.frame.DataFrame'>\n",
      "Int64Index: 6864260 entries, 5 to 15520003\n",
      "Data columns (total 3 columns):\n",
      " #   Column        Dtype\n",
      "---  ------        -----\n",
      " 0   movie_id      int32\n",
      " 1   rating_score  int8 \n",
      " 2   user_id       int32\n",
      "dtypes: int32(2), int8(1)\n",
      "memory usage: 111.3 MB\n"
     ]
    }
   ],
   "source": [
    "df_moderate.info()"
   ]
  },
  {
   "cell_type": "code",
   "execution_count": 83,
   "metadata": {},
   "outputs": [
    {
     "data": {
      "text/plain": [
       "rating_score\n",
       "1     203016\n",
       "2     497319\n",
       "3    1529012\n",
       "4    2533516\n",
       "5    2101397\n",
       "Name: user_id, dtype: int64"
      ]
     },
     "execution_count": 83,
     "metadata": {},
     "output_type": "execute_result"
    }
   ],
   "source": [
    "df_moderate.groupby('rating_score').count()['user_id']"
   ]
  },
  {
   "cell_type": "code",
   "execution_count": 84,
   "metadata": {},
   "outputs": [
    {
     "data": {
      "text/html": [
       "<div>\n",
       "<style scoped>\n",
       "    .dataframe tbody tr th:only-of-type {\n",
       "        vertical-align: middle;\n",
       "    }\n",
       "\n",
       "    .dataframe tbody tr th {\n",
       "        vertical-align: top;\n",
       "    }\n",
       "\n",
       "    .dataframe thead th {\n",
       "        text-align: right;\n",
       "    }\n",
       "</style>\n",
       "<table border=\"1\" class=\"dataframe\">\n",
       "  <thead>\n",
       "    <tr style=\"text-align: right;\">\n",
       "      <th></th>\n",
       "      <th>movie_id</th>\n",
       "      <th>rating_score</th>\n",
       "      <th>user_id</th>\n",
       "    </tr>\n",
       "  </thead>\n",
       "  <tbody>\n",
       "    <tr>\n",
       "      <th>5</th>\n",
       "      <td>1066</td>\n",
       "      <td>4</td>\n",
       "      <td>97262846</td>\n",
       "    </tr>\n",
       "    <tr>\n",
       "      <th>8</th>\n",
       "      <td>1066</td>\n",
       "      <td>4</td>\n",
       "      <td>58420503</td>\n",
       "    </tr>\n",
       "    <tr>\n",
       "      <th>11</th>\n",
       "      <td>1066</td>\n",
       "      <td>2</td>\n",
       "      <td>15492642</td>\n",
       "    </tr>\n",
       "    <tr>\n",
       "      <th>12</th>\n",
       "      <td>1066</td>\n",
       "      <td>4</td>\n",
       "      <td>29755671</td>\n",
       "    </tr>\n",
       "    <tr>\n",
       "      <th>15</th>\n",
       "      <td>1066</td>\n",
       "      <td>3</td>\n",
       "      <td>93302487</td>\n",
       "    </tr>\n",
       "  </tbody>\n",
       "</table>\n",
       "</div>"
      ],
      "text/plain": [
       "    movie_id  rating_score   user_id\n",
       "5       1066             4  97262846\n",
       "8       1066             4  58420503\n",
       "11      1066             2  15492642\n",
       "12      1066             4  29755671\n",
       "15      1066             3  93302487"
      ]
     },
     "execution_count": 84,
     "metadata": {},
     "output_type": "execute_result"
    }
   ],
   "source": [
    "df_moderate.head()"
   ]
  },
  {
   "cell_type": "markdown",
   "metadata": {},
   "source": [
    "#### Generate some basic stats for these moderate users."
   ]
  },
  {
   "cell_type": "code",
   "execution_count": 87,
   "metadata": {},
   "outputs": [],
   "source": [
    "moderate_user_stats = pd.DataFrame(columns = ['mean_score', 'median_score', 'n_ratings'])\n",
    "moderate_user_stats['mean_score'] = df_moderate.groupby('user_id').mean()['rating_score']\n",
    "moderate_user_stats['median_score'] = df_moderate.groupby('user_id').median()['rating_score']\n",
    "moderate_user_stats['n_ratings'] = df_moderate.groupby('user_id').count()['rating_score']"
   ]
  },
  {
   "cell_type": "code",
   "execution_count": 88,
   "metadata": {},
   "outputs": [
    {
     "data": {
      "text/html": [
       "<div>\n",
       "<style scoped>\n",
       "    .dataframe tbody tr th:only-of-type {\n",
       "        vertical-align: middle;\n",
       "    }\n",
       "\n",
       "    .dataframe tbody tr th {\n",
       "        vertical-align: top;\n",
       "    }\n",
       "\n",
       "    .dataframe thead th {\n",
       "        text-align: right;\n",
       "    }\n",
       "</style>\n",
       "<table border=\"1\" class=\"dataframe\">\n",
       "  <thead>\n",
       "    <tr style=\"text-align: right;\">\n",
       "      <th></th>\n",
       "      <th>mean_score</th>\n",
       "      <th>median_score</th>\n",
       "      <th>n_ratings</th>\n",
       "    </tr>\n",
       "    <tr>\n",
       "      <th>user_id</th>\n",
       "      <th></th>\n",
       "      <th></th>\n",
       "      <th></th>\n",
       "    </tr>\n",
       "  </thead>\n",
       "  <tbody>\n",
       "    <tr>\n",
       "      <th>176</th>\n",
       "      <td>3.538462</td>\n",
       "      <td>3.0</td>\n",
       "      <td>13</td>\n",
       "    </tr>\n",
       "    <tr>\n",
       "      <th>2385</th>\n",
       "      <td>4.437500</td>\n",
       "      <td>5.0</td>\n",
       "      <td>16</td>\n",
       "    </tr>\n",
       "    <tr>\n",
       "      <th>3047</th>\n",
       "      <td>4.750000</td>\n",
       "      <td>5.0</td>\n",
       "      <td>8</td>\n",
       "    </tr>\n",
       "    <tr>\n",
       "      <th>5369</th>\n",
       "      <td>3.875000</td>\n",
       "      <td>4.0</td>\n",
       "      <td>8</td>\n",
       "    </tr>\n",
       "    <tr>\n",
       "      <th>7952</th>\n",
       "      <td>4.516129</td>\n",
       "      <td>5.0</td>\n",
       "      <td>31</td>\n",
       "    </tr>\n",
       "    <tr>\n",
       "      <th>...</th>\n",
       "      <td>...</td>\n",
       "      <td>...</td>\n",
       "      <td>...</td>\n",
       "    </tr>\n",
       "    <tr>\n",
       "      <th>99997323</th>\n",
       "      <td>3.970109</td>\n",
       "      <td>4.0</td>\n",
       "      <td>368</td>\n",
       "    </tr>\n",
       "    <tr>\n",
       "      <th>99997439</th>\n",
       "      <td>4.454545</td>\n",
       "      <td>5.0</td>\n",
       "      <td>11</td>\n",
       "    </tr>\n",
       "    <tr>\n",
       "      <th>99998012</th>\n",
       "      <td>4.272727</td>\n",
       "      <td>4.0</td>\n",
       "      <td>11</td>\n",
       "    </tr>\n",
       "    <tr>\n",
       "      <th>99998902</th>\n",
       "      <td>3.600000</td>\n",
       "      <td>4.0</td>\n",
       "      <td>5</td>\n",
       "    </tr>\n",
       "    <tr>\n",
       "      <th>99999515</th>\n",
       "      <td>4.000000</td>\n",
       "      <td>4.0</td>\n",
       "      <td>6</td>\n",
       "    </tr>\n",
       "  </tbody>\n",
       "</table>\n",
       "<p>141676 rows × 3 columns</p>\n",
       "</div>"
      ],
      "text/plain": [
       "          mean_score  median_score  n_ratings\n",
       "user_id                                      \n",
       "176         3.538462           3.0         13\n",
       "2385        4.437500           5.0         16\n",
       "3047        4.750000           5.0          8\n",
       "5369        3.875000           4.0          8\n",
       "7952        4.516129           5.0         31\n",
       "...              ...           ...        ...\n",
       "99997323    3.970109           4.0        368\n",
       "99997439    4.454545           5.0         11\n",
       "99998012    4.272727           4.0         11\n",
       "99998902    3.600000           4.0          5\n",
       "99999515    4.000000           4.0          6\n",
       "\n",
       "[141676 rows x 3 columns]"
      ]
     },
     "execution_count": 88,
     "metadata": {},
     "output_type": "execute_result"
    }
   ],
   "source": [
    "moderate_user_stats"
   ]
  },
  {
   "cell_type": "code",
   "execution_count": 105,
   "metadata": {},
   "outputs": [],
   "source": [
    "pd.to_pickle(df_moderate, \"/home/sahar/Documents/Springboard-Capstone-Three/Data/moderate_users_longform.pkl\")\n",
    "pd.to_pickle(moderate_user_stats, \"/home/sahar/Documents/Springboard-Capstone-Three/Data/moderate_user_stats.pkl\")"
   ]
  },
  {
   "cell_type": "markdown",
   "metadata": {},
   "source": [
    "This dataset is still far too large to pivot. I will have to take a subsample of it. "
   ]
  },
  {
   "cell_type": "markdown",
   "metadata": {},
   "source": [
    "a total of 250k rows seems to be the upper limit for the machine I'm working on. Since I'm subsampling anyway, I'll do an even selection across ratings. "
   ]
  },
  {
   "cell_type": "code",
   "execution_count": 89,
   "metadata": {},
   "outputs": [],
   "source": [
    "keepers = []\n",
    "for rating in df_moderate.rating_score.unique():\n",
    "    temp_df = df_moderate[df_moderate.rating_score==rating]\n",
    "    keepers.append(random.choices(temp_df.index, k=50000))\n",
    "    \n",
    "keepers = list(flatten(keepers))"
   ]
  },
  {
   "cell_type": "code",
   "execution_count": 91,
   "metadata": {},
   "outputs": [],
   "source": [
    "smaller_selection = df_moderate.loc[keepers].reset_index(drop=True)"
   ]
  },
  {
   "cell_type": "code",
   "execution_count": 92,
   "metadata": {},
   "outputs": [
    {
     "name": "stdout",
     "output_type": "stream",
     "text": [
      "<class 'pandas.core.frame.DataFrame'>\n",
      "RangeIndex: 250000 entries, 0 to 249999\n",
      "Data columns (total 3 columns):\n",
      " #   Column        Non-Null Count   Dtype\n",
      "---  ------        --------------   -----\n",
      " 0   movie_id      250000 non-null  int32\n",
      " 1   rating_score  250000 non-null  int8 \n",
      " 2   user_id       250000 non-null  int32\n",
      "dtypes: int32(2), int8(1)\n",
      "memory usage: 2.1 MB\n"
     ]
    }
   ],
   "source": [
    "smaller_selection.info()"
   ]
  },
  {
   "cell_type": "code",
   "execution_count": 93,
   "metadata": {},
   "outputs": [],
   "source": [
    "selection_pivot = smaller_selection.pivot_table(index='movie_id', columns='user_id', values='rating_score')"
   ]
  },
  {
   "cell_type": "code",
   "execution_count": 94,
   "metadata": {},
   "outputs": [
    {
     "name": "stdout",
     "output_type": "stream",
     "text": [
      "<class 'pandas.core.frame.DataFrame'>\n",
      "Int64Index: 23279 entries, 1 to 263673\n",
      "Columns: 68261 entries, 176 to 99999515\n",
      "dtypes: float64(68261)\n",
      "memory usage: 11.8 GB\n"
     ]
    }
   ],
   "source": [
    "selection_pivot.info()"
   ]
  },
  {
   "cell_type": "code",
   "execution_count": 95,
   "metadata": {},
   "outputs": [],
   "source": [
    "pd.to_pickle(selection_pivot, \"/home/sahar/Documents/Springboard-Capstone-Three/Data/even_selection_50k_pivot.pkl\")"
   ]
  },
  {
   "cell_type": "code",
   "execution_count": 96,
   "metadata": {},
   "outputs": [],
   "source": [
    "#oops, should have swapped the index and columns in the pivot creation\n",
    "selection_pivot = selection_pivot.T"
   ]
  },
  {
   "cell_type": "markdown",
   "metadata": {},
   "source": [
    "#### Center data around 0 and fill in missing values"
   ]
  },
  {
   "cell_type": "code",
   "execution_count": 100,
   "metadata": {},
   "outputs": [
    {
     "data": {
      "text/plain": [
       "user_id\n",
       "176         3.538462\n",
       "7952        4.516129\n",
       "11142       2.857143\n",
       "12546       3.430108\n",
       "13000       3.219178\n",
       "              ...   \n",
       "99991548    3.600000\n",
       "99993564    4.233438\n",
       "99996903    3.650794\n",
       "99997323    3.970109\n",
       "99999515    4.000000\n",
       "Name: mean_score, Length: 68261, dtype: float64"
      ]
     },
     "execution_count": 100,
     "metadata": {},
     "output_type": "execute_result"
    }
   ],
   "source": [
    "#take the overall mean scores of the users who are in this subselected table\n",
    "moderate_user_stats.loc[selection_pivot.index]['mean_score']"
   ]
  },
  {
   "cell_type": "code",
   "execution_count": 101,
   "metadata": {},
   "outputs": [],
   "source": [
    "#subtract these values from the pivot table to center everything around 0\n",
    "user_ratings_centered = selection_pivot.sub(moderate_user_stats.loc[selection_pivot.index]['mean_score'], \n",
    "                                            axis=0)"
   ]
  },
  {
   "cell_type": "code",
   "execution_count": 102,
   "metadata": {},
   "outputs": [],
   "source": [
    "#fill in the Nans with 0s, now that everything is centered. \n",
    "user_ratings_centered.fillna(0, inplace=True)"
   ]
  },
  {
   "cell_type": "code",
   "execution_count": 103,
   "metadata": {},
   "outputs": [
    {
     "data": {
      "text/html": [
       "<div>\n",
       "<style scoped>\n",
       "    .dataframe tbody tr th:only-of-type {\n",
       "        vertical-align: middle;\n",
       "    }\n",
       "\n",
       "    .dataframe tbody tr th {\n",
       "        vertical-align: top;\n",
       "    }\n",
       "\n",
       "    .dataframe thead th {\n",
       "        text-align: right;\n",
       "    }\n",
       "</style>\n",
       "<table border=\"1\" class=\"dataframe\">\n",
       "  <thead>\n",
       "    <tr style=\"text-align: right;\">\n",
       "      <th>movie_id</th>\n",
       "      <th>1</th>\n",
       "      <th>2</th>\n",
       "      <th>3</th>\n",
       "      <th>4</th>\n",
       "      <th>5</th>\n",
       "      <th>6</th>\n",
       "      <th>7</th>\n",
       "      <th>8</th>\n",
       "      <th>9</th>\n",
       "      <th>10</th>\n",
       "      <th>...</th>\n",
       "      <th>259238</th>\n",
       "      <th>259539</th>\n",
       "      <th>259542</th>\n",
       "      <th>259643</th>\n",
       "      <th>259786</th>\n",
       "      <th>260373</th>\n",
       "      <th>260892</th>\n",
       "      <th>261372</th>\n",
       "      <th>261524</th>\n",
       "      <th>263673</th>\n",
       "    </tr>\n",
       "    <tr>\n",
       "      <th>user_id</th>\n",
       "      <th></th>\n",
       "      <th></th>\n",
       "      <th></th>\n",
       "      <th></th>\n",
       "      <th></th>\n",
       "      <th></th>\n",
       "      <th></th>\n",
       "      <th></th>\n",
       "      <th></th>\n",
       "      <th></th>\n",
       "      <th></th>\n",
       "      <th></th>\n",
       "      <th></th>\n",
       "      <th></th>\n",
       "      <th></th>\n",
       "      <th></th>\n",
       "      <th></th>\n",
       "      <th></th>\n",
       "      <th></th>\n",
       "      <th></th>\n",
       "      <th></th>\n",
       "    </tr>\n",
       "  </thead>\n",
       "  <tbody>\n",
       "    <tr>\n",
       "      <th>176</th>\n",
       "      <td>0.0</td>\n",
       "      <td>0.0</td>\n",
       "      <td>0.0</td>\n",
       "      <td>0.0</td>\n",
       "      <td>0.0</td>\n",
       "      <td>0.0</td>\n",
       "      <td>0.0</td>\n",
       "      <td>0.0</td>\n",
       "      <td>0.0</td>\n",
       "      <td>0.0</td>\n",
       "      <td>...</td>\n",
       "      <td>0.0</td>\n",
       "      <td>0.0</td>\n",
       "      <td>0.0</td>\n",
       "      <td>0.0</td>\n",
       "      <td>0.0</td>\n",
       "      <td>0.0</td>\n",
       "      <td>0.0</td>\n",
       "      <td>0.0</td>\n",
       "      <td>0.0</td>\n",
       "      <td>0.0</td>\n",
       "    </tr>\n",
       "    <tr>\n",
       "      <th>7952</th>\n",
       "      <td>0.0</td>\n",
       "      <td>0.0</td>\n",
       "      <td>0.0</td>\n",
       "      <td>0.0</td>\n",
       "      <td>0.0</td>\n",
       "      <td>0.0</td>\n",
       "      <td>0.0</td>\n",
       "      <td>0.0</td>\n",
       "      <td>0.0</td>\n",
       "      <td>0.0</td>\n",
       "      <td>...</td>\n",
       "      <td>0.0</td>\n",
       "      <td>0.0</td>\n",
       "      <td>0.0</td>\n",
       "      <td>0.0</td>\n",
       "      <td>0.0</td>\n",
       "      <td>0.0</td>\n",
       "      <td>0.0</td>\n",
       "      <td>0.0</td>\n",
       "      <td>0.0</td>\n",
       "      <td>0.0</td>\n",
       "    </tr>\n",
       "    <tr>\n",
       "      <th>11142</th>\n",
       "      <td>0.0</td>\n",
       "      <td>0.0</td>\n",
       "      <td>0.0</td>\n",
       "      <td>0.0</td>\n",
       "      <td>0.0</td>\n",
       "      <td>0.0</td>\n",
       "      <td>0.0</td>\n",
       "      <td>0.0</td>\n",
       "      <td>0.0</td>\n",
       "      <td>0.0</td>\n",
       "      <td>...</td>\n",
       "      <td>0.0</td>\n",
       "      <td>0.0</td>\n",
       "      <td>0.0</td>\n",
       "      <td>0.0</td>\n",
       "      <td>0.0</td>\n",
       "      <td>0.0</td>\n",
       "      <td>0.0</td>\n",
       "      <td>0.0</td>\n",
       "      <td>0.0</td>\n",
       "      <td>0.0</td>\n",
       "    </tr>\n",
       "    <tr>\n",
       "      <th>12546</th>\n",
       "      <td>0.0</td>\n",
       "      <td>0.0</td>\n",
       "      <td>0.0</td>\n",
       "      <td>0.0</td>\n",
       "      <td>0.0</td>\n",
       "      <td>0.0</td>\n",
       "      <td>0.0</td>\n",
       "      <td>0.0</td>\n",
       "      <td>0.0</td>\n",
       "      <td>0.0</td>\n",
       "      <td>...</td>\n",
       "      <td>0.0</td>\n",
       "      <td>0.0</td>\n",
       "      <td>0.0</td>\n",
       "      <td>0.0</td>\n",
       "      <td>0.0</td>\n",
       "      <td>0.0</td>\n",
       "      <td>0.0</td>\n",
       "      <td>0.0</td>\n",
       "      <td>0.0</td>\n",
       "      <td>0.0</td>\n",
       "    </tr>\n",
       "    <tr>\n",
       "      <th>13000</th>\n",
       "      <td>0.0</td>\n",
       "      <td>0.0</td>\n",
       "      <td>0.0</td>\n",
       "      <td>0.0</td>\n",
       "      <td>0.0</td>\n",
       "      <td>0.0</td>\n",
       "      <td>0.0</td>\n",
       "      <td>0.0</td>\n",
       "      <td>0.0</td>\n",
       "      <td>0.0</td>\n",
       "      <td>...</td>\n",
       "      <td>0.0</td>\n",
       "      <td>0.0</td>\n",
       "      <td>0.0</td>\n",
       "      <td>0.0</td>\n",
       "      <td>0.0</td>\n",
       "      <td>0.0</td>\n",
       "      <td>0.0</td>\n",
       "      <td>0.0</td>\n",
       "      <td>0.0</td>\n",
       "      <td>0.0</td>\n",
       "    </tr>\n",
       "  </tbody>\n",
       "</table>\n",
       "<p>5 rows × 23279 columns</p>\n",
       "</div>"
      ],
      "text/plain": [
       "movie_id  1       2       3       4       5       6       7       8       \\\n",
       "user_id                                                                    \n",
       "176          0.0     0.0     0.0     0.0     0.0     0.0     0.0     0.0   \n",
       "7952         0.0     0.0     0.0     0.0     0.0     0.0     0.0     0.0   \n",
       "11142        0.0     0.0     0.0     0.0     0.0     0.0     0.0     0.0   \n",
       "12546        0.0     0.0     0.0     0.0     0.0     0.0     0.0     0.0   \n",
       "13000        0.0     0.0     0.0     0.0     0.0     0.0     0.0     0.0   \n",
       "\n",
       "movie_id  9       10      ...  259238  259539  259542  259643  259786  260373  \\\n",
       "user_id                   ...                                                   \n",
       "176          0.0     0.0  ...     0.0     0.0     0.0     0.0     0.0     0.0   \n",
       "7952         0.0     0.0  ...     0.0     0.0     0.0     0.0     0.0     0.0   \n",
       "11142        0.0     0.0  ...     0.0     0.0     0.0     0.0     0.0     0.0   \n",
       "12546        0.0     0.0  ...     0.0     0.0     0.0     0.0     0.0     0.0   \n",
       "13000        0.0     0.0  ...     0.0     0.0     0.0     0.0     0.0     0.0   \n",
       "\n",
       "movie_id  260892  261372  261524  263673  \n",
       "user_id                                   \n",
       "176          0.0     0.0     0.0     0.0  \n",
       "7952         0.0     0.0     0.0     0.0  \n",
       "11142        0.0     0.0     0.0     0.0  \n",
       "12546        0.0     0.0     0.0     0.0  \n",
       "13000        0.0     0.0     0.0     0.0  \n",
       "\n",
       "[5 rows x 23279 columns]"
      ]
     },
     "execution_count": 103,
     "metadata": {},
     "output_type": "execute_result"
    }
   ],
   "source": [
    "user_ratings_centered.head()"
   ]
  },
  {
   "cell_type": "code",
   "execution_count": 104,
   "metadata": {},
   "outputs": [],
   "source": [
    "pd.to_pickle(user_ratings_centered, \"/home/sahar/Documents/Springboard-Capstone-Three/Data/user_ratings_centered.pkl\")"
   ]
  },
  {
   "cell_type": "code",
   "execution_count": null,
   "metadata": {},
   "outputs": [],
   "source": []
  },
  {
   "cell_type": "code",
   "execution_count": 32,
   "metadata": {},
   "outputs": [],
   "source": [
    "from sklearn.metrics.pairwise import cosine_similarity"
   ]
  },
  {
   "cell_type": "code",
   "execution_count": 33,
   "metadata": {},
   "outputs": [],
   "source": [
    "similarities = cosine_similarity(user_ratings_centered)"
   ]
  },
  {
   "cell_type": "code",
   "execution_count": 34,
   "metadata": {},
   "outputs": [
    {
     "data": {
      "text/plain": [
       "(24699, 24699)"
      ]
     },
     "execution_count": 34,
     "metadata": {},
     "output_type": "execute_result"
    }
   ],
   "source": [
    "similarities.shape"
   ]
  },
  {
   "cell_type": "markdown",
   "metadata": {},
   "source": [
    "how similar the movies are to eachother"
   ]
  },
  {
   "cell_type": "code",
   "execution_count": 36,
   "metadata": {},
   "outputs": [],
   "source": [
    "sim_df = pd.DataFrame(similarities, index = user_ratings_centered.index, columns = user_ratings_centered.index)"
   ]
  },
  {
   "cell_type": "code",
   "execution_count": 37,
   "metadata": {},
   "outputs": [
    {
     "data": {
      "text/html": [
       "<div>\n",
       "<style scoped>\n",
       "    .dataframe tbody tr th:only-of-type {\n",
       "        vertical-align: middle;\n",
       "    }\n",
       "\n",
       "    .dataframe tbody tr th {\n",
       "        vertical-align: top;\n",
       "    }\n",
       "\n",
       "    .dataframe thead th {\n",
       "        text-align: right;\n",
       "    }\n",
       "</style>\n",
       "<table border=\"1\" class=\"dataframe\">\n",
       "  <thead>\n",
       "    <tr style=\"text-align: right;\">\n",
       "      <th></th>\n",
       "      <th>0</th>\n",
       "      <th>1</th>\n",
       "      <th>2</th>\n",
       "      <th>3</th>\n",
       "      <th>4</th>\n",
       "      <th>5</th>\n",
       "      <th>6</th>\n",
       "      <th>7</th>\n",
       "      <th>8</th>\n",
       "      <th>9</th>\n",
       "      <th>...</th>\n",
       "      <th>24689</th>\n",
       "      <th>24690</th>\n",
       "      <th>24691</th>\n",
       "      <th>24692</th>\n",
       "      <th>24693</th>\n",
       "      <th>24694</th>\n",
       "      <th>24695</th>\n",
       "      <th>24696</th>\n",
       "      <th>24697</th>\n",
       "      <th>24698</th>\n",
       "    </tr>\n",
       "    <tr>\n",
       "      <th>movie_id</th>\n",
       "      <th></th>\n",
       "      <th></th>\n",
       "      <th></th>\n",
       "      <th></th>\n",
       "      <th></th>\n",
       "      <th></th>\n",
       "      <th></th>\n",
       "      <th></th>\n",
       "      <th></th>\n",
       "      <th></th>\n",
       "      <th></th>\n",
       "      <th></th>\n",
       "      <th></th>\n",
       "      <th></th>\n",
       "      <th></th>\n",
       "      <th></th>\n",
       "      <th></th>\n",
       "      <th></th>\n",
       "      <th></th>\n",
       "      <th></th>\n",
       "      <th></th>\n",
       "    </tr>\n",
       "  </thead>\n",
       "  <tbody>\n",
       "    <tr>\n",
       "      <th>1</th>\n",
       "      <td>1.0</td>\n",
       "      <td>0.0</td>\n",
       "      <td>0.0</td>\n",
       "      <td>0.0</td>\n",
       "      <td>0.0</td>\n",
       "      <td>0.0</td>\n",
       "      <td>0.0</td>\n",
       "      <td>0.0</td>\n",
       "      <td>0.0</td>\n",
       "      <td>0.0</td>\n",
       "      <td>...</td>\n",
       "      <td>0.0</td>\n",
       "      <td>0.0</td>\n",
       "      <td>0.0</td>\n",
       "      <td>0.0</td>\n",
       "      <td>0.0</td>\n",
       "      <td>0.0</td>\n",
       "      <td>0.0</td>\n",
       "      <td>0.0</td>\n",
       "      <td>0.0</td>\n",
       "      <td>0.0</td>\n",
       "    </tr>\n",
       "    <tr>\n",
       "      <th>2</th>\n",
       "      <td>0.0</td>\n",
       "      <td>1.0</td>\n",
       "      <td>0.0</td>\n",
       "      <td>0.0</td>\n",
       "      <td>0.0</td>\n",
       "      <td>0.0</td>\n",
       "      <td>0.0</td>\n",
       "      <td>0.0</td>\n",
       "      <td>0.0</td>\n",
       "      <td>0.0</td>\n",
       "      <td>...</td>\n",
       "      <td>0.0</td>\n",
       "      <td>0.0</td>\n",
       "      <td>0.0</td>\n",
       "      <td>0.0</td>\n",
       "      <td>0.0</td>\n",
       "      <td>0.0</td>\n",
       "      <td>0.0</td>\n",
       "      <td>0.0</td>\n",
       "      <td>0.0</td>\n",
       "      <td>0.0</td>\n",
       "    </tr>\n",
       "    <tr>\n",
       "      <th>3</th>\n",
       "      <td>0.0</td>\n",
       "      <td>0.0</td>\n",
       "      <td>1.0</td>\n",
       "      <td>0.0</td>\n",
       "      <td>0.0</td>\n",
       "      <td>0.0</td>\n",
       "      <td>0.0</td>\n",
       "      <td>0.0</td>\n",
       "      <td>0.0</td>\n",
       "      <td>0.0</td>\n",
       "      <td>...</td>\n",
       "      <td>0.0</td>\n",
       "      <td>0.0</td>\n",
       "      <td>0.0</td>\n",
       "      <td>0.0</td>\n",
       "      <td>0.0</td>\n",
       "      <td>0.0</td>\n",
       "      <td>0.0</td>\n",
       "      <td>0.0</td>\n",
       "      <td>0.0</td>\n",
       "      <td>0.0</td>\n",
       "    </tr>\n",
       "    <tr>\n",
       "      <th>4</th>\n",
       "      <td>0.0</td>\n",
       "      <td>0.0</td>\n",
       "      <td>0.0</td>\n",
       "      <td>1.0</td>\n",
       "      <td>0.0</td>\n",
       "      <td>0.0</td>\n",
       "      <td>0.0</td>\n",
       "      <td>0.0</td>\n",
       "      <td>0.0</td>\n",
       "      <td>0.0</td>\n",
       "      <td>...</td>\n",
       "      <td>0.0</td>\n",
       "      <td>0.0</td>\n",
       "      <td>0.0</td>\n",
       "      <td>0.0</td>\n",
       "      <td>0.0</td>\n",
       "      <td>0.0</td>\n",
       "      <td>0.0</td>\n",
       "      <td>0.0</td>\n",
       "      <td>0.0</td>\n",
       "      <td>0.0</td>\n",
       "    </tr>\n",
       "    <tr>\n",
       "      <th>5</th>\n",
       "      <td>0.0</td>\n",
       "      <td>0.0</td>\n",
       "      <td>0.0</td>\n",
       "      <td>0.0</td>\n",
       "      <td>1.0</td>\n",
       "      <td>0.0</td>\n",
       "      <td>0.0</td>\n",
       "      <td>0.0</td>\n",
       "      <td>0.0</td>\n",
       "      <td>0.0</td>\n",
       "      <td>...</td>\n",
       "      <td>0.0</td>\n",
       "      <td>0.0</td>\n",
       "      <td>0.0</td>\n",
       "      <td>0.0</td>\n",
       "      <td>0.0</td>\n",
       "      <td>0.0</td>\n",
       "      <td>0.0</td>\n",
       "      <td>0.0</td>\n",
       "      <td>0.0</td>\n",
       "      <td>0.0</td>\n",
       "    </tr>\n",
       "  </tbody>\n",
       "</table>\n",
       "<p>5 rows × 24699 columns</p>\n",
       "</div>"
      ],
      "text/plain": [
       "          0      1      2      3      4      5      6      7      8      \\\n",
       "movie_id                                                                  \n",
       "1           1.0    0.0    0.0    0.0    0.0    0.0    0.0    0.0    0.0   \n",
       "2           0.0    1.0    0.0    0.0    0.0    0.0    0.0    0.0    0.0   \n",
       "3           0.0    0.0    1.0    0.0    0.0    0.0    0.0    0.0    0.0   \n",
       "4           0.0    0.0    0.0    1.0    0.0    0.0    0.0    0.0    0.0   \n",
       "5           0.0    0.0    0.0    0.0    1.0    0.0    0.0    0.0    0.0   \n",
       "\n",
       "          9      ...  24689  24690  24691  24692  24693  24694  24695  24696  \\\n",
       "movie_id         ...                                                           \n",
       "1           0.0  ...    0.0    0.0    0.0    0.0    0.0    0.0    0.0    0.0   \n",
       "2           0.0  ...    0.0    0.0    0.0    0.0    0.0    0.0    0.0    0.0   \n",
       "3           0.0  ...    0.0    0.0    0.0    0.0    0.0    0.0    0.0    0.0   \n",
       "4           0.0  ...    0.0    0.0    0.0    0.0    0.0    0.0    0.0    0.0   \n",
       "5           0.0  ...    0.0    0.0    0.0    0.0    0.0    0.0    0.0    0.0   \n",
       "\n",
       "          24697  24698  \n",
       "movie_id                \n",
       "1           0.0    0.0  \n",
       "2           0.0    0.0  \n",
       "3           0.0    0.0  \n",
       "4           0.0    0.0  \n",
       "5           0.0    0.0  \n",
       "\n",
       "[5 rows x 24699 columns]"
      ]
     },
     "execution_count": 37,
     "metadata": {},
     "output_type": "execute_result"
    }
   ],
   "source": [
    "sim_df.head()"
   ]
  },
  {
   "cell_type": "code",
   "execution_count": 40,
   "metadata": {},
   "outputs": [
    {
     "data": {
      "text/plain": [
       "4        1.000000\n",
       "704      0.612372\n",
       "923      0.500000\n",
       "680      0.343762\n",
       "348      0.316167\n",
       "           ...   \n",
       "17631   -0.180259\n",
       "6326    -0.250259\n",
       "11360   -0.288675\n",
       "20      -0.436436\n",
       "12782   -0.500000\n",
       "Name: 5, Length: 24699, dtype: float64"
      ]
     },
     "execution_count": 40,
     "metadata": {},
     "output_type": "execute_result"
    }
   ],
   "source": [
    "sim_df.loc[5].sort_values(ascending=False)"
   ]
  },
  {
   "cell_type": "code",
   "execution_count": 41,
   "metadata": {},
   "outputs": [],
   "source": [
    "pd.to_pickle(sim_df, \"/home/sahar/Documents/Springboard-Capstone-Three/Data/movies_cosine_sim.pkl\")"
   ]
  },
  {
   "cell_type": "code",
   "execution_count": 42,
   "metadata": {},
   "outputs": [],
   "source": [
    "del sim_df"
   ]
  },
  {
   "cell_type": "code",
   "execution_count": 43,
   "metadata": {},
   "outputs": [],
   "source": [
    "del similarities"
   ]
  },
  {
   "cell_type": "code",
   "execution_count": 46,
   "metadata": {},
   "outputs": [],
   "source": [
    "similarities = cosine_similarity(user_ratings_centered.T)"
   ]
  },
  {
   "cell_type": "code",
   "execution_count": 47,
   "metadata": {},
   "outputs": [
    {
     "data": {
      "text/plain": [
       "(63705, 63705)"
      ]
     },
     "execution_count": 47,
     "metadata": {},
     "output_type": "execute_result"
    }
   ],
   "source": [
    "similarities.shape"
   ]
  },
  {
   "cell_type": "code",
   "execution_count": 48,
   "metadata": {},
   "outputs": [],
   "source": [
    "sim_df = pd.DataFrame(similarities, index = user_ratings_centered.columns, columns = user_ratings_centered.columns)"
   ]
  },
  {
   "cell_type": "code",
   "execution_count": 49,
   "metadata": {},
   "outputs": [
    {
     "data": {
      "text/html": [
       "<div>\n",
       "<style scoped>\n",
       "    .dataframe tbody tr th:only-of-type {\n",
       "        vertical-align: middle;\n",
       "    }\n",
       "\n",
       "    .dataframe tbody tr th {\n",
       "        vertical-align: top;\n",
       "    }\n",
       "\n",
       "    .dataframe thead th {\n",
       "        text-align: right;\n",
       "    }\n",
       "</style>\n",
       "<table border=\"1\" class=\"dataframe\">\n",
       "  <thead>\n",
       "    <tr style=\"text-align: right;\">\n",
       "      <th>user_id</th>\n",
       "      <th>176</th>\n",
       "      <th>2385</th>\n",
       "      <th>11142</th>\n",
       "      <th>12546</th>\n",
       "      <th>13000</th>\n",
       "      <th>14464</th>\n",
       "      <th>14730</th>\n",
       "      <th>15264</th>\n",
       "      <th>20018</th>\n",
       "      <th>21050</th>\n",
       "      <th>...</th>\n",
       "      <th>99986847</th>\n",
       "      <th>99987648</th>\n",
       "      <th>99988216</th>\n",
       "      <th>99988462</th>\n",
       "      <th>99988585</th>\n",
       "      <th>99989323</th>\n",
       "      <th>99991548</th>\n",
       "      <th>99993564</th>\n",
       "      <th>99996903</th>\n",
       "      <th>99997323</th>\n",
       "    </tr>\n",
       "    <tr>\n",
       "      <th>user_id</th>\n",
       "      <th></th>\n",
       "      <th></th>\n",
       "      <th></th>\n",
       "      <th></th>\n",
       "      <th></th>\n",
       "      <th></th>\n",
       "      <th></th>\n",
       "      <th></th>\n",
       "      <th></th>\n",
       "      <th></th>\n",
       "      <th></th>\n",
       "      <th></th>\n",
       "      <th></th>\n",
       "      <th></th>\n",
       "      <th></th>\n",
       "      <th></th>\n",
       "      <th></th>\n",
       "      <th></th>\n",
       "      <th></th>\n",
       "      <th></th>\n",
       "      <th></th>\n",
       "    </tr>\n",
       "  </thead>\n",
       "  <tbody>\n",
       "    <tr>\n",
       "      <th>176</th>\n",
       "      <td>1.0</td>\n",
       "      <td>0.0</td>\n",
       "      <td>0.0</td>\n",
       "      <td>0.0</td>\n",
       "      <td>0.0</td>\n",
       "      <td>0.0</td>\n",
       "      <td>0.0</td>\n",
       "      <td>0.0</td>\n",
       "      <td>0.0</td>\n",
       "      <td>0.0</td>\n",
       "      <td>...</td>\n",
       "      <td>0.0</td>\n",
       "      <td>0.0</td>\n",
       "      <td>0.0</td>\n",
       "      <td>0.0</td>\n",
       "      <td>0.0</td>\n",
       "      <td>0.0</td>\n",
       "      <td>0.0</td>\n",
       "      <td>0.0</td>\n",
       "      <td>0.0</td>\n",
       "      <td>0.0</td>\n",
       "    </tr>\n",
       "    <tr>\n",
       "      <th>2385</th>\n",
       "      <td>0.0</td>\n",
       "      <td>1.0</td>\n",
       "      <td>0.0</td>\n",
       "      <td>0.0</td>\n",
       "      <td>0.0</td>\n",
       "      <td>0.0</td>\n",
       "      <td>0.0</td>\n",
       "      <td>0.0</td>\n",
       "      <td>0.0</td>\n",
       "      <td>0.0</td>\n",
       "      <td>...</td>\n",
       "      <td>0.0</td>\n",
       "      <td>0.0</td>\n",
       "      <td>0.0</td>\n",
       "      <td>0.0</td>\n",
       "      <td>0.0</td>\n",
       "      <td>0.0</td>\n",
       "      <td>0.0</td>\n",
       "      <td>0.0</td>\n",
       "      <td>0.0</td>\n",
       "      <td>0.0</td>\n",
       "    </tr>\n",
       "    <tr>\n",
       "      <th>11142</th>\n",
       "      <td>0.0</td>\n",
       "      <td>0.0</td>\n",
       "      <td>1.0</td>\n",
       "      <td>0.0</td>\n",
       "      <td>0.0</td>\n",
       "      <td>0.0</td>\n",
       "      <td>0.0</td>\n",
       "      <td>0.0</td>\n",
       "      <td>0.0</td>\n",
       "      <td>0.0</td>\n",
       "      <td>...</td>\n",
       "      <td>0.0</td>\n",
       "      <td>0.0</td>\n",
       "      <td>0.0</td>\n",
       "      <td>0.0</td>\n",
       "      <td>0.0</td>\n",
       "      <td>0.0</td>\n",
       "      <td>0.0</td>\n",
       "      <td>0.0</td>\n",
       "      <td>0.0</td>\n",
       "      <td>0.0</td>\n",
       "    </tr>\n",
       "    <tr>\n",
       "      <th>12546</th>\n",
       "      <td>0.0</td>\n",
       "      <td>0.0</td>\n",
       "      <td>0.0</td>\n",
       "      <td>1.0</td>\n",
       "      <td>0.0</td>\n",
       "      <td>0.0</td>\n",
       "      <td>0.0</td>\n",
       "      <td>0.0</td>\n",
       "      <td>0.0</td>\n",
       "      <td>0.0</td>\n",
       "      <td>...</td>\n",
       "      <td>0.0</td>\n",
       "      <td>0.0</td>\n",
       "      <td>0.0</td>\n",
       "      <td>0.0</td>\n",
       "      <td>0.0</td>\n",
       "      <td>0.0</td>\n",
       "      <td>0.0</td>\n",
       "      <td>0.0</td>\n",
       "      <td>0.0</td>\n",
       "      <td>0.0</td>\n",
       "    </tr>\n",
       "    <tr>\n",
       "      <th>13000</th>\n",
       "      <td>0.0</td>\n",
       "      <td>0.0</td>\n",
       "      <td>0.0</td>\n",
       "      <td>0.0</td>\n",
       "      <td>1.0</td>\n",
       "      <td>0.0</td>\n",
       "      <td>0.0</td>\n",
       "      <td>0.0</td>\n",
       "      <td>0.0</td>\n",
       "      <td>0.0</td>\n",
       "      <td>...</td>\n",
       "      <td>0.0</td>\n",
       "      <td>0.0</td>\n",
       "      <td>0.0</td>\n",
       "      <td>0.0</td>\n",
       "      <td>0.0</td>\n",
       "      <td>0.0</td>\n",
       "      <td>0.0</td>\n",
       "      <td>0.0</td>\n",
       "      <td>0.0</td>\n",
       "      <td>0.0</td>\n",
       "    </tr>\n",
       "  </tbody>\n",
       "</table>\n",
       "<p>5 rows × 63705 columns</p>\n",
       "</div>"
      ],
      "text/plain": [
       "user_id  176       2385      11142     12546     13000     14464     14730     \\\n",
       "user_id                                                                         \n",
       "176           1.0       0.0       0.0       0.0       0.0       0.0       0.0   \n",
       "2385          0.0       1.0       0.0       0.0       0.0       0.0       0.0   \n",
       "11142         0.0       0.0       1.0       0.0       0.0       0.0       0.0   \n",
       "12546         0.0       0.0       0.0       1.0       0.0       0.0       0.0   \n",
       "13000         0.0       0.0       0.0       0.0       1.0       0.0       0.0   \n",
       "\n",
       "user_id  15264     20018     21050     ...  99986847  99987648  99988216  \\\n",
       "user_id                                ...                                 \n",
       "176           0.0       0.0       0.0  ...       0.0       0.0       0.0   \n",
       "2385          0.0       0.0       0.0  ...       0.0       0.0       0.0   \n",
       "11142         0.0       0.0       0.0  ...       0.0       0.0       0.0   \n",
       "12546         0.0       0.0       0.0  ...       0.0       0.0       0.0   \n",
       "13000         0.0       0.0       0.0  ...       0.0       0.0       0.0   \n",
       "\n",
       "user_id  99988462  99988585  99989323  99991548  99993564  99996903  99997323  \n",
       "user_id                                                                        \n",
       "176           0.0       0.0       0.0       0.0       0.0       0.0       0.0  \n",
       "2385          0.0       0.0       0.0       0.0       0.0       0.0       0.0  \n",
       "11142         0.0       0.0       0.0       0.0       0.0       0.0       0.0  \n",
       "12546         0.0       0.0       0.0       0.0       0.0       0.0       0.0  \n",
       "13000         0.0       0.0       0.0       0.0       0.0       0.0       0.0  \n",
       "\n",
       "[5 rows x 63705 columns]"
      ]
     },
     "execution_count": 49,
     "metadata": {},
     "output_type": "execute_result"
    }
   ],
   "source": [
    "sim_df.head()"
   ]
  },
  {
   "cell_type": "code",
   "execution_count": 57,
   "metadata": {},
   "outputs": [],
   "source": [
    "pd.to_pickle(sim_df, \"/home/sahar/Documents/Springboard-Capstone-Three/Data/users_cosine_sim.pkl\")"
   ]
  },
  {
   "cell_type": "code",
   "execution_count": 59,
   "metadata": {},
   "outputs": [],
   "source": [
    "import gc"
   ]
  },
  {
   "cell_type": "code",
   "execution_count": 60,
   "metadata": {},
   "outputs": [],
   "source": [
    "del sim_df\n",
    "del similarities\n",
    "del selection_pivot"
   ]
  },
  {
   "cell_type": "code",
   "execution_count": 61,
   "metadata": {},
   "outputs": [
    {
     "data": {
      "text/plain": [
       "140"
      ]
     },
     "execution_count": 61,
     "metadata": {},
     "output_type": "execute_result"
    }
   ],
   "source": [
    "gc.collect()"
   ]
  },
  {
   "cell_type": "code",
   "execution_count": 56,
   "metadata": {},
   "outputs": [],
   "source": [
    "del dups_mask"
   ]
  },
  {
   "cell_type": "code",
   "execution_count": null,
   "metadata": {},
   "outputs": [],
   "source": []
  },
  {
   "cell_type": "code",
   "execution_count": 54,
   "metadata": {},
   "outputs": [],
   "source": [
    "dups_mask = user_ratings_centered.T.duplicated(keep='first')"
   ]
  },
  {
   "cell_type": "code",
   "execution_count": null,
   "metadata": {},
   "outputs": [],
   "source": []
  },
  {
   "cell_type": "code",
   "execution_count": null,
   "metadata": {},
   "outputs": [],
   "source": []
  },
  {
   "cell_type": "code",
   "execution_count": 4,
   "metadata": {},
   "outputs": [
    {
     "name": "stdout",
     "output_type": "stream",
     "text": [
      " * sqlite:///Data//mubi_db.sqlite\n",
      "Done.\n"
     ]
    },
    {
     "data": {
      "text/html": [
       "<table>\n",
       "    <tr>\n",
       "        <th>movie_id</th>\n",
       "        <th>rating_id</th>\n",
       "        <th>rating_url</th>\n",
       "        <th>rating_score</th>\n",
       "        <th>rating_timestamp_utc</th>\n",
       "        <th>critic</th>\n",
       "        <th>critic_likes</th>\n",
       "        <th>critic_comments</th>\n",
       "        <th>user_id</th>\n",
       "        <th>user_trialist</th>\n",
       "        <th>user_subscriber</th>\n",
       "        <th>user_eligible_for_trial</th>\n",
       "        <th>user_has_payment_method</th>\n",
       "    </tr>\n",
       "    <tr>\n",
       "        <td>1066</td>\n",
       "        <td>15610495</td>\n",
       "        <td>http://mubi.com/films/pavee-lackeen-the-traveller-girl/ratings/15610495</td>\n",
       "        <td>3.0</td>\n",
       "        <td>2017-06-10 12:38:33</td>\n",
       "        <td>None</td>\n",
       "        <td>0</td>\n",
       "        <td>0</td>\n",
       "        <td>41579158</td>\n",
       "        <td>0</td>\n",
       "        <td>0</td>\n",
       "        <td>1</td>\n",
       "        <td>0</td>\n",
       "    </tr>\n",
       "    <tr>\n",
       "        <td>1066</td>\n",
       "        <td>10704606</td>\n",
       "        <td>http://mubi.com/films/pavee-lackeen-the-traveller-girl/ratings/10704606</td>\n",
       "        <td>2.0</td>\n",
       "        <td>2014-08-15 23:42:31</td>\n",
       "        <td>None</td>\n",
       "        <td>0</td>\n",
       "        <td>0</td>\n",
       "        <td>85981819</td>\n",
       "        <td>1</td>\n",
       "        <td>1</td>\n",
       "        <td>0</td>\n",
       "        <td>1</td>\n",
       "    </tr>\n",
       "    <tr>\n",
       "        <td>1066</td>\n",
       "        <td>10177114</td>\n",
       "        <td>http://mubi.com/films/pavee-lackeen-the-traveller-girl/ratings/10177114</td>\n",
       "        <td>2.0</td>\n",
       "        <td>2014-01-30 13:21:57</td>\n",
       "        <td>None</td>\n",
       "        <td>0</td>\n",
       "        <td>0</td>\n",
       "        <td>4208563</td>\n",
       "        <td>0</td>\n",
       "        <td>0</td>\n",
       "        <td>1</td>\n",
       "        <td>1</td>\n",
       "    </tr>\n",
       "    <tr>\n",
       "        <td>1066</td>\n",
       "        <td>10130280</td>\n",
       "        <td>http://mubi.com/films/pavee-lackeen-the-traveller-girl/ratings/10130280</td>\n",
       "        <td>3.0</td>\n",
       "        <td>2014-01-19 01:04:23</td>\n",
       "        <td>I am a bit disappointed by this documentary film I&#x27;ve been wanting to watch for years as it is way less informative than I had imagined and rather cheaply made technically speaking. Otherwise it is O.K. and rather interesting.</td>\n",
       "        <td>0</td>\n",
       "        <td>0</td>\n",
       "        <td>9820140</td>\n",
       "        <td>0</td>\n",
       "        <td>0</td>\n",
       "        <td>1</td>\n",
       "        <td>0</td>\n",
       "    </tr>\n",
       "    <tr>\n",
       "        <td>1066</td>\n",
       "        <td>8357049</td>\n",
       "        <td>http://mubi.com/films/pavee-lackeen-the-traveller-girl/ratings/8357049</td>\n",
       "        <td>4.0</td>\n",
       "        <td>2012-10-02 18:28:47</td>\n",
       "        <td>None</td>\n",
       "        <td>0</td>\n",
       "        <td>0</td>\n",
       "        <td>68654088</td>\n",
       "        <td>0</td>\n",
       "        <td>0</td>\n",
       "        <td>1</td>\n",
       "        <td>1</td>\n",
       "    </tr>\n",
       "</table>"
      ],
      "text/plain": [
       "[(1066, 15610495, 'http://mubi.com/films/pavee-lackeen-the-traveller-girl/ratings/15610495', 3.0, '2017-06-10 12:38:33', None, 0, 0, 41579158, 0, 0, 1, 0),\n",
       " (1066, 10704606, 'http://mubi.com/films/pavee-lackeen-the-traveller-girl/ratings/10704606', 2.0, '2014-08-15 23:42:31', None, 0, 0, 85981819, 1, 1, 0, 1),\n",
       " (1066, 10177114, 'http://mubi.com/films/pavee-lackeen-the-traveller-girl/ratings/10177114', 2.0, '2014-01-30 13:21:57', None, 0, 0, 4208563, 0, 0, 1, 1),\n",
       " (1066, 10130280, 'http://mubi.com/films/pavee-lackeen-the-traveller-girl/ratings/10130280', 3.0, '2014-01-19 01:04:23', \"I am a bit disappointed by this documentary film I've been wanting to watch for years as it is way less informative than I had imagined and rather cheaply made technically speaking. Otherwise it is O.K. and rather interesting.\", 0, 0, 9820140, 0, 0, 1, 0),\n",
       " (1066, 8357049, 'http://mubi.com/films/pavee-lackeen-the-traveller-girl/ratings/8357049', 4.0, '2012-10-02 18:28:47', None, 0, 0, 68654088, 0, 0, 1, 1)]"
      ]
     },
     "execution_count": 4,
     "metadata": {},
     "output_type": "execute_result"
    }
   ],
   "source": [
    "%%sql\n",
    "\n",
    "SELECT *\n",
    "FROM ratings\n",
    "LIMIT 5;"
   ]
  },
  {
   "cell_type": "code",
   "execution_count": 4,
   "metadata": {},
   "outputs": [
    {
     "name": "stdout",
     "output_type": "stream",
     "text": [
      " * sqlite:///Data//mubi_db.sqlite\n",
      "Done.\n"
     ]
    },
    {
     "data": {
      "text/html": [
       "<table>\n",
       "    <thead>\n",
       "        <tr>\n",
       "            <th>movie_count</th>\n",
       "            <th>user_count</th>\n",
       "        </tr>\n",
       "    </thead>\n",
       "    <tbody>\n",
       "        <tr>\n",
       "            <td>142698</td>\n",
       "            <td>451757</td>\n",
       "        </tr>\n",
       "    </tbody>\n",
       "</table>"
      ],
      "text/plain": [
       "[(142698, 451757)]"
      ]
     },
     "execution_count": 4,
     "metadata": {},
     "output_type": "execute_result"
    }
   ],
   "source": [
    "%%sql\n",
    "\n",
    "SELECT \n",
    "    COUNT(DISTINCT movie_id) as movie_count,\n",
    "    COUNT(DISTINCT user_id) as user_count\n",
    "FROM ratings;"
   ]
  },
  {
   "cell_type": "code",
   "execution_count": null,
   "metadata": {},
   "outputs": [],
   "source": []
  },
  {
   "cell_type": "code",
   "execution_count": 6,
   "metadata": {},
   "outputs": [
    {
     "name": "stdout",
     "output_type": "stream",
     "text": [
      " * sqlite:///Data//mubi_db.sqlite\n",
      "Done.\n"
     ]
    },
    {
     "data": {
      "text/html": [
       "<table>\n",
       "    <thead>\n",
       "        <tr>\n",
       "            <th>movie_id</th>\n",
       "            <th>rating_score</th>\n",
       "            <th>user_id</th>\n",
       "        </tr>\n",
       "    </thead>\n",
       "    <tbody>\n",
       "        <tr>\n",
       "            <td>1066</td>\n",
       "            <td>3.0</td>\n",
       "            <td>41579158</td>\n",
       "        </tr>\n",
       "        <tr>\n",
       "            <td>1066</td>\n",
       "            <td>2.0</td>\n",
       "            <td>85981819</td>\n",
       "        </tr>\n",
       "        <tr>\n",
       "            <td>1066</td>\n",
       "            <td>2.0</td>\n",
       "            <td>4208563</td>\n",
       "        </tr>\n",
       "        <tr>\n",
       "            <td>1066</td>\n",
       "            <td>3.0</td>\n",
       "            <td>9820140</td>\n",
       "        </tr>\n",
       "        <tr>\n",
       "            <td>1066</td>\n",
       "            <td>4.0</td>\n",
       "            <td>68654088</td>\n",
       "        </tr>\n",
       "        <tr>\n",
       "            <td>1066</td>\n",
       "            <td>4.0</td>\n",
       "            <td>97262846</td>\n",
       "        </tr>\n",
       "        <tr>\n",
       "            <td>1066</td>\n",
       "            <td>4.0</td>\n",
       "            <td>52128819</td>\n",
       "        </tr>\n",
       "        <tr>\n",
       "            <td>1066</td>\n",
       "            <td>3.0</td>\n",
       "            <td>57756708</td>\n",
       "        </tr>\n",
       "        <tr>\n",
       "            <td>1066</td>\n",
       "            <td>4.0</td>\n",
       "            <td>58420503</td>\n",
       "        </tr>\n",
       "        <tr>\n",
       "            <td>1066</td>\n",
       "            <td>3.0</td>\n",
       "            <td>78114925</td>\n",
       "        </tr>\n",
       "    </tbody>\n",
       "</table>"
      ],
      "text/plain": [
       "[(1066, 3.0, 41579158),\n",
       " (1066, 2.0, 85981819),\n",
       " (1066, 2.0, 4208563),\n",
       " (1066, 3.0, 9820140),\n",
       " (1066, 4.0, 68654088),\n",
       " (1066, 4.0, 97262846),\n",
       " (1066, 4.0, 52128819),\n",
       " (1066, 3.0, 57756708),\n",
       " (1066, 4.0, 58420503),\n",
       " (1066, 3.0, 78114925)]"
      ]
     },
     "execution_count": 6,
     "metadata": {},
     "output_type": "execute_result"
    }
   ],
   "source": [
    "%%sql\n",
    "\n",
    "SELECT\n",
    "    movie_id,\n",
    "    rating_score,\n",
    "    user_id\n",
    "FROM ratings\n",
    "LIMIT 10;"
   ]
  },
  {
   "cell_type": "code",
   "execution_count": null,
   "metadata": {},
   "outputs": [],
   "source": []
  },
  {
   "cell_type": "code",
   "execution_count": 4,
   "metadata": {},
   "outputs": [],
   "source": [
    "q = \"SELECT movie_id, rating_score, user_id FROM ratings;\""
   ]
  },
  {
   "cell_type": "code",
   "execution_count": 5,
   "metadata": {},
   "outputs": [],
   "source": [
    "df = pd.read_sql_query(q, conn)"
   ]
  },
  {
   "cell_type": "code",
   "execution_count": 7,
   "metadata": {
    "scrolled": true
   },
   "outputs": [
    {
     "data": {
      "text/plain": [
       "(15520005, 3)"
      ]
     },
     "execution_count": 7,
     "metadata": {},
     "output_type": "execute_result"
    }
   ],
   "source": [
    "df.shape"
   ]
  },
  {
   "cell_type": "code",
   "execution_count": 8,
   "metadata": {},
   "outputs": [
    {
     "name": "stdout",
     "output_type": "stream",
     "text": [
      "<class 'pandas.core.frame.DataFrame'>\n",
      "RangeIndex: 15520005 entries, 0 to 15520004\n",
      "Data columns (total 3 columns):\n",
      " #   Column        Dtype  \n",
      "---  ------        -----  \n",
      " 0   movie_id      int64  \n",
      " 1   rating_score  float64\n",
      " 2   user_id       int64  \n",
      "dtypes: float64(1), int64(2)\n",
      "memory usage: 355.2 MB\n"
     ]
    }
   ],
   "source": [
    "df.info()"
   ]
  },
  {
   "cell_type": "code",
   "execution_count": 11,
   "metadata": {},
   "outputs": [
    {
     "data": {
      "text/plain": [
       "array([ 3.,  2.,  4.,  5., nan,  1.])"
      ]
     },
     "execution_count": 11,
     "metadata": {},
     "output_type": "execute_result"
    }
   ],
   "source": [
    "df.rating_score.unique()"
   ]
  },
  {
   "cell_type": "code",
   "execution_count": 6,
   "metadata": {},
   "outputs": [],
   "source": [
    "df.dropna(inplace=True)"
   ]
  },
  {
   "cell_type": "code",
   "execution_count": 10,
   "metadata": {},
   "outputs": [
    {
     "data": {
      "text/plain": [
       "(15493274, 3)"
      ]
     },
     "execution_count": 10,
     "metadata": {},
     "output_type": "execute_result"
    }
   ],
   "source": [
    "df.shape"
   ]
  },
  {
   "cell_type": "code",
   "execution_count": 7,
   "metadata": {},
   "outputs": [
    {
     "data": {
      "text/plain": [
       "user_id\n",
       "12295046    19983\n",
       "2591449     17053\n",
       "24226320    11183\n",
       "35097747    11158\n",
       "92027428    10544\n",
       "            ...  \n",
       "46061762        1\n",
       "46062167        1\n",
       "46062375        1\n",
       "46062569        1\n",
       "99999860        1\n",
       "Name: rating_score, Length: 448627, dtype: int64"
      ]
     },
     "execution_count": 7,
     "metadata": {},
     "output_type": "execute_result"
    }
   ],
   "source": [
    "sorted_users = df.groupby('user_id').count()['rating_score'].sort_values(ascending=False)\n",
    "sorted_users"
   ]
  },
  {
   "cell_type": "code",
   "execution_count": 12,
   "metadata": {},
   "outputs": [
    {
     "data": {
      "text/plain": [
       "134206"
      ]
     },
     "execution_count": 12,
     "metadata": {},
     "output_type": "execute_result"
    }
   ],
   "source": [
    "len(sorted_users[sorted_users.values>5])"
   ]
  },
  {
   "cell_type": "code",
   "execution_count": 13,
   "metadata": {},
   "outputs": [
    {
     "data": {
      "image/png": "[encoded data removed]",
      "text/plain": [
       "<Figure size 432x288 with 1 Axes>"
      ]
     },
     "metadata": {
      "needs_background": "light"
     },
     "output_type": "display_data"
    }
   ],
   "source": [
    "sorted_users[sorted_users.values<6].plot(kind=\"hist\", bins=5)\n",
    "plt.xticks([1,2,3,4,5])\n",
    "plt.show()"
   ]
  },
  {
   "cell_type": "code",
   "execution_count": 14,
   "metadata": {},
   "outputs": [
    {
     "data": {
      "image/png": "[encoded data removed]",
      "text/plain": [
       "<Figure size 432x288 with 1 Axes>"
      ]
     },
     "metadata": {
      "needs_background": "light"
     },
     "output_type": "display_data"
    }
   ],
   "source": [
    "sorted_users[(sorted_users.values<=100)&(sorted_users.values>5)].plot(kind=\"hist\")\n",
    "# plt.xticks([1,2,3,4,5])\n",
    "plt.show()"
   ]
  },
  {
   "cell_type": "code",
   "execution_count": 33,
   "metadata": {},
   "outputs": [
    {
     "data": {
      "text/plain": [
       "695.7399999999907"
      ]
     },
     "execution_count": 33,
     "metadata": {},
     "output_type": "execute_result"
    }
   ],
   "source": [
    "np.quantile(sorted_users.values, .99)"
   ]
  },
  {
   "cell_type": "code",
   "execution_count": 34,
   "metadata": {},
   "outputs": [
    {
     "data": {
      "image/png": "[encoded data removed]",
      "text/plain": [
       "<Figure size 1080x720 with 1 Axes>"
      ]
     },
     "metadata": {
      "needs_background": "light"
     },
     "output_type": "display_data"
    }
   ],
   "source": [
    "fig, ax = plt.subplots(figsize=(15,10))\n",
    "plt.plot(range(len(sorted_users)), sorted_users.values[::-1], marker='o')\n",
    "ax.axhline(696)\n",
    "plt.show()"
   ]
  },
  {
   "cell_type": "code",
   "execution_count": 35,
   "metadata": {},
   "outputs": [
    {
     "data": {
      "image/png": "[encoded data removed]",
      "text/plain": [
       "<Figure size 1080x720 with 1 Axes>"
      ]
     },
     "metadata": {
      "needs_background": "light"
     },
     "output_type": "display_data"
    }
   ],
   "source": [
    "fig, ax = plt.subplots(figsize=(15,10))\n",
    "plt.plot(range(len(sorted_users[(sorted_users.values<=696)&(sorted_users.values>5)])), sorted_users[(sorted_users.values<=696)&(sorted_users.values>5)][::-1], marker='o')\n",
    "# ax.axhline(696)\n",
    "plt.show()"
   ]
  },
  {
   "cell_type": "code",
   "execution_count": 36,
   "metadata": {},
   "outputs": [
    {
     "data": {
      "image/png": "[encoded data removed]",
      "text/plain": [
       "<Figure size 432x288 with 1 Axes>"
      ]
     },
     "metadata": {
      "needs_background": "light"
     },
     "output_type": "display_data"
    }
   ],
   "source": [
    "plt.hist(sorted_users[(sorted_users.values<=696)&(sorted_users.values>5)], bins=25)\n",
    "plt.show()"
   ]
  },
  {
   "cell_type": "code",
   "execution_count": 8,
   "metadata": {},
   "outputs": [],
   "source": [
    "moderate_users = sorted_users[(sorted_users.values<=696)&(sorted_users.values>5)].index"
   ]
  },
  {
   "cell_type": "code",
   "execution_count": 16,
   "metadata": {},
   "outputs": [
    {
     "data": {
      "image/png": "[encoded data removed]",
      "text/plain": [
       "<Figure size 720x360 with 2 Axes>"
      ]
     },
     "metadata": {
      "needs_background": "light"
     },
     "output_type": "display_data"
    }
   ],
   "source": [
    "fig, axs = plt.subplots(ncols=2, figsize=(10,5))\n",
    "sns.countplot(data=df, x=\"rating_score\", ax=axs[0])\n",
    "sns.countplot(data=df[df.user_id.isin(moderate_users)], x=\"rating_score\", ax=axs[1])\n",
    "\n",
    "axs[0].set_title(\"full dataset ratings count\")\n",
    "axs[1].set_title(\"modified dataset ratings count\")\n",
    "plt.show()"
   ]
  },
  {
   "cell_type": "code",
   "execution_count": 17,
   "metadata": {},
   "outputs": [],
   "source": [
    "sorted_movies = df[df.user_id.isin(moderate_users)].groupby('movie_id').count()['rating_score'].sort_values(ascending=False)"
   ]
  },
  {
   "cell_type": "code",
   "execution_count": 63,
   "metadata": {},
   "outputs": [
    {
     "data": {
      "image/png": "[encoded data removed]",
      "text/plain": [
       "<Figure size 1080x720 with 1 Axes>"
      ]
     },
     "metadata": {
      "needs_background": "light"
     },
     "output_type": "display_data"
    }
   ],
   "source": [
    "fig, ax = plt.subplots(figsize=(15,10))\n",
    "plt.plot(range(len(sorted_movies)), sorted_movies.values[::-1], marker='o')\n",
    "# ax.axhline(696)\n",
    "plt.show()"
   ]
  },
  {
   "cell_type": "code",
   "execution_count": 68,
   "metadata": {},
   "outputs": [
    {
     "data": {
      "text/plain": [
       "(15493274, 3)"
      ]
     },
     "execution_count": 68,
     "metadata": {},
     "output_type": "execute_result"
    }
   ],
   "source": [
    "df.shape"
   ]
  },
  {
   "cell_type": "code",
   "execution_count": 67,
   "metadata": {},
   "outputs": [
    {
     "data": {
      "text/plain": [
       "(8097838, 3)"
      ]
     },
     "execution_count": 67,
     "metadata": {},
     "output_type": "execute_result"
    }
   ],
   "source": [
    "df[df.user_id.isin(moderate_users)].shape"
   ]
  },
  {
   "cell_type": "code",
   "execution_count": 65,
   "metadata": {},
   "outputs": [
    {
     "data": {
      "text/plain": [
       "129731"
      ]
     },
     "execution_count": 65,
     "metadata": {},
     "output_type": "execute_result"
    }
   ],
   "source": [
    "len(moderate_users)"
   ]
  },
  {
   "cell_type": "code",
   "execution_count": 9,
   "metadata": {},
   "outputs": [],
   "source": [
    "df_moderate = df[df.user_id.isin(moderate_users)]"
   ]
  },
  {
   "cell_type": "code",
   "execution_count": 19,
   "metadata": {},
   "outputs": [
    {
     "data": {
      "text/html": [
       "<div>\n",
       "<style scoped>\n",
       "    .dataframe tbody tr th:only-of-type {\n",
       "        vertical-align: middle;\n",
       "    }\n",
       "\n",
       "    .dataframe tbody tr th {\n",
       "        vertical-align: top;\n",
       "    }\n",
       "\n",
       "    .dataframe thead th {\n",
       "        text-align: right;\n",
       "    }\n",
       "</style>\n",
       "<table border=\"1\" class=\"dataframe\">\n",
       "  <thead>\n",
       "    <tr style=\"text-align: right;\">\n",
       "      <th></th>\n",
       "      <th>movie_id</th>\n",
       "      <th>rating_score</th>\n",
       "      <th>user_id</th>\n",
       "    </tr>\n",
       "  </thead>\n",
       "  <tbody>\n",
       "    <tr>\n",
       "      <th>5</th>\n",
       "      <td>1066</td>\n",
       "      <td>4.0</td>\n",
       "      <td>97262846</td>\n",
       "    </tr>\n",
       "    <tr>\n",
       "      <th>8</th>\n",
       "      <td>1066</td>\n",
       "      <td>4.0</td>\n",
       "      <td>58420503</td>\n",
       "    </tr>\n",
       "    <tr>\n",
       "      <th>11</th>\n",
       "      <td>1066</td>\n",
       "      <td>2.0</td>\n",
       "      <td>15492642</td>\n",
       "    </tr>\n",
       "    <tr>\n",
       "      <th>12</th>\n",
       "      <td>1066</td>\n",
       "      <td>4.0</td>\n",
       "      <td>29755671</td>\n",
       "    </tr>\n",
       "    <tr>\n",
       "      <th>15</th>\n",
       "      <td>1066</td>\n",
       "      <td>3.0</td>\n",
       "      <td>93302487</td>\n",
       "    </tr>\n",
       "    <tr>\n",
       "      <th>...</th>\n",
       "      <td>...</td>\n",
       "      <td>...</td>\n",
       "      <td>...</td>\n",
       "    </tr>\n",
       "    <tr>\n",
       "      <th>15519996</th>\n",
       "      <td>1065</td>\n",
       "      <td>5.0</td>\n",
       "      <td>70807566</td>\n",
       "    </tr>\n",
       "    <tr>\n",
       "      <th>15520000</th>\n",
       "      <td>1065</td>\n",
       "      <td>4.0</td>\n",
       "      <td>39480101</td>\n",
       "    </tr>\n",
       "    <tr>\n",
       "      <th>15520001</th>\n",
       "      <td>1065</td>\n",
       "      <td>4.0</td>\n",
       "      <td>60235331</td>\n",
       "    </tr>\n",
       "    <tr>\n",
       "      <th>15520002</th>\n",
       "      <td>1065</td>\n",
       "      <td>4.0</td>\n",
       "      <td>42678387</td>\n",
       "    </tr>\n",
       "    <tr>\n",
       "      <th>15520003</th>\n",
       "      <td>1065</td>\n",
       "      <td>3.0</td>\n",
       "      <td>18576002</td>\n",
       "    </tr>\n",
       "  </tbody>\n",
       "</table>\n",
       "<p>8097838 rows × 3 columns</p>\n",
       "</div>"
      ],
      "text/plain": [
       "          movie_id  rating_score   user_id\n",
       "5             1066           4.0  97262846\n",
       "8             1066           4.0  58420503\n",
       "11            1066           2.0  15492642\n",
       "12            1066           4.0  29755671\n",
       "15            1066           3.0  93302487\n",
       "...            ...           ...       ...\n",
       "15519996      1065           5.0  70807566\n",
       "15520000      1065           4.0  39480101\n",
       "15520001      1065           4.0  60235331\n",
       "15520002      1065           4.0  42678387\n",
       "15520003      1065           3.0  18576002\n",
       "\n",
       "[8097838 rows x 3 columns]"
      ]
     },
     "execution_count": 19,
     "metadata": {},
     "output_type": "execute_result"
    }
   ],
   "source": [
    "df_moderate"
   ]
  },
  {
   "cell_type": "code",
   "execution_count": null,
   "metadata": {},
   "outputs": [],
   "source": [
    "# mod_pivot = df_moderate.pivot_table(index='movie_id', columns='user_id', values='rating_score')"
   ]
  },
  {
   "cell_type": "code",
   "execution_count": 72,
   "metadata": {},
   "outputs": [
    {
     "data": {
      "text/plain": [
       "259496"
      ]
     },
     "execution_count": 72,
     "metadata": {},
     "output_type": "execute_result"
    }
   ],
   "source": [
    "len(df_moderate[df_moderate.rating_score==1])"
   ]
  },
  {
   "cell_type": "code",
   "execution_count": 73,
   "metadata": {},
   "outputs": [
    {
     "data": {
      "text/plain": [
       "81144"
      ]
     },
     "execution_count": 73,
     "metadata": {},
     "output_type": "execute_result"
    }
   ],
   "source": [
    "len(df_moderate.movie_id.unique())"
   ]
  },
  {
   "cell_type": "code",
   "execution_count": 10,
   "metadata": {},
   "outputs": [],
   "source": [
    "import random"
   ]
  },
  {
   "cell_type": "code",
   "execution_count": null,
   "metadata": {},
   "outputs": [],
   "source": []
  },
  {
   "cell_type": "code",
   "execution_count": 18,
   "metadata": {},
   "outputs": [],
   "source": [
    "keepers = []\n",
    "for rating in df_moderate.rating_score.unique():\n",
    "    temp_df = df_moderate[df_moderate.rating_score==rating]\n",
    "    keepers.append(random.choices(temp_df.index, k=10000))\n",
    "    "
   ]
  },
  {
   "cell_type": "code",
   "execution_count": 12,
   "metadata": {},
   "outputs": [],
   "source": [
    "from itertools import chain\n",
    "def flatten(list_of_lists):\n",
    "    \"Flatten one level of nesting\"\n",
    "    return chain.from_iterable(list_of_lists)"
   ]
  },
  {
   "cell_type": "code",
   "execution_count": 19,
   "metadata": {},
   "outputs": [],
   "source": [
    "keepers = list(flatten(keepers))"
   ]
  },
  {
   "cell_type": "code",
   "execution_count": 20,
   "metadata": {},
   "outputs": [],
   "source": [
    "smaller_selection = df_moderate.loc[keepers].reset_index(drop=True)"
   ]
  },
  {
   "cell_type": "code",
   "execution_count": 21,
   "metadata": {},
   "outputs": [],
   "source": [
    "even_selection_pivot = smaller_selection.pivot_table(index='movie_id', columns='user_id', values='rating_score')"
   ]
  },
  {
   "cell_type": "code",
   "execution_count": 22,
   "metadata": {},
   "outputs": [
    {
     "name": "stdout",
     "output_type": "stream",
     "text": [
      "<class 'pandas.core.frame.DataFrame'>\n",
      "Int64Index: 11736 entries, 1 to 260892\n",
      "Columns: 27518 entries, 11142 to 99997323\n",
      "dtypes: float64(27518)\n",
      "memory usage: 2.4 GB\n"
     ]
    }
   ],
   "source": [
    "even_selection_pivot.info()"
   ]
  },
  {
   "cell_type": "code",
   "execution_count": 24,
   "metadata": {},
   "outputs": [],
   "source": [
    "del even_selection_pivot"
   ]
  },
  {
   "cell_type": "code",
   "execution_count": 23,
   "metadata": {},
   "outputs": [
    {
     "data": {
      "text/plain": [
       "322951248"
      ]
     },
     "execution_count": 23,
     "metadata": {},
     "output_type": "execute_result"
    }
   ],
   "source": [
    "11736*27518"
   ]
  },
  {
   "cell_type": "code",
   "execution_count": null,
   "metadata": {},
   "outputs": [],
   "source": []
  },
  {
   "cell_type": "code",
   "execution_count": null,
   "metadata": {},
   "outputs": [],
   "source": []
  },
  {
   "cell_type": "code",
   "execution_count": null,
   "metadata": {},
   "outputs": [],
   "source": []
  },
  {
   "cell_type": "code",
   "execution_count": null,
   "metadata": {},
   "outputs": [],
   "source": []
  },
  {
   "cell_type": "code",
   "execution_count": null,
   "metadata": {},
   "outputs": [],
   "source": []
  },
  {
   "cell_type": "code",
   "execution_count": null,
   "metadata": {},
   "outputs": [],
   "source": []
  },
  {
   "cell_type": "code",
   "execution_count": null,
   "metadata": {},
   "outputs": [],
   "source": []
  },
  {
   "cell_type": "code",
   "execution_count": null,
   "metadata": {},
   "outputs": [],
   "source": []
  },
  {
   "cell_type": "code",
   "execution_count": null,
   "metadata": {},
   "outputs": [],
   "source": []
  },
  {
   "cell_type": "code",
   "execution_count": null,
   "metadata": {},
   "outputs": [],
   "source": []
  },
  {
   "cell_type": "code",
   "execution_count": null,
   "metadata": {},
   "outputs": [],
   "source": []
  },
  {
   "cell_type": "code",
   "execution_count": null,
   "metadata": {},
   "outputs": [],
   "source": []
  },
  {
   "cell_type": "code",
   "execution_count": null,
   "metadata": {},
   "outputs": [],
   "source": []
  },
  {
   "cell_type": "code",
   "execution_count": null,
   "metadata": {},
   "outputs": [],
   "source": []
  },
  {
   "cell_type": "code",
   "execution_count": null,
   "metadata": {},
   "outputs": [],
   "source": []
  },
  {
   "cell_type": "code",
   "execution_count": null,
   "metadata": {},
   "outputs": [],
   "source": []
  },
  {
   "cell_type": "code",
   "execution_count": null,
   "metadata": {},
   "outputs": [],
   "source": []
  },
  {
   "cell_type": "code",
   "execution_count": null,
   "metadata": {},
   "outputs": [],
   "source": []
  },
  {
   "cell_type": "code",
   "execution_count": null,
   "metadata": {},
   "outputs": [],
   "source": []
  },
  {
   "cell_type": "code",
   "execution_count": null,
   "metadata": {},
   "outputs": [],
   "source": []
  },
  {
   "cell_type": "code",
   "execution_count": null,
   "metadata": {},
   "outputs": [],
   "source": []
  },
  {
   "cell_type": "code",
   "execution_count": null,
   "metadata": {},
   "outputs": [],
   "source": []
  },
  {
   "cell_type": "code",
   "execution_count": 10,
   "metadata": {},
   "outputs": [
    {
     "data": {
      "text/plain": [
       "0"
      ]
     },
     "execution_count": 10,
     "metadata": {},
     "output_type": "execute_result"
    }
   ],
   "source": [
    "len(df[(df.rating_score)==].index)"
   ]
  },
  {
   "cell_type": "code",
   "execution_count": null,
   "metadata": {},
   "outputs": [],
   "source": [
    "fig, axs = plt.subplots(ncols=2, figsize=(10,5))\n",
    "sns.countplot(data=df, x=\"rating_score\", ax=axs[0])\n",
    "sns.countplot(data=df[df.user_id.isin(moderate_users)], x=\"rating_score\", ax=axs[1])\n",
    "\n",
    "axs[0].set_title(\"full dataset ratings count\")\n",
    "axs[1].set_title(\"modified dataset ratings count\")\n",
    "plt.show()"
   ]
  },
  {
   "cell_type": "code",
   "execution_count": null,
   "metadata": {},
   "outputs": [],
   "source": []
  },
  {
   "cell_type": "code",
   "execution_count": 22,
   "metadata": {},
   "outputs": [
    {
     "data": {
      "text/html": [
       "<div>\n",
       "<style scoped>\n",
       "    .dataframe tbody tr th:only-of-type {\n",
       "        vertical-align: middle;\n",
       "    }\n",
       "\n",
       "    .dataframe tbody tr th {\n",
       "        vertical-align: top;\n",
       "    }\n",
       "\n",
       "    .dataframe thead th {\n",
       "        text-align: right;\n",
       "    }\n",
       "</style>\n",
       "<table border=\"1\" class=\"dataframe\">\n",
       "  <thead>\n",
       "    <tr style=\"text-align: right;\">\n",
       "      <th></th>\n",
       "      <th>movie_id</th>\n",
       "      <th>rating_score</th>\n",
       "      <th>user_id</th>\n",
       "    </tr>\n",
       "  </thead>\n",
       "  <tbody>\n",
       "    <tr>\n",
       "      <th>count</th>\n",
       "      <td>1.552000e+07</td>\n",
       "      <td>1.549327e+07</td>\n",
       "      <td>1.552000e+07</td>\n",
       "    </tr>\n",
       "    <tr>\n",
       "      <th>mean</th>\n",
       "      <td>3.524980e+04</td>\n",
       "      <td>3.590377e+00</td>\n",
       "      <td>4.963690e+07</td>\n",
       "    </tr>\n",
       "    <tr>\n",
       "      <th>std</th>\n",
       "      <td>5.339912e+04</td>\n",
       "      <td>1.106302e+00</td>\n",
       "      <td>2.884441e+07</td>\n",
       "    </tr>\n",
       "    <tr>\n",
       "      <th>min</th>\n",
       "      <td>0.000000e+00</td>\n",
       "      <td>1.000000e+00</td>\n",
       "      <td>5.700000e+01</td>\n",
       "    </tr>\n",
       "    <tr>\n",
       "      <th>25%</th>\n",
       "      <td>1.134000e+03</td>\n",
       "      <td>3.000000e+00</td>\n",
       "      <td>2.470655e+07</td>\n",
       "    </tr>\n",
       "    <tr>\n",
       "      <th>50%</th>\n",
       "      <td>5.678000e+03</td>\n",
       "      <td>4.000000e+00</td>\n",
       "      <td>4.922454e+07</td>\n",
       "    </tr>\n",
       "    <tr>\n",
       "      <th>75%</th>\n",
       "      <td>3.789300e+04</td>\n",
       "      <td>4.000000e+00</td>\n",
       "      <td>7.456709e+07</td>\n",
       "    </tr>\n",
       "    <tr>\n",
       "      <th>max</th>\n",
       "      <td>2.637090e+05</td>\n",
       "      <td>5.000000e+00</td>\n",
       "      <td>9.999986e+07</td>\n",
       "    </tr>\n",
       "  </tbody>\n",
       "</table>\n",
       "</div>"
      ],
      "text/plain": [
       "           movie_id  rating_score       user_id\n",
       "count  1.552000e+07  1.549327e+07  1.552000e+07\n",
       "mean   3.524980e+04  3.590377e+00  4.963690e+07\n",
       "std    5.339912e+04  1.106302e+00  2.884441e+07\n",
       "min    0.000000e+00  1.000000e+00  5.700000e+01\n",
       "25%    1.134000e+03  3.000000e+00  2.470655e+07\n",
       "50%    5.678000e+03  4.000000e+00  4.922454e+07\n",
       "75%    3.789300e+04  4.000000e+00  7.456709e+07\n",
       "max    2.637090e+05  5.000000e+00  9.999986e+07"
      ]
     },
     "execution_count": 22,
     "metadata": {},
     "output_type": "execute_result"
    }
   ],
   "source": [
    "df.describe()"
   ]
  },
  {
   "cell_type": "code",
   "execution_count": null,
   "metadata": {
    "scrolled": true
   },
   "outputs": [],
   "source": [
    "#turns out I can't pivot this table in pandas because it's too big. \n",
    "#I also can't pivot in SQL because SQlite does not support pivot. \n",
    "#so...\n",
    "# df.pivot(index='movie_id', columns='user_id', values='rating_score')"
   ]
  },
  {
   "cell_type": "code",
   "execution_count": 9,
   "metadata": {},
   "outputs": [
    {
     "data": {
      "text/plain": [
       "451757"
      ]
     },
     "execution_count": 9,
     "metadata": {},
     "output_type": "execute_result"
    }
   ],
   "source": [
    "len(df.user_id.unique())"
   ]
  },
  {
   "cell_type": "code",
   "execution_count": 10,
   "metadata": {},
   "outputs": [
    {
     "data": {
      "text/plain": [
       "142698"
      ]
     },
     "execution_count": 10,
     "metadata": {},
     "output_type": "execute_result"
    }
   ],
   "source": [
    "len(df.movie_id.unique())"
   ]
  },
  {
   "cell_type": "code",
   "execution_count": 7,
   "metadata": {},
   "outputs": [
    {
     "data": {
      "text/html": [
       "<div>\n",
       "<style scoped>\n",
       "    .dataframe tbody tr th:only-of-type {\n",
       "        vertical-align: middle;\n",
       "    }\n",
       "\n",
       "    .dataframe tbody tr th {\n",
       "        vertical-align: top;\n",
       "    }\n",
       "\n",
       "    .dataframe thead th {\n",
       "        text-align: right;\n",
       "    }\n",
       "</style>\n",
       "<table border=\"1\" class=\"dataframe\">\n",
       "  <thead>\n",
       "    <tr style=\"text-align: right;\">\n",
       "      <th></th>\n",
       "      <th>movie_id</th>\n",
       "      <th>rating_score</th>\n",
       "      <th>user_id</th>\n",
       "    </tr>\n",
       "  </thead>\n",
       "  <tbody>\n",
       "    <tr>\n",
       "      <th>0</th>\n",
       "      <td>1066</td>\n",
       "      <td>3.0</td>\n",
       "      <td>41579158</td>\n",
       "    </tr>\n",
       "    <tr>\n",
       "      <th>1</th>\n",
       "      <td>1066</td>\n",
       "      <td>2.0</td>\n",
       "      <td>85981819</td>\n",
       "    </tr>\n",
       "    <tr>\n",
       "      <th>2</th>\n",
       "      <td>1066</td>\n",
       "      <td>2.0</td>\n",
       "      <td>4208563</td>\n",
       "    </tr>\n",
       "    <tr>\n",
       "      <th>3</th>\n",
       "      <td>1066</td>\n",
       "      <td>3.0</td>\n",
       "      <td>9820140</td>\n",
       "    </tr>\n",
       "    <tr>\n",
       "      <th>4</th>\n",
       "      <td>1066</td>\n",
       "      <td>4.0</td>\n",
       "      <td>68654088</td>\n",
       "    </tr>\n",
       "  </tbody>\n",
       "</table>\n",
       "</div>"
      ],
      "text/plain": [
       "   movie_id  rating_score   user_id\n",
       "0      1066           3.0  41579158\n",
       "1      1066           2.0  85981819\n",
       "2      1066           2.0   4208563\n",
       "3      1066           3.0   9820140\n",
       "4      1066           4.0  68654088"
      ]
     },
     "execution_count": 7,
     "metadata": {},
     "output_type": "execute_result"
    }
   ],
   "source": [
    "df.head()"
   ]
  },
  {
   "cell_type": "code",
   "execution_count": 31,
   "metadata": {},
   "outputs": [],
   "source": [
    "user_ids = df.user_id.unique()"
   ]
  },
  {
   "cell_type": "code",
   "execution_count": 34,
   "metadata": {},
   "outputs": [
    {
     "name": "stdout",
     "output_type": "stream",
     "text": [
      "225879\n"
     ]
    }
   ],
   "source": [
    "half = math.ceil(len(user_ids)/2)\n",
    "print(half)"
   ]
  },
  {
   "cell_type": "code",
   "execution_count": 35,
   "metadata": {},
   "outputs": [
    {
     "data": {
      "text/plain": [
       "(15082854, 3)"
      ]
     },
     "execution_count": 35,
     "metadata": {},
     "output_type": "execute_result"
    }
   ],
   "source": [
    "df[df.user_id.isin(user_ids[:half])].shape"
   ]
  },
  {
   "cell_type": "markdown",
   "metadata": {},
   "source": [
    "Splitting the unique user IDs in half did not work. clearly some users are far more prolific than other users. "
   ]
  },
  {
   "cell_type": "code",
   "execution_count": 38,
   "metadata": {},
   "outputs": [
    {
     "data": {
      "text/plain": [
       "user_id\n",
       "12295046    19983\n",
       "2591449     17053\n",
       "24226320    11183\n",
       "35097747    11158\n",
       "92027428    10544\n",
       "            ...  \n",
       "24874549        0\n",
       "21791516        0\n",
       "96046374        0\n",
       "70996126        0\n",
       "92780661        0\n",
       "Name: rating_score, Length: 451757, dtype: int64"
      ]
     },
     "execution_count": 38,
     "metadata": {},
     "output_type": "execute_result"
    }
   ],
   "source": [
    "rating_count = df.groupby('user_id').count()['rating_score'].sort_values(ascending=False)\n",
    "rating_count"
   ]
  },
  {
   "cell_type": "markdown",
   "metadata": {},
   "source": [
    "For my user-based recommendation, having users with no reviews will not work. So I can just drop all those users. "
   ]
  },
  {
   "cell_type": "code",
   "execution_count": 41,
   "metadata": {},
   "outputs": [],
   "source": [
    "no_ratings_users = rating_count[rating_count.values==0].index"
   ]
  },
  {
   "cell_type": "code",
   "execution_count": 42,
   "metadata": {},
   "outputs": [
    {
     "data": {
      "text/html": [
       "<div>\n",
       "<style scoped>\n",
       "    .dataframe tbody tr th:only-of-type {\n",
       "        vertical-align: middle;\n",
       "    }\n",
       "\n",
       "    .dataframe tbody tr th {\n",
       "        vertical-align: top;\n",
       "    }\n",
       "\n",
       "    .dataframe thead th {\n",
       "        text-align: right;\n",
       "    }\n",
       "</style>\n",
       "<table border=\"1\" class=\"dataframe\">\n",
       "  <thead>\n",
       "    <tr style=\"text-align: right;\">\n",
       "      <th></th>\n",
       "      <th>movie_id</th>\n",
       "      <th>rating_score</th>\n",
       "      <th>user_id</th>\n",
       "    </tr>\n",
       "  </thead>\n",
       "  <tbody>\n",
       "    <tr>\n",
       "      <th>62</th>\n",
       "      <td>1068</td>\n",
       "      <td>NaN</td>\n",
       "      <td>12575931</td>\n",
       "    </tr>\n",
       "    <tr>\n",
       "      <th>399</th>\n",
       "      <td>1069</td>\n",
       "      <td>NaN</td>\n",
       "      <td>24516368</td>\n",
       "    </tr>\n",
       "    <tr>\n",
       "      <th>404</th>\n",
       "      <td>1069</td>\n",
       "      <td>NaN</td>\n",
       "      <td>7567144</td>\n",
       "    </tr>\n",
       "    <tr>\n",
       "      <th>5500</th>\n",
       "      <td>1077</td>\n",
       "      <td>NaN</td>\n",
       "      <td>16383003</td>\n",
       "    </tr>\n",
       "    <tr>\n",
       "      <th>8611</th>\n",
       "      <td>1082</td>\n",
       "      <td>NaN</td>\n",
       "      <td>80545482</td>\n",
       "    </tr>\n",
       "    <tr>\n",
       "      <th>...</th>\n",
       "      <td>...</td>\n",
       "      <td>...</td>\n",
       "      <td>...</td>\n",
       "    </tr>\n",
       "    <tr>\n",
       "      <th>15515118</th>\n",
       "      <td>1059</td>\n",
       "      <td>NaN</td>\n",
       "      <td>41219210</td>\n",
       "    </tr>\n",
       "    <tr>\n",
       "      <th>15515119</th>\n",
       "      <td>1059</td>\n",
       "      <td>NaN</td>\n",
       "      <td>36669403</td>\n",
       "    </tr>\n",
       "    <tr>\n",
       "      <th>15517074</th>\n",
       "      <td>1061</td>\n",
       "      <td>NaN</td>\n",
       "      <td>26945549</td>\n",
       "    </tr>\n",
       "    <tr>\n",
       "      <th>15518210</th>\n",
       "      <td>1062</td>\n",
       "      <td>NaN</td>\n",
       "      <td>7628640</td>\n",
       "    </tr>\n",
       "    <tr>\n",
       "      <th>15518212</th>\n",
       "      <td>1062</td>\n",
       "      <td>NaN</td>\n",
       "      <td>56083644</td>\n",
       "    </tr>\n",
       "  </tbody>\n",
       "</table>\n",
       "<p>6058 rows × 3 columns</p>\n",
       "</div>"
      ],
      "text/plain": [
       "          movie_id  rating_score   user_id\n",
       "62            1068           NaN  12575931\n",
       "399           1069           NaN  24516368\n",
       "404           1069           NaN   7567144\n",
       "5500          1077           NaN  16383003\n",
       "8611          1082           NaN  80545482\n",
       "...            ...           ...       ...\n",
       "15515118      1059           NaN  41219210\n",
       "15515119      1059           NaN  36669403\n",
       "15517074      1061           NaN  26945549\n",
       "15518210      1062           NaN   7628640\n",
       "15518212      1062           NaN  56083644\n",
       "\n",
       "[6058 rows x 3 columns]"
      ]
     },
     "execution_count": 42,
     "metadata": {},
     "output_type": "execute_result"
    }
   ],
   "source": [
    "df[df.user_id.isin(no_ratings_users)].index"
   ]
  },
  {
   "cell_type": "markdown",
   "metadata": {},
   "source": [
    "This is getting stranger because why are there entries in the ratings column for user ids/movie ids that have no rating?"
   ]
  },
  {
   "cell_type": "code",
   "execution_count": 43,
   "metadata": {},
   "outputs": [
    {
     "name": "stdout",
     "output_type": "stream",
     "text": [
      " * sqlite:///Data//mubi_db.sqlite\n",
      "Done.\n"
     ]
    },
    {
     "data": {
      "text/html": [
       "<table>\n",
       "    <thead>\n",
       "        <tr>\n",
       "            <th>rating_score</th>\n",
       "            <th>COUNT(rating_id)</th>\n",
       "        </tr>\n",
       "    </thead>\n",
       "    <tbody>\n",
       "        <tr>\n",
       "            <td>None</td>\n",
       "            <td>26731</td>\n",
       "        </tr>\n",
       "        <tr>\n",
       "            <td>1.0</td>\n",
       "            <td>771057</td>\n",
       "        </tr>\n",
       "        <tr>\n",
       "            <td>2.0</td>\n",
       "            <td>1723743</td>\n",
       "        </tr>\n",
       "        <tr>\n",
       "            <td>3.0</td>\n",
       "            <td>4156587</td>\n",
       "        </tr>\n",
       "        <tr>\n",
       "            <td>4.0</td>\n",
       "            <td>5271049</td>\n",
       "        </tr>\n",
       "        <tr>\n",
       "            <td>5.0</td>\n",
       "            <td>3570838</td>\n",
       "        </tr>\n",
       "    </tbody>\n",
       "</table>"
      ],
      "text/plain": [
       "[(None, 26731),\n",
       " (1.0, 771057),\n",
       " (2.0, 1723743),\n",
       " (3.0, 4156587),\n",
       " (4.0, 5271049),\n",
       " (5.0, 3570838)]"
      ]
     },
     "execution_count": 43,
     "metadata": {},
     "output_type": "execute_result"
    }
   ],
   "source": [
    "%%sql\n",
    "\n",
    "SELECT \n",
    "    rating_score,\n",
    "    COUNT(rating_id)\n",
    "FROM ratings\n",
    "GROUP BY rating_score\n",
    "ORDER BY rating_score;"
   ]
  },
  {
   "cell_type": "code",
   "execution_count": 46,
   "metadata": {
    "scrolled": false
   },
   "outputs": [
    {
     "name": "stdout",
     "output_type": "stream",
     "text": [
      " * sqlite:///Data//mubi_db.sqlite\n",
      "Done.\n"
     ]
    },
    {
     "data": {
      "text/html": [
       "<table>\n",
       "    <thead>\n",
       "        <tr>\n",
       "            <th>movie_id</th>\n",
       "            <th>rating_id</th>\n",
       "            <th>rating_url</th>\n",
       "            <th>rating_score</th>\n",
       "            <th>rating_timestamp_utc</th>\n",
       "            <th>critic</th>\n",
       "            <th>critic_likes</th>\n",
       "            <th>critic_comments</th>\n",
       "            <th>user_id</th>\n",
       "            <th>user_trialist</th>\n",
       "            <th>user_subscriber</th>\n",
       "            <th>user_eligible_for_trial</th>\n",
       "            <th>user_has_payment_method</th>\n",
       "        </tr>\n",
       "    </thead>\n",
       "    <tbody>\n",
       "        <tr>\n",
       "            <td>1067</td>\n",
       "            <td>10299920</td>\n",
       "            <td>http://mubi.com/films/a-way-of-life/ratings/10299920</td>\n",
       "            <td>None</td>\n",
       "            <td>2010-04-29 22:30:24</td>\n",
       "            <td>Splendid debut. Whatever happened to Amma Asante?</td>\n",
       "            <td>0</td>\n",
       "            <td>0</td>\n",
       "            <td>87749556</td>\n",
       "            <td>0</td>\n",
       "            <td>0</td>\n",
       "            <td>1</td>\n",
       "            <td>0</td>\n",
       "        </tr>\n",
       "        <tr>\n",
       "            <td>1068</td>\n",
       "            <td>10312442</td>\n",
       "            <td>http://mubi.com/films/when-will-i-be-loved/ratings/10312442</td>\n",
       "            <td>None</td>\n",
       "            <td>2012-09-15 10:06:59</td>\n",
       "            <td>No. No. And no. Don&#x27;t waste your time on this.</td>\n",
       "            <td>0</td>\n",
       "            <td>0</td>\n",
       "            <td>12575931</td>\n",
       "            <td>0</td>\n",
       "            <td>0</td>\n",
       "            <td>1</td>\n",
       "            <td>1</td>\n",
       "        </tr>\n",
       "        <tr>\n",
       "            <td>1069</td>\n",
       "            <td>10308984</td>\n",
       "            <td>http://mubi.com/films/patti-smith-dream-of-life/ratings/10308984</td>\n",
       "            <td>None</td>\n",
       "            <td>2012-01-23 16:24:57</td>\n",
       "            <td>heartfelt, occasionally fascinating (if a bit self-consciously &quot;artistic&quot;) documentary about one of rock music&#x27;s legitimate &quot;living legends.&quot; smith is particularly illuminating on the subject of death.</td>\n",
       "            <td>1</td>\n",
       "            <td>0</td>\n",
       "            <td>24516368</td>\n",
       "            <td>0</td>\n",
       "            <td>0</td>\n",
       "            <td>1</td>\n",
       "            <td>0</td>\n",
       "        </tr>\n",
       "        <tr>\n",
       "            <td>1069</td>\n",
       "            <td>10306967</td>\n",
       "            <td>http://mubi.com/films/patti-smith-dream-of-life/ratings/10306967</td>\n",
       "            <td>None</td>\n",
       "            <td>2011-05-26 20:30:54</td>\n",
       "            <td>I felt that I learnt so much more about her after this one. For all I know, she just put on an act - but I think Patti actually is who we see in Dream of Life. It felt real. I don&#x27;t think this will appeal to non-fans, &#x27;thou. But what do I know.</td>\n",
       "            <td>1</td>\n",
       "            <td>0</td>\n",
       "            <td>14260587</td>\n",
       "            <td>0</td>\n",
       "            <td>0</td>\n",
       "            <td>1</td>\n",
       "            <td>0</td>\n",
       "        </tr>\n",
       "        <tr>\n",
       "            <td>1069</td>\n",
       "            <td>10301655</td>\n",
       "            <td>http://mubi.com/films/patti-smith-dream-of-life/ratings/10301655</td>\n",
       "            <td>None</td>\n",
       "            <td>2011-01-07 04:21:56</td>\n",
       "            <td>Go Deptford High. Patti use to sell the Dori Ann.</td>\n",
       "            <td>0</td>\n",
       "            <td>0</td>\n",
       "            <td>15939882</td>\n",
       "            <td>0</td>\n",
       "            <td>0</td>\n",
       "            <td>1</td>\n",
       "            <td>0</td>\n",
       "        </tr>\n",
       "        <tr>\n",
       "            <td>1069</td>\n",
       "            <td>10298027</td>\n",
       "            <td>http://mubi.com/films/patti-smith-dream-of-life/ratings/10298027</td>\n",
       "            <td>None</td>\n",
       "            <td>2010-03-15 04:36:32</td>\n",
       "            <td>dreeeeammmm oooof loiiiiifffeeeeee</td>\n",
       "            <td>0</td>\n",
       "            <td>0</td>\n",
       "            <td>89335651</td>\n",
       "            <td>0</td>\n",
       "            <td>0</td>\n",
       "            <td>1</td>\n",
       "            <td>0</td>\n",
       "        </tr>\n",
       "        <tr>\n",
       "            <td>1069</td>\n",
       "            <td>10287493</td>\n",
       "            <td>http://mubi.com/films/patti-smith-dream-of-life/ratings/10287493</td>\n",
       "            <td>None</td>\n",
       "            <td>2008-12-26 06:33:18</td>\n",
       "            <td>This is brilliant piece of observational documentary.\r",
       "<br>A must watch for music aficionado. Infuses back the archetypal music of 70&#x27;s back into popular conscience.</td>\n",
       "            <td>0</td>\n",
       "            <td>0</td>\n",
       "            <td>7567144</td>\n",
       "            <td>0</td>\n",
       "            <td>1</td>\n",
       "            <td>0</td>\n",
       "            <td>1</td>\n",
       "        </tr>\n",
       "        <tr>\n",
       "            <td>1070</td>\n",
       "            <td>10312948</td>\n",
       "            <td>http://mubi.com/films/mischief-night/ratings/10312948</td>\n",
       "            <td>None</td>\n",
       "            <td>2013-11-09 15:59:31</td>\n",
       "            <td>Synopsis sound similar to ‘The Purge&#x27;...... SKETCHY!</td>\n",
       "            <td>0</td>\n",
       "            <td>0</td>\n",
       "            <td>75359757</td>\n",
       "            <td>0</td>\n",
       "            <td>0</td>\n",
       "            <td>1</td>\n",
       "            <td>0</td>\n",
       "        </tr>\n",
       "        <tr>\n",
       "            <td>1071</td>\n",
       "            <td>10302163</td>\n",
       "            <td>http://mubi.com/films/the-fall-of-berlin/ratings/10302163</td>\n",
       "            <td>None</td>\n",
       "            <td>2012-04-30 18:54:41</td>\n",
       "            <td>http://www.youtube.com/watch?v=t-hZam8dXHU</td>\n",
       "            <td>1</td>\n",
       "            <td>0</td>\n",
       "            <td>39545558</td>\n",
       "            <td>1</td>\n",
       "            <td>1</td>\n",
       "            <td>0</td>\n",
       "            <td>0</td>\n",
       "        </tr>\n",
       "        <tr>\n",
       "            <td>1072</td>\n",
       "            <td>10302979</td>\n",
       "            <td>http://mubi.com/films/the-great-sacrifice/ratings/10302979</td>\n",
       "            <td>None</td>\n",
       "            <td>2011-02-05 23:01:05</td>\n",
       "            <td>I think this is an amazing film. Reminds me of the kind of depressing films made by Douglas Sirk and it has some brilliant brightly coloured photography.</td>\n",
       "            <td>0</td>\n",
       "            <td>0</td>\n",
       "            <td>79807361</td>\n",
       "            <td>0</td>\n",
       "            <td>0</td>\n",
       "            <td>1</td>\n",
       "            <td>0</td>\n",
       "        </tr>\n",
       "        <tr>\n",
       "            <td>1073</td>\n",
       "            <td>10286957</td>\n",
       "            <td>http://mubi.com/films/innocence-unprotected/ratings/10286957</td>\n",
       "            <td>None</td>\n",
       "            <td>2008-12-09 22:07:27</td>\n",
       "            <td>Excellent film, but it has nothing to do with Afghanistan or South Korea as it is written under the title</td>\n",
       "            <td>0</td>\n",
       "            <td>0</td>\n",
       "            <td>93865449</td>\n",
       "            <td>0</td>\n",
       "            <td>0</td>\n",
       "            <td>1</td>\n",
       "            <td>0</td>\n",
       "        </tr>\n",
       "        <tr>\n",
       "            <td>1076</td>\n",
       "            <td>10291268</td>\n",
       "            <td>http://mubi.com/films/the-exterminating-angel/ratings/10291268</td>\n",
       "            <td>None</td>\n",
       "            <td>2009-07-04 06:09:30</td>\n",
       "            <td>I remember when I first saw this film I could not get it out of my mind. I felt as when I saw a Dali for the first time. One viewing could not suffice in ingesting everything the painting had to offer, just like one viewing could not come close to spilling all this film&#x27;s secrets. I love this film on so many levels: it&#x27;s side splitting humor, its take on the rich, Bunuel&#x27;s surreal direction/vision....</td>\n",
       "            <td>0</td>\n",
       "            <td>0</td>\n",
       "            <td>88789868</td>\n",
       "            <td>0</td>\n",
       "            <td>0</td>\n",
       "            <td>1</td>\n",
       "            <td>0</td>\n",
       "        </tr>\n",
       "        <tr>\n",
       "            <td>1076</td>\n",
       "            <td>10289222</td>\n",
       "            <td>http://mubi.com/films/the-exterminating-angel/ratings/10289222</td>\n",
       "            <td>None</td>\n",
       "            <td>2011-05-24 02:58:12</td>\n",
       "            <td>Weird, absorbing surrealist fantasy that transforms subconscious social and psychological misgivings into feverish physical ones. Great Buñuel that should be watched alongside his &quot;Discreet Charm of the Bourgeoisie.&quot;</td>\n",
       "            <td>0</td>\n",
       "            <td>0</td>\n",
       "            <td>24671580</td>\n",
       "            <td>0</td>\n",
       "            <td>0</td>\n",
       "            <td>1</td>\n",
       "            <td>1</td>\n",
       "        </tr>\n",
       "        <tr>\n",
       "            <td>1077</td>\n",
       "            <td>10295952</td>\n",
       "            <td>http://mubi.com/films/simon-of-the-desert/ratings/10295952</td>\n",
       "            <td>None</td>\n",
       "            <td>2010-02-01 20:30:15</td>\n",
       "            <td>&quot;Radioactive Flesh&quot; -  what a funky little number.  Not sure what Bunuel is trying to say in this film-that there is no god?  (in keeping with his other films- I would say this is his re-occurring theme; anti-establishment and mockery of those in power.)</td>\n",
       "            <td>0</td>\n",
       "            <td>0</td>\n",
       "            <td>35203474</td>\n",
       "            <td>0</td>\n",
       "            <td>0</td>\n",
       "            <td>1</td>\n",
       "            <td>0</td>\n",
       "        </tr>\n",
       "        <tr>\n",
       "            <td>1077</td>\n",
       "            <td>10292896</td>\n",
       "            <td>http://mubi.com/films/simon-of-the-desert/ratings/10292896</td>\n",
       "            <td>None</td>\n",
       "            <td>2012-03-05 06:59:24</td>\n",
       "            <td>A rather entertaining short film.</td>\n",
       "            <td>1</td>\n",
       "            <td>0</td>\n",
       "            <td>16383003</td>\n",
       "            <td>0</td>\n",
       "            <td>0</td>\n",
       "            <td>1</td>\n",
       "            <td>0</td>\n",
       "        </tr>\n",
       "        <tr>\n",
       "            <td>1077</td>\n",
       "            <td>10291269</td>\n",
       "            <td>http://mubi.com/films/simon-of-the-desert/ratings/10291269</td>\n",
       "            <td>None</td>\n",
       "            <td>2009-07-04 06:21:43</td>\n",
       "            <td>Buneul&#x27;s take on religion/morality is a scathing look at faith itself. Able to deflect the devils attempts to turn him, Simon&#x27;s faith in God cannot guard against Satan&#x27;s final attack. The scene is hilarious, sad, and releasing at the same time. A great film!!</td>\n",
       "            <td>1</td>\n",
       "            <td>0</td>\n",
       "            <td>88789868</td>\n",
       "            <td>0</td>\n",
       "            <td>0</td>\n",
       "            <td>1</td>\n",
       "            <td>0</td>\n",
       "        </tr>\n",
       "        <tr>\n",
       "            <td>1077</td>\n",
       "            <td>10289223</td>\n",
       "            <td>http://mubi.com/films/simon-of-the-desert/ratings/10289223</td>\n",
       "            <td>None</td>\n",
       "            <td>2012-07-21 04:52:50</td>\n",
       "            <td>I love that ending... the cool, flashy pulse of modernity a reprieve from solitude, yet a prison that denies same. It seems to me Buñuel wasn&#x27;t simply critical of religion, but of the paradoxical inequities of life itself.</td>\n",
       "            <td>1</td>\n",
       "            <td>0</td>\n",
       "            <td>24671580</td>\n",
       "            <td>0</td>\n",
       "            <td>0</td>\n",
       "            <td>1</td>\n",
       "            <td>1</td>\n",
       "        </tr>\n",
       "        <tr>\n",
       "            <td>1077</td>\n",
       "            <td>10286627</td>\n",
       "            <td>http://mubi.com/films/simon-of-the-desert/ratings/10286627</td>\n",
       "            <td>None</td>\n",
       "            <td>2011-04-02 16:47:44</td>\n",
       "            <td>I love atheist satire; and Bunuel is the master. Strangely, I felt more emphany at times for El Diablo- Silvia Pinal. Mocking the unreason of Christian faith (though still believing in it) El Diablo trys to bring Simon into the real world of humans. I know it sounds trite, but I just have no sympathy for a man who denies his dying Mother even an embrace.</td>\n",
       "            <td>1</td>\n",
       "            <td>0</td>\n",
       "            <td>34645252</td>\n",
       "            <td>0</td>\n",
       "            <td>0</td>\n",
       "            <td>1</td>\n",
       "            <td>0</td>\n",
       "        </tr>\n",
       "        <tr>\n",
       "            <td>1080</td>\n",
       "            <td>10307719</td>\n",
       "            <td>http://mubi.com/films/the-circle/ratings/10307719</td>\n",
       "            <td>None</td>\n",
       "            <td>2011-05-19 20:16:15</td>\n",
       "            <td>This films amazes me each time I see it.</td>\n",
       "            <td>0</td>\n",
       "            <td>0</td>\n",
       "            <td>23003755</td>\n",
       "            <td>0</td>\n",
       "            <td>0</td>\n",
       "            <td>1</td>\n",
       "            <td>0</td>\n",
       "        </tr>\n",
       "        <tr>\n",
       "            <td>1080</td>\n",
       "            <td>10302551</td>\n",
       "            <td>http://mubi.com/films/the-circle/ratings/10302551</td>\n",
       "            <td>None</td>\n",
       "            <td>2012-03-07 23:13:17</td>\n",
       "            <td>I dont know. surely appropriate colors</td>\n",
       "            <td>0</td>\n",
       "            <td>0</td>\n",
       "            <td>76107116</td>\n",
       "            <td>0</td>\n",
       "            <td>0</td>\n",
       "            <td>1</td>\n",
       "            <td>0</td>\n",
       "        </tr>\n",
       "    </tbody>\n",
       "</table>"
      ],
      "text/plain": [
       "[(1067, 10299920, 'http://mubi.com/films/a-way-of-life/ratings/10299920', None, '2010-04-29 22:30:24', 'Splendid debut. Whatever happened to Amma Asante?', 0, 0, 87749556, 0, 0, 1, 0),\n",
       " (1068, 10312442, 'http://mubi.com/films/when-will-i-be-loved/ratings/10312442', None, '2012-09-15 10:06:59', \"No. No. And no. Don't waste your time on this.\", 0, 0, 12575931, 0, 0, 1, 1),\n",
       " (1069, 10308984, 'http://mubi.com/films/patti-smith-dream-of-life/ratings/10308984', None, '2012-01-23 16:24:57', 'heartfelt, occasionally fascinating (if a bit self-consciously \"artistic\") documentary about one of rock music\\'s legitimate \"living legends.\" smith is particularly illuminating on the subject of death.', 1, 0, 24516368, 0, 0, 1, 0),\n",
       " (1069, 10306967, 'http://mubi.com/films/patti-smith-dream-of-life/ratings/10306967', None, '2011-05-26 20:30:54', \"I felt that I learnt so much more about her after this one. For all I know, she just put on an act - but I think Patti actually is who we see in Dream of Life. It felt real. I don't think this will appeal to non-fans, 'thou. But what do I know.\", 1, 0, 14260587, 0, 0, 1, 0),\n",
       " (1069, 10301655, 'http://mubi.com/films/patti-smith-dream-of-life/ratings/10301655', None, '2011-01-07 04:21:56', 'Go Deptford High. Patti use to sell the Dori Ann.', 0, 0, 15939882, 0, 0, 1, 0),\n",
       " (1069, 10298027, 'http://mubi.com/films/patti-smith-dream-of-life/ratings/10298027', None, '2010-03-15 04:36:32', 'dreeeeammmm oooof loiiiiifffeeeeee', 0, 0, 89335651, 0, 0, 1, 0),\n",
       " (1069, 10287493, 'http://mubi.com/films/patti-smith-dream-of-life/ratings/10287493', None, '2008-12-26 06:33:18', \"This is brilliant piece of observational documentary.\\r\\nA must watch for music aficionado. Infuses back the archetypal music of 70's back into popular conscience.\", 0, 0, 7567144, 0, 1, 0, 1),\n",
       " (1070, 10312948, 'http://mubi.com/films/mischief-night/ratings/10312948', None, '2013-11-09 15:59:31', \"Synopsis sound similar to ‘The Purge'...... SKETCHY!\", 0, 0, 75359757, 0, 0, 1, 0),\n",
       " (1071, 10302163, 'http://mubi.com/films/the-fall-of-berlin/ratings/10302163', None, '2012-04-30 18:54:41', 'http://www.youtube.com/watch?v=t-hZam8dXHU', 1, 0, 39545558, 1, 1, 0, 0),\n",
       " (1072, 10302979, 'http://mubi.com/films/the-great-sacrifice/ratings/10302979', None, '2011-02-05 23:01:05', 'I think this is an amazing film. Reminds me of the kind of depressing films made by Douglas Sirk and it has some brilliant brightly coloured photography.', 0, 0, 79807361, 0, 0, 1, 0),\n",
       " (1073, 10286957, 'http://mubi.com/films/innocence-unprotected/ratings/10286957', None, '2008-12-09 22:07:27', 'Excellent film, but it has nothing to do with Afghanistan or South Korea as it is written under the title', 0, 0, 93865449, 0, 0, 1, 0),\n",
       " (1076, 10291268, 'http://mubi.com/films/the-exterminating-angel/ratings/10291268', None, '2009-07-04 06:09:30', \"I remember when I first saw this film I could not get it out of my mind. I felt as when I saw a Dali for the first time. One viewing could not suffic ... (106 characters truncated) ... g all this film's secrets. I love this film on so many levels: it's side splitting humor, its take on the rich, Bunuel's surreal direction/vision....\", 0, 0, 88789868, 0, 0, 1, 0),\n",
       " (1076, 10289222, 'http://mubi.com/films/the-exterminating-angel/ratings/10289222', None, '2011-05-24 02:58:12', 'Weird, absorbing surrealist fantasy that transforms subconscious social and psychological misgivings into feverish physical ones. Great Buñuel that should be watched alongside his \"Discreet Charm of the Bourgeoisie.\"', 0, 0, 24671580, 0, 0, 1, 1),\n",
       " (1077, 10295952, 'http://mubi.com/films/simon-of-the-desert/ratings/10295952', None, '2010-02-01 20:30:15', '\"Radioactive Flesh\" -  what a funky little number.  Not sure what Bunuel is trying to say in this film-that there is no god?  (in keeping with his other films- I would say this is his re-occurring theme; anti-establishment and mockery of those in power.)', 0, 0, 35203474, 0, 0, 1, 0),\n",
       " (1077, 10292896, 'http://mubi.com/films/simon-of-the-desert/ratings/10292896', None, '2012-03-05 06:59:24', 'A rather entertaining short film.', 1, 0, 16383003, 0, 0, 1, 0),\n",
       " (1077, 10291269, 'http://mubi.com/films/simon-of-the-desert/ratings/10291269', None, '2009-07-04 06:21:43', \"Buneul's take on religion/morality is a scathing look at faith itself. Able to deflect the devils attempts to turn him, Simon's faith in God cannot guard against Satan's final attack. The scene is hilarious, sad, and releasing at the same time. A great film!!\", 1, 0, 88789868, 0, 0, 1, 0),\n",
       " (1077, 10289223, 'http://mubi.com/films/simon-of-the-desert/ratings/10289223', None, '2012-07-21 04:52:50', \"I love that ending... the cool, flashy pulse of modernity a reprieve from solitude, yet a prison that denies same. It seems to me Buñuel wasn't simply critical of religion, but of the paradoxical inequities of life itself.\", 1, 0, 24671580, 0, 0, 1, 1),\n",
       " (1077, 10286627, 'http://mubi.com/films/simon-of-the-desert/ratings/10286627', None, '2011-04-02 16:47:44', 'I love atheist satire; and Bunuel is the master. Strangely, I felt more emphany at times for El Diablo- Silvia Pinal. Mocking the unreason of Christi ... (58 characters truncated) ... bring Simon into the real world of humans. I know it sounds trite, but I just have no sympathy for a man who denies his dying Mother even an embrace.', 1, 0, 34645252, 0, 0, 1, 0),\n",
       " (1080, 10307719, 'http://mubi.com/films/the-circle/ratings/10307719', None, '2011-05-19 20:16:15', 'This films amazes me each time I see it.', 0, 0, 23003755, 0, 0, 1, 0),\n",
       " (1080, 10302551, 'http://mubi.com/films/the-circle/ratings/10302551', None, '2012-03-07 23:13:17', 'I dont know. surely appropriate colors', 0, 0, 76107116, 0, 0, 1, 0)]"
      ]
     },
     "execution_count": 46,
     "metadata": {},
     "output_type": "execute_result"
    }
   ],
   "source": [
    "%%sql\n",
    "\n",
    "SELECT *\n",
    "FROM ratings\n",
    "WHERE rating_score IS NULL\n",
    "LIMIT 20;\n",
    "    "
   ]
  },
  {
   "cell_type": "markdown",
   "metadata": {},
   "source": [
    "So clearly people gave ratings but did not always give a number. I will drop these for now."
   ]
  },
  {
   "cell_type": "code",
   "execution_count": 47,
   "metadata": {},
   "outputs": [
    {
     "data": {
      "text/plain": [
       "(15520005, 3)"
      ]
     },
     "execution_count": 47,
     "metadata": {},
     "output_type": "execute_result"
    }
   ],
   "source": [
    "df.shape"
   ]
  },
  {
   "cell_type": "code",
   "execution_count": 48,
   "metadata": {},
   "outputs": [
    {
     "data": {
      "text/plain": [
       "(15493274, 3)"
      ]
     },
     "execution_count": 48,
     "metadata": {},
     "output_type": "execute_result"
    }
   ],
   "source": [
    "df.dropna(inplace=True)\n",
    "df.shape"
   ]
  },
  {
   "cell_type": "markdown",
   "metadata": {},
   "source": [
    "Try this again"
   ]
  },
  {
   "cell_type": "code",
   "execution_count": 50,
   "metadata": {},
   "outputs": [
    {
     "data": {
      "text/plain": [
       "(15058157, 3)"
      ]
     },
     "execution_count": 50,
     "metadata": {},
     "output_type": "execute_result"
    }
   ],
   "source": [
    "user_ids = df.user_id.unique()\n",
    "half = math.ceil(len(user_ids)/2)\n",
    "df[df.user_id.isin(user_ids[:half])].shape"
   ]
  },
  {
   "cell_type": "code",
   "execution_count": 55,
   "metadata": {},
   "outputs": [
    {
     "data": {
      "text/plain": [
       "user_id\n",
       "12295046    19983\n",
       "2591449     17053\n",
       "24226320    11183\n",
       "35097747    11158\n",
       "92027428    10544\n",
       "            ...  \n",
       "53881374        1\n",
       "53881199        1\n",
       "53880984        1\n",
       "53880280        1\n",
       "57              1\n",
       "Name: rating_score, Length: 448627, dtype: int64"
      ]
     },
     "execution_count": 55,
     "metadata": {},
     "output_type": "execute_result"
    }
   ],
   "source": [
    "sorted_users = df.groupby('user_id').count()['rating_score'].sort_values(ascending=False)\n",
    "sorted_users"
   ]
  },
  {
   "cell_type": "code",
   "execution_count": 53,
   "metadata": {},
   "outputs": [],
   "source": [
    "from collections import deque"
   ]
  },
  {
   "cell_type": "code",
   "execution_count": 75,
   "metadata": {},
   "outputs": [],
   "source": [
    "sorted_user_id = deque(sorted_users.index)\n",
    "alternating_user_id = []\n",
    "while True:\n",
    "    try:\n",
    "        alternating_user_id.append(sorted_user_id.popleft())\n",
    "        alternating_user_id.append(sorted_user_id.pop())\n",
    "    except IndexError:\n",
    "        break"
   ]
  },
  {
   "cell_type": "code",
   "execution_count": 76,
   "metadata": {},
   "outputs": [
    {
     "data": {
      "text/plain": [
       "448627"
      ]
     },
     "execution_count": 76,
     "metadata": {},
     "output_type": "execute_result"
    }
   ],
   "source": [
    "len(alternating_user_id)"
   ]
  },
  {
   "cell_type": "code",
   "execution_count": 84,
   "metadata": {},
   "outputs": [],
   "source": [
    "quarter = math.ceil(len(user_ids)/4)"
   ]
  },
  {
   "cell_type": "code",
   "execution_count": 85,
   "metadata": {},
   "outputs": [
    {
     "data": {
      "text/plain": [
       "(14061406, 3)"
      ]
     },
     "execution_count": 85,
     "metadata": {},
     "output_type": "execute_result"
    }
   ],
   "source": [
    "df[df.user_id.isin(alternating_user_id[:quarter])].shape"
   ]
  },
  {
   "cell_type": "code",
   "execution_count": 79,
   "metadata": {},
   "outputs": [
    {
     "data": {
      "text/plain": [
       "(15493274, 3)"
      ]
     },
     "execution_count": 79,
     "metadata": {},
     "output_type": "execute_result"
    }
   ],
   "source": [
    "df.shape"
   ]
  },
  {
   "cell_type": "code",
   "execution_count": 86,
   "metadata": {},
   "outputs": [
    {
     "data": {
      "text/plain": [
       "0.9075813156083085"
      ]
     },
     "execution_count": 86,
     "metadata": {},
     "output_type": "execute_result"
    }
   ],
   "source": [
    "14061406/15493274"
   ]
  },
  {
   "cell_type": "code",
   "execution_count": 87,
   "metadata": {},
   "outputs": [
    {
     "data": {
      "text/plain": [
       "user_id\n",
       "12295046    19983\n",
       "57              1\n",
       "2591449     17053\n",
       "53880280        1\n",
       "24226320    11183\n",
       "            ...  \n",
       "83515089        2\n",
       "78869988        2\n",
       "9403191         2\n",
       "78907899        2\n",
       "9432590         2\n",
       "Name: rating_score, Length: 448627, dtype: int64"
      ]
     },
     "execution_count": 87,
     "metadata": {},
     "output_type": "execute_result"
    }
   ],
   "source": [
    "sorted_users[alternating_user_id]"
   ]
  },
  {
   "cell_type": "code",
   "execution_count": 94,
   "metadata": {},
   "outputs": [
    {
     "data": {
      "image/png": "[encoded data removed]",
      "text/plain": [
       "<Figure size 432x288 with 1 Axes>"
      ]
     },
     "metadata": {
      "needs_background": "light"
     },
     "output_type": "display_data"
    }
   ],
   "source": [
    "plt.hist(np.log(sorted_users.values), bins=50)\n",
    "plt.show()"
   ]
  },
  {
   "cell_type": "code",
   "execution_count": 98,
   "metadata": {},
   "outputs": [
    {
     "data": {
      "text/plain": [
       "0.5558292300730897"
      ]
     },
     "execution_count": 98,
     "metadata": {},
     "output_type": "execute_result"
    }
   ],
   "source": [
    "len(sorted_users[sorted_users.values > 1]) / len(sorted_users)"
   ]
  },
  {
   "cell_type": "code",
   "execution_count": 100,
   "metadata": {},
   "outputs": [
    {
     "data": {
      "text/plain": [
       "array([  1.  ,   2.  ,   8.  , 695.74])"
      ]
     },
     "execution_count": 100,
     "metadata": {},
     "output_type": "execute_result"
    }
   ],
   "source": [
    "quants = np.quantile(sorted_users, [.25,.5,.75,.99])\n",
    "quants"
   ]
  },
  {
   "cell_type": "code",
   "execution_count": 101,
   "metadata": {},
   "outputs": [
    {
     "data": {
      "text/plain": [
       "user_id\n",
       "12295046    19983\n",
       "2591449     17053\n",
       "24226320    11183\n",
       "35097747    11158\n",
       "92027428    10544\n",
       "            ...  \n",
       "43670253      696\n",
       "32008466      696\n",
       "36230867      696\n",
       "90320456      696\n",
       "44057149      696\n",
       "Name: rating_score, Length: 4487, dtype: int64"
      ]
     },
     "execution_count": 101,
     "metadata": {},
     "output_type": "execute_result"
    }
   ],
   "source": [
    "sorted_users[sorted_users.values > quants[3]]"
   ]
  },
  {
   "cell_type": "markdown",
   "metadata": {},
   "source": [
    "trying this again"
   ]
  },
  {
   "cell_type": "code",
   "execution_count": 112,
   "metadata": {},
   "outputs": [],
   "source": [
    "sorted_user_id = deque(sorted_users.index)\n",
    "\n",
    "alternating_user_id = []\n",
    "while True:\n",
    "    try:\n",
    "        alternating_user_id.append(sorted_user_id.popleft())\n",
    "        for _ in range(50):\n",
    "            alternating_user_id.append(sorted_user_id.pop())\n",
    "    except IndexError:\n",
    "        break"
   ]
  },
  {
   "cell_type": "code",
   "execution_count": 113,
   "metadata": {},
   "outputs": [
    {
     "data": {
      "text/plain": [
       "(7044376, 3)"
      ]
     },
     "execution_count": 113,
     "metadata": {},
     "output_type": "execute_result"
    }
   ],
   "source": [
    "df[df.user_id.isin(alternating_user_id[:half])].shape"
   ]
  },
  {
   "cell_type": "code",
   "execution_count": 114,
   "metadata": {},
   "outputs": [
    {
     "data": {
      "text/plain": [
       "0.45467316978967776"
      ]
     },
     "execution_count": 114,
     "metadata": {},
     "output_type": "execute_result"
    }
   ],
   "source": [
    "7044376 / len(df)"
   ]
  },
  {
   "cell_type": "markdown",
   "metadata": {},
   "source": [
    "GREAT!"
   ]
  },
  {
   "cell_type": "code",
   "execution_count": 117,
   "metadata": {},
   "outputs": [],
   "source": [
    "df1 = df[df.user_id.isin(alternating_user_id[:half])]\n",
    "df2 = df[df.user_id.isin(alternating_user_id[half:])]"
   ]
  },
  {
   "cell_type": "code",
   "execution_count": 119,
   "metadata": {},
   "outputs": [
    {
     "ename": "IndexError",
     "evalue": "index 1317207497 is out of bounds for axis 0 with size 1317205109",
     "output_type": "error",
     "traceback": [
      "\u001b[1;31m---------------------------------------------------------------------------\u001b[0m",
      "\u001b[1;31mIndexError\u001b[0m                                Traceback (most recent call last)",
      "\u001b[1;32m<ipython-input-119-ebd23e326b13>\u001b[0m in \u001b[0;36m<module>\u001b[1;34m\u001b[0m\n\u001b[1;32m----> 1\u001b[1;33m \u001b[0mdf2\u001b[0m\u001b[1;33m.\u001b[0m\u001b[0mpivot\u001b[0m\u001b[1;33m(\u001b[0m\u001b[0mindex\u001b[0m\u001b[1;33m=\u001b[0m\u001b[1;34m'movie_id'\u001b[0m\u001b[1;33m,\u001b[0m \u001b[0mcolumns\u001b[0m\u001b[1;33m=\u001b[0m\u001b[1;34m'user_id'\u001b[0m\u001b[1;33m,\u001b[0m \u001b[0mvalues\u001b[0m\u001b[1;33m=\u001b[0m\u001b[1;34m'rating_score'\u001b[0m\u001b[1;33m)\u001b[0m\u001b[1;33m\u001b[0m\u001b[1;33m\u001b[0m\u001b[0m\n\u001b[0m",
      "\u001b[1;32m~\\anaconda3\\envs\\cap3\\lib\\site-packages\\pandas\\core\\frame.py\u001b[0m in \u001b[0;36mpivot\u001b[1;34m(self, index, columns, values)\u001b[0m\n\u001b[0;32m   6672\u001b[0m         \u001b[1;32mfrom\u001b[0m \u001b[0mpandas\u001b[0m\u001b[1;33m.\u001b[0m\u001b[0mcore\u001b[0m\u001b[1;33m.\u001b[0m\u001b[0mreshape\u001b[0m\u001b[1;33m.\u001b[0m\u001b[0mpivot\u001b[0m \u001b[1;32mimport\u001b[0m \u001b[0mpivot\u001b[0m\u001b[1;33m\u001b[0m\u001b[1;33m\u001b[0m\u001b[0m\n\u001b[0;32m   6673\u001b[0m \u001b[1;33m\u001b[0m\u001b[0m\n\u001b[1;32m-> 6674\u001b[1;33m         \u001b[1;32mreturn\u001b[0m \u001b[0mpivot\u001b[0m\u001b[1;33m(\u001b[0m\u001b[0mself\u001b[0m\u001b[1;33m,\u001b[0m \u001b[0mindex\u001b[0m\u001b[1;33m=\u001b[0m\u001b[0mindex\u001b[0m\u001b[1;33m,\u001b[0m \u001b[0mcolumns\u001b[0m\u001b[1;33m=\u001b[0m\u001b[0mcolumns\u001b[0m\u001b[1;33m,\u001b[0m \u001b[0mvalues\u001b[0m\u001b[1;33m=\u001b[0m\u001b[0mvalues\u001b[0m\u001b[1;33m)\u001b[0m\u001b[1;33m\u001b[0m\u001b[1;33m\u001b[0m\u001b[0m\n\u001b[0m\u001b[0;32m   6675\u001b[0m \u001b[1;33m\u001b[0m\u001b[0m\n\u001b[0;32m   6676\u001b[0m     _shared_docs[\n",
      "\u001b[1;32m~\\anaconda3\\envs\\cap3\\lib\\site-packages\\pandas\\core\\reshape\\pivot.py\u001b[0m in \u001b[0;36mpivot\u001b[1;34m(data, index, columns, values)\u001b[0m\n\u001b[0;32m    475\u001b[0m         \u001b[1;32melse\u001b[0m\u001b[1;33m:\u001b[0m\u001b[1;33m\u001b[0m\u001b[1;33m\u001b[0m\u001b[0m\n\u001b[0;32m    476\u001b[0m             \u001b[0mindexed\u001b[0m \u001b[1;33m=\u001b[0m \u001b[0mdata\u001b[0m\u001b[1;33m.\u001b[0m\u001b[0m_constructor_sliced\u001b[0m\u001b[1;33m(\u001b[0m\u001b[0mdata\u001b[0m\u001b[1;33m[\u001b[0m\u001b[0mvalues\u001b[0m\u001b[1;33m]\u001b[0m\u001b[1;33m.\u001b[0m\u001b[0m_values\u001b[0m\u001b[1;33m,\u001b[0m \u001b[0mindex\u001b[0m\u001b[1;33m=\u001b[0m\u001b[0mindex\u001b[0m\u001b[1;33m)\u001b[0m\u001b[1;33m\u001b[0m\u001b[1;33m\u001b[0m\u001b[0m\n\u001b[1;32m--> 477\u001b[1;33m     \u001b[1;32mreturn\u001b[0m \u001b[0mindexed\u001b[0m\u001b[1;33m.\u001b[0m\u001b[0munstack\u001b[0m\u001b[1;33m(\u001b[0m\u001b[0mcolumns\u001b[0m\u001b[1;33m)\u001b[0m\u001b[1;33m\u001b[0m\u001b[1;33m\u001b[0m\u001b[0m\n\u001b[0m\u001b[0;32m    478\u001b[0m \u001b[1;33m\u001b[0m\u001b[0m\n\u001b[0;32m    479\u001b[0m \u001b[1;33m\u001b[0m\u001b[0m\n",
      "\u001b[1;32m~\\anaconda3\\envs\\cap3\\lib\\site-packages\\pandas\\core\\series.py\u001b[0m in \u001b[0;36munstack\u001b[1;34m(self, level, fill_value)\u001b[0m\n\u001b[0;32m   3888\u001b[0m         \u001b[1;32mfrom\u001b[0m \u001b[0mpandas\u001b[0m\u001b[1;33m.\u001b[0m\u001b[0mcore\u001b[0m\u001b[1;33m.\u001b[0m\u001b[0mreshape\u001b[0m\u001b[1;33m.\u001b[0m\u001b[0mreshape\u001b[0m \u001b[1;32mimport\u001b[0m \u001b[0munstack\u001b[0m\u001b[1;33m\u001b[0m\u001b[1;33m\u001b[0m\u001b[0m\n\u001b[0;32m   3889\u001b[0m \u001b[1;33m\u001b[0m\u001b[0m\n\u001b[1;32m-> 3890\u001b[1;33m         \u001b[1;32mreturn\u001b[0m \u001b[0munstack\u001b[0m\u001b[1;33m(\u001b[0m\u001b[0mself\u001b[0m\u001b[1;33m,\u001b[0m \u001b[0mlevel\u001b[0m\u001b[1;33m,\u001b[0m \u001b[0mfill_value\u001b[0m\u001b[1;33m)\u001b[0m\u001b[1;33m\u001b[0m\u001b[1;33m\u001b[0m\u001b[0m\n\u001b[0m\u001b[0;32m   3891\u001b[0m \u001b[1;33m\u001b[0m\u001b[0m\n\u001b[0;32m   3892\u001b[0m     \u001b[1;31m# ----------------------------------------------------------------------\u001b[0m\u001b[1;33m\u001b[0m\u001b[1;33m\u001b[0m\u001b[1;33m\u001b[0m\u001b[0m\n",
      "\u001b[1;32m~\\anaconda3\\envs\\cap3\\lib\\site-packages\\pandas\\core\\reshape\\reshape.py\u001b[0m in \u001b[0;36munstack\u001b[1;34m(obj, level, fill_value)\u001b[0m\n\u001b[0;32m    422\u001b[0m         \u001b[1;32mif\u001b[0m \u001b[0mis_extension_array_dtype\u001b[0m\u001b[1;33m(\u001b[0m\u001b[0mobj\u001b[0m\u001b[1;33m.\u001b[0m\u001b[0mdtype\u001b[0m\u001b[1;33m)\u001b[0m\u001b[1;33m:\u001b[0m\u001b[1;33m\u001b[0m\u001b[1;33m\u001b[0m\u001b[0m\n\u001b[0;32m    423\u001b[0m             \u001b[1;32mreturn\u001b[0m \u001b[0m_unstack_extension_series\u001b[0m\u001b[1;33m(\u001b[0m\u001b[0mobj\u001b[0m\u001b[1;33m,\u001b[0m \u001b[0mlevel\u001b[0m\u001b[1;33m,\u001b[0m \u001b[0mfill_value\u001b[0m\u001b[1;33m)\u001b[0m\u001b[1;33m\u001b[0m\u001b[1;33m\u001b[0m\u001b[0m\n\u001b[1;32m--> 424\u001b[1;33m         unstacker = _Unstacker(\n\u001b[0m\u001b[0;32m    425\u001b[0m             \u001b[0mobj\u001b[0m\u001b[1;33m.\u001b[0m\u001b[0mindex\u001b[0m\u001b[1;33m,\u001b[0m \u001b[0mlevel\u001b[0m\u001b[1;33m=\u001b[0m\u001b[0mlevel\u001b[0m\u001b[1;33m,\u001b[0m \u001b[0mconstructor\u001b[0m\u001b[1;33m=\u001b[0m\u001b[0mobj\u001b[0m\u001b[1;33m.\u001b[0m\u001b[0m_constructor_expanddim\u001b[0m\u001b[1;33m,\u001b[0m\u001b[1;33m\u001b[0m\u001b[1;33m\u001b[0m\u001b[0m\n\u001b[0;32m    426\u001b[0m         )\n",
      "\u001b[1;32m~\\anaconda3\\envs\\cap3\\lib\\site-packages\\pandas\\core\\reshape\\reshape.py\u001b[0m in \u001b[0;36m__init__\u001b[1;34m(self, index, level, constructor)\u001b[0m\n\u001b[0;32m    118\u001b[0m             \u001b[1;32mraise\u001b[0m \u001b[0mValueError\u001b[0m\u001b[1;33m(\u001b[0m\u001b[1;34m\"Unstacked DataFrame is too big, causing int32 overflow\"\u001b[0m\u001b[1;33m)\u001b[0m\u001b[1;33m\u001b[0m\u001b[1;33m\u001b[0m\u001b[0m\n\u001b[0;32m    119\u001b[0m \u001b[1;33m\u001b[0m\u001b[0m\n\u001b[1;32m--> 120\u001b[1;33m         \u001b[0mself\u001b[0m\u001b[1;33m.\u001b[0m\u001b[0m_make_selectors\u001b[0m\u001b[1;33m(\u001b[0m\u001b[1;33m)\u001b[0m\u001b[1;33m\u001b[0m\u001b[1;33m\u001b[0m\u001b[0m\n\u001b[0m\u001b[0;32m    121\u001b[0m \u001b[1;33m\u001b[0m\u001b[0m\n\u001b[0;32m    122\u001b[0m     \u001b[1;33m@\u001b[0m\u001b[0mcache_readonly\u001b[0m\u001b[1;33m\u001b[0m\u001b[1;33m\u001b[0m\u001b[0m\n",
      "\u001b[1;32m~\\anaconda3\\envs\\cap3\\lib\\site-packages\\pandas\\core\\reshape\\reshape.py\u001b[0m in \u001b[0;36m_make_selectors\u001b[1;34m(self)\u001b[0m\n\u001b[0;32m    164\u001b[0m         \u001b[0mselector\u001b[0m \u001b[1;33m=\u001b[0m \u001b[0mself\u001b[0m\u001b[1;33m.\u001b[0m\u001b[0msorted_labels\u001b[0m\u001b[1;33m[\u001b[0m\u001b[1;33m-\u001b[0m\u001b[1;36m1\u001b[0m\u001b[1;33m]\u001b[0m \u001b[1;33m+\u001b[0m \u001b[0mstride\u001b[0m \u001b[1;33m*\u001b[0m \u001b[0mcomp_index\u001b[0m \u001b[1;33m+\u001b[0m \u001b[0mself\u001b[0m\u001b[1;33m.\u001b[0m\u001b[0mlift\u001b[0m\u001b[1;33m\u001b[0m\u001b[1;33m\u001b[0m\u001b[0m\n\u001b[0;32m    165\u001b[0m         \u001b[0mmask\u001b[0m \u001b[1;33m=\u001b[0m \u001b[0mnp\u001b[0m\u001b[1;33m.\u001b[0m\u001b[0mzeros\u001b[0m\u001b[1;33m(\u001b[0m\u001b[0mnp\u001b[0m\u001b[1;33m.\u001b[0m\u001b[0mprod\u001b[0m\u001b[1;33m(\u001b[0m\u001b[0mself\u001b[0m\u001b[1;33m.\u001b[0m\u001b[0mfull_shape\u001b[0m\u001b[1;33m)\u001b[0m\u001b[1;33m,\u001b[0m \u001b[0mdtype\u001b[0m\u001b[1;33m=\u001b[0m\u001b[0mbool\u001b[0m\u001b[1;33m)\u001b[0m\u001b[1;33m\u001b[0m\u001b[1;33m\u001b[0m\u001b[0m\n\u001b[1;32m--> 166\u001b[1;33m         \u001b[0mmask\u001b[0m\u001b[1;33m.\u001b[0m\u001b[0mput\u001b[0m\u001b[1;33m(\u001b[0m\u001b[0mselector\u001b[0m\u001b[1;33m,\u001b[0m \u001b[1;32mTrue\u001b[0m\u001b[1;33m)\u001b[0m\u001b[1;33m\u001b[0m\u001b[1;33m\u001b[0m\u001b[0m\n\u001b[0m\u001b[0;32m    167\u001b[0m \u001b[1;33m\u001b[0m\u001b[0m\n\u001b[0;32m    168\u001b[0m         \u001b[1;32mif\u001b[0m \u001b[0mmask\u001b[0m\u001b[1;33m.\u001b[0m\u001b[0msum\u001b[0m\u001b[1;33m(\u001b[0m\u001b[1;33m)\u001b[0m \u001b[1;33m<\u001b[0m \u001b[0mlen\u001b[0m\u001b[1;33m(\u001b[0m\u001b[0mself\u001b[0m\u001b[1;33m.\u001b[0m\u001b[0mindex\u001b[0m\u001b[1;33m)\u001b[0m\u001b[1;33m:\u001b[0m\u001b[1;33m\u001b[0m\u001b[1;33m\u001b[0m\u001b[0m\n",
      "\u001b[1;31mIndexError\u001b[0m: index 1317207497 is out of bounds for axis 0 with size 1317205109"
     ]
    }
   ],
   "source": [
    "df2.pivot(index='movie_id', columns='user_id', values='rating_score')"
   ]
  },
  {
   "cell_type": "code",
   "execution_count": null,
   "metadata": {},
   "outputs": [],
   "source": []
  },
  {
   "cell_type": "code",
   "execution_count": null,
   "metadata": {},
   "outputs": [],
   "source": []
  },
  {
   "cell_type": "code",
   "execution_count": null,
   "metadata": {},
   "outputs": [],
   "source": []
  },
  {
   "cell_type": "code",
   "execution_count": null,
   "metadata": {},
   "outputs": [],
   "source": []
  },
  {
   "cell_type": "code",
   "execution_count": null,
   "metadata": {},
   "outputs": [],
   "source": []
  },
  {
   "cell_type": "code",
   "execution_count": null,
   "metadata": {},
   "outputs": [],
   "source": []
  },
  {
   "cell_type": "code",
   "execution_count": null,
   "metadata": {},
   "outputs": [],
   "source": []
  },
  {
   "cell_type": "code",
   "execution_count": 69,
   "metadata": {},
   "outputs": [
    {
     "data": {
      "text/plain": [
       "deque([12295046,\n",
       "       2591449,\n",
       "       24226320,\n",
       "       35097747,\n",
       "       92027428,\n",
       "       53881374,\n",
       "       53881199,\n",
       "       53880984,\n",
       "       53880280,\n",
       "       57])"
      ]
     },
     "execution_count": 69,
     "metadata": {},
     "output_type": "execute_result"
    }
   ],
   "source": [
    "test_deque =  list(sorted_users.head().index) + list(sorted_users.tail().index)\n",
    "test_deque = deque(test_deque)\n",
    "test_deque"
   ]
  },
  {
   "cell_type": "code",
   "execution_count": 70,
   "metadata": {},
   "outputs": [
    {
     "name": "stdout",
     "output_type": "stream",
     "text": [
      "1\n",
      "2\n",
      "3\n",
      "4\n",
      "5\n"
     ]
    }
   ],
   "source": [
    "alternating_test = []\n",
    "counter = 0\n",
    "while True:\n",
    "    try:\n",
    "        alternating_test.append(test_deque.popleft())\n",
    "        alternating_test.append(test_deque.pop())\n",
    "        counter += 1\n",
    "        print(counter)\n",
    "    except IndexError:\n",
    "        break"
   ]
  },
  {
   "cell_type": "code",
   "execution_count": 71,
   "metadata": {},
   "outputs": [
    {
     "data": {
      "text/plain": [
       "[12295046,\n",
       " 57,\n",
       " 2591449,\n",
       " 53880280,\n",
       " 24226320,\n",
       " 53880984,\n",
       " 35097747,\n",
       " 53881199,\n",
       " 92027428,\n",
       " 53881374]"
      ]
     },
     "execution_count": 71,
     "metadata": {},
     "output_type": "execute_result"
    }
   ],
   "source": [
    "alternating_test"
   ]
  },
  {
   "cell_type": "code",
   "execution_count": null,
   "metadata": {},
   "outputs": [],
   "source": []
  },
  {
   "cell_type": "code",
   "execution_count": 12,
   "metadata": {},
   "outputs": [
    {
     "data": {
      "text/html": [
       "<div>\n",
       "<style scoped>\n",
       "    .dataframe tbody tr th:only-of-type {\n",
       "        vertical-align: middle;\n",
       "    }\n",
       "\n",
       "    .dataframe tbody tr th {\n",
       "        vertical-align: top;\n",
       "    }\n",
       "\n",
       "    .dataframe thead th {\n",
       "        text-align: right;\n",
       "    }\n",
       "</style>\n",
       "<table border=\"1\" class=\"dataframe\">\n",
       "  <thead>\n",
       "    <tr style=\"text-align: right;\">\n",
       "      <th>user_id</th>\n",
       "      <th>2941</th>\n",
       "      <th>21875</th>\n",
       "      <th>22452</th>\n",
       "      <th>76199</th>\n",
       "      <th>78410</th>\n",
       "      <th>83575</th>\n",
       "      <th>94978</th>\n",
       "      <th>95967</th>\n",
       "      <th>99812</th>\n",
       "      <th>126081</th>\n",
       "      <th>...</th>\n",
       "      <th>99823436</th>\n",
       "      <th>99825565</th>\n",
       "      <th>99866452</th>\n",
       "      <th>99869481</th>\n",
       "      <th>99876934</th>\n",
       "      <th>99909118</th>\n",
       "      <th>99916113</th>\n",
       "      <th>99950057</th>\n",
       "      <th>99959742</th>\n",
       "      <th>99988538</th>\n",
       "    </tr>\n",
       "    <tr>\n",
       "      <th>movie_id</th>\n",
       "      <th></th>\n",
       "      <th></th>\n",
       "      <th></th>\n",
       "      <th></th>\n",
       "      <th></th>\n",
       "      <th></th>\n",
       "      <th></th>\n",
       "      <th></th>\n",
       "      <th></th>\n",
       "      <th></th>\n",
       "      <th></th>\n",
       "      <th></th>\n",
       "      <th></th>\n",
       "      <th></th>\n",
       "      <th></th>\n",
       "      <th></th>\n",
       "      <th></th>\n",
       "      <th></th>\n",
       "      <th></th>\n",
       "      <th></th>\n",
       "      <th></th>\n",
       "    </tr>\n",
       "  </thead>\n",
       "  <tbody>\n",
       "    <tr>\n",
       "      <th>1066</th>\n",
       "      <td>NaN</td>\n",
       "      <td>NaN</td>\n",
       "      <td>NaN</td>\n",
       "      <td>NaN</td>\n",
       "      <td>NaN</td>\n",
       "      <td>NaN</td>\n",
       "      <td>NaN</td>\n",
       "      <td>NaN</td>\n",
       "      <td>NaN</td>\n",
       "      <td>NaN</td>\n",
       "      <td>...</td>\n",
       "      <td>NaN</td>\n",
       "      <td>NaN</td>\n",
       "      <td>NaN</td>\n",
       "      <td>NaN</td>\n",
       "      <td>NaN</td>\n",
       "      <td>NaN</td>\n",
       "      <td>NaN</td>\n",
       "      <td>NaN</td>\n",
       "      <td>NaN</td>\n",
       "      <td>NaN</td>\n",
       "    </tr>\n",
       "    <tr>\n",
       "      <th>1067</th>\n",
       "      <td>NaN</td>\n",
       "      <td>NaN</td>\n",
       "      <td>NaN</td>\n",
       "      <td>NaN</td>\n",
       "      <td>NaN</td>\n",
       "      <td>NaN</td>\n",
       "      <td>NaN</td>\n",
       "      <td>NaN</td>\n",
       "      <td>NaN</td>\n",
       "      <td>NaN</td>\n",
       "      <td>...</td>\n",
       "      <td>NaN</td>\n",
       "      <td>NaN</td>\n",
       "      <td>NaN</td>\n",
       "      <td>NaN</td>\n",
       "      <td>NaN</td>\n",
       "      <td>NaN</td>\n",
       "      <td>NaN</td>\n",
       "      <td>NaN</td>\n",
       "      <td>NaN</td>\n",
       "      <td>NaN</td>\n",
       "    </tr>\n",
       "    <tr>\n",
       "      <th>1068</th>\n",
       "      <td>NaN</td>\n",
       "      <td>NaN</td>\n",
       "      <td>NaN</td>\n",
       "      <td>NaN</td>\n",
       "      <td>NaN</td>\n",
       "      <td>NaN</td>\n",
       "      <td>NaN</td>\n",
       "      <td>NaN</td>\n",
       "      <td>NaN</td>\n",
       "      <td>NaN</td>\n",
       "      <td>...</td>\n",
       "      <td>NaN</td>\n",
       "      <td>NaN</td>\n",
       "      <td>NaN</td>\n",
       "      <td>NaN</td>\n",
       "      <td>NaN</td>\n",
       "      <td>NaN</td>\n",
       "      <td>NaN</td>\n",
       "      <td>NaN</td>\n",
       "      <td>NaN</td>\n",
       "      <td>NaN</td>\n",
       "    </tr>\n",
       "    <tr>\n",
       "      <th>1069</th>\n",
       "      <td>NaN</td>\n",
       "      <td>NaN</td>\n",
       "      <td>NaN</td>\n",
       "      <td>NaN</td>\n",
       "      <td>NaN</td>\n",
       "      <td>NaN</td>\n",
       "      <td>NaN</td>\n",
       "      <td>NaN</td>\n",
       "      <td>NaN</td>\n",
       "      <td>NaN</td>\n",
       "      <td>...</td>\n",
       "      <td>NaN</td>\n",
       "      <td>NaN</td>\n",
       "      <td>NaN</td>\n",
       "      <td>NaN</td>\n",
       "      <td>4.0</td>\n",
       "      <td>NaN</td>\n",
       "      <td>NaN</td>\n",
       "      <td>NaN</td>\n",
       "      <td>NaN</td>\n",
       "      <td>NaN</td>\n",
       "    </tr>\n",
       "    <tr>\n",
       "      <th>1070</th>\n",
       "      <td>NaN</td>\n",
       "      <td>NaN</td>\n",
       "      <td>NaN</td>\n",
       "      <td>NaN</td>\n",
       "      <td>NaN</td>\n",
       "      <td>NaN</td>\n",
       "      <td>NaN</td>\n",
       "      <td>NaN</td>\n",
       "      <td>NaN</td>\n",
       "      <td>NaN</td>\n",
       "      <td>...</td>\n",
       "      <td>NaN</td>\n",
       "      <td>NaN</td>\n",
       "      <td>NaN</td>\n",
       "      <td>NaN</td>\n",
       "      <td>NaN</td>\n",
       "      <td>NaN</td>\n",
       "      <td>NaN</td>\n",
       "      <td>NaN</td>\n",
       "      <td>NaN</td>\n",
       "      <td>NaN</td>\n",
       "    </tr>\n",
       "    <tr>\n",
       "      <th>1071</th>\n",
       "      <td>NaN</td>\n",
       "      <td>NaN</td>\n",
       "      <td>NaN</td>\n",
       "      <td>NaN</td>\n",
       "      <td>NaN</td>\n",
       "      <td>NaN</td>\n",
       "      <td>NaN</td>\n",
       "      <td>NaN</td>\n",
       "      <td>NaN</td>\n",
       "      <td>NaN</td>\n",
       "      <td>...</td>\n",
       "      <td>NaN</td>\n",
       "      <td>NaN</td>\n",
       "      <td>NaN</td>\n",
       "      <td>NaN</td>\n",
       "      <td>NaN</td>\n",
       "      <td>NaN</td>\n",
       "      <td>NaN</td>\n",
       "      <td>NaN</td>\n",
       "      <td>NaN</td>\n",
       "      <td>NaN</td>\n",
       "    </tr>\n",
       "    <tr>\n",
       "      <th>1072</th>\n",
       "      <td>NaN</td>\n",
       "      <td>NaN</td>\n",
       "      <td>NaN</td>\n",
       "      <td>NaN</td>\n",
       "      <td>NaN</td>\n",
       "      <td>NaN</td>\n",
       "      <td>NaN</td>\n",
       "      <td>NaN</td>\n",
       "      <td>NaN</td>\n",
       "      <td>NaN</td>\n",
       "      <td>...</td>\n",
       "      <td>NaN</td>\n",
       "      <td>NaN</td>\n",
       "      <td>NaN</td>\n",
       "      <td>NaN</td>\n",
       "      <td>NaN</td>\n",
       "      <td>NaN</td>\n",
       "      <td>NaN</td>\n",
       "      <td>NaN</td>\n",
       "      <td>NaN</td>\n",
       "      <td>NaN</td>\n",
       "    </tr>\n",
       "    <tr>\n",
       "      <th>1073</th>\n",
       "      <td>NaN</td>\n",
       "      <td>NaN</td>\n",
       "      <td>NaN</td>\n",
       "      <td>NaN</td>\n",
       "      <td>NaN</td>\n",
       "      <td>4.0</td>\n",
       "      <td>NaN</td>\n",
       "      <td>NaN</td>\n",
       "      <td>NaN</td>\n",
       "      <td>NaN</td>\n",
       "      <td>...</td>\n",
       "      <td>NaN</td>\n",
       "      <td>NaN</td>\n",
       "      <td>NaN</td>\n",
       "      <td>NaN</td>\n",
       "      <td>NaN</td>\n",
       "      <td>NaN</td>\n",
       "      <td>NaN</td>\n",
       "      <td>NaN</td>\n",
       "      <td>NaN</td>\n",
       "      <td>NaN</td>\n",
       "    </tr>\n",
       "    <tr>\n",
       "      <th>1076</th>\n",
       "      <td>5.0</td>\n",
       "      <td>3.0</td>\n",
       "      <td>4.0</td>\n",
       "      <td>5.0</td>\n",
       "      <td>5.0</td>\n",
       "      <td>NaN</td>\n",
       "      <td>4.0</td>\n",
       "      <td>4.0</td>\n",
       "      <td>5.0</td>\n",
       "      <td>4.0</td>\n",
       "      <td>...</td>\n",
       "      <td>5.0</td>\n",
       "      <td>5.0</td>\n",
       "      <td>4.0</td>\n",
       "      <td>5.0</td>\n",
       "      <td>NaN</td>\n",
       "      <td>5.0</td>\n",
       "      <td>3.0</td>\n",
       "      <td>5.0</td>\n",
       "      <td>4.0</td>\n",
       "      <td>4.0</td>\n",
       "    </tr>\n",
       "    <tr>\n",
       "      <th>1077</th>\n",
       "      <td>NaN</td>\n",
       "      <td>NaN</td>\n",
       "      <td>NaN</td>\n",
       "      <td>NaN</td>\n",
       "      <td>NaN</td>\n",
       "      <td>NaN</td>\n",
       "      <td>NaN</td>\n",
       "      <td>NaN</td>\n",
       "      <td>NaN</td>\n",
       "      <td>NaN</td>\n",
       "      <td>...</td>\n",
       "      <td>NaN</td>\n",
       "      <td>NaN</td>\n",
       "      <td>NaN</td>\n",
       "      <td>NaN</td>\n",
       "      <td>NaN</td>\n",
       "      <td>NaN</td>\n",
       "      <td>NaN</td>\n",
       "      <td>NaN</td>\n",
       "      <td>NaN</td>\n",
       "      <td>NaN</td>\n",
       "    </tr>\n",
       "  </tbody>\n",
       "</table>\n",
       "<p>10 rows × 4631 columns</p>\n",
       "</div>"
      ],
      "text/plain": [
       "user_id   2941      21875     22452     76199     78410     83575     \\\n",
       "movie_id                                                               \n",
       "1066           NaN       NaN       NaN       NaN       NaN       NaN   \n",
       "1067           NaN       NaN       NaN       NaN       NaN       NaN   \n",
       "1068           NaN       NaN       NaN       NaN       NaN       NaN   \n",
       "1069           NaN       NaN       NaN       NaN       NaN       NaN   \n",
       "1070           NaN       NaN       NaN       NaN       NaN       NaN   \n",
       "1071           NaN       NaN       NaN       NaN       NaN       NaN   \n",
       "1072           NaN       NaN       NaN       NaN       NaN       NaN   \n",
       "1073           NaN       NaN       NaN       NaN       NaN       4.0   \n",
       "1076           5.0       3.0       4.0       5.0       5.0       NaN   \n",
       "1077           NaN       NaN       NaN       NaN       NaN       NaN   \n",
       "\n",
       "user_id   94978     95967     99812     126081    ...  99823436  99825565  \\\n",
       "movie_id                                          ...                       \n",
       "1066           NaN       NaN       NaN       NaN  ...       NaN       NaN   \n",
       "1067           NaN       NaN       NaN       NaN  ...       NaN       NaN   \n",
       "1068           NaN       NaN       NaN       NaN  ...       NaN       NaN   \n",
       "1069           NaN       NaN       NaN       NaN  ...       NaN       NaN   \n",
       "1070           NaN       NaN       NaN       NaN  ...       NaN       NaN   \n",
       "1071           NaN       NaN       NaN       NaN  ...       NaN       NaN   \n",
       "1072           NaN       NaN       NaN       NaN  ...       NaN       NaN   \n",
       "1073           NaN       NaN       NaN       NaN  ...       NaN       NaN   \n",
       "1076           4.0       4.0       5.0       4.0  ...       5.0       5.0   \n",
       "1077           NaN       NaN       NaN       NaN  ...       NaN       NaN   \n",
       "\n",
       "user_id   99866452  99869481  99876934  99909118  99916113  99950057  \\\n",
       "movie_id                                                               \n",
       "1066           NaN       NaN       NaN       NaN       NaN       NaN   \n",
       "1067           NaN       NaN       NaN       NaN       NaN       NaN   \n",
       "1068           NaN       NaN       NaN       NaN       NaN       NaN   \n",
       "1069           NaN       NaN       4.0       NaN       NaN       NaN   \n",
       "1070           NaN       NaN       NaN       NaN       NaN       NaN   \n",
       "1071           NaN       NaN       NaN       NaN       NaN       NaN   \n",
       "1072           NaN       NaN       NaN       NaN       NaN       NaN   \n",
       "1073           NaN       NaN       NaN       NaN       NaN       NaN   \n",
       "1076           4.0       5.0       NaN       5.0       3.0       5.0   \n",
       "1077           NaN       NaN       NaN       NaN       NaN       NaN   \n",
       "\n",
       "user_id   99959742  99988538  \n",
       "movie_id                      \n",
       "1066           NaN       NaN  \n",
       "1067           NaN       NaN  \n",
       "1068           NaN       NaN  \n",
       "1069           NaN       NaN  \n",
       "1070           NaN       NaN  \n",
       "1071           NaN       NaN  \n",
       "1072           NaN       NaN  \n",
       "1073           NaN       NaN  \n",
       "1076           4.0       4.0  \n",
       "1077           NaN       NaN  \n",
       "\n",
       "[10 rows x 4631 columns]"
      ]
     },
     "execution_count": 12,
     "metadata": {},
     "output_type": "execute_result"
    }
   ],
   "source": [
    "df.pivot(index='movie_id', columns='user_id', values='rating_score')"
   ]
  },
  {
   "cell_type": "code",
   "execution_count": null,
   "metadata": {},
   "outputs": [],
   "source": []
  }
 ],
 "metadata": {
  "kernelspec": {
   "display_name": "cap3",
   "language": "python",
   "name": "cap3"
  },
  "language_info": {
   "codemirror_mode": {
    "name": "ipython",
    "version": 3
   },
   "file_extension": ".py",
   "mimetype": "text/x-python",
   "name": "python",
   "nbconvert_exporter": "python",
   "pygments_lexer": "ipython3",
   "version": "3.8.5"
  }
 },
 "nbformat": 4,
 "nbformat_minor": 4
}
