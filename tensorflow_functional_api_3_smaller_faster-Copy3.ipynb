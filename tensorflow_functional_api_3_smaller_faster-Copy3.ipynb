{
 "cells": [
  {
   "cell_type": "markdown",
   "id": "e251b6f4",
   "metadata": {},
   "source": [
    "code is from here: https://heartbeat.fritz.ai/build-train-and-deploy-a-book-recommender-system-using-keras-tensorflow-js-b96944b936a7"
   ]
  },
  {
   "cell_type": "code",
   "execution_count": 1,
   "id": "f66ab82a",
   "metadata": {},
   "outputs": [],
   "source": [
    "import numpy as np\n",
    "import pandas as pd\n",
    "from sklearn.model_selection import train_test_split\n",
    "from sklearn.preprocessing import LabelEncoder\n",
    "import matplotlib.pyplot as plt\n",
    "\n",
    "import tensorflow as tf\n",
    "from tensorflow import keras\n",
    "from tensorflow.keras import layers"
   ]
  },
  {
   "cell_type": "code",
   "execution_count": null,
   "id": "cd872b00",
   "metadata": {},
   "outputs": [],
   "source": [
    "# import tensorflow_recommenders as tfrs"
   ]
  },
  {
   "cell_type": "code",
   "execution_count": 2,
   "id": "6af302da",
   "metadata": {},
   "outputs": [],
   "source": [
    "ratings = pd.read_pickle(\"./Data/top100_longform.pkl\")\n",
    "# ratings = pd.read_pickle(\"./Data/moderate_users_longform.pkl\")\n",
    "user_stats = pd.read_pickle(\"./Data/moderate_user_stats.pkl\")"
   ]
  },
  {
   "cell_type": "code",
   "execution_count": 3,
   "id": "f3a9fcd3",
   "metadata": {},
   "outputs": [
    {
     "data": {
      "text/plain": [
       "100"
      ]
     },
     "execution_count": 3,
     "metadata": {},
     "output_type": "execute_result"
    }
   ],
   "source": [
    "user_enc = LabelEncoder()\n",
    "ratings['user'] = user_enc.fit_transform(ratings['user_id'].values)\n",
    "n_users = ratings['user'].nunique()\n",
    "n_users"
   ]
  },
  {
   "cell_type": "code",
   "execution_count": 4,
   "id": "3ed57496",
   "metadata": {},
   "outputs": [
    {
     "data": {
      "text/plain": [
       "11189"
      ]
     },
     "execution_count": 4,
     "metadata": {},
     "output_type": "execute_result"
    }
   ],
   "source": [
    "item_enc = LabelEncoder()\n",
    "ratings['movie'] = item_enc.fit_transform(ratings['movie_id'].values)\n",
    "n_movies = ratings['movie'].nunique()\n",
    "n_movies"
   ]
  },
  {
   "cell_type": "code",
   "execution_count": 5,
   "id": "0d7c39b7",
   "metadata": {},
   "outputs": [
    {
     "data": {
      "text/html": [
       "<div>\n",
       "<style scoped>\n",
       "    .dataframe tbody tr th:only-of-type {\n",
       "        vertical-align: middle;\n",
       "    }\n",
       "\n",
       "    .dataframe tbody tr th {\n",
       "        vertical-align: top;\n",
       "    }\n",
       "\n",
       "    .dataframe thead th {\n",
       "        text-align: right;\n",
       "    }\n",
       "</style>\n",
       "<table border=\"1\" class=\"dataframe\">\n",
       "  <thead>\n",
       "    <tr style=\"text-align: right;\">\n",
       "      <th></th>\n",
       "      <th>movie_id</th>\n",
       "      <th>rating_score</th>\n",
       "      <th>user_id</th>\n",
       "      <th>user</th>\n",
       "      <th>movie</th>\n",
       "    </tr>\n",
       "  </thead>\n",
       "  <tbody>\n",
       "    <tr>\n",
       "      <th>473</th>\n",
       "      <td>1069</td>\n",
       "      <td>3</td>\n",
       "      <td>23762937</td>\n",
       "      <td>25</td>\n",
       "      <td>826</td>\n",
       "    </tr>\n",
       "    <tr>\n",
       "      <th>514</th>\n",
       "      <td>1069</td>\n",
       "      <td>4</td>\n",
       "      <td>16356754</td>\n",
       "      <td>17</td>\n",
       "      <td>826</td>\n",
       "    </tr>\n",
       "    <tr>\n",
       "      <th>556</th>\n",
       "      <td>1069</td>\n",
       "      <td>3</td>\n",
       "      <td>14473982</td>\n",
       "      <td>13</td>\n",
       "      <td>826</td>\n",
       "    </tr>\n",
       "    <tr>\n",
       "      <th>570</th>\n",
       "      <td>1069</td>\n",
       "      <td>4</td>\n",
       "      <td>25960703</td>\n",
       "      <td>28</td>\n",
       "      <td>826</td>\n",
       "    </tr>\n",
       "    <tr>\n",
       "      <th>641</th>\n",
       "      <td>1069</td>\n",
       "      <td>4</td>\n",
       "      <td>29084857</td>\n",
       "      <td>37</td>\n",
       "      <td>826</td>\n",
       "    </tr>\n",
       "  </tbody>\n",
       "</table>\n",
       "</div>"
      ],
      "text/plain": [
       "     movie_id  rating_score   user_id  user  movie\n",
       "473      1069             3  23762937    25    826\n",
       "514      1069             4  16356754    17    826\n",
       "556      1069             3  14473982    13    826\n",
       "570      1069             4  25960703    28    826\n",
       "641      1069             4  29084857    37    826"
      ]
     },
     "execution_count": 5,
     "metadata": {},
     "output_type": "execute_result"
    }
   ],
   "source": [
    "ratings.head()"
   ]
  },
  {
   "cell_type": "code",
   "execution_count": 6,
   "id": "dbcb7d18",
   "metadata": {},
   "outputs": [
    {
     "data": {
      "text/html": [
       "<div>\n",
       "<style scoped>\n",
       "    .dataframe tbody tr th:only-of-type {\n",
       "        vertical-align: middle;\n",
       "    }\n",
       "\n",
       "    .dataframe tbody tr th {\n",
       "        vertical-align: top;\n",
       "    }\n",
       "\n",
       "    .dataframe thead th {\n",
       "        text-align: right;\n",
       "    }\n",
       "</style>\n",
       "<table border=\"1\" class=\"dataframe\">\n",
       "  <thead>\n",
       "    <tr style=\"text-align: right;\">\n",
       "      <th></th>\n",
       "      <th>movie_id</th>\n",
       "      <th>user_id</th>\n",
       "      <th>user</th>\n",
       "      <th>movie</th>\n",
       "    </tr>\n",
       "    <tr>\n",
       "      <th>rating_score</th>\n",
       "      <th></th>\n",
       "      <th></th>\n",
       "      <th></th>\n",
       "      <th></th>\n",
       "    </tr>\n",
       "  </thead>\n",
       "  <tbody>\n",
       "    <tr>\n",
       "      <th>1</th>\n",
       "      <td>1886</td>\n",
       "      <td>1886</td>\n",
       "      <td>1886</td>\n",
       "      <td>1886</td>\n",
       "    </tr>\n",
       "    <tr>\n",
       "      <th>2</th>\n",
       "      <td>4729</td>\n",
       "      <td>4729</td>\n",
       "      <td>4729</td>\n",
       "      <td>4729</td>\n",
       "    </tr>\n",
       "    <tr>\n",
       "      <th>3</th>\n",
       "      <td>14046</td>\n",
       "      <td>14046</td>\n",
       "      <td>14046</td>\n",
       "      <td>14046</td>\n",
       "    </tr>\n",
       "    <tr>\n",
       "      <th>4</th>\n",
       "      <td>18624</td>\n",
       "      <td>18624</td>\n",
       "      <td>18624</td>\n",
       "      <td>18624</td>\n",
       "    </tr>\n",
       "    <tr>\n",
       "      <th>5</th>\n",
       "      <td>9449</td>\n",
       "      <td>9449</td>\n",
       "      <td>9449</td>\n",
       "      <td>9449</td>\n",
       "    </tr>\n",
       "  </tbody>\n",
       "</table>\n",
       "</div>"
      ],
      "text/plain": [
       "              movie_id  user_id   user  movie\n",
       "rating_score                                 \n",
       "1                 1886     1886   1886   1886\n",
       "2                 4729     4729   4729   4729\n",
       "3                14046    14046  14046  14046\n",
       "4                18624    18624  18624  18624\n",
       "5                 9449     9449   9449   9449"
      ]
     },
     "execution_count": 6,
     "metadata": {},
     "output_type": "execute_result"
    }
   ],
   "source": [
    "ratings.groupby('rating_score').count()"
   ]
  },
  {
   "cell_type": "code",
   "execution_count": null,
   "id": "ed2b3a96",
   "metadata": {},
   "outputs": [],
   "source": [
    "def center_ratings(ratings_df, users_df):\n",
    "    ratings_df['centered_rating'] = None\n",
    "    for row in ratings_df.index:\n",
    "        mean_val = users_df.at[ratings_df.at[row, 'user_id'], 'mean_score']\n",
    "        ratings_df.at[row, 'centered_rating'] = ratings_df.at[row, 'rating_score'] - mean_val\n",
    "        \n",
    "    return ratings_df"
   ]
  },
  {
   "cell_type": "code",
   "execution_count": null,
   "id": "f5b4d93a",
   "metadata": {},
   "outputs": [],
   "source": [
    "ratings_centered = center_ratings(ratings, user_stats)"
   ]
  },
  {
   "cell_type": "code",
   "execution_count": 7,
   "id": "ba60506e",
   "metadata": {},
   "outputs": [
    {
     "data": {
      "text/plain": [
       "((48734, 2), (48734,))"
      ]
     },
     "execution_count": 7,
     "metadata": {},
     "output_type": "execute_result"
    }
   ],
   "source": [
    "\n",
    "X = ratings[['movie', 'user']].values\n",
    "y = ratings['rating_score'].values\n",
    "\n",
    "X.shape, y.shape"
   ]
  },
  {
   "cell_type": "code",
   "execution_count": 10,
   "id": "0f7cad98",
   "metadata": {},
   "outputs": [],
   "source": [
    "X_train, X_test = train_test_split(ratings[['movie', 'user', 'rating_score']], test_size=0.4, random_state=42)"
   ]
  },
  {
   "cell_type": "code",
   "execution_count": 11,
   "id": "14d97c94",
   "metadata": {},
   "outputs": [
    {
     "data": {
      "text/plain": [
       "((29240, 3), (19494, 3))"
      ]
     },
     "execution_count": 11,
     "metadata": {},
     "output_type": "execute_result"
    }
   ],
   "source": [
    "X_train.shape, X_test.shape"
   ]
  },
  {
   "cell_type": "code",
   "execution_count": 12,
   "id": "544feed5",
   "metadata": {},
   "outputs": [],
   "source": [
    "nmovie_id = ratings.movie_id.nunique()\n",
    "nuser_id = ratings.user_id.nunique()"
   ]
  },
  {
   "cell_type": "code",
   "execution_count": 52,
   "id": "ab6512ad",
   "metadata": {},
   "outputs": [],
   "source": [
    "del model"
   ]
  },
  {
   "cell_type": "code",
   "execution_count": 13,
   "id": "667c45e5",
   "metadata": {},
   "outputs": [],
   "source": [
    "input_movies = keras.layers.Input(shape=[1])\n",
    "embed_movies = keras.layers.Embedding(nmovie_id+1, 15)(input_movies)\n",
    "movies_out = keras.layers.Flatten()(embed_movies)\n",
    "\n",
    "input_users = keras.layers.Input(shape=[1])\n",
    "embed_users = keras.layers.Embedding(nuser_id+1, 15)(input_users)\n",
    "users_out = keras.layers.Flatten()(embed_users)\n",
    "\n",
    "conc_layer = keras.layers.Concatenate()([movies_out, users_out])\n",
    "x = keras.layers.Dense(128, activation='relu')(conc_layer)\n",
    "\n",
    "dense2 = x = keras.layers.Dense(128, activation='relu')(x)\n",
    "dropout = x = keras.layers.Dropout(rate=.2, seed=42)(x)\n",
    "dense3 = x = keras.layers.Dense(16, activation='relu')(x)\n",
    "x_out = x = keras.layers.Dense(1, activation='relu')(x)\n",
    "\n",
    "\n",
    "model = keras.Model([input_movies, input_users], x_out)"
   ]
  },
  {
   "cell_type": "code",
   "execution_count": 14,
   "id": "ef75e68c",
   "metadata": {},
   "outputs": [],
   "source": [
    "opt = tf.optimizers.Adam(learning_rate=.001)\n",
    "model.compile(optimizer=opt, loss='mean_squared_error', metrics = keras.metrics.RootMeanSquaredError())\n",
    "\n",
    "# model.summary()"
   ]
  },
  {
   "cell_type": "code",
   "execution_count": 15,
   "id": "18cf8ab3",
   "metadata": {
    "scrolled": true
   },
   "outputs": [
    {
     "name": "stdout",
     "output_type": "stream",
     "text": [
      "Epoch 1/20\n",
      "1462/1462 [==============================] - 30s 19ms/step - loss: 2.1508 - root_mean_squared_error: 1.3851 - val_loss: 0.8542 - val_root_mean_squared_error: 0.9242\n",
      "Epoch 2/20\n",
      "1462/1462 [==============================] - 27s 19ms/step - loss: 0.7663 - root_mean_squared_error: 0.8753 - val_loss: 0.8592 - val_root_mean_squared_error: 0.9270\n",
      "Epoch 3/20\n",
      "1462/1462 [==============================] - 23s 16ms/step - loss: 0.6307 - root_mean_squared_error: 0.7940 - val_loss: 0.8320 - val_root_mean_squared_error: 0.9121\n",
      "Epoch 4/20\n",
      "1462/1462 [==============================] - 22s 15ms/step - loss: 0.5790 - root_mean_squared_error: 0.7608 - val_loss: 0.8479 - val_root_mean_squared_error: 0.9208\n",
      "Epoch 5/20\n",
      "1462/1462 [==============================] - 21s 14ms/step - loss: 0.4993 - root_mean_squared_error: 0.7065 - val_loss: 0.8909 - val_root_mean_squared_error: 0.9439\n",
      "Epoch 6/20\n",
      "1462/1462 [==============================] - 27s 18ms/step - loss: 0.4266 - root_mean_squared_error: 0.6531 - val_loss: 0.9478 - val_root_mean_squared_error: 0.9736\n",
      "Epoch 7/20\n",
      " 457/1462 [========>.....................] - ETA: 10s - loss: 0.3626 - root_mean_squared_error: 0.6021"
     ]
    },
    {
     "ename": "KeyboardInterrupt",
     "evalue": "",
     "output_type": "error",
     "traceback": [
      "\u001b[0;31m---------------------------------------------------------------------------\u001b[0m",
      "\u001b[0;31mKeyboardInterrupt\u001b[0m                         Traceback (most recent call last)",
      "\u001b[0;32m<ipython-input-15-1ab9a8f50f72>\u001b[0m in \u001b[0;36m<module>\u001b[0;34m\u001b[0m\n\u001b[0;32m----> 1\u001b[0;31m hist = model.fit([X_train.movie, X_train.user], \n\u001b[0m\u001b[1;32m      2\u001b[0m                  \u001b[0mX_train\u001b[0m\u001b[0;34m.\u001b[0m\u001b[0mrating_score\u001b[0m\u001b[0;34m,\u001b[0m\u001b[0;34m\u001b[0m\u001b[0;34m\u001b[0m\u001b[0m\n\u001b[1;32m      3\u001b[0m                  batch_size=16, epochs=20, verbose=1, validation_split=.2)\n",
      "\u001b[0;32m~/anaconda3/envs/tf_env/lib/python3.8/site-packages/tensorflow/python/keras/engine/training.py\u001b[0m in \u001b[0;36mfit\u001b[0;34m(self, x, y, batch_size, epochs, verbose, callbacks, validation_split, validation_data, shuffle, class_weight, sample_weight, initial_epoch, steps_per_epoch, validation_steps, validation_batch_size, validation_freq, max_queue_size, workers, use_multiprocessing)\u001b[0m\n\u001b[1;32m   1098\u001b[0m                 _r=1):\n\u001b[1;32m   1099\u001b[0m               \u001b[0mcallbacks\u001b[0m\u001b[0;34m.\u001b[0m\u001b[0mon_train_batch_begin\u001b[0m\u001b[0;34m(\u001b[0m\u001b[0mstep\u001b[0m\u001b[0;34m)\u001b[0m\u001b[0;34m\u001b[0m\u001b[0;34m\u001b[0m\u001b[0m\n\u001b[0;32m-> 1100\u001b[0;31m               \u001b[0mtmp_logs\u001b[0m \u001b[0;34m=\u001b[0m \u001b[0mself\u001b[0m\u001b[0;34m.\u001b[0m\u001b[0mtrain_function\u001b[0m\u001b[0;34m(\u001b[0m\u001b[0miterator\u001b[0m\u001b[0;34m)\u001b[0m\u001b[0;34m\u001b[0m\u001b[0;34m\u001b[0m\u001b[0m\n\u001b[0m\u001b[1;32m   1101\u001b[0m               \u001b[0;32mif\u001b[0m \u001b[0mdata_handler\u001b[0m\u001b[0;34m.\u001b[0m\u001b[0mshould_sync\u001b[0m\u001b[0;34m:\u001b[0m\u001b[0;34m\u001b[0m\u001b[0;34m\u001b[0m\u001b[0m\n\u001b[1;32m   1102\u001b[0m                 \u001b[0mcontext\u001b[0m\u001b[0;34m.\u001b[0m\u001b[0masync_wait\u001b[0m\u001b[0;34m(\u001b[0m\u001b[0;34m)\u001b[0m\u001b[0;34m\u001b[0m\u001b[0;34m\u001b[0m\u001b[0m\n",
      "\u001b[0;32m~/anaconda3/envs/tf_env/lib/python3.8/site-packages/tensorflow/python/eager/def_function.py\u001b[0m in \u001b[0;36m__call__\u001b[0;34m(self, *args, **kwds)\u001b[0m\n\u001b[1;32m    826\u001b[0m     \u001b[0mtracing_count\u001b[0m \u001b[0;34m=\u001b[0m \u001b[0mself\u001b[0m\u001b[0;34m.\u001b[0m\u001b[0mexperimental_get_tracing_count\u001b[0m\u001b[0;34m(\u001b[0m\u001b[0;34m)\u001b[0m\u001b[0;34m\u001b[0m\u001b[0;34m\u001b[0m\u001b[0m\n\u001b[1;32m    827\u001b[0m     \u001b[0;32mwith\u001b[0m \u001b[0mtrace\u001b[0m\u001b[0;34m.\u001b[0m\u001b[0mTrace\u001b[0m\u001b[0;34m(\u001b[0m\u001b[0mself\u001b[0m\u001b[0;34m.\u001b[0m\u001b[0m_name\u001b[0m\u001b[0;34m)\u001b[0m \u001b[0;32mas\u001b[0m \u001b[0mtm\u001b[0m\u001b[0;34m:\u001b[0m\u001b[0;34m\u001b[0m\u001b[0;34m\u001b[0m\u001b[0m\n\u001b[0;32m--> 828\u001b[0;31m       \u001b[0mresult\u001b[0m \u001b[0;34m=\u001b[0m \u001b[0mself\u001b[0m\u001b[0;34m.\u001b[0m\u001b[0m_call\u001b[0m\u001b[0;34m(\u001b[0m\u001b[0;34m*\u001b[0m\u001b[0margs\u001b[0m\u001b[0;34m,\u001b[0m \u001b[0;34m**\u001b[0m\u001b[0mkwds\u001b[0m\u001b[0;34m)\u001b[0m\u001b[0;34m\u001b[0m\u001b[0;34m\u001b[0m\u001b[0m\n\u001b[0m\u001b[1;32m    829\u001b[0m       \u001b[0mcompiler\u001b[0m \u001b[0;34m=\u001b[0m \u001b[0;34m\"xla\"\u001b[0m \u001b[0;32mif\u001b[0m \u001b[0mself\u001b[0m\u001b[0;34m.\u001b[0m\u001b[0m_experimental_compile\u001b[0m \u001b[0;32melse\u001b[0m \u001b[0;34m\"nonXla\"\u001b[0m\u001b[0;34m\u001b[0m\u001b[0;34m\u001b[0m\u001b[0m\n\u001b[1;32m    830\u001b[0m       \u001b[0mnew_tracing_count\u001b[0m \u001b[0;34m=\u001b[0m \u001b[0mself\u001b[0m\u001b[0;34m.\u001b[0m\u001b[0mexperimental_get_tracing_count\u001b[0m\u001b[0;34m(\u001b[0m\u001b[0;34m)\u001b[0m\u001b[0;34m\u001b[0m\u001b[0;34m\u001b[0m\u001b[0m\n",
      "\u001b[0;32m~/anaconda3/envs/tf_env/lib/python3.8/site-packages/tensorflow/python/eager/def_function.py\u001b[0m in \u001b[0;36m_call\u001b[0;34m(self, *args, **kwds)\u001b[0m\n\u001b[1;32m    853\u001b[0m       \u001b[0;31m# In this case we have created variables on the first call, so we run the\u001b[0m\u001b[0;34m\u001b[0m\u001b[0;34m\u001b[0m\u001b[0;34m\u001b[0m\u001b[0m\n\u001b[1;32m    854\u001b[0m       \u001b[0;31m# defunned version which is guaranteed to never create variables.\u001b[0m\u001b[0;34m\u001b[0m\u001b[0;34m\u001b[0m\u001b[0;34m\u001b[0m\u001b[0m\n\u001b[0;32m--> 855\u001b[0;31m       \u001b[0;32mreturn\u001b[0m \u001b[0mself\u001b[0m\u001b[0;34m.\u001b[0m\u001b[0m_stateless_fn\u001b[0m\u001b[0;34m(\u001b[0m\u001b[0;34m*\u001b[0m\u001b[0margs\u001b[0m\u001b[0;34m,\u001b[0m \u001b[0;34m**\u001b[0m\u001b[0mkwds\u001b[0m\u001b[0;34m)\u001b[0m  \u001b[0;31m# pylint: disable=not-callable\u001b[0m\u001b[0;34m\u001b[0m\u001b[0;34m\u001b[0m\u001b[0m\n\u001b[0m\u001b[1;32m    856\u001b[0m     \u001b[0;32melif\u001b[0m \u001b[0mself\u001b[0m\u001b[0;34m.\u001b[0m\u001b[0m_stateful_fn\u001b[0m \u001b[0;32mis\u001b[0m \u001b[0;32mnot\u001b[0m \u001b[0;32mNone\u001b[0m\u001b[0;34m:\u001b[0m\u001b[0;34m\u001b[0m\u001b[0;34m\u001b[0m\u001b[0m\n\u001b[1;32m    857\u001b[0m       \u001b[0;31m# Release the lock early so that multiple threads can perform the call\u001b[0m\u001b[0;34m\u001b[0m\u001b[0;34m\u001b[0m\u001b[0;34m\u001b[0m\u001b[0m\n",
      "\u001b[0;32m~/anaconda3/envs/tf_env/lib/python3.8/site-packages/tensorflow/python/eager/function.py\u001b[0m in \u001b[0;36m__call__\u001b[0;34m(self, *args, **kwargs)\u001b[0m\n\u001b[1;32m   2940\u001b[0m       (graph_function,\n\u001b[1;32m   2941\u001b[0m        filtered_flat_args) = self._maybe_define_function(args, kwargs)\n\u001b[0;32m-> 2942\u001b[0;31m     return graph_function._call_flat(\n\u001b[0m\u001b[1;32m   2943\u001b[0m         filtered_flat_args, captured_inputs=graph_function.captured_inputs)  # pylint: disable=protected-access\n\u001b[1;32m   2944\u001b[0m \u001b[0;34m\u001b[0m\u001b[0m\n",
      "\u001b[0;32m~/anaconda3/envs/tf_env/lib/python3.8/site-packages/tensorflow/python/eager/function.py\u001b[0m in \u001b[0;36m_call_flat\u001b[0;34m(self, args, captured_inputs, cancellation_manager)\u001b[0m\n\u001b[1;32m   1916\u001b[0m         and executing_eagerly):\n\u001b[1;32m   1917\u001b[0m       \u001b[0;31m# No tape is watching; skip to running the function.\u001b[0m\u001b[0;34m\u001b[0m\u001b[0;34m\u001b[0m\u001b[0;34m\u001b[0m\u001b[0m\n\u001b[0;32m-> 1918\u001b[0;31m       return self._build_call_outputs(self._inference_function.call(\n\u001b[0m\u001b[1;32m   1919\u001b[0m           ctx, args, cancellation_manager=cancellation_manager))\n\u001b[1;32m   1920\u001b[0m     forward_backward = self._select_forward_and_backward_functions(\n",
      "\u001b[0;32m~/anaconda3/envs/tf_env/lib/python3.8/site-packages/tensorflow/python/eager/function.py\u001b[0m in \u001b[0;36mcall\u001b[0;34m(self, ctx, args, cancellation_manager)\u001b[0m\n\u001b[1;32m    553\u001b[0m       \u001b[0;32mwith\u001b[0m \u001b[0m_InterpolateFunctionError\u001b[0m\u001b[0;34m(\u001b[0m\u001b[0mself\u001b[0m\u001b[0;34m)\u001b[0m\u001b[0;34m:\u001b[0m\u001b[0;34m\u001b[0m\u001b[0;34m\u001b[0m\u001b[0m\n\u001b[1;32m    554\u001b[0m         \u001b[0;32mif\u001b[0m \u001b[0mcancellation_manager\u001b[0m \u001b[0;32mis\u001b[0m \u001b[0;32mNone\u001b[0m\u001b[0;34m:\u001b[0m\u001b[0;34m\u001b[0m\u001b[0;34m\u001b[0m\u001b[0m\n\u001b[0;32m--> 555\u001b[0;31m           outputs = execute.execute(\n\u001b[0m\u001b[1;32m    556\u001b[0m               \u001b[0mstr\u001b[0m\u001b[0;34m(\u001b[0m\u001b[0mself\u001b[0m\u001b[0;34m.\u001b[0m\u001b[0msignature\u001b[0m\u001b[0;34m.\u001b[0m\u001b[0mname\u001b[0m\u001b[0;34m)\u001b[0m\u001b[0;34m,\u001b[0m\u001b[0;34m\u001b[0m\u001b[0;34m\u001b[0m\u001b[0m\n\u001b[1;32m    557\u001b[0m               \u001b[0mnum_outputs\u001b[0m\u001b[0;34m=\u001b[0m\u001b[0mself\u001b[0m\u001b[0;34m.\u001b[0m\u001b[0m_num_outputs\u001b[0m\u001b[0;34m,\u001b[0m\u001b[0;34m\u001b[0m\u001b[0;34m\u001b[0m\u001b[0m\n",
      "\u001b[0;32m~/anaconda3/envs/tf_env/lib/python3.8/site-packages/tensorflow/python/eager/execute.py\u001b[0m in \u001b[0;36mquick_execute\u001b[0;34m(op_name, num_outputs, inputs, attrs, ctx, name)\u001b[0m\n\u001b[1;32m     57\u001b[0m   \u001b[0;32mtry\u001b[0m\u001b[0;34m:\u001b[0m\u001b[0;34m\u001b[0m\u001b[0;34m\u001b[0m\u001b[0m\n\u001b[1;32m     58\u001b[0m     \u001b[0mctx\u001b[0m\u001b[0;34m.\u001b[0m\u001b[0mensure_initialized\u001b[0m\u001b[0;34m(\u001b[0m\u001b[0;34m)\u001b[0m\u001b[0;34m\u001b[0m\u001b[0;34m\u001b[0m\u001b[0m\n\u001b[0;32m---> 59\u001b[0;31m     tensors = pywrap_tfe.TFE_Py_Execute(ctx._handle, device_name, op_name,\n\u001b[0m\u001b[1;32m     60\u001b[0m                                         inputs, attrs, num_outputs)\n\u001b[1;32m     61\u001b[0m   \u001b[0;32mexcept\u001b[0m \u001b[0mcore\u001b[0m\u001b[0;34m.\u001b[0m\u001b[0m_NotOkStatusException\u001b[0m \u001b[0;32mas\u001b[0m \u001b[0me\u001b[0m\u001b[0;34m:\u001b[0m\u001b[0;34m\u001b[0m\u001b[0;34m\u001b[0m\u001b[0m\n",
      "\u001b[0;31mKeyboardInterrupt\u001b[0m: "
     ]
    }
   ],
   "source": [
    "hist = model.fit([X_train.movie, X_train.user], \n",
    "                 X_train.rating_score,  \n",
    "                 batch_size=16, epochs=20, verbose=1, validation_split=.2)"
   ]
  },
  {
   "cell_type": "code",
   "execution_count": 17,
   "id": "899f0685",
   "metadata": {},
   "outputs": [
    {
     "ename": "NameError",
     "evalue": "name 'hist2' is not defined",
     "output_type": "error",
     "traceback": [
      "\u001b[0;31m---------------------------------------------------------------------------\u001b[0m",
      "\u001b[0;31mNameError\u001b[0m                                 Traceback (most recent call last)",
      "\u001b[0;32m<ipython-input-17-78febdde73ae>\u001b[0m in \u001b[0;36m<module>\u001b[0;34m\u001b[0m\n\u001b[0;32m----> 1\u001b[0;31m \u001b[0mhist2\u001b[0m\u001b[0;34m\u001b[0m\u001b[0;34m\u001b[0m\u001b[0m\n\u001b[0m",
      "\u001b[0;31mNameError\u001b[0m: name 'hist2' is not defined"
     ]
    }
   ],
   "source": [
    "hist2"
   ]
  },
  {
   "cell_type": "code",
   "execution_count": 31,
   "id": "e98c9074",
   "metadata": {},
   "outputs": [
    {
     "name": "stdout",
     "output_type": "stream",
     "text": [
      "Epoch 1/20\n",
      "84/84 [==============================] - 2s 24ms/step - loss: 0.4622 - root_mean_squared_error: 0.6798 - val_loss: 2.3408 - val_root_mean_squared_error: 1.5300\n",
      "Epoch 2/20\n",
      "84/84 [==============================] - 2s 23ms/step - loss: 0.4820 - root_mean_squared_error: 0.6943 - val_loss: 2.3401 - val_root_mean_squared_error: 1.5297\n",
      "Epoch 3/20\n",
      "84/84 [==============================] - 1s 16ms/step - loss: 0.5054 - root_mean_squared_error: 0.7109 - val_loss: 2.3494 - val_root_mean_squared_error: 1.5328\n",
      "Epoch 4/20\n",
      "84/84 [==============================] - 1s 17ms/step - loss: 0.4726 - root_mean_squared_error: 0.6874 - val_loss: 2.3435 - val_root_mean_squared_error: 1.5308\n",
      "Epoch 5/20\n",
      "84/84 [==============================] - 1s 10ms/step - loss: 0.4470 - root_mean_squared_error: 0.6686 - val_loss: 2.3068 - val_root_mean_squared_error: 1.5188\n",
      "Epoch 6/20\n",
      "84/84 [==============================] - 1s 16ms/step - loss: 0.4403 - root_mean_squared_error: 0.6636 - val_loss: 2.2723 - val_root_mean_squared_error: 1.5074\n",
      "Epoch 7/20\n",
      "84/84 [==============================] - 1s 14ms/step - loss: 0.4240 - root_mean_squared_error: 0.6512 - val_loss: 2.2759 - val_root_mean_squared_error: 1.5086\n",
      "Epoch 8/20\n",
      "84/84 [==============================] - 1s 14ms/step - loss: 0.4140 - root_mean_squared_error: 0.6434 - val_loss: 2.2804 - val_root_mean_squared_error: 1.5101\n",
      "Epoch 9/20\n",
      "84/84 [==============================] - 2s 20ms/step - loss: 0.4090 - root_mean_squared_error: 0.6395 - val_loss: 2.2247 - val_root_mean_squared_error: 1.4915\n",
      "Epoch 10/20\n",
      "84/84 [==============================] - 1s 17ms/step - loss: 0.4058 - root_mean_squared_error: 0.6370 - val_loss: 2.2567 - val_root_mean_squared_error: 1.5022\n",
      "Epoch 11/20\n",
      "84/84 [==============================] - 1s 12ms/step - loss: 0.4039 - root_mean_squared_error: 0.6355 - val_loss: 2.2251 - val_root_mean_squared_error: 1.4917\n",
      "Epoch 12/20\n",
      "84/84 [==============================] - 1s 11ms/step - loss: 0.3753 - root_mean_squared_error: 0.6126 - val_loss: 2.2023 - val_root_mean_squared_error: 1.4840\n",
      "Epoch 13/20\n",
      "84/84 [==============================] - 1s 9ms/step - loss: 0.3949 - root_mean_squared_error: 0.6284 - val_loss: 2.1791 - val_root_mean_squared_error: 1.4762\n",
      "Epoch 14/20\n",
      "84/84 [==============================] - 1s 11ms/step - loss: 0.3640 - root_mean_squared_error: 0.6034 - val_loss: 2.1626 - val_root_mean_squared_error: 1.4706\n",
      "Epoch 15/20\n",
      "84/84 [==============================] - 1s 12ms/step - loss: 0.3882 - root_mean_squared_error: 0.6230 - val_loss: 2.1382 - val_root_mean_squared_error: 1.4623\n",
      "Epoch 16/20\n",
      "84/84 [==============================] - 1s 9ms/step - loss: 0.3749 - root_mean_squared_error: 0.6123 - val_loss: 2.1922 - val_root_mean_squared_error: 1.4806\n",
      "Epoch 17/20\n",
      "84/84 [==============================] - 1s 12ms/step - loss: 0.3846 - root_mean_squared_error: 0.6201 - val_loss: 2.1388 - val_root_mean_squared_error: 1.4625\n",
      "Epoch 18/20\n",
      "84/84 [==============================] - 1s 12ms/step - loss: 0.3451 - root_mean_squared_error: 0.5875 - val_loss: 2.1256 - val_root_mean_squared_error: 1.4580\n",
      "Epoch 19/20\n",
      "84/84 [==============================] - 1s 11ms/step - loss: 0.3441 - root_mean_squared_error: 0.5866 - val_loss: 2.1381 - val_root_mean_squared_error: 1.4622\n",
      "Epoch 20/20\n",
      "84/84 [==============================] - 1s 9ms/step - loss: 0.3485 - root_mean_squared_error: 0.5903 - val_loss: 2.1145 - val_root_mean_squared_error: 1.4541\n"
     ]
    }
   ],
   "source": [
    "hist2 = model.fit([X_train.movie, X_train.user], \n",
    "                 X_train.rating_score,  \n",
    "                 batch_size=16, epochs=20, verbose=1, validation_split=.2)"
   ]
  },
  {
   "cell_type": "code",
   "execution_count": null,
   "id": "e0e40563",
   "metadata": {},
   "outputs": [],
   "source": []
  },
  {
   "cell_type": "code",
   "execution_count": null,
   "id": "95fe8e66",
   "metadata": {},
   "outputs": [],
   "source": []
  },
  {
   "cell_type": "code",
   "execution_count": null,
   "id": "a6165eab",
   "metadata": {},
   "outputs": [],
   "source": []
  },
  {
   "cell_type": "code",
   "execution_count": 15,
   "id": "596d7ccb",
   "metadata": {},
   "outputs": [
    {
     "data": {
      "image/png": "[encoded data removed]",
      "text/plain": [
       "<Figure size 432x288 with 1 Axes>"
      ]
     },
     "metadata": {
      "needs_background": "light"
     },
     "output_type": "display_data"
    }
   ],
   "source": [
    "train_loss = hist.history['loss']\n",
    "val_loss = hist.history['val_loss']\n",
    "plt.plot(train_loss, color='r', label='Train Loss')\n",
    "plt.plot(val_loss, color='b', label='Validation Loss')\n",
    "plt.title(\"Train and Validation Loss Curve\")\n",
    "plt.legend()\n",
    "plt.show()"
   ]
  },
  {
   "cell_type": "code",
   "execution_count": 16,
   "id": "0e8bc303",
   "metadata": {},
   "outputs": [
    {
     "data": {
      "image/png": "[encoded data removed]",
      "text/plain": [
       "<Figure size 432x288 with 1 Axes>"
      ]
     },
     "metadata": {
      "needs_background": "light"
     },
     "output_type": "display_data"
    }
   ],
   "source": [
    "train_loss = hist.history['root_mean_squared_error']\n",
    "val_loss = hist.history['val_root_mean_squared_error']\n",
    "plt.plot(train_loss, color='r', label='Train RMSE')\n",
    "plt.plot(val_loss, color='b', label='Validation RMSE')\n",
    "plt.title(\"Train and Validation RMSE Curve\")\n",
    "plt.legend()\n",
    "plt.show()"
   ]
  },
  {
   "cell_type": "code",
   "execution_count": null,
   "id": "959f7532",
   "metadata": {},
   "outputs": [],
   "source": []
  },
  {
   "cell_type": "code",
   "execution_count": 19,
   "id": "177d7519",
   "metadata": {},
   "outputs": [
    {
     "name": "stdout",
     "output_type": "stream",
     "text": [
      "Model: \"model_1\"\n",
      "__________________________________________________________________________________________________\n",
      "Layer (type)                    Output Shape         Param #     Connected to                     \n",
      "==================================================================================================\n",
      "input_3 (InputLayer)            [(None, 1)]          0                                            \n",
      "__________________________________________________________________________________________________\n",
      "input_4 (InputLayer)            [(None, 1)]          0                                            \n",
      "__________________________________________________________________________________________________\n",
      "embedding_2 (Embedding)         (None, 1, 15)        24735       input_3[0][0]                    \n",
      "__________________________________________________________________________________________________\n",
      "embedding_3 (Embedding)         (None, 1, 15)        35865       input_4[0][0]                    \n",
      "__________________________________________________________________________________________________\n",
      "flatten_2 (Flatten)             (None, 15)           0           embedding_2[0][0]                \n",
      "__________________________________________________________________________________________________\n",
      "flatten_3 (Flatten)             (None, 15)           0           embedding_3[0][0]                \n",
      "__________________________________________________________________________________________________\n",
      "concatenate_1 (Concatenate)     (None, 30)           0           flatten_2[0][0]                  \n",
      "                                                                 flatten_3[0][0]                  \n",
      "__________________________________________________________________________________________________\n",
      "dense_4 (Dense)                 (None, 128)          3968        concatenate_1[0][0]              \n",
      "__________________________________________________________________________________________________\n",
      "dropout_1 (Dropout)             (None, 128)          0           dense_4[0][0]                    \n",
      "__________________________________________________________________________________________________\n",
      "dense_5 (Dense)                 (None, 128)          16512       dropout_1[0][0]                  \n",
      "__________________________________________________________________________________________________\n",
      "dense_6 (Dense)                 (None, 64)           8256        dense_5[0][0]                    \n",
      "__________________________________________________________________________________________________\n",
      "dense_7 (Dense)                 (None, 1)            65          dense_6[0][0]                    \n",
      "==================================================================================================\n",
      "Total params: 89,401\n",
      "Trainable params: 89,401\n",
      "Non-trainable params: 0\n",
      "__________________________________________________________________________________________________\n"
     ]
    }
   ],
   "source": [
    "opt = tf.optimizers.Adam(learning_rate=.001)\n",
    "model.compile(optimizer=opt, \n",
    "              loss=keras.losses.CosineSimilarity(), \n",
    "              metrics = keras.metrics.RootMeanSquaredError())\n",
    "\n",
    "model.summary()"
   ]
  },
  {
   "cell_type": "code",
   "execution_count": 20,
   "id": "69ca0ab5",
   "metadata": {},
   "outputs": [],
   "source": [
    "X_train = X_train.astype(float)"
   ]
  },
  {
   "cell_type": "code",
   "execution_count": 24,
   "id": "349f1044",
   "metadata": {
    "scrolled": false
   },
   "outputs": [
    {
     "name": "stdout",
     "output_type": "stream",
     "text": [
      "Epoch 1/50\n",
      "21/21 [==============================] - 1s 43ms/step - loss: -1.0000 - root_mean_squared_error: 1.4398 - val_loss: -1.0000 - val_root_mean_squared_error: 1.4839\n",
      "Epoch 2/50\n",
      "21/21 [==============================] - 0s 21ms/step - loss: -1.0000 - root_mean_squared_error: 1.4559 - val_loss: -1.0000 - val_root_mean_squared_error: 1.4926\n",
      "Epoch 3/50\n",
      "21/21 [==============================] - 1s 25ms/step - loss: -1.0000 - root_mean_squared_error: 1.4718 - val_loss: -1.0000 - val_root_mean_squared_error: 1.5005\n",
      "Epoch 4/50\n",
      "21/21 [==============================] - 1s 25ms/step - loss: -1.0000 - root_mean_squared_error: 1.4718 - val_loss: -1.0000 - val_root_mean_squared_error: 1.5075\n",
      "Epoch 5/50\n",
      "21/21 [==============================] - 1s 25ms/step - loss: -1.0000 - root_mean_squared_error: 1.4756 - val_loss: -1.0000 - val_root_mean_squared_error: 1.5144\n",
      "Epoch 6/50\n",
      "21/21 [==============================] - 1s 28ms/step - loss: -1.0000 - root_mean_squared_error: 1.4818 - val_loss: -1.0000 - val_root_mean_squared_error: 1.5210\n",
      "Epoch 7/50\n",
      "21/21 [==============================] - 1s 31ms/step - loss: -1.0000 - root_mean_squared_error: 1.4855 - val_loss: -1.0000 - val_root_mean_squared_error: 1.5254\n",
      "Epoch 8/50\n",
      "21/21 [==============================] - 1s 30ms/step - loss: -1.0000 - root_mean_squared_error: 1.5007 - val_loss: -1.0000 - val_root_mean_squared_error: 1.5319\n",
      "Epoch 9/50\n",
      "21/21 [==============================] - 1s 33ms/step - loss: -1.0000 - root_mean_squared_error: 1.5028 - val_loss: -1.0000 - val_root_mean_squared_error: 1.5384\n",
      "Epoch 10/50\n",
      "21/21 [==============================] - 1s 36ms/step - loss: -1.0000 - root_mean_squared_error: 1.5046 - val_loss: -1.0000 - val_root_mean_squared_error: 1.5454\n",
      "Epoch 11/50\n",
      "21/21 [==============================] - 1s 28ms/step - loss: -1.0000 - root_mean_squared_error: 1.5109 - val_loss: -1.0000 - val_root_mean_squared_error: 1.5541\n",
      "Epoch 12/50\n",
      "21/21 [==============================] - 1s 26ms/step - loss: -1.0000 - root_mean_squared_error: 1.5219 - val_loss: -1.0000 - val_root_mean_squared_error: 1.5632\n",
      "Epoch 13/50\n",
      "21/21 [==============================] - 1s 30ms/step - loss: -1.0000 - root_mean_squared_error: 1.5286 - val_loss: -1.0000 - val_root_mean_squared_error: 1.5719\n",
      "Epoch 14/50\n",
      "21/21 [==============================] - 1s 35ms/step - loss: -1.0000 - root_mean_squared_error: 1.5412 - val_loss: -1.0000 - val_root_mean_squared_error: 1.5787\n",
      "Epoch 15/50\n",
      "21/21 [==============================] - 1s 42ms/step - loss: -1.0000 - root_mean_squared_error: 1.5517 - val_loss: -1.0000 - val_root_mean_squared_error: 1.5857\n",
      "Epoch 16/50\n",
      "21/21 [==============================] - 1s 34ms/step - loss: -1.0000 - root_mean_squared_error: 1.5646 - val_loss: -1.0000 - val_root_mean_squared_error: 1.5945\n",
      "Epoch 17/50\n",
      "21/21 [==============================] - 1s 34ms/step - loss: -1.0000 - root_mean_squared_error: 1.5683 - val_loss: -1.0000 - val_root_mean_squared_error: 1.6036\n",
      "Epoch 18/50\n",
      "21/21 [==============================] - 1s 32ms/step - loss: -1.0000 - root_mean_squared_error: 1.5801 - val_loss: -1.0000 - val_root_mean_squared_error: 1.6123\n",
      "Epoch 19/50\n",
      "21/21 [==============================] - 0s 19ms/step - loss: -1.0000 - root_mean_squared_error: 1.5934 - val_loss: -1.0000 - val_root_mean_squared_error: 1.6212\n",
      "Epoch 20/50\n",
      "21/21 [==============================] - 1s 32ms/step - loss: -1.0000 - root_mean_squared_error: 1.5951 - val_loss: -1.0000 - val_root_mean_squared_error: 1.6325\n",
      "Epoch 21/50\n",
      "21/21 [==============================] - 0s 20ms/step - loss: -1.0000 - root_mean_squared_error: 1.5973 - val_loss: -1.0000 - val_root_mean_squared_error: 1.6416\n",
      "Epoch 22/50\n",
      "21/21 [==============================] - 0s 14ms/step - loss: -1.0000 - root_mean_squared_error: 1.6144 - val_loss: -1.0000 - val_root_mean_squared_error: 1.6527\n",
      "Epoch 23/50\n",
      "21/21 [==============================] - 1s 34ms/step - loss: -1.0000 - root_mean_squared_error: 1.6181 - val_loss: -1.0000 - val_root_mean_squared_error: 1.6647\n",
      "Epoch 24/50\n",
      "21/21 [==============================] - 1s 32ms/step - loss: -1.0000 - root_mean_squared_error: 1.6430 - val_loss: -1.0000 - val_root_mean_squared_error: 1.6785\n",
      "Epoch 25/50\n",
      "21/21 [==============================] - 0s 23ms/step - loss: -1.0000 - root_mean_squared_error: 1.6592 - val_loss: -1.0000 - val_root_mean_squared_error: 1.6965\n",
      "Epoch 26/50\n",
      "21/21 [==============================] - 1s 27ms/step - loss: -1.0000 - root_mean_squared_error: 1.6794 - val_loss: -1.0000 - val_root_mean_squared_error: 1.7177\n",
      "Epoch 27/50\n",
      "21/21 [==============================] - 1s 31ms/step - loss: -1.0000 - root_mean_squared_error: 1.6892 - val_loss: -1.0000 - val_root_mean_squared_error: 1.7430\n",
      "Epoch 28/50\n",
      "21/21 [==============================] - 1s 27ms/step - loss: -1.0000 - root_mean_squared_error: 1.7277 - val_loss: -1.0000 - val_root_mean_squared_error: 1.7719\n",
      "Epoch 29/50\n",
      "21/21 [==============================] - 1s 31ms/step - loss: -1.0000 - root_mean_squared_error: 1.7559 - val_loss: -1.0000 - val_root_mean_squared_error: 1.8110\n",
      "Epoch 30/50\n",
      "21/21 [==============================] - 1s 26ms/step - loss: -1.0000 - root_mean_squared_error: 1.8115 - val_loss: -1.0000 - val_root_mean_squared_error: 1.8646\n",
      "Epoch 31/50\n",
      "21/21 [==============================] - 0s 21ms/step - loss: -1.0000 - root_mean_squared_error: 1.8599 - val_loss: -1.0000 - val_root_mean_squared_error: 1.9296\n",
      "Epoch 32/50\n",
      "21/21 [==============================] - 1s 24ms/step - loss: -1.0000 - root_mean_squared_error: 1.9442 - val_loss: -1.0000 - val_root_mean_squared_error: 2.0004\n",
      "Epoch 33/50\n",
      "21/21 [==============================] - 0s 21ms/step - loss: -1.0000 - root_mean_squared_error: 2.0085 - val_loss: -1.0000 - val_root_mean_squared_error: 2.0773\n",
      "Epoch 34/50\n",
      "21/21 [==============================] - 0s 18ms/step - loss: -1.0000 - root_mean_squared_error: 2.0874 - val_loss: -1.0000 - val_root_mean_squared_error: 2.1580\n",
      "Epoch 35/50\n",
      "21/21 [==============================] - 1s 29ms/step - loss: -1.0000 - root_mean_squared_error: 2.1688 - val_loss: -1.0000 - val_root_mean_squared_error: 2.2311\n",
      "Epoch 36/50\n",
      "21/21 [==============================] - 1s 28ms/step - loss: -1.0000 - root_mean_squared_error: 2.2394 - val_loss: -1.0000 - val_root_mean_squared_error: 2.3011\n",
      "Epoch 37/50\n",
      "21/21 [==============================] - 0s 18ms/step - loss: -1.0000 - root_mean_squared_error: 2.3141 - val_loss: -1.0000 - val_root_mean_squared_error: 2.3656\n",
      "Epoch 38/50\n",
      "21/21 [==============================] - 1s 26ms/step - loss: -1.0000 - root_mean_squared_error: 2.3749 - val_loss: -1.0000 - val_root_mean_squared_error: 2.4272\n",
      "Epoch 39/50\n",
      "21/21 [==============================] - 1s 23ms/step - loss: -1.0000 - root_mean_squared_error: 2.4468 - val_loss: -1.0000 - val_root_mean_squared_error: 2.4847\n",
      "Epoch 40/50\n",
      "21/21 [==============================] - 0s 22ms/step - loss: -1.0000 - root_mean_squared_error: 2.4981 - val_loss: -1.0000 - val_root_mean_squared_error: 2.5483\n",
      "Epoch 41/50\n",
      "21/21 [==============================] - 0s 23ms/step - loss: -1.0000 - root_mean_squared_error: 2.5489 - val_loss: -1.0000 - val_root_mean_squared_error: 2.6035\n",
      "Epoch 42/50\n",
      "21/21 [==============================] - 1s 30ms/step - loss: -1.0000 - root_mean_squared_error: 2.6130 - val_loss: -1.0000 - val_root_mean_squared_error: 2.6588\n",
      "Epoch 43/50\n",
      "21/21 [==============================] - 1s 26ms/step - loss: -1.0000 - root_mean_squared_error: 2.6629 - val_loss: -1.0000 - val_root_mean_squared_error: 2.7210\n",
      "Epoch 44/50\n",
      "21/21 [==============================] - 1s 33ms/step - loss: -1.0000 - root_mean_squared_error: 2.7379 - val_loss: -1.0000 - val_root_mean_squared_error: 2.7831\n",
      "Epoch 45/50\n",
      "21/21 [==============================] - 0s 22ms/step - loss: -1.0000 - root_mean_squared_error: 2.7954 - val_loss: -1.0000 - val_root_mean_squared_error: 2.8436\n",
      "Epoch 46/50\n",
      "21/21 [==============================] - 1s 29ms/step - loss: -1.0000 - root_mean_squared_error: 2.8648 - val_loss: -1.0000 - val_root_mean_squared_error: 2.9063\n",
      "Epoch 47/50\n",
      "21/21 [==============================] - 1s 29ms/step - loss: -1.0000 - root_mean_squared_error: 2.9149 - val_loss: -1.0000 - val_root_mean_squared_error: 2.9728\n",
      "Epoch 48/50\n",
      "21/21 [==============================] - 1s 27ms/step - loss: -1.0000 - root_mean_squared_error: 2.9910 - val_loss: -1.0000 - val_root_mean_squared_error: 3.0418\n",
      "Epoch 49/50\n",
      "21/21 [==============================] - 1s 30ms/step - loss: -1.0000 - root_mean_squared_error: 3.0622 - val_loss: -1.0000 - val_root_mean_squared_error: 3.1167\n",
      "Epoch 50/50\n",
      "21/21 [==============================] - 0s 23ms/step - loss: -1.0000 - root_mean_squared_error: 3.1122 - val_loss: -1.0000 - val_root_mean_squared_error: 3.1904\n"
     ]
    }
   ],
   "source": [
    "hist = model.fit([X_train.movie, X_train.user], \n",
    "                 X_train.rating_score,  \n",
    "                 batch_size=64, epochs=50, verbose=1, validation_split=.2)"
   ]
  },
  {
   "cell_type": "code",
   "execution_count": 25,
   "id": "c96bdaa3",
   "metadata": {},
   "outputs": [
    {
     "data": {
      "image/png": "[encoded data removed]",
      "text/plain": [
       "<Figure size 432x288 with 1 Axes>"
      ]
     },
     "metadata": {
      "needs_background": "light"
     },
     "output_type": "display_data"
    }
   ],
   "source": [
    "train_loss = hist.history['loss']\n",
    "val_loss = hist.history['val_loss']\n",
    "plt.plot(train_loss, color='r', label='Train Loss')\n",
    "plt.plot(val_loss, color='b', label='Validation Loss')\n",
    "plt.title(\"Train and Validation Loss Curve\")\n",
    "plt.legend()\n",
    "plt.show()"
   ]
  },
  {
   "cell_type": "code",
   "execution_count": 26,
   "id": "cd0f7586",
   "metadata": {},
   "outputs": [
    {
     "data": {
      "image/png": "[encoded data removed]",
      "text/plain": [
       "<Figure size 432x288 with 1 Axes>"
      ]
     },
     "metadata": {
      "needs_background": "light"
     },
     "output_type": "display_data"
    }
   ],
   "source": [
    "train_loss = hist.history['root_mean_squared_error']\n",
    "val_loss = hist.history['val_root_mean_squared_error']\n",
    "plt.plot(train_loss, color='r', label='Train RMSE')\n",
    "plt.plot(val_loss, color='b', label='Validation RMSE')\n",
    "plt.title(\"Train and Validation RMSE Curve\")\n",
    "plt.legend()\n",
    "plt.show()"
   ]
  },
  {
   "cell_type": "code",
   "execution_count": 25,
   "id": "af815e60",
   "metadata": {},
   "outputs": [
    {
     "data": {
      "text/html": [
       "<div>\n",
       "<style scoped>\n",
       "    .dataframe tbody tr th:only-of-type {\n",
       "        vertical-align: middle;\n",
       "    }\n",
       "\n",
       "    .dataframe tbody tr th {\n",
       "        vertical-align: top;\n",
       "    }\n",
       "\n",
       "    .dataframe thead th {\n",
       "        text-align: right;\n",
       "    }\n",
       "</style>\n",
       "<table border=\"1\" class=\"dataframe\">\n",
       "  <thead>\n",
       "    <tr style=\"text-align: right;\">\n",
       "      <th></th>\n",
       "      <th>movie_id</th>\n",
       "      <th>rating_score</th>\n",
       "      <th>user</th>\n",
       "      <th>movie</th>\n",
       "    </tr>\n",
       "    <tr>\n",
       "      <th>user_id</th>\n",
       "      <th></th>\n",
       "      <th></th>\n",
       "      <th></th>\n",
       "      <th></th>\n",
       "    </tr>\n",
       "  </thead>\n",
       "  <tbody>\n",
       "    <tr>\n",
       "      <th>31794511</th>\n",
       "      <td>13</td>\n",
       "      <td>13</td>\n",
       "      <td>13</td>\n",
       "      <td>13</td>\n",
       "    </tr>\n",
       "    <tr>\n",
       "      <th>29857588</th>\n",
       "      <td>12</td>\n",
       "      <td>12</td>\n",
       "      <td>12</td>\n",
       "      <td>12</td>\n",
       "    </tr>\n",
       "    <tr>\n",
       "      <th>70435183</th>\n",
       "      <td>12</td>\n",
       "      <td>12</td>\n",
       "      <td>12</td>\n",
       "      <td>12</td>\n",
       "    </tr>\n",
       "    <tr>\n",
       "      <th>79854948</th>\n",
       "      <td>12</td>\n",
       "      <td>12</td>\n",
       "      <td>12</td>\n",
       "      <td>12</td>\n",
       "    </tr>\n",
       "    <tr>\n",
       "      <th>97493409</th>\n",
       "      <td>11</td>\n",
       "      <td>11</td>\n",
       "      <td>11</td>\n",
       "      <td>11</td>\n",
       "    </tr>\n",
       "    <tr>\n",
       "      <th>...</th>\n",
       "      <td>...</td>\n",
       "      <td>...</td>\n",
       "      <td>...</td>\n",
       "      <td>...</td>\n",
       "    </tr>\n",
       "    <tr>\n",
       "      <th>57729959</th>\n",
       "      <td>1</td>\n",
       "      <td>1</td>\n",
       "      <td>1</td>\n",
       "      <td>1</td>\n",
       "    </tr>\n",
       "    <tr>\n",
       "      <th>29922095</th>\n",
       "      <td>1</td>\n",
       "      <td>1</td>\n",
       "      <td>1</td>\n",
       "      <td>1</td>\n",
       "    </tr>\n",
       "    <tr>\n",
       "      <th>57725780</th>\n",
       "      <td>1</td>\n",
       "      <td>1</td>\n",
       "      <td>1</td>\n",
       "      <td>1</td>\n",
       "    </tr>\n",
       "    <tr>\n",
       "      <th>57724746</th>\n",
       "      <td>1</td>\n",
       "      <td>1</td>\n",
       "      <td>1</td>\n",
       "      <td>1</td>\n",
       "    </tr>\n",
       "    <tr>\n",
       "      <th>27103959</th>\n",
       "      <td>1</td>\n",
       "      <td>1</td>\n",
       "      <td>1</td>\n",
       "      <td>1</td>\n",
       "    </tr>\n",
       "  </tbody>\n",
       "</table>\n",
       "<p>37819 rows × 4 columns</p>\n",
       "</div>"
      ],
      "text/plain": [
       "          movie_id  rating_score  user  movie\n",
       "user_id                                      \n",
       "31794511        13            13    13     13\n",
       "29857588        12            12    12     12\n",
       "70435183        12            12    12     12\n",
       "79854948        12            12    12     12\n",
       "97493409        11            11    11     11\n",
       "...            ...           ...   ...    ...\n",
       "57729959         1             1     1      1\n",
       "29922095         1             1     1      1\n",
       "57725780         1             1     1      1\n",
       "57724746         1             1     1      1\n",
       "27103959         1             1     1      1\n",
       "\n",
       "[37819 rows x 4 columns]"
      ]
     },
     "execution_count": 25,
     "metadata": {},
     "output_type": "execute_result"
    }
   ],
   "source": [
    "ratings.groupby('user_id').count().sort_values(by='movie_id',ascending=False)"
   ]
  },
  {
   "cell_type": "code",
   "execution_count": 26,
   "id": "2bc7dff5",
   "metadata": {},
   "outputs": [
    {
     "data": {
      "text/html": [
       "<div>\n",
       "<style scoped>\n",
       "    .dataframe tbody tr th:only-of-type {\n",
       "        vertical-align: middle;\n",
       "    }\n",
       "\n",
       "    .dataframe tbody tr th {\n",
       "        vertical-align: top;\n",
       "    }\n",
       "\n",
       "    .dataframe thead th {\n",
       "        text-align: right;\n",
       "    }\n",
       "</style>\n",
       "<table border=\"1\" class=\"dataframe\">\n",
       "  <thead>\n",
       "    <tr style=\"text-align: right;\">\n",
       "      <th></th>\n",
       "      <th>movie_id</th>\n",
       "      <th>rating_score</th>\n",
       "      <th>user_id</th>\n",
       "      <th>user</th>\n",
       "      <th>movie</th>\n",
       "    </tr>\n",
       "  </thead>\n",
       "  <tbody>\n",
       "    <tr>\n",
       "      <th>3012</th>\n",
       "      <td>29767</td>\n",
       "      <td>4</td>\n",
       "      <td>31794511</td>\n",
       "      <td>12024</td>\n",
       "      <td>5869</td>\n",
       "    </tr>\n",
       "    <tr>\n",
       "      <th>4058</th>\n",
       "      <td>14782</td>\n",
       "      <td>3</td>\n",
       "      <td>31794511</td>\n",
       "      <td>12024</td>\n",
       "      <td>3397</td>\n",
       "    </tr>\n",
       "    <tr>\n",
       "      <th>7505</th>\n",
       "      <td>2112</td>\n",
       "      <td>4</td>\n",
       "      <td>31794511</td>\n",
       "      <td>12024</td>\n",
       "      <td>1487</td>\n",
       "    </tr>\n",
       "    <tr>\n",
       "      <th>12027</th>\n",
       "      <td>26319</td>\n",
       "      <td>5</td>\n",
       "      <td>31794511</td>\n",
       "      <td>12024</td>\n",
       "      <td>5287</td>\n",
       "    </tr>\n",
       "    <tr>\n",
       "      <th>24369</th>\n",
       "      <td>499</td>\n",
       "      <td>4</td>\n",
       "      <td>31794511</td>\n",
       "      <td>12024</td>\n",
       "      <td>411</td>\n",
       "    </tr>\n",
       "    <tr>\n",
       "      <th>26342</th>\n",
       "      <td>20183</td>\n",
       "      <td>1</td>\n",
       "      <td>31794511</td>\n",
       "      <td>12024</td>\n",
       "      <td>3827</td>\n",
       "    </tr>\n",
       "    <tr>\n",
       "      <th>39462</th>\n",
       "      <td>795</td>\n",
       "      <td>3</td>\n",
       "      <td>31794511</td>\n",
       "      <td>12024</td>\n",
       "      <td>649</td>\n",
       "    </tr>\n",
       "    <tr>\n",
       "      <th>41706</th>\n",
       "      <td>31427</td>\n",
       "      <td>4</td>\n",
       "      <td>31794511</td>\n",
       "      <td>12024</td>\n",
       "      <td>6172</td>\n",
       "    </tr>\n",
       "    <tr>\n",
       "      <th>46484</th>\n",
       "      <td>2325</td>\n",
       "      <td>5</td>\n",
       "      <td>31794511</td>\n",
       "      <td>12024</td>\n",
       "      <td>1611</td>\n",
       "    </tr>\n",
       "    <tr>\n",
       "      <th>47670</th>\n",
       "      <td>2703</td>\n",
       "      <td>5</td>\n",
       "      <td>31794511</td>\n",
       "      <td>12024</td>\n",
       "      <td>1811</td>\n",
       "    </tr>\n",
       "    <tr>\n",
       "      <th>59455</th>\n",
       "      <td>3508</td>\n",
       "      <td>4</td>\n",
       "      <td>31794511</td>\n",
       "      <td>12024</td>\n",
       "      <td>2216</td>\n",
       "    </tr>\n",
       "    <tr>\n",
       "      <th>60200</th>\n",
       "      <td>3021</td>\n",
       "      <td>4</td>\n",
       "      <td>31794511</td>\n",
       "      <td>12024</td>\n",
       "      <td>1934</td>\n",
       "    </tr>\n",
       "    <tr>\n",
       "      <th>63293</th>\n",
       "      <td>3441</td>\n",
       "      <td>2</td>\n",
       "      <td>31794511</td>\n",
       "      <td>12024</td>\n",
       "      <td>2170</td>\n",
       "    </tr>\n",
       "  </tbody>\n",
       "</table>\n",
       "</div>"
      ],
      "text/plain": [
       "       movie_id  rating_score   user_id   user  movie\n",
       "3012      29767             4  31794511  12024   5869\n",
       "4058      14782             3  31794511  12024   3397\n",
       "7505       2112             4  31794511  12024   1487\n",
       "12027     26319             5  31794511  12024   5287\n",
       "24369       499             4  31794511  12024    411\n",
       "26342     20183             1  31794511  12024   3827\n",
       "39462       795             3  31794511  12024    649\n",
       "41706     31427             4  31794511  12024   6172\n",
       "46484      2325             5  31794511  12024   1611\n",
       "47670      2703             5  31794511  12024   1811\n",
       "59455      3508             4  31794511  12024   2216\n",
       "60200      3021             4  31794511  12024   1934\n",
       "63293      3441             2  31794511  12024   2170"
      ]
     },
     "execution_count": 26,
     "metadata": {},
     "output_type": "execute_result"
    }
   ],
   "source": [
    "ratings[ratings.user_id==31794511]"
   ]
  },
  {
   "cell_type": "code",
   "execution_count": 63,
   "id": "8bb0d6c9",
   "metadata": {},
   "outputs": [],
   "source": [
    "movie_array = ratings[ratings.user_id==31794511].movie.values.astype(int)\n",
    "user = np.array([int(12024) for n in range(len(movie_array))])"
   ]
  },
  {
   "cell_type": "code",
   "execution_count": 64,
   "id": "055bca6f",
   "metadata": {},
   "outputs": [
    {
     "data": {
      "text/plain": [
       "((13,), dtype('int64'), (13,), dtype('int64'))"
      ]
     },
     "execution_count": 64,
     "metadata": {},
     "output_type": "execute_result"
    }
   ],
   "source": [
    "movie_array.shape, movie_array.dtype, user.shape, user.dtype"
   ]
  },
  {
   "cell_type": "code",
   "execution_count": 65,
   "id": "4c0d54c2",
   "metadata": {
    "scrolled": true
   },
   "outputs": [],
   "source": [
    "pred = model.predict([movie_array, user])"
   ]
  },
  {
   "cell_type": "code",
   "execution_count": 66,
   "id": "c3ac6266",
   "metadata": {},
   "outputs": [
    {
     "data": {
      "text/plain": [
       "[((4.193902, 4), 5869),\n",
       " ((3.948342, 3), 3397),\n",
       " ((4.187209, 4), 1487),\n",
       " ((4.0150485, 5), 5287),\n",
       " ((4.001645, 4), 411),\n",
       " ((3.8334882, 1), 3827),\n",
       " ((4.482376, 3), 649),\n",
       " ((4.212425, 4), 6172),\n",
       " ((4.767973, 5), 1611),\n",
       " ((4.5517263, 5), 1811),\n",
       " ((3.8925762, 4), 2216),\n",
       " ((4.089591, 4), 1934),\n",
       " ((4.2476206, 2), 2170)]"
      ]
     },
     "execution_count": 66,
     "metadata": {},
     "output_type": "execute_result"
    }
   ],
   "source": [
    "list(zip(zip(pred.flatten(), ratings[ratings.user_id==31794511].rating_score.values),movie_array))"
   ]
  },
  {
   "cell_type": "code",
   "execution_count": null,
   "id": "81f415a3",
   "metadata": {},
   "outputs": [],
   "source": []
  }
 ],
 "metadata": {
  "kernelspec": {
   "display_name": "tf_env",
   "language": "python",
   "name": "tf_env"
  },
  "language_info": {
   "codemirror_mode": {
    "name": "ipython",
    "version": 3
   },
   "file_extension": ".py",
   "mimetype": "text/x-python",
   "name": "python",
   "nbconvert_exporter": "python",
   "pygments_lexer": "ipython3",
   "version": "3.8.5"
  }
 },
 "nbformat": 4,
 "nbformat_minor": 5
}
