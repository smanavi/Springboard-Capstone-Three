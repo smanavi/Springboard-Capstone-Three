{
 "cells": [
  {
   "cell_type": "code",
   "execution_count": 1,
   "id": "f66ab82a",
   "metadata": {},
   "outputs": [],
   "source": [
    "import numpy as np\n",
    "import pandas as pd\n",
    "from sklearn.model_selection import train_test_split\n",
    "from sklearn.preprocessing import LabelEncoder\n",
    "\n",
    "import tensorflow as tf\n",
    "from tensorflow import keras\n",
    "from tensorflow.keras import layers"
   ]
  },
  {
   "cell_type": "code",
   "execution_count": null,
   "id": "cd872b00",
   "metadata": {},
   "outputs": [],
   "source": [
    "# import tensorflow_recommenders as tfrs"
   ]
  },
  {
   "cell_type": "code",
   "execution_count": 4,
   "id": "6af302da",
   "metadata": {},
   "outputs": [],
   "source": [
    "# ratings = pd.read_pickle(\"tiny_selection_longform.pkl\")\n",
    "ratings = pd.read_pickle(\"./Data/moderate_users_longform.pkl\")\n",
    "user_stats = pd.read_pickle(\"./Data/moderate_user_stats.pkl\")"
   ]
  },
  {
   "cell_type": "code",
   "execution_count": 5,
   "id": "f3a9fcd3",
   "metadata": {},
   "outputs": [
    {
     "data": {
      "text/plain": [
       "141676"
      ]
     },
     "execution_count": 5,
     "metadata": {},
     "output_type": "execute_result"
    }
   ],
   "source": [
    "user_enc = LabelEncoder()\n",
    "ratings['user'] = user_enc.fit_transform(ratings['user_id'].values)\n",
    "n_users = ratings['user'].nunique()\n",
    "n_users"
   ]
  },
  {
   "cell_type": "code",
   "execution_count": 6,
   "id": "3ed57496",
   "metadata": {},
   "outputs": [
    {
     "data": {
      "text/plain": [
       "72601"
      ]
     },
     "execution_count": 6,
     "metadata": {},
     "output_type": "execute_result"
    }
   ],
   "source": [
    "item_enc = LabelEncoder()\n",
    "ratings['movie'] = item_enc.fit_transform(ratings['movie_id'].values)\n",
    "n_movies = ratings['movie'].nunique()\n",
    "n_movies"
   ]
  },
  {
   "cell_type": "code",
   "execution_count": 7,
   "id": "0d7c39b7",
   "metadata": {},
   "outputs": [
    {
     "data": {
      "text/html": [
       "<div>\n",
       "<style scoped>\n",
       "    .dataframe tbody tr th:only-of-type {\n",
       "        vertical-align: middle;\n",
       "    }\n",
       "\n",
       "    .dataframe tbody tr th {\n",
       "        vertical-align: top;\n",
       "    }\n",
       "\n",
       "    .dataframe thead th {\n",
       "        text-align: right;\n",
       "    }\n",
       "</style>\n",
       "<table border=\"1\" class=\"dataframe\">\n",
       "  <thead>\n",
       "    <tr style=\"text-align: right;\">\n",
       "      <th></th>\n",
       "      <th>movie_id</th>\n",
       "      <th>rating_score</th>\n",
       "      <th>user_id</th>\n",
       "      <th>user</th>\n",
       "      <th>movie</th>\n",
       "    </tr>\n",
       "  </thead>\n",
       "  <tbody>\n",
       "    <tr>\n",
       "      <th>5</th>\n",
       "      <td>1066</td>\n",
       "      <td>4</td>\n",
       "      <td>97262846</td>\n",
       "      <td>137735</td>\n",
       "      <td>1023</td>\n",
       "    </tr>\n",
       "    <tr>\n",
       "      <th>8</th>\n",
       "      <td>1066</td>\n",
       "      <td>4</td>\n",
       "      <td>58420503</td>\n",
       "      <td>83022</td>\n",
       "      <td>1023</td>\n",
       "    </tr>\n",
       "    <tr>\n",
       "      <th>11</th>\n",
       "      <td>1066</td>\n",
       "      <td>2</td>\n",
       "      <td>15492642</td>\n",
       "      <td>22070</td>\n",
       "      <td>1023</td>\n",
       "    </tr>\n",
       "    <tr>\n",
       "      <th>12</th>\n",
       "      <td>1066</td>\n",
       "      <td>4</td>\n",
       "      <td>29755671</td>\n",
       "      <td>42177</td>\n",
       "      <td>1023</td>\n",
       "    </tr>\n",
       "    <tr>\n",
       "      <th>15</th>\n",
       "      <td>1066</td>\n",
       "      <td>3</td>\n",
       "      <td>93302487</td>\n",
       "      <td>132199</td>\n",
       "      <td>1023</td>\n",
       "    </tr>\n",
       "  </tbody>\n",
       "</table>\n",
       "</div>"
      ],
      "text/plain": [
       "    movie_id  rating_score   user_id    user  movie\n",
       "5       1066             4  97262846  137735   1023\n",
       "8       1066             4  58420503   83022   1023\n",
       "11      1066             2  15492642   22070   1023\n",
       "12      1066             4  29755671   42177   1023\n",
       "15      1066             3  93302487  132199   1023"
      ]
     },
     "execution_count": 7,
     "metadata": {},
     "output_type": "execute_result"
    }
   ],
   "source": [
    "ratings.head()"
   ]
  },
  {
   "cell_type": "code",
   "execution_count": 8,
   "id": "719d3c4b",
   "metadata": {},
   "outputs": [],
   "source": [
    "def center_ratings(ratings_df, users_df):\n",
    "    ratings_df['centered_rating'] = None\n",
    "    for row in ratings_df.index:\n",
    "        mean_val = users_df.at[ratings_df.at[row, 'user_id'], 'mean_score']\n",
    "        ratings_df.at[row, 'centered_rating'] = ratings_df.at[row, 'rating_score'] - mean_val\n",
    "        \n",
    "    return ratings_df\n",
    "        "
   ]
  },
  {
   "cell_type": "code",
   "execution_count": 9,
   "id": "3a8531c6",
   "metadata": {},
   "outputs": [],
   "source": [
    "ratings_centered = center_ratings(ratings, user_stats)"
   ]
  },
  {
   "cell_type": "code",
   "execution_count": 10,
   "id": "37c29cfb",
   "metadata": {},
   "outputs": [
    {
     "data": {
      "text/html": [
       "<div>\n",
       "<style scoped>\n",
       "    .dataframe tbody tr th:only-of-type {\n",
       "        vertical-align: middle;\n",
       "    }\n",
       "\n",
       "    .dataframe tbody tr th {\n",
       "        vertical-align: top;\n",
       "    }\n",
       "\n",
       "    .dataframe thead th {\n",
       "        text-align: right;\n",
       "    }\n",
       "</style>\n",
       "<table border=\"1\" class=\"dataframe\">\n",
       "  <thead>\n",
       "    <tr style=\"text-align: right;\">\n",
       "      <th></th>\n",
       "      <th>movie_id</th>\n",
       "      <th>rating_score</th>\n",
       "      <th>user_id</th>\n",
       "      <th>user</th>\n",
       "      <th>movie</th>\n",
       "      <th>centered_rating</th>\n",
       "    </tr>\n",
       "  </thead>\n",
       "  <tbody>\n",
       "    <tr>\n",
       "      <th>5</th>\n",
       "      <td>1066</td>\n",
       "      <td>4</td>\n",
       "      <td>97262846</td>\n",
       "      <td>137735</td>\n",
       "      <td>1023</td>\n",
       "      <td>0.324786</td>\n",
       "    </tr>\n",
       "    <tr>\n",
       "      <th>8</th>\n",
       "      <td>1066</td>\n",
       "      <td>4</td>\n",
       "      <td>58420503</td>\n",
       "      <td>83022</td>\n",
       "      <td>1023</td>\n",
       "      <td>0.0</td>\n",
       "    </tr>\n",
       "    <tr>\n",
       "      <th>11</th>\n",
       "      <td>1066</td>\n",
       "      <td>2</td>\n",
       "      <td>15492642</td>\n",
       "      <td>22070</td>\n",
       "      <td>1023</td>\n",
       "      <td>-1.84</td>\n",
       "    </tr>\n",
       "    <tr>\n",
       "      <th>12</th>\n",
       "      <td>1066</td>\n",
       "      <td>4</td>\n",
       "      <td>29755671</td>\n",
       "      <td>42177</td>\n",
       "      <td>1023</td>\n",
       "      <td>-0.857143</td>\n",
       "    </tr>\n",
       "    <tr>\n",
       "      <th>15</th>\n",
       "      <td>1066</td>\n",
       "      <td>3</td>\n",
       "      <td>93302487</td>\n",
       "      <td>132199</td>\n",
       "      <td>1023</td>\n",
       "      <td>-0.666667</td>\n",
       "    </tr>\n",
       "  </tbody>\n",
       "</table>\n",
       "</div>"
      ],
      "text/plain": [
       "    movie_id  rating_score   user_id    user  movie centered_rating\n",
       "5       1066             4  97262846  137735   1023        0.324786\n",
       "8       1066             4  58420503   83022   1023             0.0\n",
       "11      1066             2  15492642   22070   1023           -1.84\n",
       "12      1066             4  29755671   42177   1023       -0.857143\n",
       "15      1066             3  93302487  132199   1023       -0.666667"
      ]
     },
     "execution_count": 10,
     "metadata": {},
     "output_type": "execute_result"
    }
   ],
   "source": [
    "ratings_centered.head()"
   ]
  },
  {
   "cell_type": "code",
   "execution_count": 11,
   "id": "329b9aee",
   "metadata": {},
   "outputs": [
    {
     "data": {
      "text/plain": [
       "((6864260, 2), (6864260,))"
      ]
     },
     "execution_count": 11,
     "metadata": {},
     "output_type": "execute_result"
    }
   ],
   "source": [
    "\n",
    "X = ratings_centered[['movie', 'user']].values\n",
    "y = ratings_centered['centered_rating'].values\n",
    "\n",
    "X.shape, y.shape"
   ]
  },
  {
   "cell_type": "code",
   "execution_count": 12,
   "id": "a63fa09c",
   "metadata": {},
   "outputs": [],
   "source": [
    "#model using functional API -- not really working \n",
    "\n",
    "inputs = keras.Input(shape=(2,))\n",
    "\n",
    "dense = layers.Dense(10, activation='relu')\n",
    "x = dense(inputs)\n",
    "\n",
    "x = layers.Dense(2, activation='relu')(x)\n",
    "outputs = keras.activations.softmax(x, axis=1)"
   ]
  },
  {
   "cell_type": "code",
   "execution_count": 13,
   "id": "b820fbd6",
   "metadata": {},
   "outputs": [],
   "source": [
    "model = keras.Model(inputs=inputs, outputs=outputs, name='testing')"
   ]
  },
  {
   "cell_type": "code",
   "execution_count": 14,
   "id": "64b28421",
   "metadata": {},
   "outputs": [
    {
     "name": "stdout",
     "output_type": "stream",
     "text": [
      "Model: \"testing\"\n",
      "_________________________________________________________________\n",
      "Layer (type)                 Output Shape              Param #   \n",
      "=================================================================\n",
      "input_1 (InputLayer)         [(None, 2)]               0         \n",
      "_________________________________________________________________\n",
      "dense (Dense)                (None, 10)                30        \n",
      "_________________________________________________________________\n",
      "dense_1 (Dense)              (None, 2)                 22        \n",
      "_________________________________________________________________\n",
      "tf.compat.v1.nn.softmax (TFO (None, 2)                 0         \n",
      "=================================================================\n",
      "Total params: 52\n",
      "Trainable params: 52\n",
      "Non-trainable params: 0\n",
      "_________________________________________________________________\n"
     ]
    }
   ],
   "source": [
    "model.summary()"
   ]
  },
  {
   "cell_type": "code",
   "execution_count": 15,
   "id": "db2c6c29",
   "metadata": {},
   "outputs": [],
   "source": [
    "X_train, X_test, y_train, y_test = train_test_split(X, y.astype('float32'), test_size=0.33, random_state=42)"
   ]
  },
  {
   "cell_type": "code",
   "execution_count": 16,
   "id": "c063b8e3",
   "metadata": {},
   "outputs": [],
   "source": [
    "model.compile(optimizer = keras.optimizers.Adam(learning_rate=.1),\n",
    "             loss = keras.losses.MeanSquaredError(),\n",
    "            metrics = keras.metrics.RootMeanSquaredError())"
   ]
  },
  {
   "cell_type": "code",
   "execution_count": 17,
   "id": "38e55db7",
   "metadata": {},
   "outputs": [
    {
     "name": "stdout",
     "output_type": "stream",
     "text": [
      "Epoch 1/3\n",
      "3680/3680 [==============================] - 12s 3ms/step - loss: 1.0639 - root_mean_squared_error: 1.0315 - val_loss: 1.0620 - val_root_mean_squared_error: 1.0305\n",
      "Epoch 2/3\n",
      "3680/3680 [==============================] - 10s 3ms/step - loss: 1.0639 - root_mean_squared_error: 1.0315 - val_loss: 1.0620 - val_root_mean_squared_error: 1.0305\n",
      "Epoch 3/3\n",
      "3680/3680 [==============================] - 10s 3ms/step - loss: 1.0639 - root_mean_squared_error: 1.0315 - val_loss: 1.0620 - val_root_mean_squared_error: 1.0305\n"
     ]
    },
    {
     "data": {
      "text/plain": [
       "<tensorflow.python.keras.callbacks.History at 0x7f57341e35b0>"
      ]
     },
     "execution_count": 17,
     "metadata": {},
     "output_type": "execute_result"
    }
   ],
   "source": [
    "model.fit(X_train, y_train, batch_size=1000, epochs=3, verbose=1, validation_split=.2)"
   ]
  },
  {
   "cell_type": "code",
   "execution_count": 18,
   "id": "58ad5df9",
   "metadata": {},
   "outputs": [
    {
     "name": "stdout",
     "output_type": "stream",
     "text": [
      "70788/70788 [==============================] - 99s 1ms/step - loss: 1.0640 - root_mean_squared_error: 1.0315\n"
     ]
    }
   ],
   "source": [
    "test_scores = model.evaluate(X_test, y_test, verbose=1)"
   ]
  },
  {
   "cell_type": "code",
   "execution_count": 19,
   "id": "4c55552f",
   "metadata": {},
   "outputs": [
    {
     "data": {
      "text/plain": [
       "[1.0639585256576538, 1.0314836502075195]"
      ]
     },
     "execution_count": 19,
     "metadata": {},
     "output_type": "execute_result"
    }
   ],
   "source": [
    "test_scores"
   ]
  },
  {
   "cell_type": "code",
   "execution_count": 22,
   "id": "b1e91064",
   "metadata": {},
   "outputs": [
    {
     "data": {
      "text/html": [
       "<div>\n",
       "<style scoped>\n",
       "    .dataframe tbody tr th:only-of-type {\n",
       "        vertical-align: middle;\n",
       "    }\n",
       "\n",
       "    .dataframe tbody tr th {\n",
       "        vertical-align: top;\n",
       "    }\n",
       "\n",
       "    .dataframe thead th {\n",
       "        text-align: right;\n",
       "    }\n",
       "</style>\n",
       "<table border=\"1\" class=\"dataframe\">\n",
       "  <thead>\n",
       "    <tr style=\"text-align: right;\">\n",
       "      <th></th>\n",
       "      <th>movie_id</th>\n",
       "      <th>rating_score</th>\n",
       "      <th>user_id</th>\n",
       "      <th>user</th>\n",
       "      <th>movie</th>\n",
       "      <th>centered_rating</th>\n",
       "    </tr>\n",
       "  </thead>\n",
       "  <tbody>\n",
       "    <tr>\n",
       "      <th>15</th>\n",
       "      <td>1066</td>\n",
       "      <td>3</td>\n",
       "      <td>93302487</td>\n",
       "      <td>132199</td>\n",
       "      <td>1023</td>\n",
       "      <td>-0.666667</td>\n",
       "    </tr>\n",
       "    <tr>\n",
       "      <th>177284</th>\n",
       "      <td>1345</td>\n",
       "      <td>3</td>\n",
       "      <td>93302487</td>\n",
       "      <td>132199</td>\n",
       "      <td>1275</td>\n",
       "      <td>-0.666667</td>\n",
       "    </tr>\n",
       "    <tr>\n",
       "      <th>198923</th>\n",
       "      <td>1359</td>\n",
       "      <td>5</td>\n",
       "      <td>93302487</td>\n",
       "      <td>132199</td>\n",
       "      <td>1288</td>\n",
       "      <td>1.333333</td>\n",
       "    </tr>\n",
       "    <tr>\n",
       "      <th>244847</th>\n",
       "      <td>1399</td>\n",
       "      <td>4</td>\n",
       "      <td>93302487</td>\n",
       "      <td>132199</td>\n",
       "      <td>1325</td>\n",
       "      <td>0.333333</td>\n",
       "    </tr>\n",
       "    <tr>\n",
       "      <th>317119</th>\n",
       "      <td>1465</td>\n",
       "      <td>4</td>\n",
       "      <td>93302487</td>\n",
       "      <td>132199</td>\n",
       "      <td>1386</td>\n",
       "      <td>0.333333</td>\n",
       "    </tr>\n",
       "    <tr>\n",
       "      <th>...</th>\n",
       "      <td>...</td>\n",
       "      <td>...</td>\n",
       "      <td>...</td>\n",
       "      <td>...</td>\n",
       "      <td>...</td>\n",
       "      <td>...</td>\n",
       "    </tr>\n",
       "    <tr>\n",
       "      <th>15127107</th>\n",
       "      <td>865</td>\n",
       "      <td>3</td>\n",
       "      <td>93302487</td>\n",
       "      <td>132199</td>\n",
       "      <td>829</td>\n",
       "      <td>-0.666667</td>\n",
       "    </tr>\n",
       "    <tr>\n",
       "      <th>15343609</th>\n",
       "      <td>963</td>\n",
       "      <td>3</td>\n",
       "      <td>93302487</td>\n",
       "      <td>132199</td>\n",
       "      <td>924</td>\n",
       "      <td>-0.666667</td>\n",
       "    </tr>\n",
       "    <tr>\n",
       "      <th>15399840</th>\n",
       "      <td>978</td>\n",
       "      <td>4</td>\n",
       "      <td>93302487</td>\n",
       "      <td>132199</td>\n",
       "      <td>939</td>\n",
       "      <td>0.333333</td>\n",
       "    </tr>\n",
       "    <tr>\n",
       "      <th>15452593</th>\n",
       "      <td>995</td>\n",
       "      <td>5</td>\n",
       "      <td>93302487</td>\n",
       "      <td>132199</td>\n",
       "      <td>956</td>\n",
       "      <td>1.333333</td>\n",
       "    </tr>\n",
       "    <tr>\n",
       "      <th>15508743</th>\n",
       "      <td>1050</td>\n",
       "      <td>2</td>\n",
       "      <td>93302487</td>\n",
       "      <td>132199</td>\n",
       "      <td>1007</td>\n",
       "      <td>-1.666667</td>\n",
       "    </tr>\n",
       "  </tbody>\n",
       "</table>\n",
       "<p>87 rows × 6 columns</p>\n",
       "</div>"
      ],
      "text/plain": [
       "          movie_id  rating_score   user_id    user  movie centered_rating\n",
       "15            1066             3  93302487  132199   1023       -0.666667\n",
       "177284        1345             3  93302487  132199   1275       -0.666667\n",
       "198923        1359             5  93302487  132199   1288        1.333333\n",
       "244847        1399             4  93302487  132199   1325        0.333333\n",
       "317119        1465             4  93302487  132199   1386        0.333333\n",
       "...            ...           ...       ...     ...    ...             ...\n",
       "15127107       865             3  93302487  132199    829       -0.666667\n",
       "15343609       963             3  93302487  132199    924       -0.666667\n",
       "15399840       978             4  93302487  132199    939        0.333333\n",
       "15452593       995             5  93302487  132199    956        1.333333\n",
       "15508743      1050             2  93302487  132199   1007       -1.666667\n",
       "\n",
       "[87 rows x 6 columns]"
      ]
     },
     "execution_count": 22,
     "metadata": {},
     "output_type": "execute_result"
    }
   ],
   "source": [
    "ratings[ratings.user_id==93302487]"
   ]
  },
  {
   "cell_type": "code",
   "execution_count": 28,
   "id": "99dbb2a4",
   "metadata": {},
   "outputs": [
    {
     "data": {
      "text/plain": [
       "1023"
      ]
     },
     "execution_count": 28,
     "metadata": {},
     "output_type": "execute_result"
    }
   ],
   "source": [
    "ratings.at[15, 'movie']"
   ]
  },
  {
   "cell_type": "code",
   "execution_count": 30,
   "id": "0ee53bcf",
   "metadata": {},
   "outputs": [
    {
     "name": "stdout",
     "output_type": "stream",
     "text": [
      "1023 -0.6666666666666665 [[0.5 0.5]]\n",
      "1275 -0.6666666666666665 [[0.5 0.5]]\n",
      "1288 1.3333333333333335 [[0.5 0.5]]\n",
      "1325 0.3333333333333335 [[0.5 0.5]]\n",
      "1386 0.3333333333333335 [[0.5 0.5]]\n",
      "1427 -0.6666666666666665 [[0.5 0.5]]\n",
      "1524 -1.6666666666666665 [[0.5 0.5]]\n",
      "1586 -0.6666666666666665 [[0.5 0.5]]\n",
      "1599 0.3333333333333335 [[0.5 0.5]]\n",
      "1650 0.3333333333333335 [[0.5 0.5]]\n",
      "1655 -1.6666666666666665 [[0.5 0.5]]\n",
      "2136 0.3333333333333335 [[0.5 0.5]]\n",
      "2389 0.3333333333333335 [[0.5 0.5]]\n",
      "3100 -0.6666666666666665 [[0.5 0.5]]\n",
      "3104 0.3333333333333335 [[0.5 0.5]]\n",
      "3106 -0.6666666666666665 [[0.5 0.5]]\n",
      "3123 0.3333333333333335 [[0.5 0.5]]\n",
      "4911 -0.6666666666666665 [[0.5 0.5]]\n",
      "6271 -0.6666666666666665 [[0.5 0.5]]\n",
      "7858 -0.6666666666666665 [[0.5 0.5]]\n",
      "3 0.3333333333333335 [[0.5 0.5]]\n",
      "59 0.3333333333333335 [[0.5 0.5]]\n",
      "67 0.3333333333333335 [[0.5 0.5]]\n",
      "81 0.3333333333333335 [[0.5 0.5]]\n",
      "83 0.3333333333333335 [[0.5 0.5]]\n",
      "84 0.3333333333333335 [[0.5 0.5]]\n",
      "99 1.3333333333333335 [[0.5 0.5]]\n",
      "108 0.3333333333333335 [[0.5 0.5]]\n",
      "113 1.3333333333333335 [[0.5 0.5]]\n",
      "114 0.3333333333333335 [[0.5 0.5]]\n",
      "131 -0.6666666666666665 [[0.5 0.5]]\n",
      "133 0.3333333333333335 [[0.5 0.5]]\n",
      "137 -0.6666666666666665 [[0.5 0.5]]\n",
      "139 1.3333333333333335 [[0.5 0.5]]\n",
      "145 1.3333333333333335 [[0.5 0.5]]\n",
      "148 -1.6666666666666665 [[0.5 0.5]]\n",
      "149 0.3333333333333335 [[0.5 0.5]]\n",
      "150 -1.6666666666666665 [[0.5 0.5]]\n",
      "153 1.3333333333333335 [[0.5 0.5]]\n",
      "155 -0.6666666666666665 [[0.5 0.5]]\n",
      "156 0.3333333333333335 [[0.5 0.5]]\n",
      "157 0.3333333333333335 [[0.5 0.5]]\n",
      "159 0.3333333333333335 [[0.5 0.5]]\n",
      "161 -0.6666666666666665 [[0.5 0.5]]\n",
      "169 -0.6666666666666665 [[0.5 0.5]]\n",
      "177 -1.6666666666666665 [[0.5 0.5]]\n",
      "179 0.3333333333333335 [[0.5 0.5]]\n",
      "180 -1.6666666666666665 [[0.5 0.5]]\n",
      "181 -1.6666666666666665 [[0.5 0.5]]\n",
      "182 -0.6666666666666665 [[0.5 0.5]]\n",
      "185 -0.6666666666666665 [[0.5 0.5]]\n",
      "187 1.3333333333333335 [[0.5 0.5]]\n",
      "189 0.3333333333333335 [[0.5 0.5]]\n",
      "193 0.3333333333333335 [[0.5 0.5]]\n",
      "194 0.3333333333333335 [[0.5 0.5]]\n",
      "202 1.3333333333333335 [[0.5 0.5]]\n",
      "224 0.3333333333333335 [[0.5 0.5]]\n",
      "230 0.3333333333333335 [[0.5 0.5]]\n",
      "254 0.3333333333333335 [[0.5 0.5]]\n",
      "271 0.3333333333333335 [[0.5 0.5]]\n",
      "275 -0.6666666666666665 [[0.5 0.5]]\n",
      "294 0.3333333333333335 [[0.5 0.5]]\n",
      "296 1.3333333333333335 [[0.5 0.5]]\n",
      "304 -0.6666666666666665 [[0.5 0.5]]\n",
      "306 0.3333333333333335 [[0.5 0.5]]\n",
      "307 -2.6666666666666665 [[0.5 0.5]]\n",
      "323 -0.6666666666666665 [[0.5 0.5]]\n",
      "380 -0.6666666666666665 [[0.5 0.5]]\n",
      "389 0.3333333333333335 [[0.5 0.5]]\n",
      "396 0.3333333333333335 [[0.5 0.5]]\n",
      "397 0.3333333333333335 [[0.5 0.5]]\n",
      "398 0.3333333333333335 [[0.5 0.5]]\n",
      "461 1.3333333333333335 [[0.5 0.5]]\n",
      "466 1.3333333333333335 [[0.5 0.5]]\n",
      "467 0.3333333333333335 [[0.5 0.5]]\n",
      "470 0.3333333333333335 [[0.5 0.5]]\n",
      "480 0.3333333333333335 [[0.5 0.5]]\n",
      "484 0.3333333333333335 [[0.5 0.5]]\n",
      "500 1.3333333333333335 [[0.5 0.5]]\n",
      "506 -0.6666666666666665 [[0.5 0.5]]\n",
      "578 1.3333333333333335 [[0.5 0.5]]\n",
      "800 -0.6666666666666665 [[0.5 0.5]]\n",
      "829 -0.6666666666666665 [[0.5 0.5]]\n",
      "924 -0.6666666666666665 [[0.5 0.5]]\n",
      "939 0.3333333333333335 [[0.5 0.5]]\n",
      "956 1.3333333333333335 [[0.5 0.5]]\n",
      "1007 -1.6666666666666665 [[0.5 0.5]]\n"
     ]
    }
   ],
   "source": [
    "for row in ratings[ratings.user_id==93302487].index:\n",
    "    movie = ratings.at[row, 'movie']\n",
    "    pred = model.predict([[int(movie), 132199]])\n",
    "    print(movie, ratings.at[row, 'centered_rating'], pred)"
   ]
  },
  {
   "cell_type": "code",
   "execution_count": null,
   "id": "0f874585",
   "metadata": {},
   "outputs": [],
   "source": []
  }
 ],
 "metadata": {
  "kernelspec": {
   "display_name": "tf_env",
   "language": "python",
   "name": "tf_env"
  },
  "language_info": {
   "codemirror_mode": {
    "name": "ipython",
    "version": 3
   },
   "file_extension": ".py",
   "mimetype": "text/x-python",
   "name": "python",
   "nbconvert_exporter": "python",
   "pygments_lexer": "ipython3",
   "version": "3.8.5"
  }
 },
 "nbformat": 4,
 "nbformat_minor": 5
}
