{
 "cells": [
  {
   "cell_type": "code",
   "execution_count": 4,
   "id": "bac8fdd1",
   "metadata": {},
   "outputs": [],
   "source": [
    "import tensorflow as tf\n",
    "from tensorflow import keras\n",
    "\n",
    "import pandas as pd\n",
    "import numpy as np\n",
    "from sklearn.model_selection import train_test_split\n",
    "from sklearn.preprocessing import LabelEncoder\n",
    "\n",
    "import matplotlib.pyplot as plt\n",
    "import seaborn as sns\n",
    "\n",
    "import warnings\n",
    "warnings.filterwarnings('ignore')"
   ]
  },
  {
   "cell_type": "code",
   "execution_count": 8,
   "id": "714b3e13",
   "metadata": {},
   "outputs": [],
   "source": [
    "import random\n",
    "from itertools import chain\n",
    "def flatten(list_of_lists):\n",
    "    \"Flatten one level of nesting\"\n",
    "    return chain.from_iterable(list_of_lists)"
   ]
  },
  {
   "cell_type": "code",
   "execution_count": 10,
   "id": "3ccbefa5",
   "metadata": {},
   "outputs": [],
   "source": [
    "def is_close_enough(pred, ratings):\n",
    "    val = []\n",
    "    for pair in zip(pred, ratings):\n",
    "        if pair[1] == 5:\n",
    "            val.append(pair[1] - 1 <= pair[0])\n",
    "        else:\n",
    "            val.append(pair[1] - .5 <= pair[0] <= pair[1] + .5)\n",
    "        \n",
    "    return val"
   ]
  },
  {
   "cell_type": "code",
   "execution_count": 45,
   "id": "81140ca6",
   "metadata": {},
   "outputs": [],
   "source": [
    "X_train = pd.read_pickle('saved_model/rmse_839/X_train.pkl')\n",
    "X_test = pd.read_pickle('saved_model/rmse_839/X_test.pkl')\n",
    "ratings = pd.read_pickle(\"./Data/final_dataset_pre_split.pkl\")"
   ]
  },
  {
   "cell_type": "code",
   "execution_count": 7,
   "id": "41d5fd3c",
   "metadata": {},
   "outputs": [],
   "source": [
    "model = keras.models.load_model('saved_model/rmse_839/model.h5')"
   ]
  },
  {
   "cell_type": "code",
   "execution_count": null,
   "id": "b4389ddc",
   "metadata": {},
   "outputs": [],
   "source": []
  },
  {
   "cell_type": "code",
   "execution_count": 46,
   "id": "ba850fa4",
   "metadata": {},
   "outputs": [
    {
     "data": {
      "text/html": [
       "<div>\n",
       "<style scoped>\n",
       "    .dataframe tbody tr th:only-of-type {\n",
       "        vertical-align: middle;\n",
       "    }\n",
       "\n",
       "    .dataframe tbody tr th {\n",
       "        vertical-align: top;\n",
       "    }\n",
       "\n",
       "    .dataframe thead th {\n",
       "        text-align: right;\n",
       "    }\n",
       "</style>\n",
       "<table border=\"1\" class=\"dataframe\">\n",
       "  <thead>\n",
       "    <tr style=\"text-align: right;\">\n",
       "      <th></th>\n",
       "      <th>movie_id</th>\n",
       "      <th>rating_score</th>\n",
       "      <th>user_id</th>\n",
       "      <th>user</th>\n",
       "      <th>movie</th>\n",
       "    </tr>\n",
       "  </thead>\n",
       "  <tbody>\n",
       "    <tr>\n",
       "      <th>6605</th>\n",
       "      <td>1078</td>\n",
       "      <td>3</td>\n",
       "      <td>97031706</td>\n",
       "      <td>62845</td>\n",
       "      <td>1032</td>\n",
       "    </tr>\n",
       "    <tr>\n",
       "      <th>22042</th>\n",
       "      <td>1097</td>\n",
       "      <td>2</td>\n",
       "      <td>97031706</td>\n",
       "      <td>62845</td>\n",
       "      <td>1050</td>\n",
       "    </tr>\n",
       "    <tr>\n",
       "      <th>71770</th>\n",
       "      <td>1189</td>\n",
       "      <td>2</td>\n",
       "      <td>97031706</td>\n",
       "      <td>62845</td>\n",
       "      <td>1133</td>\n",
       "    </tr>\n",
       "    <tr>\n",
       "      <th>97815</th>\n",
       "      <td>1270</td>\n",
       "      <td>5</td>\n",
       "      <td>97031706</td>\n",
       "      <td>62845</td>\n",
       "      <td>1202</td>\n",
       "    </tr>\n",
       "    <tr>\n",
       "      <th>182039</th>\n",
       "      <td>1353</td>\n",
       "      <td>3</td>\n",
       "      <td>97031706</td>\n",
       "      <td>62845</td>\n",
       "      <td>1282</td>\n",
       "    </tr>\n",
       "    <tr>\n",
       "      <th>...</th>\n",
       "      <td>...</td>\n",
       "      <td>...</td>\n",
       "      <td>...</td>\n",
       "      <td>...</td>\n",
       "      <td>...</td>\n",
       "    </tr>\n",
       "    <tr>\n",
       "      <th>15307089</th>\n",
       "      <td>947</td>\n",
       "      <td>3</td>\n",
       "      <td>97031706</td>\n",
       "      <td>62845</td>\n",
       "      <td>908</td>\n",
       "    </tr>\n",
       "    <tr>\n",
       "      <th>15322295</th>\n",
       "      <td>957</td>\n",
       "      <td>5</td>\n",
       "      <td>97031706</td>\n",
       "      <td>62845</td>\n",
       "      <td>917</td>\n",
       "    </tr>\n",
       "    <tr>\n",
       "      <th>15377999</th>\n",
       "      <td>977</td>\n",
       "      <td>5</td>\n",
       "      <td>97031706</td>\n",
       "      <td>62845</td>\n",
       "      <td>937</td>\n",
       "    </tr>\n",
       "    <tr>\n",
       "      <th>15389356</th>\n",
       "      <td>978</td>\n",
       "      <td>3</td>\n",
       "      <td>97031706</td>\n",
       "      <td>62845</td>\n",
       "      <td>938</td>\n",
       "    </tr>\n",
       "    <tr>\n",
       "      <th>15403000</th>\n",
       "      <td>979</td>\n",
       "      <td>4</td>\n",
       "      <td>97031706</td>\n",
       "      <td>62845</td>\n",
       "      <td>939</td>\n",
       "    </tr>\n",
       "  </tbody>\n",
       "</table>\n",
       "<p>565 rows × 5 columns</p>\n",
       "</div>"
      ],
      "text/plain": [
       "          movie_id  rating_score   user_id   user  movie\n",
       "6605          1078             3  97031706  62845   1032\n",
       "22042         1097             2  97031706  62845   1050\n",
       "71770         1189             2  97031706  62845   1133\n",
       "97815         1270             5  97031706  62845   1202\n",
       "182039        1353             3  97031706  62845   1282\n",
       "...            ...           ...       ...    ...    ...\n",
       "15307089       947             3  97031706  62845    908\n",
       "15322295       957             5  97031706  62845    917\n",
       "15377999       977             5  97031706  62845    937\n",
       "15389356       978             3  97031706  62845    938\n",
       "15403000       979             4  97031706  62845    939\n",
       "\n",
       "[565 rows x 5 columns]"
      ]
     },
     "execution_count": 46,
     "metadata": {},
     "output_type": "execute_result"
    }
   ],
   "source": [
    "test_user = random.choice(ratings.user.unique())\n",
    "ratings[ratings.user==test_user]"
   ]
  },
  {
   "cell_type": "code",
   "execution_count": 49,
   "id": "6bd36509",
   "metadata": {},
   "outputs": [
    {
     "data": {
      "text/plain": [
       "0.5469026548672566"
      ]
     },
     "execution_count": 49,
     "metadata": {},
     "output_type": "execute_result"
    }
   ],
   "source": [
    "movie_array = ratings[ratings.user==test_user].movie.values.astype(int)\n",
    "user_array = np.array([int(test_user) for n in range(len(movie_array))])\n",
    "pred = model.predict([movie_array, user_array])\n",
    "val = is_close_enough(np.round(pred.flatten(), 1), ratings[ratings.user==test_user].rating_score.values)\n",
    "\n",
    "sum(val) / len(pred.flatten())"
   ]
  },
  {
   "cell_type": "code",
   "execution_count": 55,
   "id": "7f177031",
   "metadata": {},
   "outputs": [
    {
     "data": {
      "image/png": "[encoded data removed]",
      "text/plain": [
       "<Figure size 432x288 with 1 Axes>"
      ]
     },
     "metadata": {
      "needs_background": "light"
     },
     "output_type": "display_data"
    }
   ],
   "source": [
    "sns.histplot((list(flatten(pred))), bins=5, color='red', fill=False,\n",
    "#             stat='density', common_norm=False\n",
    "            )\n",
    "\n",
    "\n",
    "sns.histplot(ratings[ratings.user==test_user].rating_score.values, bins=5, color='blue', fill=False,\n",
    "#             stat='density', common_norm=False\n",
    "            )\n",
    "\n",
    "plt.show()"
   ]
  },
  {
   "cell_type": "code",
   "execution_count": 57,
   "id": "5044ea2f",
   "metadata": {},
   "outputs": [
    {
     "data": {
      "text/plain": [
       "97031706"
      ]
     },
     "execution_count": 57,
     "metadata": {},
     "output_type": "execute_result"
    }
   ],
   "source": [
    "test_user_id = ratings[ratings.user==test_user].user_id.unique()[0]\n",
    "test_user_id"
   ]
  },
  {
   "cell_type": "code",
   "execution_count": 58,
   "id": "4c2e9851",
   "metadata": {
    "collapsed": true
   },
   "outputs": [
    {
     "ename": "InvalidArgumentError",
     "evalue": " indices[0,0] = 97031704 is not in [0, 64816)\n\t [[node model/embedding_1/embedding_lookup (defined at <ipython-input-13-0362bc84e463>:6) ]] [Op:__inference_predict_function_492]\n\nErrors may have originated from an input operation.\nInput Source operations connected to node model/embedding_1/embedding_lookup:\n model/embedding_1/embedding_lookup/442 (defined at /home/sahar/anaconda3/envs/tf_env/lib/python3.8/contextlib.py:113)\n\nFunction call stack:\npredict_function\n",
     "output_type": "error",
     "traceback": [
      "\u001b[0;31m---------------------------------------------------------------------------\u001b[0m",
      "\u001b[0;31mInvalidArgumentError\u001b[0m                      Traceback (most recent call last)",
      "\u001b[0;32m<ipython-input-58-8fb71ef7f33f>\u001b[0m in \u001b[0;36m<module>\u001b[0;34m\u001b[0m\n\u001b[1;32m      1\u001b[0m \u001b[0mmovie_id_array\u001b[0m \u001b[0;34m=\u001b[0m \u001b[0mratings\u001b[0m\u001b[0;34m[\u001b[0m\u001b[0mratings\u001b[0m\u001b[0;34m.\u001b[0m\u001b[0muser_id\u001b[0m\u001b[0;34m==\u001b[0m\u001b[0mtest_user_id\u001b[0m\u001b[0;34m]\u001b[0m\u001b[0;34m.\u001b[0m\u001b[0mmovie_id\u001b[0m\u001b[0;34m.\u001b[0m\u001b[0mvalues\u001b[0m\u001b[0;34m.\u001b[0m\u001b[0mastype\u001b[0m\u001b[0;34m(\u001b[0m\u001b[0mint\u001b[0m\u001b[0;34m)\u001b[0m\u001b[0;34m\u001b[0m\u001b[0;34m\u001b[0m\u001b[0m\n\u001b[1;32m      2\u001b[0m \u001b[0muser_id_array\u001b[0m \u001b[0;34m=\u001b[0m \u001b[0mnp\u001b[0m\u001b[0;34m.\u001b[0m\u001b[0marray\u001b[0m\u001b[0;34m(\u001b[0m\u001b[0;34m[\u001b[0m\u001b[0mint\u001b[0m\u001b[0;34m(\u001b[0m\u001b[0mtest_user_id\u001b[0m\u001b[0;34m)\u001b[0m \u001b[0;32mfor\u001b[0m \u001b[0mn\u001b[0m \u001b[0;32min\u001b[0m \u001b[0mrange\u001b[0m\u001b[0;34m(\u001b[0m\u001b[0mlen\u001b[0m\u001b[0;34m(\u001b[0m\u001b[0mmovie_id_array\u001b[0m\u001b[0;34m)\u001b[0m\u001b[0;34m)\u001b[0m\u001b[0;34m]\u001b[0m\u001b[0;34m)\u001b[0m\u001b[0;34m\u001b[0m\u001b[0;34m\u001b[0m\u001b[0m\n\u001b[0;32m----> 3\u001b[0;31m \u001b[0mpred\u001b[0m \u001b[0;34m=\u001b[0m \u001b[0mmodel\u001b[0m\u001b[0;34m.\u001b[0m\u001b[0mpredict\u001b[0m\u001b[0;34m(\u001b[0m\u001b[0;34m[\u001b[0m\u001b[0mmovie_id_array\u001b[0m\u001b[0;34m,\u001b[0m \u001b[0muser_id_array\u001b[0m\u001b[0;34m]\u001b[0m\u001b[0;34m)\u001b[0m\u001b[0;34m\u001b[0m\u001b[0;34m\u001b[0m\u001b[0m\n\u001b[0m\u001b[1;32m      4\u001b[0m \u001b[0mval\u001b[0m \u001b[0;34m=\u001b[0m \u001b[0mis_close_enough\u001b[0m\u001b[0;34m(\u001b[0m\u001b[0mnp\u001b[0m\u001b[0;34m.\u001b[0m\u001b[0mround\u001b[0m\u001b[0;34m(\u001b[0m\u001b[0mpred\u001b[0m\u001b[0;34m.\u001b[0m\u001b[0mflatten\u001b[0m\u001b[0;34m(\u001b[0m\u001b[0;34m)\u001b[0m\u001b[0;34m,\u001b[0m \u001b[0;36m1\u001b[0m\u001b[0;34m)\u001b[0m\u001b[0;34m,\u001b[0m \u001b[0mratings\u001b[0m\u001b[0;34m[\u001b[0m\u001b[0mratings\u001b[0m\u001b[0;34m.\u001b[0m\u001b[0muser_id\u001b[0m\u001b[0;34m==\u001b[0m\u001b[0mtest_user_id\u001b[0m\u001b[0;34m]\u001b[0m\u001b[0;34m.\u001b[0m\u001b[0mrating_score\u001b[0m\u001b[0;34m.\u001b[0m\u001b[0mvalues\u001b[0m\u001b[0;34m)\u001b[0m\u001b[0;34m\u001b[0m\u001b[0;34m\u001b[0m\u001b[0m\n\u001b[1;32m      5\u001b[0m \u001b[0;34m\u001b[0m\u001b[0m\n",
      "\u001b[0;32m~/anaconda3/envs/tf_env/lib/python3.8/site-packages/tensorflow/python/keras/engine/training.py\u001b[0m in \u001b[0;36mpredict\u001b[0;34m(self, x, batch_size, verbose, steps, callbacks, max_queue_size, workers, use_multiprocessing)\u001b[0m\n\u001b[1;32m   1627\u001b[0m           \u001b[0;32mfor\u001b[0m \u001b[0mstep\u001b[0m \u001b[0;32min\u001b[0m \u001b[0mdata_handler\u001b[0m\u001b[0;34m.\u001b[0m\u001b[0msteps\u001b[0m\u001b[0;34m(\u001b[0m\u001b[0;34m)\u001b[0m\u001b[0;34m:\u001b[0m\u001b[0;34m\u001b[0m\u001b[0;34m\u001b[0m\u001b[0m\n\u001b[1;32m   1628\u001b[0m             \u001b[0mcallbacks\u001b[0m\u001b[0;34m.\u001b[0m\u001b[0mon_predict_batch_begin\u001b[0m\u001b[0;34m(\u001b[0m\u001b[0mstep\u001b[0m\u001b[0;34m)\u001b[0m\u001b[0;34m\u001b[0m\u001b[0;34m\u001b[0m\u001b[0m\n\u001b[0;32m-> 1629\u001b[0;31m             \u001b[0mtmp_batch_outputs\u001b[0m \u001b[0;34m=\u001b[0m \u001b[0mself\u001b[0m\u001b[0;34m.\u001b[0m\u001b[0mpredict_function\u001b[0m\u001b[0;34m(\u001b[0m\u001b[0miterator\u001b[0m\u001b[0;34m)\u001b[0m\u001b[0;34m\u001b[0m\u001b[0;34m\u001b[0m\u001b[0m\n\u001b[0m\u001b[1;32m   1630\u001b[0m             \u001b[0;32mif\u001b[0m \u001b[0mdata_handler\u001b[0m\u001b[0;34m.\u001b[0m\u001b[0mshould_sync\u001b[0m\u001b[0;34m:\u001b[0m\u001b[0;34m\u001b[0m\u001b[0;34m\u001b[0m\u001b[0m\n\u001b[1;32m   1631\u001b[0m               \u001b[0mcontext\u001b[0m\u001b[0;34m.\u001b[0m\u001b[0masync_wait\u001b[0m\u001b[0;34m(\u001b[0m\u001b[0;34m)\u001b[0m\u001b[0;34m\u001b[0m\u001b[0;34m\u001b[0m\u001b[0m\n",
      "\u001b[0;32m~/anaconda3/envs/tf_env/lib/python3.8/site-packages/tensorflow/python/eager/def_function.py\u001b[0m in \u001b[0;36m__call__\u001b[0;34m(self, *args, **kwds)\u001b[0m\n\u001b[1;32m    826\u001b[0m     \u001b[0mtracing_count\u001b[0m \u001b[0;34m=\u001b[0m \u001b[0mself\u001b[0m\u001b[0;34m.\u001b[0m\u001b[0mexperimental_get_tracing_count\u001b[0m\u001b[0;34m(\u001b[0m\u001b[0;34m)\u001b[0m\u001b[0;34m\u001b[0m\u001b[0;34m\u001b[0m\u001b[0m\n\u001b[1;32m    827\u001b[0m     \u001b[0;32mwith\u001b[0m \u001b[0mtrace\u001b[0m\u001b[0;34m.\u001b[0m\u001b[0mTrace\u001b[0m\u001b[0;34m(\u001b[0m\u001b[0mself\u001b[0m\u001b[0;34m.\u001b[0m\u001b[0m_name\u001b[0m\u001b[0;34m)\u001b[0m \u001b[0;32mas\u001b[0m \u001b[0mtm\u001b[0m\u001b[0;34m:\u001b[0m\u001b[0;34m\u001b[0m\u001b[0;34m\u001b[0m\u001b[0m\n\u001b[0;32m--> 828\u001b[0;31m       \u001b[0mresult\u001b[0m \u001b[0;34m=\u001b[0m \u001b[0mself\u001b[0m\u001b[0;34m.\u001b[0m\u001b[0m_call\u001b[0m\u001b[0;34m(\u001b[0m\u001b[0;34m*\u001b[0m\u001b[0margs\u001b[0m\u001b[0;34m,\u001b[0m \u001b[0;34m**\u001b[0m\u001b[0mkwds\u001b[0m\u001b[0;34m)\u001b[0m\u001b[0;34m\u001b[0m\u001b[0;34m\u001b[0m\u001b[0m\n\u001b[0m\u001b[1;32m    829\u001b[0m       \u001b[0mcompiler\u001b[0m \u001b[0;34m=\u001b[0m \u001b[0;34m\"xla\"\u001b[0m \u001b[0;32mif\u001b[0m \u001b[0mself\u001b[0m\u001b[0;34m.\u001b[0m\u001b[0m_experimental_compile\u001b[0m \u001b[0;32melse\u001b[0m \u001b[0;34m\"nonXla\"\u001b[0m\u001b[0;34m\u001b[0m\u001b[0;34m\u001b[0m\u001b[0m\n\u001b[1;32m    830\u001b[0m       \u001b[0mnew_tracing_count\u001b[0m \u001b[0;34m=\u001b[0m \u001b[0mself\u001b[0m\u001b[0;34m.\u001b[0m\u001b[0mexperimental_get_tracing_count\u001b[0m\u001b[0;34m(\u001b[0m\u001b[0;34m)\u001b[0m\u001b[0;34m\u001b[0m\u001b[0;34m\u001b[0m\u001b[0m\n",
      "\u001b[0;32m~/anaconda3/envs/tf_env/lib/python3.8/site-packages/tensorflow/python/eager/def_function.py\u001b[0m in \u001b[0;36m_call\u001b[0;34m(self, *args, **kwds)\u001b[0m\n\u001b[1;32m    860\u001b[0m       \u001b[0;31m# In this case we have not created variables on the first call. So we can\u001b[0m\u001b[0;34m\u001b[0m\u001b[0;34m\u001b[0m\u001b[0;34m\u001b[0m\u001b[0m\n\u001b[1;32m    861\u001b[0m       \u001b[0;31m# run the first trace but we should fail if variables are created.\u001b[0m\u001b[0;34m\u001b[0m\u001b[0;34m\u001b[0m\u001b[0;34m\u001b[0m\u001b[0m\n\u001b[0;32m--> 862\u001b[0;31m       \u001b[0mresults\u001b[0m \u001b[0;34m=\u001b[0m \u001b[0mself\u001b[0m\u001b[0;34m.\u001b[0m\u001b[0m_stateful_fn\u001b[0m\u001b[0;34m(\u001b[0m\u001b[0;34m*\u001b[0m\u001b[0margs\u001b[0m\u001b[0;34m,\u001b[0m \u001b[0;34m**\u001b[0m\u001b[0mkwds\u001b[0m\u001b[0;34m)\u001b[0m\u001b[0;34m\u001b[0m\u001b[0;34m\u001b[0m\u001b[0m\n\u001b[0m\u001b[1;32m    863\u001b[0m       \u001b[0;32mif\u001b[0m \u001b[0mself\u001b[0m\u001b[0;34m.\u001b[0m\u001b[0m_created_variables\u001b[0m\u001b[0;34m:\u001b[0m\u001b[0;34m\u001b[0m\u001b[0;34m\u001b[0m\u001b[0m\n\u001b[1;32m    864\u001b[0m         raise ValueError(\"Creating variables on a non-first call to a function\"\n",
      "\u001b[0;32m~/anaconda3/envs/tf_env/lib/python3.8/site-packages/tensorflow/python/eager/function.py\u001b[0m in \u001b[0;36m__call__\u001b[0;34m(self, *args, **kwargs)\u001b[0m\n\u001b[1;32m   2940\u001b[0m       (graph_function,\n\u001b[1;32m   2941\u001b[0m        filtered_flat_args) = self._maybe_define_function(args, kwargs)\n\u001b[0;32m-> 2942\u001b[0;31m     return graph_function._call_flat(\n\u001b[0m\u001b[1;32m   2943\u001b[0m         filtered_flat_args, captured_inputs=graph_function.captured_inputs)  # pylint: disable=protected-access\n\u001b[1;32m   2944\u001b[0m \u001b[0;34m\u001b[0m\u001b[0m\n",
      "\u001b[0;32m~/anaconda3/envs/tf_env/lib/python3.8/site-packages/tensorflow/python/eager/function.py\u001b[0m in \u001b[0;36m_call_flat\u001b[0;34m(self, args, captured_inputs, cancellation_manager)\u001b[0m\n\u001b[1;32m   1916\u001b[0m         and executing_eagerly):\n\u001b[1;32m   1917\u001b[0m       \u001b[0;31m# No tape is watching; skip to running the function.\u001b[0m\u001b[0;34m\u001b[0m\u001b[0;34m\u001b[0m\u001b[0;34m\u001b[0m\u001b[0m\n\u001b[0;32m-> 1918\u001b[0;31m       return self._build_call_outputs(self._inference_function.call(\n\u001b[0m\u001b[1;32m   1919\u001b[0m           ctx, args, cancellation_manager=cancellation_manager))\n\u001b[1;32m   1920\u001b[0m     forward_backward = self._select_forward_and_backward_functions(\n",
      "\u001b[0;32m~/anaconda3/envs/tf_env/lib/python3.8/site-packages/tensorflow/python/eager/function.py\u001b[0m in \u001b[0;36mcall\u001b[0;34m(self, ctx, args, cancellation_manager)\u001b[0m\n\u001b[1;32m    553\u001b[0m       \u001b[0;32mwith\u001b[0m \u001b[0m_InterpolateFunctionError\u001b[0m\u001b[0;34m(\u001b[0m\u001b[0mself\u001b[0m\u001b[0;34m)\u001b[0m\u001b[0;34m:\u001b[0m\u001b[0;34m\u001b[0m\u001b[0;34m\u001b[0m\u001b[0m\n\u001b[1;32m    554\u001b[0m         \u001b[0;32mif\u001b[0m \u001b[0mcancellation_manager\u001b[0m \u001b[0;32mis\u001b[0m \u001b[0;32mNone\u001b[0m\u001b[0;34m:\u001b[0m\u001b[0;34m\u001b[0m\u001b[0;34m\u001b[0m\u001b[0m\n\u001b[0;32m--> 555\u001b[0;31m           outputs = execute.execute(\n\u001b[0m\u001b[1;32m    556\u001b[0m               \u001b[0mstr\u001b[0m\u001b[0;34m(\u001b[0m\u001b[0mself\u001b[0m\u001b[0;34m.\u001b[0m\u001b[0msignature\u001b[0m\u001b[0;34m.\u001b[0m\u001b[0mname\u001b[0m\u001b[0;34m)\u001b[0m\u001b[0;34m,\u001b[0m\u001b[0;34m\u001b[0m\u001b[0;34m\u001b[0m\u001b[0m\n\u001b[1;32m    557\u001b[0m               \u001b[0mnum_outputs\u001b[0m\u001b[0;34m=\u001b[0m\u001b[0mself\u001b[0m\u001b[0;34m.\u001b[0m\u001b[0m_num_outputs\u001b[0m\u001b[0;34m,\u001b[0m\u001b[0;34m\u001b[0m\u001b[0;34m\u001b[0m\u001b[0m\n",
      "\u001b[0;32m~/anaconda3/envs/tf_env/lib/python3.8/site-packages/tensorflow/python/eager/execute.py\u001b[0m in \u001b[0;36mquick_execute\u001b[0;34m(op_name, num_outputs, inputs, attrs, ctx, name)\u001b[0m\n\u001b[1;32m     57\u001b[0m   \u001b[0;32mtry\u001b[0m\u001b[0;34m:\u001b[0m\u001b[0;34m\u001b[0m\u001b[0;34m\u001b[0m\u001b[0m\n\u001b[1;32m     58\u001b[0m     \u001b[0mctx\u001b[0m\u001b[0;34m.\u001b[0m\u001b[0mensure_initialized\u001b[0m\u001b[0;34m(\u001b[0m\u001b[0;34m)\u001b[0m\u001b[0;34m\u001b[0m\u001b[0;34m\u001b[0m\u001b[0m\n\u001b[0;32m---> 59\u001b[0;31m     tensors = pywrap_tfe.TFE_Py_Execute(ctx._handle, device_name, op_name,\n\u001b[0m\u001b[1;32m     60\u001b[0m                                         inputs, attrs, num_outputs)\n\u001b[1;32m     61\u001b[0m   \u001b[0;32mexcept\u001b[0m \u001b[0mcore\u001b[0m\u001b[0;34m.\u001b[0m\u001b[0m_NotOkStatusException\u001b[0m \u001b[0;32mas\u001b[0m \u001b[0me\u001b[0m\u001b[0;34m:\u001b[0m\u001b[0;34m\u001b[0m\u001b[0;34m\u001b[0m\u001b[0m\n",
      "\u001b[0;31mInvalidArgumentError\u001b[0m:  indices[0,0] = 97031704 is not in [0, 64816)\n\t [[node model/embedding_1/embedding_lookup (defined at <ipython-input-13-0362bc84e463>:6) ]] [Op:__inference_predict_function_492]\n\nErrors may have originated from an input operation.\nInput Source operations connected to node model/embedding_1/embedding_lookup:\n model/embedding_1/embedding_lookup/442 (defined at /home/sahar/anaconda3/envs/tf_env/lib/python3.8/contextlib.py:113)\n\nFunction call stack:\npredict_function\n"
     ]
    }
   ],
   "source": [
    "movie_id_array = ratings[ratings.user_id==test_user_id].movie_id.values.astype(int)\n",
    "user_id_array = np.array([int(test_user_id) for n in range(len(movie_id_array))])\n",
    "pred = model.predict([movie_id_array, user_id_array])\n",
    "val = is_close_enough(np.round(pred.flatten(), 1), ratings[ratings.user_id==test_user_id].rating_score.values)\n",
    "\n",
    "sum(val) / len(pred.flatten())"
   ]
  },
  {
   "cell_type": "code",
   "execution_count": 55,
   "id": "d8cb0172",
   "metadata": {},
   "outputs": [
    {
     "data": {
      "image/png": "[encoded data removed]",
      "text/plain": [
       "<Figure size 432x288 with 1 Axes>"
      ]
     },
     "metadata": {
      "needs_background": "light"
     },
     "output_type": "display_data"
    }
   ],
   "source": [
    "sns.histplot((list(flatten(pred))), bins=5, color='red', fill=False,\n",
    "#             stat='density', common_norm=False\n",
    "            )\n",
    "\n",
    "\n",
    "sns.histplot(ratings[ratings.user==test_user].rating_score.values, bins=5, color='blue', fill=False,\n",
    "#             stat='density', common_norm=False\n",
    "            )\n",
    "\n",
    "plt.show()"
   ]
  },
  {
   "cell_type": "code",
   "execution_count": null,
   "id": "9e7605cc",
   "metadata": {},
   "outputs": [],
   "source": []
  },
  {
   "cell_type": "code",
   "execution_count": null,
   "id": "75307b46",
   "metadata": {},
   "outputs": [],
   "source": []
  },
  {
   "cell_type": "code",
   "execution_count": null,
   "id": "8b4d3188",
   "metadata": {},
   "outputs": [],
   "source": []
  },
  {
   "cell_type": "markdown",
   "id": "8e9d4f84",
   "metadata": {},
   "source": [
    "### Check X_test"
   ]
  },
  {
   "cell_type": "code",
   "execution_count": 9,
   "id": "5c50f275",
   "metadata": {},
   "outputs": [
    {
     "data": {
      "text/html": [
       "<div>\n",
       "<style scoped>\n",
       "    .dataframe tbody tr th:only-of-type {\n",
       "        vertical-align: middle;\n",
       "    }\n",
       "\n",
       "    .dataframe tbody tr th {\n",
       "        vertical-align: top;\n",
       "    }\n",
       "\n",
       "    .dataframe thead th {\n",
       "        text-align: right;\n",
       "    }\n",
       "</style>\n",
       "<table border=\"1\" class=\"dataframe\">\n",
       "  <thead>\n",
       "    <tr style=\"text-align: right;\">\n",
       "      <th></th>\n",
       "      <th>movie</th>\n",
       "      <th>user</th>\n",
       "      <th>rating_score</th>\n",
       "    </tr>\n",
       "  </thead>\n",
       "  <tbody>\n",
       "    <tr>\n",
       "      <th>14516575</th>\n",
       "      <td>488</td>\n",
       "      <td>20665</td>\n",
       "      <td>4</td>\n",
       "    </tr>\n",
       "    <tr>\n",
       "      <th>710117</th>\n",
       "      <td>1561</td>\n",
       "      <td>47335</td>\n",
       "      <td>3</td>\n",
       "    </tr>\n",
       "    <tr>\n",
       "      <th>1264453</th>\n",
       "      <td>1776</td>\n",
       "      <td>6414</td>\n",
       "      <td>4</td>\n",
       "    </tr>\n",
       "    <tr>\n",
       "      <th>12875819</th>\n",
       "      <td>187</td>\n",
       "      <td>63513</td>\n",
       "      <td>3</td>\n",
       "    </tr>\n",
       "    <tr>\n",
       "      <th>3378686</th>\n",
       "      <td>3293</td>\n",
       "      <td>50692</td>\n",
       "      <td>3</td>\n",
       "    </tr>\n",
       "  </tbody>\n",
       "</table>\n",
       "</div>"
      ],
      "text/plain": [
       "          movie   user  rating_score\n",
       "14516575    488  20665             4\n",
       "710117     1561  47335             3\n",
       "1264453    1776   6414             4\n",
       "12875819    187  63513             3\n",
       "3378686    3293  50692             3"
      ]
     },
     "execution_count": 9,
     "metadata": {},
     "output_type": "execute_result"
    }
   ],
   "source": [
    "X_test.head()"
   ]
  },
  {
   "cell_type": "code",
   "execution_count": 44,
   "id": "ab5f1617",
   "metadata": {},
   "outputs": [
    {
     "data": {
      "text/plain": [
       "(2656228, 3)"
      ]
     },
     "execution_count": 44,
     "metadata": {},
     "output_type": "execute_result"
    }
   ],
   "source": [
    "X_test.shape"
   ]
  },
  {
   "cell_type": "code",
   "execution_count": 25,
   "id": "8351eaba",
   "metadata": {},
   "outputs": [],
   "source": [
    "random_10000_users = random.choices(X_test.user.unique(), k=10000)"
   ]
  },
  {
   "cell_type": "code",
   "execution_count": 26,
   "id": "15405fec",
   "metadata": {},
   "outputs": [],
   "source": [
    "predictions = []\n",
    "accuracy = []\n",
    "\n",
    "for user in random_10000_users:\n",
    "    movie_array = X_test[X_test.user==user].movie.values.astype(int)\n",
    "    user_array = np.array([int(user) for n in range(len(movie_array))])\n",
    "    pred = model.predict([movie_array, user_array])\n",
    "    val = is_close_enough(np.round(pred.flatten(), 1), X_test[X_test.user==user].rating_score.values)\n",
    "    \n",
    "    predictions.append(list(pred.flatten()))\n",
    "    accuracy.append(sum(val) / len(pred.flatten()))"
   ]
  },
  {
   "cell_type": "code",
   "execution_count": 27,
   "id": "c8b59133",
   "metadata": {},
   "outputs": [
    {
     "data": {
      "image/png": "[encoded data removed]",
      "text/plain": [
       "<Figure size 432x288 with 1 Axes>"
      ]
     },
     "metadata": {
      "needs_background": "light"
     },
     "output_type": "display_data"
    }
   ],
   "source": [
    "sns.histplot(accuracy)\n",
    "plt.show()"
   ]
  },
  {
   "cell_type": "code",
   "execution_count": 28,
   "id": "20d31b11",
   "metadata": {},
   "outputs": [
    {
     "data": {
      "image/png": "[encoded data removed]",
      "text/plain": [
       "<Figure size 432x288 with 1 Axes>"
      ]
     },
     "metadata": {
      "needs_background": "light"
     },
     "output_type": "display_data"
    }
   ],
   "source": [
    "sns.histplot(list(flatten(predictions)), bins=5, color='red', fill=False,\n",
    "            stat='density', common_norm=False)\n",
    "\n",
    "\n",
    "sns.histplot(X_test[X_test.user.isin(random_10000_users)].rating_score.values, bins=5, color='blue', fill=False,\n",
    "            stat='density', common_norm=False)\n",
    "\n",
    "plt.show()"
   ]
  },
  {
   "cell_type": "code",
   "execution_count": 32,
   "id": "91e465a0",
   "metadata": {},
   "outputs": [
    {
     "data": {
      "text/plain": [
       "array([ 50, 176,  38, ...,  22,   9,  11])"
      ]
     },
     "execution_count": 32,
     "metadata": {},
     "output_type": "execute_result"
    }
   ],
   "source": [
    "X_test.groupby('user').count()['movie'].loc[random_10000_users].values"
   ]
  },
  {
   "cell_type": "code",
   "execution_count": 37,
   "id": "8be04e10",
   "metadata": {},
   "outputs": [
    {
     "data": {
      "image/png": "[encoded data removed]",
      "text/plain": [
       "<Figure size 432x288 with 1 Axes>"
      ]
     },
     "metadata": {
      "needs_background": "light"
     },
     "output_type": "display_data"
    }
   ],
   "source": [
    "plt.scatter(x=X_test.groupby('user').count()['movie'].loc[random_10000_users].values,\n",
    "           y=accuracy)\n",
    "\n",
    "plt.title('n_ratings v accuracy')\n",
    "plt.show()"
   ]
  },
  {
   "cell_type": "code",
   "execution_count": 36,
   "id": "50ba8593",
   "metadata": {},
   "outputs": [
    {
     "data": {
      "text/plain": [
       "array([3.2       , 2.65909091, 3.73684211, ..., 4.81818182, 4.66666667,\n",
       "       2.        ])"
      ]
     },
     "execution_count": 36,
     "metadata": {},
     "output_type": "execute_result"
    }
   ],
   "source": [
    "X_test.groupby('user').mean()['rating_score'].loc[random_10000_users].values"
   ]
  },
  {
   "cell_type": "code",
   "execution_count": 38,
   "id": "18e9b7a9",
   "metadata": {},
   "outputs": [
    {
     "data": {
      "image/png": "[encoded data removed]",
      "text/plain": [
       "<Figure size 432x288 with 1 Axes>"
      ]
     },
     "metadata": {
      "needs_background": "light"
     },
     "output_type": "display_data"
    }
   ],
   "source": [
    "plt.scatter(x=X_test.groupby('user').mean()['rating_score'].loc[random_10000_users].values,\n",
    "           y=accuracy)\n",
    "\n",
    "plt.title('mean rating score v accuracy')\n",
    "plt.show()"
   ]
  },
  {
   "cell_type": "code",
   "execution_count": 42,
   "id": "ae49f078",
   "metadata": {},
   "outputs": [
    {
     "data": {
      "image/png": "[encoded data removed]",
      "text/plain": [
       "<Figure size 432x288 with 1 Axes>"
      ]
     },
     "metadata": {
      "needs_background": "light"
     },
     "output_type": "display_data"
    }
   ],
   "source": [
    "plt.scatter(x=X_test.groupby('user').mean()['rating_score'].loc[random_10000_users].values,\n",
    "           y=[np.mean(pred) for pred in predictions])\n",
    "\n",
    "plt.title('mean rating score v mean pred rating score')\n",
    "plt.show()"
   ]
  },
  {
   "cell_type": "markdown",
   "id": "fb5a39b0",
   "metadata": {},
   "source": [
    "Generate suggestions"
   ]
  },
  {
   "cell_type": "code",
   "execution_count": 74,
   "id": "3bffe7b4",
   "metadata": {},
   "outputs": [],
   "source": [
    "unique_movies = ratings.movie.unique().astype(int)"
   ]
  },
  {
   "cell_type": "code",
   "execution_count": 75,
   "id": "13e68b4a",
   "metadata": {
    "collapsed": true
   },
   "outputs": [
    {
     "ename": "KeyboardInterrupt",
     "evalue": "",
     "output_type": "error",
     "traceback": [
      "\u001b[0;31m---------------------------------------------------------------------------\u001b[0m",
      "\u001b[0;31mKeyboardInterrupt\u001b[0m                         Traceback (most recent call last)",
      "\u001b[0;32m<ipython-input-75-56f965415670>\u001b[0m in \u001b[0;36m<module>\u001b[0;34m\u001b[0m\n\u001b[1;32m      2\u001b[0m \u001b[0;32mfor\u001b[0m \u001b[0muser\u001b[0m \u001b[0;32min\u001b[0m \u001b[0mrandom_10000_users\u001b[0m\u001b[0;34m:\u001b[0m\u001b[0;34m\u001b[0m\u001b[0;34m\u001b[0m\u001b[0m\n\u001b[1;32m      3\u001b[0m     \u001b[0muser_array\u001b[0m \u001b[0;34m=\u001b[0m \u001b[0mnp\u001b[0m\u001b[0;34m.\u001b[0m\u001b[0mones\u001b[0m\u001b[0;34m(\u001b[0m\u001b[0mshape\u001b[0m\u001b[0;34m=\u001b[0m\u001b[0mlen\u001b[0m\u001b[0;34m(\u001b[0m\u001b[0munique_movies\u001b[0m\u001b[0;34m)\u001b[0m\u001b[0;34m,\u001b[0m \u001b[0mdtype\u001b[0m\u001b[0;34m=\u001b[0m\u001b[0mint\u001b[0m\u001b[0;34m)\u001b[0m \u001b[0;34m*\u001b[0m \u001b[0mint\u001b[0m\u001b[0;34m(\u001b[0m\u001b[0muser\u001b[0m\u001b[0;34m)\u001b[0m\u001b[0;34m\u001b[0m\u001b[0;34m\u001b[0m\u001b[0m\n\u001b[0;32m----> 4\u001b[0;31m     \u001b[0mpreds\u001b[0m \u001b[0;34m=\u001b[0m \u001b[0mmodel\u001b[0m\u001b[0;34m.\u001b[0m\u001b[0mpredict\u001b[0m\u001b[0;34m(\u001b[0m\u001b[0;34m[\u001b[0m\u001b[0munique_movies\u001b[0m\u001b[0;34m,\u001b[0m \u001b[0muser_array\u001b[0m\u001b[0;34m]\u001b[0m\u001b[0;34m)\u001b[0m\u001b[0;34m\u001b[0m\u001b[0;34m\u001b[0m\u001b[0m\n\u001b[0m\u001b[1;32m      5\u001b[0m     \u001b[0msuggestions\u001b[0m\u001b[0;34m[\u001b[0m\u001b[0muser\u001b[0m\u001b[0;34m]\u001b[0m \u001b[0;34m=\u001b[0m \u001b[0mpreds\u001b[0m\u001b[0;34m\u001b[0m\u001b[0;34m\u001b[0m\u001b[0m\n\u001b[1;32m      6\u001b[0m     \u001b[0;32mdel\u001b[0m \u001b[0mpreds\u001b[0m\u001b[0;34m\u001b[0m\u001b[0;34m\u001b[0m\u001b[0m\n",
      "\u001b[0;32m~/anaconda3/envs/tf_env/lib/python3.8/site-packages/tensorflow/python/keras/engine/training.py\u001b[0m in \u001b[0;36mpredict\u001b[0;34m(self, x, batch_size, verbose, steps, callbacks, max_queue_size, workers, use_multiprocessing)\u001b[0m\n\u001b[1;32m   1627\u001b[0m           \u001b[0;32mfor\u001b[0m \u001b[0mstep\u001b[0m \u001b[0;32min\u001b[0m \u001b[0mdata_handler\u001b[0m\u001b[0;34m.\u001b[0m\u001b[0msteps\u001b[0m\u001b[0;34m(\u001b[0m\u001b[0;34m)\u001b[0m\u001b[0;34m:\u001b[0m\u001b[0;34m\u001b[0m\u001b[0;34m\u001b[0m\u001b[0m\n\u001b[1;32m   1628\u001b[0m             \u001b[0mcallbacks\u001b[0m\u001b[0;34m.\u001b[0m\u001b[0mon_predict_batch_begin\u001b[0m\u001b[0;34m(\u001b[0m\u001b[0mstep\u001b[0m\u001b[0;34m)\u001b[0m\u001b[0;34m\u001b[0m\u001b[0;34m\u001b[0m\u001b[0m\n\u001b[0;32m-> 1629\u001b[0;31m             \u001b[0mtmp_batch_outputs\u001b[0m \u001b[0;34m=\u001b[0m \u001b[0mself\u001b[0m\u001b[0;34m.\u001b[0m\u001b[0mpredict_function\u001b[0m\u001b[0;34m(\u001b[0m\u001b[0miterator\u001b[0m\u001b[0;34m)\u001b[0m\u001b[0;34m\u001b[0m\u001b[0;34m\u001b[0m\u001b[0m\n\u001b[0m\u001b[1;32m   1630\u001b[0m             \u001b[0;32mif\u001b[0m \u001b[0mdata_handler\u001b[0m\u001b[0;34m.\u001b[0m\u001b[0mshould_sync\u001b[0m\u001b[0;34m:\u001b[0m\u001b[0;34m\u001b[0m\u001b[0;34m\u001b[0m\u001b[0m\n\u001b[1;32m   1631\u001b[0m               \u001b[0mcontext\u001b[0m\u001b[0;34m.\u001b[0m\u001b[0masync_wait\u001b[0m\u001b[0;34m(\u001b[0m\u001b[0;34m)\u001b[0m\u001b[0;34m\u001b[0m\u001b[0;34m\u001b[0m\u001b[0m\n",
      "\u001b[0;32m~/anaconda3/envs/tf_env/lib/python3.8/site-packages/tensorflow/python/eager/def_function.py\u001b[0m in \u001b[0;36m__call__\u001b[0;34m(self, *args, **kwds)\u001b[0m\n\u001b[1;32m    826\u001b[0m     \u001b[0mtracing_count\u001b[0m \u001b[0;34m=\u001b[0m \u001b[0mself\u001b[0m\u001b[0;34m.\u001b[0m\u001b[0mexperimental_get_tracing_count\u001b[0m\u001b[0;34m(\u001b[0m\u001b[0;34m)\u001b[0m\u001b[0;34m\u001b[0m\u001b[0;34m\u001b[0m\u001b[0m\n\u001b[1;32m    827\u001b[0m     \u001b[0;32mwith\u001b[0m \u001b[0mtrace\u001b[0m\u001b[0;34m.\u001b[0m\u001b[0mTrace\u001b[0m\u001b[0;34m(\u001b[0m\u001b[0mself\u001b[0m\u001b[0;34m.\u001b[0m\u001b[0m_name\u001b[0m\u001b[0;34m)\u001b[0m \u001b[0;32mas\u001b[0m \u001b[0mtm\u001b[0m\u001b[0;34m:\u001b[0m\u001b[0;34m\u001b[0m\u001b[0;34m\u001b[0m\u001b[0m\n\u001b[0;32m--> 828\u001b[0;31m       \u001b[0mresult\u001b[0m \u001b[0;34m=\u001b[0m \u001b[0mself\u001b[0m\u001b[0;34m.\u001b[0m\u001b[0m_call\u001b[0m\u001b[0;34m(\u001b[0m\u001b[0;34m*\u001b[0m\u001b[0margs\u001b[0m\u001b[0;34m,\u001b[0m \u001b[0;34m**\u001b[0m\u001b[0mkwds\u001b[0m\u001b[0;34m)\u001b[0m\u001b[0;34m\u001b[0m\u001b[0;34m\u001b[0m\u001b[0m\n\u001b[0m\u001b[1;32m    829\u001b[0m       \u001b[0mcompiler\u001b[0m \u001b[0;34m=\u001b[0m \u001b[0;34m\"xla\"\u001b[0m \u001b[0;32mif\u001b[0m \u001b[0mself\u001b[0m\u001b[0;34m.\u001b[0m\u001b[0m_experimental_compile\u001b[0m \u001b[0;32melse\u001b[0m \u001b[0;34m\"nonXla\"\u001b[0m\u001b[0;34m\u001b[0m\u001b[0;34m\u001b[0m\u001b[0m\n\u001b[1;32m    830\u001b[0m       \u001b[0mnew_tracing_count\u001b[0m \u001b[0;34m=\u001b[0m \u001b[0mself\u001b[0m\u001b[0;34m.\u001b[0m\u001b[0mexperimental_get_tracing_count\u001b[0m\u001b[0;34m(\u001b[0m\u001b[0;34m)\u001b[0m\u001b[0;34m\u001b[0m\u001b[0;34m\u001b[0m\u001b[0m\n",
      "\u001b[0;32m~/anaconda3/envs/tf_env/lib/python3.8/site-packages/tensorflow/python/eager/def_function.py\u001b[0m in \u001b[0;36m_call\u001b[0;34m(self, *args, **kwds)\u001b[0m\n\u001b[1;32m    860\u001b[0m       \u001b[0;31m# In this case we have not created variables on the first call. So we can\u001b[0m\u001b[0;34m\u001b[0m\u001b[0;34m\u001b[0m\u001b[0;34m\u001b[0m\u001b[0m\n\u001b[1;32m    861\u001b[0m       \u001b[0;31m# run the first trace but we should fail if variables are created.\u001b[0m\u001b[0;34m\u001b[0m\u001b[0;34m\u001b[0m\u001b[0;34m\u001b[0m\u001b[0m\n\u001b[0;32m--> 862\u001b[0;31m       \u001b[0mresults\u001b[0m \u001b[0;34m=\u001b[0m \u001b[0mself\u001b[0m\u001b[0;34m.\u001b[0m\u001b[0m_stateful_fn\u001b[0m\u001b[0;34m(\u001b[0m\u001b[0;34m*\u001b[0m\u001b[0margs\u001b[0m\u001b[0;34m,\u001b[0m \u001b[0;34m**\u001b[0m\u001b[0mkwds\u001b[0m\u001b[0;34m)\u001b[0m\u001b[0;34m\u001b[0m\u001b[0;34m\u001b[0m\u001b[0m\n\u001b[0m\u001b[1;32m    863\u001b[0m       \u001b[0;32mif\u001b[0m \u001b[0mself\u001b[0m\u001b[0;34m.\u001b[0m\u001b[0m_created_variables\u001b[0m\u001b[0;34m:\u001b[0m\u001b[0;34m\u001b[0m\u001b[0;34m\u001b[0m\u001b[0m\n\u001b[1;32m    864\u001b[0m         raise ValueError(\"Creating variables on a non-first call to a function\"\n",
      "\u001b[0;32m~/anaconda3/envs/tf_env/lib/python3.8/site-packages/tensorflow/python/eager/function.py\u001b[0m in \u001b[0;36m__call__\u001b[0;34m(self, *args, **kwargs)\u001b[0m\n\u001b[1;32m   2940\u001b[0m       (graph_function,\n\u001b[1;32m   2941\u001b[0m        filtered_flat_args) = self._maybe_define_function(args, kwargs)\n\u001b[0;32m-> 2942\u001b[0;31m     return graph_function._call_flat(\n\u001b[0m\u001b[1;32m   2943\u001b[0m         filtered_flat_args, captured_inputs=graph_function.captured_inputs)  # pylint: disable=protected-access\n\u001b[1;32m   2944\u001b[0m \u001b[0;34m\u001b[0m\u001b[0m\n",
      "\u001b[0;32m~/anaconda3/envs/tf_env/lib/python3.8/site-packages/tensorflow/python/eager/function.py\u001b[0m in \u001b[0;36m_call_flat\u001b[0;34m(self, args, captured_inputs, cancellation_manager)\u001b[0m\n\u001b[1;32m   1916\u001b[0m         and executing_eagerly):\n\u001b[1;32m   1917\u001b[0m       \u001b[0;31m# No tape is watching; skip to running the function.\u001b[0m\u001b[0;34m\u001b[0m\u001b[0;34m\u001b[0m\u001b[0;34m\u001b[0m\u001b[0m\n\u001b[0;32m-> 1918\u001b[0;31m       return self._build_call_outputs(self._inference_function.call(\n\u001b[0m\u001b[1;32m   1919\u001b[0m           ctx, args, cancellation_manager=cancellation_manager))\n\u001b[1;32m   1920\u001b[0m     forward_backward = self._select_forward_and_backward_functions(\n",
      "\u001b[0;32m~/anaconda3/envs/tf_env/lib/python3.8/site-packages/tensorflow/python/eager/function.py\u001b[0m in \u001b[0;36mcall\u001b[0;34m(self, ctx, args, cancellation_manager)\u001b[0m\n\u001b[1;32m    553\u001b[0m       \u001b[0;32mwith\u001b[0m \u001b[0m_InterpolateFunctionError\u001b[0m\u001b[0;34m(\u001b[0m\u001b[0mself\u001b[0m\u001b[0;34m)\u001b[0m\u001b[0;34m:\u001b[0m\u001b[0;34m\u001b[0m\u001b[0;34m\u001b[0m\u001b[0m\n\u001b[1;32m    554\u001b[0m         \u001b[0;32mif\u001b[0m \u001b[0mcancellation_manager\u001b[0m \u001b[0;32mis\u001b[0m \u001b[0;32mNone\u001b[0m\u001b[0;34m:\u001b[0m\u001b[0;34m\u001b[0m\u001b[0;34m\u001b[0m\u001b[0m\n\u001b[0;32m--> 555\u001b[0;31m           outputs = execute.execute(\n\u001b[0m\u001b[1;32m    556\u001b[0m               \u001b[0mstr\u001b[0m\u001b[0;34m(\u001b[0m\u001b[0mself\u001b[0m\u001b[0;34m.\u001b[0m\u001b[0msignature\u001b[0m\u001b[0;34m.\u001b[0m\u001b[0mname\u001b[0m\u001b[0;34m)\u001b[0m\u001b[0;34m,\u001b[0m\u001b[0;34m\u001b[0m\u001b[0;34m\u001b[0m\u001b[0m\n\u001b[1;32m    557\u001b[0m               \u001b[0mnum_outputs\u001b[0m\u001b[0;34m=\u001b[0m\u001b[0mself\u001b[0m\u001b[0;34m.\u001b[0m\u001b[0m_num_outputs\u001b[0m\u001b[0;34m,\u001b[0m\u001b[0;34m\u001b[0m\u001b[0;34m\u001b[0m\u001b[0m\n",
      "\u001b[0;32m~/anaconda3/envs/tf_env/lib/python3.8/site-packages/tensorflow/python/eager/execute.py\u001b[0m in \u001b[0;36mquick_execute\u001b[0;34m(op_name, num_outputs, inputs, attrs, ctx, name)\u001b[0m\n\u001b[1;32m     57\u001b[0m   \u001b[0;32mtry\u001b[0m\u001b[0;34m:\u001b[0m\u001b[0;34m\u001b[0m\u001b[0;34m\u001b[0m\u001b[0m\n\u001b[1;32m     58\u001b[0m     \u001b[0mctx\u001b[0m\u001b[0;34m.\u001b[0m\u001b[0mensure_initialized\u001b[0m\u001b[0;34m(\u001b[0m\u001b[0;34m)\u001b[0m\u001b[0;34m\u001b[0m\u001b[0;34m\u001b[0m\u001b[0m\n\u001b[0;32m---> 59\u001b[0;31m     tensors = pywrap_tfe.TFE_Py_Execute(ctx._handle, device_name, op_name,\n\u001b[0m\u001b[1;32m     60\u001b[0m                                         inputs, attrs, num_outputs)\n\u001b[1;32m     61\u001b[0m   \u001b[0;32mexcept\u001b[0m \u001b[0mcore\u001b[0m\u001b[0;34m.\u001b[0m\u001b[0m_NotOkStatusException\u001b[0m \u001b[0;32mas\u001b[0m \u001b[0me\u001b[0m\u001b[0;34m:\u001b[0m\u001b[0;34m\u001b[0m\u001b[0;34m\u001b[0m\u001b[0m\n",
      "\u001b[0;31mKeyboardInterrupt\u001b[0m: "
     ]
    }
   ],
   "source": [
    "suggestions = {}\n",
    "for user in random_10000_users: \n",
    "    user_array = np.ones(shape=len(unique_movies), dtype=int) * int(user)\n",
    "    preds = model.predict([unique_movies, user_array])    \n",
    "    suggestions[user] = preds\n",
    "    del preds\n",
    "    "
   ]
  },
  {
   "cell_type": "code",
   "execution_count": 82,
   "id": "8a216bef",
   "metadata": {
    "collapsed": true
   },
   "outputs": [
    {
     "data": {
      "text/plain": [
       "dict_keys([53414, 51243, 38557, 15582, 4706, 59224, 14287, 49087, 32441, 62958, 43646, 39753, 23463, 61849, 54735, 53494, 34789, 24150, 45246, 38142, 27732, 45145, 15637, 11813, 54993, 56904, 33627, 26411, 61421, 51833, 9109, 62995, 38499, 50417, 7049, 3769, 23156, 4329, 52887, 38379, 23036, 43693, 27500, 60201, 11549, 47171, 56020, 3586, 51786, 19135, 11908, 57502, 1247, 14535, 26735, 31109, 16115, 38857, 5071, 8279, 35120, 55860, 56161, 11132, 22858, 19702, 6334, 48810, 38133, 50389, 13858, 32069, 46828, 51896, 49611, 1322, 34955, 52109, 20449, 57651, 3670, 32033, 35547, 4389, 12392, 17512, 18779, 9150, 34325, 36122, 1290, 1805, 20738, 25246, 5104, 29267, 5250, 25075, 51246, 55197, 15091, 5925, 55736, 17198, 1612, 35355, 19066, 59323, 19421, 14596, 10767, 59255, 16906, 28744, 43052, 2376, 29778, 17116, 5958, 62476, 54378, 5651, 18109, 29494, 49896, 16659, 48691, 41031, 48614, 34416, 57985, 36916, 192, 11796, 11345, 53935, 39628, 43686, 27017, 58258, 1769, 26621, 51876, 48703, 31489, 266, 40080, 19621, 40645, 63102, 1520, 28558, 6034, 52667, 46721, 11432, 15849, 32666, 44761, 11506, 3443, 11068, 53146, 39585, 20090, 58424, 12510, 10599, 64315, 21082, 47133, 52449, 33476, 46754, 54649, 56920, 42967, 21543, 34053, 16775, 16518, 30277, 468, 4616, 33676, 35974, 8046, 32603, 21931, 54726, 26518, 36476, 4039, 18485, 9282, 24214, 24945, 37673, 36282, 10375, 29450, 2359, 61938, 45216, 6783, 29594, 47615, 29303, 12812, 55964, 51016, 5852, 24688, 9867, 12485, 45151, 10484, 50146, 61504, 41145, 46400, 17176, 24596, 42296, 53965, 54870, 7269, 32508, 55692, 53421, 31281, 39239, 57645, 5727, 18110, 63417, 16250, 50360, 57237, 50796, 30291, 47917, 64695, 13149, 28341, 4139, 29335, 17953, 49060, 4346, 7590, 36192, 53399, 38979, 29588, 6816, 62728, 43364, 36227, 43477, 21506, 13301, 58069, 1171, 3932, 5396, 61057, 40304, 50808, 49523, 21665, 24542, 47393, 47119, 56495, 15775, 26568, 20612, 4555, 8623, 60215, 8, 15850, 32237, 45128, 44526, 4101, 1692, 17890, 35058, 40633, 64048, 51172, 29069, 34036, 61107, 52552, 6466, 21195, 15903, 23967, 10118, 32712, 22436, 17446, 19539, 38719, 15281, 56945, 1494, 63371, 50261, 49107, 991, 42092, 19043, 34355, 17639, 29324, 61912, 33161, 16660, 16179, 34127, 16945, 40603, 25052, 15396, 14532, 17541, 16862, 19673, 49489, 43937, 63212, 20499, 37622, 50222, 38362, 9606, 50585, 47896, 12578, 59564, 32014, 41236, 44530, 34242, 707, 36800, 29184, 49730, 26519, 14036, 35377, 56935, 57941, 36816, 62233, 13303, 38404, 38023, 59284, 52121, 63254, 27968, 59258, 45140, 11399, 14010, 45449, 10794, 737, 49502, 30449, 16490, 12835, 29050, 1344, 44809, 61893, 19254, 26308, 38758, 44575, 30022, 12855, 49675, 21376, 40297, 51157, 13905, 62853, 61089, 41113, 4247, 29528, 37625, 7823, 52101, 12072, 3585, 60421, 21232, 16053, 27960, 38958, 29404, 55898, 28524, 18420, 58513, 56913, 47823, 59349, 11655, 43037, 4803, 57954, 25800, 62551, 49129, 42546, 31164, 28462, 11751, 26314, 49512, 44389, 5894, 19065, 22086, 61294, 5419, 9441, 7688, 62371, 46939, 14293, 47567, 47286, 37262, 3076, 24067, 57289, 3684, 52060, 23280, 41317, 20321, 1357, 57049, 56013, 60318, 34423, 21066, 11711, 61652, 8966, 26393, 6911, 41969, 57235, 24492, 3956, 3081, 11361, 6197, 15101, 37084, 63704, 22636, 38082, 8798, 9737, 33126, 17981, 39999, 21625, 48768, 33428, 1483, 57442, 6853, 60220, 4266, 33772, 13353, 3289, 54074, 8677, 24784, 54901, 61952, 20879, 3603, 52877, 36568, 42958, 38754, 24807, 34769, 15893, 42279, 26771, 55657, 24460, 56467, 36594, 1343, 52691, 22361, 55194, 26733, 2222, 27284, 44921, 63339, 30493, 22270, 17812, 12910, 22500, 5734, 37940, 14982, 3941, 752, 29451, 9544, 39074, 55730, 28366, 1903, 5439, 11225, 56807, 29703, 55660, 166, 26301, 42856, 15210, 49792, 721, 30920, 1135, 60941, 44513, 42707, 10648, 12988, 439, 36985, 42237, 43840, 40555, 31401, 61988, 24753, 6863, 30857, 63990, 54616, 64034, 21901, 61722, 61069, 19604, 15570, 2746, 35906, 58765, 22826, 47029, 23393, 36326, 4705, 19330, 18645, 11687, 953, 61189, 61628, 21145, 52276, 29039, 4360, 59910, 20092, 29818, 1721, 46836, 12831, 14187, 23305, 11681, 14083, 46998, 14549, 41024, 33425, 28739, 37067, 53353, 28577, 58282, 15602, 14075, 52885, 47948, 30147, 34191, 10313, 6392, 41465, 51754, 49127, 39321, 9539, 28043, 16153, 65, 62937, 8210, 21740, 60977, 11548, 3571, 48735, 31631, 29312, 61831, 63844, 64599, 30777, 58360, 6268, 38813, 9628, 34129, 34783, 27253, 9958, 29430, 3393, 54563, 11927, 18808, 23367, 22138, 50921, 59389, 14173, 23398, 9935, 17726, 33739, 13625, 46049, 13848, 39544, 52724, 54441, 31949, 30326, 4711, 22016, 2370, 14568, 46437, 17009, 60996, 28240, 12882, 43721, 60714, 49990, 50302, 46344, 57997, 10338, 4479, 42598, 33466, 2683, 5601, 22024, 45965, 39555, 11820, 54608, 16307, 49626, 47145, 51062, 22857, 55060, 20259, 17388, 23242, 31558, 63836, 55030, 5615, 62189, 29199, 40157, 20232, 57092, 20715, 49166, 11425, 14866, 22088, 5211, 32689, 38020, 55036, 39986, 59565, 4999, 40456, 1264, 10912, 59045, 63888, 23790, 42232, 34662, 44649, 35876, 18909, 47102, 15701, 51914, 29592, 8220, 2312, 6720, 684, 34137, 59443, 8827, 43417, 59937, 59309, 44033, 64286, 54926, 57649, 31722, 5004, 62436, 11849, 79, 328, 12542, 29357, 25857, 29934, 24790, 13257, 22027, 12259, 29334, 33738, 18444, 26265, 58664, 52388, 24211, 32144, 53223, 33836, 42897, 11258, 17373, 45921, 51005, 14490, 41231, 843, 19920, 6031, 3013, 53728, 63477, 17469, 61812, 32769, 7182, 25543, 275, 20044, 32270, 20284, 13813, 26617, 16285, 5165, 45717, 53532, 10950, 35442, 50900, 18587, 17923, 24543, 2484, 18411, 19923, 56140, 52918, 2762, 34786, 33901, 34048, 51198, 13398, 13399, 1613, 25067, 61960, 39256, 48211, 18052, 21636, 11542, 25124, 50081, 56789, 35725, 62786, 54415, 11695, 15881, 16637, 51354, 15837, 5877, 45201, 1806, 57020, 52619, 9690, 39103, 34153, 12870, 45952, 28406, 59419, 33398, 24987, 4510, 25598, 4859, 16831, 53102, 62087, 4466, 26368, 52830, 15195, 53404, 49375, 39405, 9604, 35426, 51688, 63910, 14760, 7338, 62091, 31767, 31841, 51285, 24122, 21988, 49204, 35736, 3776, 61524, 37579, 22942, 18976, 52432, 10440, 17727, 35660, 42982, 17180, 21257, 36226, 18454, 5778, 50653, 39700, 57409, 22521, 60044, 31569, 55818, 36913, 19988, 24213, 20198, 57921, 54447, 26852, 2189, 5994, 16803, 16535, 4957, 9407, 37117, 15469, 17803, 20625, 18049, 30517, 62788, 10478, 18177, 12594, 16154, 43597, 39951, 33951, 22978, 34079, 7405, 35306, 3143, 5178, 53104, 22736, 57555, 42268, 5756, 32962, 51584, 56825, 9427, 19829, 17915, 53144, 19467, 48439, 25185, 53250, 248, 4822, 26288, 2795, 45779, 8278, 53957, 36807, 8127, 653, 18395, 6628, 58804, 10121, 7287, 24423, 17029, 35220, 32422, 47260, 51054, 34728, 58464, 49632, 56570, 62611, 58469, 14641, 23670, 57485, 23768, 61525, 7299, 54932, 33868, 5342, 38671, 26157, 6692, 7466, 17601, 61119, 6189, 8011, 13715, 48083, 8125, 43776, 28355, 4922, 61085, 21220, 31836, 63347, 43773, 2786, 49327, 60970, 25451, 23965, 47064, 48918, 11936, 45720, 53055, 30190, 18168, 22337, 11546, 45113, 49892, 25571, 12482, 48822, 64518, 49890, 57486, 39978, 15916, 41548, 1724, 42403, 6644, 36505, 26284, 14120, 45347, 51971, 30819, 160, 38810, 54401, 12741, 55677, 32055, 35196, 3584, 63838, 60857, 53359, 9426, 24418, 6679, 51600, 52051, 57405, 4750, 42103, 52241, 32114, 15206, 31323, 21119, 1878, 18839, 59831, 58281, 56461, 13884, 35733, 54298, 2080, 11299, 34313, 50922, 61684, 60156, 1791, 40838, 46643, 48483, 60041, 17058, 58851, 56508, 27045, 42855, 62160, 25015, 52262, 56922, 19377, 44212, 8676, 32680, 55370, 36534, 41117, 45878, 26705, 43990, 10758, 1018, 36629, 12382, 8810, 54052, 49394, 63258, 40677, 38175, 61222, 45784, 46407, 42552, 7937, 59972, 64572, 35297, 2922, 12326, 26237, 63231, 155, 59839, 5664, 8511, 50582, 29795, 48538, 20912, 32762, 42094, 27926, 32874, 62350, 25037, 49068, 15781, 34143, 7029, 4056, 8260, 35863, 31040, 31272, 64065, 6240, 22525, 8183, 49102, 29773, 30567, 54276, 62620, 31085, 909, 60558, 31873, 64710, 28678, 13244, 25764, 50424, 22163, 24678, 3685, 55666, 58373, 39748, 2913, 3044, 32439, 13932, 57260, 3531, 58633, 60203, 37187, 23088, 25114, 57374, 28383, 7817, 53446, 64006, 26430, 57169, 55337, 17814, 10140, 57381, 14998, 36182, 24502, 47013, 28177, 40915, 5536, 46651, 23037, 10919, 19197, 10782, 46699, 13384, 15204, 6128, 44469, 2397, 59771, 12757, 7504, 55038, 7264, 8184, 45739, 25255, 37454, 61522, 30660, 53727, 47947, 30098, 64142, 50534, 24253, 24426, 1754, 25193, 59058, 34647, 11559, 54263, 54297, 22901, 46175, 36604, 10124, 10553, 59170, 47385, 24292, 9634, 44803, 53798, 45221, 34954, 19102, 14472, 30918, 28834, 51618, 50411, 20204, 45941, 8014, 32942, 48452, 58370, 10311, 30917, 60723, 21960, 60322, 35116, 23581, 27752, 55119, 15352, 40662, 6519, 47761, 27225, 15027, 39174, 1032, 3274, 59628, 60915, 10074, 64479, 21586, 48949, 21033, 23898, 31019, 63520, 5223, 2934, 19944, 63884, 57172, 33643, 46410, 16752, 59390, 11408, 28322, 43313, 18053, 31022, 35487, 40442, 17122, 44201, 59172, 38658, 36550, 39755, 26925, 52219, 59458, 53466, 33773, 21917, 37721, 38934, 57913, 60028, 38413, 12114, 60376, 25679, 11302, 38970, 1748, 46713, 33511, 64614, 52569, 30420, 53507, 23559, 6702, 38031, 35527, 16208, 34947, 63238, 27509, 9506, 56764, 25935, 11028, 63465, 34879, 24841, 51412, 33320, 26660, 38938, 59215, 63070, 47918, 57544, 17942, 63779, 33813, 23505, 18040, 24265, 1431, 52069, 35218, 16028, 30403, 10785, 56039, 47906, 35302, 46791, 5358, 46077, 27863, 7756, 61704, 28822, 27057, 56851, 5394, 36394, 60157, 24391, 55739, 60581, 24618, 15645, 24701, 19489, 4165, 37560, 5618, 47889, 30658, 40252, 22122, 33536, 37617, 60309, 47298, 14369, 1179, 31211, 61362, 6758, 19161, 52577, 8901, 7242, 50410, 50666, 30075, 53134, 53942, 43489, 34438, 950, 11162, 17454, 3634, 28209, 26101, 14814, 3124, 23824, 37458, 52431, 17779, 16697, 48418, 12438, 18396, 50645, 60959, 45238, 26067, 47828, 59495, 4223, 6593, 9405, 64092, 51312, 62740, 38206, 33953, 53795, 31245, 36464, 6192, 25061, 63586, 29830, 7549, 49825, 41760, 54676, 56973, 52783, 57039, 51556, 9700, 15040, 9361, 37483, 5164, 14928, 51809, 16539, 52044, 12001, 42165, 40111, 24793, 53876, 38007, 19822, 14985, 16745, 5451, 3152, 17525, 32427, 30841, 55167, 33858, 33405, 22219, 47061, 45701, 9531, 63423, 6498, 39308, 48644, 12851, 52381, 27392, 49585, 3689, 17348, 8291, 19495, 9355, 3186, 57590, 13221, 60150, 38870, 60238, 1947, 50884, 38440, 15340, 37355, 29322, 60625, 60506, 9910, 56308, 44843, 25606, 48683, 15540, 23894, 59607, 48416, 62033, 7612, 58757, 56031, 25984, 17283, 32126, 46736, 64702, 54618, 25957, 45512, 12576, 11788, 25468, 37804, 60331, 51468, 57933, 40610, 40188, 38572, 38556, 8481, 28229, 2215, 6516, 7790, 52859, 14974, 46951, 21229, 57470, 19245, 19641, 28557, 39375, 63127, 55393, 37725, 49311, 19463, 5103, 6701, 47344, 28505, 19896, 41282, 2967, 31134, 55492, 44281, 63434, 33700, 38024, 39534, 61777, 44164, 12803, 30742, 53454, 29474, 2094, 54692, 14587, 19842, 11356, 27314, 12215, 33414, 31593, 16463, 46804, 61284, 3118, 41542, 26798, 58167, 5767, 35798, 45040, 63032, 9963, 45424, 49897, 50650, 58601, 17595, 43459, 11341, 25661, 14548, 40609, 51334, 64394, 43165, 16476, 54805, 13225, 32166, 27956, 34704, 26036, 24527, 63232, 13478, 59191, 48519, 12976, 45444, 15282, 16556, 6304, 12390, 3996, 19941, 39006, 38341, 46493, 16639, 43791, 28588, 15958, 42509, 3362, 18389, 46976, 33395, 7183, 63149, 37616, 47082, 62179, 7297, 7705, 46395, 64688, 61418, 54122, 47842, 57375, 16008, 9163, 62776, 29977, 3976, 27248, 26336, 18592, 23950, 1010, 18822, 17264, 44975, 34108, 32540, 10442, 33721, 28640, 26058, 34773, 24749, 4580, 64305, 18056, 30958, 18567, 22469, 920, 45749, 35383, 42358, 18525, 43356, 22749, 45721, 43019, 12953, 2845, 49600, 52958, 24121, 32159, 20855, 43938, 61795, 11744, 36131, 55409, 4565, 22954, 11375, 22471, 37554, 34837, 6847, 18152, 7932, 39584, 11893, 28762, 42416, 53373, 14412, 35815, 11427, 53256, 30530, 53719, 53616, 57483, 2618, 4692, 51996, 3985, 11445, 42679, 27660, 31089, 17501, 22893, 20031, 32907, 41528, 21787, 6284, 41509, 43368, 54480, 23571, 28430, 34050, 45334, 589, 45212, 10531, 14352, 12189, 59581, 43765, 15572, 13874, 13977, 13578, 7027, 10269, 63951, 39098, 56506, 22979, 17474, 53012, 58774, 59047, 18599, 54431, 14846, 53260, 15644, 25487, 22066, 45960, 52936, 62112, 34188, 28623, 16654, 43658, 63430, 15665, 39118, 48560, 37334, 63695, 23340, 37619, 9523, 29716, 15155, 621, 39457, 31138, 33114, 62537, 52837, 46652, 24726, 35260, 17430, 31581, 13504, 42424, 25316, 36824, 32755, 47507, 10160, 25087, 25887, 9777, 60296, 17407, 44180, 19460, 38320, 36697, 64528, 32640, 56128, 19835, 19690, 54331, 2039, 18093, 36460, 38713, 14351, 28787, 39264, 29683, 7450, 43667, 4900, 43314, 21050, 31564, 19370, 58311, 3659, 11815, 64609, 6899, 48651, 15998, 51713, 9957, 48985, 5258, 56052, 43226, 23116, 51594, 29255, 23997, 8604, 16424, 36975, 37376, 6532, 20129, 53175, 11598, 61637, 16321, 58659, 23968, 42064, 22393, 42426, 62293, 30781, 52052, 63337, 38147, 17379, 53836, 56937, 54287, 24063, 43617, 2115, 56041, 63239, 48612, 51356, 50130, 59942, 9747, 30172, 24982, 38135, 8887, 57346, 9034, 23843, 39366, 29118, 50943, 59672, 14787, 44750, 10147, 62455, 57269, 57160, 6839, 10780, 23987, 26446, 21244, 22360, 29235, 7743, 53321, 51555, 40202, 55536, 49729, 58945, 46755, 41789, 15257, 51701, 9680, 25180, 2534, 61937, 53136, 7601, 35154, 20555, 10480, 28846, 21852, 18427, 7834, 25631, 63060, 48569, 27019, 7543, 44351, 7992, 41894, 24328, 29379, 1868, 34217, 16063, 48874, 46273, 44632, 19865, 63248, 55154, 58148, 39112, 37122, 18654, 24583, 45492, 6359, 13999, 60302, 20707, 63193, 20108, 29996, 424, 45173, 30724, 43413, 10110, 53879, 3904, 27860, 54240, 23433, 42117, 51646, 12669, 34670, 20491, 27875, 18069, 32707, 7102, 54758, 45872, 28562, 50393, 44202, 32197, 58102, 38607, 34112, 55663, 49583, 60404, 24330, 56833, 53282, 22267, 26885, 16889, 15743, 20343, 27317, 11529, 11898, 479, 43942, 6600, 19805, 35344, 40052, 43153, 57883, 63123, 26662, 59413, 41148, 36754, 13306, 27688, 31331, 30803, 57905, 57476, 15874, 37537, 55412, 44415, 35130, 26455, 19263, 42769, 7829, 63374, 56231, 12761, 30227, 50308, 48832, 43130, 54078, 46511, 28711, 13864, 42482, 22999, 6691, 12442, 39886, 20052, 2768, 28068, 43227, 25047, 32308, 30898, 58400, 45239, 31051, 47294, 39863, 19268, 45533, 46197, 61482, 59259, 13785, 24747, 31793, 58888, 23766, 30183, 20605, 1406, 10713, 32258, 26772, 28478, 1035, 36503, 55738, 20083, 54002, 14279, 33762, 45609, 14969, 13940, 41037, 59245, 54095, 3528, 24783, 80, 47078, 11271, 63545, 4908, 56391, 30587, 50972, 25940, 54675, 37696, 54953, 35339, 55927, 47362, 1639, 64724, 39351, 52023, 19974, 27084, 59600, 26739, 38514, 49154, 28214, 45053, 11464, 5666, 8934, 25038, 41285, 43354, 30268, 64576, 33412, 37643, 12824, 48988, 38310, 18346, 23773, 44246, 49623, 22837, 694, 22828, 50612, 47569, 49016, 49556, 4098, 54545, 31749, 526, 12082, 41952, 24296, 33167, 64567, 49661, 18372, 22560, 61346, 28673, 57343, 56701, 52893, 7453, 19593, 34131, 9295, 44315, 19870, 2535, 3331, 15873, 55349, 37157, 49547, 37771, 30176, 52036, 39446, 51347, 44289, 25684, 43785, 62846, 39698, 12239, 49437, 44229, 36855, 20557, 16416, 26979, 55445, 30327, 48364, 51021, 7377, 5739, 46631, 28630, 362, 8783, 52306, 51012, 13410, 8372, 2527, 38747, 13693, 10005, 8927, 9568, 1859, 37758, 38773, 23427, 13885, 61364, 26286, 43720, 9951, 54507, 41746, 30179, 30570, 46353, 10541, 36381, 55755, 41022, 1759, 28379, 22971, 8422, 11456, 12555, 32326, 4376, 35142, 29370, 3954, 13649, 41165, 1919, 58645, 62281, 16125, 58743, 50158, 37178, 38365, 19309, 63370, 57030, 14034, 50889, 29101, 6780, 15216, 24720, 61444, 518, 30339, 59821, 37633, 62835, 10805, 18634, 25343, 44348, 10370, 61377, 25235, 56272, 39831, 5044, 26540, 15426, 16308, 46705, 59673, 55105, 22834, 28339, 63587, 13516, 61460, 8809, 63715, 9547, 27901, 143, 2687, 32720, 16950, 57574, 36360, 32470, 31360, 55139, 5555, 49660, 61834, 59088, 59868, 53858, 46174, 37531, 6114, 37288, 45427, 28514, 23485, 25327, 45063, 13312, 53023, 2554, 26756, 51087, 56363, 44529, 39360, 16729, 60478, 32565, 35119, 30609, 49970, 22617, 9912, 12381, 4257, 20432, 55001, 1020, 24582, 44039, 43815, 39990, 8280, 48635, 2857, 51693, 61169, 4563, 17528, 38518, 60795, 22803, 15667, 46533, 19728, 49532, 51405, 51268, 17589, 1339, 61896, 56123, 35890, 41954, 47619, 18867, 3500, 37232, 10061, 48659, 43870, 63745, 53629, 39587, 50156, 27538, 49996, 50122, 53522, 56114, 58338, 63962, 55912, 21430, 15180, 61422, 13786, 11677, 35594, 16190, 10251, 37670, 25877, 4251, 3612, 6682, 26128, 28147, 4675, 50131, 9924, 48915, 48608, 27633, 4889, 8759, 51327, 56699, 51340, 58018, 61168, 55690, 50903, 2798, 29083, 10344, 10129, 12021, 20419, 36826, 22187, 48827, 41176, 17719, 32491, 22526, 51868, 62328, 3747, 52651, 9362, 13863, 14583, 62427, 55064, 25449, 267, 15489, 54704, 8417, 38160, 16688, 60461, 36811, 35498, 2156, 19328, 37769, 38569, 17657, 40312, 32108, 38293, 64728, 10504, 33465, 15977, 32360, 12369, 2350, 48179, 49151, 25715, 36786, 62893, 916, 24250, 26854, 57244, 1961, 15583, 18101, 28786, 3008, 3688, 11198, 47959, 13033, 59856, 51719, 36029, 15646, 60131, 62608, 3862, 42832, 30666, 1454, 50447, 9463, 51377, 14114, 42470, 62080, 29032, 51050, 10644, 54466, 43272, 14429, 60402, 5127, 6451, 39610, 59869, 7940, 3205, 5035, 45535, 33422, 128, 57889, 6198, 19884, 13174, 45727, 26114, 3318, 63712, 50717, 55494, 2809, 64435, 25140, 15170, 49481, 53892, 48104, 44024, 41960, 11846, 32413, 41172, 62714, 62780, 44332, 38458, 48932, 34701, 44708, 56901, 46597, 20035, 58404, 17420, 39762, 17314, 41009, 45772, 29418, 58342, 58702, 10436, 56234, 62733, 24672, 57635, 62912, 1317, 57704, 8918, 58955, 62787, 41019, 57075, 1136, 6204, 53750, 12022, 51150, 51993, 51145, 6868, 29899, 59767, 4392, 15635, 18708, 41956, 57254, 47940, 46656, 18727, 38577, 39945, 61390, 12745, 44941, 59213, 52995, 27657, 28259, 3416, 46083, 22070, 15942, 5056, 18842, 46757, 42650, 59056, 15623, 42271, 61437, 57812, 29061, 46894, 26318, 25869, 30169, 17344, 45802, 23163, 26437, 33601, 34027, 60799, 10039, 64737, 54070, 18271, 1535, 39237, 25915, 55498, 4864, 42478, 53252, 19110, 19814, 42620, 56853, 9755, 29839, 10104, 6212, 52599, 45764, 9684, 54940, 13151, 52346, 48935, 38763, 2722, 52628, 60026, 40263, 50105, 3451, 1546, 3891, 243, 43981, 20106, 48931, 1970, 28641, 54069, 9969, 29447, 42160, 22069, 62874, 47749, 14719, 41263, 39974, 44487, 52106, 20704, 23220, 53860, 55366, 34092, 18355, 4585, 53230, 14334, 62831, 21993, 20003, 58728, 54835, 58434, 952, 55588, 36725, 37186, 24857, 59603, 25656, 57558, 64053, 15152, 2411, 37480, 9336, 40890, 59347, 52814, 1284, 38285, 13179, 5993, 22664, 28033, 16447, 43073, 49899, 24125, 38739, 42986, 55606, 23713, 62320, 10182, 9678, 49888, 26822, 15393, 61334, 14085, 35719, 26204, 2006, 1916, 55709, 25297, 22449, 37350, 26165, 17998, 1716, 32617, 64438, 50444, 31761, 49975, 56378, 57808, 25377, 4821, 17311, 2096, 21721, 31098, 17661, 6142, 32816, 47285, 23588, 64172, 31689, 37787, 39940, 43168, 8027, 21052, 5552, 3965, 56694, 8019, 12784, 2774, 34943, 9397, 32261, 59639, 28929, 60806, 38623, 60727, 16090, 63132, 49958, 6188, 58694, 56210, 30419, 11844, 28610, 52463, 54061, 41740, 33664, 2259, 1311, 41371, 40867, 18217, 2045, 3686, 13456, 63937, 49014, 25499, 2234, 21327, 13371, 21606, 61430, 35115, 48710, 40737, 147, 319, 45573, 10398, 31190, 52305, 45088, 5507, 13118, 23917, 15561, 34171, 43930, 62090, 49416, 7279, 42988, 38208, 26212, 32419, 39243, 18600, 6366, 10981, 59125, 23416, 38044, 12548, 64335, 22332, 2462, 47041, 17514, 20992, 1536, 16309, 23387, 17536, 54464, 31661, 48038, 33637, 11667, 19401, 54883, 37684, 32324, 25473, 35491, 64281, 57946, 8535, 61040, 41335, 28819, 11349, 7492, 30859, 39348, 23954, 63797, 7484, 51614, 59395, 60102, 27627, 17066, 36773, 27098, 33187, 23531, 52000, 37830, 35013, 8559, 17581, 45824, 57916, 18783, 62139, 52486, 24666, 29585, 54536, 11417, 55626, 24249, 51363, 6418, 36499, 37917, 28863, 56605, 48078, 40716, 34870, 64271, 15859, 33260, 42499, 12236, 41100, 42213, 1191, 487, 43883, 44022, 39784, 60866, 32766, 51201, 28976, 62426, 52031, 14755, 59247, 22762, 19960, 25385, 39858, 27431, 49711, 16785, 16246, 54722, 10672, 34379, 47405, 25017, 39701, 57139, 27083, 33922, 964, 54485, 35117, 31346, 14312, 50169, 22825, 22402, 37683, 9519, 42476, 30854, 1291, 35159, 62498, 56933, 53877, 27124, 32559, 14517, 3608, 7099, 4903, 51310, 52005, 49312, 40794, 59634, 37227, 54086, 57515, 56632, 1223, 27720, 60308, 19857, 47931, 49320, 20613, 5560, 1349, 53637, 43560, 48882, 24716, 9757, 13197, 18439, 11017, 19792, 53912, 38490, 45586, 36127, 12010, 62503, 41609, 30780, 59296, 23667, 52405, 10014, 64582, 31289, 20732, 5000, 19906, 40122, 39312, 27244, 12708, 36620, 39516, 36608, 5344, 3156, 59373, 33736, 20667, 42452, 24143, 56130, 8786, 38694, 52011, 8595, 32351, 62213, 57513, 59384, 1717, 12652, 18544, 17527, 6810, 23622, 62096, 35558, 47027, 46118, 1857, 57931, 40493, 27993, 26142, 60740, 59880, 63506, 56651, 51567, 13746, 46979, 29023, 1741, 12891, 36028, 20109, 13976, 11320, 50290, 64188, 25024, 496, 38201, 61908, 39859, 57819, 30270, 60557, 43317, 404, 60519, 50151, 30143, 17431, 37426, 32577, 44703, 31578, 39052, 10788, 59808, 14346, 7550, 25672, 39169, 32830, 55222, 41219, 42372, 36789, 24085, 1992, 12081, 64811, 36977, 5887, 14315, 2482, 6061, 54101, 7586, 44698, 31938, 19287, 1720, 2072, 60761, 10641, 10445, 60271, 54472, 64551, 52003, 32855, 57473, 2333, 2373, 39535, 51529, 6826, 51728, 61166, 36430, 28686, 20063, 11724, 47444, 36201, 13510, 35455, 32839, 45730, 58574, 53853, 9616, 11609, 43991, 34667, 34489, 22811, 62683, 54470, 9070, 60015, 6747, 8338, 25941, 56120, 38316, 32453, 30786, 18335, 64767, 57561, 19497, 45528, 62525, 22860, 58742, 19210, 4757, 3001, 14214, 10948, 57137, 24746, 2907, 45622, 55384, 53167, 19113, 38521, 15292, 37860, 42422, 43654, 32749, 50691, 60689, 14421, 11692, 38461, 12307, 6068, 61135, 63395, 25098, 58211, 27298, 12606, 27861, 56256, 47081, 44950, 21358, 2924, 56347, 34601, 31860, 18060, 35127, 9107, 26701, 16012, 22152, 17226, 37951, 60180, 54775, 60995, 17775, 48006, 46297, 12629, 17223, 7719, 2510, 45908, 43709, 21986, 43386, 6609, 56830, 53113, 40472, 37810, 10915, 27433, 39425, 38606, 28495, 38420, 6501, 49628, 23492, 7272, 28304, 22855, 1969, 59692, 28414, 63744, 49963, 50152, 25637, 22773, 53339, 23129, 20307, 53862, 62276, 816, 2733, 51737, 57963, 55068, 24553, 39424, 2598, 23250, 56721, 23925, 34874, 24333, 30650, 56928, 41764, 10632, 51908, 42143, 47457, 62341, 55566, 41222, 49880, 46011, 20802, 19150, 36104, 39162, 22965, 23754, 40684, 46062, 8980, 60923, 1945, 36998, 4511, 292, 35763, 36443, 62070, 45553, 36613, 42611, 40685, 64178, 38148, 60944, 61836, 33787, 61310, 58438, 63298, 4888, 43455, 14048, 35061, 3713, 20215, 49645, 59659, 57083, 50435, 62593, 50595, 63030, 29626, 15656, 16597, 21697, 42150, 41937, 43076, 58367, 34032, 40871, 15105, 2979, 14515, 52870, 42484, 44917, 14101, 33654, 60353, 9576, 40354, 23689, 42035, 18568, 36935, 4905, 38620, 10141, 56512, 27437, 29698, 25627, 62757, 36404, 54063, 41343, 44820, 38184, 58188, 30961, 2942, 57463, 31986, 17021, 930, 60251, 41030, 16633, 50332, 1321, 53870, 40204, 43735, 42778, 26052, 39989, 20125, 29630, 40648, 25894, 17987, 46682, 36769, 29420, 49191, 58378, 44260, 2888, 1266, 43777, 15524, 22352, 32960, 46412, 37452, 43762, 50815, 47261, 50803, 23030, 3622, 52777, 21561, 37703, 36549, 35559, 13086, 57199, 35346, 1783, 20531, 53815, 61068, 9967, 51738, 22967, 24875, 1275, 32818, 32101, 3907, 14322, 21190, 27394, 6103, 15164, 33976, 347, 44307, 58573, 41400, 28541, 46813, 37356, 4254, 51880, 12680, 33077, 5490, 23483, 43469, 61935, 41876, 603, 40290, 39502, 37111, 50170, 53344, 62178, 55010, 57007, 58055, 26745, 61050, 57440, 15807, 21133, 53834, 56679, 10653, 44518, 48705, 44862, 7837, 2902, 59768, 35691, 25768, 54224, 22540, 34426, 14986, 56519, 16954, 49373, 35963, 32638, 46422, 38284, 61256, 20795, 45210, 47921, 7252, 58834, 21940, 46099, 33471, 60108, 15163, 36304, 35375, 43979, 61461, 43987, 30564, 10322, 59327, 34661, 31745, 553, 62466, 62548, 32655, 31077, 40536, 122, 30802, 52641, 34282, 20283, 19560, 30206, 17359, 42148, 44270, 21305, 39232, 1825, 42016, 57484, 17320, 36753, 40121, 17181, 46559, 64685, 2060, 907, 14819, 21751, 24237, 50878, 53258, 25430, 52905, 29242, 13325, 36501, 50851, 255, 34866, 47254, 17435, 8815, 3611, 22827, 24072, 14150, 41080, 21058, 55188, 26351, 33820, 26653, 61492, 41842, 12771, 1301, 16017, 51101, 40417, 26071, 16513, 19807, 24227, 25341, 28356, 56188, 24797, 60582, 4110, 56574, 25757, 51457, 29187, 46983, 52733, 23184, 28419, 42663, 43418, 41718, 15853, 28626, 40752, 4800, 22107, 12892, 31241, 8722, 56785, 24683, 2951])"
      ]
     },
     "execution_count": 82,
     "metadata": {},
     "output_type": "execute_result"
    }
   ],
   "source": [
    "suggestions.keys()"
   ]
  },
  {
   "cell_type": "code",
   "execution_count": 85,
   "id": "efcfa160",
   "metadata": {},
   "outputs": [
    {
     "data": {
      "text/plain": [
       "89418"
      ]
     },
     "execution_count": 85,
     "metadata": {},
     "output_type": "execute_result"
    }
   ],
   "source": [
    "len(unique_movies)"
   ]
  },
  {
   "cell_type": "code",
   "execution_count": 84,
   "id": "9aecb1a7",
   "metadata": {},
   "outputs": [
    {
     "data": {
      "text/plain": [
       "(89418, 1)"
      ]
     },
     "execution_count": 84,
     "metadata": {},
     "output_type": "execute_result"
    }
   ],
   "source": [
    "suggestions[53414].shape"
   ]
  },
  {
   "cell_type": "code",
   "execution_count": 137,
   "id": "aa1d48e0",
   "metadata": {},
   "outputs": [],
   "source": [
    "def get_recs(user):\n",
    "    has_seen = [np.where(unique_movies==r)[0][0] for r in ratings[ratings.user==user].movie]\n",
    "    \n",
    "    movies_to_eval = random.choices(range(len(unique_movies)), k=100)\n",
    "    movies_to_eval = [m for m in movies_to_eval if m not in list(has_seen)]\n",
    "\n",
    "    if len(movies_to_eval) != 100:\n",
    "        print(len(movies_to_eval))\n",
    "        still_need = 100 - len(movies_to_eval)\n",
    "        extras = random.choices(range(len(unique_movies)), k=still_need)\n",
    "        for e in extras:\n",
    "            if (e not in movies_to_eval) and (e not in has_seen):\n",
    "                movies_to_eval.append(e)\n",
    "            else:\n",
    "                continue\n",
    "                \n",
    "    movies_ratings = list(zip(unique_movies[movies_to_eval], suggestions[user].flatten()[movies_to_eval]))\n",
    "    movies_ratings.sort(key=lambda x: x[1], reverse=True)\n",
    "    \n",
    "    return movies_ratings[:5]"
   ]
  },
  {
   "cell_type": "code",
   "execution_count": 138,
   "id": "9cb5673e",
   "metadata": {},
   "outputs": [
    {
     "data": {
      "text/plain": [
       "[(12862, 4.8761406),\n",
       " (88809, 4.8732953),\n",
       " (7204, 4.859052),\n",
       " (5125, 4.857744),\n",
       " (1430, 4.856882)]"
      ]
     },
     "execution_count": 138,
     "metadata": {},
     "output_type": "execute_result"
    }
   ],
   "source": [
    "get_recs(62958)"
   ]
  },
  {
   "cell_type": "code",
   "execution_count": 139,
   "id": "e9887dde",
   "metadata": {},
   "outputs": [],
   "source": [
    "def get_user_model_performance(user):\n",
    "    has_seen = [np.where(unique_movies==r)[0][0] for r in ratings[ratings.user==user].movie]\n",
    "    \n",
    "    user_pred = suggestions[user].flatten()[has_seen]\n",
    "    user_ratings = ratings[(ratings.user==user)&ratings.movie.isin(unique_movies[has_seen])].rating_score.values\n",
    "    vals = is_close_enough(user_pred, user_ratings)\n",
    "    \n",
    "    return sum(vals) / len(user_pred)"
   ]
  },
  {
   "cell_type": "code",
   "execution_count": 140,
   "id": "8a50b46e",
   "metadata": {},
   "outputs": [
    {
     "data": {
      "text/plain": [
       "1.0"
      ]
     },
     "execution_count": 140,
     "metadata": {},
     "output_type": "execute_result"
    }
   ],
   "source": [
    "get_user_model_performance(62958)"
   ]
  },
  {
   "cell_type": "code",
   "execution_count": 141,
   "id": "8d94b24d",
   "metadata": {},
   "outputs": [],
   "source": [
    "def get_user_n_reviews(user):\n",
    "    return len(ratings[ratings.user==user].movie)"
   ]
  },
  {
   "cell_type": "code",
   "execution_count": 145,
   "id": "7a278573",
   "metadata": {},
   "outputs": [
    {
     "data": {
      "text/plain": [
       "30"
      ]
     },
     "execution_count": 145,
     "metadata": {},
     "output_type": "execute_result"
    }
   ],
   "source": [
    "get_user_n_reviews(10110)"
   ]
  },
  {
   "cell_type": "code",
   "execution_count": 149,
   "id": "5c42533c",
   "metadata": {},
   "outputs": [],
   "source": [
    "def get_user_top_n_movies(user, n=10):\n",
    "    ranks = ratings[ratings.user==user].sort_values(by='rating_score', ascending=False)\n",
    "    \n",
    "    return ranks[['movie', 'rating_score']][:n]"
   ]
  },
  {
   "cell_type": "code",
   "execution_count": 150,
   "id": "fa964c9b",
   "metadata": {},
   "outputs": [
    {
     "data": {
      "text/html": [
       "<div>\n",
       "<style scoped>\n",
       "    .dataframe tbody tr th:only-of-type {\n",
       "        vertical-align: middle;\n",
       "    }\n",
       "\n",
       "    .dataframe tbody tr th {\n",
       "        vertical-align: top;\n",
       "    }\n",
       "\n",
       "    .dataframe thead th {\n",
       "        text-align: right;\n",
       "    }\n",
       "</style>\n",
       "<table border=\"1\" class=\"dataframe\">\n",
       "  <thead>\n",
       "    <tr style=\"text-align: right;\">\n",
       "      <th></th>\n",
       "      <th>movie</th>\n",
       "      <th>rating_score</th>\n",
       "    </tr>\n",
       "  </thead>\n",
       "  <tbody>\n",
       "    <tr>\n",
       "      <th>524612</th>\n",
       "      <td>1487</td>\n",
       "      <td>5</td>\n",
       "    </tr>\n",
       "    <tr>\n",
       "      <th>897364</th>\n",
       "      <td>1628</td>\n",
       "      <td>5</td>\n",
       "    </tr>\n",
       "    <tr>\n",
       "      <th>14494126</th>\n",
       "      <td>486</td>\n",
       "      <td>5</td>\n",
       "    </tr>\n",
       "    <tr>\n",
       "      <th>14234365</th>\n",
       "      <td>433</td>\n",
       "      <td>5</td>\n",
       "    </tr>\n",
       "    <tr>\n",
       "      <th>14229449</th>\n",
       "      <td>432</td>\n",
       "      <td>5</td>\n",
       "    </tr>\n",
       "    <tr>\n",
       "      <th>14223621</th>\n",
       "      <td>431</td>\n",
       "      <td>5</td>\n",
       "    </tr>\n",
       "    <tr>\n",
       "      <th>14219063</th>\n",
       "      <td>430</td>\n",
       "      <td>5</td>\n",
       "    </tr>\n",
       "    <tr>\n",
       "      <th>14062082</th>\n",
       "      <td>388</td>\n",
       "      <td>5</td>\n",
       "    </tr>\n",
       "    <tr>\n",
       "      <th>13736669</th>\n",
       "      <td>306</td>\n",
       "      <td>5</td>\n",
       "    </tr>\n",
       "    <tr>\n",
       "      <th>13643382</th>\n",
       "      <td>299</td>\n",
       "      <td>5</td>\n",
       "    </tr>\n",
       "  </tbody>\n",
       "</table>\n",
       "</div>"
      ],
      "text/plain": [
       "          movie  rating_score\n",
       "524612     1487             5\n",
       "897364     1628             5\n",
       "14494126    486             5\n",
       "14234365    433             5\n",
       "14229449    432             5\n",
       "14223621    431             5\n",
       "14219063    430             5\n",
       "14062082    388             5\n",
       "13736669    306             5\n",
       "13643382    299             5"
      ]
     },
     "execution_count": 150,
     "metadata": {},
     "output_type": "execute_result"
    }
   ],
   "source": [
    "get_user_top_n_movies(10110)"
   ]
  },
  {
   "cell_type": "code",
   "execution_count": null,
   "id": "f4577f80",
   "metadata": {},
   "outputs": [],
   "source": []
  },
  {
   "cell_type": "code",
   "execution_count": 100,
   "id": "1fabf6f3",
   "metadata": {},
   "outputs": [],
   "source": [
    "has_seen = [np.where(unique_movies==r)[0][0] for r in ratings[ratings.user==53414].movie]"
   ]
  },
  {
   "cell_type": "code",
   "execution_count": 107,
   "id": "5083b361",
   "metadata": {},
   "outputs": [],
   "source": [
    "movies_to_eval = random.choices(range(len(unique_movies)), k=100)\n",
    "movies_to_eval = [m for m in movies_to_eval if m not in list(has_seen)]\n",
    "\n",
    "if len(movies_to_eval) != 100:\n",
    "    print(len(movies_to_eval))\n",
    "    still_need = 100 - len(movies_to_eval)\n",
    "    extras = random.choices(range(len(unique_movies)), k=still_need)\n",
    "    for e in extras:\n",
    "        if (e not in movies_to_eval) and (e not in has_seen):\n",
    "            movies_to_eval.append(e)\n",
    "        else:\n",
    "            continue"
   ]
  },
  {
   "cell_type": "code",
   "execution_count": 114,
   "id": "6579de88",
   "metadata": {},
   "outputs": [],
   "source": [
    "movies_ratings = list(zip(unique_movies[movies_to_eval], suggestions[53414].flatten()[movies_to_eval]))"
   ]
  },
  {
   "cell_type": "code",
   "execution_count": 119,
   "id": "974effec",
   "metadata": {},
   "outputs": [],
   "source": [
    "movies_ratings.sort(key=lambda x: x[1], reverse=True)"
   ]
  },
  {
   "cell_type": "code",
   "execution_count": 121,
   "id": "fe91e01e",
   "metadata": {},
   "outputs": [
    {
     "data": {
      "text/plain": [
       "[(44977, 4.7330565),\n",
       " (62068, 4.4069037),\n",
       " (26668, 4.3716874),\n",
       " (23919, 4.3637886),\n",
       " (14437, 4.281595)]"
      ]
     },
     "execution_count": 121,
     "metadata": {},
     "output_type": "execute_result"
    }
   ],
   "source": [
    "movies_ratings[:5]"
   ]
  },
  {
   "cell_type": "code",
   "execution_count": 127,
   "id": "8f9b3a8d",
   "metadata": {},
   "outputs": [
    {
     "data": {
      "text/plain": [
       "161"
      ]
     },
     "execution_count": 127,
     "metadata": {},
     "output_type": "execute_result"
    }
   ],
   "source": [
    "len(ratings[(ratings.user==53414)&ratings.movie.isin(unique_movies[has_seen])].rating_score.values)"
   ]
  },
  {
   "cell_type": "code",
   "execution_count": 126,
   "id": "51c17c11",
   "metadata": {},
   "outputs": [
    {
     "data": {
      "text/plain": [
       "161"
      ]
     },
     "execution_count": 126,
     "metadata": {},
     "output_type": "execute_result"
    }
   ],
   "source": [
    "len(suggestions[53414].flatten()[has_seen])"
   ]
  },
  {
   "cell_type": "code",
   "execution_count": 128,
   "id": "0ef44345",
   "metadata": {},
   "outputs": [],
   "source": [
    "user_pred = suggestions[53414].flatten()[has_seen]\n",
    "user_ratings = ratings[(ratings.user==53414)&ratings.movie.isin(unique_movies[has_seen])].rating_score.values\n",
    "vals = is_close_enough(user_pred, user_ratings)"
   ]
  },
  {
   "cell_type": "code",
   "execution_count": 129,
   "id": "719e41b1",
   "metadata": {},
   "outputs": [
    {
     "data": {
      "text/plain": [
       "0.40993788819875776"
      ]
     },
     "execution_count": 129,
     "metadata": {},
     "output_type": "execute_result"
    }
   ],
   "source": [
    "sum(vals) / len(user_pred)"
   ]
  },
  {
   "cell_type": "code",
   "execution_count": 130,
   "id": "2ecbc3f1",
   "metadata": {},
   "outputs": [
    {
     "data": {
      "image/png": "[encoded data removed]",
      "text/plain": [
       "<Figure size 432x288 with 1 Axes>"
      ]
     },
     "metadata": {
      "needs_background": "light"
     },
     "output_type": "display_data"
    }
   ],
   "source": [
    "plt.scatter(user_pred, user_ratings)\n",
    "\n",
    "plt.show()"
   ]
  },
  {
   "cell_type": "code",
   "execution_count": null,
   "id": "04cad69e",
   "metadata": {},
   "outputs": [],
   "source": []
  },
  {
   "cell_type": "code",
   "execution_count": null,
   "id": "6069d1f9",
   "metadata": {},
   "outputs": [],
   "source": []
  },
  {
   "cell_type": "code",
   "execution_count": null,
   "id": "d607af9f",
   "metadata": {},
   "outputs": [],
   "source": []
  },
  {
   "cell_type": "code",
   "execution_count": 134,
   "id": "2084c5b3",
   "metadata": {},
   "outputs": [],
   "source": [
    "user_accuracy = list(zip(random_10000_users, accuracy))"
   ]
  },
  {
   "cell_type": "code",
   "execution_count": 135,
   "id": "6c929a13",
   "metadata": {},
   "outputs": [],
   "source": [
    "user_accuracy.sort(key=lambda x: x[1], reverse=True)"
   ]
  },
  {
   "cell_type": "code",
   "execution_count": 153,
   "id": "cc87c8c6",
   "metadata": {},
   "outputs": [],
   "source": [
    "goods = random.choices([user_pair for user_pair in user_accuracy if (user_pair[1] < 1) and (user_pair[1] >= .8)], k=100)"
   ]
  },
  {
   "cell_type": "code",
   "execution_count": 154,
   "id": "5286462c",
   "metadata": {},
   "outputs": [
    {
     "name": "stdout",
     "output_type": "stream",
     "text": [
      "(57933, 0.9333333333333333) 52\n",
      "(40090, 0.9090909090909091) 46\n",
      "(27750, 0.8) 25\n",
      "(58633, 0.8333333333333334) 21\n",
      "(55753, 0.8333333333333334) 29\n",
      "(21767, 0.8181818181818182) 23\n",
      "(7951, 0.8) 25\n",
      "(48038, 0.8333333333333334) 37\n",
      "(26687, 0.8) 60\n",
      "(23894, 0.8181818181818182) 74\n",
      "(6256, 0.8571428571428571) 203\n",
      "(4030, 0.8) 32\n",
      "(62250, 0.8392857142857143) 208\n",
      "(19244, 0.8823529411764706) 63\n",
      "(18248, 0.8) 38\n",
      "(38763, 0.9285714285714286) 96\n",
      "(34053, 0.8888888888888888) 30\n",
      "(1789, 0.8045112781954887) 477\n",
      "(24458, 0.8387096774193549) 90\n",
      "(31758, 0.84) 68\n",
      "(1247, 0.8571428571428571) 23\n",
      "(7425, 0.8235294117647058) 54\n",
      "(48226, 0.8) 35\n",
      "(15392, 0.9) 25\n",
      "(63105, 0.8085106382978723) 173\n",
      "(57160, 0.8333333333333334) 21\n",
      "(17513, 0.8) 72\n",
      "(54545, 0.8888888888888888) 37\n",
      "(41163, 0.8043478260869565) 138\n",
      "(64503, 0.8095238095238095) 69\n",
      "(22032, 0.8666666666666667) 64\n",
      "(51062, 0.8) 33\n",
      "(32258, 0.8181818181818182) 26\n",
      "(10203, 0.8571428571428571) 29\n",
      "(64368, 0.9230769230769231) 92\n",
      "(52918, 0.8928571428571429) 102\n",
      "(23819, 0.8888888888888888) 30\n",
      "(61777, 0.8571428571428571) 35\n",
      "(24603, 0.8181818181818182) 41\n",
      "(41508, 0.8461538461538461) 42\n",
      "(28950, 0.875) 22\n",
      "(24360, 0.9411764705882353) 66\n",
      "(58223, 0.95) 81\n",
      "(15748, 0.8125) 35\n",
      "(20499, 0.8333333333333334) 46\n",
      "(44306, 0.8181818181818182) 24\n",
      "(36975, 0.8) 80\n",
      "(3586, 0.8) 20\n",
      "(12470, 0.8899082568807339) 364\n",
      "(56123, 0.8333333333333334) 21\n",
      "(53019, 0.8461538461538461) 50\n",
      "(38587, 0.8571428571428571) 27\n",
      "(589, 0.8461538461538461) 29\n",
      "(17421, 0.8446601941747572) 316\n",
      "(58367, 0.95) 78\n",
      "(3415, 0.8) 30\n",
      "(6977, 0.8787878787878788) 133\n",
      "(28610, 0.8181818181818182) 247\n",
      "(34188, 0.8) 39\n",
      "(20351, 0.8461538461538461) 47\n",
      "(18822, 0.8571428571428571) 95\n",
      "(26721, 0.9) 30\n",
      "(10805, 0.9090909090909091) 59\n",
      "(14371, 0.875) 34\n",
      "(7823, 0.84) 77\n",
      "(58442, 0.9) 35\n",
      "(53442, 0.8125) 50\n",
      "(59255, 0.8333333333333334) 23\n",
      "(62233, 0.8) 20\n",
      "(36976, 0.8888888888888888) 48\n",
      "(51713, 0.8333333333333334) 28\n",
      "(31928, 0.8787878787878788) 112\n",
      "(41508, 0.8461538461538461) 42\n",
      "(10054, 0.8333333333333334) 30\n",
      "(55347, 0.8461538461538461) 41\n",
      "(40859, 0.8) 51\n",
      "(62916, 0.8125) 272\n",
      "(39935, 0.9285714285714286) 50\n",
      "(43955, 0.8181818181818182) 40\n",
      "(10005, 0.8235294117647058) 41\n",
      "(29626, 0.8108108108108109) 132\n",
      "(31749, 0.8) 75\n",
      "(166, 0.8333333333333334) 49\n",
      "(7642, 0.9361702127659575) 138\n",
      "(30876, 0.8181818181818182) 28\n",
      "(24995, 0.8) 161\n",
      "(54368, 0.8333333333333334) 30\n",
      "(35767, 0.9) 20\n",
      "(7973, 0.8275862068965517) 100\n",
      "(58211, 0.8333333333333334) 110\n",
      "(55201, 0.9090909090909091) 34\n",
      "(36620, 0.8) 53\n",
      "(6668, 0.8666666666666667) 40\n",
      "(18656, 0.8) 34\n",
      "(16480, 0.8888888888888888) 26\n",
      "(39446, 0.87) 344\n",
      "(17058, 0.8089887640449438) 517\n",
      "(24422, 0.8) 35\n",
      "(52750, 0.875) 20\n",
      "(23346, 0.8148148148148148) 188\n"
     ]
    }
   ],
   "source": [
    "for pairs in goods:\n",
    "    n_reviews = get_user_n_reviews(pairs[0])\n",
    "    print(pairs, n_reviews)"
   ]
  },
  {
   "cell_type": "code",
   "execution_count": 151,
   "id": "6b534651",
   "metadata": {
    "collapsed": true
   },
   "outputs": [
    {
     "data": {
      "text/plain": [
       "[(33237, 1.0),\n",
       " (57226, 1.0),\n",
       " (43445, 1.0),\n",
       " (17622, 1.0),\n",
       " (6300, 1.0),\n",
       " (39443, 1.0),\n",
       " (11675, 1.0),\n",
       " (30834, 1.0),\n",
       " (35500, 1.0),\n",
       " (33002, 1.0),\n",
       " (26712, 1.0),\n",
       " (7245, 1.0),\n",
       " (61378, 1.0),\n",
       " (59097, 1.0),\n",
       " (33870, 1.0),\n",
       " (33115, 1.0),\n",
       " (24795, 1.0),\n",
       " (19851, 1.0),\n",
       " (918, 1.0),\n",
       " (39079, 1.0),\n",
       " (41812, 1.0),\n",
       " (2178, 1.0),\n",
       " (12633, 1.0),\n",
       " (10173, 1.0),\n",
       " (46007, 1.0),\n",
       " (39796, 1.0),\n",
       " (24807, 1.0),\n",
       " (43042, 1.0),\n",
       " (45467, 1.0),\n",
       " (11616, 1.0),\n",
       " (15052, 1.0),\n",
       " (18535, 1.0),\n",
       " (9538, 1.0),\n",
       " (12668, 1.0),\n",
       " (38752, 1.0),\n",
       " (60708, 1.0),\n",
       " (14179, 1.0),\n",
       " (30717, 1.0),\n",
       " (54975, 1.0),\n",
       " (26810, 1.0),\n",
       " (41968, 1.0),\n",
       " (33554, 1.0),\n",
       " (13037, 1.0),\n",
       " (57176, 1.0),\n",
       " (55751, 1.0),\n",
       " (13737, 1.0),\n",
       " (59529, 1.0),\n",
       " (32289, 1.0),\n",
       " (61253, 1.0),\n",
       " (55374, 1.0)]"
      ]
     },
     "execution_count": 151,
     "metadata": {},
     "output_type": "execute_result"
    }
   ],
   "source": [
    "user_accuracy[500:550]"
   ]
  },
  {
   "cell_type": "code",
   "execution_count": 146,
   "id": "166eeafd",
   "metadata": {
    "collapsed": true
   },
   "outputs": [
    {
     "name": "stdout",
     "output_type": "stream",
     "text": [
      "(62958, 1.0) 146\n",
      "(38499, 1.0) 34\n",
      "(7049, 1.0) 21\n",
      "(19135, 1.0) 26\n",
      "(35120, 1.0) 23\n",
      "(19702, 1.0) 21\n",
      "(4389, 1.0) 22\n",
      "(5651, 1.0) 44\n",
      "(12510, 1.0) 42\n",
      "(24688, 1.0) 73\n",
      "(16250, 1.0) 24\n",
      "(47917, 1.0) 24\n",
      "(64048, 1.0) 31\n",
      "(32712, 1.0) 25\n",
      "(42092, 1.0) 57\n",
      "(30449, 1.0) 76\n",
      "(21232, 1.0) 28\n",
      "(18420, 1.0) 30\n",
      "(47286, 1.0) 26\n",
      "(37262, 1.0) 30\n",
      "(24067, 1.0) 20\n",
      "(57049, 1.0) 29\n",
      "(21066, 1.0) 30\n",
      "(33428, 1.0) 44\n",
      "(57442, 1.0) 20\n",
      "(60220, 1.0) 20\n",
      "(3289, 1.0) 21\n",
      "(54901, 1.0) 24\n",
      "(24807, 1.0) 91\n",
      "(61988, 1.0) 31\n",
      "(58765, 1.0) 29\n",
      "(4705, 1.0) 25\n",
      "(34129, 1.0) 20\n",
      "(28240, 1.0) 25\n",
      "(55030, 1.0) 36\n",
      "(40456, 1.0) 30\n",
      "(1264, 1.0) 39\n",
      "(44033, 1.0) 126\n",
      "(25857, 1.0) 27\n",
      "(29334, 1.0) 41\n",
      "(33738, 1.0) 26\n",
      "(17373, 1.0) 69\n",
      "(7182, 1.0) 20\n",
      "(45201, 1.0) 24\n",
      "(39103, 1.0) 34\n",
      "(59419, 1.0) 33\n",
      "(31767, 1.0) 24\n",
      "(21988, 1.0) 25\n",
      "(18976, 1.0) 22\n",
      "(52432, 1.0) 20\n",
      "(17029, 1.0) 22\n",
      "(21220, 1.0) 20\n",
      "(53055, 1.0) 35\n",
      "(57486, 1.0) 28\n",
      "(45347, 1.0) 47\n",
      "(12382, 1.0) 30\n",
      "(38175, 1.0) 29\n",
      "(46407, 1.0) 25\n",
      "(35297, 1.0) 27\n",
      "(31272, 1.0) 26\n",
      "(62620, 1.0) 28\n",
      "(37187, 1.0) 31\n",
      "(28383, 1.0) 30\n",
      "(12757, 1.0) 48\n",
      "(46175, 1.0) 23\n",
      "(50411, 1.0) 22\n",
      "(60723, 1.0) 40\n",
      "(59458, 1.0) 33\n",
      "(25679, 1.0) 25\n",
      "(46713, 1.0) 24\n",
      "(63238, 1.0) 64\n",
      "(25935, 1.0) 20\n",
      "(30403, 1.0) 153\n",
      "(5394, 1.0) 37\n",
      "(37560, 1.0) 32\n",
      "(14369, 1.0) 25\n",
      "(56973, 1.0) 33\n",
      "(51556, 1.0) 22\n",
      "(15040, 1.0) 20\n",
      "(9361, 1.0) 33\n",
      "(37355, 1.0) 22\n",
      "(48416, 1.0) 55\n",
      "(55492, 1.0) 22\n",
      "(12803, 1.0) 21\n",
      "(50650, 1.0) 20\n",
      "(45444, 1.0) 29\n",
      "(23950, 1.0) 24\n",
      "(18567, 1.0) 27\n",
      "(39584, 1.0) 31\n",
      "(57483, 1.0) 28\n",
      "(2618, 1.0) 20\n",
      "(22893, 1.0) 44\n",
      "(10269, 1.0) 20\n",
      "(43658, 1.0) 28\n",
      "(52837, 1.0) 22\n",
      "(58311, 1.0) 28\n",
      "(11815, 1.0) 26\n",
      "(29255, 1.0) 22\n",
      "(62293, 1.0) 43\n",
      "(54287, 1.0) 33\n",
      "(15257, 1.0) 23\n",
      "(7992, 1.0) 39\n",
      "(63248, 1.0) 25\n",
      "(63193, 1.0) 35\n",
      "(43413, 1.0) 25\n",
      "(10110, 1.0) 30\n",
      "(27317, 1.0) 24\n",
      "(43153, 1.0) 23\n",
      "(50308, 1.0) 20\n",
      "(11271, 1.0) 36\n",
      "(37696, 1.0) 21\n",
      "(59600, 1.0) 21\n",
      "(64576, 1.0) 59\n",
      "(24296, 1.0) 21\n",
      "(64567, 1.0) 43\n",
      "(46631, 1.0) 26\n",
      "(30179, 1.0) 24\n",
      "(28379, 1.0) 40\n",
      "(22971, 1.0) 34\n",
      "(1919, 1.0) 20\n",
      "(62281, 1.0) 47\n",
      "(37178, 1.0) 20\n",
      "(6780, 1.0) 27\n",
      "(53023, 1.0) 37\n",
      "(61169, 1.0) 21\n",
      "(35890, 1.0) 27\n",
      "(15040, 1.0) 20\n",
      "(27538, 1.0) 34\n",
      "(58338, 1.0) 25\n",
      "(13786, 1.0) 20\n",
      "(11677, 1.0) 103\n",
      "(37670, 1.0) 22\n",
      "(4251, 1.0) 21\n",
      "(10129, 1.0) 32\n",
      "(20419, 1.0) 21\n",
      "(22971, 1.0) 34\n",
      "(33465, 1.0) 33\n",
      "(47959, 1.0) 39\n",
      "(33422, 1.0) 34\n",
      "(64435, 1.0) 55\n",
      "(41960, 1.0) 48\n",
      "(62787, 1.0) 29\n",
      "(6204, 1.0) 33\n",
      "(19135, 1.0) 26\n",
      "(53252, 1.0) 33\n",
      "(9755, 1.0) 56\n",
      "(6212, 1.0) 21\n",
      "(52628, 1.0) 23\n",
      "(40263, 1.0) 23\n",
      "(243, 1.0) 20\n",
      "(14334, 1.0) 35\n",
      "(15152, 1.0) 20\n",
      "(55709, 1.0) 31\n",
      "(25377, 1.0) 27\n",
      "(21721, 1.0) 22\n",
      "(32816, 1.0) 34\n",
      "(58694, 1.0) 29\n",
      "(10398, 1.0) 21\n",
      "(45088, 1.0) 99\n",
      "(15561, 1.0) 32\n",
      "(62090, 1.0) 25\n",
      "(42988, 1.0) 37\n",
      "(59125, 1.0) 22\n",
      "(23416, 1.0) 41\n",
      "(11667, 1.0) 29\n",
      "(41335, 1.0) 37\n",
      "(30859, 1.0) 34\n",
      "(35013, 1.0) 22\n",
      "(51363, 1.0) 31\n",
      "(51201, 1.0) 22\n",
      "(62498, 1.0) 48\n",
      "(20613, 1.0) 25\n",
      "(5560, 1.0) 21\n",
      "(48882, 1.0) 94\n",
      "(38490, 1.0) 22\n",
      "(20667, 1.0) 29\n",
      "(17527, 1.0) 25\n",
      "(59880, 1.0) 24\n",
      "(39052, 1.0) 22\n",
      "(10788, 1.0) 85\n",
      "(36789, 1.0) 27\n",
      "(39535, 1.0) 23\n",
      "(6826, 1.0) 23\n",
      "(56120, 1.0) 36\n",
      "(19210, 1.0) 24\n",
      "(12307, 1.0) 47\n",
      "(25098, 1.0) 29\n",
      "(31860, 1.0) 22\n",
      "(60995, 1.0) 23\n",
      "(45908, 1.0) 29\n",
      "(43709, 1.0) 32\n",
      "(7272, 1.0) 60\n",
      "(25637, 1.0) 40\n",
      "(816, 1.0) 31\n",
      "(2733, 1.0) 76\n",
      "(55068, 1.0) 27\n",
      "(58438, 1.0) 27\n",
      "(21697, 1.0) 21\n",
      "(40354, 1.0) 26\n",
      "(25627, 1.0) 30\n"
     ]
    }
   ],
   "source": [
    "for pairs in user_accuracy[:200]:\n",
    "    n_reviews = get_user_n_reviews(pairs[0])\n",
    "    print(pairs, n_reviews)"
   ]
  },
  {
   "cell_type": "code",
   "execution_count": null,
   "id": "8b33b4fe",
   "metadata": {},
   "outputs": [],
   "source": []
  }
 ],
 "metadata": {
  "kernelspec": {
   "display_name": "tf_env",
   "language": "python",
   "name": "tf_env"
  },
  "language_info": {
   "codemirror_mode": {
    "name": "ipython",
    "version": 3
   },
   "file_extension": ".py",
   "mimetype": "text/x-python",
   "name": "python",
   "nbconvert_exporter": "python",
   "pygments_lexer": "ipython3",
   "version": "3.8.5"
  }
 },
 "nbformat": 4,
 "nbformat_minor": 5
}
