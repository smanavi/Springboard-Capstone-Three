{
 "cells": [
  {
   "cell_type": "code",
   "execution_count": 1,
   "id": "d559540b",
   "metadata": {},
   "outputs": [],
   "source": [
    "import tensorflow as tf\n",
    "# from tensorboard.plugins.hparams import api as hp\n",
    "from tensorflow import keras"
   ]
  },
  {
   "cell_type": "code",
   "execution_count": 2,
   "id": "6b1d7c5b",
   "metadata": {},
   "outputs": [],
   "source": [
    "import pandas as pd\n",
    "import numpy as np\n",
    "from sklearn.model_selection import train_test_split\n",
    "from sklearn.preprocessing import LabelEncoder"
   ]
  },
  {
   "cell_type": "code",
   "execution_count": 3,
   "id": "d0d1933e",
   "metadata": {},
   "outputs": [],
   "source": [
    "ratings = pd.read_pickle(\"tiny_selection_longform.pkl\")"
   ]
  },
  {
   "cell_type": "code",
   "execution_count": 4,
   "id": "9586f72c",
   "metadata": {},
   "outputs": [
    {
     "data": {
      "text/plain": [
       "2390"
      ]
     },
     "execution_count": 4,
     "metadata": {},
     "output_type": "execute_result"
    }
   ],
   "source": [
    "user_enc = LabelEncoder()\n",
    "ratings['user'] = user_enc.fit_transform(ratings['user_id'].values)\n",
    "n_users = ratings['user'].nunique()\n",
    "n_users"
   ]
  },
  {
   "cell_type": "code",
   "execution_count": 5,
   "id": "23e72927",
   "metadata": {},
   "outputs": [
    {
     "data": {
      "text/plain": [
       "1648"
      ]
     },
     "execution_count": 5,
     "metadata": {},
     "output_type": "execute_result"
    }
   ],
   "source": [
    "item_enc = LabelEncoder()\n",
    "ratings['movie'] = item_enc.fit_transform(ratings['movie_id'].values)\n",
    "n_movies = ratings['movie'].nunique()\n",
    "n_movies"
   ]
  },
  {
   "cell_type": "code",
   "execution_count": 6,
   "id": "b4485e57",
   "metadata": {},
   "outputs": [],
   "source": [
    "nmovie_id = ratings.movie_id.nunique()\n",
    "nuser_id = ratings.user_id.nunique()"
   ]
  },
  {
   "cell_type": "code",
   "execution_count": 7,
   "id": "1b38bee2",
   "metadata": {},
   "outputs": [],
   "source": [
    "X_train, X_test = train_test_split(ratings[['movie', 'user', 'rating_score']], test_size=0.2, random_state=42)"
   ]
  },
  {
   "cell_type": "code",
   "execution_count": 8,
   "id": "722ab81c",
   "metadata": {},
   "outputs": [
    {
     "data": {
      "text/plain": [
       "2000"
      ]
     },
     "execution_count": 8,
     "metadata": {},
     "output_type": "execute_result"
    }
   ],
   "source": [
    "len(X_train)"
   ]
  },
  {
   "cell_type": "code",
   "execution_count": 21,
   "id": "f95f3157",
   "metadata": {},
   "outputs": [],
   "source": [
    "l2_1 = keras.regularizers.l2(.1)\n",
    "l2_01 = 'l2'\n",
    "l2_001 = keras.regularizers.l2(.001)"
   ]
  },
  {
   "cell_type": "code",
   "execution_count": 22,
   "id": "3a514f3f",
   "metadata": {},
   "outputs": [],
   "source": [
    "HP_NUM_UNITS = [64]\n",
    "HP_DROPOUT = [.3, .4, .5]\n",
    "HP_LEARNING_RATE = [.01]\n",
    "HP_REGULARIZER = [l2_1, l2_01, l2_001]"
   ]
  },
  {
   "cell_type": "code",
   "execution_count": 23,
   "id": "65b41da0",
   "metadata": {},
   "outputs": [],
   "source": [
    "def train_test_model(hparams):\n",
    "    \n",
    "    input_movies = keras.layers.Input(shape=[1])\n",
    "    embed_movies = keras.layers.Embedding(nmovie_id+1, 15)(input_movies)\n",
    "    movies_out = keras.layers.Flatten()(embed_movies)\n",
    "\n",
    "    input_users = keras.layers.Input(shape=[1])\n",
    "    embed_users = keras.layers.Embedding(nuser_id+1, 15)(input_users)\n",
    "    users_out = keras.layers.Flatten()(embed_users)\n",
    "\n",
    "    conc_layer = keras.layers.Concatenate()([movies_out, users_out])\n",
    "    x = keras.layers.Dense(hparams['HP_NUM_UNITS'], \n",
    "                           activation='relu', \n",
    "                           kernel_regularizer=hparams['HP_REGULARIZER'])(conc_layer)\n",
    "    dropout = x = keras.layers.Dropout(rate=hparams['HP_DROPOUT'], seed=42)(x)\n",
    "    x_out = x = keras.layers.Dense(1, \n",
    "                                   activation='relu',\n",
    "                                  kernel_regularizer=hparams['HP_REGULARIZER'])(x)\n",
    "\n",
    "    model = keras.Model([input_movies, input_users], x_out)\n",
    "    \n",
    "    opt = tf.optimizers.Adam(learning_rate=hparams['HP_LEARNING_RATE'])\n",
    "    model.compile(optimizer=opt, loss='mean_squared_error', metrics = keras.metrics.RootMeanSquaredError())\n",
    "    \n",
    "    hist = model.fit([X_train.movie, X_train.user], \n",
    "                 X_train.rating_score,  \n",
    "                 batch_size=10000, epochs=20, validation_split=.2)\n",
    "\n",
    "#     print(hist.history['val_mean_squared_error'])\n",
    "    return hist"
   ]
  },
  {
   "cell_type": "code",
   "execution_count": 24,
   "id": "ce01ab92",
   "metadata": {},
   "outputs": [
    {
     "name": "stdout",
     "output_type": "stream",
     "text": [
      "----Starting trial: run-0\n",
      "{'HP_NUM_UNITS': 64, 'HP_DROPOUT': 0.3, 'HP_LEARNING_RATE': 0.01, 'HP_REGULARIZER': <tensorflow.python.keras.regularizers.L2 object at 0x7fddd07383a0>}\n",
      "Epoch 1/20\n",
      "1/1 [==============================] - 2s 2s/step - loss: 14.9762 - root_mean_squared_error: 3.2856 - val_loss: 14.0214 - val_root_mean_squared_error: 3.2109\n",
      "Epoch 2/20\n",
      "1/1 [==============================] - 0s 284ms/step - loss: 14.0935 - root_mean_squared_error: 3.2221 - val_loss: 13.2120 - val_root_mean_squared_error: 3.1498\n",
      "Epoch 3/20\n",
      "1/1 [==============================] - 0s 273ms/step - loss: 13.2025 - root_mean_squared_error: 3.1483 - val_loss: 12.4148 - val_root_mean_squared_error: 3.0825\n",
      "Epoch 4/20\n",
      "1/1 [==============================] - 0s 265ms/step - loss: 12.3047 - root_mean_squared_error: 3.0646 - val_loss: 11.6169 - val_root_mean_squared_error: 3.0062\n",
      "Epoch 5/20\n",
      "1/1 [==============================] - 0s 229ms/step - loss: 11.4109 - root_mean_squared_error: 2.9718 - val_loss: 10.8207 - val_root_mean_squared_error: 2.9206\n",
      "Epoch 6/20\n",
      "1/1 [==============================] - 0s 261ms/step - loss: 10.4287 - root_mean_squared_error: 2.8527 - val_loss: 10.0280 - val_root_mean_squared_error: 2.8248\n",
      "Epoch 7/20\n",
      "1/1 [==============================] - 0s 243ms/step - loss: 9.4441 - root_mean_squared_error: 2.7195 - val_loss: 9.2387 - val_root_mean_squared_error: 2.7180\n",
      "Epoch 8/20\n",
      "1/1 [==============================] - 0s 248ms/step - loss: 8.3859 - root_mean_squared_error: 2.5563 - val_loss: 8.4550 - val_root_mean_squared_error: 2.5996\n",
      "Epoch 9/20\n",
      "1/1 [==============================] - 0s 243ms/step - loss: 7.2802 - root_mean_squared_error: 2.3629 - val_loss: 7.6830 - val_root_mean_squared_error: 2.4695\n",
      "Epoch 10/20\n",
      "1/1 [==============================] - 0s 290ms/step - loss: 6.1923 - root_mean_squared_error: 2.1466 - val_loss: 6.9354 - val_root_mean_squared_error: 2.3291\n",
      "Epoch 11/20\n",
      "1/1 [==============================] - 0s 263ms/step - loss: 5.0997 - root_mean_squared_error: 1.8945 - val_loss: 6.2328 - val_root_mean_squared_error: 2.1818\n",
      "Epoch 12/20\n",
      "1/1 [==============================] - 0s 261ms/step - loss: 4.1694 - root_mean_squared_error: 1.6423 - val_loss: 5.6015 - val_root_mean_squared_error: 2.0340\n",
      "Epoch 13/20\n",
      "1/1 [==============================] - 0s 248ms/step - loss: 3.3955 - root_mean_squared_error: 1.3896 - val_loss: 5.0689 - val_root_mean_squared_error: 1.8955\n",
      "Epoch 14/20\n",
      "1/1 [==============================] - 0s 254ms/step - loss: 2.9720 - root_mean_squared_error: 1.2232 - val_loss: 4.6538 - val_root_mean_squared_error: 1.7802\n",
      "Epoch 15/20\n",
      "1/1 [==============================] - 0s 265ms/step - loss: 2.8165 - root_mean_squared_error: 1.1540 - val_loss: 4.3470 - val_root_mean_squared_error: 1.6971\n",
      "Epoch 16/20\n",
      "1/1 [==============================] - 0s 277ms/step - loss: 2.9375 - root_mean_squared_error: 1.2128 - val_loss: 4.1208 - val_root_mean_squared_error: 1.6462\n",
      "Epoch 17/20\n",
      "1/1 [==============================] - 0s 265ms/step - loss: 2.8596 - root_mean_squared_error: 1.2037 - val_loss: 3.9460 - val_root_mean_squared_error: 1.6192\n",
      "Epoch 18/20\n",
      "1/1 [==============================] - 0s 275ms/step - loss: 2.6981 - root_mean_squared_error: 1.1721 - val_loss: 3.8084 - val_root_mean_squared_error: 1.6091\n",
      "Epoch 19/20\n",
      "1/1 [==============================] - 0s 231ms/step - loss: 2.3509 - root_mean_squared_error: 1.0639 - val_loss: 3.7081 - val_root_mean_squared_error: 1.6133\n",
      "Epoch 20/20\n",
      "1/1 [==============================] - 0s 339ms/step - loss: 1.9537 - root_mean_squared_error: 0.9211 - val_loss: 3.6469 - val_root_mean_squared_error: 1.6294\n",
      "----Starting trial: run-1\n",
      "{'HP_NUM_UNITS': 64, 'HP_DROPOUT': 0.3, 'HP_LEARNING_RATE': 0.01, 'HP_REGULARIZER': 'l2'}\n",
      "Epoch 1/20\n",
      "1/1 [==============================] - 1s 1s/step - loss: 11.2428 - root_mean_squared_error: 3.2879 - val_loss: 10.6781 - val_root_mean_squared_error: 3.2073\n",
      "Epoch 2/20\n",
      "1/1 [==============================] - 0s 257ms/step - loss: 10.7559 - root_mean_squared_error: 3.2194 - val_loss: 10.1997 - val_root_mean_squared_error: 3.1367\n",
      "Epoch 3/20\n",
      "1/1 [==============================] - 0s 265ms/step - loss: 10.1362 - root_mean_squared_error: 3.1266 - val_loss: 9.6764 - val_root_mean_squared_error: 3.0558\n",
      "Epoch 4/20\n",
      "1/1 [==============================] - 0s 247ms/step - loss: 9.3891 - root_mean_squared_error: 3.0084 - val_loss: 9.0965 - val_root_mean_squared_error: 2.9621\n",
      "Epoch 5/20\n",
      "1/1 [==============================] - 0s 254ms/step - loss: 8.5302 - root_mean_squared_error: 2.8649 - val_loss: 8.4602 - val_root_mean_squared_error: 2.8547\n",
      "Epoch 6/20\n",
      "1/1 [==============================] - 0s 286ms/step - loss: 7.5088 - root_mean_squared_error: 2.6829 - val_loss: 7.7744 - val_root_mean_squared_error: 2.7332\n",
      "Epoch 7/20\n",
      "1/1 [==============================] - 0s 264ms/step - loss: 6.3813 - root_mean_squared_error: 2.4652 - val_loss: 7.0526 - val_root_mean_squared_error: 2.5983\n",
      "Epoch 8/20\n",
      "1/1 [==============================] - 0s 276ms/step - loss: 5.1668 - root_mean_squared_error: 2.2058 - val_loss: 6.3169 - val_root_mean_squared_error: 2.4524\n",
      "Epoch 9/20\n",
      "1/1 [==============================] - 0s 231ms/step - loss: 4.0149 - root_mean_squared_error: 1.9268 - val_loss: 5.5975 - val_root_mean_squared_error: 2.3001\n",
      "Epoch 10/20\n",
      "1/1 [==============================] - 0s 212ms/step - loss: 2.9478 - root_mean_squared_error: 1.6250 - val_loss: 4.9313 - val_root_mean_squared_error: 2.1484\n",
      "Epoch 11/20\n",
      "1/1 [==============================] - 0s 237ms/step - loss: 2.1258 - root_mean_squared_error: 1.3454 - val_loss: 4.3676 - val_root_mean_squared_error: 2.0102\n",
      "Epoch 12/20\n",
      "1/1 [==============================] - 0s 235ms/step - loss: 1.7057 - root_mean_squared_error: 1.1743 - val_loss: 3.9518 - val_root_mean_squared_error: 1.9011\n",
      "Epoch 13/20\n",
      "1/1 [==============================] - 0s 274ms/step - loss: 1.7163 - root_mean_squared_error: 1.1741 - val_loss: 3.6962 - val_root_mean_squared_error: 1.8310\n",
      "Epoch 14/20\n",
      "1/1 [==============================] - 0s 267ms/step - loss: 1.9798 - root_mean_squared_error: 1.2791 - val_loss: 3.5658 - val_root_mean_squared_error: 1.7955\n",
      "Epoch 15/20\n",
      "1/1 [==============================] - 0s 214ms/step - loss: 2.0813 - root_mean_squared_error: 1.3189 - val_loss: 3.5083 - val_root_mean_squared_error: 1.7818\n",
      "Epoch 16/20\n",
      "1/1 [==============================] - 0s 266ms/step - loss: 1.9551 - root_mean_squared_error: 1.2734 - val_loss: 3.5026 - val_root_mean_squared_error: 1.7837\n",
      "Epoch 17/20\n",
      "1/1 [==============================] - 0s 242ms/step - loss: 1.5156 - root_mean_squared_error: 1.0930 - val_loss: 3.5432 - val_root_mean_squared_error: 1.7992\n",
      "Epoch 18/20\n",
      "1/1 [==============================] - 0s 220ms/step - loss: 1.1716 - root_mean_squared_error: 0.9303 - val_loss: 3.6275 - val_root_mean_squared_error: 1.8268\n",
      "Epoch 19/20\n",
      "1/1 [==============================] - 0s 236ms/step - loss: 0.8216 - root_mean_squared_error: 0.7288 - val_loss: 3.7437 - val_root_mean_squared_error: 1.8624\n",
      "Epoch 20/20\n",
      "1/1 [==============================] - 0s 234ms/step - loss: 0.6158 - root_mean_squared_error: 0.5837 - val_loss: 3.8746 - val_root_mean_squared_error: 1.9010\n",
      "----Starting trial: run-2\n",
      "{'HP_NUM_UNITS': 64, 'HP_DROPOUT': 0.3, 'HP_LEARNING_RATE': 0.01, 'HP_REGULARIZER': <tensorflow.python.keras.regularizers.L2 object at 0x7fddd07387f0>}\n",
      "Epoch 1/20\n",
      "1/1 [==============================] - 1s 1s/step - loss: 10.9120 - root_mean_squared_error: 3.2970 - val_loss: 10.5236 - val_root_mean_squared_error: 3.2379\n",
      "Epoch 2/20\n",
      "1/1 [==============================] - 0s 194ms/step - loss: 10.6524 - root_mean_squared_error: 3.2578 - val_loss: 10.2019 - val_root_mean_squared_error: 3.1881\n",
      "Epoch 3/20\n",
      "1/1 [==============================] - 0s 190ms/step - loss: 10.2107 - root_mean_squared_error: 3.1894 - val_loss: 9.8486 - val_root_mean_squared_error: 3.1323\n",
      "Epoch 4/20\n",
      "1/1 [==============================] - 0s 253ms/step - loss: 9.6638 - root_mean_squared_error: 3.1027 - val_loss: 9.4489 - val_root_mean_squared_error: 3.0680\n",
      "Epoch 5/20\n",
      "1/1 [==============================] - 0s 283ms/step - loss: 8.9889 - root_mean_squared_error: 2.9921 - val_loss: 8.9933 - val_root_mean_squared_error: 2.9929\n",
      "Epoch 6/20\n",
      "1/1 [==============================] - 0s 256ms/step - loss: 8.1657 - root_mean_squared_error: 2.8513 - val_loss: 8.4816 - val_root_mean_squared_error: 2.9062\n",
      "Epoch 7/20\n",
      "1/1 [==============================] - 0s 219ms/step - loss: 7.2529 - root_mean_squared_error: 2.6865 - val_loss: 7.9173 - val_root_mean_squared_error: 2.8074\n",
      "Epoch 8/20\n",
      "1/1 [==============================] - 0s 221ms/step - loss: 6.1984 - root_mean_squared_error: 2.4825 - val_loss: 7.3083 - val_root_mean_squared_error: 2.6967\n",
      "Epoch 9/20\n",
      "1/1 [==============================] - 0s 261ms/step - loss: 5.0712 - root_mean_squared_error: 2.2439 - val_loss: 6.6688 - val_root_mean_squared_error: 2.5753\n",
      "Epoch 10/20\n",
      "1/1 [==============================] - 0s 260ms/step - loss: 3.9981 - root_mean_squared_error: 1.9904 - val_loss: 6.0177 - val_root_mean_squared_error: 2.4454\n",
      "Epoch 11/20\n",
      "1/1 [==============================] - 0s 226ms/step - loss: 2.9348 - root_mean_squared_error: 1.7021 - val_loss: 5.3814 - val_root_mean_squared_error: 2.3114\n",
      "Epoch 12/20\n",
      "1/1 [==============================] - 0s 217ms/step - loss: 2.0726 - root_mean_squared_error: 1.4261 - val_loss: 4.7955 - val_root_mean_squared_error: 2.1806\n",
      "Epoch 13/20\n",
      "1/1 [==============================] - 0s 272ms/step - loss: 1.5204 - root_mean_squared_error: 1.2166 - val_loss: 4.3021 - val_root_mean_squared_error: 2.0640\n",
      "Epoch 14/20\n",
      "1/1 [==============================] - 0s 244ms/step - loss: 1.3401 - root_mean_squared_error: 1.1394 - val_loss: 3.9447 - val_root_mean_squared_error: 1.9752\n",
      "Epoch 15/20\n",
      "1/1 [==============================] - 0s 241ms/step - loss: 1.5047 - root_mean_squared_error: 1.2089 - val_loss: 3.7349 - val_root_mean_squared_error: 1.9212\n",
      "Epoch 16/20\n",
      "1/1 [==============================] - 0s 249ms/step - loss: 1.7463 - root_mean_squared_error: 1.3047 - val_loss: 3.6408 - val_root_mean_squared_error: 1.8965\n",
      "Epoch 17/20\n",
      "1/1 [==============================] - 0s 222ms/step - loss: 1.7569 - root_mean_squared_error: 1.3088 - val_loss: 3.6280 - val_root_mean_squared_error: 1.8934\n",
      "Epoch 18/20\n",
      "1/1 [==============================] - 0s 222ms/step - loss: 1.5395 - root_mean_squared_error: 1.2232 - val_loss: 3.6783 - val_root_mean_squared_error: 1.9069\n",
      "Epoch 19/20\n",
      "1/1 [==============================] - 0s 245ms/step - loss: 1.1763 - root_mean_squared_error: 1.0650 - val_loss: 3.7798 - val_root_mean_squared_error: 1.9337\n",
      "Epoch 20/20\n",
      "1/1 [==============================] - 0s 249ms/step - loss: 0.7992 - root_mean_squared_error: 0.8710 - val_loss: 3.9207 - val_root_mean_squared_error: 1.9702\n",
      "----Starting trial: run-3\n",
      "{'HP_NUM_UNITS': 64, 'HP_DROPOUT': 0.4, 'HP_LEARNING_RATE': 0.01, 'HP_REGULARIZER': <tensorflow.python.keras.regularizers.L2 object at 0x7fddd07383a0>}\n",
      "Epoch 1/20\n",
      "1/1 [==============================] - 1s 1s/step - loss: 15.1932 - root_mean_squared_error: 3.2946 - val_loss: 14.3106 - val_root_mean_squared_error: 3.2339\n",
      "Epoch 2/20\n",
      "1/1 [==============================] - 0s 255ms/step - loss: 14.4270 - root_mean_squared_error: 3.2518 - val_loss: 13.5464 - val_root_mean_squared_error: 3.1832\n",
      "Epoch 3/20\n",
      "1/1 [==============================] - 0s 282ms/step - loss: 13.5803 - root_mean_squared_error: 3.1885 - val_loss: 12.8025 - val_root_mean_squared_error: 3.1283\n",
      "Epoch 4/20\n",
      "1/1 [==============================] - 0s 243ms/step - loss: 12.7433 - root_mean_squared_error: 3.1188 - val_loss: 12.0689 - val_root_mean_squared_error: 3.0673\n",
      "Epoch 5/20\n",
      "1/1 [==============================] - 0s 276ms/step - loss: 11.9112 - root_mean_squared_error: 3.0415 - val_loss: 11.3393 - val_root_mean_squared_error: 2.9988\n",
      "Epoch 6/20\n",
      "1/1 [==============================] - 0s 267ms/step - loss: 11.0291 - root_mean_squared_error: 2.9467 - val_loss: 10.6132 - val_root_mean_squared_error: 2.9221\n",
      "Epoch 7/20\n",
      "1/1 [==============================] - 0s 184ms/step - loss: 10.1464 - root_mean_squared_error: 2.8411 - val_loss: 9.8901 - val_root_mean_squared_error: 2.8366\n",
      "Epoch 8/20\n",
      "1/1 [==============================] - 0s 199ms/step - loss: 9.2424 - root_mean_squared_error: 2.7200 - val_loss: 9.1688 - val_root_mean_squared_error: 2.7412\n",
      "Epoch 9/20\n",
      "1/1 [==============================] - 0s 155ms/step - loss: 8.2763 - root_mean_squared_error: 2.5733 - val_loss: 8.4505 - val_root_mean_squared_error: 2.6356\n",
      "Epoch 10/20\n",
      "1/1 [==============================] - 0s 145ms/step - loss: 7.3046 - root_mean_squared_error: 2.4084 - val_loss: 7.7396 - val_root_mean_squared_error: 2.5195\n",
      "Epoch 11/20\n",
      "1/1 [==============================] - 0s 232ms/step - loss: 6.2621 - root_mean_squared_error: 2.2069 - val_loss: 7.0450 - val_root_mean_squared_error: 2.3939\n",
      "Epoch 12/20\n",
      "1/1 [==============================] - 0s 272ms/step - loss: 5.3042 - root_mean_squared_error: 1.9975 - val_loss: 6.3803 - val_root_mean_squared_error: 2.2606\n",
      "Epoch 13/20\n",
      "1/1 [==============================] - 0s 261ms/step - loss: 4.3705 - root_mean_squared_error: 1.7608 - val_loss: 5.7643 - val_root_mean_squared_error: 2.1236\n",
      "Epoch 14/20\n",
      "1/1 [==============================] - 0s 296ms/step - loss: 3.5930 - root_mean_squared_error: 1.5291 - val_loss: 5.2197 - val_root_mean_squared_error: 1.9892\n",
      "Epoch 15/20\n",
      "1/1 [==============================] - 0s 239ms/step - loss: 3.0639 - root_mean_squared_error: 1.3421 - val_loss: 4.7662 - val_root_mean_squared_error: 1.8666\n",
      "Epoch 16/20\n",
      "1/1 [==============================] - 0s 275ms/step - loss: 2.7857 - root_mean_squared_error: 1.2263 - val_loss: 4.4127 - val_root_mean_squared_error: 1.7663\n",
      "Epoch 17/20\n",
      "1/1 [==============================] - 0s 252ms/step - loss: 2.7085 - root_mean_squared_error: 1.1897 - val_loss: 4.1494 - val_root_mean_squared_error: 1.6945\n",
      "Epoch 18/20\n",
      "1/1 [==============================] - 0s 252ms/step - loss: 2.8189 - root_mean_squared_error: 1.2413 - val_loss: 3.9562 - val_root_mean_squared_error: 1.6506\n",
      "Epoch 19/20\n",
      "1/1 [==============================] - 0s 210ms/step - loss: 2.7760 - root_mean_squared_error: 1.2427 - val_loss: 3.8074 - val_root_mean_squared_error: 1.6272\n",
      "Epoch 20/20\n",
      "1/1 [==============================] - 0s 206ms/step - loss: 2.6058 - root_mean_squared_error: 1.2025 - val_loss: 3.6933 - val_root_mean_squared_error: 1.6192\n",
      "----Starting trial: run-4\n",
      "{'HP_NUM_UNITS': 64, 'HP_DROPOUT': 0.4, 'HP_LEARNING_RATE': 0.01, 'HP_REGULARIZER': 'l2'}\n",
      "Epoch 1/20\n",
      "1/1 [==============================] - 1s 1s/step - loss: 11.2532 - root_mean_squared_error: 3.2925 - val_loss: 10.7456 - val_root_mean_squared_error: 3.2210\n",
      "Epoch 2/20\n",
      "1/1 [==============================] - 0s 289ms/step - loss: 10.8424 - root_mean_squared_error: 3.2360 - val_loss: 10.3292 - val_root_mean_squared_error: 3.1609\n",
      "Epoch 3/20\n",
      "1/1 [==============================] - 0s 270ms/step - loss: 10.3269 - root_mean_squared_error: 3.1605 - val_loss: 9.8916 - val_root_mean_squared_error: 3.0950\n",
      "Epoch 4/20\n",
      "1/1 [==============================] - 0s 253ms/step - loss: 9.7306 - root_mean_squared_error: 3.0689 - val_loss: 9.4125 - val_root_mean_squared_error: 3.0198\n",
      "Epoch 5/20\n",
      "1/1 [==============================] - 0s 292ms/step - loss: 9.0519 - root_mean_squared_error: 2.9595 - val_loss: 8.8851 - val_root_mean_squared_error: 2.9337\n",
      "Epoch 6/20\n",
      "1/1 [==============================] - 0s 257ms/step - loss: 8.1821 - root_mean_squared_error: 2.8114 - val_loss: 8.3117 - val_root_mean_squared_error: 2.8363\n",
      "Epoch 7/20\n",
      "1/1 [==============================] - 0s 273ms/step - loss: 7.3027 - root_mean_squared_error: 2.6525 - val_loss: 7.6975 - val_root_mean_squared_error: 2.7272\n",
      "Epoch 8/20\n",
      "1/1 [==============================] - 0s 232ms/step - loss: 6.2242 - root_mean_squared_error: 2.4422 - val_loss: 7.0516 - val_root_mean_squared_error: 2.6068\n",
      "Epoch 9/20\n",
      "1/1 [==============================] - 0s 132ms/step - loss: 5.1328 - root_mean_squared_error: 2.2083 - val_loss: 6.3881 - val_root_mean_squared_error: 2.4762\n",
      "Epoch 10/20\n",
      "1/1 [==============================] - 0s 92ms/step - loss: 4.0972 - root_mean_squared_error: 1.9598 - val_loss: 5.7266 - val_root_mean_squared_error: 2.3381\n",
      "Epoch 11/20\n",
      "1/1 [==============================] - 0s 114ms/step - loss: 3.0058 - root_mean_squared_error: 1.6571 - val_loss: 5.0945 - val_root_mean_squared_error: 2.1972\n",
      "Epoch 12/20\n"
     ]
    },
    {
     "name": "stdout",
     "output_type": "stream",
     "text": [
      "1/1 [==============================] - 0s 145ms/step - loss: 2.2590 - root_mean_squared_error: 1.4114 - val_loss: 4.5257 - val_root_mean_squared_error: 2.0613\n",
      "Epoch 13/20\n",
      "1/1 [==============================] - 0s 177ms/step - loss: 1.7807 - root_mean_squared_error: 1.2264 - val_loss: 4.0613 - val_root_mean_squared_error: 1.9427\n",
      "Epoch 14/20\n",
      "1/1 [==============================] - 0s 247ms/step - loss: 1.6849 - root_mean_squared_error: 1.1822 - val_loss: 3.7366 - val_root_mean_squared_error: 1.8552\n",
      "Epoch 15/20\n",
      "1/1 [==============================] - 0s 257ms/step - loss: 1.8347 - root_mean_squared_error: 1.2408 - val_loss: 3.5438 - val_root_mean_squared_error: 1.8019\n",
      "Epoch 16/20\n",
      "1/1 [==============================] - 0s 289ms/step - loss: 1.9622 - root_mean_squared_error: 1.2904 - val_loss: 3.4520 - val_root_mean_squared_error: 1.7775\n",
      "Epoch 17/20\n",
      "1/1 [==============================] - 0s 253ms/step - loss: 1.9112 - root_mean_squared_error: 1.2723 - val_loss: 3.4309 - val_root_mean_squared_error: 1.7741\n",
      "Epoch 18/20\n",
      "1/1 [==============================] - 0s 206ms/step - loss: 1.6779 - root_mean_squared_error: 1.1809 - val_loss: 3.4638 - val_root_mean_squared_error: 1.7868\n",
      "Epoch 19/20\n",
      "1/1 [==============================] - 0s 213ms/step - loss: 1.3591 - root_mean_squared_error: 1.0429 - val_loss: 3.5408 - val_root_mean_squared_error: 1.8119\n",
      "Epoch 20/20\n",
      "1/1 [==============================] - 0s 253ms/step - loss: 0.9672 - root_mean_squared_error: 0.8423 - val_loss: 3.6509 - val_root_mean_squared_error: 1.8458\n",
      "----Starting trial: run-5\n",
      "{'HP_NUM_UNITS': 64, 'HP_DROPOUT': 0.4, 'HP_LEARNING_RATE': 0.01, 'HP_REGULARIZER': <tensorflow.python.keras.regularizers.L2 object at 0x7fddd07387f0>}\n",
      "Epoch 1/20\n",
      "1/1 [==============================] - 2s 2s/step - loss: 10.8674 - root_mean_squared_error: 3.2902 - val_loss: 10.3809 - val_root_mean_squared_error: 3.2155\n",
      "Epoch 2/20\n",
      "1/1 [==============================] - 0s 322ms/step - loss: 10.4878 - root_mean_squared_error: 3.2321 - val_loss: 9.9979 - val_root_mean_squared_error: 3.1554\n",
      "Epoch 3/20\n",
      "1/1 [==============================] - 0s 283ms/step - loss: 10.0157 - root_mean_squared_error: 3.1582 - val_loss: 9.5895 - val_root_mean_squared_error: 3.0901\n",
      "Epoch 4/20\n",
      "1/1 [==============================] - 0s 288ms/step - loss: 9.4751 - root_mean_squared_error: 3.0715 - val_loss: 9.1358 - val_root_mean_squared_error: 3.0158\n",
      "Epoch 5/20\n",
      "1/1 [==============================] - 0s 260ms/step - loss: 8.8605 - root_mean_squared_error: 2.9698 - val_loss: 8.6291 - val_root_mean_squared_error: 2.9306\n",
      "Epoch 6/20\n",
      "1/1 [==============================] - 0s 152ms/step - loss: 8.0869 - root_mean_squared_error: 2.8366 - val_loss: 8.0690 - val_root_mean_squared_error: 2.8335\n",
      "Epoch 7/20\n",
      "1/1 [==============================] - 0s 186ms/step - loss: 7.2386 - root_mean_squared_error: 2.6829 - val_loss: 7.4588 - val_root_mean_squared_error: 2.7236\n",
      "Epoch 8/20\n",
      "1/1 [==============================] - 0s 257ms/step - loss: 6.2656 - root_mean_squared_error: 2.4950 - val_loss: 6.8074 - val_root_mean_squared_error: 2.6012\n",
      "Epoch 9/20\n",
      "1/1 [==============================] - 0s 187ms/step - loss: 5.1624 - root_mean_squared_error: 2.2630 - val_loss: 6.1299 - val_root_mean_squared_error: 2.4674\n",
      "Epoch 10/20\n",
      "1/1 [==============================] - 0s 139ms/step - loss: 4.1408 - root_mean_squared_error: 2.0246 - val_loss: 5.4487 - val_root_mean_squared_error: 2.3251\n",
      "Epoch 11/20\n",
      "1/1 [==============================] - 0s 245ms/step - loss: 3.0766 - root_mean_squared_error: 1.7418 - val_loss: 4.7937 - val_root_mean_squared_error: 2.1794\n",
      "Epoch 12/20\n",
      "1/1 [==============================] - 0s 238ms/step - loss: 2.1769 - root_mean_squared_error: 1.4605 - val_loss: 4.2015 - val_root_mean_squared_error: 2.0386\n",
      "Epoch 13/20\n",
      "1/1 [==============================] - 0s 276ms/step - loss: 1.6301 - root_mean_squared_error: 1.2588 - val_loss: 3.7151 - val_root_mean_squared_error: 1.9152\n",
      "Epoch 14/20\n",
      "1/1 [==============================] - 0s 248ms/step - loss: 1.4520 - root_mean_squared_error: 1.1853 - val_loss: 3.3757 - val_root_mean_squared_error: 1.8241\n",
      "Epoch 15/20\n",
      "1/1 [==============================] - 0s 257ms/step - loss: 1.5315 - root_mean_squared_error: 1.2178 - val_loss: 3.1782 - val_root_mean_squared_error: 1.7689\n",
      "Epoch 16/20\n",
      "1/1 [==============================] - 0s 281ms/step - loss: 1.7295 - root_mean_squared_error: 1.2963 - val_loss: 3.0826 - val_root_mean_squared_error: 1.7417\n",
      "Epoch 17/20\n",
      "1/1 [==============================] - 0s 273ms/step - loss: 1.8125 - root_mean_squared_error: 1.3279 - val_loss: 3.0539 - val_root_mean_squared_error: 1.7336\n",
      "Epoch 18/20\n",
      "1/1 [==============================] - 0s 207ms/step - loss: 1.6687 - root_mean_squared_error: 1.2729 - val_loss: 3.0778 - val_root_mean_squared_error: 1.7408\n",
      "Epoch 19/20\n",
      "1/1 [==============================] - 0s 255ms/step - loss: 1.2274 - root_mean_squared_error: 1.0863 - val_loss: 3.1478 - val_root_mean_squared_error: 1.7612\n",
      "Epoch 20/20\n",
      "1/1 [==============================] - 0s 123ms/step - loss: 0.8452 - root_mean_squared_error: 0.8939 - val_loss: 3.2560 - val_root_mean_squared_error: 1.7920\n",
      "----Starting trial: run-6\n",
      "{'HP_NUM_UNITS': 64, 'HP_DROPOUT': 0.5, 'HP_LEARNING_RATE': 0.01, 'HP_REGULARIZER': <tensorflow.python.keras.regularizers.L2 object at 0x7fddd07383a0>}\n",
      "Epoch 1/20\n",
      "1/1 [==============================] - 2s 2s/step - loss: 15.1270 - root_mean_squared_error: 3.2880 - val_loss: 14.2033 - val_root_mean_squared_error: 3.2198\n",
      "Epoch 2/20\n",
      "1/1 [==============================] - 0s 165ms/step - loss: 14.3025 - root_mean_squared_error: 3.2351 - val_loss: 13.4044 - val_root_mean_squared_error: 3.1621\n",
      "Epoch 3/20\n",
      "1/1 [==============================] - 0s 181ms/step - loss: 13.4421 - root_mean_squared_error: 3.1681 - val_loss: 12.6302 - val_root_mean_squared_error: 3.1007\n",
      "Epoch 4/20\n",
      "1/1 [==============================] - 0s 293ms/step - loss: 12.5910 - root_mean_squared_error: 3.0944 - val_loss: 11.8655 - val_root_mean_squared_error: 3.0327\n",
      "Epoch 5/20\n",
      "1/1 [==============================] - 0s 266ms/step - loss: 11.7659 - root_mean_squared_error: 3.0162 - val_loss: 11.1074 - val_root_mean_squared_error: 2.9572\n",
      "Epoch 6/20\n",
      "1/1 [==============================] - 0s 278ms/step - loss: 10.8960 - root_mean_squared_error: 2.9213 - val_loss: 10.3576 - val_root_mean_squared_error: 2.8740\n",
      "Epoch 7/20\n",
      "1/1 [==============================] - 0s 286ms/step - loss: 10.0209 - root_mean_squared_error: 2.8148 - val_loss: 9.6160 - val_root_mean_squared_error: 2.7823\n",
      "Epoch 8/20\n",
      "1/1 [==============================] - 0s 315ms/step - loss: 9.0772 - root_mean_squared_error: 2.6837 - val_loss: 8.8827 - val_root_mean_squared_error: 2.6814\n",
      "Epoch 9/20\n",
      "1/1 [==============================] - 0s 240ms/step - loss: 8.1178 - root_mean_squared_error: 2.5348 - val_loss: 8.1590 - val_root_mean_squared_error: 2.5708\n",
      "Epoch 10/20\n",
      "1/1 [==============================] - 0s 233ms/step - loss: 7.1418 - root_mean_squared_error: 2.3648 - val_loss: 7.4497 - val_root_mean_squared_error: 2.4506\n",
      "Epoch 11/20\n",
      "1/1 [==============================] - 0s 235ms/step - loss: 6.1467 - root_mean_squared_error: 2.1685 - val_loss: 6.7639 - val_root_mean_squared_error: 2.3216\n",
      "Epoch 12/20\n",
      "1/1 [==============================] - 0s 223ms/step - loss: 5.1600 - root_mean_squared_error: 1.9457 - val_loss: 6.1164 - val_root_mean_squared_error: 2.1861\n",
      "Epoch 13/20\n",
      "1/1 [==============================] - 0s 233ms/step - loss: 4.2159 - root_mean_squared_error: 1.6966 - val_loss: 5.5269 - val_root_mean_squared_error: 2.0488\n",
      "Epoch 14/20\n",
      "1/1 [==============================] - 0s 242ms/step - loss: 3.5022 - root_mean_squared_error: 1.4740 - val_loss: 5.0171 - val_root_mean_squared_error: 1.9170\n",
      "Epoch 15/20\n",
      "1/1 [==============================] - 0s 230ms/step - loss: 3.0691 - root_mean_squared_error: 1.3141 - val_loss: 4.6042 - val_root_mean_squared_error: 1.8008\n",
      "Epoch 16/20\n",
      "1/1 [==============================] - 0s 226ms/step - loss: 2.8397 - root_mean_squared_error: 1.2159 - val_loss: 4.2890 - val_root_mean_squared_error: 1.7101\n",
      "Epoch 17/20\n",
      "1/1 [==============================] - 0s 292ms/step - loss: 2.8555 - root_mean_squared_error: 1.2210 - val_loss: 4.0569 - val_root_mean_squared_error: 1.6503\n"
     ]
    },
    {
     "name": "stdout",
     "output_type": "stream",
     "text": [
      "Epoch 18/20\n",
      "1/1 [==============================] - 0s 221ms/step - loss: 2.9151 - root_mean_squared_error: 1.2577 - val_loss: 3.8804 - val_root_mean_squared_error: 1.6156\n",
      "Epoch 19/20\n",
      "1/1 [==============================] - 0s 243ms/step - loss: 2.8243 - root_mean_squared_error: 1.2466 - val_loss: 3.7399 - val_root_mean_squared_error: 1.5988\n",
      "Epoch 20/20\n",
      "1/1 [==============================] - 0s 265ms/step - loss: 2.5710 - root_mean_squared_error: 1.1778 - val_loss: 3.6305 - val_root_mean_squared_error: 1.5957\n",
      "----Starting trial: run-7\n",
      "{'HP_NUM_UNITS': 64, 'HP_DROPOUT': 0.5, 'HP_LEARNING_RATE': 0.01, 'HP_REGULARIZER': 'l2'}\n",
      "Epoch 1/20\n",
      "1/1 [==============================] - 1s 1s/step - loss: 11.2754 - root_mean_squared_error: 3.2917 - val_loss: 10.7746 - val_root_mean_squared_error: 3.2215\n",
      "Epoch 2/20\n",
      "1/1 [==============================] - 0s 113ms/step - loss: 10.8810 - root_mean_squared_error: 3.2380 - val_loss: 10.3495 - val_root_mean_squared_error: 3.1602\n",
      "Epoch 3/20\n",
      "1/1 [==============================] - 0s 247ms/step - loss: 10.3729 - root_mean_squared_error: 3.1639 - val_loss: 9.9104 - val_root_mean_squared_error: 3.0943\n",
      "Epoch 4/20\n",
      "1/1 [==============================] - 0s 305ms/step - loss: 9.8030 - root_mean_squared_error: 3.0769 - val_loss: 9.4364 - val_root_mean_squared_error: 3.0202\n",
      "Epoch 5/20\n",
      "1/1 [==============================] - 0s 290ms/step - loss: 9.1463 - root_mean_squared_error: 2.9718 - val_loss: 8.9160 - val_root_mean_squared_error: 2.9356\n",
      "Epoch 6/20\n",
      "1/1 [==============================] - 0s 233ms/step - loss: 8.3604 - root_mean_squared_error: 2.8394 - val_loss: 8.3485 - val_root_mean_squared_error: 2.8395\n",
      "Epoch 7/20\n",
      "1/1 [==============================] - 0s 250ms/step - loss: 7.4633 - root_mean_squared_error: 2.6791 - val_loss: 7.7386 - val_root_mean_squared_error: 2.7316\n",
      "Epoch 8/20\n",
      "1/1 [==============================] - 0s 219ms/step - loss: 6.4813 - root_mean_squared_error: 2.4908 - val_loss: 7.0948 - val_root_mean_squared_error: 2.6120\n",
      "Epoch 9/20\n",
      "1/1 [==============================] - 0s 270ms/step - loss: 5.3990 - root_mean_squared_error: 2.2642 - val_loss: 6.4312 - val_root_mean_squared_error: 2.4819\n",
      "Epoch 10/20\n",
      "1/1 [==============================] - 0s 221ms/step - loss: 4.3749 - root_mean_squared_error: 2.0258 - val_loss: 5.7675 - val_root_mean_squared_error: 2.3439\n",
      "Epoch 11/20\n",
      "1/1 [==============================] - 0s 295ms/step - loss: 3.3674 - root_mean_squared_error: 1.7589 - val_loss: 5.1353 - val_root_mean_squared_error: 2.2037\n",
      "Epoch 12/20\n",
      "1/1 [==============================] - 0s 238ms/step - loss: 2.5235 - root_mean_squared_error: 1.4981 - val_loss: 4.5691 - val_root_mean_squared_error: 2.0691\n",
      "Epoch 13/20\n",
      "1/1 [==============================] - 0s 226ms/step - loss: 2.0030 - root_mean_squared_error: 1.3097 - val_loss: 4.1081 - val_root_mean_squared_error: 1.9521\n",
      "Epoch 14/20\n",
      "1/1 [==============================] - 0s 216ms/step - loss: 1.8833 - root_mean_squared_error: 1.2593 - val_loss: 3.7787 - val_root_mean_squared_error: 1.8636\n",
      "Epoch 15/20\n",
      "1/1 [==============================] - 0s 203ms/step - loss: 1.9567 - root_mean_squared_error: 1.2850 - val_loss: 3.5827 - val_root_mean_squared_error: 1.8096\n",
      "Epoch 16/20\n",
      "1/1 [==============================] - 0s 275ms/step - loss: 2.1248 - root_mean_squared_error: 1.3479 - val_loss: 3.4792 - val_root_mean_squared_error: 1.7819\n",
      "Epoch 17/20\n",
      "1/1 [==============================] - 0s 234ms/step - loss: 2.2062 - root_mean_squared_error: 1.3792 - val_loss: 3.4393 - val_root_mean_squared_error: 1.7731\n",
      "Epoch 18/20\n",
      "1/1 [==============================] - 0s 272ms/step - loss: 1.9665 - root_mean_squared_error: 1.2927 - val_loss: 3.4504 - val_root_mean_squared_error: 1.7796\n",
      "Epoch 19/20\n",
      "1/1 [==============================] - 0s 206ms/step - loss: 1.6704 - root_mean_squared_error: 1.1777 - val_loss: 3.5080 - val_root_mean_squared_error: 1.7995\n",
      "Epoch 20/20\n",
      "1/1 [==============================] - 0s 212ms/step - loss: 1.2806 - root_mean_squared_error: 1.0054 - val_loss: 3.6032 - val_root_mean_squared_error: 1.8296\n",
      "----Starting trial: run-8\n",
      "{'HP_NUM_UNITS': 64, 'HP_DROPOUT': 0.5, 'HP_LEARNING_RATE': 0.01, 'HP_REGULARIZER': <tensorflow.python.keras.regularizers.L2 object at 0x7fddd07387f0>}\n",
      "Epoch 1/20\n",
      "1/1 [==============================] - 1s 1s/step - loss: 10.8105 - root_mean_squared_error: 3.2815 - val_loss: 10.2402 - val_root_mean_squared_error: 3.1935\n",
      "Epoch 2/20\n",
      "1/1 [==============================] - 0s 241ms/step - loss: 10.2948 - root_mean_squared_error: 3.2020 - val_loss: 9.7484 - val_root_mean_squared_error: 3.1155\n",
      "Epoch 3/20\n",
      "1/1 [==============================] - 0s 294ms/step - loss: 9.6522 - root_mean_squared_error: 3.1001 - val_loss: 9.2103 - val_root_mean_squared_error: 3.0280\n",
      "Epoch 4/20\n",
      "1/1 [==============================] - 0s 259ms/step - loss: 8.8571 - root_mean_squared_error: 2.9691 - val_loss: 8.6126 - val_root_mean_squared_error: 2.9277\n",
      "Epoch 5/20\n",
      "1/1 [==============================] - 0s 208ms/step - loss: 7.8979 - root_mean_squared_error: 2.8029 - val_loss: 7.9555 - val_root_mean_squared_error: 2.8132\n",
      "Epoch 6/20\n",
      "1/1 [==============================] - 0s 254ms/step - loss: 6.8655 - root_mean_squared_error: 2.6123 - val_loss: 7.2485 - val_root_mean_squared_error: 2.6845\n",
      "Epoch 7/20\n",
      "1/1 [==============================] - 0s 245ms/step - loss: 5.6742 - root_mean_squared_error: 2.3733 - val_loss: 6.5103 - val_root_mean_squared_error: 2.5432\n",
      "Epoch 8/20\n",
      "1/1 [==============================] - 0s 223ms/step - loss: 4.5149 - root_mean_squared_error: 2.1148 - val_loss: 5.7694 - val_root_mean_squared_error: 2.3929\n",
      "Epoch 9/20\n",
      "1/1 [==============================] - 0s 246ms/step - loss: 3.4009 - root_mean_squared_error: 1.8324 - val_loss: 5.0604 - val_root_mean_squared_error: 2.2396\n",
      "Epoch 10/20\n",
      "1/1 [==============================] - 0s 235ms/step - loss: 2.4470 - root_mean_squared_error: 1.5500 - val_loss: 4.4252 - val_root_mean_squared_error: 2.0927\n",
      "Epoch 11/20\n",
      "1/1 [==============================] - 0s 264ms/step - loss: 1.7566 - root_mean_squared_error: 1.3080 - val_loss: 3.9096 - val_root_mean_squared_error: 1.9652\n",
      "Epoch 12/20\n",
      "1/1 [==============================] - 0s 272ms/step - loss: 1.5183 - root_mean_squared_error: 1.2128 - val_loss: 3.5530 - val_root_mean_squared_error: 1.8720\n",
      "Epoch 13/20\n",
      "1/1 [==============================] - 0s 261ms/step - loss: 1.7469 - root_mean_squared_error: 1.3031 - val_loss: 3.3544 - val_root_mean_squared_error: 1.8179\n",
      "Epoch 14/20\n",
      "1/1 [==============================] - 0s 305ms/step - loss: 2.0295 - root_mean_squared_error: 1.4071 - val_loss: 3.2630 - val_root_mean_squared_error: 1.7927\n",
      "Epoch 15/20\n",
      "1/1 [==============================] - 0s 233ms/step - loss: 1.8936 - root_mean_squared_error: 1.3580 - val_loss: 3.2320 - val_root_mean_squared_error: 1.7842\n",
      "Epoch 16/20\n",
      "1/1 [==============================] - 0s 241ms/step - loss: 1.7527 - root_mean_squared_error: 1.3054 - val_loss: 3.2538 - val_root_mean_squared_error: 1.7907\n",
      "Epoch 17/20\n",
      "1/1 [==============================] - 0s 303ms/step - loss: 1.3318 - root_mean_squared_error: 1.1334 - val_loss: 3.3228 - val_root_mean_squared_error: 1.8102\n",
      "Epoch 18/20\n",
      "1/1 [==============================] - 0s 294ms/step - loss: 1.0342 - root_mean_squared_error: 0.9941 - val_loss: 3.4317 - val_root_mean_squared_error: 1.8405\n",
      "Epoch 19/20\n",
      "1/1 [==============================] - 0s 246ms/step - loss: 0.7564 - root_mean_squared_error: 0.8438 - val_loss: 3.5694 - val_root_mean_squared_error: 1.8779\n",
      "Epoch 20/20\n",
      "1/1 [==============================] - 0s 253ms/step - loss: 0.5898 - root_mean_squared_error: 0.7396 - val_loss: 3.7153 - val_root_mean_squared_error: 1.9167\n"
     ]
    }
   ],
   "source": [
    "run_history = {}\n",
    "\n",
    "session_num = 0\n",
    "\n",
    "for num_units in HP_NUM_UNITS:\n",
    "    for dropout_rate in HP_DROPOUT:\n",
    "        for learning_rate in HP_LEARNING_RATE:\n",
    "            for regularization in HP_REGULARIZER:\n",
    "                hparams = {\n",
    "                'HP_NUM_UNITS': num_units,\n",
    "                'HP_DROPOUT': dropout_rate,\n",
    "                'HP_LEARNING_RATE': learning_rate,\n",
    "                'HP_REGULARIZER': regularization,\n",
    "                }\n",
    "                \n",
    "                run_name = \"run-{}\".format(session_num)\n",
    "                print(\"----Starting trial: {}\".format(run_name))\n",
    "                print(hparams)\n",
    "                \n",
    "                output = train_test_model(hparams,)\n",
    "                run_history[run_name] = {\n",
    "                    'params': hparams,\n",
    "                    'output': output,\n",
    "                }\n",
    "                session_num += 1"
   ]
  },
  {
   "cell_type": "code",
   "execution_count": 12,
   "id": "a116cf5d",
   "metadata": {},
   "outputs": [],
   "source": [
    "import matplotlib.pyplot as plt"
   ]
  },
  {
   "cell_type": "code",
   "execution_count": 25,
   "id": "ccafd579",
   "metadata": {},
   "outputs": [
    {
     "data": {
      "text/plain": [
       "9"
      ]
     },
     "execution_count": 25,
     "metadata": {},
     "output_type": "execute_result"
    }
   ],
   "source": [
    "len(run_history.keys())"
   ]
  },
  {
   "cell_type": "code",
   "execution_count": 27,
   "id": "ba815d97",
   "metadata": {
    "collapsed": true
   },
   "outputs": [
    {
     "data": {
      "image/png": "[encoded data removed]",
      "text/plain": [
       "<Figure size 720x1944 with 18 Axes>"
      ]
     },
     "metadata": {
      "needs_background": "light"
     },
     "output_type": "display_data"
    }
   ],
   "source": [
    "fig, axs = plt.subplots(ncols=2, nrows=len(run_history.keys()), figsize=(10, len(run_history.keys())*3))\n",
    "\n",
    "for n, key in enumerate(run_history.keys()):\n",
    "    axs[n,0].plot(run_history[key]['output'].history['loss'], color='r')\n",
    "    axs[n,0].plot(run_history[key]['output'].history['val_loss'], color='b')\n",
    "    \n",
    "    axs[n,1].plot(run_history[key]['output'].history['root_mean_squared_error'], color='r')\n",
    "    axs[n,1].plot(run_history[key]['output'].history['val_root_mean_squared_error'], color='b')\n",
    "    \n",
    "    title_str = '-'.join(str(run_history[key]['params'][param]) for param in run_history[key]['params'].keys())\n",
    "    \n",
    "    axs[n,0].set_title(\"mse {}\".format(key))\n",
    "    axs[n,1].set_title(\"rmse {}\".format(key))\n",
    "    \n",
    "    axs[n,0].set_ylim(0,10)\n",
    "    axs[n,1].set_ylim(0,5)\n",
    "    \n",
    "    axs[n, 1].axhline(2, color='k', lw=1)\n",
    "    \n",
    "plt.tight_layout()   \n",
    "plt.show()"
   ]
  },
  {
   "cell_type": "code",
   "execution_count": 28,
   "id": "c22273c3",
   "metadata": {},
   "outputs": [
    {
     "data": {
      "text/plain": [
       "{'params': {'HP_NUM_UNITS': 64,\n",
       "  'HP_DROPOUT': 0.4,\n",
       "  'HP_LEARNING_RATE': 0.01,\n",
       "  'HP_REGULARIZER': <tensorflow.python.keras.regularizers.L2 at 0x7fddd07383a0>},\n",
       " 'output': <tensorflow.python.keras.callbacks.History at 0x7fde38733ac0>}"
      ]
     },
     "execution_count": 28,
     "metadata": {},
     "output_type": "execute_result"
    }
   ],
   "source": [
    "run_history['run-3']"
   ]
  },
  {
   "cell_type": "code",
   "execution_count": 34,
   "id": "d3e6e4e1",
   "metadata": {},
   "outputs": [
    {
     "data": {
      "text/plain": [
       "array(0.1, dtype=float32)"
      ]
     },
     "execution_count": 34,
     "metadata": {},
     "output_type": "execute_result"
    }
   ],
   "source": [
    "run_history['run-3']['params']['HP_REGULARIZER'].l2"
   ]
  },
  {
   "cell_type": "code",
   "execution_count": 29,
   "id": "5555e915",
   "metadata": {},
   "outputs": [
    {
     "data": {
      "text/plain": [
       "{'params': {'HP_NUM_UNITS': 64,\n",
       "  'HP_DROPOUT': 0.5,\n",
       "  'HP_LEARNING_RATE': 0.01,\n",
       "  'HP_REGULARIZER': <tensorflow.python.keras.regularizers.L2 at 0x7fddd07383a0>},\n",
       " 'output': <tensorflow.python.keras.callbacks.History at 0x7fddd039f3d0>}"
      ]
     },
     "execution_count": 29,
     "metadata": {},
     "output_type": "execute_result"
    }
   ],
   "source": [
    "run_history['run-6']"
   ]
  },
  {
   "cell_type": "code",
   "execution_count": 33,
   "id": "d354689e",
   "metadata": {},
   "outputs": [
    {
     "data": {
      "text/plain": [
       "array(0.1, dtype=float32)"
      ]
     },
     "execution_count": 33,
     "metadata": {},
     "output_type": "execute_result"
    }
   ],
   "source": [
    "run_history['run-6']['params']['HP_REGULARIZER'].l2"
   ]
  },
  {
   "cell_type": "code",
   "execution_count": 35,
   "id": "4915624c",
   "metadata": {
    "collapsed": true
   },
   "outputs": [
    {
     "data": {
      "text/plain": [
       "{'loss': [15.126957893371582,\n",
       "  14.302515029907227,\n",
       "  13.442108154296875,\n",
       "  12.591041564941406,\n",
       "  11.7659330368042,\n",
       "  10.896003723144531,\n",
       "  10.020912170410156,\n",
       "  9.07721996307373,\n",
       "  8.117756843566895,\n",
       "  7.141837120056152,\n",
       "  6.1467413902282715,\n",
       "  5.159980297088623,\n",
       "  4.215908527374268,\n",
       "  3.5021610260009766,\n",
       "  3.0690560340881348,\n",
       "  2.8396730422973633,\n",
       "  2.855475664138794,\n",
       "  2.9151430130004883,\n",
       "  2.8243234157562256,\n",
       "  2.571030616760254],\n",
       " 'root_mean_squared_error': [3.287964344024658,\n",
       "  3.235121488571167,\n",
       "  3.1680960655212402,\n",
       "  3.094359874725342,\n",
       "  3.0162410736083984,\n",
       "  2.9212758541107178,\n",
       "  2.8147876262664795,\n",
       "  2.683695077896118,\n",
       "  2.5347533226013184,\n",
       "  2.364759922027588,\n",
       "  2.168527126312256,\n",
       "  1.9457024335861206,\n",
       "  1.6966429948806763,\n",
       "  1.4740407466888428,\n",
       "  1.314143180847168,\n",
       "  1.2158786058425903,\n",
       "  1.2210086584091187,\n",
       "  1.2576971054077148,\n",
       "  1.2466260194778442,\n",
       "  1.1777936220169067],\n",
       " 'val_loss': [14.20332145690918,\n",
       "  13.404439926147461,\n",
       "  12.630151748657227,\n",
       "  11.865474700927734,\n",
       "  11.107396125793457,\n",
       "  10.357568740844727,\n",
       "  9.61599063873291,\n",
       "  8.882681846618652,\n",
       "  8.158977508544922,\n",
       "  7.4496541023254395,\n",
       "  6.763855457305908,\n",
       "  6.116369247436523,\n",
       "  5.5269269943237305,\n",
       "  5.017137050628662,\n",
       "  4.604236602783203,\n",
       "  4.288974285125732,\n",
       "  4.056947708129883,\n",
       "  3.8804259300231934,\n",
       "  3.739943027496338,\n",
       "  3.6304895877838135],\n",
       " 'val_root_mean_squared_error': [3.219754457473755,\n",
       "  3.1621456146240234,\n",
       "  3.100673198699951,\n",
       "  3.0326974391937256,\n",
       "  2.9572360515594482,\n",
       "  2.873966932296753,\n",
       "  2.7822635173797607,\n",
       "  2.681398868560791,\n",
       "  2.5708422660827637,\n",
       "  2.450596332550049,\n",
       "  2.3215582370758057,\n",
       "  2.186105489730835,\n",
       "  2.048795223236084,\n",
       "  1.917042851448059,\n",
       "  1.8008121252059937,\n",
       "  1.7100763320922852,\n",
       "  1.6503353118896484,\n",
       "  1.6156048774719238,\n",
       "  1.5987839698791504,\n",
       "  1.5957247018814087]}"
      ]
     },
     "execution_count": 35,
     "metadata": {},
     "output_type": "execute_result"
    }
   ],
   "source": [
    "run_history['run-6']['output'].history"
   ]
  },
  {
   "cell_type": "code",
   "execution_count": 37,
   "id": "0b96a47f",
   "metadata": {},
   "outputs": [
    {
     "name": "stdout",
     "output_type": "stream",
     "text": [
      "run-0 <tensorflow.python.keras.regularizers.L2 object at 0x7fddd07383a0>\n",
      "run-1 l2\n",
      "run-2 <tensorflow.python.keras.regularizers.L2 object at 0x7fddd07387f0>\n",
      "run-3 <tensorflow.python.keras.regularizers.L2 object at 0x7fddd07383a0>\n",
      "run-4 l2\n",
      "run-5 <tensorflow.python.keras.regularizers.L2 object at 0x7fddd07387f0>\n",
      "run-6 <tensorflow.python.keras.regularizers.L2 object at 0x7fddd07383a0>\n",
      "run-7 l2\n",
      "run-8 <tensorflow.python.keras.regularizers.L2 object at 0x7fddd07387f0>\n"
     ]
    }
   ],
   "source": [
    "for key in run_history.keys():\n",
    "    print(key, run_history[key]['params']['HP_REGULARIZER'])"
   ]
  },
  {
   "cell_type": "code",
   "execution_count": 46,
   "id": "e7a10121",
   "metadata": {},
   "outputs": [
    {
     "data": {
      "text/plain": [
       "tensorflow.python.keras.regularizers.L2"
      ]
     },
     "execution_count": 46,
     "metadata": {},
     "output_type": "execute_result"
    }
   ],
   "source": [
    "type(run_history['run-6']['params']['HP_REGULARIZER'])"
   ]
  },
  {
   "cell_type": "code",
   "execution_count": 60,
   "id": "2d85c91f",
   "metadata": {},
   "outputs": [
    {
     "data": {
      "text/plain": [
       "dict_keys(['run-0', 'run-1', 'run-2', 'run-3', 'run-4', 'run-5', 'run-6', 'run-7', 'run-8', 'batch_size', 'n_epochs'])"
      ]
     },
     "execution_count": 60,
     "metadata": {},
     "output_type": "execute_result"
    }
   ],
   "source": [
    "run_history.keys()"
   ]
  },
  {
   "cell_type": "code",
   "execution_count": 36,
   "id": "cbda0065",
   "metadata": {},
   "outputs": [],
   "source": [
    "import json"
   ]
  },
  {
   "cell_type": "code",
   "execution_count": 114,
   "id": "f6cc232c",
   "metadata": {},
   "outputs": [],
   "source": [
    "def export_history(run_history, batch_size, n_epochs, save_path):\n",
    "    history_dict = run_history.copy()\n",
    "    for key in history_dict:\n",
    "        if history_dict[key]['params']['HP_REGULARIZER']=='l2':\n",
    "            \n",
    "            history_dict[key]['params']['HP_REGULARIZER'] = list(.01)\n",
    "        else:\n",
    "            try:\n",
    "                history_dict[key]['params']['HP_REGULARIZER'] = history_dict[key]['params']['HP_REGULARIZER'].l2.tolist()\n",
    "            except:\n",
    "                pass   \n",
    "        if type(history_dict[key]['params']['HP_REGULARIZER']) == np.ndarray:\n",
    "            history_dict[key]['params']['HP_REGULARIZER'] = history_dict[key]['params']['HP_REGULARIZER'].tolist()\n",
    "        history_dict[key]['params']['batch_size'] = batch_size\n",
    "        history_dict[key]['params']['n_epochs'] = n_epochs\n",
    "        \n",
    "        try:\n",
    "            history_dict[key]['output'] = history_dict[key]['output'].history\n",
    "        except:\n",
    "            history_dict[key]['output'] = history_dict[key]['output']\n",
    "      \n",
    "    with open(save_path, 'w') as f:\n",
    "        json.dump(history_dict, f)\n",
    "    \n",
    "    return history_dict\n",
    "\n",
    "new_dict = export_history(run_history, 10000, 20, \"./run_history/model3.json\")"
   ]
  },
  {
   "cell_type": "code",
   "execution_count": 65,
   "id": "66b89262",
   "metadata": {},
   "outputs": [
    {
     "data": {
      "text/plain": [
       "dict_keys(['run-0', 'run-1', 'run-2', 'run-3', 'run-4', 'run-5', 'run-6', 'run-7', 'run-8'])"
      ]
     },
     "execution_count": 65,
     "metadata": {},
     "output_type": "execute_result"
    }
   ],
   "source": [
    "run_history.keys()"
   ]
  },
  {
   "cell_type": "code",
   "execution_count": 81,
   "id": "9a23e15b",
   "metadata": {
    "collapsed": true
   },
   "outputs": [
    {
     "data": {
      "text/plain": [
       "{'loss': [10.810523986816406,\n",
       "  10.294780731201172,\n",
       "  9.652180671691895,\n",
       "  8.857110023498535,\n",
       "  7.897888660430908,\n",
       "  6.865461826324463,\n",
       "  5.67415714263916,\n",
       "  4.514880180358887,\n",
       "  3.4009149074554443,\n",
       "  2.447021961212158,\n",
       "  1.7566146850585938,\n",
       "  1.5183496475219727,\n",
       "  1.7468785047531128,\n",
       "  2.0295066833496094,\n",
       "  1.8936409950256348,\n",
       "  1.752683401107788,\n",
       "  1.331841230392456,\n",
       "  1.0341793298721313,\n",
       "  0.7563908100128174,\n",
       "  0.5898122191429138],\n",
       " 'root_mean_squared_error': [3.2814857959747314,\n",
       "  3.201984405517578,\n",
       "  3.1000566482543945,\n",
       "  2.9691050052642822,\n",
       "  2.802945613861084,\n",
       "  2.612276315689087,\n",
       "  2.373255729675293,\n",
       "  2.114821195602417,\n",
       "  1.8323849439620972,\n",
       "  1.55003023147583,\n",
       "  1.3079673051834106,\n",
       "  1.212824821472168,\n",
       "  1.3030996322631836,\n",
       "  1.407117486000061,\n",
       "  1.3580347299575806,\n",
       "  1.3054113388061523,\n",
       "  1.133354902267456,\n",
       "  0.9941335916519165,\n",
       "  0.8438369035720825,\n",
       "  0.739603579044342],\n",
       " 'val_loss': [10.240217208862305,\n",
       "  9.748448371887207,\n",
       "  9.210306167602539,\n",
       "  8.612605094909668,\n",
       "  7.955528736114502,\n",
       "  7.248509407043457,\n",
       "  6.510305404663086,\n",
       "  5.76938009262085,\n",
       "  5.060407638549805,\n",
       "  4.425164222717285,\n",
       "  3.90956974029541,\n",
       "  3.553044319152832,\n",
       "  3.3544082641601562,\n",
       "  3.2629919052124023,\n",
       "  3.231971502304077,\n",
       "  3.2537765502929688,\n",
       "  3.322848320007324,\n",
       "  3.431746244430542,\n",
       "  3.5693576335906982,\n",
       "  3.7152938842773438],\n",
       " 'val_root_mean_squared_error': [3.193452835083008,\n",
       "  3.115544557571411,\n",
       "  3.0279996395111084,\n",
       "  2.9276647567749023,\n",
       "  2.813192844390869,\n",
       "  2.6845288276672363,\n",
       "  2.5432052612304688,\n",
       "  2.3929271697998047,\n",
       "  2.239638090133667,\n",
       "  2.092684268951416,\n",
       "  1.9652389287948608,\n",
       "  1.8719600439071655,\n",
       "  1.817933201789856,\n",
       "  1.792654275894165,\n",
       "  1.7842048406600952,\n",
       "  1.7906503677368164,\n",
       "  1.8102405071258545,\n",
       "  1.8404934406280518,\n",
       "  1.877913475036621,\n",
       "  1.9167400598526]}"
      ]
     },
     "execution_count": 81,
     "metadata": {},
     "output_type": "execute_result"
    }
   ],
   "source": [
    "run_history['run-8']['output']"
   ]
  },
  {
   "cell_type": "code",
   "execution_count": 99,
   "id": "68995109",
   "metadata": {
    "collapsed": true
   },
   "outputs": [
    {
     "ename": "NameError",
     "evalue": "name 'new_dict' is not defined",
     "output_type": "error",
     "traceback": [
      "\u001b[0;31m---------------------------------------------------------------------------\u001b[0m",
      "\u001b[0;31mNameError\u001b[0m                                 Traceback (most recent call last)",
      "\u001b[0;32m<ipython-input-99-d3a8fcfedf0c>\u001b[0m in \u001b[0;36m<module>\u001b[0;34m\u001b[0m\n\u001b[1;32m      1\u001b[0m \u001b[0;31m# del run_history['batch_size']\u001b[0m\u001b[0;34m\u001b[0m\u001b[0;34m\u001b[0m\u001b[0;34m\u001b[0m\u001b[0m\n\u001b[1;32m      2\u001b[0m \u001b[0;31m# del run_history['n_epochs']\u001b[0m\u001b[0;34m\u001b[0m\u001b[0;34m\u001b[0m\u001b[0;34m\u001b[0m\u001b[0m\n\u001b[0;32m----> 3\u001b[0;31m \u001b[0;32mdel\u001b[0m \u001b[0mnew_dict\u001b[0m\u001b[0;34m\u001b[0m\u001b[0;34m\u001b[0m\u001b[0m\n\u001b[0m",
      "\u001b[0;31mNameError\u001b[0m: name 'new_dict' is not defined"
     ]
    }
   ],
   "source": [
    "# del run_history['batch_size']\n",
    "# del run_history['n_epochs']\n",
    "del new_dict"
   ]
  },
  {
   "cell_type": "code",
   "execution_count": 115,
   "id": "d6c301d0",
   "metadata": {},
   "outputs": [],
   "source": [
    "new_dict = export_history(run_history, 10000, 20, \"./run_history/model3.json\")"
   ]
  },
  {
   "cell_type": "code",
   "execution_count": null,
   "id": "5515a36b",
   "metadata": {},
   "outputs": [],
   "source": []
  },
  {
   "cell_type": "code",
   "execution_count": 116,
   "id": "3d623231",
   "metadata": {},
   "outputs": [
    {
     "data": {
      "text/plain": [
       "dict_keys(['run-0', 'run-1', 'run-2', 'run-3', 'run-4', 'run-5', 'run-6', 'run-7', 'run-8'])"
      ]
     },
     "execution_count": 116,
     "metadata": {},
     "output_type": "execute_result"
    }
   ],
   "source": [
    "new_dict.keys()"
   ]
  },
  {
   "cell_type": "code",
   "execution_count": 117,
   "id": "3f0e05b2",
   "metadata": {},
   "outputs": [
    {
     "data": {
      "text/plain": [
       "{'params': {'HP_NUM_UNITS': 64,\n",
       "  'HP_DROPOUT': 0.3,\n",
       "  'HP_LEARNING_RATE': 0.01,\n",
       "  'HP_REGULARIZER': 0.10000000149011612,\n",
       "  'batch_size': 10000,\n",
       "  'n_epochs': 20},\n",
       " 'output': {'loss': [14.976187705993652,\n",
       "   14.093539237976074,\n",
       "   13.202536582946777,\n",
       "   12.304670333862305,\n",
       "   11.410916328430176,\n",
       "   10.428725242614746,\n",
       "   9.444127082824707,\n",
       "   8.385875701904297,\n",
       "   7.280162334442139,\n",
       "   6.192324638366699,\n",
       "   5.0996856689453125,\n",
       "   4.169384002685547,\n",
       "   3.395491600036621,\n",
       "   2.97196888923645,\n",
       "   2.8164844512939453,\n",
       "   2.9375085830688477,\n",
       "   2.8595614433288574,\n",
       "   2.6980714797973633,\n",
       "   2.350900411605835,\n",
       "   1.953698754310608],\n",
       "  'root_mean_squared_error': [3.2856204509735107,\n",
       "   3.222083568572998,\n",
       "   3.1482722759246826,\n",
       "   3.0645558834075928,\n",
       "   2.9717767238616943,\n",
       "   2.852684736251831,\n",
       "   2.719496965408325,\n",
       "   2.5563395023345947,\n",
       "   2.362865686416626,\n",
       "   2.14660906791687,\n",
       "   1.8944929838180542,\n",
       "   1.6422537565231323,\n",
       "   1.3896390199661255,\n",
       "   1.2231523990631104,\n",
       "   1.1540451049804688,\n",
       "   1.2127646207809448,\n",
       "   1.2036657333374023,\n",
       "   1.1720786094665527,\n",
       "   1.0638649463653564,\n",
       "   0.9210855960845947],\n",
       "  'val_loss': [14.021441459655762,\n",
       "   13.211997032165527,\n",
       "   12.414798736572266,\n",
       "   11.616886138916016,\n",
       "   10.820662498474121,\n",
       "   10.028039932250977,\n",
       "   9.238724708557129,\n",
       "   8.455011367797852,\n",
       "   7.683039665222168,\n",
       "   6.935445785522461,\n",
       "   6.232804775238037,\n",
       "   5.6015095710754395,\n",
       "   5.068932056427002,\n",
       "   4.653796672821045,\n",
       "   4.346997261047363,\n",
       "   4.120769500732422,\n",
       "   3.9460129737854004,\n",
       "   3.808434247970581,\n",
       "   3.708115577697754,\n",
       "   3.6468820571899414],\n",
       "  'val_root_mean_squared_error': [3.210876226425171,\n",
       "   3.1497743129730225,\n",
       "   3.0824716091156006,\n",
       "   3.0062313079833984,\n",
       "   2.9205729961395264,\n",
       "   2.8248143196105957,\n",
       "   2.718035936355591,\n",
       "   2.599612236022949,\n",
       "   2.46954345703125,\n",
       "   2.3291337490081787,\n",
       "   2.181838274002075,\n",
       "   2.033989906311035,\n",
       "   1.895538091659546,\n",
       "   1.7802056074142456,\n",
       "   1.6971408128738403,\n",
       "   1.6462137699127197,\n",
       "   1.6191693544387817,\n",
       "   1.6091433763504028,\n",
       "   1.6133244037628174,\n",
       "   1.6294200420379639]}}"
      ]
     },
     "execution_count": 117,
     "metadata": {},
     "output_type": "execute_result"
    }
   ],
   "source": [
    "new_dict['run-0']"
   ]
  },
  {
   "cell_type": "code",
   "execution_count": 86,
   "id": "0705c2ad",
   "metadata": {},
   "outputs": [
    {
     "name": "stdout",
     "output_type": "stream",
     "text": [
      "run-0 0.1\n",
      "run-1 0.01\n",
      "run-2 0.001\n",
      "run-3 0.1\n",
      "run-4 0.01\n",
      "run-5 0.001\n",
      "run-6 0.1\n",
      "run-7 0.01\n",
      "run-8 0.001\n"
     ]
    }
   ],
   "source": [
    "for key in new_dict.keys():\n",
    "    if 'run' in key:\n",
    "        print(key, new_dict[key]['params']['HP_REGULARIZER'])"
   ]
  },
  {
   "cell_type": "code",
   "execution_count": null,
   "id": "f5906cb2",
   "metadata": {},
   "outputs": [],
   "source": []
  },
  {
   "cell_type": "code",
   "execution_count": 42,
   "id": "7af19643",
   "metadata": {},
   "outputs": [
    {
     "data": {
      "text/plain": [
       "'l2'"
      ]
     },
     "execution_count": 42,
     "metadata": {},
     "output_type": "execute_result"
    }
   ],
   "source": [
    "new_dict['run-1']['params']['HP_REGULARIZER']"
   ]
  },
  {
   "cell_type": "code",
   "execution_count": 87,
   "id": "fd1ac88b",
   "metadata": {},
   "outputs": [
    {
     "data": {
      "text/plain": [
       "{'HP_NUM_UNITS': 64,\n",
       " 'HP_DROPOUT': 0.3,\n",
       " 'HP_LEARNING_RATE': 0.01,\n",
       " 'HP_REGULARIZER': array(0.01, dtype=float32),\n",
       " 'batch_size': 10000,\n",
       " 'n_epochs': 20}"
      ]
     },
     "execution_count": 87,
     "metadata": {},
     "output_type": "execute_result"
    }
   ],
   "source": [
    "new_dict['run-1']['params']"
   ]
  },
  {
   "cell_type": "code",
   "execution_count": 113,
   "id": "b3ad8ad0",
   "metadata": {},
   "outputs": [
    {
     "data": {
      "text/plain": [
       "numpy.ndarray"
      ]
     },
     "execution_count": 113,
     "metadata": {},
     "output_type": "execute_result"
    }
   ],
   "source": [
    "type(run_history['run-1']['params']['HP_REGULARIZER'])"
   ]
  },
  {
   "cell_type": "code",
   "execution_count": 107,
   "id": "acbddc06",
   "metadata": {},
   "outputs": [
    {
     "ename": "NameError",
     "evalue": "name 'new_dict' is not defined",
     "output_type": "error",
     "traceback": [
      "\u001b[0;31m---------------------------------------------------------------------------\u001b[0m",
      "\u001b[0;31mNameError\u001b[0m                                 Traceback (most recent call last)",
      "\u001b[0;32m<ipython-input-107-c8599e8297af>\u001b[0m in \u001b[0;36m<module>\u001b[0;34m\u001b[0m\n\u001b[0;32m----> 1\u001b[0;31m \u001b[0mnew_dict\u001b[0m\u001b[0;34m[\u001b[0m\u001b[0;34m'run-1'\u001b[0m\u001b[0;34m]\u001b[0m\u001b[0;34m[\u001b[0m\u001b[0;34m'output'\u001b[0m\u001b[0;34m]\u001b[0m\u001b[0;34m\u001b[0m\u001b[0;34m\u001b[0m\u001b[0m\n\u001b[0m",
      "\u001b[0;31mNameError\u001b[0m: name 'new_dict' is not defined"
     ]
    }
   ],
   "source": [
    "new_dict['run-1']['output']"
   ]
  },
  {
   "cell_type": "code",
   "execution_count": null,
   "id": "871ce815",
   "metadata": {},
   "outputs": [],
   "source": []
  }
 ],
 "metadata": {
  "kernelspec": {
   "display_name": "tf_env",
   "language": "python",
   "name": "tf_env"
  },
  "language_info": {
   "codemirror_mode": {
    "name": "ipython",
    "version": 3
   },
   "file_extension": ".py",
   "mimetype": "text/x-python",
   "name": "python",
   "nbconvert_exporter": "python",
   "pygments_lexer": "ipython3",
   "version": "3.8.5"
  }
 },
 "nbformat": 4,
 "nbformat_minor": 5
}
