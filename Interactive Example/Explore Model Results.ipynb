{
 "cells": [
  {
   "cell_type": "markdown",
   "metadata": {},
   "source": [
    "# Movie Recommendations for MUBI Users"
   ]
  },
  {
   "cell_type": "markdown",
   "metadata": {},
   "source": [
    "Final Springboard Capstone, by Sahar Manavi. project repo: https://github.com/smanavi/Springboard-Capstone-Three"
   ]
  },
  {
   "cell_type": "markdown",
   "metadata": {},
   "source": [
    "### Hello! This notebook requires a few companion files and libraries to run. "
   ]
  },
  {
   "cell_type": "markdown",
   "metadata": {},
   "source": [
    "First, you need numpy and pandas installed in the kernel you are running this notebook from. If you don't have these, please uncomment and run the following cell.  "
   ]
  },
  {
   "cell_type": "code",
   "execution_count": null,
   "metadata": {},
   "outputs": [],
   "source": [
    "# import sys\n",
    "# !{sys.executable} -m pip install numpy\n",
    "# !{sys.executable} -m pip install pandas"
   ]
  },
  {
   "cell_type": "markdown",
   "metadata": {},
   "source": [
    "In addition to this notebook, you also need:\n",
    "* get_recs.py\n",
    "* translation_dict.json\n",
    "\n",
    "These can be found at the following github link, and need to be placed in the same local folder as this notebook.\n",
    "> ***LINK GOES HERE***"
   ]
  },
  {
   "cell_type": "markdown",
   "metadata": {},
   "source": [
    "Finally, running this notebook will load two pandas dataframes that come from two different Google Sheets. You will see the links for the sheets below, and you are welcome to inspect them before they are loaded. "
   ]
  },
  {
   "cell_type": "code",
   "execution_count": 9,
   "metadata": {},
   "outputs": [
    {
     "name": "stdout",
     "output_type": "stream",
     "text": [
      "The autoreload extension is already loaded. To reload it, use:\n",
      "  %reload_ext autoreload\n"
     ]
    }
   ],
   "source": [
    "import get_recs\n",
    "\n",
    "%load_ext autoreload\n",
    "%autoreload 2"
   ]
  },
  {
   "cell_type": "markdown",
   "metadata": {},
   "source": [
    "#### 1. Instantiate the class"
   ]
  },
  {
   "cell_type": "code",
   "execution_count": 58,
   "metadata": {},
   "outputs": [
    {
     "name": "stdout",
     "output_type": "stream",
     "text": [
      "Hello! This class will load two Google Sheets in addition to the JSON file downloaded with the script and notebook.\n",
      "If you wish, you can inspect the sheets prior to beginning at the following urls:\n",
      "https://docs.google.com/spreadsheets/d/1olKN3RWDIFGG1cQ6NA8x_26PpFJ8Umu31GfzSvgGfvs/edit#gid=121740241\n",
      "https://docs.google.com/spreadsheets/d/1dY-Bj_1P0YavMa-e7F37MtR8Y10ZpyhPuUK91M7z5JU/edit#gid=1293929908\n",
      "\n",
      "You may also download and use the csv with suggestions for 1000 users. The URL for that is here:\n",
      "https://drive.google.com/file/d/1URuF9NYKas5pZPqYcxlx5QeCBOtbqa_w/view?usp=sharing\n"
     ]
    }
   ],
   "source": [
    "recs = get_recs.GetRecommendations()"
   ]
  },
  {
   "cell_type": "markdown",
   "metadata": {},
   "source": [
    "#### 2. Load the libraries and dataframes"
   ]
  },
  {
   "cell_type": "code",
   "execution_count": 70,
   "metadata": {},
   "outputs": [
    {
     "name": "stdout",
     "output_type": "stream",
     "text": [
      "This might take a few minutes depending on your internet connection.\n"
     ]
    }
   ],
   "source": [
    "recs.get_started()"
   ]
  },
  {
   "cell_type": "markdown",
   "metadata": {},
   "source": [
    "A user is chosen at random by default. You may also specify a particular user. You can inspect the list of possible user IDs by calling user_list."
   ]
  },
  {
   "cell_type": "code",
   "execution_count": 71,
   "metadata": {},
   "outputs": [
    {
     "data": {
      "text/plain": [
       "[30637830, 43744268, 32627933, 51927810, 50184113]"
      ]
     },
     "execution_count": 71,
     "metadata": {},
     "output_type": "execute_result"
    }
   ],
   "source": [
    "recs.user_list"
   ]
  },
  {
   "cell_type": "markdown",
   "metadata": {},
   "source": [
    "You can also look up the current user ID by calling user_id."
   ]
  },
  {
   "cell_type": "code",
   "execution_count": 15,
   "metadata": {},
   "outputs": [
    {
     "data": {
      "text/plain": [
       "4690952"
      ]
     },
     "execution_count": 15,
     "metadata": {},
     "output_type": "execute_result"
    }
   ],
   "source": [
    "recs.user_id"
   ]
  },
  {
   "cell_type": "markdown",
   "metadata": {},
   "source": [
    "If you wish to select a new user to explore, you just need to rerun establish_user_stats."
   ]
  },
  {
   "cell_type": "code",
   "execution_count": 85,
   "metadata": {},
   "outputs": [
    {
     "data": {
      "text/plain": [
       "43744268"
      ]
     },
     "execution_count": 85,
     "metadata": {},
     "output_type": "execute_result"
    }
   ],
   "source": [
    "recs.establish_user_stats(43744268)\n",
    "recs.user_id"
   ]
  },
  {
   "cell_type": "markdown",
   "metadata": {},
   "source": [
    "#### 3. Learn a bit about the user."
   ]
  },
  {
   "cell_type": "markdown",
   "metadata": {},
   "source": [
    "You can see their highest and lowest rated movies, their mean rating, how well the model did in classifying their reviews, and how many reviews they've made."
   ]
  },
  {
   "cell_type": "code",
   "execution_count": 86,
   "metadata": {},
   "outputs": [
    {
     "name": "stdout",
     "output_type": "stream",
     "text": [
      "Here are 3 of this user's top rated movies:\n",
      "Apocalypse Now  (5/5)\n",
      "Amadeus  (5/5)\n",
      "Some Like It Hot  (5/5)\n"
     ]
    }
   ],
   "source": [
    "recs.get_user_top_movies(n=3)"
   ]
  },
  {
   "cell_type": "code",
   "execution_count": 87,
   "metadata": {},
   "outputs": [
    {
     "name": "stdout",
     "output_type": "stream",
     "text": [
      "Here are 3 of this user's lowest rated movies:\n",
      "Eternal Sunshine of the Spotless Mind  (2/5)\n",
      "RoboCop  (3/5)\n",
      "Punch-Drunk Love  (3/5)\n"
     ]
    }
   ],
   "source": [
    "recs.get_user_bottom_movies(n=3)"
   ]
  },
  {
   "cell_type": "code",
   "execution_count": 88,
   "metadata": {
    "scrolled": true
   },
   "outputs": [
    {
     "name": "stdout",
     "output_type": "stream",
     "text": [
      "This user has 32 reviews on record.\n"
     ]
    }
   ],
   "source": [
    "recs.get_user_n_reviews()"
   ]
  },
  {
   "cell_type": "code",
   "execution_count": 89,
   "metadata": {},
   "outputs": [
    {
     "name": "stdout",
     "output_type": "stream",
     "text": [
      "This user's average rating is 4.0.\n"
     ]
    }
   ],
   "source": [
    "recs.get_user_mean()"
   ]
  },
  {
   "cell_type": "code",
   "execution_count": 90,
   "metadata": {},
   "outputs": [
    {
     "name": "stdout",
     "output_type": "stream",
     "text": [
      "This user's predictions were accurate 71.88% of the time.\n"
     ]
    }
   ],
   "source": [
    "recs.get_user_model_performance()"
   ]
  },
  {
   "cell_type": "markdown",
   "metadata": {},
   "source": [
    "#### 4. Get some recommendations!"
   ]
  },
  {
   "cell_type": "markdown",
   "metadata": {},
   "source": [
    "Run multiple times to get new randomly generated results."
   ]
  },
  {
   "cell_type": "code",
   "execution_count": 91,
   "metadata": {
    "scrolled": true
   },
   "outputs": [
    {
     "name": "stdout",
     "output_type": "stream",
     "text": [
      "Suggestion: Principles of Life. Estimated rating: 4.7.\n",
      "Suggestion: They Killed Sister Dorothy. Estimated rating: 4.7.\n",
      "Suggestion: Hell House LLC. Estimated rating: 4.6.\n",
      "Suggestion: First Light. Estimated rating: 4.6.\n",
      "Suggestion: The Box Man. Estimated rating: 4.5.\n"
     ]
    }
   ],
   "source": [
    "recs.get_recs(n_recs=5)"
   ]
  },
  {
   "cell_type": "code",
   "execution_count": 95,
   "metadata": {},
   "outputs": [
    {
     "name": "stdout",
     "output_type": "stream",
     "text": [
      "Suggestion: Boulevard Nights. Estimated rating: 4.8.\n",
      "Suggestion: Gravity. Estimated rating: 4.7.\n",
      "Suggestion: Tribute. Estimated rating: 4.7.\n",
      "Suggestion: Up!. Estimated rating: 4.6.\n",
      "Suggestion: Elephant. Estimated rating: 4.5.\n"
     ]
    }
   ],
   "source": [
    "recs.get_recs(n_recs=5)"
   ]
  },
  {
   "cell_type": "markdown",
   "metadata": {},
   "source": [
    "Or you can run one big chunk."
   ]
  },
  {
   "cell_type": "code",
   "execution_count": 93,
   "metadata": {},
   "outputs": [
    {
     "name": "stdout",
     "output_type": "stream",
     "text": [
      "Suggestion: Salt and Fire. Estimated rating: 4.6.\n",
      "Suggestion: Batman: Dead End. Estimated rating: 4.5.\n",
      "Suggestion: Architecture of Infinity. Estimated rating: 4.5.\n",
      "Suggestion: Bitter Flowers. Estimated rating: 4.5.\n",
      "Suggestion: Aruna and Her Palate. Estimated rating: 4.5.\n",
      "Suggestion: Get Him to the Greek. Estimated rating: 4.4.\n",
      "Suggestion: Arthur. Estimated rating: 4.4.\n",
      "Suggestion: A Phantasy. Estimated rating: 4.4.\n",
      "Suggestion: The Fourth Piece Of The Woman Sliced in Three. Estimated rating: 4.4.\n",
      "Suggestion: Because of the Cats. Estimated rating: 4.4.\n",
      "Suggestion: Crooklyn. Estimated rating: 4.3.\n",
      "Suggestion: Wonderful Town. Estimated rating: 4.3.\n",
      "Suggestion: Bugsy. Estimated rating: 4.3.\n",
      "Suggestion: Inside No. 9: Sardines. Estimated rating: 4.3.\n",
      "Suggestion: Wish I Was Here. Estimated rating: 4.3.\n",
      "Suggestion: Change of Life. Estimated rating: 4.3.\n",
      "Suggestion: My Annoying Brother. Estimated rating: 4.3.\n",
      "Suggestion: Deadhead Miles. Estimated rating: 4.2.\n",
      "Suggestion: Almost Blue. Estimated rating: 4.2.\n",
      "Suggestion: Waterloo Bridge. Estimated rating: 4.2.\n"
     ]
    }
   ],
   "source": [
    "recs.get_recs(n_recs=20)"
   ]
  },
  {
   "cell_type": "code",
   "execution_count": null,
   "metadata": {},
   "outputs": [],
   "source": []
  }
 ],
 "metadata": {
  "kernelspec": {
   "display_name": "keras",
   "language": "python",
   "name": "keras"
  },
  "language_info": {
   "codemirror_mode": {
    "name": "ipython",
    "version": 3
   },
   "file_extension": ".py",
   "mimetype": "text/x-python",
   "name": "python",
   "nbconvert_exporter": "python",
   "pygments_lexer": "ipython3",
   "version": "3.8.5"
  }
 },
 "nbformat": 4,
 "nbformat_minor": 5
}
