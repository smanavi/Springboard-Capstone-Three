{
 "cells": [
  {
   "cell_type": "markdown",
   "metadata": {},
   "source": [
    "# Movie Recommendations for MUBI Users"
   ]
  },
  {
   "cell_type": "markdown",
   "metadata": {},
   "source": [
    "Final Springboard Capstone, by Sahar Manavi. project repo: https://github.com/smanavi/Springboard-Capstone-Three"
   ]
  },
  {
   "cell_type": "markdown",
   "metadata": {},
   "source": [
    "### Hello! This notebook requires a few companion files and libraries to run. "
   ]
  },
  {
   "cell_type": "markdown",
   "metadata": {},
   "source": [
    "First, you need numpy and pandas installed in the kernel you are running this notebook from. If you don't have these, please uncomment and run the following cell.  "
   ]
  },
  {
   "cell_type": "code",
   "execution_count": null,
   "metadata": {},
   "outputs": [],
   "source": [
    "# import sys\n",
    "# !{sys.executable} -m pip install numpy\n",
    "# !{sys.executable} -m pip install pandas"
   ]
  },
  {
   "cell_type": "markdown",
   "metadata": {},
   "source": [
    "In addition to this notebook, you also need:\n",
    "* get_recs.py\n",
    "* translation_dict.json\n",
    "\n",
    "These can be found at the following github link, and need to be placed in the same local folder as this notebook.\n",
    "> https://github.com/smanavi/Springboard-Capstone-Three/tree/main/Interactive%20Example"
   ]
  },
  {
   "cell_type": "markdown",
   "metadata": {},
   "source": [
    "Finally, running this notebook will load two pandas dataframes that come from two different Google Sheets. You will see the links for the sheets below, and you are welcome to inspect them before they are loaded. "
   ]
  },
  {
   "cell_type": "markdown",
   "metadata": {},
   "source": [
    "#### 1. Import the script and instantiate the class"
   ]
  },
  {
   "cell_type": "code",
   "execution_count": 1,
   "metadata": {},
   "outputs": [
    {
     "name": "stdout",
     "output_type": "stream",
     "text": [
      "Hello! This class will load two Google Sheets in addition to the JSON file downloaded with the script and notebook.\n",
      "If you wish, you can inspect the sheets prior to beginning at the following urls:\n",
      "https://docs.google.com/spreadsheets/d/1olKN3RWDIFGG1cQ6NA8x_26PpFJ8Umu31GfzSvgGfvs/edit#gid=121740241\n",
      "https://docs.google.com/spreadsheets/d/1dY-Bj_1P0YavMa-e7F37MtR8Y10ZpyhPuUK91M7z5JU/edit#gid=1293929908\n",
      "\n",
      "You may also download and use the csv with suggestions for 1000 users. The URL for that is here:\n",
      "https://drive.google.com/file/d/1URuF9NYKas5pZPqYcxlx5QeCBOtbqa_w/view?usp=sharing\n"
     ]
    }
   ],
   "source": [
    "import get_recs\n",
    "recs = get_recs.GetRecommendations(MUBI_user_id='random', recommendations='use_short', print_welcome=True)"
   ]
  },
  {
   "cell_type": "markdown",
   "metadata": {},
   "source": [
    "To use the 1k user csv, make sure the csv is in the same folder as this notebook, and set the recommendations param above to \"use_long\"."
   ]
  },
  {
   "cell_type": "markdown",
   "metadata": {},
   "source": [
    "#### 2. Load the dictionaries and dataframes"
   ]
  },
  {
   "cell_type": "code",
   "execution_count": 2,
   "metadata": {},
   "outputs": [
    {
     "name": "stdout",
     "output_type": "stream",
     "text": [
      "This might take a few minutes depending on your internet connection.\n"
     ]
    }
   ],
   "source": [
    "recs.get_started()"
   ]
  },
  {
   "cell_type": "markdown",
   "metadata": {},
   "source": [
    "A user is chosen at random by default. You may also specify a particular user. You can inspect the list of possible user IDs by calling user_list."
   ]
  },
  {
   "cell_type": "code",
   "execution_count": 3,
   "metadata": {},
   "outputs": [
    {
     "data": {
      "text/plain": [
       "[30637830, 43744268, 32627933, 51927810, 50184113]"
      ]
     },
     "execution_count": 3,
     "metadata": {},
     "output_type": "execute_result"
    }
   ],
   "source": [
    "recs.user_list"
   ]
  },
  {
   "cell_type": "markdown",
   "metadata": {},
   "source": [
    "You can also look up the current user ID by calling user_id."
   ]
  },
  {
   "cell_type": "code",
   "execution_count": 4,
   "metadata": {},
   "outputs": [
    {
     "data": {
      "text/plain": [
       "50184113"
      ]
     },
     "execution_count": 4,
     "metadata": {},
     "output_type": "execute_result"
    }
   ],
   "source": [
    "recs.user_id"
   ]
  },
  {
   "cell_type": "markdown",
   "metadata": {},
   "source": [
    "If you wish to select a new user to explore, you just need to rerun establish_user_stats."
   ]
  },
  {
   "cell_type": "code",
   "execution_count": 5,
   "metadata": {},
   "outputs": [
    {
     "data": {
      "text/plain": [
       "43744268"
      ]
     },
     "execution_count": 5,
     "metadata": {},
     "output_type": "execute_result"
    }
   ],
   "source": [
    "recs.establish_user_stats(43744268)\n",
    "recs.user_id"
   ]
  },
  {
   "cell_type": "markdown",
   "metadata": {},
   "source": [
    "#### 3. Learn a bit about the user."
   ]
  },
  {
   "cell_type": "markdown",
   "metadata": {},
   "source": [
    "You can see their highest and lowest rated movies, their mean rating, how well the model did in classifying their reviews, and how many reviews they've made."
   ]
  },
  {
   "cell_type": "code",
   "execution_count": 6,
   "metadata": {},
   "outputs": [
    {
     "name": "stdout",
     "output_type": "stream",
     "text": [
      "Here are 3 of this user's top rated movies:\n",
      "Amadeus  (5/5)\n",
      "Brokeback Mountain  (5/5)\n",
      "The Exorcist  (5/5)\n"
     ]
    }
   ],
   "source": [
    "recs.get_user_top_movies(n=3)"
   ]
  },
  {
   "cell_type": "code",
   "execution_count": 7,
   "metadata": {},
   "outputs": [
    {
     "name": "stdout",
     "output_type": "stream",
     "text": [
      "Here are 3 of this user's lowest rated movies:\n",
      "Eternal Sunshine of the Spotless Mind  (2/5)\n",
      "RoboCop  (3/5)\n",
      "Punch-Drunk Love  (3/5)\n"
     ]
    }
   ],
   "source": [
    "recs.get_user_bottom_movies(n=3)"
   ]
  },
  {
   "cell_type": "code",
   "execution_count": 8,
   "metadata": {
    "scrolled": true
   },
   "outputs": [
    {
     "name": "stdout",
     "output_type": "stream",
     "text": [
      "This user has 32 reviews on record.\n"
     ]
    }
   ],
   "source": [
    "recs.get_user_n_reviews()"
   ]
  },
  {
   "cell_type": "code",
   "execution_count": 9,
   "metadata": {},
   "outputs": [
    {
     "name": "stdout",
     "output_type": "stream",
     "text": [
      "This user's average rating is 4.0.\n"
     ]
    }
   ],
   "source": [
    "recs.get_user_mean()"
   ]
  },
  {
   "cell_type": "code",
   "execution_count": 10,
   "metadata": {},
   "outputs": [
    {
     "name": "stdout",
     "output_type": "stream",
     "text": [
      "This user's predictions were accurate 71.88% of the time.\n"
     ]
    }
   ],
   "source": [
    "recs.get_user_model_performance()"
   ]
  },
  {
   "cell_type": "markdown",
   "metadata": {},
   "source": [
    "#### 4. Get some recommendations!"
   ]
  },
  {
   "cell_type": "markdown",
   "metadata": {},
   "source": [
    "Run multiple times to get new randomly generated results."
   ]
  },
  {
   "cell_type": "code",
   "execution_count": 11,
   "metadata": {
    "scrolled": true
   },
   "outputs": [
    {
     "name": "stdout",
     "output_type": "stream",
     "text": [
      "Suggestion: Born in China. Estimated rating: 4.6.\n",
      "Suggestion: After the Murder of Albert Lima. Estimated rating: 4.4.\n",
      "Suggestion: The Translator . Estimated rating: 4.4.\n",
      "Suggestion: That Time of Year. Estimated rating: 4.4.\n",
      "Suggestion: Black Swarm. Estimated rating: 4.3.\n"
     ]
    }
   ],
   "source": [
    "recs.get_recs(n_recs=5)"
   ]
  },
  {
   "cell_type": "code",
   "execution_count": 12,
   "metadata": {},
   "outputs": [
    {
     "name": "stdout",
     "output_type": "stream",
     "text": [
      "Suggestion: The Chinese Lives of Uli Sigg. Estimated rating: 4.8.\n",
      "Suggestion: Only in Your Dreams. Estimated rating: 4.7.\n",
      "Suggestion: Verses of Love. Estimated rating: 4.6.\n",
      "Suggestion: Queens. Estimated rating: 4.6.\n",
      "Suggestion: Rififi in the City. Estimated rating: 4.5.\n"
     ]
    }
   ],
   "source": [
    "recs.get_recs(n_recs=5)"
   ]
  },
  {
   "cell_type": "markdown",
   "metadata": {},
   "source": [
    "Or you can run one big chunk."
   ]
  },
  {
   "cell_type": "code",
   "execution_count": 13,
   "metadata": {},
   "outputs": [
    {
     "name": "stdout",
     "output_type": "stream",
     "text": [
      "Suggestion: Alfred Hitchcock Presents: Premonition. Estimated rating: 4.7.\n",
      "Suggestion: The Little Prince. Estimated rating: 4.6.\n",
      "Suggestion: Berlin '36. Estimated rating: 4.6.\n",
      "Suggestion: 1933. Estimated rating: 4.6.\n",
      "Suggestion: Iran: A Cinematographic Revolution. Estimated rating: 4.6.\n",
      "Suggestion: Pioneer. Estimated rating: 4.4.\n",
      "Suggestion: Asedillo. Estimated rating: 4.4.\n",
      "Suggestion: 2nd War Hats. Estimated rating: 4.3.\n",
      "Suggestion: The Devil's Tomb. Estimated rating: 4.3.\n",
      "Suggestion: The Singing Ringing Tree. Estimated rating: 4.3.\n",
      "Suggestion: Eclipse of the Sun Virgin. Estimated rating: 4.3.\n",
      "Suggestion: Beata ignoranza. Estimated rating: 4.3.\n",
      "Suggestion: A Woman in Berlin. Estimated rating: 4.3.\n",
      "Suggestion: The Man Who Knew Too Much. Estimated rating: 4.2.\n",
      "Suggestion: Terror and Black Lace. Estimated rating: 4.2.\n",
      "Suggestion: The Doll. Estimated rating: 4.2.\n",
      "Suggestion: Haysha Royko. Estimated rating: 4.1.\n",
      "Suggestion: In the Land That Is Like You. Estimated rating: 4.1.\n",
      "Suggestion: Going Berserk. Estimated rating: 4.1.\n",
      "Suggestion: The Case Is Closed. Estimated rating: 4.1.\n"
     ]
    }
   ],
   "source": [
    "recs.get_recs(n_recs=20)"
   ]
  }
 ],
 "metadata": {
  "kernelspec": {
   "display_name": "keras",
   "language": "python",
   "name": "keras"
  },
  "language_info": {
   "codemirror_mode": {
    "name": "ipython",
    "version": 3
   },
   "file_extension": ".py",
   "mimetype": "text/x-python",
   "name": "python",
   "nbconvert_exporter": "python",
   "pygments_lexer": "ipython3",
   "version": "3.8.5"
  }
 },
 "nbformat": 4,
 "nbformat_minor": 5
}
