{
 "cells": [
  {
   "cell_type": "code",
   "execution_count": 1,
   "metadata": {},
   "outputs": [],
   "source": [
    "%load_ext sql\n",
    "%sql sqlite:///Data//mubi_db.sqlite"
   ]
  },
  {
   "cell_type": "markdown",
   "metadata": {},
   "source": [
    "### Acces the database and look at the tables"
   ]
  },
  {
   "cell_type": "markdown",
   "metadata": {},
   "source": [
    "#### Table Names"
   ]
  },
  {
   "cell_type": "code",
   "execution_count": 4,
   "metadata": {},
   "outputs": [
    {
     "name": "stdout",
     "output_type": "stream",
     "text": [
      " * sqlite:///Data//mubi_db.sqlite\n",
      "Done.\n"
     ]
    },
    {
     "data": {
      "text/html": [
       "<table>\n",
       "    <tr>\n",
       "        <th>name</th>\n",
       "    </tr>\n",
       "    <tr>\n",
       "        <td>movies</td>\n",
       "    </tr>\n",
       "    <tr>\n",
       "        <td>ratings_users</td>\n",
       "    </tr>\n",
       "    <tr>\n",
       "        <td>lists_users</td>\n",
       "    </tr>\n",
       "    <tr>\n",
       "        <td>lists</td>\n",
       "    </tr>\n",
       "    <tr>\n",
       "        <td>ratings</td>\n",
       "    </tr>\n",
       "</table>"
      ],
      "text/plain": [
       "[('movies',), ('ratings_users',), ('lists_users',), ('lists',), ('ratings',)]"
      ]
     },
     "execution_count": 4,
     "metadata": {},
     "output_type": "execute_result"
    }
   ],
   "source": [
    "%%sql\n",
    "\n",
    "SELECT name\n",
    "FROM sqlite_master\n",
    "WHERE type = 'table';"
   ]
  },
  {
   "cell_type": "markdown",
   "metadata": {},
   "source": [
    "#### movies table"
   ]
  },
  {
   "cell_type": "code",
   "execution_count": 8,
   "metadata": {},
   "outputs": [
    {
     "name": "stdout",
     "output_type": "stream",
     "text": [
      " * sqlite:///Data//mubi_db.sqlite\n",
      "Done.\n"
     ]
    },
    {
     "data": {
      "text/html": [
       "<table>\n",
       "    <thead>\n",
       "        <tr>\n",
       "            <th>cid</th>\n",
       "            <th>name</th>\n",
       "            <th>type</th>\n",
       "            <th>notnull</th>\n",
       "            <th>dflt_value</th>\n",
       "            <th>pk</th>\n",
       "        </tr>\n",
       "    </thead>\n",
       "    <tbody>\n",
       "        <tr>\n",
       "            <td>0</td>\n",
       "            <td>movie_id</td>\n",
       "            <td>INTEGER</td>\n",
       "            <td>0</td>\n",
       "            <td>None</td>\n",
       "            <td>0</td>\n",
       "        </tr>\n",
       "        <tr>\n",
       "            <td>1</td>\n",
       "            <td>movie_title</td>\n",
       "            <td>TEXT</td>\n",
       "            <td>0</td>\n",
       "            <td>None</td>\n",
       "            <td>0</td>\n",
       "        </tr>\n",
       "        <tr>\n",
       "            <td>2</td>\n",
       "            <td>movie_release_year</td>\n",
       "            <td>REAL</td>\n",
       "            <td>0</td>\n",
       "            <td>None</td>\n",
       "            <td>0</td>\n",
       "        </tr>\n",
       "        <tr>\n",
       "            <td>3</td>\n",
       "            <td>movie_url</td>\n",
       "            <td>TEXT</td>\n",
       "            <td>0</td>\n",
       "            <td>None</td>\n",
       "            <td>0</td>\n",
       "        </tr>\n",
       "        <tr>\n",
       "            <td>4</td>\n",
       "            <td>movie_title_language</td>\n",
       "            <td>TEXT</td>\n",
       "            <td>0</td>\n",
       "            <td>None</td>\n",
       "            <td>0</td>\n",
       "        </tr>\n",
       "        <tr>\n",
       "            <td>5</td>\n",
       "            <td>movie_popularity</td>\n",
       "            <td>INTEGER</td>\n",
       "            <td>0</td>\n",
       "            <td>None</td>\n",
       "            <td>0</td>\n",
       "        </tr>\n",
       "        <tr>\n",
       "            <td>6</td>\n",
       "            <td>movie_image_url</td>\n",
       "            <td>TEXT</td>\n",
       "            <td>0</td>\n",
       "            <td>None</td>\n",
       "            <td>0</td>\n",
       "        </tr>\n",
       "        <tr>\n",
       "            <td>7</td>\n",
       "            <td>director_id</td>\n",
       "            <td>TEXT</td>\n",
       "            <td>0</td>\n",
       "            <td>None</td>\n",
       "            <td>0</td>\n",
       "        </tr>\n",
       "        <tr>\n",
       "            <td>8</td>\n",
       "            <td>director_name</td>\n",
       "            <td>TEXT</td>\n",
       "            <td>0</td>\n",
       "            <td>None</td>\n",
       "            <td>0</td>\n",
       "        </tr>\n",
       "        <tr>\n",
       "            <td>9</td>\n",
       "            <td>director_url</td>\n",
       "            <td>TEXT</td>\n",
       "            <td>0</td>\n",
       "            <td>None</td>\n",
       "            <td>0</td>\n",
       "        </tr>\n",
       "    </tbody>\n",
       "</table>"
      ],
      "text/plain": [
       "[(0, 'movie_id', 'INTEGER', 0, None, 0),\n",
       " (1, 'movie_title', 'TEXT', 0, None, 0),\n",
       " (2, 'movie_release_year', 'REAL', 0, None, 0),\n",
       " (3, 'movie_url', 'TEXT', 0, None, 0),\n",
       " (4, 'movie_title_language', 'TEXT', 0, None, 0),\n",
       " (5, 'movie_popularity', 'INTEGER', 0, None, 0),\n",
       " (6, 'movie_image_url', 'TEXT', 0, None, 0),\n",
       " (7, 'director_id', 'TEXT', 0, None, 0),\n",
       " (8, 'director_name', 'TEXT', 0, None, 0),\n",
       " (9, 'director_url', 'TEXT', 0, None, 0)]"
      ]
     },
     "execution_count": 8,
     "metadata": {},
     "output_type": "execute_result"
    }
   ],
   "source": [
    "%%sql\n",
    "\n",
    "PRAGMA table_info(movies);"
   ]
  },
  {
   "cell_type": "code",
   "execution_count": 10,
   "metadata": {},
   "outputs": [
    {
     "name": "stdout",
     "output_type": "stream",
     "text": [
      " * sqlite:///Data//mubi_db.sqlite\n",
      "Done.\n"
     ]
    },
    {
     "data": {
      "text/html": [
       "<table>\n",
       "    <thead>\n",
       "        <tr>\n",
       "            <th>COUNT(DISTINCT movie_id)</th>\n",
       "        </tr>\n",
       "    </thead>\n",
       "    <tbody>\n",
       "        <tr>\n",
       "            <td>226575</td>\n",
       "        </tr>\n",
       "    </tbody>\n",
       "</table>"
      ],
      "text/plain": [
       "[(226575,)]"
      ]
     },
     "execution_count": 10,
     "metadata": {},
     "output_type": "execute_result"
    }
   ],
   "source": [
    "%%sql\n",
    "\n",
    "SELECT COUNT(DISTINCT movie_id)\n",
    "FROM movies;"
   ]
  },
  {
   "cell_type": "markdown",
   "metadata": {},
   "source": [
    "over 225K movies!"
   ]
  },
  {
   "cell_type": "code",
   "execution_count": 3,
   "metadata": {},
   "outputs": [
    {
     "name": "stdout",
     "output_type": "stream",
     "text": [
      " * sqlite:///Data//mubi_db.sqlite\n",
      "Done.\n"
     ]
    },
    {
     "data": {
      "text/html": [
       "<table>\n",
       "    <thead>\n",
       "        <tr>\n",
       "            <th>movie_id</th>\n",
       "            <th>movie_title</th>\n",
       "            <th>movie_release_year</th>\n",
       "            <th>movie_url</th>\n",
       "            <th>movie_title_language</th>\n",
       "            <th>movie_popularity</th>\n",
       "            <th>movie_image_url</th>\n",
       "            <th>director_id</th>\n",
       "            <th>director_name</th>\n",
       "            <th>director_url</th>\n",
       "        </tr>\n",
       "    </thead>\n",
       "    <tbody>\n",
       "        <tr>\n",
       "            <td>1</td>\n",
       "            <td>La Antena</td>\n",
       "            <td>2007.0</td>\n",
       "            <td>http://mubi.com/films/la-antena</td>\n",
       "            <td>en</td>\n",
       "            <td>105</td>\n",
       "            <td>https://images.mubicdn.net/images/film/1/cache-7927-1581389497/image-w1280.jpg</td>\n",
       "            <td>131</td>\n",
       "            <td>Esteban Sapir</td>\n",
       "            <td>http://mubi.com/cast/esteban-sapir</td>\n",
       "        </tr>\n",
       "        <tr>\n",
       "            <td>2</td>\n",
       "            <td>Elementary Particles</td>\n",
       "            <td>2006.0</td>\n",
       "            <td>http://mubi.com/films/elementary-particles</td>\n",
       "            <td>en</td>\n",
       "            <td>23</td>\n",
       "            <td>https://images.mubicdn.net/images/film/2/cache-512179-1581389841/image-w1280.jpg</td>\n",
       "            <td>73</td>\n",
       "            <td>Oskar Roehler</td>\n",
       "            <td>http://mubi.com/cast/oskar-roehler</td>\n",
       "        </tr>\n",
       "        <tr>\n",
       "            <td>3</td>\n",
       "            <td>It&#x27;s Winter</td>\n",
       "            <td>2006.0</td>\n",
       "            <td>http://mubi.com/films/its-winter</td>\n",
       "            <td>en</td>\n",
       "            <td>21</td>\n",
       "            <td>https://images.mubicdn.net/images/film/3/cache-7929-1481539519/image-w1280.jpg</td>\n",
       "            <td>82</td>\n",
       "            <td>Rafi Pitts</td>\n",
       "            <td>http://mubi.com/cast/rafi-pitts</td>\n",
       "        </tr>\n",
       "        <tr>\n",
       "            <td>4</td>\n",
       "            <td>Kirikou and the Wild Beasts</td>\n",
       "            <td>2005.0</td>\n",
       "            <td>http://mubi.com/films/kirikou-and-the-wild-beasts</td>\n",
       "            <td>en</td>\n",
       "            <td>46</td>\n",
       "            <td>https://images.mubicdn.net/images/film/4/cache-7930-1568880017/image-w1280.jpg</td>\n",
       "            <td>89, 90</td>\n",
       "            <td>Michel Ocelot, Bénédicte Galup</td>\n",
       "            <td>http://mubi.com/cast/michel-ocelot, http://mubi.com/cast/benedicte-galup</td>\n",
       "        </tr>\n",
       "        <tr>\n",
       "            <td>5</td>\n",
       "            <td>Padre Nuestro</td>\n",
       "            <td>2007.0</td>\n",
       "            <td>http://mubi.com/films/padre-nuestro</td>\n",
       "            <td>en</td>\n",
       "            <td>7</td>\n",
       "            <td>https://images.mubicdn.net/images/film/5/cache-7931-1581390636/image-w1280.jpg</td>\n",
       "            <td>92</td>\n",
       "            <td>Christopher Zalla</td>\n",
       "            <td>http://mubi.com/cast/christopher-zalla</td>\n",
       "        </tr>\n",
       "    </tbody>\n",
       "</table>"
      ],
      "text/plain": [
       "[(1, 'La Antena', 2007.0, 'http://mubi.com/films/la-antena', 'en', 105, 'https://images.mubicdn.net/images/film/1/cache-7927-1581389497/image-w1280.jpg', '131', 'Esteban Sapir', 'http://mubi.com/cast/esteban-sapir'),\n",
       " (2, 'Elementary Particles', 2006.0, 'http://mubi.com/films/elementary-particles', 'en', 23, 'https://images.mubicdn.net/images/film/2/cache-512179-1581389841/image-w1280.jpg', '73', 'Oskar Roehler', 'http://mubi.com/cast/oskar-roehler'),\n",
       " (3, \"It's Winter\", 2006.0, 'http://mubi.com/films/its-winter', 'en', 21, 'https://images.mubicdn.net/images/film/3/cache-7929-1481539519/image-w1280.jpg', '82', 'Rafi Pitts', 'http://mubi.com/cast/rafi-pitts'),\n",
       " (4, 'Kirikou and the Wild Beasts', 2005.0, 'http://mubi.com/films/kirikou-and-the-wild-beasts', 'en', 46, 'https://images.mubicdn.net/images/film/4/cache-7930-1568880017/image-w1280.jpg', '89, 90', 'Michel Ocelot, Bénédicte Galup', 'http://mubi.com/cast/michel-ocelot, http://mubi.com/cast/benedicte-galup'),\n",
       " (5, 'Padre Nuestro', 2007.0, 'http://mubi.com/films/padre-nuestro', 'en', 7, 'https://images.mubicdn.net/images/film/5/cache-7931-1581390636/image-w1280.jpg', '92', 'Christopher Zalla', 'http://mubi.com/cast/christopher-zalla')]"
      ]
     },
     "execution_count": 3,
     "metadata": {},
     "output_type": "execute_result"
    }
   ],
   "source": [
    "%%sql\n",
    "\n",
    "SELECT *\n",
    "FROM movies\n",
    "LIMIT 5;"
   ]
  },
  {
   "cell_type": "markdown",
   "metadata": {},
   "source": [
    "#### ratings_users table"
   ]
  },
  {
   "cell_type": "code",
   "execution_count": 11,
   "metadata": {},
   "outputs": [
    {
     "name": "stdout",
     "output_type": "stream",
     "text": [
      " * sqlite:///Data//mubi_db.sqlite\n",
      "Done.\n"
     ]
    },
    {
     "data": {
      "text/html": [
       "<table>\n",
       "    <thead>\n",
       "        <tr>\n",
       "            <th>cid</th>\n",
       "            <th>name</th>\n",
       "            <th>type</th>\n",
       "            <th>notnull</th>\n",
       "            <th>dflt_value</th>\n",
       "            <th>pk</th>\n",
       "        </tr>\n",
       "    </thead>\n",
       "    <tbody>\n",
       "        <tr>\n",
       "            <td>0</td>\n",
       "            <td>user_id</td>\n",
       "            <td>INTEGER</td>\n",
       "            <td>0</td>\n",
       "            <td>None</td>\n",
       "            <td>0</td>\n",
       "        </tr>\n",
       "        <tr>\n",
       "            <td>1</td>\n",
       "            <td>rating_date_utc</td>\n",
       "            <td>TEXT</td>\n",
       "            <td>0</td>\n",
       "            <td>None</td>\n",
       "            <td>0</td>\n",
       "        </tr>\n",
       "        <tr>\n",
       "            <td>2</td>\n",
       "            <td>user_trialist</td>\n",
       "            <td>INTEGER</td>\n",
       "            <td>0</td>\n",
       "            <td>None</td>\n",
       "            <td>0</td>\n",
       "        </tr>\n",
       "        <tr>\n",
       "            <td>3</td>\n",
       "            <td>user_subscriber</td>\n",
       "            <td>INTEGER</td>\n",
       "            <td>0</td>\n",
       "            <td>None</td>\n",
       "            <td>0</td>\n",
       "        </tr>\n",
       "        <tr>\n",
       "            <td>4</td>\n",
       "            <td>user_avatar_image_url</td>\n",
       "            <td>TEXT</td>\n",
       "            <td>0</td>\n",
       "            <td>None</td>\n",
       "            <td>0</td>\n",
       "        </tr>\n",
       "        <tr>\n",
       "            <td>5</td>\n",
       "            <td>user_cover_image_url</td>\n",
       "            <td>TEXT</td>\n",
       "            <td>0</td>\n",
       "            <td>None</td>\n",
       "            <td>0</td>\n",
       "        </tr>\n",
       "        <tr>\n",
       "            <td>6</td>\n",
       "            <td>user_eligible_for_trial</td>\n",
       "            <td>INTEGER</td>\n",
       "            <td>0</td>\n",
       "            <td>None</td>\n",
       "            <td>0</td>\n",
       "        </tr>\n",
       "        <tr>\n",
       "            <td>7</td>\n",
       "            <td>user_has_payment_method</td>\n",
       "            <td>INTEGER</td>\n",
       "            <td>0</td>\n",
       "            <td>None</td>\n",
       "            <td>0</td>\n",
       "        </tr>\n",
       "    </tbody>\n",
       "</table>"
      ],
      "text/plain": [
       "[(0, 'user_id', 'INTEGER', 0, None, 0),\n",
       " (1, 'rating_date_utc', 'TEXT', 0, None, 0),\n",
       " (2, 'user_trialist', 'INTEGER', 0, None, 0),\n",
       " (3, 'user_subscriber', 'INTEGER', 0, None, 0),\n",
       " (4, 'user_avatar_image_url', 'TEXT', 0, None, 0),\n",
       " (5, 'user_cover_image_url', 'TEXT', 0, None, 0),\n",
       " (6, 'user_eligible_for_trial', 'INTEGER', 0, None, 0),\n",
       " (7, 'user_has_payment_method', 'INTEGER', 0, None, 0)]"
      ]
     },
     "execution_count": 11,
     "metadata": {},
     "output_type": "execute_result"
    }
   ],
   "source": [
    "%%sql\n",
    "\n",
    "PRAGMA table_info(ratings_users);"
   ]
  },
  {
   "cell_type": "code",
   "execution_count": 12,
   "metadata": {},
   "outputs": [
    {
     "name": "stdout",
     "output_type": "stream",
     "text": [
      " * sqlite:///Data//mubi_db.sqlite\n",
      "Done.\n"
     ]
    },
    {
     "data": {
      "text/html": [
       "<table>\n",
       "    <thead>\n",
       "        <tr>\n",
       "            <th>COUNT(DISTINCT user_id)</th>\n",
       "        </tr>\n",
       "    </thead>\n",
       "    <tbody>\n",
       "        <tr>\n",
       "            <td>451757</td>\n",
       "        </tr>\n",
       "    </tbody>\n",
       "</table>"
      ],
      "text/plain": [
       "[(451757,)]"
      ]
     },
     "execution_count": 12,
     "metadata": {},
     "output_type": "execute_result"
    }
   ],
   "source": [
    "%%sql\n",
    "\n",
    "SELECT COUNT(DISTINCT user_id)\n",
    "FROM ratings_users;"
   ]
  },
  {
   "cell_type": "markdown",
   "metadata": {},
   "source": [
    "Over 450K users!"
   ]
  },
  {
   "cell_type": "code",
   "execution_count": 4,
   "metadata": {},
   "outputs": [
    {
     "name": "stdout",
     "output_type": "stream",
     "text": [
      " * sqlite:///Data//mubi_db.sqlite\n",
      "Done.\n"
     ]
    },
    {
     "data": {
      "text/html": [
       "<table>\n",
       "    <thead>\n",
       "        <tr>\n",
       "            <th>user_id</th>\n",
       "            <th>rating_date_utc</th>\n",
       "            <th>user_trialist</th>\n",
       "            <th>user_subscriber</th>\n",
       "            <th>user_avatar_image_url</th>\n",
       "            <th>user_cover_image_url</th>\n",
       "            <th>user_eligible_for_trial</th>\n",
       "            <th>user_has_payment_method</th>\n",
       "        </tr>\n",
       "    </thead>\n",
       "    <tbody>\n",
       "        <tr>\n",
       "            <td>41579158</td>\n",
       "            <td>2017-06-10</td>\n",
       "            <td>0</td>\n",
       "            <td>0</td>\n",
       "            <td>https://assets.mubicdn.net/images/avatars/74283/images-w150.jpg?1523895155</td>\n",
       "            <td>None</td>\n",
       "            <td>1</td>\n",
       "            <td>0</td>\n",
       "        </tr>\n",
       "        <tr>\n",
       "            <td>68654088</td>\n",
       "            <td>2012-10-02</td>\n",
       "            <td>0</td>\n",
       "            <td>0</td>\n",
       "            <td>https://assets.mubicdn.net/images/avatars/27714/images-w150.jpg?1523889463</td>\n",
       "            <td>None</td>\n",
       "            <td>1</td>\n",
       "            <td>1</td>\n",
       "        </tr>\n",
       "        <tr>\n",
       "            <td>84114365</td>\n",
       "            <td>2010-12-25</td>\n",
       "            <td>0</td>\n",
       "            <td>0</td>\n",
       "            <td>https://assets.mubicdn.net/images/avatars/1808/images-w150.jpg?1523883471</td>\n",
       "            <td>None</td>\n",
       "            <td>1</td>\n",
       "            <td>0</td>\n",
       "        </tr>\n",
       "        <tr>\n",
       "            <td>29755671</td>\n",
       "            <td>2010-11-15</td>\n",
       "            <td>0</td>\n",
       "            <td>0</td>\n",
       "            <td>//mubi.com/assets/placeholders/avatar-c68833eec06a12b110c74dd2fa1709ae983ead021e695f886dcfafda0da3c6ed.png</td>\n",
       "            <td>None</td>\n",
       "            <td>1</td>\n",
       "            <td>0</td>\n",
       "        </tr>\n",
       "        <tr>\n",
       "            <td>93302487</td>\n",
       "            <td>2010-01-05</td>\n",
       "            <td>0</td>\n",
       "            <td>0</td>\n",
       "            <td>https://assets.mubicdn.net/images/avatars/12246/images-w150.jpg?1523885889</td>\n",
       "            <td>None</td>\n",
       "            <td>1</td>\n",
       "            <td>0</td>\n",
       "        </tr>\n",
       "    </tbody>\n",
       "</table>"
      ],
      "text/plain": [
       "[(41579158, '2017-06-10', 0, 0, 'https://assets.mubicdn.net/images/avatars/74283/images-w150.jpg?1523895155', None, 1, 0),\n",
       " (68654088, '2012-10-02', 0, 0, 'https://assets.mubicdn.net/images/avatars/27714/images-w150.jpg?1523889463', None, 1, 1),\n",
       " (84114365, '2010-12-25', 0, 0, 'https://assets.mubicdn.net/images/avatars/1808/images-w150.jpg?1523883471', None, 1, 0),\n",
       " (29755671, '2010-11-15', 0, 0, '//mubi.com/assets/placeholders/avatar-c68833eec06a12b110c74dd2fa1709ae983ead021e695f886dcfafda0da3c6ed.png', None, 1, 0),\n",
       " (93302487, '2010-01-05', 0, 0, 'https://assets.mubicdn.net/images/avatars/12246/images-w150.jpg?1523885889', None, 1, 0)]"
      ]
     },
     "execution_count": 4,
     "metadata": {},
     "output_type": "execute_result"
    }
   ],
   "source": [
    "%%sql\n",
    "\n",
    "SELECT *\n",
    "FROM ratings_users\n",
    "LIMIT 5;"
   ]
  },
  {
   "cell_type": "markdown",
   "metadata": {},
   "source": [
    "#### lists_users table"
   ]
  },
  {
   "cell_type": "code",
   "execution_count": 13,
   "metadata": {},
   "outputs": [
    {
     "name": "stdout",
     "output_type": "stream",
     "text": [
      " * sqlite:///Data//mubi_db.sqlite\n",
      "Done.\n"
     ]
    },
    {
     "data": {
      "text/html": [
       "<table>\n",
       "    <thead>\n",
       "        <tr>\n",
       "            <th>cid</th>\n",
       "            <th>name</th>\n",
       "            <th>type</th>\n",
       "            <th>notnull</th>\n",
       "            <th>dflt_value</th>\n",
       "            <th>pk</th>\n",
       "        </tr>\n",
       "    </thead>\n",
       "    <tbody>\n",
       "        <tr>\n",
       "            <td>0</td>\n",
       "            <td>user_id</td>\n",
       "            <td>INTEGER</td>\n",
       "            <td>0</td>\n",
       "            <td>None</td>\n",
       "            <td>0</td>\n",
       "        </tr>\n",
       "        <tr>\n",
       "            <td>1</td>\n",
       "            <td>list_id</td>\n",
       "            <td>INTEGER</td>\n",
       "            <td>0</td>\n",
       "            <td>None</td>\n",
       "            <td>0</td>\n",
       "        </tr>\n",
       "        <tr>\n",
       "            <td>2</td>\n",
       "            <td>list_update_date_utc</td>\n",
       "            <td>TEXT</td>\n",
       "            <td>0</td>\n",
       "            <td>None</td>\n",
       "            <td>0</td>\n",
       "        </tr>\n",
       "        <tr>\n",
       "            <td>3</td>\n",
       "            <td>list_creation_date_utc</td>\n",
       "            <td>TEXT</td>\n",
       "            <td>0</td>\n",
       "            <td>None</td>\n",
       "            <td>0</td>\n",
       "        </tr>\n",
       "        <tr>\n",
       "            <td>4</td>\n",
       "            <td>user_trialist</td>\n",
       "            <td>INTEGER</td>\n",
       "            <td>0</td>\n",
       "            <td>None</td>\n",
       "            <td>0</td>\n",
       "        </tr>\n",
       "        <tr>\n",
       "            <td>5</td>\n",
       "            <td>user_subscriber</td>\n",
       "            <td>INTEGER</td>\n",
       "            <td>0</td>\n",
       "            <td>None</td>\n",
       "            <td>0</td>\n",
       "        </tr>\n",
       "        <tr>\n",
       "            <td>6</td>\n",
       "            <td>user_avatar_image_url</td>\n",
       "            <td>TEXT</td>\n",
       "            <td>0</td>\n",
       "            <td>None</td>\n",
       "            <td>0</td>\n",
       "        </tr>\n",
       "        <tr>\n",
       "            <td>7</td>\n",
       "            <td>user_cover_image_url</td>\n",
       "            <td>TEXT</td>\n",
       "            <td>0</td>\n",
       "            <td>None</td>\n",
       "            <td>0</td>\n",
       "        </tr>\n",
       "        <tr>\n",
       "            <td>8</td>\n",
       "            <td>user_eligible_for_trial</td>\n",
       "            <td>INTEGER</td>\n",
       "            <td>0</td>\n",
       "            <td>None</td>\n",
       "            <td>0</td>\n",
       "        </tr>\n",
       "        <tr>\n",
       "            <td>9</td>\n",
       "            <td>user_has_payment_method</td>\n",
       "            <td>INTEGER</td>\n",
       "            <td>0</td>\n",
       "            <td>None</td>\n",
       "            <td>0</td>\n",
       "        </tr>\n",
       "    </tbody>\n",
       "</table>"
      ],
      "text/plain": [
       "[(0, 'user_id', 'INTEGER', 0, None, 0),\n",
       " (1, 'list_id', 'INTEGER', 0, None, 0),\n",
       " (2, 'list_update_date_utc', 'TEXT', 0, None, 0),\n",
       " (3, 'list_creation_date_utc', 'TEXT', 0, None, 0),\n",
       " (4, 'user_trialist', 'INTEGER', 0, None, 0),\n",
       " (5, 'user_subscriber', 'INTEGER', 0, None, 0),\n",
       " (6, 'user_avatar_image_url', 'TEXT', 0, None, 0),\n",
       " (7, 'user_cover_image_url', 'TEXT', 0, None, 0),\n",
       " (8, 'user_eligible_for_trial', 'INTEGER', 0, None, 0),\n",
       " (9, 'user_has_payment_method', 'INTEGER', 0, None, 0)]"
      ]
     },
     "execution_count": 13,
     "metadata": {},
     "output_type": "execute_result"
    }
   ],
   "source": [
    "%%sql\n",
    "\n",
    "PRAGMA table_info(lists_users);"
   ]
  },
  {
   "cell_type": "code",
   "execution_count": 18,
   "metadata": {},
   "outputs": [
    {
     "name": "stdout",
     "output_type": "stream",
     "text": [
      " * sqlite:///Data//mubi_db.sqlite\n",
      "Done.\n"
     ]
    },
    {
     "data": {
      "text/html": [
       "<table>\n",
       "    <thead>\n",
       "        <tr>\n",
       "            <th>COUNT(DISTINCT list_id)</th>\n",
       "        </tr>\n",
       "    </thead>\n",
       "    <tbody>\n",
       "        <tr>\n",
       "            <td>80311</td>\n",
       "        </tr>\n",
       "    </tbody>\n",
       "</table>"
      ],
      "text/plain": [
       "[(80311,)]"
      ]
     },
     "execution_count": 18,
     "metadata": {},
     "output_type": "execute_result"
    }
   ],
   "source": [
    "%%sql\n",
    "\n",
    "SELECT COUNT(DISTINCT list_id)\n",
    "FROM lists_users;"
   ]
  },
  {
   "cell_type": "code",
   "execution_count": 5,
   "metadata": {},
   "outputs": [
    {
     "name": "stdout",
     "output_type": "stream",
     "text": [
      " * sqlite:///Data//mubi_db.sqlite\n",
      "Done.\n"
     ]
    },
    {
     "data": {
      "text/html": [
       "<table>\n",
       "    <thead>\n",
       "        <tr>\n",
       "            <th>user_id</th>\n",
       "            <th>list_id</th>\n",
       "            <th>list_update_date_utc</th>\n",
       "            <th>list_creation_date_utc</th>\n",
       "            <th>user_trialist</th>\n",
       "            <th>user_subscriber</th>\n",
       "            <th>user_avatar_image_url</th>\n",
       "            <th>user_cover_image_url</th>\n",
       "            <th>user_eligible_for_trial</th>\n",
       "            <th>user_has_payment_method</th>\n",
       "        </tr>\n",
       "    </thead>\n",
       "    <tbody>\n",
       "        <tr>\n",
       "            <td>85981819</td>\n",
       "            <td>1969</td>\n",
       "            <td>2019-11-26</td>\n",
       "            <td>2009-12-18</td>\n",
       "            <td>1</td>\n",
       "            <td>1</td>\n",
       "            <td>https://assets.mubicdn.net/images/avatars/74983/images-w150.jpg?1523895214</td>\n",
       "            <td>None</td>\n",
       "            <td>0</td>\n",
       "            <td>1</td>\n",
       "        </tr>\n",
       "        <tr>\n",
       "            <td>85981819</td>\n",
       "            <td>3946</td>\n",
       "            <td>2020-05-01</td>\n",
       "            <td>2010-01-30</td>\n",
       "            <td>1</td>\n",
       "            <td>1</td>\n",
       "            <td>https://assets.mubicdn.net/images/avatars/74983/images-w150.jpg?1523895214</td>\n",
       "            <td>None</td>\n",
       "            <td>0</td>\n",
       "            <td>1</td>\n",
       "        </tr>\n",
       "        <tr>\n",
       "            <td>85981819</td>\n",
       "            <td>6683</td>\n",
       "            <td>2020-04-12</td>\n",
       "            <td>2010-03-31</td>\n",
       "            <td>1</td>\n",
       "            <td>1</td>\n",
       "            <td>https://assets.mubicdn.net/images/avatars/74983/images-w150.jpg?1523895214</td>\n",
       "            <td>None</td>\n",
       "            <td>0</td>\n",
       "            <td>1</td>\n",
       "        </tr>\n",
       "        <tr>\n",
       "            <td>85981819</td>\n",
       "            <td>8865</td>\n",
       "            <td>2018-12-14</td>\n",
       "            <td>2010-05-10</td>\n",
       "            <td>1</td>\n",
       "            <td>1</td>\n",
       "            <td>https://assets.mubicdn.net/images/avatars/74983/images-w150.jpg?1523895214</td>\n",
       "            <td>None</td>\n",
       "            <td>0</td>\n",
       "            <td>1</td>\n",
       "        </tr>\n",
       "        <tr>\n",
       "            <td>85981819</td>\n",
       "            <td>13796</td>\n",
       "            <td>2019-11-26</td>\n",
       "            <td>2010-08-25</td>\n",
       "            <td>1</td>\n",
       "            <td>1</td>\n",
       "            <td>https://assets.mubicdn.net/images/avatars/74983/images-w150.jpg?1523895214</td>\n",
       "            <td>None</td>\n",
       "            <td>0</td>\n",
       "            <td>1</td>\n",
       "        </tr>\n",
       "    </tbody>\n",
       "</table>"
      ],
      "text/plain": [
       "[(85981819, 1969, '2019-11-26', '2009-12-18', 1, 1, 'https://assets.mubicdn.net/images/avatars/74983/images-w150.jpg?1523895214', None, 0, 1),\n",
       " (85981819, 3946, '2020-05-01', '2010-01-30', 1, 1, 'https://assets.mubicdn.net/images/avatars/74983/images-w150.jpg?1523895214', None, 0, 1),\n",
       " (85981819, 6683, '2020-04-12', '2010-03-31', 1, 1, 'https://assets.mubicdn.net/images/avatars/74983/images-w150.jpg?1523895214', None, 0, 1),\n",
       " (85981819, 8865, '2018-12-14', '2010-05-10', 1, 1, 'https://assets.mubicdn.net/images/avatars/74983/images-w150.jpg?1523895214', None, 0, 1),\n",
       " (85981819, 13796, '2019-11-26', '2010-08-25', 1, 1, 'https://assets.mubicdn.net/images/avatars/74983/images-w150.jpg?1523895214', None, 0, 1)]"
      ]
     },
     "execution_count": 5,
     "metadata": {},
     "output_type": "execute_result"
    }
   ],
   "source": [
    "%%sql\n",
    "\n",
    "SELECT *\n",
    "FROM lists_users\n",
    "LIMIT 5;"
   ]
  },
  {
   "cell_type": "markdown",
   "metadata": {},
   "source": [
    "#### lists table"
   ]
  },
  {
   "cell_type": "code",
   "execution_count": 34,
   "metadata": {},
   "outputs": [
    {
     "name": "stdout",
     "output_type": "stream",
     "text": [
      " * sqlite:///Data//mubi_db.sqlite\n",
      "Done.\n"
     ]
    },
    {
     "data": {
      "text/html": [
       "<table>\n",
       "    <thead>\n",
       "        <tr>\n",
       "            <th>cid</th>\n",
       "            <th>name</th>\n",
       "            <th>type</th>\n",
       "            <th>notnull</th>\n",
       "            <th>dflt_value</th>\n",
       "            <th>pk</th>\n",
       "        </tr>\n",
       "    </thead>\n",
       "    <tbody>\n",
       "        <tr>\n",
       "            <td>0</td>\n",
       "            <td>user_id</td>\n",
       "            <td>INTEGER</td>\n",
       "            <td>0</td>\n",
       "            <td>None</td>\n",
       "            <td>0</td>\n",
       "        </tr>\n",
       "        <tr>\n",
       "            <td>1</td>\n",
       "            <td>list_id</td>\n",
       "            <td>INTEGER</td>\n",
       "            <td>0</td>\n",
       "            <td>None</td>\n",
       "            <td>0</td>\n",
       "        </tr>\n",
       "        <tr>\n",
       "            <td>2</td>\n",
       "            <td>list_title</td>\n",
       "            <td>TEXT</td>\n",
       "            <td>0</td>\n",
       "            <td>None</td>\n",
       "            <td>0</td>\n",
       "        </tr>\n",
       "        <tr>\n",
       "            <td>3</td>\n",
       "            <td>list_movie_number</td>\n",
       "            <td>INTEGER</td>\n",
       "            <td>0</td>\n",
       "            <td>None</td>\n",
       "            <td>0</td>\n",
       "        </tr>\n",
       "        <tr>\n",
       "            <td>4</td>\n",
       "            <td>list_update_timestamp_utc</td>\n",
       "            <td>TEXT</td>\n",
       "            <td>0</td>\n",
       "            <td>None</td>\n",
       "            <td>0</td>\n",
       "        </tr>\n",
       "        <tr>\n",
       "            <td>5</td>\n",
       "            <td>list_creation_timestamp_utc</td>\n",
       "            <td>TEXT</td>\n",
       "            <td>0</td>\n",
       "            <td>None</td>\n",
       "            <td>0</td>\n",
       "        </tr>\n",
       "        <tr>\n",
       "            <td>6</td>\n",
       "            <td>list_followers</td>\n",
       "            <td>INTEGER</td>\n",
       "            <td>0</td>\n",
       "            <td>None</td>\n",
       "            <td>0</td>\n",
       "        </tr>\n",
       "        <tr>\n",
       "            <td>7</td>\n",
       "            <td>list_url</td>\n",
       "            <td>TEXT</td>\n",
       "            <td>0</td>\n",
       "            <td>None</td>\n",
       "            <td>0</td>\n",
       "        </tr>\n",
       "        <tr>\n",
       "            <td>8</td>\n",
       "            <td>list_comments</td>\n",
       "            <td>INTEGER</td>\n",
       "            <td>0</td>\n",
       "            <td>None</td>\n",
       "            <td>0</td>\n",
       "        </tr>\n",
       "        <tr>\n",
       "            <td>9</td>\n",
       "            <td>list_description</td>\n",
       "            <td>TEXT</td>\n",
       "            <td>0</td>\n",
       "            <td>None</td>\n",
       "            <td>0</td>\n",
       "        </tr>\n",
       "        <tr>\n",
       "            <td>10</td>\n",
       "            <td>list_cover_image_url</td>\n",
       "            <td>TEXT</td>\n",
       "            <td>0</td>\n",
       "            <td>None</td>\n",
       "            <td>0</td>\n",
       "        </tr>\n",
       "        <tr>\n",
       "            <td>11</td>\n",
       "            <td>list_first_image_url</td>\n",
       "            <td>TEXT</td>\n",
       "            <td>0</td>\n",
       "            <td>None</td>\n",
       "            <td>0</td>\n",
       "        </tr>\n",
       "        <tr>\n",
       "            <td>12</td>\n",
       "            <td>list_second_image_url</td>\n",
       "            <td>TEXT</td>\n",
       "            <td>0</td>\n",
       "            <td>None</td>\n",
       "            <td>0</td>\n",
       "        </tr>\n",
       "        <tr>\n",
       "            <td>13</td>\n",
       "            <td>list_third_image_url</td>\n",
       "            <td>TEXT</td>\n",
       "            <td>0</td>\n",
       "            <td>None</td>\n",
       "            <td>0</td>\n",
       "        </tr>\n",
       "    </tbody>\n",
       "</table>"
      ],
      "text/plain": [
       "[(0, 'user_id', 'INTEGER', 0, None, 0),\n",
       " (1, 'list_id', 'INTEGER', 0, None, 0),\n",
       " (2, 'list_title', 'TEXT', 0, None, 0),\n",
       " (3, 'list_movie_number', 'INTEGER', 0, None, 0),\n",
       " (4, 'list_update_timestamp_utc', 'TEXT', 0, None, 0),\n",
       " (5, 'list_creation_timestamp_utc', 'TEXT', 0, None, 0),\n",
       " (6, 'list_followers', 'INTEGER', 0, None, 0),\n",
       " (7, 'list_url', 'TEXT', 0, None, 0),\n",
       " (8, 'list_comments', 'INTEGER', 0, None, 0),\n",
       " (9, 'list_description', 'TEXT', 0, None, 0),\n",
       " (10, 'list_cover_image_url', 'TEXT', 0, None, 0),\n",
       " (11, 'list_first_image_url', 'TEXT', 0, None, 0),\n",
       " (12, 'list_second_image_url', 'TEXT', 0, None, 0),\n",
       " (13, 'list_third_image_url', 'TEXT', 0, None, 0)]"
      ]
     },
     "execution_count": 34,
     "metadata": {},
     "output_type": "execute_result"
    }
   ],
   "source": [
    "%%sql\n",
    "\n",
    "PRAGMA table_info(lists);"
   ]
  },
  {
   "cell_type": "code",
   "execution_count": 36,
   "metadata": {},
   "outputs": [
    {
     "name": "stdout",
     "output_type": "stream",
     "text": [
      " * sqlite:///Data//mubi_db.sqlite\n",
      "Done.\n"
     ]
    },
    {
     "data": {
      "text/html": [
       "<table>\n",
       "    <thead>\n",
       "        <tr>\n",
       "            <th>user_id</th>\n",
       "            <th>list_id</th>\n",
       "            <th>list_title</th>\n",
       "            <th>list_movie_number</th>\n",
       "            <th>list_update_timestamp_utc</th>\n",
       "            <th>list_creation_timestamp_utc</th>\n",
       "            <th>list_followers</th>\n",
       "            <th>list_url</th>\n",
       "            <th>list_comments</th>\n",
       "            <th>list_description</th>\n",
       "            <th>list_cover_image_url</th>\n",
       "            <th>list_first_image_url</th>\n",
       "            <th>list_second_image_url</th>\n",
       "            <th>list_third_image_url</th>\n",
       "        </tr>\n",
       "    </thead>\n",
       "    <tbody>\n",
       "        <tr>\n",
       "            <td>85981819</td>\n",
       "            <td>1969</td>\n",
       "            <td>250 Favourite Films</td>\n",
       "            <td>250</td>\n",
       "            <td>2019-11-26 03:20:17</td>\n",
       "            <td>2009-12-18 13:04:48</td>\n",
       "            <td>23</td>\n",
       "            <td>http://mubi.com/lists/250-favourite-films</td>\n",
       "            <td>5</td>\n",
       "            <td>&lt;p&gt;In a loose order, but an order nonetheless.&lt;/p&gt;</td>\n",
       "            <td>https://assets.mubicdn.net/images/film/115/image-w1280.jpg?1527166442</td>\n",
       "            <td>https://assets.mubicdn.net/images/film/115/image-w320.jpg?1527166442</td>\n",
       "            <td>https://assets.mubicdn.net/images/film/3664/image-w320.jpg?1546228811</td>\n",
       "            <td>https://assets.mubicdn.net/images/film/187/image-w320.jpg?1552467202</td>\n",
       "        </tr>\n",
       "        <tr>\n",
       "            <td>85981819</td>\n",
       "            <td>3946</td>\n",
       "            <td>Films that should be better known</td>\n",
       "            <td>181</td>\n",
       "            <td>2020-05-01 05:54:39</td>\n",
       "            <td>2010-01-30 16:27:27</td>\n",
       "            <td>308</td>\n",
       "            <td>http://mubi.com/lists/films-that-should-be-better-known</td>\n",
       "            <td>11</td>\n",
       "            <td>&lt;p&gt;These are the films that need to be in more Top 100 lists, films that should be part of the curriculum. Obscure films unite!&lt;/p&gt;</td>\n",
       "            <td>https://assets.mubicdn.net/images/film/20780/image-w1280.jpg?1585404208</td>\n",
       "            <td>https://assets.mubicdn.net/images/film/20780/image-w320.jpg?1585404208</td>\n",
       "            <td>https://assets.mubicdn.net/images/film/19167/image-w320.jpg?1481140405</td>\n",
       "            <td>https://assets.mubicdn.net/images/film/23056/image-w320.jpg?1587129201</td>\n",
       "        </tr>\n",
       "        <tr>\n",
       "            <td>85981819</td>\n",
       "            <td>6683</td>\n",
       "            <td>Films by country (completely stolen from Glemaud)</td>\n",
       "            <td>179</td>\n",
       "            <td>2020-04-12 08:31:35</td>\n",
       "            <td>2010-03-31 08:55:10</td>\n",
       "            <td>32</td>\n",
       "            <td>http://mubi.com/lists/films-by-country-completely-stolen-from-glemaud</td>\n",
       "            <td>5</td>\n",
       "            <td>&lt;p&gt;Being a compulsive listmaker, cinéphile and geography nut, it was only a matter of time before this list happened. As the title declares, this was pretty much taken wholesale from &lt;a href=&quot;http://mubi.com/users/19259&quot; rel=&quot;nofollow&quot;&gt;Glemaud&lt;/a&gt;, whom I must thank for the inspiration.&lt;/p&gt;</td>\n",
       "            <td>https://assets.mubicdn.net/images/film/40676/image-w1280.jpg?1445889126</td>\n",
       "            <td>https://assets.mubicdn.net/images/film/40676/image-w320.jpg?1445889126</td>\n",
       "            <td>https://assets.mubicdn.net/images/film/99891/image-w320.jpg?1554805813</td>\n",
       "            <td>https://assets.mubicdn.net/images/film/32597/image-w320.jpg?1512428978</td>\n",
       "        </tr>\n",
       "        <tr>\n",
       "            <td>85981819</td>\n",
       "            <td>8865</td>\n",
       "            <td>Play it cool.</td>\n",
       "            <td>56</td>\n",
       "            <td>2018-12-14 14:53:41</td>\n",
       "            <td>2010-05-10 08:18:40</td>\n",
       "            <td>10</td>\n",
       "            <td>http://mubi.com/lists/play-it-cool</td>\n",
       "            <td>1</td>\n",
       "            <td>&lt;p&gt;A work in progress…&lt;/p&gt;<br>&lt;p&gt;This is intended to be a hall of fame for the films that are too cool for school… the films that wear sunglasses indoors and play vinyls instead of mp3s. These films will be remembered far beyond their time, and rightly so.&lt;/p&gt;<br>&lt;p&gt;Boo-yah.&lt;/p&gt;<br>&lt;p&gt;List is in chronological order for some reason.&lt;/p&gt;</td>\n",
       "            <td>https://assets.mubicdn.net/images/film/11573/image-w1280.jpg?1566186489</td>\n",
       "            <td>https://assets.mubicdn.net/images/film/11573/image-w320.jpg?1566186489</td>\n",
       "            <td>https://assets.mubicdn.net/images/film/25451/image-w320.jpg?1445870950</td>\n",
       "            <td>https://assets.mubicdn.net/images/film/1418/image-w320.jpg?1481541252</td>\n",
       "        </tr>\n",
       "        <tr>\n",
       "            <td>85981819</td>\n",
       "            <td>13796</td>\n",
       "            <td>Cinemalism (work in progress)</td>\n",
       "            <td>121</td>\n",
       "            <td>2019-11-26 03:20:23</td>\n",
       "            <td>2010-08-25 14:23:56</td>\n",
       "            <td>43</td>\n",
       "            <td>http://mubi.com/lists/cinemalism-work-in-progress</td>\n",
       "            <td>3</td>\n",
       "            <td>&lt;p&gt;An ongoing list collecting the best in minimalist cinema, whether it manifests itself in editing, photography, sound, content or all of the above.&lt;/p&gt;</td>\n",
       "            <td>https://assets.mubicdn.net/images/film/113749/image-w1280.jpg?1498808248</td>\n",
       "            <td>https://assets.mubicdn.net/images/film/113749/image-w320.jpg?1498808248</td>\n",
       "            <td>https://assets.mubicdn.net/images/film/160533/image-w320.jpg?1476739407</td>\n",
       "            <td>https://assets.mubicdn.net/images/film/95112/image-w320.jpg?1515779779</td>\n",
       "        </tr>\n",
       "    </tbody>\n",
       "</table>"
      ],
      "text/plain": [
       "[(85981819, 1969, '250 Favourite Films', 250, '2019-11-26 03:20:17', '2009-12-18 13:04:48', 23, 'http://mubi.com/lists/250-favourite-films', 5, '<p>In a loose order, but an order nonetheless.</p>', 'https://assets.mubicdn.net/images/film/115/image-w1280.jpg?1527166442', 'https://assets.mubicdn.net/images/film/115/image-w320.jpg?1527166442', 'https://assets.mubicdn.net/images/film/3664/image-w320.jpg?1546228811', 'https://assets.mubicdn.net/images/film/187/image-w320.jpg?1552467202'),\n",
       " (85981819, 3946, 'Films that should be better known', 181, '2020-05-01 05:54:39', '2010-01-30 16:27:27', 308, 'http://mubi.com/lists/films-that-should-be-better-known', 11, '<p>These are the films that need to be in more Top 100 lists, films that should be part of the curriculum. Obscure films unite!</p>', 'https://assets.mubicdn.net/images/film/20780/image-w1280.jpg?1585404208', 'https://assets.mubicdn.net/images/film/20780/image-w320.jpg?1585404208', 'https://assets.mubicdn.net/images/film/19167/image-w320.jpg?1481140405', 'https://assets.mubicdn.net/images/film/23056/image-w320.jpg?1587129201'),\n",
       " (85981819, 6683, 'Films by country (completely stolen from Glemaud)', 179, '2020-04-12 08:31:35', '2010-03-31 08:55:10', 32, 'http://mubi.com/lists/films-by-country-completely-stolen-from-glemaud', 5, '<p>Being a compulsive listmaker, cinéphile and geography nut, it was only a matter of time before this list happened. As the title declares, this was pretty much taken wholesale from <a href=\"http://mubi.com/users/19259\" rel=\"nofollow\">Glemaud</a>, whom I must thank for the inspiration.</p>', 'https://assets.mubicdn.net/images/film/40676/image-w1280.jpg?1445889126', 'https://assets.mubicdn.net/images/film/40676/image-w320.jpg?1445889126', 'https://assets.mubicdn.net/images/film/99891/image-w320.jpg?1554805813', 'https://assets.mubicdn.net/images/film/32597/image-w320.jpg?1512428978'),\n",
       " (85981819, 8865, 'Play it cool.', 56, '2018-12-14 14:53:41', '2010-05-10 08:18:40', 10, 'http://mubi.com/lists/play-it-cool', 1, '<p>A work in progress…</p>\\n<p>This is intended to be a hall of fame for the films that are too cool for school… the films that wear sunglasses indoo ... (33 characters truncated) ... s. These films will be remembered far beyond their time, and rightly so.</p>\\n<p>Boo-yah.</p>\\n<p>List is in chronological order for some reason.</p>', 'https://assets.mubicdn.net/images/film/11573/image-w1280.jpg?1566186489', 'https://assets.mubicdn.net/images/film/11573/image-w320.jpg?1566186489', 'https://assets.mubicdn.net/images/film/25451/image-w320.jpg?1445870950', 'https://assets.mubicdn.net/images/film/1418/image-w320.jpg?1481541252'),\n",
       " (85981819, 13796, 'Cinemalism (work in progress)', 121, '2019-11-26 03:20:23', '2010-08-25 14:23:56', 43, 'http://mubi.com/lists/cinemalism-work-in-progress', 3, '<p>An ongoing list collecting the best in minimalist cinema, whether it manifests itself in editing, photography, sound, content or all of the above.</p>', 'https://assets.mubicdn.net/images/film/113749/image-w1280.jpg?1498808248', 'https://assets.mubicdn.net/images/film/113749/image-w320.jpg?1498808248', 'https://assets.mubicdn.net/images/film/160533/image-w320.jpg?1476739407', 'https://assets.mubicdn.net/images/film/95112/image-w320.jpg?1515779779')]"
      ]
     },
     "execution_count": 36,
     "metadata": {},
     "output_type": "execute_result"
    }
   ],
   "source": [
    "%%sql\n",
    "\n",
    "SELECT *\n",
    "FROM lists\n",
    "LIMIT 5;"
   ]
  },
  {
   "cell_type": "code",
   "execution_count": 38,
   "metadata": {},
   "outputs": [
    {
     "name": "stdout",
     "output_type": "stream",
     "text": [
      " * sqlite:///Data//mubi_db.sqlite\n",
      "Done.\n"
     ]
    },
    {
     "data": {
      "text/html": [
       "<table>\n",
       "    <thead>\n",
       "        <tr>\n",
       "            <th>list_id</th>\n",
       "            <th>list_followers</th>\n",
       "            <th>list_movie_number</th>\n",
       "        </tr>\n",
       "    </thead>\n",
       "    <tbody>\n",
       "        <tr>\n",
       "            <td>5512</td>\n",
       "            <td>4914</td>\n",
       "            <td>534</td>\n",
       "        </tr>\n",
       "        <tr>\n",
       "            <td>7482</td>\n",
       "            <td>4604</td>\n",
       "            <td>1178</td>\n",
       "        </tr>\n",
       "        <tr>\n",
       "            <td>6657</td>\n",
       "            <td>3644</td>\n",
       "            <td>971</td>\n",
       "        </tr>\n",
       "        <tr>\n",
       "            <td>108835</td>\n",
       "            <td>3566</td>\n",
       "            <td>1000</td>\n",
       "        </tr>\n",
       "        <tr>\n",
       "            <td>16625</td>\n",
       "            <td>2749</td>\n",
       "            <td>936</td>\n",
       "        </tr>\n",
       "        <tr>\n",
       "            <td>18729</td>\n",
       "            <td>2461</td>\n",
       "            <td>2455</td>\n",
       "        </tr>\n",
       "        <tr>\n",
       "            <td>10286</td>\n",
       "            <td>2449</td>\n",
       "            <td>45</td>\n",
       "        </tr>\n",
       "        <tr>\n",
       "            <td>66024</td>\n",
       "            <td>2433</td>\n",
       "            <td>1568</td>\n",
       "        </tr>\n",
       "        <tr>\n",
       "            <td>557</td>\n",
       "            <td>2398</td>\n",
       "            <td>490</td>\n",
       "        </tr>\n",
       "        <tr>\n",
       "            <td>115</td>\n",
       "            <td>2332</td>\n",
       "            <td>364</td>\n",
       "        </tr>\n",
       "    </tbody>\n",
       "</table>"
      ],
      "text/plain": [
       "[(5512, 4914, 534),\n",
       " (7482, 4604, 1178),\n",
       " (6657, 3644, 971),\n",
       " (108835, 3566, 1000),\n",
       " (16625, 2749, 936),\n",
       " (18729, 2461, 2455),\n",
       " (10286, 2449, 45),\n",
       " (66024, 2433, 1568),\n",
       " (557, 2398, 490),\n",
       " (115, 2332, 364)]"
      ]
     },
     "execution_count": 38,
     "metadata": {},
     "output_type": "execute_result"
    }
   ],
   "source": [
    "%%sql\n",
    "\n",
    "SELECT \n",
    "    list_id,\n",
    "    list_followers,\n",
    "    list_movie_number\n",
    "FROM lists\n",
    "ORDER BY list_followers DESC\n",
    "LIMIT 10;"
   ]
  },
  {
   "cell_type": "markdown",
   "metadata": {},
   "source": [
    "#### ratings table"
   ]
  },
  {
   "cell_type": "code",
   "execution_count": 2,
   "metadata": {},
   "outputs": [
    {
     "name": "stdout",
     "output_type": "stream",
     "text": [
      " * sqlite:///Data//mubi_db.sqlite\n",
      "Done.\n"
     ]
    },
    {
     "data": {
      "text/html": [
       "<table>\n",
       "    <thead>\n",
       "        <tr>\n",
       "            <th>cid</th>\n",
       "            <th>name</th>\n",
       "            <th>type</th>\n",
       "            <th>notnull</th>\n",
       "            <th>dflt_value</th>\n",
       "            <th>pk</th>\n",
       "        </tr>\n",
       "    </thead>\n",
       "    <tbody>\n",
       "        <tr>\n",
       "            <td>0</td>\n",
       "            <td>movie_id</td>\n",
       "            <td>INTEGER</td>\n",
       "            <td>0</td>\n",
       "            <td>None</td>\n",
       "            <td>0</td>\n",
       "        </tr>\n",
       "        <tr>\n",
       "            <td>1</td>\n",
       "            <td>rating_id</td>\n",
       "            <td>INTEGER</td>\n",
       "            <td>0</td>\n",
       "            <td>None</td>\n",
       "            <td>0</td>\n",
       "        </tr>\n",
       "        <tr>\n",
       "            <td>2</td>\n",
       "            <td>rating_url</td>\n",
       "            <td>TEXT</td>\n",
       "            <td>0</td>\n",
       "            <td>None</td>\n",
       "            <td>0</td>\n",
       "        </tr>\n",
       "        <tr>\n",
       "            <td>3</td>\n",
       "            <td>rating_score</td>\n",
       "            <td>REAL</td>\n",
       "            <td>0</td>\n",
       "            <td>None</td>\n",
       "            <td>0</td>\n",
       "        </tr>\n",
       "        <tr>\n",
       "            <td>4</td>\n",
       "            <td>rating_timestamp_utc</td>\n",
       "            <td>TEXT</td>\n",
       "            <td>0</td>\n",
       "            <td>None</td>\n",
       "            <td>0</td>\n",
       "        </tr>\n",
       "        <tr>\n",
       "            <td>5</td>\n",
       "            <td>critic</td>\n",
       "            <td>TEXT</td>\n",
       "            <td>0</td>\n",
       "            <td>None</td>\n",
       "            <td>0</td>\n",
       "        </tr>\n",
       "        <tr>\n",
       "            <td>6</td>\n",
       "            <td>critic_likes</td>\n",
       "            <td>INTEGER</td>\n",
       "            <td>0</td>\n",
       "            <td>None</td>\n",
       "            <td>0</td>\n",
       "        </tr>\n",
       "        <tr>\n",
       "            <td>7</td>\n",
       "            <td>critic_comments</td>\n",
       "            <td>INTEGER</td>\n",
       "            <td>0</td>\n",
       "            <td>None</td>\n",
       "            <td>0</td>\n",
       "        </tr>\n",
       "        <tr>\n",
       "            <td>8</td>\n",
       "            <td>user_id</td>\n",
       "            <td>INTEGER</td>\n",
       "            <td>0</td>\n",
       "            <td>None</td>\n",
       "            <td>0</td>\n",
       "        </tr>\n",
       "        <tr>\n",
       "            <td>9</td>\n",
       "            <td>user_trialist</td>\n",
       "            <td>INTEGER</td>\n",
       "            <td>0</td>\n",
       "            <td>None</td>\n",
       "            <td>0</td>\n",
       "        </tr>\n",
       "        <tr>\n",
       "            <td>10</td>\n",
       "            <td>user_subscriber</td>\n",
       "            <td>INTEGER</td>\n",
       "            <td>0</td>\n",
       "            <td>None</td>\n",
       "            <td>0</td>\n",
       "        </tr>\n",
       "        <tr>\n",
       "            <td>11</td>\n",
       "            <td>user_eligible_for_trial</td>\n",
       "            <td>INTEGER</td>\n",
       "            <td>0</td>\n",
       "            <td>None</td>\n",
       "            <td>0</td>\n",
       "        </tr>\n",
       "        <tr>\n",
       "            <td>12</td>\n",
       "            <td>user_has_payment_method</td>\n",
       "            <td>INTEGER</td>\n",
       "            <td>0</td>\n",
       "            <td>None</td>\n",
       "            <td>0</td>\n",
       "        </tr>\n",
       "    </tbody>\n",
       "</table>"
      ],
      "text/plain": [
       "[(0, 'movie_id', 'INTEGER', 0, None, 0),\n",
       " (1, 'rating_id', 'INTEGER', 0, None, 0),\n",
       " (2, 'rating_url', 'TEXT', 0, None, 0),\n",
       " (3, 'rating_score', 'REAL', 0, None, 0),\n",
       " (4, 'rating_timestamp_utc', 'TEXT', 0, None, 0),\n",
       " (5, 'critic', 'TEXT', 0, None, 0),\n",
       " (6, 'critic_likes', 'INTEGER', 0, None, 0),\n",
       " (7, 'critic_comments', 'INTEGER', 0, None, 0),\n",
       " (8, 'user_id', 'INTEGER', 0, None, 0),\n",
       " (9, 'user_trialist', 'INTEGER', 0, None, 0),\n",
       " (10, 'user_subscriber', 'INTEGER', 0, None, 0),\n",
       " (11, 'user_eligible_for_trial', 'INTEGER', 0, None, 0),\n",
       " (12, 'user_has_payment_method', 'INTEGER', 0, None, 0)]"
      ]
     },
     "execution_count": 2,
     "metadata": {},
     "output_type": "execute_result"
    }
   ],
   "source": [
    "%%sql\n",
    "\n",
    "PRAGMA table_info(ratings);"
   ]
  },
  {
   "cell_type": "code",
   "execution_count": 3,
   "metadata": {},
   "outputs": [
    {
     "name": "stdout",
     "output_type": "stream",
     "text": [
      " * sqlite:///Data//mubi_db.sqlite\n",
      "Done.\n"
     ]
    },
    {
     "data": {
      "text/html": [
       "<table>\n",
       "    <thead>\n",
       "        <tr>\n",
       "            <th>movie_id</th>\n",
       "            <th>rating_id</th>\n",
       "            <th>rating_url</th>\n",
       "            <th>rating_score</th>\n",
       "            <th>rating_timestamp_utc</th>\n",
       "            <th>critic</th>\n",
       "            <th>critic_likes</th>\n",
       "            <th>critic_comments</th>\n",
       "            <th>user_id</th>\n",
       "            <th>user_trialist</th>\n",
       "            <th>user_subscriber</th>\n",
       "            <th>user_eligible_for_trial</th>\n",
       "            <th>user_has_payment_method</th>\n",
       "        </tr>\n",
       "    </thead>\n",
       "    <tbody>\n",
       "        <tr>\n",
       "            <td>1066</td>\n",
       "            <td>15610495</td>\n",
       "            <td>http://mubi.com/films/pavee-lackeen-the-traveller-girl/ratings/15610495</td>\n",
       "            <td>3.0</td>\n",
       "            <td>2017-06-10 12:38:33</td>\n",
       "            <td>None</td>\n",
       "            <td>0</td>\n",
       "            <td>0</td>\n",
       "            <td>41579158</td>\n",
       "            <td>0</td>\n",
       "            <td>0</td>\n",
       "            <td>1</td>\n",
       "            <td>0</td>\n",
       "        </tr>\n",
       "        <tr>\n",
       "            <td>1066</td>\n",
       "            <td>10704606</td>\n",
       "            <td>http://mubi.com/films/pavee-lackeen-the-traveller-girl/ratings/10704606</td>\n",
       "            <td>2.0</td>\n",
       "            <td>2014-08-15 23:42:31</td>\n",
       "            <td>None</td>\n",
       "            <td>0</td>\n",
       "            <td>0</td>\n",
       "            <td>85981819</td>\n",
       "            <td>1</td>\n",
       "            <td>1</td>\n",
       "            <td>0</td>\n",
       "            <td>1</td>\n",
       "        </tr>\n",
       "        <tr>\n",
       "            <td>1066</td>\n",
       "            <td>10177114</td>\n",
       "            <td>http://mubi.com/films/pavee-lackeen-the-traveller-girl/ratings/10177114</td>\n",
       "            <td>2.0</td>\n",
       "            <td>2014-01-30 13:21:57</td>\n",
       "            <td>None</td>\n",
       "            <td>0</td>\n",
       "            <td>0</td>\n",
       "            <td>4208563</td>\n",
       "            <td>0</td>\n",
       "            <td>0</td>\n",
       "            <td>1</td>\n",
       "            <td>1</td>\n",
       "        </tr>\n",
       "        <tr>\n",
       "            <td>1066</td>\n",
       "            <td>10130280</td>\n",
       "            <td>http://mubi.com/films/pavee-lackeen-the-traveller-girl/ratings/10130280</td>\n",
       "            <td>3.0</td>\n",
       "            <td>2014-01-19 01:04:23</td>\n",
       "            <td>I am a bit disappointed by this documentary film I&#x27;ve been wanting to watch for years as it is way less informative than I had imagined and rather cheaply made technically speaking. Otherwise it is O.K. and rather interesting.</td>\n",
       "            <td>0</td>\n",
       "            <td>0</td>\n",
       "            <td>9820140</td>\n",
       "            <td>0</td>\n",
       "            <td>0</td>\n",
       "            <td>1</td>\n",
       "            <td>0</td>\n",
       "        </tr>\n",
       "        <tr>\n",
       "            <td>1066</td>\n",
       "            <td>8357049</td>\n",
       "            <td>http://mubi.com/films/pavee-lackeen-the-traveller-girl/ratings/8357049</td>\n",
       "            <td>4.0</td>\n",
       "            <td>2012-10-02 18:28:47</td>\n",
       "            <td>None</td>\n",
       "            <td>0</td>\n",
       "            <td>0</td>\n",
       "            <td>68654088</td>\n",
       "            <td>0</td>\n",
       "            <td>0</td>\n",
       "            <td>1</td>\n",
       "            <td>1</td>\n",
       "        </tr>\n",
       "    </tbody>\n",
       "</table>"
      ],
      "text/plain": [
       "[(1066, 15610495, 'http://mubi.com/films/pavee-lackeen-the-traveller-girl/ratings/15610495', 3.0, '2017-06-10 12:38:33', None, 0, 0, 41579158, 0, 0, 1, 0),\n",
       " (1066, 10704606, 'http://mubi.com/films/pavee-lackeen-the-traveller-girl/ratings/10704606', 2.0, '2014-08-15 23:42:31', None, 0, 0, 85981819, 1, 1, 0, 1),\n",
       " (1066, 10177114, 'http://mubi.com/films/pavee-lackeen-the-traveller-girl/ratings/10177114', 2.0, '2014-01-30 13:21:57', None, 0, 0, 4208563, 0, 0, 1, 1),\n",
       " (1066, 10130280, 'http://mubi.com/films/pavee-lackeen-the-traveller-girl/ratings/10130280', 3.0, '2014-01-19 01:04:23', \"I am a bit disappointed by this documentary film I've been wanting to watch for years as it is way less informative than I had imagined and rather cheaply made technically speaking. Otherwise it is O.K. and rather interesting.\", 0, 0, 9820140, 0, 0, 1, 0),\n",
       " (1066, 8357049, 'http://mubi.com/films/pavee-lackeen-the-traveller-girl/ratings/8357049', 4.0, '2012-10-02 18:28:47', None, 0, 0, 68654088, 0, 0, 1, 1)]"
      ]
     },
     "execution_count": 3,
     "metadata": {},
     "output_type": "execute_result"
    }
   ],
   "source": [
    "%%sql\n",
    "\n",
    "SELECT *\n",
    "FROM ratings\n",
    "LIMIT 5;"
   ]
  },
  {
   "cell_type": "code",
   "execution_count": 6,
   "metadata": {},
   "outputs": [
    {
     "name": "stdout",
     "output_type": "stream",
     "text": [
      " * sqlite:///Data//mubi_db.sqlite\n",
      "Done.\n"
     ]
    },
    {
     "data": {
      "text/html": [
       "<table>\n",
       "    <thead>\n",
       "        <tr>\n",
       "            <th>COUNT(DISTINCT rating_id)</th>\n",
       "        </tr>\n",
       "    </thead>\n",
       "    <tbody>\n",
       "        <tr>\n",
       "            <td>15519997</td>\n",
       "        </tr>\n",
       "    </tbody>\n",
       "</table>"
      ],
      "text/plain": [
       "[(15519997,)]"
      ]
     },
     "execution_count": 6,
     "metadata": {},
     "output_type": "execute_result"
    }
   ],
   "source": [
    "%%sql\n",
    "\n",
    "SELECT COUNT(DISTINCT rating_id)\n",
    "FROM ratings;"
   ]
  },
  {
   "cell_type": "markdown",
   "metadata": {},
   "source": [
    "This is a really big table, and this query took a long time to execute. That might cause some problems"
   ]
  },
  {
   "cell_type": "code",
   "execution_count": 7,
   "metadata": {},
   "outputs": [
    {
     "name": "stdout",
     "output_type": "stream",
     "text": [
      " * sqlite:///Data//mubi_db.sqlite\n",
      "Done.\n"
     ]
    },
    {
     "data": {
      "text/html": [
       "<table>\n",
       "    <thead>\n",
       "        <tr>\n",
       "            <th>rating_score</th>\n",
       "            <th>COUNT(rating_id)</th>\n",
       "        </tr>\n",
       "    </thead>\n",
       "    <tbody>\n",
       "        <tr>\n",
       "            <td>None</td>\n",
       "            <td>26731</td>\n",
       "        </tr>\n",
       "        <tr>\n",
       "            <td>1.0</td>\n",
       "            <td>771057</td>\n",
       "        </tr>\n",
       "        <tr>\n",
       "            <td>2.0</td>\n",
       "            <td>1723743</td>\n",
       "        </tr>\n",
       "        <tr>\n",
       "            <td>3.0</td>\n",
       "            <td>4156587</td>\n",
       "        </tr>\n",
       "        <tr>\n",
       "            <td>4.0</td>\n",
       "            <td>5271049</td>\n",
       "        </tr>\n",
       "        <tr>\n",
       "            <td>5.0</td>\n",
       "            <td>3570838</td>\n",
       "        </tr>\n",
       "    </tbody>\n",
       "</table>"
      ],
      "text/plain": [
       "[(None, 26731),\n",
       " (1.0, 771057),\n",
       " (2.0, 1723743),\n",
       " (3.0, 4156587),\n",
       " (4.0, 5271049),\n",
       " (5.0, 3570838)]"
      ]
     },
     "execution_count": 7,
     "metadata": {},
     "output_type": "execute_result"
    }
   ],
   "source": [
    "%%sql\n",
    "\n",
    "SELECT \n",
    "    rating_score,\n",
    "    COUNT(rating_id)\n",
    "FROM ratings\n",
    "GROUP BY rating_score\n",
    "ORDER BY rating_score;"
   ]
  },
  {
   "cell_type": "markdown",
   "metadata": {},
   "source": [
    "Creating an index on the rating_id column to make queries in this table faster. "
   ]
  },
  {
   "cell_type": "code",
   "execution_count": 2,
   "metadata": {},
   "outputs": [
    {
     "name": "stdout",
     "output_type": "stream",
     "text": [
      " * sqlite:///Data//mubi_db.sqlite\n",
      "Done.\n"
     ]
    },
    {
     "data": {
      "text/plain": [
       "[]"
      ]
     },
     "execution_count": 2,
     "metadata": {},
     "output_type": "execute_result"
    }
   ],
   "source": [
    "%%sql\n",
    "\n",
    "CREATE INDEX index_name\n",
    "ON ratings(rating_id);"
   ]
  },
  {
   "cell_type": "code",
   "execution_count": null,
   "metadata": {},
   "outputs": [],
   "source": []
  }
 ],
 "metadata": {
  "kernelspec": {
   "display_name": "cap3",
   "language": "python",
   "name": "cap3"
  },
  "language_info": {
   "codemirror_mode": {
    "name": "ipython",
    "version": 3
   },
   "file_extension": ".py",
   "mimetype": "text/x-python",
   "name": "python",
   "nbconvert_exporter": "python",
   "pygments_lexer": "ipython3",
   "version": "3.8.5"
  }
 },
 "nbformat": 4,
 "nbformat_minor": 4
}
