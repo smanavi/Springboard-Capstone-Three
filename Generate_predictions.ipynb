{
 "cells": [
  {
   "cell_type": "code",
   "execution_count": null,
   "id": "bac8fdd1",
   "metadata": {},
   "outputs": [],
   "source": [
    "import tensorflow as tf\n",
    "from tensorflow import keras\n",
    "\n",
    "import pandas as pd\n",
    "import numpy as np\n",
    "\n",
    "import matplotlib.pyplot as plt\n",
    "import seaborn as sns\n",
    "\n",
    "from sqlalchemy import create_engine\n",
    "conn = create_engine('sqlite:///Data//mubi_db.sqlite').connect()"
   ]
  },
  {
   "cell_type": "code",
   "execution_count": null,
   "id": "6c8ddf93",
   "metadata": {},
   "outputs": [],
   "source": [
    "import random\n",
    "from itertools import chain\n",
    "def flatten(list_of_lists):\n",
    "    \"Flatten one level of nesting\"\n",
    "    return chain.from_iterable(list_of_lists)"
   ]
  },
  {
   "cell_type": "code",
   "execution_count": null,
   "id": "d8802ebf",
   "metadata": {},
   "outputs": [],
   "source": [
    "def is_close_enough(pred, ratings):\n",
    "    val = []\n",
    "    for pair in zip(pred, ratings):\n",
    "        if pair[1] == 5:\n",
    "            val.append(pair[1] - 1 <= pair[0])\n",
    "        else:\n",
    "            val.append(pair[1] - .5 <= pair[0] <= pair[1] + .5)\n",
    "        \n",
    "    return val"
   ]
  },
  {
   "cell_type": "code",
   "execution_count": null,
   "id": "70f2be6c",
   "metadata": {},
   "outputs": [],
   "source": []
  },
  {
   "cell_type": "code",
   "execution_count": null,
   "id": "f8db20e4",
   "metadata": {},
   "outputs": [],
   "source": []
  },
  {
   "cell_type": "code",
   "execution_count": null,
   "id": "f0c970bf",
   "metadata": {},
   "outputs": [],
   "source": []
  },
  {
   "cell_type": "code",
   "execution_count": null,
   "id": "5773df50",
   "metadata": {},
   "outputs": [],
   "source": [
    "X_train = pd.read_pickle('saved_model/rmse_839/X_train.pkl')\n",
    "X_test = pd.read_pickle('saved_model/rmse_839/X_test.pkl')\n",
    "ratings = pd.read_pickle(\"./Data/final_dataset_pre_split.pkl\")"
   ]
  },
  {
   "cell_type": "code",
   "execution_count": null,
   "id": "8ea2a6a0",
   "metadata": {},
   "outputs": [],
   "source": [
    "model = keras.models.load_model('saved_model/rmse_839/model.h5')"
   ]
  },
  {
   "cell_type": "code",
   "execution_count": null,
   "id": "d669ada4",
   "metadata": {},
   "outputs": [],
   "source": []
  },
  {
   "cell_type": "markdown",
   "id": "f801f5dc",
   "metadata": {},
   "source": [
    "### Check X_test"
   ]
  },
  {
   "cell_type": "code",
   "execution_count": null,
   "id": "5c50f275",
   "metadata": {},
   "outputs": [],
   "source": [
    "X_test.head()"
   ]
  },
  {
   "cell_type": "code",
   "execution_count": null,
   "id": "3c445862",
   "metadata": {},
   "outputs": [],
   "source": [
    "X_test.shape"
   ]
  },
  {
   "cell_type": "code",
   "execution_count": null,
   "id": "8351eaba",
   "metadata": {},
   "outputs": [],
   "source": [
    "random_10000_users = random.choices(X_test.user.unique(), k=10000)"
   ]
  },
  {
   "cell_type": "code",
   "execution_count": null,
   "id": "15405fec",
   "metadata": {},
   "outputs": [],
   "source": [
    "predictions = []\n",
    "accuracy = []\n",
    "\n",
    "for user in random_10000_users:\n",
    "    movie_array = X_test[X_test.user==user].movie.values.astype(int)\n",
    "    user_array = np.array([int(user) for n in range(len(movie_array))])\n",
    "    pred = model.predict([movie_array, user_array])\n",
    "    val = is_close_enough(np.round(pred.flatten(), 1), X_test[X_test.user==user].rating_score.values)\n",
    "    \n",
    "    predictions.append(list(pred.flatten()))\n",
    "    accuracy.append(sum(val) / len(pred.flatten()))"
   ]
  },
  {
   "cell_type": "code",
   "execution_count": null,
   "id": "8c8707fa",
   "metadata": {},
   "outputs": [],
   "source": [
    "sns.histplot(accuracy)\n",
    "plt.show()"
   ]
  },
  {
   "cell_type": "code",
   "execution_count": null,
   "id": "20d31b11",
   "metadata": {},
   "outputs": [],
   "source": [
    "sns.histplot(list(flatten(predictions)), bins=5, color='red', fill=False,\n",
    "            stat='density', common_norm=False)\n",
    "\n",
    "\n",
    "sns.histplot(X_test[X_test.user.isin(random_10000_users)].rating_score.values, bins=5, color='blue', fill=False,\n",
    "            stat='density', common_norm=False)\n",
    "\n",
    "plt.show()"
   ]
  },
  {
   "cell_type": "code",
   "execution_count": null,
   "id": "91e465a0",
   "metadata": {},
   "outputs": [],
   "source": [
    "X_test.groupby('user').count()['movie'].loc[random_10000_users].values"
   ]
  },
  {
   "cell_type": "code",
   "execution_count": null,
   "id": "9fa39d80",
   "metadata": {},
   "outputs": [],
   "source": [
    "plt.scatter(x=X_test.groupby('user').count()['movie'].loc[random_10000_users].values,\n",
    "           y=accuracy)\n",
    "\n",
    "plt.title('n_ratings v accuracy')\n",
    "plt.show()"
   ]
  },
  {
   "cell_type": "code",
   "execution_count": null,
   "id": "75c6509b",
   "metadata": {},
   "outputs": [],
   "source": [
    "X_test.groupby('user').mean()['rating_score'].loc[random_10000_users].values"
   ]
  },
  {
   "cell_type": "code",
   "execution_count": null,
   "id": "f78a68f0",
   "metadata": {},
   "outputs": [],
   "source": [
    "plt.scatter(x=X_test.groupby('user').mean()['rating_score'].loc[random_10000_users].values,\n",
    "           y=accuracy)\n",
    "\n",
    "plt.title('mean rating score v accuracy')\n",
    "plt.show()"
   ]
  },
  {
   "cell_type": "code",
   "execution_count": null,
   "id": "e0974f8a",
   "metadata": {},
   "outputs": [],
   "source": [
    "plt.scatter(x=X_test.groupby('user').mean()['rating_score'].loc[random_10000_users].values,\n",
    "           y=[np.mean(pred) for pred in predictions])\n",
    "\n",
    "plt.title('mean rating score v mean pred rating score')\n",
    "plt.show()"
   ]
  },
  {
   "cell_type": "code",
   "execution_count": null,
   "id": "00fa9fac",
   "metadata": {},
   "outputs": [],
   "source": []
  }
 ],
 "metadata": {
  "kernelspec": {
   "display_name": "tf_env",
   "language": "python",
   "name": "tf_env"
  },
  "language_info": {
   "codemirror_mode": {
    "name": "ipython",
    "version": 3
   },
   "file_extension": ".py",
   "mimetype": "text/x-python",
   "name": "python",
   "nbconvert_exporter": "python",
   "pygments_lexer": "ipython3",
   "version": "3.8.5"
  }
 },
 "nbformat": 4,
 "nbformat_minor": 5
}
