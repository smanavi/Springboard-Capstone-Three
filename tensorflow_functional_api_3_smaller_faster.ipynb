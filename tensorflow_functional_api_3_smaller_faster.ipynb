{
 "cells": [
  {
   "cell_type": "markdown",
   "id": "e251b6f4",
   "metadata": {},
   "source": [
    "code is from here: https://heartbeat.fritz.ai/build-train-and-deploy-a-book-recommender-system-using-keras-tensorflow-js-b96944b936a7"
   ]
  },
  {
   "cell_type": "code",
   "execution_count": 1,
   "id": "f66ab82a",
   "metadata": {},
   "outputs": [],
   "source": [
    "import numpy as np\n",
    "import pandas as pd\n",
    "from sklearn.model_selection import train_test_split\n",
    "from sklearn.preprocessing import LabelEncoder\n",
    "\n",
    "import tensorflow as tf\n",
    "from tensorflow import keras\n",
    "from tensorflow.keras import layers"
   ]
  },
  {
   "cell_type": "code",
   "execution_count": null,
   "id": "cd872b00",
   "metadata": {},
   "outputs": [],
   "source": [
    "# import tensorflow_recommenders as tfrs"
   ]
  },
  {
   "cell_type": "code",
   "execution_count": 3,
   "id": "6af302da",
   "metadata": {},
   "outputs": [],
   "source": [
    "ratings = pd.read_pickle(\"./Data/small_random_selection_longform.pkl\")\n",
    "# ratings = pd.read_pickle(\"./Data/moderate_users_longform.pkl\")\n",
    "user_stats = pd.read_pickle(\"./Data/moderate_user_stats.pkl\")"
   ]
  },
  {
   "cell_type": "code",
   "execution_count": 4,
   "id": "f3a9fcd3",
   "metadata": {},
   "outputs": [
    {
     "data": {
      "text/plain": [
       "37819"
      ]
     },
     "execution_count": 4,
     "metadata": {},
     "output_type": "execute_result"
    }
   ],
   "source": [
    "user_enc = LabelEncoder()\n",
    "ratings['user'] = user_enc.fit_transform(ratings['user_id'].values)\n",
    "n_users = ratings['user'].nunique()\n",
    "n_users"
   ]
  },
  {
   "cell_type": "code",
   "execution_count": 5,
   "id": "3ed57496",
   "metadata": {},
   "outputs": [
    {
     "data": {
      "text/plain": [
       "11809"
      ]
     },
     "execution_count": 5,
     "metadata": {},
     "output_type": "execute_result"
    }
   ],
   "source": [
    "item_enc = LabelEncoder()\n",
    "ratings['movie'] = item_enc.fit_transform(ratings['movie_id'].values)\n",
    "n_movies = ratings['movie'].nunique()\n",
    "n_movies"
   ]
  },
  {
   "cell_type": "code",
   "execution_count": 6,
   "id": "0d7c39b7",
   "metadata": {},
   "outputs": [
    {
     "data": {
      "text/html": [
       "<div>\n",
       "<style scoped>\n",
       "    .dataframe tbody tr th:only-of-type {\n",
       "        vertical-align: middle;\n",
       "    }\n",
       "\n",
       "    .dataframe tbody tr th {\n",
       "        vertical-align: top;\n",
       "    }\n",
       "\n",
       "    .dataframe thead th {\n",
       "        text-align: right;\n",
       "    }\n",
       "</style>\n",
       "<table border=\"1\" class=\"dataframe\">\n",
       "  <thead>\n",
       "    <tr style=\"text-align: right;\">\n",
       "      <th></th>\n",
       "      <th>movie_id</th>\n",
       "      <th>rating_score</th>\n",
       "      <th>user_id</th>\n",
       "      <th>user</th>\n",
       "      <th>movie</th>\n",
       "    </tr>\n",
       "  </thead>\n",
       "  <tbody>\n",
       "    <tr>\n",
       "      <th>0</th>\n",
       "      <td>3724</td>\n",
       "      <td>4</td>\n",
       "      <td>23420646</td>\n",
       "      <td>8806</td>\n",
       "      <td>2334</td>\n",
       "    </tr>\n",
       "    <tr>\n",
       "      <th>1</th>\n",
       "      <td>10151</td>\n",
       "      <td>5</td>\n",
       "      <td>34896798</td>\n",
       "      <td>13207</td>\n",
       "      <td>3041</td>\n",
       "    </tr>\n",
       "    <tr>\n",
       "      <th>2</th>\n",
       "      <td>26478</td>\n",
       "      <td>3</td>\n",
       "      <td>25507770</td>\n",
       "      <td>9662</td>\n",
       "      <td>5318</td>\n",
       "    </tr>\n",
       "    <tr>\n",
       "      <th>3</th>\n",
       "      <td>22446</td>\n",
       "      <td>1</td>\n",
       "      <td>10806776</td>\n",
       "      <td>4113</td>\n",
       "      <td>4343</td>\n",
       "    </tr>\n",
       "    <tr>\n",
       "      <th>4</th>\n",
       "      <td>9660</td>\n",
       "      <td>5</td>\n",
       "      <td>32291196</td>\n",
       "      <td>12226</td>\n",
       "      <td>3005</td>\n",
       "    </tr>\n",
       "  </tbody>\n",
       "</table>\n",
       "</div>"
      ],
      "text/plain": [
       "   movie_id  rating_score   user_id   user  movie\n",
       "0      3724             4  23420646   8806   2334\n",
       "1     10151             5  34896798  13207   3041\n",
       "2     26478             3  25507770   9662   5318\n",
       "3     22446             1  10806776   4113   4343\n",
       "4      9660             5  32291196  12226   3005"
      ]
     },
     "execution_count": 6,
     "metadata": {},
     "output_type": "execute_result"
    }
   ],
   "source": [
    "ratings.head()"
   ]
  },
  {
   "cell_type": "code",
   "execution_count": null,
   "id": "04f7b4f0",
   "metadata": {},
   "outputs": [],
   "source": [
    "def center_ratings(ratings_df, users_df):\n",
    "    ratings_df['centered_rating'] = None\n",
    "    for row in ratings_df.index:\n",
    "        mean_val = users_df.at[ratings_df.at[row, 'user_id'], 'mean_score']\n",
    "        ratings_df.at[row, 'centered_rating'] = ratings_df.at[row, 'rating_score'] - mean_val\n",
    "        \n",
    "    return ratings_df"
   ]
  },
  {
   "cell_type": "code",
   "execution_count": null,
   "id": "9239905d",
   "metadata": {},
   "outputs": [],
   "source": [
    "ratings_centered = center_ratings(ratings, user_stats)"
   ]
  },
  {
   "cell_type": "code",
   "execution_count": 7,
   "id": "ba60506e",
   "metadata": {},
   "outputs": [
    {
     "data": {
      "text/plain": [
       "((68642, 2), (68642,))"
      ]
     },
     "execution_count": 7,
     "metadata": {},
     "output_type": "execute_result"
    }
   ],
   "source": [
    "\n",
    "X = ratings[['movie', 'user']].values\n",
    "y = ratings['rating_score'].values\n",
    "\n",
    "X.shape, y.shape"
   ]
  },
  {
   "cell_type": "code",
   "execution_count": 8,
   "id": "0f7cad98",
   "metadata": {},
   "outputs": [],
   "source": [
    "X_train, X_test = train_test_split(ratings[['movie', 'user', 'rating_score']], test_size=0.33, random_state=42)"
   ]
  },
  {
   "cell_type": "code",
   "execution_count": 9,
   "id": "14d97c94",
   "metadata": {},
   "outputs": [
    {
     "data": {
      "text/plain": [
       "((45990, 3), (22652, 3))"
      ]
     },
     "execution_count": 9,
     "metadata": {},
     "output_type": "execute_result"
    }
   ],
   "source": [
    "X_train.shape, X_test.shape"
   ]
  },
  {
   "cell_type": "code",
   "execution_count": 10,
   "id": "544feed5",
   "metadata": {},
   "outputs": [],
   "source": [
    "nmovie_id = ratings.movie_id.nunique()\n",
    "nuser_id = ratings.user_id.nunique()"
   ]
  },
  {
   "cell_type": "code",
   "execution_count": 59,
   "id": "7033fd12",
   "metadata": {},
   "outputs": [],
   "source": [
    "del model"
   ]
  },
  {
   "cell_type": "code",
   "execution_count": 60,
   "id": "667c45e5",
   "metadata": {},
   "outputs": [],
   "source": [
    "input_movies = keras.layers.Input(shape=[1])\n",
    "embed_movies = keras.layers.Embedding(nmovie_id+1, 15)(input_movies)\n",
    "movies_out = keras.layers.Flatten()(embed_movies)\n",
    "\n",
    "input_users = keras.layers.Input(shape=[1])\n",
    "embed_users = keras.layers.Embedding(nuser_id+1, 15)(input_users)\n",
    "users_out = keras.layers.Flatten()(embed_users)\n",
    "\n",
    "conc_layer = keras.layers.Concatenate()([movies_out, users_out])\n",
    "x = keras.layers.Dense(128, activation='relu')(conc_layer)\n",
    "dropout = x = keras.layers.Dropout(rate=.3, seed=42)(x)\n",
    "dense2 = x = keras.layers.Dense(128, activation='relu')(x)\n",
    "dense3 = x = keras.layers.Dense(64, activation='relu')(x)\n",
    "x_out = x = keras.layers.Dense(1, activation='relu')(x)\n",
    "\n",
    "\n",
    "model = keras.Model([input_movies, input_users], x_out)"
   ]
  },
  {
   "cell_type": "code",
   "execution_count": 61,
   "id": "ef75e68c",
   "metadata": {},
   "outputs": [
    {
     "name": "stdout",
     "output_type": "stream",
     "text": [
      "Model: \"model_4\"\n",
      "__________________________________________________________________________________________________\n",
      "Layer (type)                    Output Shape         Param #     Connected to                     \n",
      "==================================================================================================\n",
      "input_9 (InputLayer)            [(None, 1)]          0                                            \n",
      "__________________________________________________________________________________________________\n",
      "input_10 (InputLayer)           [(None, 1)]          0                                            \n",
      "__________________________________________________________________________________________________\n",
      "embedding_8 (Embedding)         (None, 1, 15)        177150      input_9[0][0]                    \n",
      "__________________________________________________________________________________________________\n",
      "embedding_9 (Embedding)         (None, 1, 15)        567300      input_10[0][0]                   \n",
      "__________________________________________________________________________________________________\n",
      "flatten_8 (Flatten)             (None, 15)           0           embedding_8[0][0]                \n",
      "__________________________________________________________________________________________________\n",
      "flatten_9 (Flatten)             (None, 15)           0           embedding_9[0][0]                \n",
      "__________________________________________________________________________________________________\n",
      "concatenate_4 (Concatenate)     (None, 30)           0           flatten_8[0][0]                  \n",
      "                                                                 flatten_9[0][0]                  \n",
      "__________________________________________________________________________________________________\n",
      "dense_15 (Dense)                (None, 128)          3968        concatenate_4[0][0]              \n",
      "__________________________________________________________________________________________________\n",
      "dropout_4 (Dropout)             (None, 128)          0           dense_15[0][0]                   \n",
      "__________________________________________________________________________________________________\n",
      "dense_16 (Dense)                (None, 128)          16512       dropout_4[0][0]                  \n",
      "__________________________________________________________________________________________________\n",
      "dense_17 (Dense)                (None, 64)           8256        dense_16[0][0]                   \n",
      "__________________________________________________________________________________________________\n",
      "dense_18 (Dense)                (None, 1)            65          dense_17[0][0]                   \n",
      "==================================================================================================\n",
      "Total params: 773,251\n",
      "Trainable params: 773,251\n",
      "Non-trainable params: 0\n",
      "__________________________________________________________________________________________________\n"
     ]
    }
   ],
   "source": [
    "opt = tf.optimizers.Adam(learning_rate=.001)\n",
    "model.compile(optimizer=opt, loss='mean_squared_error', metrics = keras.metrics.RootMeanSquaredError())\n",
    "\n",
    "model.summary()"
   ]
  },
  {
   "cell_type": "code",
   "execution_count": 62,
   "id": "18cf8ab3",
   "metadata": {},
   "outputs": [
    {
     "name": "stdout",
     "output_type": "stream",
     "text": [
      "Epoch 1/10\n",
      "575/575 [==============================] - 17s 26ms/step - loss: 3.2557 - root_mean_squared_error: 1.7021 - val_loss: 0.9830 - val_root_mean_squared_error: 0.9915\n",
      "Epoch 2/10\n",
      "575/575 [==============================] - 12s 20ms/step - loss: 0.8227 - root_mean_squared_error: 0.9070 - val_loss: 1.0111 - val_root_mean_squared_error: 1.0055\n",
      "Epoch 3/10\n",
      "575/575 [==============================] - 13s 23ms/step - loss: 0.4747 - root_mean_squared_error: 0.6889 - val_loss: 1.0716 - val_root_mean_squared_error: 1.0352\n",
      "Epoch 4/10\n",
      "575/575 [==============================] - 14s 25ms/step - loss: 0.3250 - root_mean_squared_error: 0.5699 - val_loss: 1.1327 - val_root_mean_squared_error: 1.0643\n",
      "Epoch 5/10\n",
      "575/575 [==============================] - 13s 23ms/step - loss: 0.2373 - root_mean_squared_error: 0.4871 - val_loss: 1.2089 - val_root_mean_squared_error: 1.0995\n",
      "Epoch 6/10\n",
      "575/575 [==============================] - 15s 26ms/step - loss: 0.1822 - root_mean_squared_error: 0.4268 - val_loss: 1.1941 - val_root_mean_squared_error: 1.0927\n",
      "Epoch 7/10\n",
      "575/575 [==============================] - 14s 25ms/step - loss: 0.1498 - root_mean_squared_error: 0.3870 - val_loss: 1.2196 - val_root_mean_squared_error: 1.1044\n",
      "Epoch 8/10\n",
      "575/575 [==============================] - 12s 21ms/step - loss: 0.1246 - root_mean_squared_error: 0.3530 - val_loss: 1.2217 - val_root_mean_squared_error: 1.1053\n",
      "Epoch 9/10\n",
      "575/575 [==============================] - 11s 19ms/step - loss: 0.1095 - root_mean_squared_error: 0.3309 - val_loss: 1.2145 - val_root_mean_squared_error: 1.1021\n",
      "Epoch 10/10\n",
      "575/575 [==============================] - 13s 23ms/step - loss: 0.0968 - root_mean_squared_error: 0.3112 - val_loss: 1.2009 - val_root_mean_squared_error: 1.0958\n"
     ]
    }
   ],
   "source": [
    "hist = model.fit([X_train.movie, X_train.user], \n",
    "                 X_train.rating_score,  \n",
    "                 batch_size=64, epochs=10, verbose=1, validation_split=.2)"
   ]
  },
  {
   "cell_type": "code",
   "execution_count": 15,
   "id": "65547125",
   "metadata": {},
   "outputs": [],
   "source": [
    "import matplotlib.pyplot as plt"
   ]
  },
  {
   "cell_type": "code",
   "execution_count": 16,
   "id": "596d7ccb",
   "metadata": {},
   "outputs": [
    {
     "data": {
      "image/png": "[encoded data removed]",
      "text/plain": [
       "<Figure size 432x288 with 1 Axes>"
      ]
     },
     "metadata": {
      "needs_background": "light"
     },
     "output_type": "display_data"
    }
   ],
   "source": [
    "train_loss = hist.history['loss']\n",
    "val_loss = hist.history['val_loss']\n",
    "plt.plot(train_loss, color='r', label='Train Loss')\n",
    "plt.plot(val_loss, color='b', label='Validation Loss')\n",
    "plt.title(\"Train and Validation Loss Curve\")\n",
    "plt.legend()\n",
    "plt.show()"
   ]
  },
  {
   "cell_type": "code",
   "execution_count": 17,
   "id": "0e8bc303",
   "metadata": {},
   "outputs": [
    {
     "data": {
      "image/png": "[encoded data removed]",
      "text/plain": [
       "<Figure size 432x288 with 1 Axes>"
      ]
     },
     "metadata": {
      "needs_background": "light"
     },
     "output_type": "display_data"
    }
   ],
   "source": [
    "train_loss = hist.history['root_mean_squared_error']\n",
    "val_loss = hist.history['val_root_mean_squared_error']\n",
    "plt.plot(train_loss, color='r', label='Train RMSE')\n",
    "plt.plot(val_loss, color='b', label='Validation RMSE')\n",
    "plt.title(\"Train and Validation RMSE Curve\")\n",
    "plt.legend()\n",
    "plt.show()"
   ]
  },
  {
   "cell_type": "code",
   "execution_count": 19,
   "id": "f405790d",
   "metadata": {
    "collapsed": true
   },
   "outputs": [
    {
     "name": "stdout",
     "output_type": "stream",
     "text": [
      "Model: \"model\"\n",
      "__________________________________________________________________________________________________\n",
      "Layer (type)                    Output Shape         Param #     Connected to                     \n",
      "==================================================================================================\n",
      "input_1 (InputLayer)            [(None, 1)]          0                                            \n",
      "__________________________________________________________________________________________________\n",
      "input_2 (InputLayer)            [(None, 1)]          0                                            \n",
      "__________________________________________________________________________________________________\n",
      "embedding (Embedding)           (None, 1, 15)        177150      input_1[0][0]                    \n",
      "__________________________________________________________________________________________________\n",
      "embedding_1 (Embedding)         (None, 1, 15)        567300      input_2[0][0]                    \n",
      "__________________________________________________________________________________________________\n",
      "flatten (Flatten)               (None, 15)           0           embedding[0][0]                  \n",
      "__________________________________________________________________________________________________\n",
      "flatten_1 (Flatten)             (None, 15)           0           embedding_1[0][0]                \n",
      "__________________________________________________________________________________________________\n",
      "concatenate (Concatenate)       (None, 30)           0           flatten[0][0]                    \n",
      "                                                                 flatten_1[0][0]                  \n",
      "__________________________________________________________________________________________________\n",
      "dense (Dense)                   (None, 32)           992         concatenate[0][0]                \n",
      "__________________________________________________________________________________________________\n",
      "dropout (Dropout)               (None, 32)           0           dense[0][0]                      \n",
      "__________________________________________________________________________________________________\n",
      "dense_1 (Dense)                 (None, 32)           1056        dropout[0][0]                    \n",
      "__________________________________________________________________________________________________\n",
      "dense_2 (Dense)                 (None, 16)           528         dense_1[0][0]                    \n",
      "__________________________________________________________________________________________________\n",
      "dense_3 (Dense)                 (None, 1)            17          dense_2[0][0]                    \n",
      "==================================================================================================\n",
      "Total params: 747,043\n",
      "Trainable params: 747,043\n",
      "Non-trainable params: 0\n",
      "__________________________________________________________________________________________________\n"
     ]
    }
   ],
   "source": [
    "opt = tf.optimizers.Adam(learning_rate=.001)\n",
    "model.compile(optimizer=opt, \n",
    "              loss=keras.losses.MeanSquaredLogarithmicError(), \n",
    "              metrics = 'accuracy')\n",
    "\n",
    "model.summary()"
   ]
  },
  {
   "cell_type": "code",
   "execution_count": 20,
   "id": "ede95cff",
   "metadata": {
    "scrolled": true
   },
   "outputs": [
    {
     "name": "stdout",
     "output_type": "stream",
     "text": [
      "Epoch 1/20\n",
      "575/575 [==============================] - 14s 21ms/step - loss: 0.0029 - accuracy: 0.0304 - val_loss: 0.0687 - val_accuracy: 0.0290\n",
      "Epoch 2/20\n",
      "575/575 [==============================] - 13s 22ms/step - loss: 0.0031 - accuracy: 0.0311 - val_loss: 0.0698 - val_accuracy: 0.0290\n",
      "Epoch 3/20\n",
      "575/575 [==============================] - 13s 22ms/step - loss: 0.0033 - accuracy: 0.0316 - val_loss: 0.0679 - val_accuracy: 0.0290\n",
      "Epoch 4/20\n",
      "575/575 [==============================] - 13s 22ms/step - loss: 0.0029 - accuracy: 0.0302 - val_loss: 0.0699 - val_accuracy: 0.0290\n",
      "Epoch 5/20\n",
      "575/575 [==============================] - 10s 17ms/step - loss: 0.0026 - accuracy: 0.0309 - val_loss: 0.0718 - val_accuracy: 0.0290\n",
      "Epoch 6/20\n",
      "575/575 [==============================] - 10s 16ms/step - loss: 0.0024 - accuracy: 0.0312 - val_loss: 0.0711 - val_accuracy: 0.0290\n",
      "Epoch 7/20\n",
      "575/575 [==============================] - 11s 19ms/step - loss: 0.0022 - accuracy: 0.0308 - val_loss: 0.0708 - val_accuracy: 0.0290\n",
      "Epoch 8/20\n",
      "575/575 [==============================] - 10s 17ms/step - loss: 0.0021 - accuracy: 0.0309 - val_loss: 0.0707 - val_accuracy: 0.0290\n",
      "Epoch 9/20\n",
      "575/575 [==============================] - 9s 15ms/step - loss: 0.0020 - accuracy: 0.0314 - val_loss: 0.0710 - val_accuracy: 0.0290\n",
      "Epoch 10/20\n",
      "575/575 [==============================] - 10s 17ms/step - loss: 0.0020 - accuracy: 0.0303 - val_loss: 0.0719 - val_accuracy: 0.0290\n",
      "Epoch 11/20\n",
      "575/575 [==============================] - 10s 18ms/step - loss: 0.0019 - accuracy: 0.0300 - val_loss: 0.0708 - val_accuracy: 0.0290\n",
      "Epoch 12/20\n",
      "575/575 [==============================] - 10s 18ms/step - loss: 0.0018 - accuracy: 0.0306 - val_loss: 0.0713 - val_accuracy: 0.0290\n",
      "Epoch 13/20\n",
      "575/575 [==============================] - 9s 16ms/step - loss: 0.0018 - accuracy: 0.0309 - val_loss: 0.0718 - val_accuracy: 0.0290\n",
      "Epoch 14/20\n",
      "575/575 [==============================] - 10s 17ms/step - loss: 0.0017 - accuracy: 0.0301 - val_loss: 0.0720 - val_accuracy: 0.0290\n",
      "Epoch 15/20\n",
      "575/575 [==============================] - 19s 33ms/step - loss: 0.0016 - accuracy: 0.0292 - val_loss: 0.0720 - val_accuracy: 0.0290\n",
      "Epoch 16/20\n",
      "575/575 [==============================] - 19s 33ms/step - loss: 0.0016 - accuracy: 0.0304 - val_loss: 0.0730 - val_accuracy: 0.0290\n",
      "Epoch 17/20\n",
      "575/575 [==============================] - 18s 31ms/step - loss: 0.0015 - accuracy: 0.0300 - val_loss: 0.0724 - val_accuracy: 0.0290\n",
      "Epoch 18/20\n",
      "575/575 [==============================] - 19s 32ms/step - loss: 0.0018 - accuracy: 0.0314 - val_loss: 0.0718 - val_accuracy: 0.0290\n",
      "Epoch 19/20\n",
      "575/575 [==============================] - 9s 15ms/step - loss: 0.0015 - accuracy: 0.0308 - val_loss: 0.0715 - val_accuracy: 0.0290\n",
      "Epoch 20/20\n",
      "575/575 [==============================] - 9s 16ms/step - loss: 0.0016 - accuracy: 0.0323 - val_loss: 0.0715 - val_accuracy: 0.0290\n"
     ]
    }
   ],
   "source": [
    "hist = model.fit([X_train.movie, X_train.user], \n",
    "                 X_train.rating_score,  \n",
    "                 batch_size=64, epochs=20, verbose=1, validation_split=.2)"
   ]
  },
  {
   "cell_type": "code",
   "execution_count": 21,
   "id": "5c2bb1c0",
   "metadata": {},
   "outputs": [
    {
     "data": {
      "image/png": "[encoded data removed]",
      "text/plain": [
       "<Figure size 432x288 with 1 Axes>"
      ]
     },
     "metadata": {
      "needs_background": "light"
     },
     "output_type": "display_data"
    }
   ],
   "source": [
    "train_loss = hist.history['loss']\n",
    "val_loss = hist.history['val_loss']\n",
    "plt.plot(train_loss, color='r', label='Train Loss')\n",
    "plt.plot(val_loss, color='b', label='Validation Loss')\n",
    "plt.title(\"Train and Validation Loss Curve\")\n",
    "plt.legend()\n",
    "plt.show()"
   ]
  },
  {
   "cell_type": "code",
   "execution_count": 30,
   "id": "105de103",
   "metadata": {},
   "outputs": [
    {
     "data": {
      "image/png": "[encoded data removed]",
      "text/plain": [
       "<Figure size 432x288 with 1 Axes>"
      ]
     },
     "metadata": {
      "needs_background": "light"
     },
     "output_type": "display_data"
    }
   ],
   "source": [
    "train_loss = hist.history['root_mean_squared_error']\n",
    "val_loss = hist.history['val_root_mean_squared_error']\n",
    "plt.plot(train_loss, color='r', label='Train RMSE')\n",
    "plt.plot(val_loss, color='b', label='Validation RMSE')\n",
    "plt.title(\"Train and Validation RMSE Curve\")\n",
    "plt.legend()\n",
    "plt.show()"
   ]
  },
  {
   "cell_type": "code",
   "execution_count": 47,
   "id": "797ec49e",
   "metadata": {},
   "outputs": [
    {
     "name": "stdout",
     "output_type": "stream",
     "text": [
      "Model: \"model_1\"\n",
      "__________________________________________________________________________________________________\n",
      "Layer (type)                    Output Shape         Param #     Connected to                     \n",
      "==================================================================================================\n",
      "input_3 (InputLayer)            [(None, 1)]          0                                            \n",
      "__________________________________________________________________________________________________\n",
      "input_4 (InputLayer)            [(None, 1)]          0                                            \n",
      "__________________________________________________________________________________________________\n",
      "embedding_2 (Embedding)         (None, 1, 15)        177150      input_3[0][0]                    \n",
      "__________________________________________________________________________________________________\n",
      "embedding_3 (Embedding)         (None, 1, 15)        567300      input_4[0][0]                    \n",
      "__________________________________________________________________________________________________\n",
      "flatten_2 (Flatten)             (None, 15)           0           embedding_2[0][0]                \n",
      "__________________________________________________________________________________________________\n",
      "flatten_3 (Flatten)             (None, 15)           0           embedding_3[0][0]                \n",
      "__________________________________________________________________________________________________\n",
      "concatenate_1 (Concatenate)     (None, 30)           0           flatten_2[0][0]                  \n",
      "                                                                 flatten_3[0][0]                  \n",
      "__________________________________________________________________________________________________\n",
      "dense_4 (Dense)                 (None, 32)           992         concatenate_1[0][0]              \n",
      "__________________________________________________________________________________________________\n",
      "dropout_1 (Dropout)             (None, 32)           0           dense_4[0][0]                    \n",
      "__________________________________________________________________________________________________\n",
      "dense_5 (Dense)                 (None, 32)           1056        dropout_1[0][0]                  \n",
      "__________________________________________________________________________________________________\n",
      "dense_6 (Dense)                 (None, 16)           528         dense_5[0][0]                    \n",
      "__________________________________________________________________________________________________\n",
      "dense_7 (Dense)                 (None, 1)            17          dense_6[0][0]                    \n",
      "==================================================================================================\n",
      "Total params: 747,043\n",
      "Trainable params: 747,043\n",
      "Non-trainable params: 0\n",
      "__________________________________________________________________________________________________\n"
     ]
    }
   ],
   "source": [
    "opt = tf.optimizers.Adam(learning_rate=.001)\n",
    "model.compile(optimizer=opt, \n",
    "              loss=keras.losses.CosineSimilarity(), \n",
    "              metrics = keras.metrics.RootMeanSquaredError())\n",
    "\n",
    "model.summary()"
   ]
  },
  {
   "cell_type": "code",
   "execution_count": 43,
   "id": "075b6f51",
   "metadata": {},
   "outputs": [],
   "source": [
    "X_train = X_train.astype(float)"
   ]
  },
  {
   "cell_type": "code",
   "execution_count": 45,
   "id": "b01eea7c",
   "metadata": {},
   "outputs": [
    {
     "data": {
      "text/html": [
       "<div>\n",
       "<style scoped>\n",
       "    .dataframe tbody tr th:only-of-type {\n",
       "        vertical-align: middle;\n",
       "    }\n",
       "\n",
       "    .dataframe tbody tr th {\n",
       "        vertical-align: top;\n",
       "    }\n",
       "\n",
       "    .dataframe thead th {\n",
       "        text-align: right;\n",
       "    }\n",
       "</style>\n",
       "<table border=\"1\" class=\"dataframe\">\n",
       "  <thead>\n",
       "    <tr style=\"text-align: right;\">\n",
       "      <th></th>\n",
       "      <th>movie</th>\n",
       "      <th>user</th>\n",
       "      <th>rating_score</th>\n",
       "    </tr>\n",
       "  </thead>\n",
       "  <tbody>\n",
       "    <tr>\n",
       "      <th>26362</th>\n",
       "      <td>196.0</td>\n",
       "      <td>15449.0</td>\n",
       "      <td>3.0</td>\n",
       "    </tr>\n",
       "    <tr>\n",
       "      <th>45316</th>\n",
       "      <td>1232.0</td>\n",
       "      <td>3829.0</td>\n",
       "      <td>4.0</td>\n",
       "    </tr>\n",
       "    <tr>\n",
       "      <th>58213</th>\n",
       "      <td>9635.0</td>\n",
       "      <td>7389.0</td>\n",
       "      <td>3.0</td>\n",
       "    </tr>\n",
       "    <tr>\n",
       "      <th>59559</th>\n",
       "      <td>216.0</td>\n",
       "      <td>16407.0</td>\n",
       "      <td>1.0</td>\n",
       "    </tr>\n",
       "    <tr>\n",
       "      <th>46282</th>\n",
       "      <td>144.0</td>\n",
       "      <td>35107.0</td>\n",
       "      <td>5.0</td>\n",
       "    </tr>\n",
       "    <tr>\n",
       "      <th>...</th>\n",
       "      <td>...</td>\n",
       "      <td>...</td>\n",
       "      <td>...</td>\n",
       "    </tr>\n",
       "    <tr>\n",
       "      <th>37194</th>\n",
       "      <td>10433.0</td>\n",
       "      <td>32746.0</td>\n",
       "      <td>4.0</td>\n",
       "    </tr>\n",
       "    <tr>\n",
       "      <th>6265</th>\n",
       "      <td>1269.0</td>\n",
       "      <td>4096.0</td>\n",
       "      <td>3.0</td>\n",
       "    </tr>\n",
       "    <tr>\n",
       "      <th>54886</th>\n",
       "      <td>450.0</td>\n",
       "      <td>33617.0</td>\n",
       "      <td>4.0</td>\n",
       "    </tr>\n",
       "    <tr>\n",
       "      <th>860</th>\n",
       "      <td>230.0</td>\n",
       "      <td>26746.0</td>\n",
       "      <td>5.0</td>\n",
       "    </tr>\n",
       "    <tr>\n",
       "      <th>15795</th>\n",
       "      <td>5573.0</td>\n",
       "      <td>21673.0</td>\n",
       "      <td>4.0</td>\n",
       "    </tr>\n",
       "  </tbody>\n",
       "</table>\n",
       "<p>45990 rows × 3 columns</p>\n",
       "</div>"
      ],
      "text/plain": [
       "         movie     user  rating_score\n",
       "26362    196.0  15449.0           3.0\n",
       "45316   1232.0   3829.0           4.0\n",
       "58213   9635.0   7389.0           3.0\n",
       "59559    216.0  16407.0           1.0\n",
       "46282    144.0  35107.0           5.0\n",
       "...        ...      ...           ...\n",
       "37194  10433.0  32746.0           4.0\n",
       "6265    1269.0   4096.0           3.0\n",
       "54886    450.0  33617.0           4.0\n",
       "860      230.0  26746.0           5.0\n",
       "15795   5573.0  21673.0           4.0\n",
       "\n",
       "[45990 rows x 3 columns]"
      ]
     },
     "execution_count": 45,
     "metadata": {},
     "output_type": "execute_result"
    }
   ],
   "source": [
    "X_train"
   ]
  },
  {
   "cell_type": "code",
   "execution_count": 48,
   "id": "6515a811",
   "metadata": {
    "scrolled": false
   },
   "outputs": [
    {
     "name": "stdout",
     "output_type": "stream",
     "text": [
      "Epoch 1/20\n",
      "575/575 [==============================] - 18s 28ms/step - loss: -0.8358 - root_mean_squared_error: 3.9044 - val_loss: -1.0000 - val_root_mean_squared_error: 3.6872\n",
      "Epoch 2/20\n",
      "575/575 [==============================] - 15s 25ms/step - loss: -1.0000 - root_mean_squared_error: 3.5956 - val_loss: -1.0000 - val_root_mean_squared_error: 3.3252\n",
      "Epoch 3/20\n",
      "575/575 [==============================] - 13s 23ms/step - loss: -1.0000 - root_mean_squared_error: 3.2037 - val_loss: -1.0000 - val_root_mean_squared_error: 2.8400\n",
      "Epoch 4/20\n",
      "575/575 [==============================] - 10s 17ms/step - loss: -1.0000 - root_mean_squared_error: 2.6637 - val_loss: -1.0000 - val_root_mean_squared_error: 2.2516\n",
      "Epoch 5/20\n",
      "575/575 [==============================] - 11s 19ms/step - loss: -1.0000 - root_mean_squared_error: 2.0427 - val_loss: -1.0000 - val_root_mean_squared_error: 1.3104\n",
      "Epoch 6/20\n",
      "575/575 [==============================] - 17s 29ms/step - loss: -1.0000 - root_mean_squared_error: 1.2494 - val_loss: -1.0000 - val_root_mean_squared_error: 1.0564\n",
      "Epoch 7/20\n",
      "575/575 [==============================] - 13s 22ms/step - loss: -1.0000 - root_mean_squared_error: 1.3814 - val_loss: -1.0000 - val_root_mean_squared_error: 2.3680\n",
      "Epoch 8/20\n",
      "575/575 [==============================] - 13s 22ms/step - loss: -1.0000 - root_mean_squared_error: 2.8033 - val_loss: -1.0000 - val_root_mean_squared_error: 3.8366\n",
      "Epoch 9/20\n",
      "575/575 [==============================] - 15s 25ms/step - loss: -1.0000 - root_mean_squared_error: 4.5057 - val_loss: -1.0000 - val_root_mean_squared_error: 6.3802\n",
      "Epoch 10/20\n",
      "575/575 [==============================] - 16s 27ms/step - loss: -1.0000 - root_mean_squared_error: 7.2211 - val_loss: -1.0000 - val_root_mean_squared_error: 9.0089\n",
      "Epoch 11/20\n",
      "575/575 [==============================] - 11s 20ms/step - loss: -1.0000 - root_mean_squared_error: 9.7066 - val_loss: -1.0000 - val_root_mean_squared_error: 11.6605\n",
      "Epoch 12/20\n",
      "575/575 [==============================] - 13s 22ms/step - loss: -1.0000 - root_mean_squared_error: 12.7262 - val_loss: -1.0000 - val_root_mean_squared_error: 15.4840\n",
      "Epoch 13/20\n",
      "575/575 [==============================] - 10s 17ms/step - loss: -1.0000 - root_mean_squared_error: 16.7481 - val_loss: -1.0000 - val_root_mean_squared_error: 19.5480\n",
      "Epoch 14/20\n",
      "575/575 [==============================] - 11s 19ms/step - loss: -1.0000 - root_mean_squared_error: 20.7504 - val_loss: -1.0000 - val_root_mean_squared_error: 23.1223\n",
      "Epoch 15/20\n",
      "575/575 [==============================] - 13s 22ms/step - loss: -1.0000 - root_mean_squared_error: 24.6397 - val_loss: -1.0000 - val_root_mean_squared_error: 27.9678\n",
      "Epoch 16/20\n",
      "575/575 [==============================] - 12s 22ms/step - loss: -1.0000 - root_mean_squared_error: 29.8204 - val_loss: -1.0000 - val_root_mean_squared_error: 33.7831\n",
      "Epoch 17/20\n",
      "575/575 [==============================] - 12s 22ms/step - loss: -1.0000 - root_mean_squared_error: 35.8775 - val_loss: -1.0000 - val_root_mean_squared_error: 39.8387\n",
      "Epoch 18/20\n",
      "575/575 [==============================] - 11s 19ms/step - loss: -1.0000 - root_mean_squared_error: 41.8940 - val_loss: -1.0000 - val_root_mean_squared_error: 45.3794\n",
      "Epoch 19/20\n",
      "575/575 [==============================] - 12s 21ms/step - loss: -1.0000 - root_mean_squared_error: 47.5549 - val_loss: -1.0000 - val_root_mean_squared_error: 51.2134\n",
      "Epoch 20/20\n",
      "575/575 [==============================] - 15s 26ms/step - loss: -1.0000 - root_mean_squared_error: 53.9868 - val_loss: -1.0000 - val_root_mean_squared_error: 58.5019\n"
     ]
    }
   ],
   "source": [
    "hist = model.fit([X_train.movie, X_train.user], \n",
    "                 X_train.rating_score,  \n",
    "                 batch_size=64, epochs=20, verbose=1, validation_split=.2)"
   ]
  },
  {
   "cell_type": "code",
   "execution_count": 49,
   "id": "da596b39",
   "metadata": {},
   "outputs": [
    {
     "data": {
      "image/png": "[encoded data removed]",
      "text/plain": [
       "<Figure size 432x288 with 1 Axes>"
      ]
     },
     "metadata": {
      "needs_background": "light"
     },
     "output_type": "display_data"
    }
   ],
   "source": [
    "train_loss = hist.history['loss']\n",
    "val_loss = hist.history['val_loss']\n",
    "plt.plot(train_loss, color='r', label='Train Loss')\n",
    "plt.plot(val_loss, color='b', label='Validation Loss')\n",
    "plt.title(\"Train and Validation Loss Curve\")\n",
    "plt.legend()\n",
    "plt.show()"
   ]
  },
  {
   "cell_type": "code",
   "execution_count": 50,
   "id": "c4059da4",
   "metadata": {},
   "outputs": [
    {
     "data": {
      "image/png": "[encoded data removed]",
      "text/plain": [
       "<Figure size 432x288 with 1 Axes>"
      ]
     },
     "metadata": {
      "needs_background": "light"
     },
     "output_type": "display_data"
    }
   ],
   "source": [
    "train_loss = hist.history['root_mean_squared_error']\n",
    "val_loss = hist.history['val_root_mean_squared_error']\n",
    "plt.plot(train_loss, color='r', label='Train RMSE')\n",
    "plt.plot(val_loss, color='b', label='Validation RMSE')\n",
    "plt.title(\"Train and Validation RMSE Curve\")\n",
    "plt.legend()\n",
    "plt.show()"
   ]
  },
  {
   "cell_type": "code",
   "execution_count": 25,
   "id": "27d5cc3c",
   "metadata": {},
   "outputs": [
    {
     "data": {
      "text/html": [
       "<div>\n",
       "<style scoped>\n",
       "    .dataframe tbody tr th:only-of-type {\n",
       "        vertical-align: middle;\n",
       "    }\n",
       "\n",
       "    .dataframe tbody tr th {\n",
       "        vertical-align: top;\n",
       "    }\n",
       "\n",
       "    .dataframe thead th {\n",
       "        text-align: right;\n",
       "    }\n",
       "</style>\n",
       "<table border=\"1\" class=\"dataframe\">\n",
       "  <thead>\n",
       "    <tr style=\"text-align: right;\">\n",
       "      <th></th>\n",
       "      <th>movie_id</th>\n",
       "      <th>rating_score</th>\n",
       "      <th>user</th>\n",
       "      <th>movie</th>\n",
       "    </tr>\n",
       "    <tr>\n",
       "      <th>user_id</th>\n",
       "      <th></th>\n",
       "      <th></th>\n",
       "      <th></th>\n",
       "      <th></th>\n",
       "    </tr>\n",
       "  </thead>\n",
       "  <tbody>\n",
       "    <tr>\n",
       "      <th>31794511</th>\n",
       "      <td>13</td>\n",
       "      <td>13</td>\n",
       "      <td>13</td>\n",
       "      <td>13</td>\n",
       "    </tr>\n",
       "    <tr>\n",
       "      <th>29857588</th>\n",
       "      <td>12</td>\n",
       "      <td>12</td>\n",
       "      <td>12</td>\n",
       "      <td>12</td>\n",
       "    </tr>\n",
       "    <tr>\n",
       "      <th>70435183</th>\n",
       "      <td>12</td>\n",
       "      <td>12</td>\n",
       "      <td>12</td>\n",
       "      <td>12</td>\n",
       "    </tr>\n",
       "    <tr>\n",
       "      <th>79854948</th>\n",
       "      <td>12</td>\n",
       "      <td>12</td>\n",
       "      <td>12</td>\n",
       "      <td>12</td>\n",
       "    </tr>\n",
       "    <tr>\n",
       "      <th>97493409</th>\n",
       "      <td>11</td>\n",
       "      <td>11</td>\n",
       "      <td>11</td>\n",
       "      <td>11</td>\n",
       "    </tr>\n",
       "    <tr>\n",
       "      <th>...</th>\n",
       "      <td>...</td>\n",
       "      <td>...</td>\n",
       "      <td>...</td>\n",
       "      <td>...</td>\n",
       "    </tr>\n",
       "    <tr>\n",
       "      <th>57729959</th>\n",
       "      <td>1</td>\n",
       "      <td>1</td>\n",
       "      <td>1</td>\n",
       "      <td>1</td>\n",
       "    </tr>\n",
       "    <tr>\n",
       "      <th>29922095</th>\n",
       "      <td>1</td>\n",
       "      <td>1</td>\n",
       "      <td>1</td>\n",
       "      <td>1</td>\n",
       "    </tr>\n",
       "    <tr>\n",
       "      <th>57725780</th>\n",
       "      <td>1</td>\n",
       "      <td>1</td>\n",
       "      <td>1</td>\n",
       "      <td>1</td>\n",
       "    </tr>\n",
       "    <tr>\n",
       "      <th>57724746</th>\n",
       "      <td>1</td>\n",
       "      <td>1</td>\n",
       "      <td>1</td>\n",
       "      <td>1</td>\n",
       "    </tr>\n",
       "    <tr>\n",
       "      <th>27103959</th>\n",
       "      <td>1</td>\n",
       "      <td>1</td>\n",
       "      <td>1</td>\n",
       "      <td>1</td>\n",
       "    </tr>\n",
       "  </tbody>\n",
       "</table>\n",
       "<p>37819 rows × 4 columns</p>\n",
       "</div>"
      ],
      "text/plain": [
       "          movie_id  rating_score  user  movie\n",
       "user_id                                      \n",
       "31794511        13            13    13     13\n",
       "29857588        12            12    12     12\n",
       "70435183        12            12    12     12\n",
       "79854948        12            12    12     12\n",
       "97493409        11            11    11     11\n",
       "...            ...           ...   ...    ...\n",
       "57729959         1             1     1      1\n",
       "29922095         1             1     1      1\n",
       "57725780         1             1     1      1\n",
       "57724746         1             1     1      1\n",
       "27103959         1             1     1      1\n",
       "\n",
       "[37819 rows x 4 columns]"
      ]
     },
     "execution_count": 25,
     "metadata": {},
     "output_type": "execute_result"
    }
   ],
   "source": [
    "ratings.groupby('user_id').count().sort_values(by='movie_id',ascending=False)"
   ]
  },
  {
   "cell_type": "code",
   "execution_count": 26,
   "id": "2bc7dff5",
   "metadata": {},
   "outputs": [
    {
     "data": {
      "text/html": [
       "<div>\n",
       "<style scoped>\n",
       "    .dataframe tbody tr th:only-of-type {\n",
       "        vertical-align: middle;\n",
       "    }\n",
       "\n",
       "    .dataframe tbody tr th {\n",
       "        vertical-align: top;\n",
       "    }\n",
       "\n",
       "    .dataframe thead th {\n",
       "        text-align: right;\n",
       "    }\n",
       "</style>\n",
       "<table border=\"1\" class=\"dataframe\">\n",
       "  <thead>\n",
       "    <tr style=\"text-align: right;\">\n",
       "      <th></th>\n",
       "      <th>movie_id</th>\n",
       "      <th>rating_score</th>\n",
       "      <th>user_id</th>\n",
       "      <th>user</th>\n",
       "      <th>movie</th>\n",
       "    </tr>\n",
       "  </thead>\n",
       "  <tbody>\n",
       "    <tr>\n",
       "      <th>3012</th>\n",
       "      <td>29767</td>\n",
       "      <td>4</td>\n",
       "      <td>31794511</td>\n",
       "      <td>12024</td>\n",
       "      <td>5869</td>\n",
       "    </tr>\n",
       "    <tr>\n",
       "      <th>4058</th>\n",
       "      <td>14782</td>\n",
       "      <td>3</td>\n",
       "      <td>31794511</td>\n",
       "      <td>12024</td>\n",
       "      <td>3397</td>\n",
       "    </tr>\n",
       "    <tr>\n",
       "      <th>7505</th>\n",
       "      <td>2112</td>\n",
       "      <td>4</td>\n",
       "      <td>31794511</td>\n",
       "      <td>12024</td>\n",
       "      <td>1487</td>\n",
       "    </tr>\n",
       "    <tr>\n",
       "      <th>12027</th>\n",
       "      <td>26319</td>\n",
       "      <td>5</td>\n",
       "      <td>31794511</td>\n",
       "      <td>12024</td>\n",
       "      <td>5287</td>\n",
       "    </tr>\n",
       "    <tr>\n",
       "      <th>24369</th>\n",
       "      <td>499</td>\n",
       "      <td>4</td>\n",
       "      <td>31794511</td>\n",
       "      <td>12024</td>\n",
       "      <td>411</td>\n",
       "    </tr>\n",
       "    <tr>\n",
       "      <th>26342</th>\n",
       "      <td>20183</td>\n",
       "      <td>1</td>\n",
       "      <td>31794511</td>\n",
       "      <td>12024</td>\n",
       "      <td>3827</td>\n",
       "    </tr>\n",
       "    <tr>\n",
       "      <th>39462</th>\n",
       "      <td>795</td>\n",
       "      <td>3</td>\n",
       "      <td>31794511</td>\n",
       "      <td>12024</td>\n",
       "      <td>649</td>\n",
       "    </tr>\n",
       "    <tr>\n",
       "      <th>41706</th>\n",
       "      <td>31427</td>\n",
       "      <td>4</td>\n",
       "      <td>31794511</td>\n",
       "      <td>12024</td>\n",
       "      <td>6172</td>\n",
       "    </tr>\n",
       "    <tr>\n",
       "      <th>46484</th>\n",
       "      <td>2325</td>\n",
       "      <td>5</td>\n",
       "      <td>31794511</td>\n",
       "      <td>12024</td>\n",
       "      <td>1611</td>\n",
       "    </tr>\n",
       "    <tr>\n",
       "      <th>47670</th>\n",
       "      <td>2703</td>\n",
       "      <td>5</td>\n",
       "      <td>31794511</td>\n",
       "      <td>12024</td>\n",
       "      <td>1811</td>\n",
       "    </tr>\n",
       "    <tr>\n",
       "      <th>59455</th>\n",
       "      <td>3508</td>\n",
       "      <td>4</td>\n",
       "      <td>31794511</td>\n",
       "      <td>12024</td>\n",
       "      <td>2216</td>\n",
       "    </tr>\n",
       "    <tr>\n",
       "      <th>60200</th>\n",
       "      <td>3021</td>\n",
       "      <td>4</td>\n",
       "      <td>31794511</td>\n",
       "      <td>12024</td>\n",
       "      <td>1934</td>\n",
       "    </tr>\n",
       "    <tr>\n",
       "      <th>63293</th>\n",
       "      <td>3441</td>\n",
       "      <td>2</td>\n",
       "      <td>31794511</td>\n",
       "      <td>12024</td>\n",
       "      <td>2170</td>\n",
       "    </tr>\n",
       "  </tbody>\n",
       "</table>\n",
       "</div>"
      ],
      "text/plain": [
       "       movie_id  rating_score   user_id   user  movie\n",
       "3012      29767             4  31794511  12024   5869\n",
       "4058      14782             3  31794511  12024   3397\n",
       "7505       2112             4  31794511  12024   1487\n",
       "12027     26319             5  31794511  12024   5287\n",
       "24369       499             4  31794511  12024    411\n",
       "26342     20183             1  31794511  12024   3827\n",
       "39462       795             3  31794511  12024    649\n",
       "41706     31427             4  31794511  12024   6172\n",
       "46484      2325             5  31794511  12024   1611\n",
       "47670      2703             5  31794511  12024   1811\n",
       "59455      3508             4  31794511  12024   2216\n",
       "60200      3021             4  31794511  12024   1934\n",
       "63293      3441             2  31794511  12024   2170"
      ]
     },
     "execution_count": 26,
     "metadata": {},
     "output_type": "execute_result"
    }
   ],
   "source": [
    "ratings[ratings.user_id==31794511]"
   ]
  },
  {
   "cell_type": "code",
   "execution_count": 63,
   "id": "8bb0d6c9",
   "metadata": {},
   "outputs": [],
   "source": [
    "movie_array = ratings[ratings.user_id==31794511].movie.values.astype(int)\n",
    "user = np.array([int(12024) for n in range(len(movie_array))])"
   ]
  },
  {
   "cell_type": "code",
   "execution_count": 64,
   "id": "055bca6f",
   "metadata": {},
   "outputs": [
    {
     "data": {
      "text/plain": [
       "((13,), dtype('int64'), (13,), dtype('int64'))"
      ]
     },
     "execution_count": 64,
     "metadata": {},
     "output_type": "execute_result"
    }
   ],
   "source": [
    "movie_array.shape, movie_array.dtype, user.shape, user.dtype"
   ]
  },
  {
   "cell_type": "code",
   "execution_count": 65,
   "id": "4c0d54c2",
   "metadata": {
    "scrolled": true
   },
   "outputs": [],
   "source": [
    "pred = model.predict([movie_array, user])"
   ]
  },
  {
   "cell_type": "code",
   "execution_count": 66,
   "id": "c3ac6266",
   "metadata": {},
   "outputs": [
    {
     "data": {
      "text/plain": [
       "[((4.193902, 4), 5869),\n",
       " ((3.948342, 3), 3397),\n",
       " ((4.187209, 4), 1487),\n",
       " ((4.0150485, 5), 5287),\n",
       " ((4.001645, 4), 411),\n",
       " ((3.8334882, 1), 3827),\n",
       " ((4.482376, 3), 649),\n",
       " ((4.212425, 4), 6172),\n",
       " ((4.767973, 5), 1611),\n",
       " ((4.5517263, 5), 1811),\n",
       " ((3.8925762, 4), 2216),\n",
       " ((4.089591, 4), 1934),\n",
       " ((4.2476206, 2), 2170)]"
      ]
     },
     "execution_count": 66,
     "metadata": {},
     "output_type": "execute_result"
    }
   ],
   "source": [
    "list(zip(zip(pred.flatten(), ratings[ratings.user_id==31794511].rating_score.values),movie_array))"
   ]
  },
  {
   "cell_type": "code",
   "execution_count": null,
   "id": "1d229e8f",
   "metadata": {},
   "outputs": [],
   "source": []
  }
 ],
 "metadata": {
  "kernelspec": {
   "display_name": "tf_env",
   "language": "python",
   "name": "tf_env"
  },
  "language_info": {
   "codemirror_mode": {
    "name": "ipython",
    "version": 3
   },
   "file_extension": ".py",
   "mimetype": "text/x-python",
   "name": "python",
   "nbconvert_exporter": "python",
   "pygments_lexer": "ipython3",
   "version": "3.8.5"
  }
 },
 "nbformat": 4,
 "nbformat_minor": 5
}
