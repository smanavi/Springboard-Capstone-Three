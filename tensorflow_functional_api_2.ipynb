{
 "cells": [
  {
   "cell_type": "markdown",
   "id": "95a5aafa",
   "metadata": {},
   "source": [
    "code is from here: https://heartbeat.fritz.ai/build-train-and-deploy-a-book-recommender-system-using-keras-tensorflow-js-b96944b936a7"
   ]
  },
  {
   "cell_type": "code",
   "execution_count": 1,
   "id": "f66ab82a",
   "metadata": {},
   "outputs": [],
   "source": [
    "import numpy as np\n",
    "import pandas as pd\n",
    "from sklearn.model_selection import train_test_split\n",
    "from sklearn.preprocessing import LabelEncoder\n",
    "\n",
    "import tensorflow as tf\n",
    "from tensorflow import keras\n",
    "from tensorflow.keras import layers"
   ]
  },
  {
   "cell_type": "code",
   "execution_count": null,
   "id": "cd872b00",
   "metadata": {},
   "outputs": [],
   "source": [
    "# import tensorflow_recommenders as tfrs"
   ]
  },
  {
   "cell_type": "code",
   "execution_count": 2,
   "id": "6af302da",
   "metadata": {},
   "outputs": [],
   "source": [
    "# ratings = pd.read_pickle(\"tiny_selection_longform.pkl\")\n",
    "ratings = pd.read_pickle(\"./Data/moderate_users_longform.pkl\")\n",
    "user_stats = pd.read_pickle(\"./Data/moderate_user_stats.pkl\")"
   ]
  },
  {
   "cell_type": "code",
   "execution_count": 3,
   "id": "f3a9fcd3",
   "metadata": {},
   "outputs": [
    {
     "data": {
      "text/plain": [
       "141676"
      ]
     },
     "execution_count": 3,
     "metadata": {},
     "output_type": "execute_result"
    }
   ],
   "source": [
    "user_enc = LabelEncoder()\n",
    "ratings['user'] = user_enc.fit_transform(ratings['user_id'].values)\n",
    "n_users = ratings['user'].nunique()\n",
    "n_users"
   ]
  },
  {
   "cell_type": "code",
   "execution_count": 4,
   "id": "3ed57496",
   "metadata": {
    "scrolled": true
   },
   "outputs": [
    {
     "data": {
      "text/plain": [
       "72601"
      ]
     },
     "execution_count": 4,
     "metadata": {},
     "output_type": "execute_result"
    }
   ],
   "source": [
    "item_enc = LabelEncoder()\n",
    "ratings['movie'] = item_enc.fit_transform(ratings['movie_id'].values)\n",
    "n_movies = ratings['movie'].nunique()\n",
    "n_movies"
   ]
  },
  {
   "cell_type": "code",
   "execution_count": 5,
   "id": "0d7c39b7",
   "metadata": {},
   "outputs": [
    {
     "data": {
      "text/html": [
       "<div>\n",
       "<style scoped>\n",
       "    .dataframe tbody tr th:only-of-type {\n",
       "        vertical-align: middle;\n",
       "    }\n",
       "\n",
       "    .dataframe tbody tr th {\n",
       "        vertical-align: top;\n",
       "    }\n",
       "\n",
       "    .dataframe thead th {\n",
       "        text-align: right;\n",
       "    }\n",
       "</style>\n",
       "<table border=\"1\" class=\"dataframe\">\n",
       "  <thead>\n",
       "    <tr style=\"text-align: right;\">\n",
       "      <th></th>\n",
       "      <th>movie_id</th>\n",
       "      <th>rating_score</th>\n",
       "      <th>user_id</th>\n",
       "      <th>user</th>\n",
       "      <th>movie</th>\n",
       "    </tr>\n",
       "  </thead>\n",
       "  <tbody>\n",
       "    <tr>\n",
       "      <th>5</th>\n",
       "      <td>1066</td>\n",
       "      <td>4</td>\n",
       "      <td>97262846</td>\n",
       "      <td>137735</td>\n",
       "      <td>1023</td>\n",
       "    </tr>\n",
       "    <tr>\n",
       "      <th>8</th>\n",
       "      <td>1066</td>\n",
       "      <td>4</td>\n",
       "      <td>58420503</td>\n",
       "      <td>83022</td>\n",
       "      <td>1023</td>\n",
       "    </tr>\n",
       "    <tr>\n",
       "      <th>11</th>\n",
       "      <td>1066</td>\n",
       "      <td>2</td>\n",
       "      <td>15492642</td>\n",
       "      <td>22070</td>\n",
       "      <td>1023</td>\n",
       "    </tr>\n",
       "    <tr>\n",
       "      <th>12</th>\n",
       "      <td>1066</td>\n",
       "      <td>4</td>\n",
       "      <td>29755671</td>\n",
       "      <td>42177</td>\n",
       "      <td>1023</td>\n",
       "    </tr>\n",
       "    <tr>\n",
       "      <th>15</th>\n",
       "      <td>1066</td>\n",
       "      <td>3</td>\n",
       "      <td>93302487</td>\n",
       "      <td>132199</td>\n",
       "      <td>1023</td>\n",
       "    </tr>\n",
       "  </tbody>\n",
       "</table>\n",
       "</div>"
      ],
      "text/plain": [
       "    movie_id  rating_score   user_id    user  movie\n",
       "5       1066             4  97262846  137735   1023\n",
       "8       1066             4  58420503   83022   1023\n",
       "11      1066             2  15492642   22070   1023\n",
       "12      1066             4  29755671   42177   1023\n",
       "15      1066             3  93302487  132199   1023"
      ]
     },
     "execution_count": 5,
     "metadata": {},
     "output_type": "execute_result"
    }
   ],
   "source": [
    "ratings.head()"
   ]
  },
  {
   "cell_type": "code",
   "execution_count": 7,
   "id": "ba60506e",
   "metadata": {},
   "outputs": [
    {
     "data": {
      "text/plain": [
       "((6864260, 2), (6864260,))"
      ]
     },
     "execution_count": 7,
     "metadata": {},
     "output_type": "execute_result"
    }
   ],
   "source": [
    "\n",
    "X = ratings[['movie', 'user']].values\n",
    "y = ratings['rating_score'].values\n",
    "\n",
    "X.shape, y.shape"
   ]
  },
  {
   "cell_type": "code",
   "execution_count": 10,
   "id": "0f7cad98",
   "metadata": {},
   "outputs": [],
   "source": [
    "X_train, X_test = train_test_split(ratings[['movie', 'user', 'rating_score']], test_size=0.33, random_state=42)"
   ]
  },
  {
   "cell_type": "code",
   "execution_count": 12,
   "id": "bab5c9d9",
   "metadata": {},
   "outputs": [
    {
     "data": {
      "text/plain": [
       "((4599054, 3), (2265206, 3))"
      ]
     },
     "execution_count": 12,
     "metadata": {},
     "output_type": "execute_result"
    }
   ],
   "source": [
    "X_train.shape, X_test.shape"
   ]
  },
  {
   "cell_type": "code",
   "execution_count": 13,
   "id": "4737d5b2",
   "metadata": {},
   "outputs": [],
   "source": [
    "nmovie_id = ratings.movie_id.nunique()\n",
    "nuser_id = ratings.user_id.nunique()"
   ]
  },
  {
   "cell_type": "code",
   "execution_count": 24,
   "id": "7d97dab2",
   "metadata": {},
   "outputs": [],
   "source": [
    "input_movies = keras.layers.Input(shape=[1])\n",
    "embed_movies = keras.layers.Embedding(nmovie_id+1, 15)(input_movies)\n",
    "movies_out = keras.layers.Flatten()(embed_movies)\n",
    "\n",
    "input_users = keras.layers.Input(shape=[1])\n",
    "embed_users = keras.layers.Embedding(nuser_id+1, 15)(input_users)\n",
    "users_out = keras.layers.Flatten()(embed_users)\n",
    "\n",
    "conc_layer = keras.layers.Concatenate()([movies_out, users_out])\n",
    "x = keras.layers.Dense(128, activation='relu')(conc_layer)\n",
    "dropout = x = keras.layers.Dropout(rate=.2, seed=42)(x)\n",
    "dense2 = x = keras.layers.Dense(50, activation='relu')(x)\n",
    "x_out = x = keras.layers.Dense(1, activation='relu')(x)\n",
    "\n",
    "\n",
    "model = keras.Model([input_movies, input_users], x_out)"
   ]
  },
  {
   "cell_type": "code",
   "execution_count": 25,
   "id": "096ade8f",
   "metadata": {},
   "outputs": [
    {
     "name": "stdout",
     "output_type": "stream",
     "text": [
      "Model: \"model_1\"\n",
      "__________________________________________________________________________________________________\n",
      "Layer (type)                    Output Shape         Param #     Connected to                     \n",
      "==================================================================================================\n",
      "input_3 (InputLayer)            [(None, 1)]          0                                            \n",
      "__________________________________________________________________________________________________\n",
      "input_4 (InputLayer)            [(None, 1)]          0                                            \n",
      "__________________________________________________________________________________________________\n",
      "embedding_2 (Embedding)         (None, 1, 15)        1089030     input_3[0][0]                    \n",
      "__________________________________________________________________________________________________\n",
      "embedding_3 (Embedding)         (None, 1, 15)        2125155     input_4[0][0]                    \n",
      "__________________________________________________________________________________________________\n",
      "flatten_2 (Flatten)             (None, 15)           0           embedding_2[0][0]                \n",
      "__________________________________________________________________________________________________\n",
      "flatten_3 (Flatten)             (None, 15)           0           embedding_3[0][0]                \n",
      "__________________________________________________________________________________________________\n",
      "concatenate_1 (Concatenate)     (None, 30)           0           flatten_2[0][0]                  \n",
      "                                                                 flatten_3[0][0]                  \n",
      "__________________________________________________________________________________________________\n",
      "dense_2 (Dense)                 (None, 128)          3968        concatenate_1[0][0]              \n",
      "__________________________________________________________________________________________________\n",
      "dropout (Dropout)               (None, 128)          0           dense_2[0][0]                    \n",
      "__________________________________________________________________________________________________\n",
      "dense_3 (Dense)                 (None, 50)           6450        dropout[0][0]                    \n",
      "__________________________________________________________________________________________________\n",
      "dense_4 (Dense)                 (None, 1)            51          dense_3[0][0]                    \n",
      "==================================================================================================\n",
      "Total params: 3,224,654\n",
      "Trainable params: 3,224,654\n",
      "Non-trainable params: 0\n",
      "__________________________________________________________________________________________________\n"
     ]
    }
   ],
   "source": [
    "opt = tf.optimizers.Adam(learning_rate=.01)\n",
    "model.compile(optimizer=opt, loss='mean_squared_error', metrics = keras.metrics.RootMeanSquaredError())\n",
    "\n",
    "model.summary()"
   ]
  },
  {
   "cell_type": "code",
   "execution_count": 26,
   "id": "75e35d0a",
   "metadata": {},
   "outputs": [
    {
     "name": "stdout",
     "output_type": "stream",
     "text": [
      "Epoch 1/3\n",
      "3680/3680 [==============================] - 92s 25ms/step - loss: 0.8070 - root_mean_squared_error: 0.8983 - val_loss: 0.7233 - val_root_mean_squared_error: 0.8505\n",
      "Epoch 2/3\n",
      "3680/3680 [==============================] - 93s 25ms/step - loss: 0.6971 - root_mean_squared_error: 0.8349 - val_loss: 0.7125 - val_root_mean_squared_error: 0.8441\n",
      "Epoch 3/3\n",
      "3680/3680 [==============================] - 92s 25ms/step - loss: 0.6637 - root_mean_squared_error: 0.8147 - val_loss: 0.7016 - val_root_mean_squared_error: 0.8376\n"
     ]
    }
   ],
   "source": [
    "hist = model.fit([X_train.movie, X_train.user], \n",
    "                 X_train.rating_score,  \n",
    "                 batch_size=1000, epochs=3, verbose=1, validation_split=.2)"
   ]
  },
  {
   "cell_type": "code",
   "execution_count": 29,
   "id": "f355d6b1",
   "metadata": {},
   "outputs": [],
   "source": [
    "import matplotlib.pyplot as plt"
   ]
  },
  {
   "cell_type": "code",
   "execution_count": 31,
   "id": "4a614db1",
   "metadata": {},
   "outputs": [
    {
     "data": {
      "image/png": "[encoded data removed]",
      "text/plain": [
       "<Figure size 432x288 with 1 Axes>"
      ]
     },
     "metadata": {
      "needs_background": "light"
     },
     "output_type": "display_data"
    }
   ],
   "source": [
    "train_loss = hist.history['loss']\n",
    "val_loss = hist.history['val_loss']\n",
    "plt.plot(train_loss, color='r', label='Train Loss')\n",
    "plt.plot(val_loss, color='b', label='Validation Loss')\n",
    "plt.title(\"Train and Validation Loss Curve\")\n",
    "plt.legend()\n",
    "plt.show()"
   ]
  },
  {
   "cell_type": "code",
   "execution_count": 32,
   "id": "60458b94",
   "metadata": {},
   "outputs": [
    {
     "data": {
      "text/plain": [
       "dict_keys(['loss', 'root_mean_squared_error', 'val_loss', 'val_root_mean_squared_error'])"
      ]
     },
     "execution_count": 32,
     "metadata": {},
     "output_type": "execute_result"
    }
   ],
   "source": [
    "hist.history.keys()"
   ]
  },
  {
   "cell_type": "code",
   "execution_count": 33,
   "id": "263b4d33",
   "metadata": {},
   "outputs": [
    {
     "data": {
      "image/png": "[encoded data removed]",
      "text/plain": [
       "<Figure size 432x288 with 1 Axes>"
      ]
     },
     "metadata": {
      "needs_background": "light"
     },
     "output_type": "display_data"
    }
   ],
   "source": [
    "train_loss = hist.history['root_mean_squared_error']\n",
    "val_loss = hist.history['val_root_mean_squared_error']\n",
    "plt.plot(train_loss, color='r', label='Train RMSE')\n",
    "plt.plot(val_loss, color='b', label='Validation RMSE')\n",
    "plt.title(\"Train and Validation RMSE Curve\")\n",
    "plt.legend()\n",
    "plt.show()"
   ]
  },
  {
   "cell_type": "code",
   "execution_count": 34,
   "id": "e22d5e83",
   "metadata": {},
   "outputs": [
    {
     "name": "stdout",
     "output_type": "stream",
     "text": [
      "Epoch 1/5\n",
      "28745/28745 [==============================] - 673s 23ms/step - loss: 0.6868 - root_mean_squared_error: 0.8288 - val_loss: 0.7097 - val_root_mean_squared_error: 0.8424\n",
      "Epoch 2/5\n",
      "28745/28745 [==============================] - 677s 24ms/step - loss: 0.6634 - root_mean_squared_error: 0.8145 - val_loss: 0.7429 - val_root_mean_squared_error: 0.8619\n",
      "Epoch 3/5\n",
      "28745/28745 [==============================] - 654s 23ms/step - loss: 0.6461 - root_mean_squared_error: 0.8038 - val_loss: 0.7060 - val_root_mean_squared_error: 0.8402\n",
      "Epoch 4/5\n",
      "28745/28745 [==============================] - 647s 23ms/step - loss: 0.6324 - root_mean_squared_error: 0.7953 - val_loss: 0.7091 - val_root_mean_squared_error: 0.8421\n",
      "Epoch 5/5\n",
      "28745/28745 [==============================] - 638s 22ms/step - loss: 0.6204 - root_mean_squared_error: 0.7877 - val_loss: 0.7084 - val_root_mean_squared_error: 0.8416\n"
     ]
    }
   ],
   "source": [
    "hist = model.fit([X_train.movie, X_train.user], \n",
    "                 X_train.rating_score,  \n",
    "                 batch_size=128, epochs=5, verbose=1, validation_split=.2)"
   ]
  },
  {
   "cell_type": "code",
   "execution_count": 35,
   "id": "9fa57468",
   "metadata": {},
   "outputs": [
    {
     "data": {
      "image/png": "[encoded data removed]",
      "text/plain": [
       "<Figure size 432x288 with 1 Axes>"
      ]
     },
     "metadata": {
      "needs_background": "light"
     },
     "output_type": "display_data"
    }
   ],
   "source": [
    "train_loss = hist.history['loss']\n",
    "val_loss = hist.history['val_loss']\n",
    "plt.plot(train_loss, color='r', label='Train Loss')\n",
    "plt.plot(val_loss, color='b', label='Validation Loss')\n",
    "plt.title(\"Train and Validation Loss Curve\")\n",
    "plt.legend()\n",
    "plt.show()"
   ]
  },
  {
   "cell_type": "code",
   "execution_count": 36,
   "id": "00f6fd84",
   "metadata": {},
   "outputs": [
    {
     "data": {
      "image/png": "[encoded data removed]",
      "text/plain": [
       "<Figure size 432x288 with 1 Axes>"
      ]
     },
     "metadata": {
      "needs_background": "light"
     },
     "output_type": "display_data"
    }
   ],
   "source": [
    "train_loss = hist.history['root_mean_squared_error']\n",
    "val_loss = hist.history['val_root_mean_squared_error']\n",
    "plt.plot(train_loss, color='r', label='Train RMSE')\n",
    "plt.plot(val_loss, color='b', label='Validation RMSE')\n",
    "plt.title(\"Train and Validation RMSE Curve\")\n",
    "plt.legend()\n",
    "plt.show()"
   ]
  },
  {
   "cell_type": "code",
   "execution_count": 37,
   "id": "d13eee0f",
   "metadata": {},
   "outputs": [
    {
     "data": {
      "text/html": [
       "<div>\n",
       "<style scoped>\n",
       "    .dataframe tbody tr th:only-of-type {\n",
       "        vertical-align: middle;\n",
       "    }\n",
       "\n",
       "    .dataframe tbody tr th {\n",
       "        vertical-align: top;\n",
       "    }\n",
       "\n",
       "    .dataframe thead th {\n",
       "        text-align: right;\n",
       "    }\n",
       "</style>\n",
       "<table border=\"1\" class=\"dataframe\">\n",
       "  <thead>\n",
       "    <tr style=\"text-align: right;\">\n",
       "      <th></th>\n",
       "      <th>movie_id</th>\n",
       "      <th>rating_score</th>\n",
       "      <th>user_id</th>\n",
       "      <th>user</th>\n",
       "      <th>movie</th>\n",
       "    </tr>\n",
       "  </thead>\n",
       "  <tbody>\n",
       "    <tr>\n",
       "      <th>15</th>\n",
       "      <td>1066</td>\n",
       "      <td>3</td>\n",
       "      <td>93302487</td>\n",
       "      <td>132199</td>\n",
       "      <td>1023</td>\n",
       "    </tr>\n",
       "    <tr>\n",
       "      <th>177284</th>\n",
       "      <td>1345</td>\n",
       "      <td>3</td>\n",
       "      <td>93302487</td>\n",
       "      <td>132199</td>\n",
       "      <td>1275</td>\n",
       "    </tr>\n",
       "    <tr>\n",
       "      <th>198923</th>\n",
       "      <td>1359</td>\n",
       "      <td>5</td>\n",
       "      <td>93302487</td>\n",
       "      <td>132199</td>\n",
       "      <td>1288</td>\n",
       "    </tr>\n",
       "    <tr>\n",
       "      <th>244847</th>\n",
       "      <td>1399</td>\n",
       "      <td>4</td>\n",
       "      <td>93302487</td>\n",
       "      <td>132199</td>\n",
       "      <td>1325</td>\n",
       "    </tr>\n",
       "    <tr>\n",
       "      <th>317119</th>\n",
       "      <td>1465</td>\n",
       "      <td>4</td>\n",
       "      <td>93302487</td>\n",
       "      <td>132199</td>\n",
       "      <td>1386</td>\n",
       "    </tr>\n",
       "    <tr>\n",
       "      <th>...</th>\n",
       "      <td>...</td>\n",
       "      <td>...</td>\n",
       "      <td>...</td>\n",
       "      <td>...</td>\n",
       "      <td>...</td>\n",
       "    </tr>\n",
       "    <tr>\n",
       "      <th>15127107</th>\n",
       "      <td>865</td>\n",
       "      <td>3</td>\n",
       "      <td>93302487</td>\n",
       "      <td>132199</td>\n",
       "      <td>829</td>\n",
       "    </tr>\n",
       "    <tr>\n",
       "      <th>15343609</th>\n",
       "      <td>963</td>\n",
       "      <td>3</td>\n",
       "      <td>93302487</td>\n",
       "      <td>132199</td>\n",
       "      <td>924</td>\n",
       "    </tr>\n",
       "    <tr>\n",
       "      <th>15399840</th>\n",
       "      <td>978</td>\n",
       "      <td>4</td>\n",
       "      <td>93302487</td>\n",
       "      <td>132199</td>\n",
       "      <td>939</td>\n",
       "    </tr>\n",
       "    <tr>\n",
       "      <th>15452593</th>\n",
       "      <td>995</td>\n",
       "      <td>5</td>\n",
       "      <td>93302487</td>\n",
       "      <td>132199</td>\n",
       "      <td>956</td>\n",
       "    </tr>\n",
       "    <tr>\n",
       "      <th>15508743</th>\n",
       "      <td>1050</td>\n",
       "      <td>2</td>\n",
       "      <td>93302487</td>\n",
       "      <td>132199</td>\n",
       "      <td>1007</td>\n",
       "    </tr>\n",
       "  </tbody>\n",
       "</table>\n",
       "<p>87 rows × 5 columns</p>\n",
       "</div>"
      ],
      "text/plain": [
       "          movie_id  rating_score   user_id    user  movie\n",
       "15            1066             3  93302487  132199   1023\n",
       "177284        1345             3  93302487  132199   1275\n",
       "198923        1359             5  93302487  132199   1288\n",
       "244847        1399             4  93302487  132199   1325\n",
       "317119        1465             4  93302487  132199   1386\n",
       "...            ...           ...       ...     ...    ...\n",
       "15127107       865             3  93302487  132199    829\n",
       "15343609       963             3  93302487  132199    924\n",
       "15399840       978             4  93302487  132199    939\n",
       "15452593       995             5  93302487  132199    956\n",
       "15508743      1050             2  93302487  132199   1007\n",
       "\n",
       "[87 rows x 5 columns]"
      ]
     },
     "execution_count": 37,
     "metadata": {},
     "output_type": "execute_result"
    }
   ],
   "source": [
    "ratings[ratings.user_id==93302487]"
   ]
  },
  {
   "cell_type": "code",
   "execution_count": 50,
   "id": "19f7344f",
   "metadata": {},
   "outputs": [],
   "source": [
    "movie_array = ratings[ratings.user_id==93302487].movie.values.astype(int)\n",
    "user = np.array([int(132199) for n in range(len(movie_array))])"
   ]
  },
  {
   "cell_type": "code",
   "execution_count": 51,
   "id": "73a7b8dc",
   "metadata": {},
   "outputs": [
    {
     "data": {
      "text/plain": [
       "((87,), dtype('int64'), (87,), dtype('int64'))"
      ]
     },
     "execution_count": 51,
     "metadata": {},
     "output_type": "execute_result"
    }
   ],
   "source": [
    "movie_array.shape, movie_array.dtype, user.shape, user.dtype"
   ]
  },
  {
   "cell_type": "code",
   "execution_count": 52,
   "id": "084391c0",
   "metadata": {
    "scrolled": true
   },
   "outputs": [],
   "source": [
    "pred = model.predict([movie_array, user])"
   ]
  },
  {
   "cell_type": "code",
   "execution_count": 57,
   "id": "d3e46568",
   "metadata": {},
   "outputs": [
    {
     "data": {
      "text/plain": [
       "array([3.345584 , 3.581468 , 3.6281016, 3.5991843, 3.5802548, 3.8390293,\n",
       "       3.3249876, 3.5991843, 3.587224 , 3.4404144, 3.5991843, 3.3779798,\n",
       "       3.5991843, 3.4373567, 3.70543  , 3.6240776, 3.518842 , 3.3315716,\n",
       "       3.5121791, 3.4015691, 3.4186172, 3.5279977, 3.8452895, 3.5991843,\n",
       "       3.5991843, 3.5991843, 3.5991843, 3.691007 , 3.6693738, 3.5991843,\n",
       "       3.5457745, 3.5991843, 3.9785814, 4.1352563, 3.5991843, 3.533689 ,\n",
       "       3.747739 , 3.7834551, 3.8378985, 3.9177163, 3.9330394, 3.5945058,\n",
       "       3.748171 , 3.852043 , 3.574605 , 3.8006196, 3.5991843, 3.550979 ,\n",
       "       3.5891602, 3.5991843, 3.5991843, 3.935526 , 3.8597255, 3.8629131,\n",
       "       3.5531027, 3.707834 , 3.9059062, 3.6820078, 3.7074194, 4.0968323,\n",
       "       3.5846334, 3.5991843, 3.782853 , 3.5991843, 3.5733304, 3.3644624,\n",
       "       3.8786235, 3.5991843, 3.930921 , 3.7444565, 3.5991843, 3.7254355,\n",
       "       3.5991843, 3.8949907, 3.5280786, 4.259642 , 3.8174067, 3.9040446,\n",
       "       3.5991843, 3.5991843, 3.5854185, 3.5991843, 3.7831242, 3.5883477,\n",
       "       3.7046664, 3.8314633, 3.4819353], dtype=float32)"
      ]
     },
     "execution_count": 57,
     "metadata": {},
     "output_type": "execute_result"
    }
   ],
   "source": [
    "pred.flatten()"
   ]
  },
  {
   "cell_type": "code",
   "execution_count": 59,
   "id": "b40af18f",
   "metadata": {},
   "outputs": [
    {
     "data": {
      "text/plain": [
       "[((3.345584, 3), 1023),\n",
       " ((3.581468, 3), 1275),\n",
       " ((3.6281016, 5), 1288),\n",
       " ((3.5991843, 4), 1325),\n",
       " ((3.5802548, 4), 1386),\n",
       " ((3.8390293, 3), 1427),\n",
       " ((3.3249876, 2), 1524),\n",
       " ((3.5991843, 3), 1586),\n",
       " ((3.587224, 4), 1599),\n",
       " ((3.4404144, 4), 1650),\n",
       " ((3.5991843, 2), 1655),\n",
       " ((3.3779798, 4), 2136),\n",
       " ((3.5991843, 4), 2389),\n",
       " ((3.4373567, 3), 3100),\n",
       " ((3.70543, 4), 3104),\n",
       " ((3.6240776, 3), 3106),\n",
       " ((3.518842, 4), 3123),\n",
       " ((3.3315716, 3), 4911),\n",
       " ((3.5121791, 3), 6271),\n",
       " ((3.4015691, 3), 7858),\n",
       " ((3.4186172, 4), 3),\n",
       " ((3.5279977, 4), 59),\n",
       " ((3.8452895, 4), 67),\n",
       " ((3.5991843, 4), 81),\n",
       " ((3.5991843, 4), 83),\n",
       " ((3.5991843, 4), 84),\n",
       " ((3.5991843, 5), 99),\n",
       " ((3.691007, 4), 108),\n",
       " ((3.6693738, 5), 113),\n",
       " ((3.5991843, 4), 114),\n",
       " ((3.5457745, 3), 131),\n",
       " ((3.5991843, 4), 133),\n",
       " ((3.9785814, 3), 137),\n",
       " ((4.1352563, 5), 139),\n",
       " ((3.5991843, 5), 145),\n",
       " ((3.533689, 2), 148),\n",
       " ((3.747739, 4), 149),\n",
       " ((3.7834551, 2), 150),\n",
       " ((3.8378985, 5), 153),\n",
       " ((3.9177163, 3), 155),\n",
       " ((3.9330394, 4), 156),\n",
       " ((3.5945058, 4), 157),\n",
       " ((3.748171, 4), 159),\n",
       " ((3.852043, 3), 161),\n",
       " ((3.574605, 3), 169),\n",
       " ((3.8006196, 2), 177),\n",
       " ((3.5991843, 4), 179),\n",
       " ((3.550979, 2), 180),\n",
       " ((3.5891602, 2), 181),\n",
       " ((3.5991843, 3), 182),\n",
       " ((3.5991843, 3), 185),\n",
       " ((3.935526, 5), 187),\n",
       " ((3.8597255, 4), 189),\n",
       " ((3.8629131, 4), 193),\n",
       " ((3.5531027, 4), 194),\n",
       " ((3.707834, 5), 202),\n",
       " ((3.9059062, 4), 224),\n",
       " ((3.6820078, 4), 230),\n",
       " ((3.7074194, 4), 254),\n",
       " ((4.0968323, 4), 271),\n",
       " ((3.5846334, 3), 275),\n",
       " ((3.5991843, 4), 294),\n",
       " ((3.782853, 5), 296),\n",
       " ((3.5991843, 3), 304),\n",
       " ((3.5733304, 4), 306),\n",
       " ((3.3644624, 1), 307),\n",
       " ((3.8786235, 3), 323),\n",
       " ((3.5991843, 3), 380),\n",
       " ((3.930921, 4), 389),\n",
       " ((3.7444565, 4), 396),\n",
       " ((3.5991843, 4), 397),\n",
       " ((3.7254355, 4), 398),\n",
       " ((3.5991843, 5), 461),\n",
       " ((3.8949907, 5), 466),\n",
       " ((3.5280786, 4), 467),\n",
       " ((4.259642, 4), 470),\n",
       " ((3.8174067, 4), 480),\n",
       " ((3.9040446, 4), 484),\n",
       " ((3.5991843, 5), 500),\n",
       " ((3.5991843, 3), 506),\n",
       " ((3.5854185, 5), 578),\n",
       " ((3.5991843, 3), 800),\n",
       " ((3.7831242, 3), 829),\n",
       " ((3.5883477, 3), 924),\n",
       " ((3.7046664, 4), 939),\n",
       " ((3.8314633, 5), 956),\n",
       " ((3.4819353, 2), 1007)]"
      ]
     },
     "execution_count": 59,
     "metadata": {},
     "output_type": "execute_result"
    }
   ],
   "source": [
    "list(zip(zip(pred.flatten(), ratings[ratings.user_id==93302487].rating_score.values),movie_array))"
   ]
  }
 ],
 "metadata": {
  "kernelspec": {
   "display_name": "tf_env",
   "language": "python",
   "name": "tf_env"
  },
  "language_info": {
   "codemirror_mode": {
    "name": "ipython",
    "version": 3
   },
   "file_extension": ".py",
   "mimetype": "text/x-python",
   "name": "python",
   "nbconvert_exporter": "python",
   "pygments_lexer": "ipython3",
   "version": "3.8.5"
  }
 },
 "nbformat": 4,
 "nbformat_minor": 5
}
