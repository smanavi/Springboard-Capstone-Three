{
 "cells": [
  {
   "cell_type": "markdown",
   "metadata": {},
   "source": [
    "Exploring, cleaning, and wrangling just the numerical ratings from the MUBI database."
   ]
  },
  {
   "cell_type": "markdown",
   "metadata": {},
   "source": [
    "#### Imports"
   ]
  },
  {
   "cell_type": "code",
   "execution_count": 3,
   "metadata": {},
   "outputs": [],
   "source": [
    "%load_ext sql\n",
    "%sql sqlite:///Data//mubi_db.sqlite"
   ]
  },
  {
   "cell_type": "code",
   "execution_count": 4,
   "metadata": {},
   "outputs": [],
   "source": [
    "from sqlalchemy import create_engine\n",
    "conn = create_engine('sqlite:///Data//mubi_db.sqlite').connect()"
   ]
  },
  {
   "cell_type": "code",
   "execution_count": 5,
   "metadata": {},
   "outputs": [],
   "source": [
    "import pandas as pd\n",
    "import math\n",
    "import matplotlib.pyplot as plt\n",
    "import numpy as np\n",
    "import seaborn as sns\n",
    "import random"
   ]
  },
  {
   "cell_type": "code",
   "execution_count": 6,
   "metadata": {},
   "outputs": [],
   "source": [
    "from itertools import chain\n",
    "def flatten(list_of_lists):\n",
    "    \"Flatten one level of nesting\"\n",
    "    return chain.from_iterable(list_of_lists)"
   ]
  },
  {
   "cell_type": "markdown",
   "metadata": {},
   "source": [
    "#### Grab the data and import it into a dataframe"
   ]
  },
  {
   "cell_type": "code",
   "execution_count": 7,
   "metadata": {},
   "outputs": [],
   "source": [
    "q = \"SELECT movie_id, rating_score, user_id FROM ratings;\"\n",
    "df = pd.read_sql_query(q, conn)"
   ]
  },
  {
   "cell_type": "code",
   "execution_count": 8,
   "metadata": {},
   "outputs": [],
   "source": [
    "#Some people write reviews but don't give a numerical rating. \n",
    "#These are kept in the databse but I don't need them for now.\n",
    "df.dropna(inplace=True)"
   ]
  },
  {
   "cell_type": "code",
   "execution_count": 9,
   "metadata": {},
   "outputs": [
    {
     "name": "stdout",
     "output_type": "stream",
     "text": [
      "<class 'pandas.core.frame.DataFrame'>\n",
      "Int64Index: 15493274 entries, 0 to 15520004\n",
      "Data columns (total 3 columns):\n",
      " #   Column        Dtype  \n",
      "---  ------        -----  \n",
      " 0   movie_id      int64  \n",
      " 1   rating_score  float64\n",
      " 2   user_id       int64  \n",
      "dtypes: float64(1), int64(2)\n",
      "memory usage: 472.8 MB\n"
     ]
    }
   ],
   "source": [
    "df.info()"
   ]
  },
  {
   "cell_type": "code",
   "execution_count": 10,
   "metadata": {},
   "outputs": [],
   "source": [
    "#reduce memory load of the dataframe\n",
    "df['rating_score'] = df['rating_score'].astype('int8')\n",
    "df['movie_id'] = df['movie_id'].astype('int32')\n",
    "df['user_id'] = df['user_id'].astype('int32')"
   ]
  },
  {
   "cell_type": "code",
   "execution_count": 23,
   "metadata": {},
   "outputs": [
    {
     "name": "stdout",
     "output_type": "stream",
     "text": [
      "<class 'pandas.core.frame.DataFrame'>\n",
      "Int64Index: 15493274 entries, 0 to 15520004\n",
      "Data columns (total 3 columns):\n",
      " #   Column        Dtype\n",
      "---  ------        -----\n",
      " 0   movie_id      int32\n",
      " 1   rating_score  int8 \n",
      " 2   user_id       int32\n",
      "dtypes: int32(2), int8(1)\n",
      "memory usage: 251.2 MB\n"
     ]
    }
   ],
   "source": [
    "df.info()"
   ]
  },
  {
   "cell_type": "markdown",
   "metadata": {},
   "source": [
    "#### Look at users"
   ]
  },
  {
   "cell_type": "markdown",
   "metadata": {},
   "source": [
    "There are almost 450k unique users. the vast majority of them only have 1-2 ratings in the system. Some of them have 10s of thousands of ratings. I probably don't need to keep the extremes of these ranges on either end. "
   ]
  },
  {
   "cell_type": "code",
   "execution_count": 12,
   "metadata": {},
   "outputs": [
    {
     "data": {
      "text/plain": [
       "user_id\n",
       "12295046    19983\n",
       "2591449     17053\n",
       "24226320    11183\n",
       "35097747    11158\n",
       "92027428    10544\n",
       "            ...  \n",
       "46061762        1\n",
       "46062167        1\n",
       "46062375        1\n",
       "46062569        1\n",
       "99999860        1\n",
       "Name: rating_score, Length: 448627, dtype: int64"
      ]
     },
     "execution_count": 12,
     "metadata": {},
     "output_type": "execute_result"
    }
   ],
   "source": [
    "sorted_users = df.groupby('user_id').count()['rating_score'].sort_values(ascending=False)\n",
    "sorted_users"
   ]
  },
  {
   "cell_type": "code",
   "execution_count": 13,
   "metadata": {},
   "outputs": [
    {
     "data": {
      "text/plain": [
       "array([  5.  ,  11.  ,  41.  , 695.74])"
      ]
     },
     "execution_count": 13,
     "metadata": {},
     "output_type": "execute_result"
    }
   ],
   "source": [
    "np.quantile(sorted_users.values, [.7, .8, .9, .99])"
   ]
  },
  {
   "cell_type": "code",
   "execution_count": 14,
   "metadata": {},
   "outputs": [
    {
     "data": {
      "text/plain": [
       "142606"
      ]
     },
     "execution_count": 14,
     "metadata": {},
     "output_type": "execute_result"
    }
   ],
   "source": [
    "n_movies = len(df.movie_id.unique())\n",
    "n_movies"
   ]
  },
  {
   "cell_type": "markdown",
   "metadata": {},
   "source": [
    "I can do a comparison of how limiting the number of users via number of ratings will affect the number of unique movies in the reuslting dataset. I don't want to lose too many movies, but I also can't run the analyses on ALL this data. "
   ]
  },
  {
   "cell_type": "code",
   "execution_count": 37,
   "metadata": {},
   "outputs": [],
   "source": [
    "def percent_movies_kept(rating_percentile_range=(.5, .99), n_movies=n_movies):\n",
    "    '''\n",
    "    takes two percentiles (lower and upper bound), and the number of unique movies in the dataset.\n",
    "    returns the percentage of movies that will be kept if number of ratings is limited to the percentile ranges set.\n",
    "    also returns the length of the resulting dataframe (in long form)\n",
    "    '''\n",
    "    \n",
    "    upper = np.ceil(np.quantile(sorted_users.values, rating_percentile_range[1]))\n",
    "    lower = np.ceil(np.quantile(sorted_users.values, rating_percentile_range[0]))\n",
    "    \n",
    "    temp_users = sorted_users[(sorted_users.values<=upper)&(sorted_users.values>=lower)].index\n",
    "    movies_kept = df[df.user_id.isin(temp_users)]\n",
    "    \n",
    "    p_movies_kept = len(movies_kept.movie_id.unique()) / n_movies\n",
    "    \n",
    "    return p_movies_kept, len(movies_kept)"
   ]
  },
  {
   "cell_type": "code",
   "execution_count": 43,
   "metadata": {},
   "outputs": [],
   "source": [
    "upper_ranges = [.9, .92, .95, .97, .99]\n",
    "lower_ranges = [.4, .5, .6, .7, .75]"
   ]
  },
  {
   "cell_type": "code",
   "execution_count": 44,
   "metadata": {},
   "outputs": [],
   "source": [
    "range_combos = ((l,u) for l in lower_ranges for u in upper_ranges)\n",
    "\n",
    "percents = []\n",
    "for combo in range_combos:\n",
    "    p, l = percent_movies_kept(rating_percentile_range=combo)\n",
    "    percents.append((combo[0], combo[1], p, l))"
   ]
  },
  {
   "cell_type": "code",
   "execution_count": 45,
   "metadata": {},
   "outputs": [],
   "source": [
    "percents_df = pd.DataFrame(index = lower_ranges, columns=upper_ranges)\n",
    "for p in percents:\n",
    "    percents_df.at[p[0], p[1]] = p[2]"
   ]
  },
  {
   "cell_type": "code",
   "execution_count": 46,
   "metadata": {},
   "outputs": [
    {
     "data": {
      "text/html": [
       "<div>\n",
       "<style scoped>\n",
       "    .dataframe tbody tr th:only-of-type {\n",
       "        vertical-align: middle;\n",
       "    }\n",
       "\n",
       "    .dataframe tbody tr th {\n",
       "        vertical-align: top;\n",
       "    }\n",
       "\n",
       "    .dataframe thead th {\n",
       "        text-align: right;\n",
       "    }\n",
       "</style>\n",
       "<table border=\"1\" class=\"dataframe\">\n",
       "  <thead>\n",
       "    <tr style=\"text-align: right;\">\n",
       "      <th></th>\n",
       "      <th>0.90</th>\n",
       "      <th>0.92</th>\n",
       "      <th>0.95</th>\n",
       "      <th>0.97</th>\n",
       "      <th>0.99</th>\n",
       "    </tr>\n",
       "  </thead>\n",
       "  <tbody>\n",
       "    <tr>\n",
       "      <th>0.40</th>\n",
       "      <td>0.269869</td>\n",
       "      <td>0.29578</td>\n",
       "      <td>0.354389</td>\n",
       "      <td>0.425796</td>\n",
       "      <td>0.590361</td>\n",
       "    </tr>\n",
       "    <tr>\n",
       "      <th>0.50</th>\n",
       "      <td>0.234527</td>\n",
       "      <td>0.263972</td>\n",
       "      <td>0.328254</td>\n",
       "      <td>0.40452</td>\n",
       "      <td>0.576175</td>\n",
       "    </tr>\n",
       "    <tr>\n",
       "      <th>0.60</th>\n",
       "      <td>0.224079</td>\n",
       "      <td>0.254982</td>\n",
       "      <td>0.321389</td>\n",
       "      <td>0.399331</td>\n",
       "      <td>0.572928</td>\n",
       "    </tr>\n",
       "    <tr>\n",
       "      <th>0.70</th>\n",
       "      <td>0.212726</td>\n",
       "      <td>0.245445</td>\n",
       "      <td>0.314489</td>\n",
       "      <td>0.394338</td>\n",
       "      <td>0.570011</td>\n",
       "    </tr>\n",
       "    <tr>\n",
       "      <th>0.75</th>\n",
       "      <td>0.201268</td>\n",
       "      <td>0.236294</td>\n",
       "      <td>0.308185</td>\n",
       "      <td>0.389731</td>\n",
       "      <td>0.567374</td>\n",
       "    </tr>\n",
       "  </tbody>\n",
       "</table>\n",
       "</div>"
      ],
      "text/plain": [
       "          0.90      0.92      0.95      0.97      0.99\n",
       "0.40  0.269869   0.29578  0.354389  0.425796  0.590361\n",
       "0.50  0.234527  0.263972  0.328254   0.40452  0.576175\n",
       "0.60  0.224079  0.254982  0.321389  0.399331  0.572928\n",
       "0.70  0.212726  0.245445  0.314489  0.394338  0.570011\n",
       "0.75  0.201268  0.236294  0.308185  0.389731  0.567374"
      ]
     },
     "execution_count": 46,
     "metadata": {},
     "output_type": "execute_result"
    }
   ],
   "source": [
    "percents_df"
   ]
  },
  {
   "cell_type": "code",
   "execution_count": 51,
   "metadata": {
    "scrolled": true
   },
   "outputs": [],
   "source": [
    "longform_percents_df = pd.DataFrame(columns = [\"lower\", \"upper\", \"percent\", \"df_len\"], data = percents)"
   ]
  },
  {
   "cell_type": "code",
   "execution_count": 62,
   "metadata": {},
   "outputs": [
    {
     "data": {
      "image/png": "[encoded data removed]",
      "text/plain": [
       "<Figure size 1080x720 with 1 Axes>"
      ]
     },
     "metadata": {
      "needs_background": "light"
     },
     "output_type": "display_data"
    }
   ],
   "source": [
    "fig, ax = plt.subplots(figsize=(15,10))\n",
    "\n",
    "sns.scatterplot(data = longform_percents_df, \n",
    "                x='percent', y='df_len',\n",
    "               hue = 'lower',\n",
    "               style = 'upper',\n",
    "               s=200)\n",
    "plt.show()"
   ]
  },
  {
   "cell_type": "markdown",
   "metadata": {},
   "source": [
    "This is interesting but I do need the keep the business case in mind here. Having ready recommendations for users who have rated 100s, if not 1000s of movies is definitely desireable, but it's going to lead to better customer retention to be able to recommend movies to users with very few ratings. Enticing newer customers to stay is always a harder task than keeping long-standing customers (though long standing customers are obviously still very important!)"
   ]
  },
  {
   "cell_type": "markdown",
   "metadata": {},
   "source": [
    "So let's look at the actual numbers these percentiles represent. "
   ]
  },
  {
   "cell_type": "code",
   "execution_count": 65,
   "metadata": {},
   "outputs": [
    {
     "data": {
      "text/plain": [
       "array([  1.  ,   2.  ,   3.  ,   5.  ,   8.  , 695.74])"
      ]
     },
     "execution_count": 65,
     "metadata": {},
     "output_type": "execute_result"
    }
   ],
   "source": [
    "np.quantile(sorted_users.values, [.4, .5, .6, .7, .75, .99])"
   ]
  },
  {
   "cell_type": "markdown",
   "metadata": {},
   "source": [
    "It does not seem unreasonable to ask new members to rate at least 5 movies upon signing up if they want to take advantage of the recommender system. However, can we go lower than the 99th percentile (almost 700 ratings) while not losing too many unique movies in our list?"
   ]
  },
  {
   "cell_type": "code",
   "execution_count": 66,
   "metadata": {},
   "outputs": [],
   "source": [
    "upper_ranges = [.975, .98, .985, .99]\n",
    "lower_ranges = [.7]\n",
    "\n",
    "range_combos = ((l,u) for l in lower_ranges for u in upper_ranges)\n",
    "\n",
    "percents = []\n",
    "for combo in range_combos:\n",
    "    p, l = percent_movies_kept(rating_percentile_range=combo)\n",
    "    percents.append((combo[0], combo[1], p, l))"
   ]
  },
  {
   "cell_type": "code",
   "execution_count": 67,
   "metadata": {
    "scrolled": true
   },
   "outputs": [],
   "source": [
    "longform_percents_df = pd.DataFrame(columns = [\"lower\", \"upper\", \"percent\", \"df_len\"], data = percents)"
   ]
  },
  {
   "cell_type": "code",
   "execution_count": 73,
   "metadata": {},
   "outputs": [
    {
     "data": {
      "text/html": [
       "<div>\n",
       "<style scoped>\n",
       "    .dataframe tbody tr th:only-of-type {\n",
       "        vertical-align: middle;\n",
       "    }\n",
       "\n",
       "    .dataframe tbody tr th {\n",
       "        vertical-align: top;\n",
       "    }\n",
       "\n",
       "    .dataframe thead th {\n",
       "        text-align: right;\n",
       "    }\n",
       "</style>\n",
       "<table border=\"1\" class=\"dataframe\">\n",
       "  <thead>\n",
       "    <tr style=\"text-align: right;\">\n",
       "      <th></th>\n",
       "      <th>lower</th>\n",
       "      <th>upper</th>\n",
       "      <th>percent</th>\n",
       "      <th>df_len</th>\n",
       "    </tr>\n",
       "  </thead>\n",
       "  <tbody>\n",
       "    <tr>\n",
       "      <th>0</th>\n",
       "      <td>0.7</td>\n",
       "      <td>0.975</td>\n",
       "      <td>0.424470</td>\n",
       "      <td>5171865</td>\n",
       "    </tr>\n",
       "    <tr>\n",
       "      <th>1</th>\n",
       "      <td>0.7</td>\n",
       "      <td>0.980</td>\n",
       "      <td>0.464700</td>\n",
       "      <td>5914822</td>\n",
       "    </tr>\n",
       "    <tr>\n",
       "      <th>2</th>\n",
       "      <td>0.7</td>\n",
       "      <td>0.985</td>\n",
       "      <td>0.509102</td>\n",
       "      <td>6864260</td>\n",
       "    </tr>\n",
       "    <tr>\n",
       "      <th>3</th>\n",
       "      <td>0.7</td>\n",
       "      <td>0.990</td>\n",
       "      <td>0.570011</td>\n",
       "      <td>8168743</td>\n",
       "    </tr>\n",
       "  </tbody>\n",
       "</table>\n",
       "</div>"
      ],
      "text/plain": [
       "   lower  upper   percent   df_len\n",
       "0    0.7  0.975  0.424470  5171865\n",
       "1    0.7  0.980  0.464700  5914822\n",
       "2    0.7  0.985  0.509102  6864260\n",
       "3    0.7  0.990  0.570011  8168743"
      ]
     },
     "execution_count": 73,
     "metadata": {},
     "output_type": "execute_result"
    }
   ],
   "source": [
    "longform_percents_df"
   ]
  },
  {
   "cell_type": "code",
   "execution_count": 70,
   "metadata": {},
   "outputs": [
    {
     "data": {
      "image/png": "[encoded data removed]",
      "text/plain": [
       "<Figure size 576x432 with 1 Axes>"
      ]
     },
     "metadata": {
      "needs_background": "light"
     },
     "output_type": "display_data"
    }
   ],
   "source": [
    "fig, ax = plt.subplots(figsize=(8,6))\n",
    "\n",
    "sns.scatterplot(data = longform_percents_df, \n",
    "                x='percent', y='df_len',\n",
    "#                hue = 'lower',\n",
    "               style = 'upper',\n",
    "               s=200)\n",
    "plt.show()"
   ]
  },
  {
   "cell_type": "code",
   "execution_count": 74,
   "metadata": {},
   "outputs": [
    {
     "data": {
      "text/plain": [
       "81285.42"
      ]
     },
     "execution_count": 74,
     "metadata": {},
     "output_type": "execute_result"
    }
   ],
   "source": [
    "#unique movies kept if I put threshold at 99th percentile of ratings\n",
    "n_movies * .57"
   ]
  },
  {
   "cell_type": "code",
   "execution_count": 78,
   "metadata": {},
   "outputs": [
    {
     "data": {
      "text/plain": [
       "72729.06"
      ]
     },
     "execution_count": 78,
     "metadata": {},
     "output_type": "execute_result"
    }
   ],
   "source": [
    "#unique movies kept if I put threshold at 98.5th percentile of ratings\n",
    "n_movies * .51"
   ]
  },
  {
   "cell_type": "code",
   "execution_count": 79,
   "metadata": {},
   "outputs": [
    {
     "data": {
      "text/plain": [
       "array([  5., 490.])"
      ]
     },
     "execution_count": 79,
     "metadata": {},
     "output_type": "execute_result"
    }
   ],
   "source": [
    "#rating ranges to be kept\n",
    "np.quantile(sorted_users.values, [.7, .985])"
   ]
  },
  {
   "cell_type": "markdown",
   "metadata": {},
   "source": [
    "losing 1/2 a percent (~700 movies) of total unique movies but having over a million fewer entries in the dataframe seems like a legitimate tradeoff. "
   ]
  },
  {
   "cell_type": "code",
   "execution_count": null,
   "metadata": {},
   "outputs": [],
   "source": []
  },
  {
   "cell_type": "markdown",
   "metadata": {},
   "source": [
    "#### Create dataframe of \"moderate\" users"
   ]
  },
  {
   "cell_type": "code",
   "execution_count": 15,
   "metadata": {},
   "outputs": [],
   "source": [
    "moderate_users = sorted_users[(sorted_users.values<=1000)&(sorted_users.values>=20)].index"
   ]
  },
  {
   "cell_type": "code",
   "execution_count": 16,
   "metadata": {},
   "outputs": [],
   "source": [
    "df_moderate = df[df.user_id.isin(moderate_users)]"
   ]
  },
  {
   "cell_type": "code",
   "execution_count": 17,
   "metadata": {},
   "outputs": [
    {
     "name": "stdout",
     "output_type": "stream",
     "text": [
      "<class 'pandas.core.frame.DataFrame'>\n",
      "Int64Index: 8854093 entries, 0 to 15520003\n",
      "Data columns (total 3 columns):\n",
      " #   Column        Dtype\n",
      "---  ------        -----\n",
      " 0   movie_id      int32\n",
      " 1   rating_score  int8 \n",
      " 2   user_id       int32\n",
      "dtypes: int32(2), int8(1)\n",
      "memory usage: 143.5 MB\n"
     ]
    }
   ],
   "source": [
    "df_moderate.info()"
   ]
  },
  {
   "cell_type": "code",
   "execution_count": 18,
   "metadata": {},
   "outputs": [
    {
     "data": {
      "text/plain": [
       "rating_score\n",
       "1     319847\n",
       "2     803974\n",
       "3    2225980\n",
       "4    3222211\n",
       "5    2282081\n",
       "Name: user_id, dtype: int64"
      ]
     },
     "execution_count": 18,
     "metadata": {},
     "output_type": "execute_result"
    }
   ],
   "source": [
    "df_moderate.groupby('rating_score').count()['user_id']"
   ]
  },
  {
   "cell_type": "code",
   "execution_count": 19,
   "metadata": {},
   "outputs": [
    {
     "data": {
      "text/html": [
       "<div>\n",
       "<style scoped>\n",
       "    .dataframe tbody tr th:only-of-type {\n",
       "        vertical-align: middle;\n",
       "    }\n",
       "\n",
       "    .dataframe tbody tr th {\n",
       "        vertical-align: top;\n",
       "    }\n",
       "\n",
       "    .dataframe thead th {\n",
       "        text-align: right;\n",
       "    }\n",
       "</style>\n",
       "<table border=\"1\" class=\"dataframe\">\n",
       "  <thead>\n",
       "    <tr style=\"text-align: right;\">\n",
       "      <th></th>\n",
       "      <th>movie_id</th>\n",
       "      <th>rating_score</th>\n",
       "      <th>user_id</th>\n",
       "    </tr>\n",
       "  </thead>\n",
       "  <tbody>\n",
       "    <tr>\n",
       "      <th>0</th>\n",
       "      <td>1066</td>\n",
       "      <td>3</td>\n",
       "      <td>41579158</td>\n",
       "    </tr>\n",
       "    <tr>\n",
       "      <th>4</th>\n",
       "      <td>1066</td>\n",
       "      <td>4</td>\n",
       "      <td>68654088</td>\n",
       "    </tr>\n",
       "    <tr>\n",
       "      <th>5</th>\n",
       "      <td>1066</td>\n",
       "      <td>4</td>\n",
       "      <td>97262846</td>\n",
       "    </tr>\n",
       "    <tr>\n",
       "      <th>7</th>\n",
       "      <td>1066</td>\n",
       "      <td>3</td>\n",
       "      <td>57756708</td>\n",
       "    </tr>\n",
       "    <tr>\n",
       "      <th>8</th>\n",
       "      <td>1066</td>\n",
       "      <td>4</td>\n",
       "      <td>58420503</td>\n",
       "    </tr>\n",
       "  </tbody>\n",
       "</table>\n",
       "</div>"
      ],
      "text/plain": [
       "   movie_id  rating_score   user_id\n",
       "0      1066             3  41579158\n",
       "4      1066             4  68654088\n",
       "5      1066             4  97262846\n",
       "7      1066             3  57756708\n",
       "8      1066             4  58420503"
      ]
     },
     "execution_count": 19,
     "metadata": {},
     "output_type": "execute_result"
    }
   ],
   "source": [
    "df_moderate.head()"
   ]
  },
  {
   "cell_type": "markdown",
   "metadata": {},
   "source": [
    "#### Generate some basic stats for these moderate users."
   ]
  },
  {
   "cell_type": "code",
   "execution_count": 20,
   "metadata": {},
   "outputs": [],
   "source": [
    "moderate_user_stats = pd.DataFrame(columns = ['mean_score', 'median_score', 'n_ratings'])\n",
    "moderate_user_stats['mean_score'] = df_moderate.groupby('user_id').mean()['rating_score']\n",
    "moderate_user_stats['median_score'] = df_moderate.groupby('user_id').median()['rating_score']\n",
    "moderate_user_stats['n_ratings'] = df_moderate.groupby('user_id').count()['rating_score']"
   ]
  },
  {
   "cell_type": "code",
   "execution_count": 21,
   "metadata": {},
   "outputs": [
    {
     "data": {
      "text/html": [
       "<div>\n",
       "<style scoped>\n",
       "    .dataframe tbody tr th:only-of-type {\n",
       "        vertical-align: middle;\n",
       "    }\n",
       "\n",
       "    .dataframe tbody tr th {\n",
       "        vertical-align: top;\n",
       "    }\n",
       "\n",
       "    .dataframe thead th {\n",
       "        text-align: right;\n",
       "    }\n",
       "</style>\n",
       "<table border=\"1\" class=\"dataframe\">\n",
       "  <thead>\n",
       "    <tr style=\"text-align: right;\">\n",
       "      <th></th>\n",
       "      <th>mean_score</th>\n",
       "      <th>median_score</th>\n",
       "      <th>n_ratings</th>\n",
       "    </tr>\n",
       "    <tr>\n",
       "      <th>user_id</th>\n",
       "      <th></th>\n",
       "      <th></th>\n",
       "      <th></th>\n",
       "    </tr>\n",
       "  </thead>\n",
       "  <tbody>\n",
       "    <tr>\n",
       "      <th>7952</th>\n",
       "      <td>4.516129</td>\n",
       "      <td>5.0</td>\n",
       "      <td>31</td>\n",
       "    </tr>\n",
       "    <tr>\n",
       "      <th>12546</th>\n",
       "      <td>3.430108</td>\n",
       "      <td>3.0</td>\n",
       "      <td>186</td>\n",
       "    </tr>\n",
       "    <tr>\n",
       "      <th>13000</th>\n",
       "      <td>3.219178</td>\n",
       "      <td>3.0</td>\n",
       "      <td>219</td>\n",
       "    </tr>\n",
       "    <tr>\n",
       "      <th>14464</th>\n",
       "      <td>3.585000</td>\n",
       "      <td>4.0</td>\n",
       "      <td>600</td>\n",
       "    </tr>\n",
       "    <tr>\n",
       "      <th>14730</th>\n",
       "      <td>4.175000</td>\n",
       "      <td>4.0</td>\n",
       "      <td>40</td>\n",
       "    </tr>\n",
       "    <tr>\n",
       "      <th>...</th>\n",
       "      <td>...</td>\n",
       "      <td>...</td>\n",
       "      <td>...</td>\n",
       "    </tr>\n",
       "    <tr>\n",
       "      <th>99989323</th>\n",
       "      <td>3.782051</td>\n",
       "      <td>4.0</td>\n",
       "      <td>78</td>\n",
       "    </tr>\n",
       "    <tr>\n",
       "      <th>99991548</th>\n",
       "      <td>3.600000</td>\n",
       "      <td>4.0</td>\n",
       "      <td>25</td>\n",
       "    </tr>\n",
       "    <tr>\n",
       "      <th>99993564</th>\n",
       "      <td>4.233438</td>\n",
       "      <td>5.0</td>\n",
       "      <td>317</td>\n",
       "    </tr>\n",
       "    <tr>\n",
       "      <th>99996903</th>\n",
       "      <td>3.650794</td>\n",
       "      <td>4.0</td>\n",
       "      <td>63</td>\n",
       "    </tr>\n",
       "    <tr>\n",
       "      <th>99997323</th>\n",
       "      <td>3.970109</td>\n",
       "      <td>4.0</td>\n",
       "      <td>368</td>\n",
       "    </tr>\n",
       "  </tbody>\n",
       "</table>\n",
       "<p>64815 rows × 3 columns</p>\n",
       "</div>"
      ],
      "text/plain": [
       "          mean_score  median_score  n_ratings\n",
       "user_id                                      \n",
       "7952        4.516129           5.0         31\n",
       "12546       3.430108           3.0        186\n",
       "13000       3.219178           3.0        219\n",
       "14464       3.585000           4.0        600\n",
       "14730       4.175000           4.0         40\n",
       "...              ...           ...        ...\n",
       "99989323    3.782051           4.0         78\n",
       "99991548    3.600000           4.0         25\n",
       "99993564    4.233438           5.0        317\n",
       "99996903    3.650794           4.0         63\n",
       "99997323    3.970109           4.0        368\n",
       "\n",
       "[64815 rows x 3 columns]"
      ]
     },
     "execution_count": 21,
     "metadata": {},
     "output_type": "execute_result"
    }
   ],
   "source": [
    "moderate_user_stats"
   ]
  },
  {
   "cell_type": "code",
   "execution_count": 22,
   "metadata": {},
   "outputs": [],
   "source": [
    "pd.to_pickle(df_moderate, \"./Data/reviews_20_1000_longform.pkl\")\n",
    "pd.to_pickle(moderate_user_stats, \"./Data/users_20_1000_stats.pkl\")"
   ]
  },
  {
   "cell_type": "markdown",
   "metadata": {},
   "source": [
    "This dataset is still far too large to pivot. I will have to take a subsample of it. "
   ]
  },
  {
   "cell_type": "markdown",
   "metadata": {},
   "source": [
    "a total of 250k rows seems to be the upper limit for the machine I'm working on. Since I'm subsampling anyway, I'll do an even selection across ratings. "
   ]
  },
  {
   "cell_type": "code",
   "execution_count": 89,
   "metadata": {},
   "outputs": [],
   "source": [
    "keepers = []\n",
    "for rating in df_moderate.rating_score.unique():\n",
    "    temp_df = df_moderate[df_moderate.rating_score==rating]\n",
    "    keepers.append(random.choices(temp_df.index, k=50000))\n",
    "    \n",
    "keepers = list(flatten(keepers))"
   ]
  },
  {
   "cell_type": "code",
   "execution_count": 91,
   "metadata": {},
   "outputs": [],
   "source": [
    "smaller_selection = df_moderate.loc[keepers].reset_index(drop=True)"
   ]
  },
  {
   "cell_type": "code",
   "execution_count": 92,
   "metadata": {},
   "outputs": [
    {
     "name": "stdout",
     "output_type": "stream",
     "text": [
      "<class 'pandas.core.frame.DataFrame'>\n",
      "RangeIndex: 250000 entries, 0 to 249999\n",
      "Data columns (total 3 columns):\n",
      " #   Column        Non-Null Count   Dtype\n",
      "---  ------        --------------   -----\n",
      " 0   movie_id      250000 non-null  int32\n",
      " 1   rating_score  250000 non-null  int8 \n",
      " 2   user_id       250000 non-null  int32\n",
      "dtypes: int32(2), int8(1)\n",
      "memory usage: 2.1 MB\n"
     ]
    }
   ],
   "source": [
    "smaller_selection.info()"
   ]
  },
  {
   "cell_type": "code",
   "execution_count": 93,
   "metadata": {},
   "outputs": [],
   "source": [
    "selection_pivot = smaller_selection.pivot_table(index='movie_id', columns='user_id', values='rating_score')"
   ]
  },
  {
   "cell_type": "code",
   "execution_count": 94,
   "metadata": {},
   "outputs": [
    {
     "name": "stdout",
     "output_type": "stream",
     "text": [
      "<class 'pandas.core.frame.DataFrame'>\n",
      "Int64Index: 23279 entries, 1 to 263673\n",
      "Columns: 68261 entries, 176 to 99999515\n",
      "dtypes: float64(68261)\n",
      "memory usage: 11.8 GB\n"
     ]
    }
   ],
   "source": [
    "selection_pivot.info()"
   ]
  },
  {
   "cell_type": "code",
   "execution_count": 95,
   "metadata": {},
   "outputs": [],
   "source": [
    "pd.to_pickle(selection_pivot, \"./Data/even_selection_50k_pivot.pkl\")"
   ]
  },
  {
   "cell_type": "code",
   "execution_count": 96,
   "metadata": {},
   "outputs": [],
   "source": [
    "#oops, should have swapped the index and columns in the pivot creation\n",
    "selection_pivot = selection_pivot.T"
   ]
  },
  {
   "cell_type": "markdown",
   "metadata": {},
   "source": [
    "#### Center data around 0 and fill in missing values"
   ]
  },
  {
   "cell_type": "code",
   "execution_count": 100,
   "metadata": {},
   "outputs": [
    {
     "data": {
      "text/plain": [
       "user_id\n",
       "176         3.538462\n",
       "7952        4.516129\n",
       "11142       2.857143\n",
       "12546       3.430108\n",
       "13000       3.219178\n",
       "              ...   \n",
       "99991548    3.600000\n",
       "99993564    4.233438\n",
       "99996903    3.650794\n",
       "99997323    3.970109\n",
       "99999515    4.000000\n",
       "Name: mean_score, Length: 68261, dtype: float64"
      ]
     },
     "execution_count": 100,
     "metadata": {},
     "output_type": "execute_result"
    }
   ],
   "source": [
    "#take the overall mean scores of the users who are in this subselected table\n",
    "moderate_user_stats.loc[selection_pivot.index]['mean_score']"
   ]
  },
  {
   "cell_type": "code",
   "execution_count": 101,
   "metadata": {},
   "outputs": [],
   "source": [
    "#subtract these values from the pivot table to center everything around 0\n",
    "user_ratings_centered = selection_pivot.sub(moderate_user_stats.loc[selection_pivot.index]['mean_score'], \n",
    "                                            axis=0)"
   ]
  },
  {
   "cell_type": "code",
   "execution_count": 102,
   "metadata": {},
   "outputs": [],
   "source": [
    "#fill in the Nans with 0s, now that everything is centered. \n",
    "user_ratings_centered.fillna(0, inplace=True)"
   ]
  },
  {
   "cell_type": "code",
   "execution_count": 103,
   "metadata": {},
   "outputs": [
    {
     "data": {
      "text/html": [
       "<div>\n",
       "<style scoped>\n",
       "    .dataframe tbody tr th:only-of-type {\n",
       "        vertical-align: middle;\n",
       "    }\n",
       "\n",
       "    .dataframe tbody tr th {\n",
       "        vertical-align: top;\n",
       "    }\n",
       "\n",
       "    .dataframe thead th {\n",
       "        text-align: right;\n",
       "    }\n",
       "</style>\n",
       "<table border=\"1\" class=\"dataframe\">\n",
       "  <thead>\n",
       "    <tr style=\"text-align: right;\">\n",
       "      <th>movie_id</th>\n",
       "      <th>1</th>\n",
       "      <th>2</th>\n",
       "      <th>3</th>\n",
       "      <th>4</th>\n",
       "      <th>5</th>\n",
       "      <th>6</th>\n",
       "      <th>7</th>\n",
       "      <th>8</th>\n",
       "      <th>9</th>\n",
       "      <th>10</th>\n",
       "      <th>...</th>\n",
       "      <th>259238</th>\n",
       "      <th>259539</th>\n",
       "      <th>259542</th>\n",
       "      <th>259643</th>\n",
       "      <th>259786</th>\n",
       "      <th>260373</th>\n",
       "      <th>260892</th>\n",
       "      <th>261372</th>\n",
       "      <th>261524</th>\n",
       "      <th>263673</th>\n",
       "    </tr>\n",
       "    <tr>\n",
       "      <th>user_id</th>\n",
       "      <th></th>\n",
       "      <th></th>\n",
       "      <th></th>\n",
       "      <th></th>\n",
       "      <th></th>\n",
       "      <th></th>\n",
       "      <th></th>\n",
       "      <th></th>\n",
       "      <th></th>\n",
       "      <th></th>\n",
       "      <th></th>\n",
       "      <th></th>\n",
       "      <th></th>\n",
       "      <th></th>\n",
       "      <th></th>\n",
       "      <th></th>\n",
       "      <th></th>\n",
       "      <th></th>\n",
       "      <th></th>\n",
       "      <th></th>\n",
       "      <th></th>\n",
       "    </tr>\n",
       "  </thead>\n",
       "  <tbody>\n",
       "    <tr>\n",
       "      <th>176</th>\n",
       "      <td>0.0</td>\n",
       "      <td>0.0</td>\n",
       "      <td>0.0</td>\n",
       "      <td>0.0</td>\n",
       "      <td>0.0</td>\n",
       "      <td>0.0</td>\n",
       "      <td>0.0</td>\n",
       "      <td>0.0</td>\n",
       "      <td>0.0</td>\n",
       "      <td>0.0</td>\n",
       "      <td>...</td>\n",
       "      <td>0.0</td>\n",
       "      <td>0.0</td>\n",
       "      <td>0.0</td>\n",
       "      <td>0.0</td>\n",
       "      <td>0.0</td>\n",
       "      <td>0.0</td>\n",
       "      <td>0.0</td>\n",
       "      <td>0.0</td>\n",
       "      <td>0.0</td>\n",
       "      <td>0.0</td>\n",
       "    </tr>\n",
       "    <tr>\n",
       "      <th>7952</th>\n",
       "      <td>0.0</td>\n",
       "      <td>0.0</td>\n",
       "      <td>0.0</td>\n",
       "      <td>0.0</td>\n",
       "      <td>0.0</td>\n",
       "      <td>0.0</td>\n",
       "      <td>0.0</td>\n",
       "      <td>0.0</td>\n",
       "      <td>0.0</td>\n",
       "      <td>0.0</td>\n",
       "      <td>...</td>\n",
       "      <td>0.0</td>\n",
       "      <td>0.0</td>\n",
       "      <td>0.0</td>\n",
       "      <td>0.0</td>\n",
       "      <td>0.0</td>\n",
       "      <td>0.0</td>\n",
       "      <td>0.0</td>\n",
       "      <td>0.0</td>\n",
       "      <td>0.0</td>\n",
       "      <td>0.0</td>\n",
       "    </tr>\n",
       "    <tr>\n",
       "      <th>11142</th>\n",
       "      <td>0.0</td>\n",
       "      <td>0.0</td>\n",
       "      <td>0.0</td>\n",
       "      <td>0.0</td>\n",
       "      <td>0.0</td>\n",
       "      <td>0.0</td>\n",
       "      <td>0.0</td>\n",
       "      <td>0.0</td>\n",
       "      <td>0.0</td>\n",
       "      <td>0.0</td>\n",
       "      <td>...</td>\n",
       "      <td>0.0</td>\n",
       "      <td>0.0</td>\n",
       "      <td>0.0</td>\n",
       "      <td>0.0</td>\n",
       "      <td>0.0</td>\n",
       "      <td>0.0</td>\n",
       "      <td>0.0</td>\n",
       "      <td>0.0</td>\n",
       "      <td>0.0</td>\n",
       "      <td>0.0</td>\n",
       "    </tr>\n",
       "    <tr>\n",
       "      <th>12546</th>\n",
       "      <td>0.0</td>\n",
       "      <td>0.0</td>\n",
       "      <td>0.0</td>\n",
       "      <td>0.0</td>\n",
       "      <td>0.0</td>\n",
       "      <td>0.0</td>\n",
       "      <td>0.0</td>\n",
       "      <td>0.0</td>\n",
       "      <td>0.0</td>\n",
       "      <td>0.0</td>\n",
       "      <td>...</td>\n",
       "      <td>0.0</td>\n",
       "      <td>0.0</td>\n",
       "      <td>0.0</td>\n",
       "      <td>0.0</td>\n",
       "      <td>0.0</td>\n",
       "      <td>0.0</td>\n",
       "      <td>0.0</td>\n",
       "      <td>0.0</td>\n",
       "      <td>0.0</td>\n",
       "      <td>0.0</td>\n",
       "    </tr>\n",
       "    <tr>\n",
       "      <th>13000</th>\n",
       "      <td>0.0</td>\n",
       "      <td>0.0</td>\n",
       "      <td>0.0</td>\n",
       "      <td>0.0</td>\n",
       "      <td>0.0</td>\n",
       "      <td>0.0</td>\n",
       "      <td>0.0</td>\n",
       "      <td>0.0</td>\n",
       "      <td>0.0</td>\n",
       "      <td>0.0</td>\n",
       "      <td>...</td>\n",
       "      <td>0.0</td>\n",
       "      <td>0.0</td>\n",
       "      <td>0.0</td>\n",
       "      <td>0.0</td>\n",
       "      <td>0.0</td>\n",
       "      <td>0.0</td>\n",
       "      <td>0.0</td>\n",
       "      <td>0.0</td>\n",
       "      <td>0.0</td>\n",
       "      <td>0.0</td>\n",
       "    </tr>\n",
       "  </tbody>\n",
       "</table>\n",
       "<p>5 rows × 23279 columns</p>\n",
       "</div>"
      ],
      "text/plain": [
       "movie_id  1       2       3       4       5       6       7       8       \\\n",
       "user_id                                                                    \n",
       "176          0.0     0.0     0.0     0.0     0.0     0.0     0.0     0.0   \n",
       "7952         0.0     0.0     0.0     0.0     0.0     0.0     0.0     0.0   \n",
       "11142        0.0     0.0     0.0     0.0     0.0     0.0     0.0     0.0   \n",
       "12546        0.0     0.0     0.0     0.0     0.0     0.0     0.0     0.0   \n",
       "13000        0.0     0.0     0.0     0.0     0.0     0.0     0.0     0.0   \n",
       "\n",
       "movie_id  9       10      ...  259238  259539  259542  259643  259786  260373  \\\n",
       "user_id                   ...                                                   \n",
       "176          0.0     0.0  ...     0.0     0.0     0.0     0.0     0.0     0.0   \n",
       "7952         0.0     0.0  ...     0.0     0.0     0.0     0.0     0.0     0.0   \n",
       "11142        0.0     0.0  ...     0.0     0.0     0.0     0.0     0.0     0.0   \n",
       "12546        0.0     0.0  ...     0.0     0.0     0.0     0.0     0.0     0.0   \n",
       "13000        0.0     0.0  ...     0.0     0.0     0.0     0.0     0.0     0.0   \n",
       "\n",
       "movie_id  260892  261372  261524  263673  \n",
       "user_id                                   \n",
       "176          0.0     0.0     0.0     0.0  \n",
       "7952         0.0     0.0     0.0     0.0  \n",
       "11142        0.0     0.0     0.0     0.0  \n",
       "12546        0.0     0.0     0.0     0.0  \n",
       "13000        0.0     0.0     0.0     0.0  \n",
       "\n",
       "[5 rows x 23279 columns]"
      ]
     },
     "execution_count": 103,
     "metadata": {},
     "output_type": "execute_result"
    }
   ],
   "source": [
    "user_ratings_centered.head()"
   ]
  },
  {
   "cell_type": "code",
   "execution_count": 104,
   "metadata": {},
   "outputs": [],
   "source": [
    "pd.to_pickle(user_ratings_centered, \"./Data/user_ratings_centered.pkl\")"
   ]
  },
  {
   "cell_type": "markdown",
   "metadata": {},
   "source": [
    "#### Make an even smaller subselection to test and explore various models"
   ]
  },
  {
   "cell_type": "code",
   "execution_count": 106,
   "metadata": {},
   "outputs": [],
   "source": [
    "keepers = []\n",
    "for rating in df_moderate.rating_score.unique():\n",
    "    temp_df = df_moderate[df_moderate.rating_score==rating]\n",
    "    keepers.append(random.choices(temp_df.index, k=5000))\n",
    "    \n",
    "keepers = list(flatten(keepers))"
   ]
  },
  {
   "cell_type": "code",
   "execution_count": 107,
   "metadata": {},
   "outputs": [],
   "source": [
    "smaller_selection = df_moderate.loc[keepers].reset_index(drop=True)"
   ]
  },
  {
   "cell_type": "code",
   "execution_count": 108,
   "metadata": {},
   "outputs": [
    {
     "name": "stdout",
     "output_type": "stream",
     "text": [
      "<class 'pandas.core.frame.DataFrame'>\n",
      "RangeIndex: 25000 entries, 0 to 24999\n",
      "Data columns (total 3 columns):\n",
      " #   Column        Non-Null Count  Dtype\n",
      "---  ------        --------------  -----\n",
      " 0   movie_id      25000 non-null  int32\n",
      " 1   rating_score  25000 non-null  int8 \n",
      " 2   user_id       25000 non-null  int32\n",
      "dtypes: int32(2), int8(1)\n",
      "memory usage: 219.9 KB\n"
     ]
    }
   ],
   "source": [
    "smaller_selection.info()"
   ]
  },
  {
   "cell_type": "code",
   "execution_count": 109,
   "metadata": {},
   "outputs": [],
   "source": [
    "selection_pivot = smaller_selection.pivot_table(index='movie_id', columns='user_id', values='rating_score')"
   ]
  },
  {
   "cell_type": "code",
   "execution_count": 110,
   "metadata": {},
   "outputs": [
    {
     "name": "stdout",
     "output_type": "stream",
     "text": [
      "<class 'pandas.core.frame.DataFrame'>\n",
      "Int64Index: 7816 entries, 2 to 261824\n",
      "Columns: 17923 entries, 13000 to 99997323\n",
      "dtypes: float64(17923)\n",
      "memory usage: 1.0 GB\n"
     ]
    }
   ],
   "source": [
    "selection_pivot.info()"
   ]
  },
  {
   "cell_type": "code",
   "execution_count": 111,
   "metadata": {},
   "outputs": [],
   "source": [
    "pd.to_pickle(selection_pivot, \"./Data/even_selection_5k_pivot.pkl\")"
   ]
  },
  {
   "cell_type": "code",
   "execution_count": null,
   "metadata": {},
   "outputs": [],
   "source": []
  }
 ],
 "metadata": {
  "kernelspec": {
   "display_name": "cap3",
   "language": "python",
   "name": "cap3"
  },
  "language_info": {
   "codemirror_mode": {
    "name": "ipython",
    "version": 3
   },
   "file_extension": ".py",
   "mimetype": "text/x-python",
   "name": "python",
   "nbconvert_exporter": "python",
   "pygments_lexer": "ipython3",
   "version": "3.8.5"
  }
 },
 "nbformat": 4,
 "nbformat_minor": 4
}
