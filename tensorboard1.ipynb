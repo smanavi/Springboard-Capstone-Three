{
 "cells": [
  {
   "cell_type": "code",
   "execution_count": 25,
   "id": "cca2e8f1",
   "metadata": {},
   "outputs": [
    {
     "name": "stdout",
     "output_type": "stream",
     "text": [
      "The tensorboard extension is already loaded. To reload it, use:\n",
      "  %reload_ext tensorboard\n"
     ]
    }
   ],
   "source": [
    "%load_ext tensorboard"
   ]
  },
  {
   "cell_type": "code",
   "execution_count": 2,
   "id": "5c0472a1",
   "metadata": {},
   "outputs": [],
   "source": [
    "rm -rf ./logs/"
   ]
  },
  {
   "cell_type": "code",
   "execution_count": 3,
   "id": "d70bc66c",
   "metadata": {},
   "outputs": [],
   "source": [
    "import tensorflow as tf\n",
    "from tensorboard.plugins.hparams import api as hp\n",
    "from tensorflow import keras"
   ]
  },
  {
   "cell_type": "code",
   "execution_count": 4,
   "id": "4ceee60d",
   "metadata": {},
   "outputs": [],
   "source": [
    "import pandas as pd\n",
    "import numpy as np\n",
    "from sklearn.model_selection import train_test_split\n",
    "from sklearn.preprocessing import LabelEncoder"
   ]
  },
  {
   "cell_type": "code",
   "execution_count": 5,
   "id": "dda860a7",
   "metadata": {},
   "outputs": [],
   "source": [
    "ratings = pd.read_pickle(\"tiny_selection_longform.pkl\")"
   ]
  },
  {
   "cell_type": "code",
   "execution_count": 6,
   "id": "e5ab8577",
   "metadata": {},
   "outputs": [
    {
     "data": {
      "text/plain": [
       "2390"
      ]
     },
     "execution_count": 6,
     "metadata": {},
     "output_type": "execute_result"
    }
   ],
   "source": [
    "user_enc = LabelEncoder()\n",
    "ratings['user'] = user_enc.fit_transform(ratings['user_id'].values)\n",
    "n_users = ratings['user'].nunique()\n",
    "n_users"
   ]
  },
  {
   "cell_type": "code",
   "execution_count": 7,
   "id": "d197b18d",
   "metadata": {},
   "outputs": [
    {
     "data": {
      "text/plain": [
       "1648"
      ]
     },
     "execution_count": 7,
     "metadata": {},
     "output_type": "execute_result"
    }
   ],
   "source": [
    "item_enc = LabelEncoder()\n",
    "ratings['movie'] = item_enc.fit_transform(ratings['movie_id'].values)\n",
    "n_movies = ratings['movie'].nunique()\n",
    "n_movies"
   ]
  },
  {
   "cell_type": "code",
   "execution_count": 8,
   "id": "57cb4e5e",
   "metadata": {},
   "outputs": [],
   "source": [
    "X_train, X_test = train_test_split(ratings[['movie', 'user', 'rating_score']], test_size=0.2, random_state=42)"
   ]
  },
  {
   "cell_type": "code",
   "execution_count": 30,
   "id": "e8b39851",
   "metadata": {},
   "outputs": [],
   "source": [
    "hp.Metric??"
   ]
  },
  {
   "cell_type": "code",
   "execution_count": 29,
   "id": "90ef4045",
   "metadata": {},
   "outputs": [],
   "source": [
    "hp.hparams_config??"
   ]
  },
  {
   "cell_type": "code",
   "execution_count": 14,
   "id": "025edeab",
   "metadata": {},
   "outputs": [],
   "source": [
    "HP_NUM_UNITS = hp.HParam('num_units', hp.Discrete([16,32]))\n",
    "HP_DROPOUT = hp.HParam('droupout', hp.RealInterval(.4, .6))\n",
    "HP_LEARNING_RATE = hp.HParam('learning_rate', hp.Discrete([.001, .01]))\n",
    "HP_ACTIVATION = hp.HParam('activation', hp.Discrete(['relu', 'sigmoid']))\n",
    "\n",
    "METRIC = 'mean_squared_error'\n",
    "\n",
    "with tf.summary.create_file_writer('logs/hparam_tuning').as_default():\n",
    "    hp.hparams_config(\n",
    "        hparams=[HP_NUM_UNITS, HP_DROPOUT, HP_LEARNING_RATE, HP_ACTIVATION],\n",
    "        metrics=[hp.Metric(METRIC, display_name = 'mse')],\n",
    "    )"
   ]
  },
  {
   "cell_type": "code",
   "execution_count": 22,
   "id": "57e62366",
   "metadata": {},
   "outputs": [],
   "source": [
    "def train_test_model(hparams, nmovie_id, nuser_id):\n",
    "    \n",
    "    input_movies = keras.layers.Input(shape=[1])\n",
    "    embed_movies = keras.layers.Embedding(nmovie_id+1, 15)(input_movies)\n",
    "    movies_out = keras.layers.Flatten()(embed_movies)\n",
    "\n",
    "    input_users = keras.layers.Input(shape=[1])\n",
    "    embed_users = keras.layers.Embedding(nuser_id+1, 15)(input_users)\n",
    "    users_out = keras.layers.Flatten()(embed_users)\n",
    "\n",
    "    conc_layer = keras.layers.Concatenate()([movies_out, users_out])\n",
    "    x = keras.layers.Dense(hparams[HP_NUM_UNITS], activation=hparams[HP_ACTIVATION])(conc_layer)\n",
    "    dropout = x = keras.layers.Dropout(rate=hparams[HP_DROPOUT], seed=42)(x)\n",
    "    x_out = x = keras.layers.Dense(1, activation=hparams[HP_ACTIVATION])(x)\n",
    "\n",
    "    model = keras.Model([input_movies, input_users], x_out)\n",
    "    \n",
    "    opt = tf.optimizers.Adam(learning_rate=hparams[HP_LEARNING_RATE])\n",
    "    model.compile(optimizer=opt, loss='mean_squared_error', metrics = 'mean_squared_error')\n",
    "    \n",
    "    hist = model.fit([X_train.movie, X_train.user], \n",
    "                 X_train.rating_score,  \n",
    "                 batch_size=16, epochs=10, validation_split=.2)\n",
    "\n",
    "#     print(hist.history['val_mean_squared_error'])\n",
    "    return hist.history['val_mean_squared_error'][-1]"
   ]
  },
  {
   "cell_type": "code",
   "execution_count": 18,
   "id": "67471578",
   "metadata": {},
   "outputs": [],
   "source": [
    "def run(run_dir, hparams, nmovie_id, nuser_id):\n",
    "    with tf.summary.create_file_writer(run_dir).as_default():\n",
    "        hp.hparams(hparams)\n",
    "        mse = train_test_model(hparams, nmovie_id, nuser_id)\n",
    "        tf.summary.scalar(METRIC, mse, step=1)"
   ]
  },
  {
   "cell_type": "code",
   "execution_count": 12,
   "id": "82076459",
   "metadata": {},
   "outputs": [],
   "source": [
    "nmovie_id = ratings.movie_id.nunique()\n",
    "nuser_id = ratings.user_id.nunique()"
   ]
  },
  {
   "cell_type": "markdown",
   "id": "538d4865",
   "metadata": {},
   "source": [
    "session_num = 0\n",
    "\n",
    "for num_units in HP_NUM_UNITS.domain.values:\n",
    "    for dropout_rate in (HP_DROPOUT.domain.min_value, HP_DROPOUT.domain.max_value):\n",
    "        for learning_rate in HP_LEARNING_RATE.domain.values:\n",
    "            for activation in HP_ACTIVATION.domain.values:\n",
    "                hparams = {\n",
    "                    HP_NUM_UNITS: num_units,\n",
    "                    HP_DROPOUT: dropout_rate,\n",
    "                    HP_LEARNING_RATE: learning_rate,\n",
    "                    HP_ACTIVATION: activation,\n",
    "                }\n",
    "                \n",
    "                run_name = \"run-{}\".format(session_num)\n",
    "                print(\"----Starting trial: {}\".format(run_name))\n",
    "                print({h.name: hparams[h] for h in hparams})\n",
    "                run('logs/hparam_tuning/' + run_name, hparams, nmovie_id, nuser_id)\n",
    "                session_num += 1"
   ]
  },
  {
   "cell_type": "code",
   "execution_count": 27,
   "id": "742d321f",
   "metadata": {},
   "outputs": [
    {
     "data": {
      "text/plain": [
       "ERROR: Could not find `tensorboard`. Please ensure that your PATH\n",
       "contains an executable `tensorboard` program, or explicitly specify\n",
       "the path to a TensorBoard binary by setting the `TENSORBOARD_BINARY`\n",
       "environment variable."
      ]
     },
     "metadata": {},
     "output_type": "display_data"
    }
   ],
   "source": [
    "%tensorboard --logdir logs/hparam_tuning"
   ]
  },
  {
   "cell_type": "code",
   "execution_count": 28,
   "id": "b4a77ff2",
   "metadata": {},
   "outputs": [],
   "source": [
    "import tensorboard"
   ]
  },
  {
   "cell_type": "code",
   "execution_count": 29,
   "id": "92c77b5e",
   "metadata": {},
   "outputs": [
    {
     "data": {
      "text/plain": [
       "'/home/sahar/anaconda3/envs/tf_env/lib/python3.8/site-packages/tensorboard/__init__.py'"
      ]
     },
     "execution_count": 29,
     "metadata": {},
     "output_type": "execute_result"
    }
   ],
   "source": [
    "tensorboard.__file__"
   ]
  },
  {
   "cell_type": "code",
   "execution_count": 30,
   "id": "45546e74",
   "metadata": {},
   "outputs": [],
   "source": [
    "import sys"
   ]
  },
  {
   "cell_type": "code",
   "execution_count": 31,
   "id": "a33aeb77",
   "metadata": {},
   "outputs": [
    {
     "data": {
      "text/plain": [
       "['/home/sahar/Documents/Springboard-Capstone-Three',\n",
       " '/home/sahar/anaconda3/envs/tf_env/lib/python38.zip',\n",
       " '/home/sahar/anaconda3/envs/tf_env/lib/python3.8',\n",
       " '/home/sahar/anaconda3/envs/tf_env/lib/python3.8/lib-dynload',\n",
       " '',\n",
       " '/home/sahar/anaconda3/envs/tf_env/lib/python3.8/site-packages',\n",
       " '/home/sahar/anaconda3/envs/tf_env/lib/python3.8/site-packages/IPython/extensions',\n",
       " '/home/sahar/.ipython']"
      ]
     },
     "execution_count": 31,
     "metadata": {},
     "output_type": "execute_result"
    }
   ],
   "source": [
    "sys.path"
   ]
  },
  {
   "cell_type": "code",
   "execution_count": 32,
   "id": "c762d774",
   "metadata": {},
   "outputs": [],
   "source": [
    "from tensorboard import notebook"
   ]
  },
  {
   "cell_type": "code",
   "execution_count": 33,
   "id": "19efafe3",
   "metadata": {},
   "outputs": [
    {
     "name": "stdout",
     "output_type": "stream",
     "text": [
      "No known TensorBoard instances running.\n"
     ]
    }
   ],
   "source": [
    "notebook.list()"
   ]
  },
  {
   "cell_type": "code",
   "execution_count": null,
   "id": "17d86724",
   "metadata": {},
   "outputs": [],
   "source": []
  }
 ],
 "metadata": {
  "kernelspec": {
   "display_name": "tf_env",
   "language": "python",
   "name": "tf_env"
  },
  "language_info": {
   "codemirror_mode": {
    "name": "ipython",
    "version": 3
   },
   "file_extension": ".py",
   "mimetype": "text/x-python",
   "name": "python",
   "nbconvert_exporter": "python",
   "pygments_lexer": "ipython3",
   "version": "3.8.5"
  }
 },
 "nbformat": 4,
 "nbformat_minor": 5
}
