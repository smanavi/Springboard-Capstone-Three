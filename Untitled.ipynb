{
 "cells": [
  {
   "cell_type": "code",
   "execution_count": 14,
   "id": "aba20fd5",
   "metadata": {},
   "outputs": [],
   "source": [
    "import pandas as pd\n",
    "import random"
   ]
  },
  {
   "cell_type": "code",
   "execution_count": 13,
   "id": "155c9d26",
   "metadata": {},
   "outputs": [],
   "source": [
    "import numpy as np\n",
    "import matplotlib.pyplot as plt\n",
    "import seaborn as sns"
   ]
  },
  {
   "cell_type": "code",
   "execution_count": 7,
   "id": "463a3651",
   "metadata": {},
   "outputs": [],
   "source": [
    "from itertools import chain\n",
    "def flatten(list_of_lists):\n",
    "    \"Flatten one level of nesting\"\n",
    "    return chain.from_iterable(list_of_lists)"
   ]
  },
  {
   "cell_type": "code",
   "execution_count": 3,
   "id": "7d578c4c",
   "metadata": {},
   "outputs": [],
   "source": [
    "ratings = pd.read_pickle(\"./Data/moderate_users_longform.pkl\")"
   ]
  },
  {
   "cell_type": "code",
   "execution_count": 15,
   "id": "9dadd983",
   "metadata": {},
   "outputs": [
    {
     "data": {
      "text/html": [
       "<div>\n",
       "<style scoped>\n",
       "    .dataframe tbody tr th:only-of-type {\n",
       "        vertical-align: middle;\n",
       "    }\n",
       "\n",
       "    .dataframe tbody tr th {\n",
       "        vertical-align: top;\n",
       "    }\n",
       "\n",
       "    .dataframe thead th {\n",
       "        text-align: right;\n",
       "    }\n",
       "</style>\n",
       "<table border=\"1\" class=\"dataframe\">\n",
       "  <thead>\n",
       "    <tr style=\"text-align: right;\">\n",
       "      <th></th>\n",
       "      <th>movie_id</th>\n",
       "      <th>rating_score</th>\n",
       "      <th>user_id</th>\n",
       "    </tr>\n",
       "  </thead>\n",
       "  <tbody>\n",
       "    <tr>\n",
       "      <th>5</th>\n",
       "      <td>1066</td>\n",
       "      <td>4</td>\n",
       "      <td>97262846</td>\n",
       "    </tr>\n",
       "    <tr>\n",
       "      <th>8</th>\n",
       "      <td>1066</td>\n",
       "      <td>4</td>\n",
       "      <td>58420503</td>\n",
       "    </tr>\n",
       "    <tr>\n",
       "      <th>11</th>\n",
       "      <td>1066</td>\n",
       "      <td>2</td>\n",
       "      <td>15492642</td>\n",
       "    </tr>\n",
       "    <tr>\n",
       "      <th>12</th>\n",
       "      <td>1066</td>\n",
       "      <td>4</td>\n",
       "      <td>29755671</td>\n",
       "    </tr>\n",
       "    <tr>\n",
       "      <th>15</th>\n",
       "      <td>1066</td>\n",
       "      <td>3</td>\n",
       "      <td>93302487</td>\n",
       "    </tr>\n",
       "  </tbody>\n",
       "</table>\n",
       "</div>"
      ],
      "text/plain": [
       "    movie_id  rating_score   user_id\n",
       "5       1066             4  97262846\n",
       "8       1066             4  58420503\n",
       "11      1066             2  15492642\n",
       "12      1066             4  29755671\n",
       "15      1066             3  93302487"
      ]
     },
     "execution_count": 15,
     "metadata": {},
     "output_type": "execute_result"
    }
   ],
   "source": [
    "ratings.head()"
   ]
  },
  {
   "cell_type": "code",
   "execution_count": 17,
   "id": "8fb887b1",
   "metadata": {},
   "outputs": [
    {
     "data": {
      "text/plain": [
       "array([4, 2, 3, 5, 1], dtype=int8)"
      ]
     },
     "execution_count": 17,
     "metadata": {},
     "output_type": "execute_result"
    }
   ],
   "source": [
    "ratings.rating_score.unique()"
   ]
  },
  {
   "cell_type": "code",
   "execution_count": 18,
   "id": "d1ea9d06",
   "metadata": {},
   "outputs": [
    {
     "data": {
      "image/png": "[encoded data removed]",
      "text/plain": [
       "<Figure size 432x288 with 1 Axes>"
      ]
     },
     "metadata": {
      "needs_background": "light"
     },
     "output_type": "display_data"
    }
   ],
   "source": [
    "sns.histplot(data=ratings, x='rating_score', bins=5)\n",
    "\n",
    "plt.show()"
   ]
  },
  {
   "cell_type": "code",
   "execution_count": 68,
   "id": "d74b47af",
   "metadata": {},
   "outputs": [
    {
     "data": {
      "text/plain": [
       "(6864260, 3)"
      ]
     },
     "execution_count": 68,
     "metadata": {},
     "output_type": "execute_result"
    }
   ],
   "source": [
    "ratings.shape"
   ]
  },
  {
   "cell_type": "code",
   "execution_count": 76,
   "id": "b16e7023",
   "metadata": {},
   "outputs": [],
   "source": [
    "inds_to_keep = random.choices(ratings.index, k=int(len(ratings)*.3))"
   ]
  },
  {
   "cell_type": "code",
   "execution_count": 78,
   "id": "6e0c75de",
   "metadata": {},
   "outputs": [
    {
     "data": {
      "text/plain": [
       "user_id\n",
       "12546        50\n",
       "13000        60\n",
       "15264        20\n",
       "21050       132\n",
       "21875        99\n",
       "           ... \n",
       "99983123     35\n",
       "99986847     28\n",
       "99989323     24\n",
       "99993564     89\n",
       "99997323    117\n",
       "Name: movie_id, Length: 27973, dtype: int64"
      ]
     },
     "execution_count": 78,
     "metadata": {},
     "output_type": "execute_result"
    }
   ],
   "source": [
    "user_count = ratings.loc[inds_to_keep].groupby('user_id').count()['movie_id']\n",
    "user_count[user_count >= 20]"
   ]
  },
  {
   "cell_type": "code",
   "execution_count": 79,
   "id": "81fd2ac6",
   "metadata": {},
   "outputs": [
    {
     "data": {
      "image/png": "[encoded data removed]",
      "text/plain": [
       "<Figure size 432x288 with 1 Axes>"
      ]
     },
     "metadata": {
      "needs_background": "light"
     },
     "output_type": "display_data"
    }
   ],
   "source": [
    "sns.histplot(data=ratings.loc[inds_to_keep], x='rating_score', bins=5)\n",
    "\n",
    "plt.show()"
   ]
  },
  {
   "cell_type": "code",
   "execution_count": 80,
   "id": "26431f65",
   "metadata": {},
   "outputs": [],
   "source": [
    "small_random_selection = ratings.loc[inds_to_keep].reset_index(drop=True)"
   ]
  },
  {
   "cell_type": "code",
   "execution_count": 81,
   "id": "7968e58c",
   "metadata": {},
   "outputs": [
    {
     "data": {
      "image/png": "[encoded data removed]",
      "text/plain": [
       "<Figure size 432x288 with 1 Axes>"
      ]
     },
     "metadata": {
      "needs_background": "light"
     },
     "output_type": "display_data"
    }
   ],
   "source": [
    "sns.histplot(data=small_random_selection[small_random_selection.user_id.isin(user_count[user_count >= 20].index)], \n",
    "             x='rating_score', bins=5)\n",
    "\n",
    "plt.show()"
   ]
  },
  {
   "cell_type": "code",
   "execution_count": 82,
   "id": "453350e8",
   "metadata": {},
   "outputs": [
    {
     "data": {
      "image/png": "[encoded data removed]",
      "text/plain": [
       "<Figure size 432x288 with 1 Axes>"
      ]
     },
     "metadata": {
      "needs_background": "light"
     },
     "output_type": "display_data"
    }
   ],
   "source": [
    "sns.histplot(user_count[user_count >= 20])\n",
    "plt.show()"
   ]
  },
  {
   "cell_type": "code",
   "execution_count": 83,
   "id": "8e75d277",
   "metadata": {},
   "outputs": [],
   "source": [
    "small_random_selection = small_random_selection[small_random_selection.user_id.isin(user_count[user_count >= 5].index)]"
   ]
  },
  {
   "cell_type": "code",
   "execution_count": 84,
   "id": "8eddf819",
   "metadata": {},
   "outputs": [
    {
     "data": {
      "text/plain": [
       "(1916189, 3)"
      ]
     },
     "execution_count": 84,
     "metadata": {},
     "output_type": "execute_result"
    }
   ],
   "source": [
    "small_random_selection.shape"
   ]
  },
  {
   "cell_type": "code",
   "execution_count": 85,
   "id": "43b864a9",
   "metadata": {},
   "outputs": [],
   "source": [
    "pd.to_pickle(small_random_selection, \"./Data/random_selection_longform_20plus_ratings.pkl\")"
   ]
  },
  {
   "cell_type": "code",
   "execution_count": 8,
   "id": "e5afc6ed",
   "metadata": {},
   "outputs": [],
   "source": [
    "keepers = []\n",
    "for rating in ratings.rating_score.unique():\n",
    "    temp_df = ratings[ratings.rating_score==rating]\n",
    "    keepers.append(random.choices(temp_df.index, k=500))\n",
    "    \n",
    "keepers = list(flatten(keepers))"
   ]
  },
  {
   "cell_type": "code",
   "execution_count": 10,
   "id": "3e64a1ae",
   "metadata": {},
   "outputs": [],
   "source": [
    "smaller_selection = ratings.loc[keepers].reset_index(drop=True)"
   ]
  },
  {
   "cell_type": "code",
   "execution_count": 11,
   "id": "7556fb4c",
   "metadata": {},
   "outputs": [
    {
     "name": "stdout",
     "output_type": "stream",
     "text": [
      "<class 'pandas.core.frame.DataFrame'>\n",
      "RangeIndex: 2500 entries, 0 to 2499\n",
      "Data columns (total 3 columns):\n",
      " #   Column        Non-Null Count  Dtype\n",
      "---  ------        --------------  -----\n",
      " 0   movie_id      2500 non-null   int32\n",
      " 1   rating_score  2500 non-null   int8 \n",
      " 2   user_id       2500 non-null   int32\n",
      "dtypes: int32(2), int8(1)\n",
      "memory usage: 22.1 KB\n"
     ]
    }
   ],
   "source": [
    "smaller_selection.info()"
   ]
  },
  {
   "cell_type": "code",
   "execution_count": 12,
   "id": "aad2ce32",
   "metadata": {},
   "outputs": [],
   "source": [
    "pd.to_pickle(smaller_selection, \"./Data/tiny_selection_longform.pkl\")"
   ]
  },
  {
   "cell_type": "code",
   "execution_count": 48,
   "id": "6222db94",
   "metadata": {},
   "outputs": [],
   "source": [
    "top_50_users = ratings.groupby('user_id').count()['movie_id'].sort_values(ascending=False)[:100].index"
   ]
  },
  {
   "cell_type": "code",
   "execution_count": 49,
   "id": "bbcbf7b9",
   "metadata": {},
   "outputs": [],
   "source": [
    "top50_pivot = ratings[ratings.user_id.isin(top_50_users)].pivot_table(columns='movie_id', index='user_id', values='rating_score')"
   ]
  },
  {
   "cell_type": "code",
   "execution_count": 53,
   "id": "2ad0a6fc",
   "metadata": {},
   "outputs": [
    {
     "data": {
      "text/html": [
       "<div>\n",
       "<style scoped>\n",
       "    .dataframe tbody tr th:only-of-type {\n",
       "        vertical-align: middle;\n",
       "    }\n",
       "\n",
       "    .dataframe tbody tr th {\n",
       "        vertical-align: top;\n",
       "    }\n",
       "\n",
       "    .dataframe thead th {\n",
       "        text-align: right;\n",
       "    }\n",
       "</style>\n",
       "<table border=\"1\" class=\"dataframe\">\n",
       "  <thead>\n",
       "    <tr style=\"text-align: right;\">\n",
       "      <th></th>\n",
       "      <th>movie_id</th>\n",
       "      <th>rating_score</th>\n",
       "      <th>user_id</th>\n",
       "    </tr>\n",
       "  </thead>\n",
       "  <tbody>\n",
       "    <tr>\n",
       "      <th>473</th>\n",
       "      <td>1069</td>\n",
       "      <td>3</td>\n",
       "      <td>23762937</td>\n",
       "    </tr>\n",
       "    <tr>\n",
       "      <th>514</th>\n",
       "      <td>1069</td>\n",
       "      <td>4</td>\n",
       "      <td>16356754</td>\n",
       "    </tr>\n",
       "    <tr>\n",
       "      <th>556</th>\n",
       "      <td>1069</td>\n",
       "      <td>3</td>\n",
       "      <td>14473982</td>\n",
       "    </tr>\n",
       "    <tr>\n",
       "      <th>570</th>\n",
       "      <td>1069</td>\n",
       "      <td>4</td>\n",
       "      <td>25960703</td>\n",
       "    </tr>\n",
       "    <tr>\n",
       "      <th>641</th>\n",
       "      <td>1069</td>\n",
       "      <td>4</td>\n",
       "      <td>29084857</td>\n",
       "    </tr>\n",
       "    <tr>\n",
       "      <th>...</th>\n",
       "      <td>...</td>\n",
       "      <td>...</td>\n",
       "      <td>...</td>\n",
       "    </tr>\n",
       "    <tr>\n",
       "      <th>15517262</th>\n",
       "      <td>1061</td>\n",
       "      <td>4</td>\n",
       "      <td>97850921</td>\n",
       "    </tr>\n",
       "    <tr>\n",
       "      <th>15517779</th>\n",
       "      <td>1061</td>\n",
       "      <td>4</td>\n",
       "      <td>14648854</td>\n",
       "    </tr>\n",
       "    <tr>\n",
       "      <th>15518307</th>\n",
       "      <td>1062</td>\n",
       "      <td>4</td>\n",
       "      <td>95112384</td>\n",
       "    </tr>\n",
       "    <tr>\n",
       "      <th>15519733</th>\n",
       "      <td>1065</td>\n",
       "      <td>3</td>\n",
       "      <td>56812236</td>\n",
       "    </tr>\n",
       "    <tr>\n",
       "      <th>15519751</th>\n",
       "      <td>1065</td>\n",
       "      <td>4</td>\n",
       "      <td>97804147</td>\n",
       "    </tr>\n",
       "  </tbody>\n",
       "</table>\n",
       "<p>48734 rows × 3 columns</p>\n",
       "</div>"
      ],
      "text/plain": [
       "          movie_id  rating_score   user_id\n",
       "473           1069             3  23762937\n",
       "514           1069             4  16356754\n",
       "556           1069             3  14473982\n",
       "570           1069             4  25960703\n",
       "641           1069             4  29084857\n",
       "...            ...           ...       ...\n",
       "15517262      1061             4  97850921\n",
       "15517779      1061             4  14648854\n",
       "15518307      1062             4  95112384\n",
       "15519733      1065             3  56812236\n",
       "15519751      1065             4  97804147\n",
       "\n",
       "[48734 rows x 3 columns]"
      ]
     },
     "execution_count": 53,
     "metadata": {},
     "output_type": "execute_result"
    }
   ],
   "source": [
    "ratings[ratings.user_id.isin(top_50_users)]"
   ]
  },
  {
   "cell_type": "code",
   "execution_count": 50,
   "id": "241f65a2",
   "metadata": {},
   "outputs": [
    {
     "data": {
      "text/html": [
       "<div>\n",
       "<style scoped>\n",
       "    .dataframe tbody tr th:only-of-type {\n",
       "        vertical-align: middle;\n",
       "    }\n",
       "\n",
       "    .dataframe tbody tr th {\n",
       "        vertical-align: top;\n",
       "    }\n",
       "\n",
       "    .dataframe thead th {\n",
       "        text-align: right;\n",
       "    }\n",
       "</style>\n",
       "<table border=\"1\" class=\"dataframe\">\n",
       "  <thead>\n",
       "    <tr style=\"text-align: right;\">\n",
       "      <th>movie_id</th>\n",
       "      <th>10</th>\n",
       "      <th>12</th>\n",
       "      <th>13</th>\n",
       "      <th>14</th>\n",
       "      <th>15</th>\n",
       "      <th>18</th>\n",
       "      <th>21</th>\n",
       "      <th>24</th>\n",
       "      <th>25</th>\n",
       "      <th>26</th>\n",
       "      <th>...</th>\n",
       "      <th>251150</th>\n",
       "      <th>251802</th>\n",
       "      <th>252054</th>\n",
       "      <th>252460</th>\n",
       "      <th>254118</th>\n",
       "      <th>255150</th>\n",
       "      <th>255533</th>\n",
       "      <th>255726</th>\n",
       "      <th>256042</th>\n",
       "      <th>260892</th>\n",
       "    </tr>\n",
       "    <tr>\n",
       "      <th>user_id</th>\n",
       "      <th></th>\n",
       "      <th></th>\n",
       "      <th></th>\n",
       "      <th></th>\n",
       "      <th></th>\n",
       "      <th></th>\n",
       "      <th></th>\n",
       "      <th></th>\n",
       "      <th></th>\n",
       "      <th></th>\n",
       "      <th></th>\n",
       "      <th></th>\n",
       "      <th></th>\n",
       "      <th></th>\n",
       "      <th></th>\n",
       "      <th></th>\n",
       "      <th></th>\n",
       "      <th></th>\n",
       "      <th></th>\n",
       "      <th></th>\n",
       "      <th></th>\n",
       "    </tr>\n",
       "  </thead>\n",
       "  <tbody>\n",
       "    <tr>\n",
       "      <th>1476795</th>\n",
       "      <td>NaN</td>\n",
       "      <td>NaN</td>\n",
       "      <td>NaN</td>\n",
       "      <td>NaN</td>\n",
       "      <td>NaN</td>\n",
       "      <td>NaN</td>\n",
       "      <td>NaN</td>\n",
       "      <td>NaN</td>\n",
       "      <td>NaN</td>\n",
       "      <td>NaN</td>\n",
       "      <td>...</td>\n",
       "      <td>NaN</td>\n",
       "      <td>NaN</td>\n",
       "      <td>NaN</td>\n",
       "      <td>NaN</td>\n",
       "      <td>NaN</td>\n",
       "      <td>NaN</td>\n",
       "      <td>NaN</td>\n",
       "      <td>NaN</td>\n",
       "      <td>NaN</td>\n",
       "      <td>NaN</td>\n",
       "    </tr>\n",
       "    <tr>\n",
       "      <th>4736049</th>\n",
       "      <td>NaN</td>\n",
       "      <td>5.0</td>\n",
       "      <td>NaN</td>\n",
       "      <td>NaN</td>\n",
       "      <td>NaN</td>\n",
       "      <td>NaN</td>\n",
       "      <td>NaN</td>\n",
       "      <td>NaN</td>\n",
       "      <td>NaN</td>\n",
       "      <td>NaN</td>\n",
       "      <td>...</td>\n",
       "      <td>NaN</td>\n",
       "      <td>NaN</td>\n",
       "      <td>NaN</td>\n",
       "      <td>NaN</td>\n",
       "      <td>NaN</td>\n",
       "      <td>NaN</td>\n",
       "      <td>NaN</td>\n",
       "      <td>NaN</td>\n",
       "      <td>NaN</td>\n",
       "      <td>NaN</td>\n",
       "    </tr>\n",
       "    <tr>\n",
       "      <th>4936026</th>\n",
       "      <td>NaN</td>\n",
       "      <td>5.0</td>\n",
       "      <td>NaN</td>\n",
       "      <td>NaN</td>\n",
       "      <td>NaN</td>\n",
       "      <td>NaN</td>\n",
       "      <td>NaN</td>\n",
       "      <td>NaN</td>\n",
       "      <td>NaN</td>\n",
       "      <td>NaN</td>\n",
       "      <td>...</td>\n",
       "      <td>NaN</td>\n",
       "      <td>NaN</td>\n",
       "      <td>NaN</td>\n",
       "      <td>NaN</td>\n",
       "      <td>NaN</td>\n",
       "      <td>NaN</td>\n",
       "      <td>NaN</td>\n",
       "      <td>NaN</td>\n",
       "      <td>NaN</td>\n",
       "      <td>NaN</td>\n",
       "    </tr>\n",
       "    <tr>\n",
       "      <th>5355586</th>\n",
       "      <td>NaN</td>\n",
       "      <td>NaN</td>\n",
       "      <td>NaN</td>\n",
       "      <td>NaN</td>\n",
       "      <td>NaN</td>\n",
       "      <td>NaN</td>\n",
       "      <td>NaN</td>\n",
       "      <td>NaN</td>\n",
       "      <td>NaN</td>\n",
       "      <td>NaN</td>\n",
       "      <td>...</td>\n",
       "      <td>NaN</td>\n",
       "      <td>NaN</td>\n",
       "      <td>NaN</td>\n",
       "      <td>NaN</td>\n",
       "      <td>NaN</td>\n",
       "      <td>NaN</td>\n",
       "      <td>NaN</td>\n",
       "      <td>NaN</td>\n",
       "      <td>NaN</td>\n",
       "      <td>NaN</td>\n",
       "    </tr>\n",
       "    <tr>\n",
       "      <th>6588695</th>\n",
       "      <td>NaN</td>\n",
       "      <td>NaN</td>\n",
       "      <td>NaN</td>\n",
       "      <td>NaN</td>\n",
       "      <td>NaN</td>\n",
       "      <td>NaN</td>\n",
       "      <td>NaN</td>\n",
       "      <td>NaN</td>\n",
       "      <td>NaN</td>\n",
       "      <td>NaN</td>\n",
       "      <td>...</td>\n",
       "      <td>NaN</td>\n",
       "      <td>NaN</td>\n",
       "      <td>NaN</td>\n",
       "      <td>NaN</td>\n",
       "      <td>NaN</td>\n",
       "      <td>NaN</td>\n",
       "      <td>NaN</td>\n",
       "      <td>NaN</td>\n",
       "      <td>4.0</td>\n",
       "      <td>NaN</td>\n",
       "    </tr>\n",
       "    <tr>\n",
       "      <th>...</th>\n",
       "      <td>...</td>\n",
       "      <td>...</td>\n",
       "      <td>...</td>\n",
       "      <td>...</td>\n",
       "      <td>...</td>\n",
       "      <td>...</td>\n",
       "      <td>...</td>\n",
       "      <td>...</td>\n",
       "      <td>...</td>\n",
       "      <td>...</td>\n",
       "      <td>...</td>\n",
       "      <td>...</td>\n",
       "      <td>...</td>\n",
       "      <td>...</td>\n",
       "      <td>...</td>\n",
       "      <td>...</td>\n",
       "      <td>...</td>\n",
       "      <td>...</td>\n",
       "      <td>...</td>\n",
       "      <td>...</td>\n",
       "      <td>...</td>\n",
       "    </tr>\n",
       "    <tr>\n",
       "      <th>95112384</th>\n",
       "      <td>NaN</td>\n",
       "      <td>NaN</td>\n",
       "      <td>NaN</td>\n",
       "      <td>NaN</td>\n",
       "      <td>NaN</td>\n",
       "      <td>NaN</td>\n",
       "      <td>NaN</td>\n",
       "      <td>NaN</td>\n",
       "      <td>NaN</td>\n",
       "      <td>NaN</td>\n",
       "      <td>...</td>\n",
       "      <td>NaN</td>\n",
       "      <td>NaN</td>\n",
       "      <td>NaN</td>\n",
       "      <td>NaN</td>\n",
       "      <td>NaN</td>\n",
       "      <td>NaN</td>\n",
       "      <td>NaN</td>\n",
       "      <td>NaN</td>\n",
       "      <td>NaN</td>\n",
       "      <td>NaN</td>\n",
       "    </tr>\n",
       "    <tr>\n",
       "      <th>96513776</th>\n",
       "      <td>NaN</td>\n",
       "      <td>NaN</td>\n",
       "      <td>NaN</td>\n",
       "      <td>NaN</td>\n",
       "      <td>NaN</td>\n",
       "      <td>NaN</td>\n",
       "      <td>NaN</td>\n",
       "      <td>NaN</td>\n",
       "      <td>NaN</td>\n",
       "      <td>NaN</td>\n",
       "      <td>...</td>\n",
       "      <td>NaN</td>\n",
       "      <td>NaN</td>\n",
       "      <td>NaN</td>\n",
       "      <td>NaN</td>\n",
       "      <td>NaN</td>\n",
       "      <td>NaN</td>\n",
       "      <td>NaN</td>\n",
       "      <td>NaN</td>\n",
       "      <td>NaN</td>\n",
       "      <td>NaN</td>\n",
       "    </tr>\n",
       "    <tr>\n",
       "      <th>97173765</th>\n",
       "      <td>NaN</td>\n",
       "      <td>4.0</td>\n",
       "      <td>NaN</td>\n",
       "      <td>4.0</td>\n",
       "      <td>NaN</td>\n",
       "      <td>NaN</td>\n",
       "      <td>NaN</td>\n",
       "      <td>NaN</td>\n",
       "      <td>NaN</td>\n",
       "      <td>NaN</td>\n",
       "      <td>...</td>\n",
       "      <td>NaN</td>\n",
       "      <td>NaN</td>\n",
       "      <td>NaN</td>\n",
       "      <td>NaN</td>\n",
       "      <td>NaN</td>\n",
       "      <td>NaN</td>\n",
       "      <td>NaN</td>\n",
       "      <td>NaN</td>\n",
       "      <td>NaN</td>\n",
       "      <td>NaN</td>\n",
       "    </tr>\n",
       "    <tr>\n",
       "      <th>97804147</th>\n",
       "      <td>NaN</td>\n",
       "      <td>NaN</td>\n",
       "      <td>NaN</td>\n",
       "      <td>NaN</td>\n",
       "      <td>NaN</td>\n",
       "      <td>NaN</td>\n",
       "      <td>NaN</td>\n",
       "      <td>NaN</td>\n",
       "      <td>NaN</td>\n",
       "      <td>NaN</td>\n",
       "      <td>...</td>\n",
       "      <td>NaN</td>\n",
       "      <td>NaN</td>\n",
       "      <td>NaN</td>\n",
       "      <td>NaN</td>\n",
       "      <td>NaN</td>\n",
       "      <td>NaN</td>\n",
       "      <td>NaN</td>\n",
       "      <td>NaN</td>\n",
       "      <td>NaN</td>\n",
       "      <td>NaN</td>\n",
       "    </tr>\n",
       "    <tr>\n",
       "      <th>97850921</th>\n",
       "      <td>NaN</td>\n",
       "      <td>NaN</td>\n",
       "      <td>NaN</td>\n",
       "      <td>NaN</td>\n",
       "      <td>NaN</td>\n",
       "      <td>NaN</td>\n",
       "      <td>NaN</td>\n",
       "      <td>NaN</td>\n",
       "      <td>NaN</td>\n",
       "      <td>NaN</td>\n",
       "      <td>...</td>\n",
       "      <td>NaN</td>\n",
       "      <td>NaN</td>\n",
       "      <td>NaN</td>\n",
       "      <td>NaN</td>\n",
       "      <td>NaN</td>\n",
       "      <td>NaN</td>\n",
       "      <td>NaN</td>\n",
       "      <td>NaN</td>\n",
       "      <td>NaN</td>\n",
       "      <td>NaN</td>\n",
       "    </tr>\n",
       "  </tbody>\n",
       "</table>\n",
       "<p>100 rows × 11189 columns</p>\n",
       "</div>"
      ],
      "text/plain": [
       "movie_id  10      12      13      14      15      18      21      24      \\\n",
       "user_id                                                                    \n",
       "1476795      NaN     NaN     NaN     NaN     NaN     NaN     NaN     NaN   \n",
       "4736049      NaN     5.0     NaN     NaN     NaN     NaN     NaN     NaN   \n",
       "4936026      NaN     5.0     NaN     NaN     NaN     NaN     NaN     NaN   \n",
       "5355586      NaN     NaN     NaN     NaN     NaN     NaN     NaN     NaN   \n",
       "6588695      NaN     NaN     NaN     NaN     NaN     NaN     NaN     NaN   \n",
       "...          ...     ...     ...     ...     ...     ...     ...     ...   \n",
       "95112384     NaN     NaN     NaN     NaN     NaN     NaN     NaN     NaN   \n",
       "96513776     NaN     NaN     NaN     NaN     NaN     NaN     NaN     NaN   \n",
       "97173765     NaN     4.0     NaN     4.0     NaN     NaN     NaN     NaN   \n",
       "97804147     NaN     NaN     NaN     NaN     NaN     NaN     NaN     NaN   \n",
       "97850921     NaN     NaN     NaN     NaN     NaN     NaN     NaN     NaN   \n",
       "\n",
       "movie_id  25      26      ...  251150  251802  252054  252460  254118  255150  \\\n",
       "user_id                   ...                                                   \n",
       "1476795      NaN     NaN  ...     NaN     NaN     NaN     NaN     NaN     NaN   \n",
       "4736049      NaN     NaN  ...     NaN     NaN     NaN     NaN     NaN     NaN   \n",
       "4936026      NaN     NaN  ...     NaN     NaN     NaN     NaN     NaN     NaN   \n",
       "5355586      NaN     NaN  ...     NaN     NaN     NaN     NaN     NaN     NaN   \n",
       "6588695      NaN     NaN  ...     NaN     NaN     NaN     NaN     NaN     NaN   \n",
       "...          ...     ...  ...     ...     ...     ...     ...     ...     ...   \n",
       "95112384     NaN     NaN  ...     NaN     NaN     NaN     NaN     NaN     NaN   \n",
       "96513776     NaN     NaN  ...     NaN     NaN     NaN     NaN     NaN     NaN   \n",
       "97173765     NaN     NaN  ...     NaN     NaN     NaN     NaN     NaN     NaN   \n",
       "97804147     NaN     NaN  ...     NaN     NaN     NaN     NaN     NaN     NaN   \n",
       "97850921     NaN     NaN  ...     NaN     NaN     NaN     NaN     NaN     NaN   \n",
       "\n",
       "movie_id  255533  255726  256042  260892  \n",
       "user_id                                   \n",
       "1476795      NaN     NaN     NaN     NaN  \n",
       "4736049      NaN     NaN     NaN     NaN  \n",
       "4936026      NaN     NaN     NaN     NaN  \n",
       "5355586      NaN     NaN     NaN     NaN  \n",
       "6588695      NaN     NaN     4.0     NaN  \n",
       "...          ...     ...     ...     ...  \n",
       "95112384     NaN     NaN     NaN     NaN  \n",
       "96513776     NaN     NaN     NaN     NaN  \n",
       "97173765     NaN     NaN     NaN     NaN  \n",
       "97804147     NaN     NaN     NaN     NaN  \n",
       "97850921     NaN     NaN     NaN     NaN  \n",
       "\n",
       "[100 rows x 11189 columns]"
      ]
     },
     "execution_count": 50,
     "metadata": {},
     "output_type": "execute_result"
    }
   ],
   "source": [
    "top50_pivot"
   ]
  },
  {
   "cell_type": "code",
   "execution_count": 52,
   "id": "f8412e30",
   "metadata": {},
   "outputs": [],
   "source": [
    "pd.to_pickle(top50_pivot, \"./Data/top100_pivot.pkl\")"
   ]
  },
  {
   "cell_type": "code",
   "execution_count": 54,
   "id": "c058bb99",
   "metadata": {},
   "outputs": [],
   "source": [
    "pd.to_pickle(ratings[ratings.user_id.isin(top_50_users)], \"./Data/top100_longform.pkl\")"
   ]
  },
  {
   "cell_type": "code",
   "execution_count": 64,
   "id": "21de3ac7",
   "metadata": {},
   "outputs": [],
   "source": [
    "keepers = []\n",
    "for rating in ratings.rating_score.unique():\n",
    "    temp_df = ratings[ratings.rating_score==rating]\n",
    "    keepers.append(random.choices(temp_df.index, k=110000))\n",
    "    \n",
    "keepers = list(flatten(keepers))"
   ]
  },
  {
   "cell_type": "code",
   "execution_count": 65,
   "id": "9abbfc34",
   "metadata": {},
   "outputs": [],
   "source": [
    "smaller_selection = ratings.loc[keepers].reset_index(drop=True)"
   ]
  },
  {
   "cell_type": "code",
   "execution_count": 66,
   "id": "456346d0",
   "metadata": {},
   "outputs": [
    {
     "name": "stdout",
     "output_type": "stream",
     "text": [
      "<class 'pandas.core.frame.DataFrame'>\n",
      "RangeIndex: 550000 entries, 0 to 549999\n",
      "Data columns (total 3 columns):\n",
      " #   Column        Non-Null Count   Dtype\n",
      "---  ------        --------------   -----\n",
      " 0   movie_id      550000 non-null  int32\n",
      " 1   rating_score  550000 non-null  int8 \n",
      " 2   user_id       550000 non-null  int32\n",
      "dtypes: int32(2), int8(1)\n",
      "memory usage: 4.7 MB\n"
     ]
    }
   ],
   "source": [
    "smaller_selection.info()"
   ]
  },
  {
   "cell_type": "code",
   "execution_count": 67,
   "id": "0fabeab3",
   "metadata": {},
   "outputs": [],
   "source": [
    "pd.to_pickle(smaller_selection, \"./Data/small_even_selection_longform.pkl\")"
   ]
  },
  {
   "cell_type": "code",
   "execution_count": null,
   "id": "aa01721c",
   "metadata": {},
   "outputs": [],
   "source": []
  }
 ],
 "metadata": {
  "kernelspec": {
   "display_name": "Python 3",
   "language": "python",
   "name": "python3"
  },
  "language_info": {
   "codemirror_mode": {
    "name": "ipython",
    "version": 3
   },
   "file_extension": ".py",
   "mimetype": "text/x-python",
   "name": "python",
   "nbconvert_exporter": "python",
   "pygments_lexer": "ipython3",
   "version": "3.8.8"
  }
 },
 "nbformat": 4,
 "nbformat_minor": 5
}
