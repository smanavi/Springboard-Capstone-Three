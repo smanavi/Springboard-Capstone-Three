{
 "cells": [
  {
   "cell_type": "code",
   "execution_count": 1,
   "id": "d559540b",
   "metadata": {},
   "outputs": [],
   "source": [
    "import tensorflow as tf\n",
    "# from tensorboard.plugins.hparams import api as hp\n",
    "from tensorflow import keras"
   ]
  },
  {
   "cell_type": "code",
   "execution_count": 2,
   "id": "6b1d7c5b",
   "metadata": {},
   "outputs": [],
   "source": [
    "import pandas as pd\n",
    "import numpy as np\n",
    "from sklearn.model_selection import train_test_split\n",
    "from sklearn.preprocessing import LabelEncoder"
   ]
  },
  {
   "cell_type": "code",
   "execution_count": 21,
   "id": "1e7f83c7",
   "metadata": {},
   "outputs": [],
   "source": [
    "import matplotlib.pyplot as plt\n",
    "import seaborn as sns"
   ]
  },
  {
   "cell_type": "code",
   "execution_count": 3,
   "id": "bac8fdd1",
   "metadata": {},
   "outputs": [],
   "source": [
    "import warnings\n",
    "warnings.filterwarnings('ignore')"
   ]
  },
  {
   "cell_type": "code",
   "execution_count": 27,
   "id": "d0d1933e",
   "metadata": {},
   "outputs": [],
   "source": [
    "ratings = pd.read_pickle(\"./Data/reviews_20_1000_longform.pkl\")"
   ]
  },
  {
   "cell_type": "code",
   "execution_count": 28,
   "id": "7b5536a8",
   "metadata": {},
   "outputs": [],
   "source": [
    "ratings.drop(index=ratings[ratings.duplicated(keep='first')].index, inplace=True)"
   ]
  },
  {
   "cell_type": "code",
   "execution_count": 29,
   "id": "877e1308",
   "metadata": {},
   "outputs": [
    {
     "data": {
      "text/plain": [
       "(8854082, 3)"
      ]
     },
     "execution_count": 29,
     "metadata": {},
     "output_type": "execute_result"
    }
   ],
   "source": [
    "ratings.shape"
   ]
  },
  {
   "cell_type": "code",
   "execution_count": 30,
   "id": "9586f72c",
   "metadata": {},
   "outputs": [
    {
     "data": {
      "text/plain": [
       "(64815, 89418)"
      ]
     },
     "execution_count": 30,
     "metadata": {},
     "output_type": "execute_result"
    }
   ],
   "source": [
    "user_enc = LabelEncoder()\n",
    "ratings['user'] = user_enc.fit_transform(ratings['user_id'].values)\n",
    "n_users = ratings['user'].nunique()\n",
    "\n",
    "item_enc = LabelEncoder()\n",
    "ratings['movie'] = item_enc.fit_transform(ratings['movie_id'].values)\n",
    "n_movies = ratings['movie'].nunique()\n",
    "\n",
    "nmovie_id = ratings.movie_id.nunique()\n",
    "nuser_id = ratings.user_id.nunique()\n",
    "\n",
    "n_users, n_movies"
   ]
  },
  {
   "cell_type": "code",
   "execution_count": 104,
   "id": "5e9e624b",
   "metadata": {},
   "outputs": [],
   "source": [
    "low_count = len(ratings[(ratings.rating_score==1) | (ratings.rating_score==2)])\n",
    "high_count = len(ratings[(ratings.rating_score!=1) & (ratings.rating_score!=2)])"
   ]
  },
  {
   "cell_type": "code",
   "execution_count": 106,
   "id": "3eecc82a",
   "metadata": {},
   "outputs": [
    {
     "data": {
      "text/plain": [
       "12.692687960197341"
      ]
     },
     "execution_count": 106,
     "metadata": {},
     "output_type": "execute_result"
    }
   ],
   "source": [
    "(low_count / len(ratings)) * 100"
   ]
  },
  {
   "cell_type": "code",
   "execution_count": 108,
   "id": "53c0c717",
   "metadata": {},
   "outputs": [],
   "source": [
    "initial_bias = np.log([low_count/high_count])"
   ]
  },
  {
   "cell_type": "code",
   "execution_count": 140,
   "id": "eb22778c",
   "metadata": {},
   "outputs": [
    {
     "data": {
      "text/plain": [
       "array([-1.92840814])"
      ]
     },
     "execution_count": 140,
     "metadata": {},
     "output_type": "execute_result"
    }
   ],
   "source": [
    "initial_bias"
   ]
  },
  {
   "cell_type": "code",
   "execution_count": 31,
   "id": "1b38bee2",
   "metadata": {},
   "outputs": [],
   "source": [
    "X_train, X_test = train_test_split(ratings[['movie', 'user', 'rating_score']], test_size=0.3, random_state=42)"
   ]
  },
  {
   "cell_type": "code",
   "execution_count": 32,
   "id": "43c9930f",
   "metadata": {},
   "outputs": [
    {
     "data": {
      "text/plain": [
       "((6197857, 3), (2656225, 3))"
      ]
     },
     "execution_count": 32,
     "metadata": {},
     "output_type": "execute_result"
    }
   ],
   "source": [
    "X_train.shape, X_test.shape"
   ]
  },
  {
   "cell_type": "code",
   "execution_count": 112,
   "id": "65b41da0",
   "metadata": {},
   "outputs": [],
   "source": [
    "def train_test_model(output_bias):\n",
    "    \n",
    "    input_movies = keras.layers.Input(shape=[1])\n",
    "    embed_movies = keras.layers.Embedding(nmovie_id+1, 15)(input_movies)\n",
    "    movies_out = keras.layers.Flatten()(embed_movies)\n",
    "\n",
    "    input_users = keras.layers.Input(shape=[1])\n",
    "    embed_users = keras.layers.Embedding(nuser_id+1, 15)(input_users)\n",
    "    users_out = keras.layers.Flatten()(embed_users)\n",
    "\n",
    "    bias = keras.initializers.Constant(output_bias)\n",
    "    \n",
    "    conc_layer = keras.layers.Concatenate()([movies_out, users_out])\n",
    "    \n",
    "    dense1 = keras.layers.Dense(128,activation='relu', kernel_regularizer='l2')(conc_layer)\n",
    "    \n",
    "    dropout1 = keras.layers.Dropout(rate=.6, seed=42)(dense1)\n",
    "    \n",
    "    dense2 = keras.layers.Dense(64,activation='relu', kernel_regularizer='l2')(dropout1)\n",
    "    \n",
    "    dropout2 = keras.layers.Dropout(rate=.5, seed=42)(dense2)\n",
    "    \n",
    "    dense3 = keras.layers.Dense(32, activation='relu', kernel_regularizer='l2')(dropout2)\n",
    "    \n",
    "    dropout3 = keras.layers.Dropout(rate=.4, seed=42)(dense3)\n",
    "    \n",
    "    dense4 = keras.layers.Dense(16, activation='relu', kernel_regularizer='l2')(dropout3)\n",
    "    \n",
    "    x_out = keras.layers.Dense(1, activation='relu', kernel_regularizer='l2', bias_initializer=bias)(dense3)\n",
    "\n",
    "    model = keras.Model([input_movies, input_users], x_out)\n",
    "    \n",
    "    opt = tf.optimizers.Adam(learning_rate=.01)\n",
    "    model.compile(optimizer=opt, loss='mean_squared_error', metrics = keras.metrics.RootMeanSquaredError())\n",
    "\n",
    "\n",
    "#     print(hist.history['val_mean_squared_error'])\n",
    "    return model"
   ]
  },
  {
   "cell_type": "code",
   "execution_count": 110,
   "id": "b59ffa9c",
   "metadata": {},
   "outputs": [],
   "source": [
    "callback = keras.callbacks.EarlyStopping(monitor='val_root_mean_squared_error',\n",
    "                                        min_delta=.001,\n",
    "                                        patience=30,\n",
    "                                        mode=\"auto\",\n",
    "                                        restore_best_weights=True)"
   ]
  },
  {
   "cell_type": "code",
   "execution_count": 115,
   "id": "c53d9c93",
   "metadata": {},
   "outputs": [],
   "source": [
    "model = train_test_model(output_bias=1)"
   ]
  },
  {
   "cell_type": "code",
   "execution_count": 116,
   "id": "f388bc27",
   "metadata": {
    "scrolled": true
   },
   "outputs": [
    {
     "name": "stdout",
     "output_type": "stream",
     "text": [
      "Epoch 1/100\n",
      "1/1 [==============================] - 12s 12s/step - loss: 10.2998 - root_mean_squared_error: 2.9161 - val_loss: 9.3613 - val_root_mean_squared_error: 2.7827\n",
      "Epoch 2/100\n",
      "1/1 [==============================] - 9s 9s/step - loss: 9.3217 - root_mean_squared_error: 2.7756 - val_loss: 7.9867 - val_root_mean_squared_error: 2.5535\n",
      "Epoch 3/100\n",
      "1/1 [==============================] - 9s 9s/step - loss: 7.9486 - root_mean_squared_error: 2.5461 - val_loss: 5.9392 - val_root_mean_squared_error: 2.1427\n",
      "Epoch 4/100\n",
      "1/1 [==============================] - 9s 9s/step - loss: 5.9426 - root_mean_squared_error: 2.1435 - val_loss: 3.4428 - val_root_mean_squared_error: 1.4771\n",
      "Epoch 5/100\n",
      "1/1 [==============================] - 9s 9s/step - loss: 3.5803 - root_mean_squared_error: 1.5229 - val_loss: 2.5422 - val_root_mean_squared_error: 1.1588\n",
      "Epoch 6/100\n",
      "1/1 [==============================] - 9s 9s/step - loss: 3.1143 - root_mean_squared_error: 1.3838 - val_loss: 3.3310 - val_root_mean_squared_error: 1.4890\n",
      "Epoch 7/100\n",
      "1/1 [==============================] - 9s 9s/step - loss: 4.1585 - root_mean_squared_error: 1.7449 - val_loss: 2.3189 - val_root_mean_squared_error: 1.1390\n",
      "Epoch 8/100\n",
      "1/1 [==============================] - 9s 9s/step - loss: 2.9191 - root_mean_squared_error: 1.3775 - val_loss: 1.8927 - val_root_mean_squared_error: 0.9788\n",
      "Epoch 9/100\n",
      "1/1 [==============================] - 9s 9s/step - loss: 2.2424 - root_mean_squared_error: 1.1436 - val_loss: 2.1065 - val_root_mean_squared_error: 1.1172\n",
      "Epoch 10/100\n",
      "1/1 [==============================] - 9s 9s/step - loss: 2.3063 - root_mean_squared_error: 1.2033 - val_loss: 2.3750 - val_root_mean_squared_error: 1.2572\n",
      "Epoch 11/100\n",
      "1/1 [==============================] - 8s 8s/step - loss: 2.5037 - root_mean_squared_error: 1.3074 - val_loss: 2.4625 - val_root_mean_squared_error: 1.3119\n",
      "Epoch 12/100\n",
      "1/1 [==============================] - 9s 9s/step - loss: 2.5648 - root_mean_squared_error: 1.3504 - val_loss: 2.3507 - val_root_mean_squared_error: 1.2855\n",
      "Epoch 13/100\n",
      "1/1 [==============================] - 8s 8s/step - loss: 2.4555 - root_mean_squared_error: 1.3257 - val_loss: 2.0926 - val_root_mean_squared_error: 1.1956\n",
      "Epoch 14/100\n",
      "1/1 [==============================] - 9s 9s/step - loss: 2.2206 - root_mean_squared_error: 1.2480 - val_loss: 1.7742 - val_root_mean_squared_error: 1.0671\n",
      "Epoch 15/100\n",
      "1/1 [==============================] - 9s 9s/step - loss: 1.9465 - root_mean_squared_error: 1.1450 - val_loss: 1.5068 - val_root_mean_squared_error: 0.9452\n",
      "Epoch 16/100\n",
      "1/1 [==============================] - 9s 9s/step - loss: 1.7454 - root_mean_squared_error: 1.0639 - val_loss: 1.3924 - val_root_mean_squared_error: 0.8927\n",
      "Epoch 17/100\n",
      "1/1 [==============================] - 8s 8s/step - loss: 1.7117 - root_mean_squared_error: 1.0565 - val_loss: 1.4294 - val_root_mean_squared_error: 0.9221\n",
      "Epoch 18/100\n",
      "1/1 [==============================] - 9s 9s/step - loss: 1.8195 - root_mean_squared_error: 1.1137 - val_loss: 1.4700 - val_root_mean_squared_error: 0.9529\n",
      "Epoch 19/100\n",
      "1/1 [==============================] - 9s 9s/step - loss: 1.8895 - root_mean_squared_error: 1.1521 - val_loss: 1.4017 - val_root_mean_squared_error: 0.9264\n",
      "Epoch 20/100\n",
      "1/1 [==============================] - 9s 9s/step - loss: 1.7921 - root_mean_squared_error: 1.1174 - val_loss: 1.2947 - val_root_mean_squared_error: 0.8778\n",
      "Epoch 21/100\n",
      "1/1 [==============================] - 9s 9s/step - loss: 1.6166 - root_mean_squared_error: 1.0452 - val_loss: 1.2641 - val_root_mean_squared_error: 0.8710\n",
      "Epoch 22/100\n",
      "1/1 [==============================] - 9s 9s/step - loss: 1.5094 - root_mean_squared_error: 1.0020 - val_loss: 1.3283 - val_root_mean_squared_error: 0.9166\n",
      "Epoch 23/100\n",
      "1/1 [==============================] - 9s 9s/step - loss: 1.5114 - root_mean_squared_error: 1.0116 - val_loss: 1.4120 - val_root_mean_squared_error: 0.9692\n",
      "Epoch 24/100\n",
      "1/1 [==============================] - 9s 9s/step - loss: 1.5545 - root_mean_squared_error: 1.0401 - val_loss: 1.4488 - val_root_mean_squared_error: 0.9949\n",
      "Epoch 25/100\n",
      "1/1 [==============================] - 9s 9s/step - loss: 1.5735 - root_mean_squared_error: 1.0557 - val_loss: 1.4214 - val_root_mean_squared_error: 0.9869\n",
      "Epoch 26/100\n",
      "1/1 [==============================] - 9s 9s/step - loss: 1.5442 - root_mean_squared_error: 1.0473 - val_loss: 1.3459 - val_root_mean_squared_error: 0.9532\n",
      "Epoch 27/100\n",
      "1/1 [==============================] - 9s 9s/step - loss: 1.4814 - root_mean_squared_error: 1.0218 - val_loss: 1.2569 - val_root_mean_squared_error: 0.9101\n",
      "Epoch 28/100\n",
      "1/1 [==============================] - 9s 9s/step - loss: 1.4129 - root_mean_squared_error: 0.9921 - val_loss: 1.1847 - val_root_mean_squared_error: 0.8740\n",
      "Epoch 29/100\n",
      "1/1 [==============================] - 9s 9s/step - loss: 1.3705 - root_mean_squared_error: 0.9745 - val_loss: 1.1490 - val_root_mean_squared_error: 0.8579\n",
      "Epoch 30/100\n",
      "1/1 [==============================] - 9s 9s/step - loss: 1.3645 - root_mean_squared_error: 0.9754 - val_loss: 1.1417 - val_root_mean_squared_error: 0.8586\n",
      "Epoch 31/100\n",
      "1/1 [==============================] - 9s 9s/step - loss: 1.3777 - root_mean_squared_error: 0.9865 - val_loss: 1.1354 - val_root_mean_squared_error: 0.8606\n",
      "Epoch 32/100\n",
      "1/1 [==============================] - 9s 9s/step - loss: 1.3732 - root_mean_squared_error: 0.9891 - val_loss: 1.1151 - val_root_mean_squared_error: 0.8551\n",
      "Epoch 33/100\n",
      "1/1 [==============================] - 8s 8s/step - loss: 1.3341 - root_mean_squared_error: 0.9748 - val_loss: 1.0990 - val_root_mean_squared_error: 0.8525\n",
      "Epoch 34/100\n",
      "1/1 [==============================] - 9s 9s/step - loss: 1.2877 - root_mean_squared_error: 0.9568 - val_loss: 1.1093 - val_root_mean_squared_error: 0.8652\n",
      "Epoch 35/100\n",
      "1/1 [==============================] - 9s 9s/step - loss: 1.2615 - root_mean_squared_error: 0.9491 - val_loss: 1.1386 - val_root_mean_squared_error: 0.8880\n",
      "Epoch 36/100\n",
      "1/1 [==============================] - 9s 9s/step - loss: 1.2642 - root_mean_squared_error: 0.9561 - val_loss: 1.1495 - val_root_mean_squared_error: 0.8997\n",
      "Epoch 37/100\n",
      "1/1 [==============================] - 9s 9s/step - loss: 1.2629 - root_mean_squared_error: 0.9606 - val_loss: 1.1293 - val_root_mean_squared_error: 0.8933\n",
      "Epoch 38/100\n",
      "1/1 [==============================] - 9s 9s/step - loss: 1.2446 - root_mean_squared_error: 0.9557 - val_loss: 1.0951 - val_root_mean_squared_error: 0.8786\n",
      "Epoch 39/100\n",
      "1/1 [==============================] - 9s 9s/step - loss: 1.2197 - root_mean_squared_error: 0.9468 - val_loss: 1.0625 - val_root_mean_squared_error: 0.8640\n",
      "Epoch 40/100\n",
      "1/1 [==============================] - 9s 9s/step - loss: 1.1995 - root_mean_squared_error: 0.9399 - val_loss: 1.0400 - val_root_mean_squared_error: 0.8547\n",
      "Epoch 41/100\n",
      "1/1 [==============================] - 9s 9s/step - loss: 1.1896 - root_mean_squared_error: 0.9381 - val_loss: 1.0284 - val_root_mean_squared_error: 0.8517\n",
      "Epoch 42/100\n",
      "1/1 [==============================] - 9s 9s/step - loss: 1.1867 - root_mean_squared_error: 0.9400 - val_loss: 1.0210 - val_root_mean_squared_error: 0.8512\n",
      "Epoch 43/100\n",
      "1/1 [==============================] - 9s 9s/step - loss: 1.1807 - root_mean_squared_error: 0.9404 - val_loss: 1.0136 - val_root_mean_squared_error: 0.8509\n",
      "Epoch 44/100\n",
      "1/1 [==============================] - 9s 9s/step - loss: 1.1674 - root_mean_squared_error: 0.9369 - val_loss: 1.0081 - val_root_mean_squared_error: 0.8519\n",
      "Epoch 45/100\n",
      "1/1 [==============================] - 9s 9s/step - loss: 1.1512 - root_mean_squared_error: 0.9321 - val_loss: 1.0079 - val_root_mean_squared_error: 0.8559\n",
      "Epoch 46/100\n",
      "1/1 [==============================] - 9s 9s/step - loss: 1.1384 - root_mean_squared_error: 0.9290 - val_loss: 1.0136 - val_root_mean_squared_error: 0.8630\n",
      "Epoch 47/100\n",
      "1/1 [==============================] - 9s 9s/step - loss: 1.1302 - root_mean_squared_error: 0.9281 - val_loss: 1.0185 - val_root_mean_squared_error: 0.8692\n",
      "Epoch 48/100\n",
      "1/1 [==============================] - 8s 8s/step - loss: 1.1265 - root_mean_squared_error: 0.9293 - val_loss: 1.0146 - val_root_mean_squared_error: 0.8700\n",
      "Epoch 49/100\n"
     ]
    },
    {
     "name": "stdout",
     "output_type": "stream",
     "text": [
      "1/1 [==============================] - 9s 9s/step - loss: 1.1196 - root_mean_squared_error: 0.9284 - val_loss: 1.0015 - val_root_mean_squared_error: 0.8650\n",
      "Epoch 50/100\n",
      "1/1 [==============================] - 9s 9s/step - loss: 1.1085 - root_mean_squared_error: 0.9247 - val_loss: 0.9853 - val_root_mean_squared_error: 0.8578\n",
      "Epoch 51/100\n",
      "1/1 [==============================] - 8s 8s/step - loss: 1.0975 - root_mean_squared_error: 0.9209 - val_loss: 0.9722 - val_root_mean_squared_error: 0.8522\n",
      "Epoch 52/100\n",
      "1/1 [==============================] - 9s 9s/step - loss: 1.0889 - root_mean_squared_error: 0.9181 - val_loss: 0.9633 - val_root_mean_squared_error: 0.8490\n",
      "Epoch 53/100\n",
      "1/1 [==============================] - 9s 9s/step - loss: 1.0835 - root_mean_squared_error: 0.9170 - val_loss: 0.9576 - val_root_mean_squared_error: 0.8477\n",
      "Epoch 54/100\n",
      "1/1 [==============================] - 9s 9s/step - loss: 1.0776 - root_mean_squared_error: 0.9157 - val_loss: 0.9544 - val_root_mean_squared_error: 0.8479\n",
      "Epoch 55/100\n",
      "1/1 [==============================] - 9s 9s/step - loss: 1.0695 - root_mean_squared_error: 0.9133 - val_loss: 0.9539 - val_root_mean_squared_error: 0.8499\n",
      "Epoch 56/100\n",
      "1/1 [==============================] - 9s 9s/step - loss: 1.0625 - root_mean_squared_error: 0.9115 - val_loss: 0.9554 - val_root_mean_squared_error: 0.8529\n",
      "Epoch 57/100\n",
      "1/1 [==============================] - 9s 9s/step - loss: 1.0564 - root_mean_squared_error: 0.9101 - val_loss: 0.9552 - val_root_mean_squared_error: 0.8548\n",
      "Epoch 58/100\n",
      "1/1 [==============================] - 9s 9s/step - loss: 1.0525 - root_mean_squared_error: 0.9099 - val_loss: 0.9503 - val_root_mean_squared_error: 0.8539\n",
      "Epoch 59/100\n",
      "1/1 [==============================] - 9s 9s/step - loss: 1.0464 - root_mean_squared_error: 0.9084 - val_loss: 0.9416 - val_root_mean_squared_error: 0.8507\n",
      "Epoch 60/100\n",
      "1/1 [==============================] - 9s 9s/step - loss: 1.0396 - root_mean_squared_error: 0.9064 - val_loss: 0.9328 - val_root_mean_squared_error: 0.8474\n",
      "Epoch 61/100\n",
      "1/1 [==============================] - 9s 9s/step - loss: 1.0337 - root_mean_squared_error: 0.9049 - val_loss: 0.9262 - val_root_mean_squared_error: 0.8453\n",
      "Epoch 62/100\n",
      "1/1 [==============================] - 9s 9s/step - loss: 1.0299 - root_mean_squared_error: 0.9046 - val_loss: 0.9217 - val_root_mean_squared_error: 0.8446\n",
      "Epoch 63/100\n",
      "1/1 [==============================] - 9s 9s/step - loss: 1.0242 - root_mean_squared_error: 0.9033 - val_loss: 0.9187 - val_root_mean_squared_error: 0.8449\n",
      "Epoch 64/100\n",
      "1/1 [==============================] - 9s 9s/step - loss: 1.0185 - root_mean_squared_error: 0.9020 - val_loss: 0.9173 - val_root_mean_squared_error: 0.8462\n",
      "Epoch 65/100\n",
      "1/1 [==============================] - 9s 9s/step - loss: 1.0125 - root_mean_squared_error: 0.9007 - val_loss: 0.9167 - val_root_mean_squared_error: 0.8479\n",
      "Epoch 66/100\n",
      "1/1 [==============================] - 9s 9s/step - loss: 1.0085 - root_mean_squared_error: 0.9004 - val_loss: 0.9148 - val_root_mean_squared_error: 0.8487\n",
      "Epoch 67/100\n",
      "1/1 [==============================] - 8s 8s/step - loss: 1.0042 - root_mean_squared_error: 0.8998 - val_loss: 0.9104 - val_root_mean_squared_error: 0.8479\n",
      "Epoch 68/100\n",
      "1/1 [==============================] - 9s 9s/step - loss: 0.9991 - root_mean_squared_error: 0.8987 - val_loss: 0.9044 - val_root_mean_squared_error: 0.8462\n",
      "Epoch 69/100\n",
      "1/1 [==============================] - 9s 9s/step - loss: 0.9948 - root_mean_squared_error: 0.8980 - val_loss: 0.8991 - val_root_mean_squared_error: 0.8447\n",
      "Epoch 70/100\n",
      "1/1 [==============================] - 9s 9s/step - loss: 0.9911 - root_mean_squared_error: 0.8975 - val_loss: 0.8953 - val_root_mean_squared_error: 0.8440\n",
      "Epoch 71/100\n",
      "1/1 [==============================] - 9s 9s/step - loss: 0.9877 - root_mean_squared_error: 0.8971 - val_loss: 0.8929 - val_root_mean_squared_error: 0.8443\n",
      "Epoch 72/100\n",
      "1/1 [==============================] - 9s 9s/step - loss: 0.9830 - root_mean_squared_error: 0.8960 - val_loss: 0.8919 - val_root_mean_squared_error: 0.8452\n",
      "Epoch 73/100\n",
      "1/1 [==============================] - 9s 9s/step - loss: 0.9787 - root_mean_squared_error: 0.8950 - val_loss: 0.8915 - val_root_mean_squared_error: 0.8464\n",
      "Epoch 74/100\n",
      "1/1 [==============================] - 9s 9s/step - loss: 0.9752 - root_mean_squared_error: 0.8945 - val_loss: 0.8900 - val_root_mean_squared_error: 0.8469\n",
      "Epoch 75/100\n",
      "1/1 [==============================] - 9s 9s/step - loss: 0.9718 - root_mean_squared_error: 0.8939 - val_loss: 0.8866 - val_root_mean_squared_error: 0.8461\n",
      "Epoch 76/100\n",
      "1/1 [==============================] - 9s 9s/step - loss: 0.9684 - root_mean_squared_error: 0.8931 - val_loss: 0.8823 - val_root_mean_squared_error: 0.8447\n",
      "Epoch 77/100\n",
      "1/1 [==============================] - 9s 9s/step - loss: 0.9644 - root_mean_squared_error: 0.8919 - val_loss: 0.8784 - val_root_mean_squared_error: 0.8435\n",
      "Epoch 78/100\n",
      "1/1 [==============================] - 9s 9s/step - loss: 0.9612 - root_mean_squared_error: 0.8912 - val_loss: 0.8758 - val_root_mean_squared_error: 0.8430\n",
      "Epoch 79/100\n",
      "1/1 [==============================] - 8s 8s/step - loss: 0.9584 - root_mean_squared_error: 0.8906 - val_loss: 0.8743 - val_root_mean_squared_error: 0.8432\n",
      "Epoch 80/100\n",
      "1/1 [==============================] - 9s 9s/step - loss: 0.9551 - root_mean_squared_error: 0.8898 - val_loss: 0.8736 - val_root_mean_squared_error: 0.8439\n",
      "Epoch 81/100\n",
      "1/1 [==============================] - 9s 9s/step - loss: 0.9521 - root_mean_squared_error: 0.8892 - val_loss: 0.8728 - val_root_mean_squared_error: 0.8445\n",
      "Epoch 82/100\n",
      "1/1 [==============================] - 9s 9s/step - loss: 0.9487 - root_mean_squared_error: 0.8883 - val_loss: 0.8708 - val_root_mean_squared_error: 0.8444\n",
      "Epoch 83/100\n",
      "1/1 [==============================] - 9s 9s/step - loss: 0.9456 - root_mean_squared_error: 0.8876 - val_loss: 0.8678 - val_root_mean_squared_error: 0.8436\n",
      "Epoch 84/100\n",
      "1/1 [==============================] - 9s 9s/step - loss: 0.9434 - root_mean_squared_error: 0.8873 - val_loss: 0.8648 - val_root_mean_squared_error: 0.8428\n",
      "Epoch 85/100\n",
      "1/1 [==============================] - 9s 9s/step - loss: 0.9404 - root_mean_squared_error: 0.8866 - val_loss: 0.8626 - val_root_mean_squared_error: 0.8425\n",
      "Epoch 86/100\n",
      "1/1 [==============================] - 8s 8s/step - loss: 0.9377 - root_mean_squared_error: 0.8860 - val_loss: 0.8612 - val_root_mean_squared_error: 0.8427\n",
      "Epoch 87/100\n",
      "1/1 [==============================] - 9s 9s/step - loss: 0.9344 - root_mean_squared_error: 0.8851 - val_loss: 0.8605 - val_root_mean_squared_error: 0.8433\n",
      "Epoch 88/100\n",
      "1/1 [==============================] - 9s 9s/step - loss: 0.9324 - root_mean_squared_error: 0.8849 - val_loss: 0.8597 - val_root_mean_squared_error: 0.8438\n",
      "Epoch 89/100\n",
      "1/1 [==============================] - 8s 8s/step - loss: 0.9298 - root_mean_squared_error: 0.8843 - val_loss: 0.8581 - val_root_mean_squared_error: 0.8438\n",
      "Epoch 90/100\n",
      "1/1 [==============================] - 8s 8s/step - loss: 0.9276 - root_mean_squared_error: 0.8840 - val_loss: 0.8557 - val_root_mean_squared_error: 0.8432\n",
      "Epoch 91/100\n",
      "1/1 [==============================] - 9s 9s/step - loss: 0.9251 - root_mean_squared_error: 0.8834 - val_loss: 0.8534 - val_root_mean_squared_error: 0.8427\n",
      "Epoch 92/100\n",
      "1/1 [==============================] - 9s 9s/step - loss: 0.9225 - root_mean_squared_error: 0.8828 - val_loss: 0.8518 - val_root_mean_squared_error: 0.8425\n",
      "Epoch 93/100\n",
      "1/1 [==============================] - 9s 9s/step - loss: 0.9204 - root_mean_squared_error: 0.8823 - val_loss: 0.8508 - val_root_mean_squared_error: 0.8427\n",
      "Epoch 94/100\n",
      "1/1 [==============================] - 9s 9s/step - loss: 0.9180 - root_mean_squared_error: 0.8817 - val_loss: 0.8501 - val_root_mean_squared_error: 0.8431\n",
      "Epoch 95/100\n",
      "1/1 [==============================] - 8s 8s/step - loss: 0.9162 - root_mean_squared_error: 0.8814 - val_loss: 0.8492 - val_root_mean_squared_error: 0.8432\n",
      "Epoch 96/100\n",
      "1/1 [==============================] - 9s 9s/step - loss: 0.9140 - root_mean_squared_error: 0.8808 - val_loss: 0.8476 - val_root_mean_squared_error: 0.8429\n",
      "Epoch 97/100\n"
     ]
    },
    {
     "name": "stdout",
     "output_type": "stream",
     "text": [
      "1/1 [==============================] - 9s 9s/step - loss: 0.9118 - root_mean_squared_error: 0.8802 - val_loss: 0.8457 - val_root_mean_squared_error: 0.8424\n",
      "Epoch 98/100\n",
      "1/1 [==============================] - 8s 8s/step - loss: 0.9097 - root_mean_squared_error: 0.8795 - val_loss: 0.8442 - val_root_mean_squared_error: 0.8421\n",
      "Epoch 99/100\n",
      "1/1 [==============================] - 9s 9s/step - loss: 0.9080 - root_mean_squared_error: 0.8792 - val_loss: 0.8432 - val_root_mean_squared_error: 0.8421\n",
      "Epoch 100/100\n",
      "1/1 [==============================] - 9s 9s/step - loss: 0.9057 - root_mean_squared_error: 0.8784 - val_loss: 0.8426 - val_root_mean_squared_error: 0.8423\n"
     ]
    }
   ],
   "source": [
    "output = model.fit([X_train.movie, X_train.user], \n",
    "             X_train.rating_score,  \n",
    "             batch_size=len(X_train), epochs=100, validation_split=.2,\n",
    "                  callbacks=[callback])"
   ]
  },
  {
   "cell_type": "code",
   "execution_count": 119,
   "id": "181afad3",
   "metadata": {
    "scrolled": true
   },
   "outputs": [
    {
     "data": {
      "text/plain": [
       "['__class__',\n",
       " '__delattr__',\n",
       " '__dict__',\n",
       " '__dir__',\n",
       " '__doc__',\n",
       " '__eq__',\n",
       " '__format__',\n",
       " '__ge__',\n",
       " '__getattribute__',\n",
       " '__gt__',\n",
       " '__hash__',\n",
       " '__init__',\n",
       " '__init_subclass__',\n",
       " '__le__',\n",
       " '__lt__',\n",
       " '__module__',\n",
       " '__ne__',\n",
       " '__new__',\n",
       " '__reduce__',\n",
       " '__reduce_ex__',\n",
       " '__repr__',\n",
       " '__setattr__',\n",
       " '__sizeof__',\n",
       " '__str__',\n",
       " '__subclasshook__',\n",
       " '__weakref__',\n",
       " '_chief_worker_only',\n",
       " '_implements_predict_batch_hooks',\n",
       " '_implements_test_batch_hooks',\n",
       " '_implements_train_batch_hooks',\n",
       " '_keras_api_names',\n",
       " '_keras_api_names_v1',\n",
       " '_supports_tf_logs',\n",
       " 'baseline',\n",
       " 'best',\n",
       " 'best_weights',\n",
       " 'get_monitor_value',\n",
       " 'min_delta',\n",
       " 'model',\n",
       " 'monitor',\n",
       " 'monitor_op',\n",
       " 'on_batch_begin',\n",
       " 'on_batch_end',\n",
       " 'on_epoch_begin',\n",
       " 'on_epoch_end',\n",
       " 'on_predict_batch_begin',\n",
       " 'on_predict_batch_end',\n",
       " 'on_predict_begin',\n",
       " 'on_predict_end',\n",
       " 'on_test_batch_begin',\n",
       " 'on_test_batch_end',\n",
       " 'on_test_begin',\n",
       " 'on_test_end',\n",
       " 'on_train_batch_begin',\n",
       " 'on_train_batch_end',\n",
       " 'on_train_begin',\n",
       " 'on_train_end',\n",
       " 'params',\n",
       " 'patience',\n",
       " 'restore_best_weights',\n",
       " 'set_model',\n",
       " 'set_params',\n",
       " 'stopped_epoch',\n",
       " 'validation_data',\n",
       " 'verbose',\n",
       " 'wait']"
      ]
     },
     "execution_count": 119,
     "metadata": {},
     "output_type": "execute_result"
    }
   ],
   "source": [
    "dir(callback)"
   ]
  },
  {
   "cell_type": "code",
   "execution_count": 120,
   "id": "03350df5",
   "metadata": {},
   "outputs": [
    {
     "data": {
      "text/plain": [
       "0.8430203199386597"
      ]
     },
     "execution_count": 120,
     "metadata": {},
     "output_type": "execute_result"
    }
   ],
   "source": [
    "callback.best"
   ]
  },
  {
   "cell_type": "code",
   "execution_count": 121,
   "id": "e9b9468a",
   "metadata": {},
   "outputs": [
    {
     "data": {
      "text/plain": [
       "'val_root_mean_squared_error'"
      ]
     },
     "execution_count": 121,
     "metadata": {},
     "output_type": "execute_result"
    }
   ],
   "source": [
    "callback.monitor"
   ]
  },
  {
   "cell_type": "code",
   "execution_count": 122,
   "id": "b5aa7abb",
   "metadata": {},
   "outputs": [
    {
     "data": {
      "text/plain": [
       "<tensorflow.python.keras.engine.functional.Functional at 0x7ef8b7792a00>"
      ]
     },
     "execution_count": 122,
     "metadata": {},
     "output_type": "execute_result"
    }
   ],
   "source": [
    "callback.model"
   ]
  },
  {
   "cell_type": "code",
   "execution_count": null,
   "id": "578b6959",
   "metadata": {},
   "outputs": [],
   "source": []
  },
  {
   "cell_type": "code",
   "execution_count": null,
   "id": "b3d6cb8a",
   "metadata": {},
   "outputs": [],
   "source": []
  },
  {
   "cell_type": "code",
   "execution_count": null,
   "id": "508a365e",
   "metadata": {},
   "outputs": [],
   "source": [
    "output2 = model.fit([X_train.movie, X_train.user], \n",
    "             X_train.rating_score,  \n",
    "             batch_size=len(X_train), epochs=10, validation_split=.2,\n",
    "                  callbacks=[callback])"
   ]
  },
  {
   "cell_type": "code",
   "execution_count": null,
   "id": "e4cd29fc",
   "metadata": {},
   "outputs": [],
   "source": []
  },
  {
   "cell_type": "code",
   "execution_count": 117,
   "id": "ed855cf2",
   "metadata": {},
   "outputs": [
    {
     "data": {
      "image/png": "[encoded data removed]",
      "text/plain": [
       "<Figure size 720x216 with 2 Axes>"
      ]
     },
     "metadata": {
      "needs_background": "light"
     },
     "output_type": "display_data"
    }
   ],
   "source": [
    "fig, axs = plt.subplots(ncols=2, figsize=(10, 3))\n",
    "\n",
    "\n",
    "axs[0].plot(output.history['loss'], color='r')\n",
    "axs[0].plot(output.history['val_loss'], color='b')\n",
    "\n",
    "axs[1].plot(output.history['root_mean_squared_error'], color='r')\n",
    "axs[1].plot(output.history['val_root_mean_squared_error'], color='b')\n",
    "axs[1].axvline(np.where(output.history['val_root_mean_squared_error']==np.min(output.history['val_root_mean_squared_error'])), \n",
    "                 color='k', lw=1)\n",
    "axs[1].annotate(str(np.min(output.history['val_root_mean_squared_error'])),\n",
    "                    xy=(40,3),)\n",
    "\n",
    "#     title_str = '-'.join(str(run_history[key]['params'][param]) for param in run_history[key]['params'].keys(),\n",
    "#                         xytext=(.8,.8), xycoords='subfigure fraction')\n",
    "\n",
    "axs[0].set_title(\"mse\")\n",
    "axs[1].set_title(\"rmse\")\n",
    "\n",
    "axs[0].set_ylim(0,10)\n",
    "axs[1].set_ylim(0,5)\n",
    "\n",
    "axs[1].axhline(1, color='k', lw=1)\n",
    "    \n",
    "plt.tight_layout()   \n",
    "plt.show()"
   ]
  },
  {
   "cell_type": "code",
   "execution_count": 90,
   "id": "75b9be6b",
   "metadata": {},
   "outputs": [
    {
     "data": {
      "text/plain": [
       "100"
      ]
     },
     "execution_count": 90,
     "metadata": {},
     "output_type": "execute_result"
    }
   ],
   "source": [
    "len(output.history['loss'])"
   ]
  },
  {
   "cell_type": "code",
   "execution_count": 91,
   "id": "187a20bf",
   "metadata": {},
   "outputs": [
    {
     "data": {
      "text/plain": [
       "[<tf.Variable 'embedding_14/embeddings:0' shape=(89419, 15) dtype=float32, numpy=\n",
       " array([[-0.04060972, -0.0408831 , -0.07540319, ...,  0.05272159,\n",
       "         -0.01610826,  0.03636319],\n",
       "        [-0.07631765,  0.01794105, -0.00635751, ..., -0.0513144 ,\n",
       "         -0.06476335, -0.01258612],\n",
       "        [-0.02940135, -0.03517935, -0.00887026, ...,  0.12255664,\n",
       "          0.15908323,  0.02870064],\n",
       "        ...,\n",
       "        [ 0.02127912,  0.04027199,  0.00054735, ..., -0.1885152 ,\n",
       "         -0.03283613, -0.06176513],\n",
       "        [ 0.01619839,  0.04960533,  0.02113556, ...,  0.09155231,\n",
       "          0.01556375,  0.04586617],\n",
       "        [ 0.01719183,  0.03272376, -0.01236945, ...,  0.01487299,\n",
       "         -0.04141879,  0.04155825]], dtype=float32)>,\n",
       " <tf.Variable 'embedding_15/embeddings:0' shape=(64816, 15) dtype=float32, numpy=\n",
       " array([[-0.07097471, -0.10677434, -0.12696075, ..., -0.08312505,\n",
       "         -0.07205073, -0.0492179 ],\n",
       "        [ 0.0753029 , -0.00496834, -0.00133236, ...,  0.05152988,\n",
       "          0.0306449 , -0.05259011],\n",
       "        [ 0.06397249,  0.08811894,  0.00644456, ...,  0.12881456,\n",
       "          0.00618854,  0.09534803],\n",
       "        ...,\n",
       "        [-0.03032211, -0.02067773,  0.01668265, ..., -0.04993582,\n",
       "         -0.05132934,  0.00248043],\n",
       "        [ 0.02575322, -0.04590441,  0.02100513, ..., -0.0172494 ,\n",
       "          0.02780226, -0.0088946 ],\n",
       "        [ 0.02913313, -0.01719033, -0.03479009, ...,  0.03208091,\n",
       "         -0.03768612,  0.0320279 ]], dtype=float32)>,\n",
       " <tf.Variable 'dense_32/kernel:0' shape=(30, 128) dtype=float32, numpy=\n",
       " array([[ 1.5295780e-02, -6.6475041e-04,  1.7101372e-02, ...,\n",
       "          1.1180621e-04,  4.3787584e-02,  1.1528961e-02],\n",
       "        [ 7.8052976e-03,  2.3362110e-04, -4.1826577e-03, ...,\n",
       "         -2.3623877e-05,  1.0364839e-02,  5.6529744e-03],\n",
       "        [ 1.2881858e-02,  8.6053170e-04,  1.1260245e-02, ...,\n",
       "          5.7313031e-05,  3.8682315e-02,  1.2721887e-02],\n",
       "        ...,\n",
       "        [-2.0597616e-02, -2.8871631e-04, -4.1643601e-02, ...,\n",
       "          4.0666948e-04, -5.0615268e-03, -4.1382287e-02],\n",
       "        [-8.2486840e-03, -6.3400163e-04, -3.6194749e-02, ...,\n",
       "          2.3573826e-05, -3.8754825e-02, -3.7649218e-02],\n",
       "        [ 5.4320162e-03, -2.4776300e-04, -2.6037721e-02, ...,\n",
       "          4.2780000e-04, -6.6272408e-02, -1.6481819e-02]], dtype=float32)>,\n",
       " <tf.Variable 'dense_32/bias:0' shape=(128,) dtype=float32, numpy=\n",
       " array([ 0.0371747 , -0.1023711 ,  0.04306002,  0.0468374 , -0.04735133,\n",
       "         0.04555471, -0.09353155,  0.04024534,  0.0321504 ,  0.04845939,\n",
       "        -0.09939567,  0.04050443, -0.0959291 ,  0.02349846,  0.04376367,\n",
       "        -0.02257023,  0.04794627,  0.04353931,  0.05066973,  0.04100508,\n",
       "         0.00831581, -0.0100784 ,  0.03976767, -0.0940553 , -0.00446828,\n",
       "        -0.02110382,  0.0418701 ,  0.04325078,  0.00608094,  0.04542106,\n",
       "        -0.10322579,  0.04491941, -0.01965196, -0.08801329, -0.00055386,\n",
       "        -0.10111856, -0.09156516, -0.06329799, -0.09833757,  0.04873508,\n",
       "        -0.08413235,  0.04246772, -0.07174245,  0.0360207 ,  0.0467156 ,\n",
       "         0.04499827,  0.04327533,  0.04562854,  0.04540145, -0.08266249,\n",
       "         0.03725973,  0.04761103,  0.04068732, -0.09543792,  0.04355907,\n",
       "         0.0459094 ,  0.04245615,  0.04043169, -0.08778936,  0.02889022,\n",
       "        -0.09008438, -0.08537195,  0.04336667,  0.0357128 ,  0.04262505,\n",
       "        -0.01261566,  0.04384232,  0.04399301, -0.09161666, -0.09713206,\n",
       "         0.04848541,  0.03919575, -0.0912591 , -0.03042919, -0.05642344,\n",
       "         0.00174266, -0.08552541, -0.06532459,  0.03375098, -0.09087045,\n",
       "         0.04665263,  0.04071897,  0.04386648,  0.04951899,  0.04221785,\n",
       "        -0.07133762, -0.07395039,  0.01590523,  0.04099347, -0.1064743 ,\n",
       "         0.02941141,  0.04386131,  0.04929784,  0.04243619,  0.01465108,\n",
       "        -0.08961285, -0.00303195,  0.0369447 ,  0.04383133, -0.0468077 ,\n",
       "         0.00765274,  0.04387626,  0.0460291 ,  0.04422492, -0.05554495,\n",
       "         0.0446579 ,  0.04341277,  0.04624182,  0.04443892, -0.08397055,\n",
       "         0.04110755,  0.04180937,  0.04148164,  0.0422663 ,  0.03888365,\n",
       "         0.04398013, -0.0568579 , -0.09752482,  0.04692052, -0.05283023,\n",
       "        -0.00800926, -0.09502779,  0.0446252 , -0.0533563 ,  0.0429077 ,\n",
       "        -0.10098504,  0.04464726,  0.04881814], dtype=float32)>,\n",
       " <tf.Variable 'dense_33/kernel:0' shape=(128, 64) dtype=float32, numpy=\n",
       " array([[ 3.2258481e-02, -4.0187489e-04,  7.0927688e-03, ...,\n",
       "         -4.7199719e-02,  8.4080115e-02, -2.2686276e-04],\n",
       "        [ 3.8440898e-04,  5.4514810e-04,  3.1937478e-04, ...,\n",
       "          1.6415032e-04, -2.9330954e-04,  7.4050715e-04],\n",
       "        [ 3.5594586e-02,  2.3684197e-03, -1.7727466e-02, ...,\n",
       "          8.1454217e-02,  3.0047897e-02,  6.0127478e-04],\n",
       "        ...,\n",
       "        [ 2.9789971e-04, -2.9707220e-04,  4.1958792e-04, ...,\n",
       "          8.4997684e-04,  6.8581023e-05, -2.5548210e-04],\n",
       "        [ 9.0265684e-02,  1.3459401e-03,  3.3727266e-02, ...,\n",
       "          3.0052855e-03,  3.7841357e-02,  4.9335865e-04],\n",
       "        [-3.7236173e-02,  1.6325624e-03,  4.4626221e-02, ...,\n",
       "          8.3654299e-02,  7.3226266e-02, -2.0942457e-04]], dtype=float32)>,\n",
       " <tf.Variable 'dense_33/bias:0' shape=(64,) dtype=float32, numpy=\n",
       " array([ 0.11230604, -0.12854402,  0.13001244, -0.00860706,  0.12368264,\n",
       "        -0.1030679 ,  0.11585779,  0.13209285,  0.11872925,  0.11623779,\n",
       "        -0.10024324, -0.09877466,  0.1324365 , -0.08944923,  0.13088244,\n",
       "        -0.08578659,  0.11611795,  0.1144914 , -0.01490945, -0.0955387 ,\n",
       "        -0.08935532, -0.06886546,  0.08810353,  0.1478632 , -0.08228289,\n",
       "         0.10137276,  0.1283936 , -0.08502802,  0.12153941,  0.09899752,\n",
       "        -0.0941155 ,  0.10142919,  0.13742577, -0.08935599, -0.08596231,\n",
       "        -0.00406665,  0.09990709,  0.05041865, -0.09382143,  0.12654763,\n",
       "        -0.09434251, -0.09517929, -0.0090952 , -0.09353171,  0.13249622,\n",
       "        -0.09397937,  0.1155656 , -0.08469003, -0.07163562,  0.10426059,\n",
       "         0.12851892, -0.07235575,  0.12285358,  0.10443656, -0.09791224,\n",
       "         0.11045516,  0.10280526,  0.11312179,  0.09253555,  0.11795966,\n",
       "         0.10447191,  0.09902384,  0.11796364, -0.07789647], dtype=float32)>,\n",
       " <tf.Variable 'dense_34/kernel:0' shape=(64, 32) dtype=float32, numpy=\n",
       " array([[-5.1179837e-04, -1.6090806e-04, -4.8876777e-02, ...,\n",
       "         -2.0504326e-03,  2.9321648e-02,  1.3590474e-01],\n",
       "        [-7.2695198e-05, -1.0576351e-04,  1.5387865e-02, ...,\n",
       "          4.8568228e-04, -9.5722399e-04,  7.6044658e-03],\n",
       "        [-2.5694529e-04,  8.3438848e-04,  1.5629363e-01, ...,\n",
       "          7.5797085e-03,  2.6220508e-02,  4.1345347e-02],\n",
       "        ...,\n",
       "        [ 1.0295667e-03, -8.5422746e-04, -4.3982126e-02, ...,\n",
       "          5.5458587e-02,  2.9978551e-02, -2.4378808e-02],\n",
       "        [-4.6819955e-04,  1.0558193e-04, -1.5004045e-01, ...,\n",
       "          3.5157390e-03,  2.6854021e-02, -1.4874576e-01],\n",
       "        [-2.1912789e-04, -1.7743994e-04,  3.6449765e-04, ...,\n",
       "          1.1761789e-04, -4.8137316e-04,  1.0630680e-03]], dtype=float32)>,\n",
       " <tf.Variable 'dense_34/bias:0' shape=(32,) dtype=float32, numpy=\n",
       " array([-0.10587353, -0.10599612,  0.21402736, -0.2520337 , -0.11448065,\n",
       "         0.21609539, -0.11637563,  0.21920161, -0.11181231,  0.2140267 ,\n",
       "         0.21510276, -0.12075423, -0.11770503, -0.11372122,  0.22358657,\n",
       "         0.21875823,  0.22543782,  0.22439036,  0.21403286,  0.21350127,\n",
       "        -0.11785963,  0.23444712,  0.21336779, -0.1132229 ,  0.21228865,\n",
       "         0.21802147, -0.26628727,  0.22077408, -0.11567538,  0.25322253,\n",
       "        -0.14090708,  0.2234586 ], dtype=float32)>,\n",
       " <tf.Variable 'dense_36/kernel:0' shape=(32, 1) dtype=float32, numpy=\n",
       " array([[ 0.00110235],\n",
       "        [ 0.01126219],\n",
       "        [ 0.39259672],\n",
       "        [-0.4448395 ],\n",
       "        [ 0.00209297],\n",
       "        [ 0.42926866],\n",
       "        [-0.02465626],\n",
       "        [ 0.18510696],\n",
       "        [-0.0715086 ],\n",
       "        [ 0.41403916],\n",
       "        [ 0.27538732],\n",
       "        [-0.07775708],\n",
       "        [-0.0134429 ],\n",
       "        [-0.01242439],\n",
       "        [ 0.35994878],\n",
       "        [ 0.3338758 ],\n",
       "        [ 0.47548005],\n",
       "        [ 0.11510097],\n",
       "        [ 0.33087   ],\n",
       "        [ 0.3667928 ],\n",
       "        [-0.13628435],\n",
       "        [ 0.3992859 ],\n",
       "        [ 0.38666576],\n",
       "        [-0.02840827],\n",
       "        [ 0.38073283],\n",
       "        [ 0.3344485 ],\n",
       "        [-0.37969694],\n",
       "        [ 0.4567325 ],\n",
       "        [-0.01715631],\n",
       "        [ 0.106554  ],\n",
       "        [-0.2680349 ],\n",
       "        [ 0.36743766]], dtype=float32)>,\n",
       " <tf.Variable 'dense_36/bias:0' shape=(1,) dtype=float32, numpy=array([0.21075657], dtype=float32)>]"
      ]
     },
     "execution_count": 91,
     "metadata": {},
     "output_type": "execute_result"
    }
   ],
   "source": [
    "model.trainable_variables"
   ]
  },
  {
   "cell_type": "code",
   "execution_count": 92,
   "id": "8e18a9ee",
   "metadata": {},
   "outputs": [
    {
     "name": "stdout",
     "output_type": "stream",
     "text": [
      "INFO:tensorflow:Assets written to: saved_model/rmse_845/assets\n"
     ]
    }
   ],
   "source": [
    "!mkdir -p saved_model\n",
    "model.save('saved_model/rmse_845')"
   ]
  },
  {
   "cell_type": "code",
   "execution_count": 93,
   "id": "07786541",
   "metadata": {},
   "outputs": [],
   "source": [
    "model.save('saved_model/rmse_845/model.h5')"
   ]
  },
  {
   "cell_type": "code",
   "execution_count": 94,
   "id": "f0afca2b",
   "metadata": {},
   "outputs": [
    {
     "data": {
      "text/html": [
       "<div>\n",
       "<style scoped>\n",
       "    .dataframe tbody tr th:only-of-type {\n",
       "        vertical-align: middle;\n",
       "    }\n",
       "\n",
       "    .dataframe tbody tr th {\n",
       "        vertical-align: top;\n",
       "    }\n",
       "\n",
       "    .dataframe thead th {\n",
       "        text-align: right;\n",
       "    }\n",
       "</style>\n",
       "<table border=\"1\" class=\"dataframe\">\n",
       "  <thead>\n",
       "    <tr style=\"text-align: right;\">\n",
       "      <th></th>\n",
       "      <th>movie</th>\n",
       "      <th>user</th>\n",
       "    </tr>\n",
       "    <tr>\n",
       "      <th>rating_score</th>\n",
       "      <th></th>\n",
       "      <th></th>\n",
       "    </tr>\n",
       "  </thead>\n",
       "  <tbody>\n",
       "    <tr>\n",
       "      <th>1</th>\n",
       "      <td>223618</td>\n",
       "      <td>223618</td>\n",
       "    </tr>\n",
       "    <tr>\n",
       "      <th>2</th>\n",
       "      <td>562898</td>\n",
       "      <td>562898</td>\n",
       "    </tr>\n",
       "    <tr>\n",
       "      <th>3</th>\n",
       "      <td>1558336</td>\n",
       "      <td>1558336</td>\n",
       "    </tr>\n",
       "    <tr>\n",
       "      <th>4</th>\n",
       "      <td>2254707</td>\n",
       "      <td>2254707</td>\n",
       "    </tr>\n",
       "    <tr>\n",
       "      <th>5</th>\n",
       "      <td>1598298</td>\n",
       "      <td>1598298</td>\n",
       "    </tr>\n",
       "  </tbody>\n",
       "</table>\n",
       "</div>"
      ],
      "text/plain": [
       "                movie     user\n",
       "rating_score                  \n",
       "1              223618   223618\n",
       "2              562898   562898\n",
       "3             1558336  1558336\n",
       "4             2254707  2254707\n",
       "5             1598298  1598298"
      ]
     },
     "execution_count": 94,
     "metadata": {},
     "output_type": "execute_result"
    }
   ],
   "source": [
    "X_train.groupby('rating_score').count()"
   ]
  },
  {
   "cell_type": "code",
   "execution_count": 63,
   "id": "38803a74",
   "metadata": {},
   "outputs": [],
   "source": [
    "import random\n",
    "from itertools import chain\n",
    "def flatten(list_of_lists):\n",
    "    \"Flatten one level of nesting\"\n",
    "    return chain.from_iterable(list_of_lists)"
   ]
  },
  {
   "cell_type": "code",
   "execution_count": 95,
   "id": "6594d09a",
   "metadata": {},
   "outputs": [],
   "source": [
    "to_drop = []\n",
    "for rating in [3,4,5]:\n",
    "    temp_df = X_train[X_train.rating_score==rating]\n",
    "    to_drop.append(random.choices(temp_df.index, k=int(len(temp_df)*.95)))\n",
    "    \n",
    "to_drop = list(flatten(to_drop))"
   ]
  },
  {
   "cell_type": "code",
   "execution_count": 96,
   "id": "17aaf0ac",
   "metadata": {},
   "outputs": [],
   "source": [
    "X_train_reduced = X_train.drop(index=to_drop)"
   ]
  },
  {
   "cell_type": "code",
   "execution_count": 97,
   "id": "ff0ad0b5",
   "metadata": {},
   "outputs": [
    {
     "data": {
      "text/plain": [
       "((6197857, 3), (2879395, 3))"
      ]
     },
     "execution_count": 97,
     "metadata": {},
     "output_type": "execute_result"
    }
   ],
   "source": [
    "X_train.shape, X_train_reduced.shape"
   ]
  },
  {
   "cell_type": "code",
   "execution_count": 99,
   "id": "eb538792",
   "metadata": {
    "collapsed": true
   },
   "outputs": [
    {
     "name": "stdout",
     "output_type": "stream",
     "text": [
      "Epoch 1/100\n",
      "1/1 [==============================] - 5s 5s/step - loss: 1.2243 - root_mean_squared_error: 1.0039 - val_loss: 1.1510 - val_root_mean_squared_error: 0.9668\n",
      "Epoch 2/100\n",
      "1/1 [==============================] - 5s 5s/step - loss: 1.2104 - root_mean_squared_error: 0.9970 - val_loss: 1.1557 - val_root_mean_squared_error: 0.9691\n",
      "Epoch 3/100\n",
      "1/1 [==============================] - 4s 4s/step - loss: 1.2095 - root_mean_squared_error: 0.9965 - val_loss: 1.1403 - val_root_mean_squared_error: 0.9610\n",
      "Epoch 4/100\n",
      "1/1 [==============================] - 5s 5s/step - loss: 1.1970 - root_mean_squared_error: 0.9901 - val_loss: 1.1135 - val_root_mean_squared_error: 0.9468\n",
      "Epoch 5/100\n",
      "1/1 [==============================] - 4s 4s/step - loss: 1.1779 - root_mean_squared_error: 0.9802 - val_loss: 1.0990 - val_root_mean_squared_error: 0.9389\n",
      "Epoch 6/100\n",
      "1/1 [==============================] - 4s 4s/step - loss: 1.1725 - root_mean_squared_error: 0.9772 - val_loss: 1.1004 - val_root_mean_squared_error: 0.9397\n",
      "Epoch 7/100\n",
      "1/1 [==============================] - 4s 4s/step - loss: 1.1802 - root_mean_squared_error: 0.9812 - val_loss: 1.1021 - val_root_mean_squared_error: 0.9409\n",
      "Epoch 8/100\n",
      "1/1 [==============================] - 5s 5s/step - loss: 1.1809 - root_mean_squared_error: 0.9820 - val_loss: 1.0984 - val_root_mean_squared_error: 0.9399\n",
      "Epoch 9/100\n",
      "1/1 [==============================] - 4s 4s/step - loss: 1.1695 - root_mean_squared_error: 0.9770 - val_loss: 1.0969 - val_root_mean_squared_error: 0.9404\n",
      "Epoch 10/100\n",
      "1/1 [==============================] - 4s 4s/step - loss: 1.1575 - root_mean_squared_error: 0.9721 - val_loss: 1.1011 - val_root_mean_squared_error: 0.9441\n",
      "Epoch 11/100\n",
      "1/1 [==============================] - 4s 4s/step - loss: 1.1519 - root_mean_squared_error: 0.9707 - val_loss: 1.1037 - val_root_mean_squared_error: 0.9471\n",
      "Epoch 12/100\n",
      "1/1 [==============================] - 5s 5s/step - loss: 1.1483 - root_mean_squared_error: 0.9704 - val_loss: 1.0989 - val_root_mean_squared_error: 0.9461\n",
      "Epoch 13/100\n",
      "1/1 [==============================] - 4s 4s/step - loss: 1.1405 - root_mean_squared_error: 0.9678 - val_loss: 1.0917 - val_root_mean_squared_error: 0.9437\n",
      "Epoch 14/100\n",
      "1/1 [==============================] - 4s 4s/step - loss: 1.1325 - root_mean_squared_error: 0.9651 - val_loss: 1.0893 - val_root_mean_squared_error: 0.9436\n",
      "Epoch 15/100\n",
      "1/1 [==============================] - 4s 4s/step - loss: 1.1305 - root_mean_squared_error: 0.9652 - val_loss: 1.0909 - val_root_mean_squared_error: 0.9455\n",
      "Epoch 16/100\n",
      "1/1 [==============================] - 5s 5s/step - loss: 1.1316 - root_mean_squared_error: 0.9668 - val_loss: 1.0908 - val_root_mean_squared_error: 0.9463\n",
      "Epoch 17/100\n",
      "1/1 [==============================] - 4s 4s/step - loss: 1.1294 - root_mean_squared_error: 0.9665 - val_loss: 1.0885 - val_root_mean_squared_error: 0.9459\n",
      "Epoch 18/100\n",
      "1/1 [==============================] - 5s 5s/step - loss: 1.1231 - root_mean_squared_error: 0.9640 - val_loss: 1.0880 - val_root_mean_squared_error: 0.9462\n",
      "Epoch 19/100\n",
      "1/1 [==============================] - 4s 4s/step - loss: 1.1174 - root_mean_squared_error: 0.9616 - val_loss: 1.0895 - val_root_mean_squared_error: 0.9473\n",
      "Epoch 20/100\n",
      "1/1 [==============================] - 4s 4s/step - loss: 1.1153 - root_mean_squared_error: 0.9609 - val_loss: 1.0890 - val_root_mean_squared_error: 0.9474\n",
      "Epoch 21/100\n",
      "1/1 [==============================] - 4s 4s/step - loss: 1.1123 - root_mean_squared_error: 0.9596 - val_loss: 1.0852 - val_root_mean_squared_error: 0.9456\n",
      "Epoch 22/100\n",
      "1/1 [==============================] - 4s 4s/step - loss: 1.1079 - root_mean_squared_error: 0.9575 - val_loss: 1.0811 - val_root_mean_squared_error: 0.9437\n",
      "Epoch 23/100\n",
      "1/1 [==============================] - 4s 4s/step - loss: 1.1051 - root_mean_squared_error: 0.9563 - val_loss: 1.0795 - val_root_mean_squared_error: 0.9431\n",
      "Epoch 24/100\n",
      "1/1 [==============================] - 4s 4s/step - loss: 1.1047 - root_mean_squared_error: 0.9564 - val_loss: 1.0792 - val_root_mean_squared_error: 0.9434\n",
      "Epoch 25/100\n",
      "1/1 [==============================] - 4s 4s/step - loss: 1.1037 - root_mean_squared_error: 0.9563 - val_loss: 1.0786 - val_root_mean_squared_error: 0.9436\n",
      "Epoch 26/100\n",
      "1/1 [==============================] - 4s 4s/step - loss: 1.1005 - root_mean_squared_error: 0.9551 - val_loss: 1.0782 - val_root_mean_squared_error: 0.9441\n",
      "Epoch 27/100\n",
      "1/1 [==============================] - 4s 4s/step - loss: 1.0963 - root_mean_squared_error: 0.9536 - val_loss: 1.0789 - val_root_mean_squared_error: 0.9452\n",
      "Epoch 28/100\n",
      "1/1 [==============================] - 5s 5s/step - loss: 1.0936 - root_mean_squared_error: 0.9530 - val_loss: 1.0797 - val_root_mean_squared_error: 0.9464\n",
      "Epoch 29/100\n",
      "1/1 [==============================] - 4s 4s/step - loss: 1.0911 - root_mean_squared_error: 0.9524 - val_loss: 1.0786 - val_root_mean_squared_error: 0.9466\n",
      "Epoch 30/100\n",
      "1/1 [==============================] - 4s 4s/step - loss: 1.0896 - root_mean_squared_error: 0.9524 - val_loss: 1.0760 - val_root_mean_squared_error: 0.9459\n",
      "Epoch 31/100\n",
      "1/1 [==============================] - 5s 5s/step - loss: 1.0858 - root_mean_squared_error: 0.9511 - val_loss: 1.0737 - val_root_mean_squared_error: 0.9453\n",
      "Epoch 32/100\n",
      "1/1 [==============================] - 5s 5s/step - loss: 1.0838 - root_mean_squared_error: 0.9506 - val_loss: 1.0726 - val_root_mean_squared_error: 0.9453\n",
      "Epoch 33/100\n",
      "1/1 [==============================] - 4s 4s/step - loss: 1.0838 - root_mean_squared_error: 0.9512 - val_loss: 1.0717 - val_root_mean_squared_error: 0.9453\n",
      "Epoch 34/100\n",
      "1/1 [==============================] - 4s 4s/step - loss: 1.0813 - root_mean_squared_error: 0.9504 - val_loss: 1.0709 - val_root_mean_squared_error: 0.9454\n",
      "Epoch 35/100\n",
      "1/1 [==============================] - 5s 5s/step - loss: 1.0784 - root_mean_squared_error: 0.9493 - val_loss: 1.0707 - val_root_mean_squared_error: 0.9456\n"
     ]
    }
   ],
   "source": [
    "output_reduced = model.fit([X_train_reduced.movie, X_train_reduced.user], \n",
    "                             X_train_reduced.rating_score,  \n",
    "                             batch_size=len(X_train_reduced), epochs=100, validation_split=.2,\n",
    "                          callbacks=[callback])"
   ]
  },
  {
   "cell_type": "code",
   "execution_count": null,
   "id": "ca05c2d0",
   "metadata": {},
   "outputs": [],
   "source": []
  },
  {
   "cell_type": "code",
   "execution_count": null,
   "id": "48665f9b",
   "metadata": {},
   "outputs": [],
   "source": []
  },
  {
   "cell_type": "code",
   "execution_count": null,
   "id": "e379f897",
   "metadata": {},
   "outputs": [],
   "source": []
  },
  {
   "cell_type": "code",
   "execution_count": 37,
   "id": "5c50f275",
   "metadata": {},
   "outputs": [
    {
     "data": {
      "text/html": [
       "<div>\n",
       "<style scoped>\n",
       "    .dataframe tbody tr th:only-of-type {\n",
       "        vertical-align: middle;\n",
       "    }\n",
       "\n",
       "    .dataframe tbody tr th {\n",
       "        vertical-align: top;\n",
       "    }\n",
       "\n",
       "    .dataframe thead th {\n",
       "        text-align: right;\n",
       "    }\n",
       "</style>\n",
       "<table border=\"1\" class=\"dataframe\">\n",
       "  <thead>\n",
       "    <tr style=\"text-align: right;\">\n",
       "      <th></th>\n",
       "      <th>movie</th>\n",
       "      <th>user</th>\n",
       "      <th>rating_score</th>\n",
       "    </tr>\n",
       "  </thead>\n",
       "  <tbody>\n",
       "    <tr>\n",
       "      <th>7200141</th>\n",
       "      <td>16545</td>\n",
       "      <td>33559</td>\n",
       "      <td>5</td>\n",
       "    </tr>\n",
       "    <tr>\n",
       "      <th>12173871</th>\n",
       "      <td>134</td>\n",
       "      <td>47103</td>\n",
       "      <td>5</td>\n",
       "    </tr>\n",
       "    <tr>\n",
       "      <th>12465191</th>\n",
       "      <td>154</td>\n",
       "      <td>7801</td>\n",
       "      <td>4</td>\n",
       "    </tr>\n",
       "    <tr>\n",
       "      <th>14220713</th>\n",
       "      <td>430</td>\n",
       "      <td>30313</td>\n",
       "      <td>4</td>\n",
       "    </tr>\n",
       "    <tr>\n",
       "      <th>14278381</th>\n",
       "      <td>453</td>\n",
       "      <td>47719</td>\n",
       "      <td>3</td>\n",
       "    </tr>\n",
       "    <tr>\n",
       "      <th>...</th>\n",
       "      <td>...</td>\n",
       "      <td>...</td>\n",
       "      <td>...</td>\n",
       "    </tr>\n",
       "    <tr>\n",
       "      <th>13103480</th>\n",
       "      <td>212</td>\n",
       "      <td>38730</td>\n",
       "      <td>4</td>\n",
       "    </tr>\n",
       "    <tr>\n",
       "      <th>3382915</th>\n",
       "      <td>3297</td>\n",
       "      <td>8140</td>\n",
       "      <td>4</td>\n",
       "    </tr>\n",
       "    <tr>\n",
       "      <th>7663499</th>\n",
       "      <td>20601</td>\n",
       "      <td>45826</td>\n",
       "      <td>5</td>\n",
       "    </tr>\n",
       "    <tr>\n",
       "      <th>12216674</th>\n",
       "      <td>136</td>\n",
       "      <td>32716</td>\n",
       "      <td>5</td>\n",
       "    </tr>\n",
       "    <tr>\n",
       "      <th>12047420</th>\n",
       "      <td>124</td>\n",
       "      <td>36000</td>\n",
       "      <td>4</td>\n",
       "    </tr>\n",
       "  </tbody>\n",
       "</table>\n",
       "<p>6197857 rows × 3 columns</p>\n",
       "</div>"
      ],
      "text/plain": [
       "          movie   user  rating_score\n",
       "7200141   16545  33559             5\n",
       "12173871    134  47103             5\n",
       "12465191    154   7801             4\n",
       "14220713    430  30313             4\n",
       "14278381    453  47719             3\n",
       "...         ...    ...           ...\n",
       "13103480    212  38730             4\n",
       "3382915    3297   8140             4\n",
       "7663499   20601  45826             5\n",
       "12216674    136  32716             5\n",
       "12047420    124  36000             4\n",
       "\n",
       "[6197857 rows x 3 columns]"
      ]
     },
     "execution_count": 37,
     "metadata": {},
     "output_type": "execute_result"
    }
   ],
   "source": [
    "X_train"
   ]
  },
  {
   "cell_type": "code",
   "execution_count": 38,
   "id": "4915624c",
   "metadata": {},
   "outputs": [
    {
     "data": {
      "text/html": [
       "<div>\n",
       "<style scoped>\n",
       "    .dataframe tbody tr th:only-of-type {\n",
       "        vertical-align: middle;\n",
       "    }\n",
       "\n",
       "    .dataframe tbody tr th {\n",
       "        vertical-align: top;\n",
       "    }\n",
       "\n",
       "    .dataframe thead th {\n",
       "        text-align: right;\n",
       "    }\n",
       "</style>\n",
       "<table border=\"1\" class=\"dataframe\">\n",
       "  <thead>\n",
       "    <tr style=\"text-align: right;\">\n",
       "      <th></th>\n",
       "      <th>movie</th>\n",
       "      <th>rating_score</th>\n",
       "    </tr>\n",
       "    <tr>\n",
       "      <th>user</th>\n",
       "      <th></th>\n",
       "      <th></th>\n",
       "    </tr>\n",
       "  </thead>\n",
       "  <tbody>\n",
       "    <tr>\n",
       "      <th>28524</th>\n",
       "      <td>734</td>\n",
       "      <td>734</td>\n",
       "    </tr>\n",
       "    <tr>\n",
       "      <th>58315</th>\n",
       "      <td>733</td>\n",
       "      <td>733</td>\n",
       "    </tr>\n",
       "    <tr>\n",
       "      <th>16167</th>\n",
       "      <td>729</td>\n",
       "      <td>729</td>\n",
       "    </tr>\n",
       "    <tr>\n",
       "      <th>49758</th>\n",
       "      <td>728</td>\n",
       "      <td>728</td>\n",
       "    </tr>\n",
       "    <tr>\n",
       "      <th>31549</th>\n",
       "      <td>726</td>\n",
       "      <td>726</td>\n",
       "    </tr>\n",
       "  </tbody>\n",
       "</table>\n",
       "</div>"
      ],
      "text/plain": [
       "       movie  rating_score\n",
       "user                      \n",
       "28524    734           734\n",
       "58315    733           733\n",
       "16167    729           729\n",
       "49758    728           728\n",
       "31549    726           726"
      ]
     },
     "execution_count": 38,
     "metadata": {},
     "output_type": "execute_result"
    }
   ],
   "source": [
    "X_train.groupby('user').count().sort_values(by='movie',ascending=False).head()"
   ]
  },
  {
   "cell_type": "code",
   "execution_count": 123,
   "id": "cbda0065",
   "metadata": {},
   "outputs": [
    {
     "data": {
      "text/html": [
       "<div>\n",
       "<style scoped>\n",
       "    .dataframe tbody tr th:only-of-type {\n",
       "        vertical-align: middle;\n",
       "    }\n",
       "\n",
       "    .dataframe tbody tr th {\n",
       "        vertical-align: top;\n",
       "    }\n",
       "\n",
       "    .dataframe thead th {\n",
       "        text-align: right;\n",
       "    }\n",
       "</style>\n",
       "<table border=\"1\" class=\"dataframe\">\n",
       "  <thead>\n",
       "    <tr style=\"text-align: right;\">\n",
       "      <th></th>\n",
       "      <th>movie_id</th>\n",
       "      <th>rating_score</th>\n",
       "      <th>user_id</th>\n",
       "      <th>user</th>\n",
       "      <th>movie</th>\n",
       "    </tr>\n",
       "  </thead>\n",
       "  <tbody>\n",
       "    <tr>\n",
       "      <th>13381</th>\n",
       "      <td>1085</td>\n",
       "      <td>4</td>\n",
       "      <td>89904558</td>\n",
       "      <td>58315</td>\n",
       "      <td>1038</td>\n",
       "    </tr>\n",
       "    <tr>\n",
       "      <th>19800</th>\n",
       "      <td>1094</td>\n",
       "      <td>4</td>\n",
       "      <td>89904558</td>\n",
       "      <td>58315</td>\n",
       "      <td>1047</td>\n",
       "    </tr>\n",
       "    <tr>\n",
       "      <th>23850</th>\n",
       "      <td>1099</td>\n",
       "      <td>2</td>\n",
       "      <td>89904558</td>\n",
       "      <td>58315</td>\n",
       "      <td>1052</td>\n",
       "    </tr>\n",
       "    <tr>\n",
       "      <th>35843</th>\n",
       "      <td>1103</td>\n",
       "      <td>5</td>\n",
       "      <td>89904558</td>\n",
       "      <td>58315</td>\n",
       "      <td>1056</td>\n",
       "    </tr>\n",
       "    <tr>\n",
       "      <th>48584</th>\n",
       "      <td>1116</td>\n",
       "      <td>3</td>\n",
       "      <td>89904558</td>\n",
       "      <td>58315</td>\n",
       "      <td>1069</td>\n",
       "    </tr>\n",
       "    <tr>\n",
       "      <th>...</th>\n",
       "      <td>...</td>\n",
       "      <td>...</td>\n",
       "      <td>...</td>\n",
       "      <td>...</td>\n",
       "      <td>...</td>\n",
       "    </tr>\n",
       "    <tr>\n",
       "      <th>15428890</th>\n",
       "      <td>981</td>\n",
       "      <td>2</td>\n",
       "      <td>89904558</td>\n",
       "      <td>58315</td>\n",
       "      <td>941</td>\n",
       "    </tr>\n",
       "    <tr>\n",
       "      <th>15489675</th>\n",
       "      <td>1046</td>\n",
       "      <td>3</td>\n",
       "      <td>89904558</td>\n",
       "      <td>58315</td>\n",
       "      <td>1002</td>\n",
       "    </tr>\n",
       "    <tr>\n",
       "      <th>15493413</th>\n",
       "      <td>1047</td>\n",
       "      <td>2</td>\n",
       "      <td>89904558</td>\n",
       "      <td>58315</td>\n",
       "      <td>1003</td>\n",
       "    </tr>\n",
       "    <tr>\n",
       "      <th>15498925</th>\n",
       "      <td>1049</td>\n",
       "      <td>2</td>\n",
       "      <td>89904558</td>\n",
       "      <td>58315</td>\n",
       "      <td>1005</td>\n",
       "    </tr>\n",
       "    <tr>\n",
       "      <th>15501406</th>\n",
       "      <td>1050</td>\n",
       "      <td>3</td>\n",
       "      <td>89904558</td>\n",
       "      <td>58315</td>\n",
       "      <td>1006</td>\n",
       "    </tr>\n",
       "  </tbody>\n",
       "</table>\n",
       "<p>998 rows × 5 columns</p>\n",
       "</div>"
      ],
      "text/plain": [
       "          movie_id  rating_score   user_id   user  movie\n",
       "13381         1085             4  89904558  58315   1038\n",
       "19800         1094             4  89904558  58315   1047\n",
       "23850         1099             2  89904558  58315   1052\n",
       "35843         1103             5  89904558  58315   1056\n",
       "48584         1116             3  89904558  58315   1069\n",
       "...            ...           ...       ...    ...    ...\n",
       "15428890       981             2  89904558  58315    941\n",
       "15489675      1046             3  89904558  58315   1002\n",
       "15493413      1047             2  89904558  58315   1003\n",
       "15498925      1049             2  89904558  58315   1005\n",
       "15501406      1050             3  89904558  58315   1006\n",
       "\n",
       "[998 rows x 5 columns]"
      ]
     },
     "execution_count": 123,
     "metadata": {},
     "output_type": "execute_result"
    }
   ],
   "source": [
    "user = 58315\n",
    "ratings[ratings.user==user]"
   ]
  },
  {
   "cell_type": "code",
   "execution_count": 124,
   "id": "d6c301d0",
   "metadata": {},
   "outputs": [],
   "source": [
    "movie_array = ratings[ratings.user==user].movie.values.astype(int)\n",
    "user_array = np.array([int(user) for n in range(len(movie_array))])"
   ]
  },
  {
   "cell_type": "code",
   "execution_count": 125,
   "id": "3d623231",
   "metadata": {},
   "outputs": [],
   "source": [
    "pred = model.predict([movie_array, user_array])"
   ]
  },
  {
   "cell_type": "code",
   "execution_count": 42,
   "id": "f2cf28b1",
   "metadata": {},
   "outputs": [],
   "source": [
    "def is_close_enough(pred, ratings):\n",
    "    val = []\n",
    "    for pair in zip(pred, ratings):\n",
    "        if pair[1] == 5:\n",
    "            val.append(pair[1] - 1 <= pair[0])\n",
    "        else:\n",
    "            val.append(pair[1] - .5 <= pair[0] <= pair[1] + .5)\n",
    "        \n",
    "    return val"
   ]
  },
  {
   "cell_type": "code",
   "execution_count": 126,
   "id": "6a76c0e2",
   "metadata": {},
   "outputs": [],
   "source": [
    "val = is_close_enough(np.round(pred.flatten(), 1), ratings[ratings.user==user].rating_score.values)"
   ]
  },
  {
   "cell_type": "code",
   "execution_count": 127,
   "id": "bda74ba0",
   "metadata": {},
   "outputs": [
    {
     "data": {
      "text/plain": [
       "0.5661322645290581"
      ]
     },
     "execution_count": 127,
     "metadata": {},
     "output_type": "execute_result"
    }
   ],
   "source": [
    "sum(val) / len(pred.flatten())"
   ]
  },
  {
   "cell_type": "code",
   "execution_count": 130,
   "id": "d7197171",
   "metadata": {},
   "outputs": [
    {
     "data": {
      "image/png": "[encoded data removed]",
      "text/plain": [
       "<Figure size 432x288 with 1 Axes>"
      ]
     },
     "metadata": {
      "needs_background": "light"
     },
     "output_type": "display_data"
    }
   ],
   "source": [
    "sns.histplot(pred.flatten(), bins=4, color='red', fill=False)\n",
    "sns.histplot(X_train[X_train.user==user].rating_score.values, bins=5, color='blue', fill=False)\n",
    "\n",
    "plt.show()"
   ]
  },
  {
   "cell_type": "code",
   "execution_count": 129,
   "id": "70f56664",
   "metadata": {},
   "outputs": [],
   "source": [
    "top_20_users = X_train.groupby('user').count().sort_values(by='movie',ascending=False).head(20).index"
   ]
  },
  {
   "cell_type": "code",
   "execution_count": 136,
   "id": "e076d9d5",
   "metadata": {},
   "outputs": [
    {
     "name": "stdout",
     "output_type": "stream",
     "text": [
      "28524 0.4673024523160763\n",
      "58315 0.4120054570259209\n",
      "16167 0.4993141289437586\n",
      "49758 0.35027472527472525\n",
      "31549 0.36363636363636365\n",
      "18058 0.3623789764868603\n",
      "7152 0.5877437325905293\n",
      "60448 0.5678321678321678\n",
      "22850 0.6489510489510489\n",
      "39706 0.2654494382022472\n",
      "17797 0.32724719101123595\n",
      "24713 0.5850914205344585\n",
      "26424 0.3563380281690141\n",
      "39928 0.5070422535211268\n",
      "64166 0.4076163610719323\n",
      "29252 0.306064880112835\n",
      "32438 0.5296610169491526\n",
      "53545 0.3347457627118644\n",
      "40384 0.32390381895332393\n",
      "20035 0.4073550212164074\n"
     ]
    }
   ],
   "source": [
    "predictions = []\n",
    "\n",
    "for user in top_20_users:\n",
    "    movie_array = X_train[X_train.user==user].movie.values.astype(int)\n",
    "    user_array = np.array([int(user) for n in range(len(movie_array))])\n",
    "    pred = model.predict([movie_array, user_array])\n",
    "    val = is_close_enough(np.round(pred.flatten(), 1), ratings[ratings.user==user].rating_score.values)\n",
    "    \n",
    "    predictions.append(list(pred.flatten()))\n",
    "    print(user, sum(val) / len(pred.flatten()))"
   ]
  },
  {
   "cell_type": "code",
   "execution_count": 139,
   "id": "eb23a4f7",
   "metadata": {},
   "outputs": [
    {
     "data": {
      "image/png": "[encoded data removed]",
      "text/plain": [
       "<Figure size 432x288 with 1 Axes>"
      ]
     },
     "metadata": {
      "needs_background": "light"
     },
     "output_type": "display_data"
    }
   ],
   "source": [
    "sns.histplot(list(flatten(predictions)), bins=5, color='red', fill=False)\n",
    "sns.histplot(X_train[X_train.user.isin(top_20_users)].rating_score.values, bins=5, color='blue', fill=False)\n",
    "\n",
    "plt.show()"
   ]
  },
  {
   "cell_type": "code",
   "execution_count": null,
   "id": "e0b728db",
   "metadata": {},
   "outputs": [],
   "source": []
  }
 ],
 "metadata": {
  "kernelspec": {
   "display_name": "tf_env",
   "language": "python",
   "name": "tf_env"
  },
  "language_info": {
   "codemirror_mode": {
    "name": "ipython",
    "version": 3
   },
   "file_extension": ".py",
   "mimetype": "text/x-python",
   "name": "python",
   "nbconvert_exporter": "python",
   "pygments_lexer": "ipython3",
   "version": "3.8.5"
  }
 },
 "nbformat": 4,
 "nbformat_minor": 5
}
