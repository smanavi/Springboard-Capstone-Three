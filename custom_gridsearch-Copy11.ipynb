{
 "cells": [
  {
   "cell_type": "code",
   "execution_count": 1,
   "id": "d559540b",
   "metadata": {},
   "outputs": [],
   "source": [
    "import tensorflow as tf\n",
    "# from tensorboard.plugins.hparams import api as hp\n",
    "from tensorflow import keras"
   ]
  },
  {
   "cell_type": "code",
   "execution_count": 2,
   "id": "6b1d7c5b",
   "metadata": {},
   "outputs": [],
   "source": [
    "import pandas as pd\n",
    "import numpy as np\n",
    "from sklearn.model_selection import train_test_split\n",
    "from sklearn.preprocessing import LabelEncoder"
   ]
  },
  {
   "cell_type": "code",
   "execution_count": 3,
   "id": "d0d1933e",
   "metadata": {},
   "outputs": [],
   "source": [
    "ratings = pd.read_pickle(\"./Data/small_random_selection_longform.pkl\")\n",
    "ratings2 = pd.read_pickle(\"./Data/small_random_selection_longform_2.pkl\")"
   ]
  },
  {
   "cell_type": "code",
   "execution_count": 4,
   "id": "dfa6ddc6",
   "metadata": {},
   "outputs": [
    {
     "data": {
      "text/plain": [
       "(555154, 555847)"
      ]
     },
     "execution_count": 4,
     "metadata": {},
     "output_type": "execute_result"
    }
   ],
   "source": [
    "len(ratings), len(ratings2)"
   ]
  },
  {
   "cell_type": "code",
   "execution_count": 5,
   "id": "d41060b7",
   "metadata": {},
   "outputs": [],
   "source": [
    "ratings = pd.concat([ratings, ratings2])"
   ]
  },
  {
   "cell_type": "code",
   "execution_count": 6,
   "id": "c31133dd",
   "metadata": {},
   "outputs": [
    {
     "data": {
      "text/plain": [
       "(1111001, 3)"
      ]
     },
     "execution_count": 6,
     "metadata": {},
     "output_type": "execute_result"
    }
   ],
   "source": [
    "ratings.shape"
   ]
  },
  {
   "cell_type": "code",
   "execution_count": 7,
   "id": "ed802e8a",
   "metadata": {},
   "outputs": [
    {
     "data": {
      "text/plain": [
       "Int64Index([  4294,   6534,   6638,   7423,   7683,   7752,   9272,  11111,\n",
       "             11782,  12377,\n",
       "            ...\n",
       "            686342, 686352, 686356, 686360, 686361, 686370, 686404, 686407,\n",
       "            686408, 686411],\n",
       "           dtype='int64', length=104464)"
      ]
     },
     "execution_count": 7,
     "metadata": {},
     "output_type": "execute_result"
    }
   ],
   "source": [
    "ratings[ratings.duplicated(keep='first')].index"
   ]
  },
  {
   "cell_type": "code",
   "execution_count": 8,
   "id": "7b5536a8",
   "metadata": {},
   "outputs": [],
   "source": [
    "ratings.drop(index=ratings[ratings.duplicated(keep='first')].index, inplace=True)"
   ]
  },
  {
   "cell_type": "code",
   "execution_count": 9,
   "id": "9586f72c",
   "metadata": {},
   "outputs": [
    {
     "data": {
      "text/plain": [
       "(44012, 37296)"
      ]
     },
     "execution_count": 9,
     "metadata": {},
     "output_type": "execute_result"
    }
   ],
   "source": [
    "user_enc = LabelEncoder()\n",
    "ratings['user'] = user_enc.fit_transform(ratings['user_id'].values)\n",
    "n_users = ratings['user'].nunique()\n",
    "\n",
    "item_enc = LabelEncoder()\n",
    "ratings['movie'] = item_enc.fit_transform(ratings['movie_id'].values)\n",
    "n_movies = ratings['movie'].nunique()\n",
    "\n",
    "nmovie_id = ratings.movie_id.nunique()\n",
    "nuser_id = ratings.user_id.nunique()\n",
    "\n",
    "n_users, n_movies"
   ]
  },
  {
   "cell_type": "code",
   "execution_count": null,
   "id": "23e72927",
   "metadata": {},
   "outputs": [],
   "source": [
    "# user_enc2 = LabelEncoder()\n",
    "# ratings2['user'] = user_enc2.fit_transform(ratings2['user_id'].values)\n",
    "# n_users2 = ratings2['user'].nunique()\n",
    "\n",
    "# item_enc2 = LabelEncoder()\n",
    "# ratings2['movie'] = item_enc2.fit_transform(ratings2['movie_id'].values)\n",
    "# n_movies2 = ratings2['movie'].nunique()\n",
    "\n",
    "# nmovie_id2 = ratings2.movie_id.nunique()\n",
    "# nuser_id2 = ratings2.user_id.nunique()\n",
    "\n",
    "# n_users2, n_movies2"
   ]
  },
  {
   "cell_type": "code",
   "execution_count": null,
   "id": "b4485e57",
   "metadata": {},
   "outputs": [],
   "source": []
  },
  {
   "cell_type": "code",
   "execution_count": 10,
   "id": "1b38bee2",
   "metadata": {},
   "outputs": [],
   "source": [
    "X_train, X_test = train_test_split(ratings[['movie', 'user', 'rating_score']], test_size=0.3, random_state=42)"
   ]
  },
  {
   "cell_type": "code",
   "execution_count": 11,
   "id": "43c9930f",
   "metadata": {},
   "outputs": [
    {
     "data": {
      "text/plain": [
       "650510"
      ]
     },
     "execution_count": 11,
     "metadata": {},
     "output_type": "execute_result"
    }
   ],
   "source": [
    "len(X_train)"
   ]
  },
  {
   "cell_type": "code",
   "execution_count": null,
   "id": "b94d88be",
   "metadata": {},
   "outputs": [],
   "source": [
    "# l2_1 = keras.regularizers.l2(.1)\n",
    "# l2_01 = 'l2'\n",
    "# l2_001 = keras.regularizers.l2(.001)"
   ]
  },
  {
   "cell_type": "code",
   "execution_count": 12,
   "id": "3a514f3f",
   "metadata": {},
   "outputs": [],
   "source": [
    "# HP_NUM_UNITS = [32, 128]\n",
    "# HP_DROPOUT = [.3, .4]\n",
    "HP_LEARNING_RATE = [.01, .1]\n",
    "# HP_REGULARIZER = ['l2']\n",
    "# HP_EMBEDDING = [15]"
   ]
  },
  {
   "cell_type": "code",
   "execution_count": 19,
   "id": "65b41da0",
   "metadata": {},
   "outputs": [],
   "source": [
    "def train_test_model(hparams):\n",
    "    \n",
    "    input_movies = keras.layers.Input(shape=[1])\n",
    "    embed_movies = keras.layers.Embedding(nmovie_id+1, 15)(input_movies)\n",
    "    movies_out = keras.layers.Flatten()(embed_movies)\n",
    "\n",
    "    input_users = keras.layers.Input(shape=[1])\n",
    "    embed_users = keras.layers.Embedding(nuser_id+1, 15)(input_users)\n",
    "    users_out = keras.layers.Flatten()(embed_users)\n",
    "\n",
    "    conc_layer = keras.layers.Concatenate()([movies_out, users_out])\n",
    "    x = keras.layers.Dense(128, \n",
    "                           activation='relu', \n",
    "                           kernel_regularizer='l2')(conc_layer)\n",
    "    \n",
    "    dropout = x = keras.layers.Dropout(rate=.3, seed=42)(x)\n",
    "    \n",
    "    dense2 = x = keras.layers.Dense(32, \n",
    "                           activation='relu', \n",
    "                           kernel_regularizer='l2')(x)\n",
    "    \n",
    "    dropout2 = x = keras.layers.Dropout(rate=.4, seed=42)(x)\n",
    "    \n",
    "    x_out = x = keras.layers.Dense(1, \n",
    "                                   activation='relu',\n",
    "                                  kernel_regularizer='l2')(x)\n",
    "\n",
    "    model = keras.Model([input_movies, input_users], x_out)\n",
    "    \n",
    "    opt = tf.optimizers.Adam(learning_rate=hparams['HP_LEARNING_RATE'])\n",
    "    model.compile(optimizer=opt, loss='mean_squared_error', metrics = keras.metrics.RootMeanSquaredError())\n",
    "    \n",
    "    hist = model.fit([X_train.movie, X_train.user], \n",
    "                 X_train.rating_score,  \n",
    "                 batch_size=len(X_train), epochs=100, validation_split=.2)\n",
    "\n",
    "#     print(hist.history['val_mean_squared_error'])\n",
    "    return hist, model"
   ]
  },
  {
   "cell_type": "code",
   "execution_count": 20,
   "id": "ce01ab92",
   "metadata": {
    "scrolled": true
   },
   "outputs": [
    {
     "name": "stdout",
     "output_type": "stream",
     "text": [
      "----Starting trial: run-0\n",
      "{'HP_LEARNING_RATE': 0.01}\n",
      "Epoch 1/100\n",
      "1/1 [==============================] - 3s 3s/step - loss: 16.4816 - root_mean_squared_error: 3.9330 - val_loss: 15.7256 - val_root_mean_squared_error: 3.8529\n",
      "Epoch 2/100\n",
      "1/1 [==============================] - 1s 1s/step - loss: 15.7213 - root_mean_squared_error: 3.8524 - val_loss: 14.7955 - val_root_mean_squared_error: 3.7436\n",
      "Epoch 3/100\n",
      "1/1 [==============================] - 1s 1s/step - loss: 14.7866 - root_mean_squared_error: 3.7424 - val_loss: 13.4727 - val_root_mean_squared_error: 3.5734\n",
      "Epoch 4/100\n",
      "1/1 [==============================] - 1s 1s/step - loss: 13.4678 - root_mean_squared_error: 3.5727 - val_loss: 11.6110 - val_root_mean_squared_error: 3.3112\n",
      "Epoch 5/100\n",
      "1/1 [==============================] - 1s 1s/step - loss: 11.6240 - root_mean_squared_error: 3.3132 - val_loss: 9.1498 - val_root_mean_squared_error: 2.9230\n",
      "Epoch 6/100\n",
      "1/1 [==============================] - 1s 1s/step - loss: 9.2118 - root_mean_squared_error: 2.9335 - val_loss: 6.2039 - val_root_mean_squared_error: 2.3714\n",
      "Epoch 7/100\n",
      "1/1 [==============================] - 1s 1s/step - loss: 6.3909 - root_mean_squared_error: 2.4105 - val_loss: 3.2763 - val_root_mean_squared_error: 1.6456\n",
      "Epoch 8/100\n",
      "1/1 [==============================] - 1s 1s/step - loss: 3.7564 - root_mean_squared_error: 1.7855 - val_loss: 1.6851 - val_root_mean_squared_error: 1.0562\n",
      "Epoch 9/100\n",
      "1/1 [==============================] - 1s 1s/step - loss: 2.7742 - root_mean_squared_error: 1.4848 - val_loss: 2.8709 - val_root_mean_squared_error: 1.5169\n",
      "Epoch 10/100\n",
      "1/1 [==============================] - 1s 1s/step - loss: 4.7958 - root_mean_squared_error: 2.0557 - val_loss: 3.3820 - val_root_mean_squared_error: 1.6841\n",
      "Epoch 11/100\n",
      "1/1 [==============================] - 1s 1s/step - loss: 5.4861 - root_mean_squared_error: 2.2227 - val_loss: 2.4616 - val_root_mean_squared_error: 1.3965\n",
      "Epoch 12/100\n",
      "1/1 [==============================] - 1s 1s/step - loss: 4.2690 - root_mean_squared_error: 1.9385 - val_loss: 1.5605 - val_root_mean_squared_error: 1.0418\n",
      "Epoch 13/100\n",
      "1/1 [==============================] - 1s 1s/step - loss: 2.9083 - root_mean_squared_error: 1.5599 - val_loss: 1.3477 - val_root_mean_squared_error: 0.9517\n",
      "Epoch 14/100\n",
      "1/1 [==============================] - 1s 1s/step - loss: 2.3152 - root_mean_squared_error: 1.3687 - val_loss: 1.6800 - val_root_mean_squared_error: 1.1251\n",
      "Epoch 15/100\n",
      "1/1 [==============================] - 1s 1s/step - loss: 2.3818 - root_mean_squared_error: 1.4027 - val_loss: 2.1566 - val_root_mean_squared_error: 1.3282\n",
      "Epoch 16/100\n",
      "1/1 [==============================] - 1s 1s/step - loss: 2.6967 - root_mean_squared_error: 1.5180 - val_loss: 2.5251 - val_root_mean_squared_error: 1.4658\n",
      "Epoch 17/100\n",
      "1/1 [==============================] - 1s 1s/step - loss: 2.9697 - root_mean_squared_error: 1.6104 - val_loss: 2.7052 - val_root_mean_squared_error: 1.5296\n",
      "Epoch 18/100\n",
      "1/1 [==============================] - 1s 1s/step - loss: 3.1089 - root_mean_squared_error: 1.6563 - val_loss: 2.6743 - val_root_mean_squared_error: 1.5217\n",
      "Epoch 19/100\n",
      "1/1 [==============================] - 1s 1s/step - loss: 3.0753 - root_mean_squared_error: 1.6482 - val_loss: 2.4655 - val_root_mean_squared_error: 1.4525\n",
      "Epoch 20/100\n",
      "1/1 [==============================] - 1s 1s/step - loss: 2.8784 - root_mean_squared_error: 1.5883 - val_loss: 2.1351 - val_root_mean_squared_error: 1.3340\n",
      "Epoch 21/100\n",
      "1/1 [==============================] - 1s 1s/step - loss: 2.6008 - root_mean_squared_error: 1.4984 - val_loss: 1.7595 - val_root_mean_squared_error: 1.1839\n",
      "Epoch 22/100\n",
      "1/1 [==============================] - 1s 1s/step - loss: 2.2858 - root_mean_squared_error: 1.3885 - val_loss: 1.4291 - val_root_mean_squared_error: 1.0331\n",
      "Epoch 23/100\n",
      "1/1 [==============================] - 1s 1s/step - loss: 2.0505 - root_mean_squared_error: 1.2995 - val_loss: 1.2256 - val_root_mean_squared_error: 0.9270\n",
      "Epoch 24/100\n",
      "1/1 [==============================] - 1s 1s/step - loss: 1.9700 - root_mean_squared_error: 1.2664 - val_loss: 1.1829 - val_root_mean_squared_error: 0.9013\n",
      "Epoch 25/100\n",
      "1/1 [==============================] - 1s 1s/step - loss: 2.0406 - root_mean_squared_error: 1.2923 - val_loss: 1.2527 - val_root_mean_squared_error: 0.9379\n",
      "Epoch 26/100\n",
      "1/1 [==============================] - 1s 1s/step - loss: 2.2001 - root_mean_squared_error: 1.3517 - val_loss: 1.3252 - val_root_mean_squared_error: 0.9761\n",
      "Epoch 27/100\n",
      "1/1 [==============================] - 1s 1s/step - loss: 2.3195 - root_mean_squared_error: 1.3953 - val_loss: 1.3178 - val_root_mean_squared_error: 0.9742\n",
      "Epoch 28/100\n",
      "1/1 [==============================] - 1s 1s/step - loss: 2.2922 - root_mean_squared_error: 1.3869 - val_loss: 1.2386 - val_root_mean_squared_error: 0.9362\n",
      "Epoch 29/100\n",
      "1/1 [==============================] - 1s 1s/step - loss: 2.1420 - root_mean_squared_error: 1.3341 - val_loss: 1.1629 - val_root_mean_squared_error: 0.8996\n",
      "Epoch 30/100\n",
      "1/1 [==============================] - 1s 1s/step - loss: 1.9620 - root_mean_squared_error: 1.2682 - val_loss: 1.1713 - val_root_mean_squared_error: 0.9093\n",
      "Epoch 31/100\n",
      "1/1 [==============================] - 1s 1s/step - loss: 1.8717 - root_mean_squared_error: 1.2358 - val_loss: 1.2502 - val_root_mean_squared_error: 0.9564\n",
      "Epoch 32/100\n",
      "1/1 [==============================] - 1s 1s/step - loss: 1.8592 - root_mean_squared_error: 1.2344 - val_loss: 1.3398 - val_root_mean_squared_error: 1.0064\n",
      "Epoch 33/100\n",
      "1/1 [==============================] - 1s 1s/step - loss: 1.8835 - root_mean_squared_error: 1.2476 - val_loss: 1.4032 - val_root_mean_squared_error: 1.0409\n",
      "Epoch 34/100\n",
      "1/1 [==============================] - 1s 1s/step - loss: 1.9047 - root_mean_squared_error: 1.2590 - val_loss: 1.4382 - val_root_mean_squared_error: 1.0604\n",
      "Epoch 35/100\n",
      "1/1 [==============================] - 1s 1s/step - loss: 1.9097 - root_mean_squared_error: 1.2633 - val_loss: 1.4314 - val_root_mean_squared_error: 1.0591\n",
      "Epoch 36/100\n",
      "1/1 [==============================] - 1s 1s/step - loss: 1.8937 - root_mean_squared_error: 1.2586 - val_loss: 1.3798 - val_root_mean_squared_error: 1.0358\n",
      "Epoch 37/100\n",
      "1/1 [==============================] - 1s 1s/step - loss: 1.8512 - root_mean_squared_error: 1.2427 - val_loss: 1.3000 - val_root_mean_squared_error: 0.9973\n",
      "Epoch 38/100\n",
      "1/1 [==============================] - 1s 1s/step - loss: 1.7882 - root_mean_squared_error: 1.2177 - val_loss: 1.2163 - val_root_mean_squared_error: 0.9548\n",
      "Epoch 39/100\n",
      "1/1 [==============================] - 1s 1s/step - loss: 1.7356 - root_mean_squared_error: 1.1962 - val_loss: 1.1507 - val_root_mean_squared_error: 0.9199\n",
      "Epoch 40/100\n",
      "1/1 [==============================] - 1s 1s/step - loss: 1.7060 - root_mean_squared_error: 1.1839 - val_loss: 1.1143 - val_root_mean_squared_error: 0.9001\n",
      "Epoch 41/100\n",
      "1/1 [==============================] - 1s 1s/step - loss: 1.7042 - root_mean_squared_error: 1.1832 - val_loss: 1.1033 - val_root_mean_squared_error: 0.8945\n",
      "Epoch 42/100\n",
      "1/1 [==============================] - 1s 1s/step - loss: 1.7209 - root_mean_squared_error: 1.1907 - val_loss: 1.1031 - val_root_mean_squared_error: 0.8954\n",
      "Epoch 43/100\n",
      "1/1 [==============================] - 1s 1s/step - loss: 1.7377 - root_mean_squared_error: 1.1985 - val_loss: 1.1001 - val_root_mean_squared_error: 0.8956\n",
      "Epoch 44/100\n",
      "1/1 [==============================] - ETA: 0s - loss: 1.7324 - root_mean_squared_error: 1.197 - 1s 1s/step - loss: 1.7324 - root_mean_squared_error: 1.1977 - val_loss: 1.0921 - val_root_mean_squared_error: 0.8936\n",
      "Epoch 45/100\n",
      "1/1 [==============================] - 1s 1s/step - loss: 1.7069 - root_mean_squared_error: 1.1888 - val_loss: 1.0871 - val_root_mean_squared_error: 0.8937\n",
      "Epoch 46/100\n",
      "1/1 [==============================] - 1s 1s/step - loss: 1.6678 - root_mean_squared_error: 1.1745 - val_loss: 1.0942 - val_root_mean_squared_error: 0.9009\n",
      "Epoch 47/100\n",
      "1/1 [==============================] - 1s 1s/step - loss: 1.6454 - root_mean_squared_error: 1.1674 - val_loss: 1.1153 - val_root_mean_squared_error: 0.9156\n",
      "Epoch 48/100\n",
      "1/1 [==============================] - 1s 1s/step - loss: 1.6277 - root_mean_squared_error: 1.1622 - val_loss: 1.1435 - val_root_mean_squared_error: 0.9338\n"
     ]
    },
    {
     "name": "stdout",
     "output_type": "stream",
     "text": [
      "Epoch 49/100\n",
      "1/1 [==============================] - 1s 1s/step - loss: 1.6308 - root_mean_squared_error: 1.1659 - val_loss: 1.1672 - val_root_mean_squared_error: 0.9488\n",
      "Epoch 50/100\n",
      "1/1 [==============================] - 1s 1s/step - loss: 1.6339 - root_mean_squared_error: 1.1692 - val_loss: 1.1767 - val_root_mean_squared_error: 0.9559\n",
      "Epoch 51/100\n",
      "1/1 [==============================] - 1s 1s/step - loss: 1.6348 - root_mean_squared_error: 1.1713 - val_loss: 1.1684 - val_root_mean_squared_error: 0.9532\n",
      "Epoch 52/100\n",
      "1/1 [==============================] - 1s 1s/step - loss: 1.6253 - root_mean_squared_error: 1.1685 - val_loss: 1.1452 - val_root_mean_squared_error: 0.9422\n",
      "Epoch 53/100\n",
      "1/1 [==============================] - 1s 1s/step - loss: 1.6058 - root_mean_squared_error: 1.1611 - val_loss: 1.1145 - val_root_mean_squared_error: 0.9267\n",
      "Epoch 54/100\n",
      "1/1 [==============================] - 1s 1s/step - loss: 1.5926 - root_mean_squared_error: 1.1562 - val_loss: 1.0849 - val_root_mean_squared_error: 0.9114\n",
      "Epoch 55/100\n",
      "1/1 [==============================] - 1s 1s/step - loss: 1.5797 - root_mean_squared_error: 1.1513 - val_loss: 1.0627 - val_root_mean_squared_error: 0.8999\n",
      "Epoch 56/100\n",
      "1/1 [==============================] - 1s 1s/step - loss: 1.5752 - root_mean_squared_error: 1.1499 - val_loss: 1.0493 - val_root_mean_squared_error: 0.8934\n",
      "Epoch 57/100\n",
      "1/1 [==============================] - 1s 1s/step - loss: 1.5744 - root_mean_squared_error: 1.1504 - val_loss: 1.0422 - val_root_mean_squared_error: 0.8908\n",
      "Epoch 58/100\n",
      "1/1 [==============================] - 1s 1s/step - loss: 1.5714 - root_mean_squared_error: 1.1501 - val_loss: 1.0386 - val_root_mean_squared_error: 0.8904\n",
      "Epoch 59/100\n",
      "1/1 [==============================] - 1s 1s/step - loss: 1.5707 - root_mean_squared_error: 1.1510 - val_loss: 1.0375 - val_root_mean_squared_error: 0.8917\n",
      "Epoch 60/100\n",
      "1/1 [==============================] - 1s 1s/step - loss: 1.5576 - root_mean_squared_error: 1.1469 - val_loss: 1.0399 - val_root_mean_squared_error: 0.8953\n",
      "Epoch 61/100\n",
      "1/1 [==============================] - 1s 1s/step - loss: 1.5506 - root_mean_squared_error: 1.1455 - val_loss: 1.0469 - val_root_mean_squared_error: 0.9016\n",
      "Epoch 62/100\n",
      "1/1 [==============================] - 1s 1s/step - loss: 1.5401 - root_mean_squared_error: 1.1428 - val_loss: 1.0577 - val_root_mean_squared_error: 0.9098\n",
      "Epoch 63/100\n",
      "1/1 [==============================] - 1s 1s/step - loss: 1.5321 - root_mean_squared_error: 1.1411 - val_loss: 1.0689 - val_root_mean_squared_error: 0.9181\n",
      "Epoch 64/100\n",
      "1/1 [==============================] - 1s 1s/step - loss: 1.5338 - root_mean_squared_error: 1.1436 - val_loss: 1.0763 - val_root_mean_squared_error: 0.9241\n",
      "Epoch 65/100\n",
      "1/1 [==============================] - 1s 1s/step - loss: 1.5287 - root_mean_squared_error: 1.1429 - val_loss: 1.0769 - val_root_mean_squared_error: 0.9260\n",
      "Epoch 66/100\n",
      "1/1 [==============================] - 1s 1s/step - loss: 1.5247 - root_mean_squared_error: 1.1425 - val_loss: 1.0703 - val_root_mean_squared_error: 0.9238\n",
      "Epoch 67/100\n",
      "1/1 [==============================] - 1s 1s/step - loss: 1.5254 - root_mean_squared_error: 1.1439 - val_loss: 1.0582 - val_root_mean_squared_error: 0.9183\n",
      "Epoch 68/100\n",
      "1/1 [==============================] - 1s 1s/step - loss: 1.5158 - root_mean_squared_error: 1.1406 - val_loss: 1.0442 - val_root_mean_squared_error: 0.9117\n",
      "Epoch 69/100\n",
      "1/1 [==============================] - 1s 1s/step - loss: 1.5105 - root_mean_squared_error: 1.1391 - val_loss: 1.0315 - val_root_mean_squared_error: 0.9057\n",
      "Epoch 70/100\n",
      "1/1 [==============================] - 1s 1s/step - loss: 1.5094 - root_mean_squared_error: 1.1394 - val_loss: 1.0217 - val_root_mean_squared_error: 0.9014\n",
      "Epoch 71/100\n",
      "1/1 [==============================] - 1s 1s/step - loss: 1.5019 - root_mean_squared_error: 1.1369 - val_loss: 1.0154 - val_root_mean_squared_error: 0.8990\n",
      "Epoch 72/100\n",
      "1/1 [==============================] - 1s 1s/step - loss: 1.4988 - root_mean_squared_error: 1.1365 - val_loss: 1.0117 - val_root_mean_squared_error: 0.8983\n",
      "Epoch 73/100\n",
      "1/1 [==============================] - 1s 1s/step - loss: 1.4983 - root_mean_squared_error: 1.1374 - val_loss: 1.0106 - val_root_mean_squared_error: 0.8993\n",
      "Epoch 74/100\n",
      "1/1 [==============================] - 1s 1s/step - loss: 1.4902 - root_mean_squared_error: 1.1350 - val_loss: 1.0118 - val_root_mean_squared_error: 0.9016\n",
      "Epoch 75/100\n",
      "1/1 [==============================] - 1s 1s/step - loss: 1.4877 - root_mean_squared_error: 1.1352 - val_loss: 1.0153 - val_root_mean_squared_error: 0.9053\n",
      "Epoch 76/100\n",
      "1/1 [==============================] - 1s 1s/step - loss: 1.4807 - root_mean_squared_error: 1.1336 - val_loss: 1.0197 - val_root_mean_squared_error: 0.9094\n",
      "Epoch 77/100\n",
      "1/1 [==============================] - 1s 1s/step - loss: 1.4780 - root_mean_squared_error: 1.1337 - val_loss: 1.0235 - val_root_mean_squared_error: 0.9131\n",
      "Epoch 78/100\n",
      "1/1 [==============================] - 1s 1s/step - loss: 1.4763 - root_mean_squared_error: 1.1343 - val_loss: 1.0247 - val_root_mean_squared_error: 0.9152\n",
      "Epoch 79/100\n",
      "1/1 [==============================] - 1s 1s/step - loss: 1.4726 - root_mean_squared_error: 1.1338 - val_loss: 1.0225 - val_root_mean_squared_error: 0.9153\n",
      "Epoch 80/100\n",
      "1/1 [==============================] - 1s 1s/step - loss: 1.4712 - root_mean_squared_error: 1.1342 - val_loss: 1.0169 - val_root_mean_squared_error: 0.9133\n",
      "Epoch 81/100\n",
      "1/1 [==============================] - 1s 1s/step - loss: 1.4626 - root_mean_squared_error: 1.1313 - val_loss: 1.0091 - val_root_mean_squared_error: 0.9101\n",
      "Epoch 82/100\n",
      "1/1 [==============================] - 1s 1s/step - loss: 1.4585 - root_mean_squared_error: 1.1304 - val_loss: 1.0007 - val_root_mean_squared_error: 0.9064\n",
      "Epoch 83/100\n",
      "1/1 [==============================] - 1s 1s/step - loss: 1.4613 - root_mean_squared_error: 1.1323 - val_loss: 0.9932 - val_root_mean_squared_error: 0.9032\n",
      "Epoch 84/100\n",
      "1/1 [==============================] - 1s 1s/step - loss: 1.4580 - root_mean_squared_error: 1.1316 - val_loss: 0.9877 - val_root_mean_squared_error: 0.9011\n",
      "Epoch 85/100\n",
      "1/1 [==============================] - 1s 1s/step - loss: 1.4551 - root_mean_squared_error: 1.1311 - val_loss: 0.9840 - val_root_mean_squared_error: 0.9002\n",
      "Epoch 86/100\n",
      "1/1 [==============================] - 1s 1s/step - loss: 1.4495 - root_mean_squared_error: 1.1295 - val_loss: 0.9824 - val_root_mean_squared_error: 0.9005\n",
      "Epoch 87/100\n",
      "1/1 [==============================] - 1s 1s/step - loss: 1.4456 - root_mean_squared_error: 1.1287 - val_loss: 0.9824 - val_root_mean_squared_error: 0.9017\n",
      "Epoch 88/100\n",
      "1/1 [==============================] - 1s 1s/step - loss: 1.4461 - root_mean_squared_error: 1.1300 - val_loss: 0.9837 - val_root_mean_squared_error: 0.9038\n",
      "Epoch 89/100\n",
      "1/1 [==============================] - 1s 1s/step - loss: 1.4407 - root_mean_squared_error: 1.1286 - val_loss: 0.9855 - val_root_mean_squared_error: 0.9060\n",
      "Epoch 90/100\n",
      "1/1 [==============================] - 1s 1s/step - loss: 1.4382 - root_mean_squared_error: 1.1285 - val_loss: 0.9869 - val_root_mean_squared_error: 0.9080\n",
      "Epoch 91/100\n",
      "1/1 [==============================] - 1s 1s/step - loss: 1.4343 - root_mean_squared_error: 1.1278 - val_loss: 0.9870 - val_root_mean_squared_error: 0.9092\n",
      "Epoch 92/100\n",
      "1/1 [==============================] - 1s 1s/step - loss: 1.4340 - root_mean_squared_error: 1.1286 - val_loss: 0.9855 - val_root_mean_squared_error: 0.9094\n",
      "Epoch 93/100\n",
      "1/1 [==============================] - 1s 1s/step - loss: 1.4309 - root_mean_squared_error: 1.1280 - val_loss: 0.9824 - val_root_mean_squared_error: 0.9087\n",
      "Epoch 94/100\n",
      "1/1 [==============================] - 1s 1s/step - loss: 1.4246 - root_mean_squared_error: 1.1260 - val_loss: 0.9781 - val_root_mean_squared_error: 0.9072\n",
      "Epoch 95/100\n",
      "1/1 [==============================] - 1s 1s/step - loss: 1.4234 - root_mean_squared_error: 1.1262 - val_loss: 0.9733 - val_root_mean_squared_error: 0.9054\n",
      "Epoch 96/100\n",
      "1/1 [==============================] - 1s 1s/step - loss: 1.4181 - root_mean_squared_error: 1.1245 - val_loss: 0.9689 - val_root_mean_squared_error: 0.9038\n",
      "Epoch 97/100\n"
     ]
    },
    {
     "name": "stdout",
     "output_type": "stream",
     "text": [
      "1/1 [==============================] - 1s 1s/step - loss: 1.4169 - root_mean_squared_error: 1.1246 - val_loss: 0.9654 - val_root_mean_squared_error: 0.9027\n",
      "Epoch 98/100\n",
      "1/1 [==============================] - 1s 1s/step - loss: 1.4131 - root_mean_squared_error: 1.1236 - val_loss: 0.9631 - val_root_mean_squared_error: 0.9023\n",
      "Epoch 99/100\n",
      "1/1 [==============================] - 1s 1s/step - loss: 1.4072 - root_mean_squared_error: 1.1217 - val_loss: 0.9617 - val_root_mean_squared_error: 0.9024\n",
      "Epoch 100/100\n",
      "1/1 [==============================] - 1s 1s/step - loss: 1.4067 - root_mean_squared_error: 1.1222 - val_loss: 0.9611 - val_root_mean_squared_error: 0.9031\n",
      "----Starting trial: run-1\n",
      "{'HP_LEARNING_RATE': 0.1}\n",
      "Epoch 1/100\n",
      "1/1 [==============================] - 3s 3s/step - loss: 16.4601 - root_mean_squared_error: 3.9290 - val_loss: 2.7736 - val_root_mean_squared_error: 1.4204\n",
      "Epoch 2/100\n",
      "1/1 [==============================] - 1s 1s/step - loss: 4.0828 - root_mean_squared_error: 1.8239 - val_loss: 11.7978 - val_root_mean_squared_error: 3.3432\n",
      "Epoch 3/100\n",
      "1/1 [==============================] - 1s 1s/step - loss: 11.8345 - root_mean_squared_error: 3.3487 - val_loss: 7.5143 - val_root_mean_squared_error: 2.5951\n",
      "Epoch 4/100\n",
      "1/1 [==============================] - 1s 1s/step - loss: 7.6065 - root_mean_squared_error: 2.6128 - val_loss: 33.5036 - val_root_mean_squared_error: 5.6927\n",
      "Epoch 5/100\n",
      "1/1 [==============================] - 1s 1s/step - loss: 41.5599 - root_mean_squared_error: 6.3610 - val_loss: 7.4962 - val_root_mean_squared_error: 2.5775\n",
      "Epoch 6/100\n",
      "1/1 [==============================] - 1s 1s/step - loss: 7.6069 - root_mean_squared_error: 2.5989 - val_loss: 12.8346 - val_root_mean_squared_error: 3.4809\n",
      "Epoch 7/100\n",
      "1/1 [==============================] - 1s 1s/step - loss: 12.7837 - root_mean_squared_error: 3.4736 - val_loss: 12.5440 - val_root_mean_squared_error: 3.4474\n",
      "Epoch 8/100\n",
      "1/1 [==============================] - 1s 1s/step - loss: 12.5400 - root_mean_squared_error: 3.4468 - val_loss: 12.2564 - val_root_mean_squared_error: 3.4058\n",
      "Epoch 9/100\n",
      "1/1 [==============================] - 1s 1s/step - loss: 12.2522 - root_mean_squared_error: 3.4052 - val_loss: 11.8090 - val_root_mean_squared_error: 3.3353\n",
      "Epoch 10/100\n",
      "1/1 [==============================] - 1s 1s/step - loss: 11.8060 - root_mean_squared_error: 3.3349 - val_loss: 11.1699 - val_root_mean_squared_error: 3.2318\n",
      "Epoch 11/100\n",
      "1/1 [==============================] - 1s 1s/step - loss: 11.1704 - root_mean_squared_error: 3.2319 - val_loss: 10.2604 - val_root_mean_squared_error: 3.0806\n",
      "Epoch 12/100\n",
      "1/1 [==============================] - 1s 1s/step - loss: 10.2687 - root_mean_squared_error: 3.0819 - val_loss: 9.0426 - val_root_mean_squared_error: 2.8677\n",
      "Epoch 13/100\n",
      "1/1 [==============================] - 1s 1s/step - loss: 9.0740 - root_mean_squared_error: 2.8731 - val_loss: 7.5542 - val_root_mean_squared_error: 2.5853\n",
      "Epoch 14/100\n",
      "1/1 [==============================] - 1s 1s/step - loss: 7.6317 - root_mean_squared_error: 2.6003 - val_loss: 5.9163 - val_root_mean_squared_error: 2.2349\n",
      "Epoch 15/100\n",
      "1/1 [==============================] - 1s 1s/step - loss: 6.0877 - root_mean_squared_error: 2.2729 - val_loss: 4.3052 - val_root_mean_squared_error: 1.8263\n",
      "Epoch 16/100\n",
      "1/1 [==============================] - 1s 1s/step - loss: 4.6387 - root_mean_squared_error: 1.9154 - val_loss: 2.9643 - val_root_mean_squared_error: 1.3965\n",
      "Epoch 17/100\n",
      "1/1 [==============================] - 1s 1s/step - loss: 3.5624 - root_mean_squared_error: 1.5964 - val_loss: 2.2066 - val_root_mean_squared_error: 1.0738\n",
      "Epoch 18/100\n",
      "1/1 [==============================] - 1s 1s/step - loss: 3.2027 - root_mean_squared_error: 1.4660 - val_loss: 2.1943 - val_root_mean_squared_error: 1.0513\n",
      "Epoch 19/100\n",
      "1/1 [==============================] - 1s 1s/step - loss: 3.6336 - root_mean_squared_error: 1.5951 - val_loss: 2.4591 - val_root_mean_squared_error: 1.1557\n",
      "Epoch 20/100\n",
      "1/1 [==============================] - 1s 1s/step - loss: 3.9908 - root_mean_squared_error: 1.6934 - val_loss: 3.1954 - val_root_mean_squared_error: 1.4247\n",
      "Epoch 21/100\n",
      "1/1 [==============================] - 1s 1s/step - loss: 3.9505 - root_mean_squared_error: 1.6688 - val_loss: 2.5333 - val_root_mean_squared_error: 1.1618\n",
      "Epoch 22/100\n",
      "1/1 [==============================] - 1s 1s/step - loss: 3.4278 - root_mean_squared_error: 1.4981 - val_loss: 2.4969 - val_root_mean_squared_error: 1.1387\n",
      "Epoch 23/100\n",
      "1/1 [==============================] - 1s 1s/step - loss: 4.2396 - root_mean_squared_error: 1.7434 - val_loss: 2.9949 - val_root_mean_squared_error: 1.3297\n",
      "Epoch 24/100\n",
      "1/1 [==============================] - 1s 1s/step - loss: 3.6501 - root_mean_squared_error: 1.5567 - val_loss: 3.3038 - val_root_mean_squared_error: 1.4374\n",
      "Epoch 25/100\n",
      "1/1 [==============================] - 1s 1s/step - loss: 3.7816 - root_mean_squared_error: 1.5950 - val_loss: 2.2651 - val_root_mean_squared_error: 1.0186\n",
      "Epoch 26/100\n",
      "1/1 [==============================] - 1s 1s/step - loss: 3.3387 - root_mean_squared_error: 1.4530 - val_loss: 2.3955 - val_root_mean_squared_error: 1.0824\n",
      "Epoch 27/100\n",
      "1/1 [==============================] - 1s 1s/step - loss: 3.6271 - root_mean_squared_error: 1.5503 - val_loss: 2.4830 - val_root_mean_squared_error: 1.1197\n",
      "Epoch 28/100\n",
      "1/1 [==============================] - 1s 1s/step - loss: 3.1561 - root_mean_squared_error: 1.3881 - val_loss: 2.9037 - val_root_mean_squared_error: 1.2941\n",
      "Epoch 29/100\n",
      "1/1 [==============================] - 1s 1s/step - loss: 3.3030 - root_mean_squared_error: 1.4402 - val_loss: 2.3197 - val_root_mean_squared_error: 1.0499\n",
      "Epoch 30/100\n",
      "1/1 [==============================] - 1s 1s/step - loss: 2.9012 - root_mean_squared_error: 1.2976 - val_loss: 2.1764 - val_root_mean_squared_error: 0.9856\n",
      "Epoch 31/100\n",
      "1/1 [==============================] - 1s 1s/step - loss: 3.1057 - root_mean_squared_error: 1.3786 - val_loss: 2.1327 - val_root_mean_squared_error: 0.9713\n",
      "Epoch 32/100\n",
      "1/1 [==============================] - 1s 1s/step - loss: 2.8619 - root_mean_squared_error: 1.2933 - val_loss: 2.3448 - val_root_mean_squared_error: 1.0829\n",
      "Epoch 33/100\n",
      "1/1 [==============================] - 1s 1s/step - loss: 2.7737 - root_mean_squared_error: 1.2656 - val_loss: 2.4042 - val_root_mean_squared_error: 1.1194\n",
      "Epoch 34/100\n",
      "1/1 [==============================] - 1s 1s/step - loss: 2.7576 - root_mean_squared_error: 1.2674 - val_loss: 2.1000 - val_root_mean_squared_error: 0.9869\n",
      "Epoch 35/100\n",
      "1/1 [==============================] - 1s 945ms/step - loss: 2.5743 - root_mean_squared_error: 1.2034 - val_loss: 1.9791 - val_root_mean_squared_error: 0.9369\n",
      "Epoch 36/100\n",
      "1/1 [==============================] - 1s 1s/step - loss: 2.5951 - root_mean_squared_error: 1.2222 - val_loss: 1.9511 - val_root_mean_squared_error: 0.9328\n",
      "Epoch 37/100\n",
      "1/1 [==============================] - 1s 1s/step - loss: 2.5549 - root_mean_squared_error: 1.2140 - val_loss: 1.9690 - val_root_mean_squared_error: 0.9509\n",
      "Epoch 38/100\n",
      "1/1 [==============================] - 1s 1s/step - loss: 2.4120 - root_mean_squared_error: 1.1606 - val_loss: 2.1151 - val_root_mean_squared_error: 1.0323\n",
      "Epoch 39/100\n",
      "1/1 [==============================] - 1s 1s/step - loss: 2.4232 - root_mean_squared_error: 1.1721 - val_loss: 2.0959 - val_root_mean_squared_error: 1.0321\n",
      "Epoch 40/100\n",
      "1/1 [==============================] - 1s 998ms/step - loss: 2.3833 - root_mean_squared_error: 1.1630 - val_loss: 1.9164 - val_root_mean_squared_error: 0.9524\n",
      "Epoch 41/100\n",
      "1/1 [==============================] - 1s 1s/step - loss: 2.2796 - root_mean_squared_error: 1.1271 - val_loss: 1.8319 - val_root_mean_squared_error: 0.9184\n",
      "Epoch 42/100\n",
      "1/1 [==============================] - 1s 1s/step - loss: 2.2765 - root_mean_squared_error: 1.1349 - val_loss: 1.8109 - val_root_mean_squared_error: 0.9169\n",
      "Epoch 43/100\n",
      "1/1 [==============================] - 1s 1s/step - loss: 2.2548 - root_mean_squared_error: 1.1334 - val_loss: 1.8159 - val_root_mean_squared_error: 0.9281\n",
      "Epoch 44/100\n",
      "1/1 [==============================] - 1s 1s/step - loss: 2.1809 - root_mean_squared_error: 1.1074 - val_loss: 1.8821 - val_root_mean_squared_error: 0.9706\n",
      "Epoch 45/100\n"
     ]
    },
    {
     "name": "stdout",
     "output_type": "stream",
     "text": [
      "1/1 [==============================] - 1s 1s/step - loss: 2.1551 - root_mean_squared_error: 1.1023 - val_loss: 1.9209 - val_root_mean_squared_error: 0.9982\n",
      "Epoch 46/100\n",
      "1/1 [==============================] - 1s 1s/step - loss: 2.1523 - root_mean_squared_error: 1.1081 - val_loss: 1.8463 - val_root_mean_squared_error: 0.9694\n",
      "Epoch 47/100\n",
      "1/1 [==============================] - 1s 1s/step - loss: 2.0926 - root_mean_squared_error: 1.0890 - val_loss: 1.7566 - val_root_mean_squared_error: 0.9320\n",
      "Epoch 48/100\n",
      "1/1 [==============================] - 1s 1s/step - loss: 2.0601 - root_mean_squared_error: 1.0826 - val_loss: 1.7175 - val_root_mean_squared_error: 0.9202\n",
      "Epoch 49/100\n",
      "1/1 [==============================] - 1s 1s/step - loss: 2.0484 - root_mean_squared_error: 1.0852 - val_loss: 1.7030 - val_root_mean_squared_error: 0.9204\n",
      "Epoch 50/100\n",
      "1/1 [==============================] - 1s 1s/step - loss: 2.0150 - root_mean_squared_error: 1.0767 - val_loss: 1.7191 - val_root_mean_squared_error: 0.9359\n",
      "Epoch 51/100\n",
      "1/1 [==============================] - 1s 1s/step - loss: 1.9671 - root_mean_squared_error: 1.0602 - val_loss: 1.7620 - val_root_mean_squared_error: 0.9650\n",
      "Epoch 52/100\n",
      "1/1 [==============================] - 1s 1s/step - loss: 1.9521 - root_mean_squared_error: 1.0590 - val_loss: 1.7393 - val_root_mean_squared_error: 0.9606\n",
      "Epoch 53/100\n",
      "1/1 [==============================] - 1s 998ms/step - loss: 1.9248 - root_mean_squared_error: 1.0528 - val_loss: 1.6623 - val_root_mean_squared_error: 0.9284\n",
      "Epoch 54/100\n",
      "1/1 [==============================] - 1s 1s/step - loss: 1.8804 - root_mean_squared_error: 1.0392 - val_loss: 1.6186 - val_root_mean_squared_error: 0.9128\n",
      "Epoch 55/100\n",
      "1/1 [==============================] - 1s 1s/step - loss: 1.8717 - root_mean_squared_error: 1.0422 - val_loss: 1.6045 - val_root_mean_squared_error: 0.9119\n",
      "Epoch 56/100\n",
      "1/1 [==============================] - 1s 1s/step - loss: 1.8386 - root_mean_squared_error: 1.0323 - val_loss: 1.6213 - val_root_mean_squared_error: 0.9266\n",
      "Epoch 57/100\n",
      "1/1 [==============================] - 1s 980ms/step - loss: 1.8052 - root_mean_squared_error: 1.0210 - val_loss: 1.6489 - val_root_mean_squared_error: 0.9468\n",
      "Epoch 58/100\n",
      "1/1 [==============================] - 1s 1s/step - loss: 1.7934 - root_mean_squared_error: 1.0202 - val_loss: 1.6092 - val_root_mean_squared_error: 0.9324\n",
      "Epoch 59/100\n",
      "1/1 [==============================] - 1s 981ms/step - loss: 1.7571 - root_mean_squared_error: 1.0086 - val_loss: 1.5544 - val_root_mean_squared_error: 0.9101\n",
      "Epoch 60/100\n",
      "1/1 [==============================] - 1s 1s/step - loss: 1.7332 - root_mean_squared_error: 1.0035 - val_loss: 1.5337 - val_root_mean_squared_error: 0.9054\n",
      "Epoch 61/100\n",
      "1/1 [==============================] - 1s 1s/step - loss: 1.7193 - root_mean_squared_error: 1.0027 - val_loss: 1.5385 - val_root_mean_squared_error: 0.9136\n",
      "Epoch 62/100\n",
      "1/1 [==============================] - 1s 962ms/step - loss: 1.6876 - root_mean_squared_error: 0.9919 - val_loss: 1.5630 - val_root_mean_squared_error: 0.9322\n",
      "Epoch 63/100\n",
      "1/1 [==============================] - 1s 1s/step - loss: 1.6706 - root_mean_squared_error: 0.9882 - val_loss: 1.5425 - val_root_mean_squared_error: 0.9275\n",
      "Epoch 64/100\n",
      "1/1 [==============================] - 1s 1s/step - loss: 1.6465 - root_mean_squared_error: 0.9820 - val_loss: 1.4970 - val_root_mean_squared_error: 0.9099\n",
      "Epoch 65/100\n",
      "1/1 [==============================] - 1s 1s/step - loss: 1.6214 - root_mean_squared_error: 0.9758 - val_loss: 1.4770 - val_root_mean_squared_error: 0.9055\n",
      "Epoch 66/100\n",
      "1/1 [==============================] - 1s 1s/step - loss: 1.6075 - root_mean_squared_error: 0.9749 - val_loss: 1.4792 - val_root_mean_squared_error: 0.9121\n",
      "Epoch 67/100\n",
      "1/1 [==============================] - 1s 1s/step - loss: 1.5824 - root_mean_squared_error: 0.9670 - val_loss: 1.4944 - val_root_mean_squared_error: 0.9255\n",
      "Epoch 68/100\n",
      "1/1 [==============================] - 1s 1s/step - loss: 1.5650 - root_mean_squared_error: 0.9629 - val_loss: 1.4754 - val_root_mean_squared_error: 0.9211\n",
      "Epoch 69/100\n",
      "1/1 [==============================] - 1s 1s/step - loss: 1.5444 - root_mean_squared_error: 0.9579 - val_loss: 1.4414 - val_root_mean_squared_error: 0.9090\n",
      "Epoch 70/100\n",
      "1/1 [==============================] - 1s 1s/step - loss: 1.5221 - root_mean_squared_error: 0.9524 - val_loss: 1.4266 - val_root_mean_squared_error: 0.9067\n",
      "Epoch 71/100\n",
      "1/1 [==============================] - 1s 982ms/step - loss: 1.5087 - root_mean_squared_error: 0.9509 - val_loss: 1.4290 - val_root_mean_squared_error: 0.9129\n",
      "Epoch 72/100\n",
      "1/1 [==============================] - 1s 963ms/step - loss: 1.4875 - root_mean_squared_error: 0.9444 - val_loss: 1.4342 - val_root_mean_squared_error: 0.9206\n",
      "Epoch 73/100\n",
      "1/1 [==============================] - 1s 1s/step - loss: 1.4728 - root_mean_squared_error: 0.9413 - val_loss: 1.4126 - val_root_mean_squared_error: 0.9145\n",
      "Epoch 74/100\n",
      "1/1 [==============================] - 1s 1s/step - loss: 1.4502 - root_mean_squared_error: 0.9348 - val_loss: 1.3874 - val_root_mean_squared_error: 0.9065\n",
      "Epoch 75/100\n",
      "1/1 [==============================] - 1s 1s/step - loss: 1.4337 - root_mean_squared_error: 0.9316 - val_loss: 1.3776 - val_root_mean_squared_error: 0.9062\n",
      "Epoch 76/100\n",
      "1/1 [==============================] - 1s 1s/step - loss: 1.4159 - root_mean_squared_error: 0.9271 - val_loss: 1.3798 - val_root_mean_squared_error: 0.9120\n",
      "Epoch 77/100\n",
      "1/1 [==============================] - 1s 1s/step - loss: 1.3973 - root_mean_squared_error: 0.9216 - val_loss: 1.3772 - val_root_mean_squared_error: 0.9154\n",
      "Epoch 78/100\n",
      "1/1 [==============================] - 1s 1s/step - loss: 1.3834 - root_mean_squared_error: 0.9187 - val_loss: 1.3568 - val_root_mean_squared_error: 0.9095\n",
      "Epoch 79/100\n",
      "1/1 [==============================] - 1s 1s/step - loss: 1.3650 - root_mean_squared_error: 0.9139 - val_loss: 1.3406 - val_root_mean_squared_error: 0.9057\n",
      "Epoch 80/100\n",
      "1/1 [==============================] - 1s 1s/step - loss: 1.3521 - root_mean_squared_error: 0.9120 - val_loss: 1.3354 - val_root_mean_squared_error: 0.9074\n",
      "Epoch 81/100\n",
      "1/1 [==============================] - 1s 1s/step - loss: 1.3347 - root_mean_squared_error: 0.9070 - val_loss: 1.3362 - val_root_mean_squared_error: 0.9121\n",
      "Epoch 82/100\n",
      "1/1 [==============================] - 1s 979ms/step - loss: 1.3211 - root_mean_squared_error: 0.9038 - val_loss: 1.3261 - val_root_mean_squared_error: 0.9112\n",
      "Epoch 83/100\n",
      "1/1 [==============================] - 1s 1s/step - loss: 1.3080 - root_mean_squared_error: 0.9012 - val_loss: 1.3089 - val_root_mean_squared_error: 0.9066\n",
      "Epoch 84/100\n",
      "1/1 [==============================] - 1s 1s/step - loss: 1.2907 - root_mean_squared_error: 0.8965 - val_loss: 1.2994 - val_root_mean_squared_error: 0.9058\n",
      "Epoch 85/100\n",
      "1/1 [==============================] - 1s 1s/step - loss: 1.2794 - root_mean_squared_error: 0.8947 - val_loss: 1.2983 - val_root_mean_squared_error: 0.9093\n",
      "Epoch 86/100\n",
      "1/1 [==============================] - 1s 1s/step - loss: 1.2656 - root_mean_squared_error: 0.8911 - val_loss: 1.2942 - val_root_mean_squared_error: 0.9111\n",
      "Epoch 87/100\n",
      "1/1 [==============================] - 1s 1s/step - loss: 1.2524 - root_mean_squared_error: 0.8879 - val_loss: 1.2798 - val_root_mean_squared_error: 0.9076\n",
      "Epoch 88/100\n",
      "1/1 [==============================] - 1s 1s/step - loss: 1.2388 - root_mean_squared_error: 0.8848 - val_loss: 1.2684 - val_root_mean_squared_error: 0.9057\n",
      "Epoch 89/100\n",
      "1/1 [==============================] - 1s 999ms/step - loss: 1.2285 - root_mean_squared_error: 0.8834 - val_loss: 1.2642 - val_root_mean_squared_error: 0.9073\n",
      "Epoch 90/100\n",
      "1/1 [==============================] - 1s 1s/step - loss: 1.2144 - root_mean_squared_error: 0.8794 - val_loss: 1.2611 - val_root_mean_squared_error: 0.9094\n",
      "Epoch 91/100\n",
      "1/1 [==============================] - 1s 1s/step - loss: 1.2035 - root_mean_squared_error: 0.8771 - val_loss: 1.2507 - val_root_mean_squared_error: 0.9077\n",
      "Epoch 92/100\n",
      "1/1 [==============================] - 1s 1s/step - loss: 1.1895 - root_mean_squared_error: 0.8734 - val_loss: 1.2395 - val_root_mean_squared_error: 0.9057\n",
      "Epoch 93/100\n"
     ]
    },
    {
     "name": "stdout",
     "output_type": "stream",
     "text": [
      "1/1 [==============================] - 1s 1s/step - loss: 1.1810 - root_mean_squared_error: 0.8728 - val_loss: 1.2341 - val_root_mean_squared_error: 0.9064\n",
      "Epoch 94/100\n",
      "1/1 [==============================] - 1s 1s/step - loss: 1.1678 - root_mean_squared_error: 0.8691 - val_loss: 1.2317 - val_root_mean_squared_error: 0.9086\n",
      "Epoch 95/100\n",
      "1/1 [==============================] - 1s 1s/step - loss: 1.1565 - root_mean_squared_error: 0.8663 - val_loss: 1.2235 - val_root_mean_squared_error: 0.9079\n",
      "Epoch 96/100\n",
      "1/1 [==============================] - 1s 1s/step - loss: 1.1454 - root_mean_squared_error: 0.8638 - val_loss: 1.2130 - val_root_mean_squared_error: 0.9059\n",
      "Epoch 97/100\n",
      "1/1 [==============================] - 1s 1s/step - loss: 1.1356 - root_mean_squared_error: 0.8622 - val_loss: 1.2070 - val_root_mean_squared_error: 0.9061\n",
      "Epoch 98/100\n",
      "1/1 [==============================] - 1s 1s/step - loss: 1.1255 - root_mean_squared_error: 0.8600 - val_loss: 1.2041 - val_root_mean_squared_error: 0.9078\n",
      "Epoch 99/100\n",
      "1/1 [==============================] - 1s 958ms/step - loss: 1.1166 - root_mean_squared_error: 0.8583 - val_loss: 1.1981 - val_root_mean_squared_error: 0.9080\n",
      "Epoch 100/100\n",
      "1/1 [==============================] - 1s 1s/step - loss: 1.1060 - root_mean_squared_error: 0.8557 - val_loss: 1.1889 - val_root_mean_squared_error: 0.9064\n"
     ]
    }
   ],
   "source": [
    "run_history = {}\n",
    "models = []\n",
    "\n",
    "session_num = 0\n",
    "\n",
    "\n",
    "for learning_rate in HP_LEARNING_RATE:\n",
    "\n",
    "    hparams = {\n",
    "    'HP_LEARNING_RATE': learning_rate,\n",
    "    }\n",
    "\n",
    "    run_name = \"run-{}\".format(session_num)\n",
    "    print(\"----Starting trial: {}\".format(run_name))\n",
    "    print(hparams)\n",
    "\n",
    "    output, model = train_test_model(hparams,)\n",
    "    run_history[run_name] = {\n",
    "        'params': hparams,\n",
    "        'output': output,\n",
    "    }\n",
    "    models.append(model)\n",
    "    session_num += 1"
   ]
  },
  {
   "cell_type": "code",
   "execution_count": 40,
   "id": "5326da56",
   "metadata": {},
   "outputs": [],
   "source": [
    "model.save('saved_model/copy11/model.h5')"
   ]
  },
  {
   "cell_type": "code",
   "execution_count": 15,
   "id": "a116cf5d",
   "metadata": {},
   "outputs": [],
   "source": [
    "import matplotlib.pyplot as plt"
   ]
  },
  {
   "cell_type": "code",
   "execution_count": 21,
   "id": "5db5cb9e",
   "metadata": {},
   "outputs": [
    {
     "data": {
      "text/plain": [
       "2"
      ]
     },
     "execution_count": 21,
     "metadata": {},
     "output_type": "execute_result"
    }
   ],
   "source": [
    "len(run_history.keys())"
   ]
  },
  {
   "cell_type": "code",
   "execution_count": 22,
   "id": "ba815d97",
   "metadata": {
    "scrolled": false
   },
   "outputs": [
    {
     "data": {
      "image/png": "[encoded data removed]",
      "text/plain": [
       "<Figure size 720x432 with 4 Axes>"
      ]
     },
     "metadata": {
      "needs_background": "light"
     },
     "output_type": "display_data"
    }
   ],
   "source": [
    "fig, axs = plt.subplots(ncols=2, nrows=len(run_history.keys()), figsize=(10, len(run_history.keys())*3))\n",
    "\n",
    "for n, key in enumerate(run_history.keys()):\n",
    "    axs[n,0].plot(run_history[key]['output'].history['loss'], color='r')\n",
    "    axs[n,0].plot(run_history[key]['output'].history['val_loss'], color='b')\n",
    "    \n",
    "    axs[n,1].plot(run_history[key]['output'].history['root_mean_squared_error'], color='r')\n",
    "    axs[n,1].plot(run_history[key]['output'].history['val_root_mean_squared_error'], color='b')\n",
    "    axs[n,1].axvline(np.where(run_history[key]['output'].history['val_root_mean_squared_error']==np.min(run_history[key]['output'].history['val_root_mean_squared_error'])), \n",
    "                     color='k', lw=1)\n",
    "    axs[n,1].annotate(str(np.min(run_history[key]['output'].history['val_root_mean_squared_error'])),\n",
    "                        xy=(40,3),)\n",
    "    \n",
    "#     title_str = '-'.join(str(run_history[key]['params'][param]) for param in run_history[key]['params'].keys(),\n",
    "#                         xytext=(.8,.8), xycoords='subfigure fraction')\n",
    "    \n",
    "    axs[n,0].set_title(\"mse {}\".format(key))\n",
    "    axs[n,1].set_title(\"rmse {}\".format(key))\n",
    "    \n",
    "    axs[n,0].set_ylim(0,10)\n",
    "    axs[n,1].set_ylim(0,5)\n",
    "    \n",
    "    axs[n, 1].axhline(1, color='k', lw=1)\n",
    "    \n",
    "plt.tight_layout()   \n",
    "plt.show()"
   ]
  },
  {
   "cell_type": "code",
   "execution_count": 23,
   "id": "c22273c3",
   "metadata": {},
   "outputs": [
    {
     "name": "stdout",
     "output_type": "stream",
     "text": [
      "{'params': {'HP_LEARNING_RATE': 0.01}, 'output': <tensorflow.python.keras.callbacks.History object at 0x7faec98d0310>}\n",
      "{'params': {'HP_LEARNING_RATE': 0.1}, 'output': <tensorflow.python.keras.callbacks.History object at 0x7fae704c9940>}\n"
     ]
    }
   ],
   "source": [
    "print(run_history['run-0'])\n",
    "print(run_history['run-1'])\n",
    "# print(run_history['run-2'])\n",
    "# print(run_history['run-3'])\n",
    "# print(run_history['run-6'])"
   ]
  },
  {
   "cell_type": "code",
   "execution_count": null,
   "id": "fd359983",
   "metadata": {},
   "outputs": [],
   "source": [
    "fig, ax = plt.subplots(figsize=(8,6))\n",
    "\n",
    "colors = ['red', 'blue', 'green']\n",
    "for n, key in enumerate(['run-0', 'run-3', 'run-6']):\n",
    "    \n",
    "    ax.plot(run_history[key]['output'].history['val_root_mean_squared_error'], color=colors[n], alpha=.8, lw=2)\n",
    "\n",
    "ax.set_ylim(0,5)\n",
    "plt.show()"
   ]
  },
  {
   "cell_type": "code",
   "execution_count": null,
   "id": "e379f897",
   "metadata": {},
   "outputs": [],
   "source": []
  },
  {
   "cell_type": "code",
   "execution_count": null,
   "id": "5c50f275",
   "metadata": {},
   "outputs": [],
   "source": []
  },
  {
   "cell_type": "code",
   "execution_count": 28,
   "id": "4915624c",
   "metadata": {},
   "outputs": [
    {
     "data": {
      "text/html": [
       "<div>\n",
       "<style scoped>\n",
       "    .dataframe tbody tr th:only-of-type {\n",
       "        vertical-align: middle;\n",
       "    }\n",
       "\n",
       "    .dataframe tbody tr th {\n",
       "        vertical-align: top;\n",
       "    }\n",
       "\n",
       "    .dataframe thead th {\n",
       "        text-align: right;\n",
       "    }\n",
       "</style>\n",
       "<table border=\"1\" class=\"dataframe\">\n",
       "  <thead>\n",
       "    <tr style=\"text-align: right;\">\n",
       "      <th></th>\n",
       "      <th>movie_id</th>\n",
       "      <th>rating_score</th>\n",
       "      <th>user</th>\n",
       "      <th>movie</th>\n",
       "    </tr>\n",
       "    <tr>\n",
       "      <th>user_id</th>\n",
       "      <th></th>\n",
       "      <th></th>\n",
       "      <th></th>\n",
       "      <th></th>\n",
       "    </tr>\n",
       "  </thead>\n",
       "  <tbody>\n",
       "    <tr>\n",
       "      <th>44117354</th>\n",
       "      <td>111</td>\n",
       "      <td>111</td>\n",
       "      <td>111</td>\n",
       "      <td>111</td>\n",
       "    </tr>\n",
       "    <tr>\n",
       "      <th>70183010</th>\n",
       "      <td>106</td>\n",
       "      <td>106</td>\n",
       "      <td>106</td>\n",
       "      <td>106</td>\n",
       "    </tr>\n",
       "    <tr>\n",
       "      <th>25219708</th>\n",
       "      <td>103</td>\n",
       "      <td>103</td>\n",
       "      <td>103</td>\n",
       "      <td>103</td>\n",
       "    </tr>\n",
       "    <tr>\n",
       "      <th>30484208</th>\n",
       "      <td>102</td>\n",
       "      <td>102</td>\n",
       "      <td>102</td>\n",
       "      <td>102</td>\n",
       "    </tr>\n",
       "    <tr>\n",
       "      <th>69239795</th>\n",
       "      <td>101</td>\n",
       "      <td>101</td>\n",
       "      <td>101</td>\n",
       "      <td>101</td>\n",
       "    </tr>\n",
       "  </tbody>\n",
       "</table>\n",
       "</div>"
      ],
      "text/plain": [
       "          movie_id  rating_score  user  movie\n",
       "user_id                                      \n",
       "44117354       111           111   111    111\n",
       "70183010       106           106   106    106\n",
       "25219708       103           103   103    103\n",
       "30484208       102           102   102    102\n",
       "69239795       101           101   101    101"
      ]
     },
     "execution_count": 28,
     "metadata": {},
     "output_type": "execute_result"
    }
   ],
   "source": [
    "ratings.groupby('user_id').count().sort_values(by='movie_id',ascending=False).head()"
   ]
  },
  {
   "cell_type": "code",
   "execution_count": 29,
   "id": "cbda0065",
   "metadata": {},
   "outputs": [
    {
     "data": {
      "text/html": [
       "<div>\n",
       "<style scoped>\n",
       "    .dataframe tbody tr th:only-of-type {\n",
       "        vertical-align: middle;\n",
       "    }\n",
       "\n",
       "    .dataframe tbody tr th {\n",
       "        vertical-align: top;\n",
       "    }\n",
       "\n",
       "    .dataframe thead th {\n",
       "        text-align: right;\n",
       "    }\n",
       "</style>\n",
       "<table border=\"1\" class=\"dataframe\">\n",
       "  <thead>\n",
       "    <tr style=\"text-align: right;\">\n",
       "      <th></th>\n",
       "      <th>movie_id</th>\n",
       "      <th>rating_score</th>\n",
       "      <th>user_id</th>\n",
       "      <th>user</th>\n",
       "      <th>movie</th>\n",
       "    </tr>\n",
       "  </thead>\n",
       "  <tbody>\n",
       "    <tr>\n",
       "      <th>3675</th>\n",
       "      <td>830</td>\n",
       "      <td>4</td>\n",
       "      <td>44117354</td>\n",
       "      <td>19690</td>\n",
       "      <td>759</td>\n",
       "    </tr>\n",
       "    <tr>\n",
       "      <th>9918</th>\n",
       "      <td>31747</td>\n",
       "      <td>3</td>\n",
       "      <td>44117354</td>\n",
       "      <td>19690</td>\n",
       "      <td>13001</td>\n",
       "    </tr>\n",
       "    <tr>\n",
       "      <th>16199</th>\n",
       "      <td>133823</td>\n",
       "      <td>2</td>\n",
       "      <td>44117354</td>\n",
       "      <td>19690</td>\n",
       "      <td>30304</td>\n",
       "    </tr>\n",
       "    <tr>\n",
       "      <th>44079</th>\n",
       "      <td>26024</td>\n",
       "      <td>2</td>\n",
       "      <td>44117354</td>\n",
       "      <td>19690</td>\n",
       "      <td>9692</td>\n",
       "    </tr>\n",
       "    <tr>\n",
       "      <th>59731</th>\n",
       "      <td>93537</td>\n",
       "      <td>5</td>\n",
       "      <td>44117354</td>\n",
       "      <td>19690</td>\n",
       "      <td>23232</td>\n",
       "    </tr>\n",
       "    <tr>\n",
       "      <th>...</th>\n",
       "      <td>...</td>\n",
       "      <td>...</td>\n",
       "      <td>...</td>\n",
       "      <td>...</td>\n",
       "      <td>...</td>\n",
       "    </tr>\n",
       "    <tr>\n",
       "      <th>578048</th>\n",
       "      <td>45023</td>\n",
       "      <td>5</td>\n",
       "      <td>44117354</td>\n",
       "      <td>19690</td>\n",
       "      <td>18491</td>\n",
       "    </tr>\n",
       "    <tr>\n",
       "      <th>622495</th>\n",
       "      <td>27447</td>\n",
       "      <td>4</td>\n",
       "      <td>44117354</td>\n",
       "      <td>19690</td>\n",
       "      <td>10569</td>\n",
       "    </tr>\n",
       "    <tr>\n",
       "      <th>634079</th>\n",
       "      <td>147</td>\n",
       "      <td>3</td>\n",
       "      <td>44117354</td>\n",
       "      <td>19690</td>\n",
       "      <td>111</td>\n",
       "    </tr>\n",
       "    <tr>\n",
       "      <th>668979</th>\n",
       "      <td>197</td>\n",
       "      <td>1</td>\n",
       "      <td>44117354</td>\n",
       "      <td>19690</td>\n",
       "      <td>160</td>\n",
       "    </tr>\n",
       "    <tr>\n",
       "      <th>673135</th>\n",
       "      <td>255</td>\n",
       "      <td>4</td>\n",
       "      <td>44117354</td>\n",
       "      <td>19690</td>\n",
       "      <td>216</td>\n",
       "    </tr>\n",
       "  </tbody>\n",
       "</table>\n",
       "<p>111 rows × 5 columns</p>\n",
       "</div>"
      ],
      "text/plain": [
       "        movie_id  rating_score   user_id   user  movie\n",
       "3675         830             4  44117354  19690    759\n",
       "9918       31747             3  44117354  19690  13001\n",
       "16199     133823             2  44117354  19690  30304\n",
       "44079      26024             2  44117354  19690   9692\n",
       "59731      93537             5  44117354  19690  23232\n",
       "...          ...           ...       ...    ...    ...\n",
       "578048     45023             5  44117354  19690  18491\n",
       "622495     27447             4  44117354  19690  10569\n",
       "634079       147             3  44117354  19690    111\n",
       "668979       197             1  44117354  19690    160\n",
       "673135       255             4  44117354  19690    216\n",
       "\n",
       "[111 rows x 5 columns]"
      ]
     },
     "execution_count": 29,
     "metadata": {},
     "output_type": "execute_result"
    }
   ],
   "source": [
    "user_id = 44117354\n",
    "ratings[ratings.user_id==user_id]"
   ]
  },
  {
   "cell_type": "code",
   "execution_count": 30,
   "id": "f6cc232c",
   "metadata": {},
   "outputs": [],
   "source": [
    "user = 19690"
   ]
  },
  {
   "cell_type": "code",
   "execution_count": 31,
   "id": "d6c301d0",
   "metadata": {},
   "outputs": [],
   "source": [
    "movie_array = ratings[ratings.user_id==user_id].movie.values.astype(int)\n",
    "user = np.array([int(user) for n in range(len(movie_array))])"
   ]
  },
  {
   "cell_type": "code",
   "execution_count": 32,
   "id": "3d623231",
   "metadata": {},
   "outputs": [],
   "source": [
    "pred = model.predict([movie_array, user])"
   ]
  },
  {
   "cell_type": "code",
   "execution_count": 38,
   "id": "0705c2ad",
   "metadata": {},
   "outputs": [
    {
     "data": {
      "text/plain": [
       "[((4.443749, 4), 759),\n",
       " ((3.0487213, 3), 13001),\n",
       " ((3.4955826, 2), 30304),\n",
       " ((4.2365317, 2), 9692),\n",
       " ((4.620772, 5), 23232),\n",
       " ((4.2911863, 5), 113),\n",
       " ((4.0627294, 5), 108),\n",
       " ((3.4778192, 3), 4704),\n",
       " ((3.7692504, 5), 2531),\n",
       " ((3.6930926, 4), 26290),\n",
       " ((3.4296114, 2), 1485),\n",
       " ((4.2770286, 4), 2103),\n",
       " ((3.4494987, 3), 10623),\n",
       " ((3.7676442, 5), 11182),\n",
       " ((4.4641213, 5), 903),\n",
       " ((3.811058, 5), 32392),\n",
       " ((3.9964552, 4), 17994),\n",
       " ((4.216799, 5), 32233),\n",
       " ((3.507463, 3), 3041),\n",
       " ((3.8077025, 3), 27185),\n",
       " ((2.762479, 4), 27443),\n",
       " ((4.434957, 5), 25895),\n",
       " ((4.169401, 2), 8461),\n",
       " ((3.0923502, 2), 3107),\n",
       " ((3.6240742, 4), 4452),\n",
       " ((4.223429, 5), 273),\n",
       " ((3.3390841, 3), 9604),\n",
       " ((4.2326694, 5), 22203),\n",
       " ((3.0539048, 3), 35191),\n",
       " ((4.018703, 5), 11221),\n",
       " ((3.3099916, 2), 1647),\n",
       " ((3.6017835, 5), 2883),\n",
       " ((3.4528334, 3), 3043),\n",
       " ((3.611532, 4), 5636),\n",
       " ((3.4521797, 4), 30965),\n",
       " ((3.3492951, 3), 1683),\n",
       " ((4.351111, 5), 9463),\n",
       " ((3.7766812, 3), 152),\n",
       " ((4.351217, 5), 814),\n",
       " ((3.9190128, 5), 12551),\n",
       " ((4.500258, 5), 136),\n",
       " ((3.5635135, 5), 1449),\n",
       " ((3.7527938, 5), 24586),\n",
       " ((3.8906443, 5), 292),\n",
       " ((4.437924, 4), 112),\n",
       " ((3.1451466, 4), 7559),\n",
       " ((2.9776814, 1), 30023),\n",
       " ((3.7635996, 4), 332),\n",
       " ((3.3883197, 3), 1535),\n",
       " ((3.884693, 5), 449),\n",
       " ((4.039292, 5), 157),\n",
       " ((3.9281769, 5), 18440),\n",
       " ((4.054251, 4), 1573),\n",
       " ((4.006374, 5), 31860),\n",
       " ((4.2048974, 5), 4712),\n",
       " ((4.279182, 4), 201),\n",
       " ((3.8130002, 4), 1883),\n",
       " ((3.372639, 3), 23193),\n",
       " ((3.8636444, 5), 29835),\n",
       " ((3.7530205, 5), 27127),\n",
       " ((3.8366609, 5), 359),\n",
       " ((2.9609087, 2), 2989),\n",
       " ((3.8434007, 2), 478),\n",
       " ((4.145942, 4), 33688),\n",
       " ((3.9612775, 4), 33396),\n",
       " ((4.18059, 4), 2874),\n",
       " ((4.511948, 4), 114),\n",
       " ((3.128268, 4), 20405),\n",
       " ((3.2241547, 3), 2700),\n",
       " ((4.2496753, 5), 24158),\n",
       " ((2.7122476, 4), 9716),\n",
       " ((3.3827322, 4), 4764),\n",
       " ((3.139553, 4), 4640),\n",
       " ((4.354435, 2), 36288),\n",
       " ((3.722483, 3), 1331),\n",
       " ((4.1256137, 4), 698),\n",
       " ((4.2568736, 5), 2704),\n",
       " ((3.916406, 3), 1589),\n",
       " ((3.8753092, 4), 12282),\n",
       " ((4.30705, 3), 9828),\n",
       " ((3.36221, 2), 19186),\n",
       " ((4.067377, 4), 132),\n",
       " ((3.2258217, 5), 11130),\n",
       " ((3.698031, 3), 31115),\n",
       " ((2.8573334, 3), 2926),\n",
       " ((3.6179657, 1), 2877),\n",
       " ((3.529906, 3), 27078),\n",
       " ((3.6615984, 3), 5228),\n",
       " ((3.4856553, 3), 29349),\n",
       " ((3.2183034, 2), 15653),\n",
       " ((3.9733324, 4), 35009),\n",
       " ((4.1411343, 2), 249),\n",
       " ((3.400503, 4), 5367),\n",
       " ((2.2486298, 2), 12492),\n",
       " ((4.4459043, 5), 137),\n",
       " ((3.8456213, 4), 9607),\n",
       " ((3.914974, 5), 2904),\n",
       " ((4.280561, 4), 180),\n",
       " ((3.2085896, 4), 2902),\n",
       " ((3.579641, 4), 2120),\n",
       " ((3.6120489, 3), 3787),\n",
       " ((4.3835273, 5), 14406),\n",
       " ((4.30135, 2), 149),\n",
       " ((4.3983054, 5), 1370),\n",
       " ((4.242449, 4), 29751),\n",
       " ((3.4449098, 4), 2102),\n",
       " ((3.8444302, 5), 18491),\n",
       " ((3.6231248, 4), 10569),\n",
       " ((4.3515882, 3), 111),\n",
       " ((3.7992117, 1), 160),\n",
       " ((4.3814073, 4), 216)]"
      ]
     },
     "execution_count": 38,
     "metadata": {},
     "output_type": "execute_result"
    }
   ],
   "source": [
    "list(zip(zip(pred.flatten(), ratings[ratings.user_id==user_id].rating_score.values),movie_array))"
   ]
  },
  {
   "cell_type": "code",
   "execution_count": 33,
   "id": "f2cf28b1",
   "metadata": {},
   "outputs": [],
   "source": [
    "def is_close_enough(pred, ratings):\n",
    "    val = []\n",
    "    for pair in zip(pred, ratings):\n",
    "        val.append(pair[1] - .5 <= pair[0] <= pair[1] + .5)\n",
    "        \n",
    "    return val"
   ]
  },
  {
   "cell_type": "code",
   "execution_count": 34,
   "id": "6a76c0e2",
   "metadata": {},
   "outputs": [],
   "source": [
    "val = is_close_enough(np.round(pred.flatten(), 1), ratings[ratings.user_id==user_id].rating_score.values)"
   ]
  },
  {
   "cell_type": "code",
   "execution_count": 35,
   "id": "bda74ba0",
   "metadata": {},
   "outputs": [
    {
     "data": {
      "text/plain": [
       "0.36036036036036034"
      ]
     },
     "execution_count": 35,
     "metadata": {},
     "output_type": "execute_result"
    }
   ],
   "source": [
    "sum(val) / len(pred.flatten())"
   ]
  },
  {
   "cell_type": "code",
   "execution_count": 25,
   "id": "dc4b5e92",
   "metadata": {},
   "outputs": [],
   "source": [
    "import seaborn as sns"
   ]
  },
  {
   "cell_type": "code",
   "execution_count": 39,
   "id": "15d518f4",
   "metadata": {},
   "outputs": [
    {
     "data": {
      "image/png": "[encoded data removed]",
      "text/plain": [
       "<Figure size 432x288 with 1 Axes>"
      ]
     },
     "metadata": {
      "needs_background": "light"
     },
     "output_type": "display_data"
    }
   ],
   "source": [
    "sns.histplot(pred.flatten(), bins=5)\n",
    "sns.histplot(ratings[ratings.user_id==user_id].rating_score.values, bins=5)\n",
    "\n",
    "plt.show()"
   ]
  },
  {
   "cell_type": "code",
   "execution_count": null,
   "id": "8e33fd6a",
   "metadata": {},
   "outputs": [],
   "source": []
  },
  {
   "cell_type": "code",
   "execution_count": 47,
   "id": "78b9ce90",
   "metadata": {},
   "outputs": [
    {
     "data": {
      "text/plain": [
       "False"
      ]
     },
     "execution_count": 47,
     "metadata": {},
     "output_type": "execute_result"
    }
   ],
   "source": [
    "np.round(pred.flatten(), 1)[0] - .5 <= 2 <= np.round(pred.flatten(), 1)[0] + .5"
   ]
  },
  {
   "cell_type": "code",
   "execution_count": 41,
   "id": "9fa1a91a",
   "metadata": {},
   "outputs": [
    {
     "data": {
      "text/plain": [
       "4"
      ]
     },
     "execution_count": 41,
     "metadata": {},
     "output_type": "execute_result"
    }
   ],
   "source": [
    "ratings[ratings.user_id==user_id].rating_score.values[0]"
   ]
  },
  {
   "cell_type": "code",
   "execution_count": 54,
   "id": "37a4d68b",
   "metadata": {},
   "outputs": [
    {
     "data": {
      "text/plain": [
       "[((4.4, 4), True),\n",
       " ((3.0, 3), True),\n",
       " ((3.5, 2), False),\n",
       " ((4.2, 2), False),\n",
       " ((4.6, 5), True),\n",
       " ((4.3, 5), False),\n",
       " ((4.1, 5), False),\n",
       " ((3.5, 3), True),\n",
       " ((3.8, 5), False),\n",
       " ((3.7, 4), True),\n",
       " ((3.4, 2), False),\n",
       " ((4.3, 4), True),\n",
       " ((3.4, 3), True),\n",
       " ((3.8, 5), False),\n",
       " ((4.5, 5), True),\n",
       " ((3.8, 5), False),\n",
       " ((4.0, 4), True),\n",
       " ((4.2, 5), False),\n",
       " ((3.5, 3), True),\n",
       " ((3.8, 3), False),\n",
       " ((2.8, 4), False),\n",
       " ((4.4, 5), False),\n",
       " ((4.2, 2), False),\n",
       " ((3.1, 2), False),\n",
       " ((3.6, 4), True),\n",
       " ((4.2, 5), False),\n",
       " ((3.3, 3), True),\n",
       " ((4.2, 5), False),\n",
       " ((3.1, 3), True),\n",
       " ((4.0, 5), False),\n",
       " ((3.3, 2), False),\n",
       " ((3.6, 5), False),\n",
       " ((3.5, 3), True),\n",
       " ((3.6, 4), True),\n",
       " ((3.5, 4), True),\n",
       " ((3.3, 3), True),\n",
       " ((4.4, 5), False),\n",
       " ((3.8, 3), False),\n",
       " ((4.4, 5), False),\n",
       " ((3.9, 5), False),\n",
       " ((4.5, 5), True),\n",
       " ((3.6, 5), False),\n",
       " ((3.8, 5), False),\n",
       " ((3.9, 5), False),\n",
       " ((4.4, 4), True),\n",
       " ((3.1, 4), False),\n",
       " ((3.0, 1), False),\n",
       " ((3.8, 4), True),\n",
       " ((3.4, 3), True),\n",
       " ((3.9, 5), False),\n",
       " ((4.0, 5), False),\n",
       " ((3.9, 5), False),\n",
       " ((4.1, 4), True),\n",
       " ((4.0, 5), False),\n",
       " ((4.2, 5), False),\n",
       " ((4.3, 4), True),\n",
       " ((3.8, 4), True),\n",
       " ((3.4, 3), True),\n",
       " ((3.9, 5), False),\n",
       " ((3.8, 5), False),\n",
       " ((3.8, 5), False),\n",
       " ((3.0, 2), False),\n",
       " ((3.8, 2), False),\n",
       " ((4.1, 4), True),\n",
       " ((4.0, 4), True),\n",
       " ((4.2, 4), True),\n",
       " ((4.5, 4), True),\n",
       " ((3.1, 4), False),\n",
       " ((3.2, 3), True),\n",
       " ((4.2, 5), False),\n",
       " ((2.7, 4), False),\n",
       " ((3.4, 4), False),\n",
       " ((3.1, 4), False),\n",
       " ((4.4, 2), False),\n",
       " ((3.7, 3), False),\n",
       " ((4.1, 4), True),\n",
       " ((4.3, 5), False),\n",
       " ((3.9, 3), False),\n",
       " ((3.9, 4), True),\n",
       " ((4.3, 3), False),\n",
       " ((3.4, 2), False),\n",
       " ((4.1, 4), True),\n",
       " ((3.2, 5), False),\n",
       " ((3.7, 3), False),\n",
       " ((2.9, 3), True),\n",
       " ((3.6, 1), False),\n",
       " ((3.5, 3), True),\n",
       " ((3.7, 3), False),\n",
       " ((3.5, 3), True),\n",
       " ((3.2, 2), False),\n",
       " ((4.0, 4), True),\n",
       " ((4.1, 2), False),\n",
       " ((3.4, 4), False),\n",
       " ((2.2, 2), True),\n",
       " ((4.4, 5), False),\n",
       " ((3.8, 4), True),\n",
       " ((3.9, 5), False),\n",
       " ((4.3, 4), True),\n",
       " ((3.2, 4), False),\n",
       " ((3.6, 4), True),\n",
       " ((3.6, 3), False),\n",
       " ((4.4, 5), False),\n",
       " ((4.3, 2), False),\n",
       " ((4.4, 5), False),\n",
       " ((4.2, 4), True),\n",
       " ((3.4, 4), False),\n",
       " ((3.8, 5), False),\n",
       " ((3.6, 4), True),\n",
       " ((4.4, 3), False),\n",
       " ((3.8, 1), False),\n",
       " ((4.4, 4), True)]"
      ]
     },
     "execution_count": 54,
     "metadata": {},
     "output_type": "execute_result"
    }
   ],
   "source": [
    "list(zip(zip(np.round(pred.flatten(), 1), ratings[ratings.user_id==user_id].rating_score.values),val))"
   ]
  },
  {
   "cell_type": "code",
   "execution_count": null,
   "id": "d7197171",
   "metadata": {},
   "outputs": [],
   "source": []
  }
 ],
 "metadata": {
  "kernelspec": {
   "display_name": "tf_env",
   "language": "python",
   "name": "tf_env"
  },
  "language_info": {
   "codemirror_mode": {
    "name": "ipython",
    "version": 3
   },
   "file_extension": ".py",
   "mimetype": "text/x-python",
   "name": "python",
   "nbconvert_exporter": "python",
   "pygments_lexer": "ipython3",
   "version": "3.8.5"
  }
 },
 "nbformat": 4,
 "nbformat_minor": 5
}
