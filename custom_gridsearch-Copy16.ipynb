{
 "cells": [
  {
   "cell_type": "code",
   "execution_count": 1,
   "id": "d559540b",
   "metadata": {},
   "outputs": [],
   "source": [
    "import tensorflow as tf\n",
    "# from tensorboard.plugins.hparams import api as hp\n",
    "from tensorflow import keras"
   ]
  },
  {
   "cell_type": "code",
   "execution_count": 2,
   "id": "6b1d7c5b",
   "metadata": {},
   "outputs": [],
   "source": [
    "import pandas as pd\n",
    "import numpy as np\n",
    "from sklearn.model_selection import train_test_split\n",
    "from sklearn.preprocessing import LabelEncoder"
   ]
  },
  {
   "cell_type": "code",
   "execution_count": 3,
   "id": "8eae722a",
   "metadata": {},
   "outputs": [],
   "source": [
    "import matplotlib.pyplot as plt\n",
    "import seaborn as sns"
   ]
  },
  {
   "cell_type": "code",
   "execution_count": 4,
   "id": "bac8fdd1",
   "metadata": {},
   "outputs": [],
   "source": [
    "import warnings\n",
    "warnings.filterwarnings('ignore')"
   ]
  },
  {
   "cell_type": "code",
   "execution_count": 5,
   "id": "d0d1933e",
   "metadata": {},
   "outputs": [],
   "source": [
    "ratings = pd.read_pickle(\"./Data/reviews_20_1000_longform.pkl\")"
   ]
  },
  {
   "cell_type": "code",
   "execution_count": 6,
   "id": "877e1308",
   "metadata": {},
   "outputs": [
    {
     "data": {
      "text/plain": [
       "(8854093, 3)"
      ]
     },
     "execution_count": 6,
     "metadata": {},
     "output_type": "execute_result"
    }
   ],
   "source": [
    "ratings.shape"
   ]
  },
  {
   "cell_type": "code",
   "execution_count": 7,
   "id": "9586f72c",
   "metadata": {},
   "outputs": [
    {
     "data": {
      "text/plain": [
       "(64815, 89418)"
      ]
     },
     "execution_count": 7,
     "metadata": {},
     "output_type": "execute_result"
    }
   ],
   "source": [
    "user_enc = LabelEncoder()\n",
    "ratings['user'] = user_enc.fit_transform(ratings['user_id'].values)\n",
    "n_users = ratings['user'].nunique()\n",
    "\n",
    "item_enc = LabelEncoder()\n",
    "ratings['movie'] = item_enc.fit_transform(ratings['movie_id'].values)\n",
    "n_movies = ratings['movie'].nunique()\n",
    "\n",
    "nmovie_id = ratings.movie_id.nunique()\n",
    "nuser_id = ratings.user_id.nunique()\n",
    "\n",
    "n_users, n_movies"
   ]
  },
  {
   "cell_type": "code",
   "execution_count": 8,
   "id": "1b38bee2",
   "metadata": {},
   "outputs": [],
   "source": [
    "X_train, X_test = train_test_split(ratings[['movie', 'user', 'rating_score']], test_size=0.3, random_state=42)"
   ]
  },
  {
   "cell_type": "code",
   "execution_count": 9,
   "id": "43c9930f",
   "metadata": {},
   "outputs": [
    {
     "data": {
      "text/plain": [
       "((6197865, 3), (2656228, 3))"
      ]
     },
     "execution_count": 9,
     "metadata": {},
     "output_type": "execute_result"
    }
   ],
   "source": [
    "X_train.shape, X_test.shape"
   ]
  },
  {
   "cell_type": "code",
   "execution_count": 10,
   "id": "65b41da0",
   "metadata": {},
   "outputs": [],
   "source": [
    "def train_test_model(output_bias):\n",
    "    \n",
    "    input_movies = keras.layers.Input(shape=[1])\n",
    "    embed_movies = keras.layers.Embedding(nmovie_id+1, 15)(input_movies)\n",
    "    movies_out = keras.layers.Flatten()(embed_movies)\n",
    "\n",
    "    input_users = keras.layers.Input(shape=[1])\n",
    "    embed_users = keras.layers.Embedding(nuser_id+1, 15)(input_users)\n",
    "    users_out = keras.layers.Flatten()(embed_users)\n",
    "\n",
    "    bias = keras.initializers.Constant(output_bias)\n",
    "    \n",
    "    conc_layer = keras.layers.Concatenate()([movies_out, users_out])\n",
    "    \n",
    "    dense1 = keras.layers.Dense(128,activation='relu', kernel_regularizer='l2')(conc_layer)\n",
    "    \n",
    "    dropout1 = keras.layers.Dropout(rate=.6, seed=42)(dense1)\n",
    "    \n",
    "    dense2 = keras.layers.Dense(64,activation='relu', kernel_regularizer='l2')(dropout1)\n",
    "    \n",
    "    dropout2 = keras.layers.Dropout(rate=.5, seed=42)(dense2)\n",
    "    \n",
    "    dense3 = keras.layers.Dense(32, activation='relu', kernel_regularizer='l2')(dropout2)\n",
    "    \n",
    "    dropout3 = keras.layers.Dropout(rate=.4, seed=42)(dense3)\n",
    "    \n",
    "    dense4 = keras.layers.Dense(16, activation='relu', kernel_regularizer='l2')(dropout3)\n",
    "    \n",
    "    x_out = keras.layers.Dense(1, activation='relu', kernel_regularizer='l2', bias_initializer=bias)(dense3)\n",
    "\n",
    "    model = keras.Model([input_movies, input_users], x_out)\n",
    "    \n",
    "    opt = tf.optimizers.Adam(learning_rate=.01)\n",
    "    model.compile(optimizer=opt, loss='mean_squared_error', metrics = keras.metrics.RootMeanSquaredError())\n",
    "\n",
    "\n",
    "#     print(hist.history['val_mean_squared_error'])\n",
    "    return model"
   ]
  },
  {
   "cell_type": "code",
   "execution_count": 11,
   "id": "5bbb087a",
   "metadata": {},
   "outputs": [],
   "source": [
    "callback = keras.callbacks.EarlyStopping(monitor='val_root_mean_squared_error',\n",
    "                                        min_delta=.001,\n",
    "                                        patience=30,\n",
    "                                        mode=\"auto\",\n",
    "                                        restore_best_weights=True)"
   ]
  },
  {
   "cell_type": "code",
   "execution_count": 13,
   "id": "c53d9c93",
   "metadata": {},
   "outputs": [],
   "source": [
    "model = train_test_model(output_bias=0)"
   ]
  },
  {
   "cell_type": "code",
   "execution_count": 14,
   "id": "f388bc27",
   "metadata": {
    "scrolled": true
   },
   "outputs": [
    {
     "name": "stdout",
     "output_type": "stream",
     "text": [
      "Epoch 1/100\n",
      "1/1 [==============================] - 14s 14s/step - loss: 16.6554 - root_mean_squared_error: 3.8570 - val_loss: 15.3073 - val_root_mean_squared_error: 3.7066\n",
      "Epoch 2/100\n",
      "1/1 [==============================] - 9s 9s/step - loss: 15.3034 - root_mean_squared_error: 3.7060 - val_loss: 13.4078 - val_root_mean_squared_error: 3.4624\n",
      "Epoch 3/100\n",
      "1/1 [==============================] - 9s 9s/step - loss: 13.3891 - root_mean_squared_error: 3.4597 - val_loss: 10.4492 - val_root_mean_squared_error: 3.0232\n",
      "Epoch 4/100\n",
      "1/1 [==============================] - 8s 8s/step - loss: 10.4294 - root_mean_squared_error: 3.0200 - val_loss: 6.3526 - val_root_mean_squared_error: 2.2628\n",
      "Epoch 5/100\n",
      "1/1 [==============================] - 8s 8s/step - loss: 6.4259 - root_mean_squared_error: 2.2790 - val_loss: 2.6175 - val_root_mean_squared_error: 1.1975\n",
      "Epoch 6/100\n",
      "1/1 [==============================] - 8s 8s/step - loss: 3.1545 - root_mean_squared_error: 1.4039 - val_loss: 5.2403 - val_root_mean_squared_error: 2.0227\n",
      "Epoch 7/100\n",
      "1/1 [==============================] - 9s 9s/step - loss: 7.0961 - root_mean_squared_error: 2.4387 - val_loss: 3.7336 - val_root_mean_squared_error: 1.6306\n",
      "Epoch 8/100\n",
      "1/1 [==============================] - 9s 9s/step - loss: 5.2620 - root_mean_squared_error: 2.0462 - val_loss: 2.0815 - val_root_mean_squared_error: 1.0406\n",
      "Epoch 9/100\n",
      "1/1 [==============================] - 9s 9s/step - loss: 2.9913 - root_mean_squared_error: 1.4116 - val_loss: 2.1544 - val_root_mean_squared_error: 1.1063\n",
      "Epoch 10/100\n",
      "1/1 [==============================] - 9s 9s/step - loss: 2.6404 - root_mean_squared_error: 1.3076 - val_loss: 2.8804 - val_root_mean_squared_error: 1.4166\n",
      "Epoch 11/100\n",
      "1/1 [==============================] - 9s 9s/step - loss: 3.1396 - root_mean_squared_error: 1.5053 - val_loss: 3.4495 - val_root_mean_squared_error: 1.6191\n",
      "Epoch 12/100\n",
      "1/1 [==============================] - 9s 9s/step - loss: 3.6034 - root_mean_squared_error: 1.6660 - val_loss: 3.6368 - val_root_mean_squared_error: 1.6868\n",
      "Epoch 13/100\n",
      "1/1 [==============================] - 9s 9s/step - loss: 3.7556 - root_mean_squared_error: 1.7216 - val_loss: 3.4631 - val_root_mean_squared_error: 1.6431\n",
      "Epoch 14/100\n",
      "1/1 [==============================] - 9s 9s/step - loss: 3.5936 - root_mean_squared_error: 1.6823 - val_loss: 3.0220 - val_root_mean_squared_error: 1.5100\n",
      "Epoch 15/100\n",
      "1/1 [==============================] - 8s 8s/step - loss: 3.2012 - root_mean_squared_error: 1.5683 - val_loss: 2.4419 - val_root_mean_squared_error: 1.3100\n",
      "Epoch 16/100\n",
      "1/1 [==============================] - 8s 8s/step - loss: 2.7063 - root_mean_squared_error: 1.4073 - val_loss: 1.8886 - val_root_mean_squared_error: 1.0836\n",
      "Epoch 17/100\n",
      "1/1 [==============================] - 9s 9s/step - loss: 2.2806 - root_mean_squared_error: 1.2514 - val_loss: 1.5429 - val_root_mean_squared_error: 0.9147\n",
      "Epoch 18/100\n",
      "1/1 [==============================] - 9s 9s/step - loss: 2.1025 - root_mean_squared_error: 1.1817 - val_loss: 1.5032 - val_root_mean_squared_error: 0.8968\n",
      "Epoch 19/100\n",
      "1/1 [==============================] - 9s 9s/step - loss: 2.2510 - root_mean_squared_error: 1.2458 - val_loss: 1.6504 - val_root_mean_squared_error: 0.9796\n",
      "Epoch 20/100\n",
      "1/1 [==============================] - 9s 9s/step - loss: 2.5445 - root_mean_squared_error: 1.3615 - val_loss: 1.7128 - val_root_mean_squared_error: 1.0164\n",
      "Epoch 21/100\n",
      "1/1 [==============================] - 9s 9s/step - loss: 2.6441 - root_mean_squared_error: 1.4016 - val_loss: 1.5869 - val_root_mean_squared_error: 0.9598\n",
      "Epoch 22/100\n",
      "1/1 [==============================] - 9s 9s/step - loss: 2.4383 - root_mean_squared_error: 1.3314 - val_loss: 1.4251 - val_root_mean_squared_error: 0.8806\n",
      "Epoch 23/100\n",
      "1/1 [==============================] - 9s 9s/step - loss: 2.1302 - root_mean_squared_error: 1.2168 - val_loss: 1.3911 - val_root_mean_squared_error: 0.8707\n",
      "Epoch 24/100\n",
      "1/1 [==============================] - 9s 9s/step - loss: 1.9446 - root_mean_squared_error: 1.1452 - val_loss: 1.5076 - val_root_mean_squared_error: 0.9436\n",
      "Epoch 25/100\n",
      "1/1 [==============================] - 9s 9s/step - loss: 1.9343 - root_mean_squared_error: 1.1477 - val_loss: 1.6778 - val_root_mean_squared_error: 1.0370\n",
      "Epoch 26/100\n",
      "1/1 [==============================] - 9s 9s/step - loss: 2.0187 - root_mean_squared_error: 1.1901 - val_loss: 1.8001 - val_root_mean_squared_error: 1.1004\n",
      "Epoch 27/100\n",
      "1/1 [==============================] - 9s 9s/step - loss: 2.0947 - root_mean_squared_error: 1.2270 - val_loss: 1.8412 - val_root_mean_squared_error: 1.1241\n",
      "Epoch 28/100\n",
      "1/1 [==============================] - 9s 9s/step - loss: 2.1106 - root_mean_squared_error: 1.2381 - val_loss: 1.7875 - val_root_mean_squared_error: 1.1044\n",
      "Epoch 29/100\n",
      "1/1 [==============================] - 9s 9s/step - loss: 2.0565 - root_mean_squared_error: 1.2201 - val_loss: 1.6597 - val_root_mean_squared_error: 1.0489\n",
      "Epoch 30/100\n",
      "1/1 [==============================] - 9s 9s/step - loss: 1.9504 - root_mean_squared_error: 1.1793 - val_loss: 1.4949 - val_root_mean_squared_error: 0.9708\n",
      "Epoch 31/100\n",
      "1/1 [==============================] - 9s 9s/step - loss: 1.8328 - root_mean_squared_error: 1.1316 - val_loss: 1.3524 - val_root_mean_squared_error: 0.8980\n",
      "Epoch 32/100\n",
      "1/1 [==============================] - 9s 9s/step - loss: 1.7532 - root_mean_squared_error: 1.0987 - val_loss: 1.2739 - val_root_mean_squared_error: 0.8568\n",
      "Epoch 33/100\n",
      "1/1 [==============================] - 9s 9s/step - loss: 1.7424 - root_mean_squared_error: 1.0967 - val_loss: 1.2593 - val_root_mean_squared_error: 0.8523\n",
      "Epoch 34/100\n",
      "1/1 [==============================] - 9s 9s/step - loss: 1.7858 - root_mean_squared_error: 1.1194 - val_loss: 1.2649 - val_root_mean_squared_error: 0.8603\n",
      "Epoch 35/100\n",
      "1/1 [==============================] - 9s 9s/step - loss: 1.8173 - root_mean_squared_error: 1.1369 - val_loss: 1.2504 - val_root_mean_squared_error: 0.8575\n",
      "Epoch 36/100\n",
      "1/1 [==============================] - 9s 9s/step - loss: 1.7872 - root_mean_squared_error: 1.1279 - val_loss: 1.2253 - val_root_mean_squared_error: 0.8491\n",
      "Epoch 37/100\n",
      "1/1 [==============================] - 9s 9s/step - loss: 1.7092 - root_mean_squared_error: 1.0977 - val_loss: 1.2279 - val_root_mean_squared_error: 0.8574\n",
      "Epoch 38/100\n",
      "1/1 [==============================] - 9s 9s/step - loss: 1.6386 - root_mean_squared_error: 1.0704 - val_loss: 1.2779 - val_root_mean_squared_error: 0.8923\n",
      "Epoch 39/100\n",
      "1/1 [==============================] - 9s 9s/step - loss: 1.6163 - root_mean_squared_error: 1.0652 - val_loss: 1.3463 - val_root_mean_squared_error: 0.9354\n",
      "Epoch 40/100\n",
      "1/1 [==============================] - 8s 8s/step - loss: 1.6286 - root_mean_squared_error: 1.0758 - val_loss: 1.3806 - val_root_mean_squared_error: 0.9586\n",
      "Epoch 41/100\n",
      "1/1 [==============================] - 9s 9s/step - loss: 1.6381 - root_mean_squared_error: 1.0846 - val_loss: 1.3589 - val_root_mean_squared_error: 0.9518\n",
      "Epoch 42/100\n",
      "1/1 [==============================] - 9s 9s/step - loss: 1.6156 - root_mean_squared_error: 1.0783 - val_loss: 1.2951 - val_root_mean_squared_error: 0.9219\n",
      "Epoch 43/100\n",
      "1/1 [==============================] - 9s 9s/step - loss: 1.5725 - root_mean_squared_error: 1.0617 - val_loss: 1.2213 - val_root_mean_squared_error: 0.8848\n",
      "Epoch 44/100\n",
      "1/1 [==============================] - 9s 9s/step - loss: 1.5317 - root_mean_squared_error: 1.0456 - val_loss: 1.1672 - val_root_mean_squared_error: 0.8575\n",
      "Epoch 45/100\n",
      "1/1 [==============================] - 9s 9s/step - loss: 1.5115 - root_mean_squared_error: 1.0391 - val_loss: 1.1421 - val_root_mean_squared_error: 0.8465\n",
      "Epoch 46/100\n",
      "1/1 [==============================] - 8s 8s/step - loss: 1.5139 - root_mean_squared_error: 1.0433 - val_loss: 1.1332 - val_root_mean_squared_error: 0.8453\n",
      "Epoch 47/100\n",
      "1/1 [==============================] - 9s 9s/step - loss: 1.5166 - root_mean_squared_error: 1.0478 - val_loss: 1.1256 - val_root_mean_squared_error: 0.8451\n",
      "Epoch 48/100\n",
      "1/1 [==============================] - 9s 9s/step - loss: 1.4992 - root_mean_squared_error: 1.0430 - val_loss: 1.1197 - val_root_mean_squared_error: 0.8463\n",
      "Epoch 49/100\n"
     ]
    },
    {
     "name": "stdout",
     "output_type": "stream",
     "text": [
      "1/1 [==============================] - 9s 9s/step - loss: 1.4698 - root_mean_squared_error: 1.0327 - val_loss: 1.1249 - val_root_mean_squared_error: 0.8542\n",
      "Epoch 50/100\n",
      "1/1 [==============================] - 9s 9s/step - loss: 1.4420 - root_mean_squared_error: 1.0231 - val_loss: 1.1432 - val_root_mean_squared_error: 0.8694\n",
      "Epoch 51/100\n",
      "1/1 [==============================] - 9s 9s/step - loss: 1.4289 - root_mean_squared_error: 1.0206 - val_loss: 1.1633 - val_root_mean_squared_error: 0.8851\n",
      "Epoch 52/100\n",
      "1/1 [==============================] - 9s 9s/step - loss: 1.4242 - root_mean_squared_error: 1.0219 - val_loss: 1.1701 - val_root_mean_squared_error: 0.8927\n",
      "Epoch 53/100\n",
      "1/1 [==============================] - 8s 8s/step - loss: 1.4179 - root_mean_squared_error: 1.0221 - val_loss: 1.1563 - val_root_mean_squared_error: 0.8884\n",
      "Epoch 54/100\n",
      "1/1 [==============================] - 9s 9s/step - loss: 1.4008 - root_mean_squared_error: 1.0167 - val_loss: 1.1271 - val_root_mean_squared_error: 0.8749\n",
      "Epoch 55/100\n",
      "1/1 [==============================] - 9s 9s/step - loss: 1.3786 - root_mean_squared_error: 1.0084 - val_loss: 1.0958 - val_root_mean_squared_error: 0.8597\n",
      "Epoch 56/100\n",
      "1/1 [==============================] - 9s 9s/step - loss: 1.3585 - root_mean_squared_error: 1.0008 - val_loss: 1.0739 - val_root_mean_squared_error: 0.8496\n",
      "Epoch 57/100\n",
      "1/1 [==============================] - 9s 9s/step - loss: 1.3468 - root_mean_squared_error: 0.9973 - val_loss: 1.0627 - val_root_mean_squared_error: 0.8458\n",
      "Epoch 58/100\n",
      "1/1 [==============================] - 9s 9s/step - loss: 1.3405 - root_mean_squared_error: 0.9966 - val_loss: 1.0569 - val_root_mean_squared_error: 0.8453\n",
      "Epoch 59/100\n",
      "1/1 [==============================] - 8s 8s/step - loss: 1.3289 - root_mean_squared_error: 0.9933 - val_loss: 1.0543 - val_root_mean_squared_error: 0.8469\n",
      "Epoch 60/100\n",
      "1/1 [==============================] - 9s 9s/step - loss: 1.3113 - root_mean_squared_error: 0.9871 - val_loss: 1.0584 - val_root_mean_squared_error: 0.8525\n",
      "Epoch 61/100\n",
      "1/1 [==============================] - 9s 9s/step - loss: 1.2943 - root_mean_squared_error: 0.9811 - val_loss: 1.0684 - val_root_mean_squared_error: 0.8614\n",
      "Epoch 62/100\n",
      "1/1 [==============================] - 8s 8s/step - loss: 1.2856 - root_mean_squared_error: 0.9794 - val_loss: 1.0750 - val_root_mean_squared_error: 0.8680\n",
      "Epoch 63/100\n",
      "1/1 [==============================] - 9s 9s/step - loss: 1.2777 - root_mean_squared_error: 0.9778 - val_loss: 1.0681 - val_root_mean_squared_error: 0.8665\n",
      "Epoch 64/100\n",
      "1/1 [==============================] - 9s 9s/step - loss: 1.2662 - root_mean_squared_error: 0.9742 - val_loss: 1.0502 - val_root_mean_squared_error: 0.8586\n",
      "Epoch 65/100\n",
      "1/1 [==============================] - 9s 9s/step - loss: 1.2511 - root_mean_squared_error: 0.9685 - val_loss: 1.0324 - val_root_mean_squared_error: 0.8505\n",
      "Epoch 66/100\n",
      "1/1 [==============================] - 9s 9s/step - loss: 1.2392 - root_mean_squared_error: 0.9644 - val_loss: 1.0217 - val_root_mean_squared_error: 0.8465\n",
      "Epoch 67/100\n",
      "1/1 [==============================] - 9s 9s/step - loss: 1.2314 - root_mean_squared_error: 0.9624 - val_loss: 1.0166 - val_root_mean_squared_error: 0.8458\n",
      "Epoch 68/100\n",
      "1/1 [==============================] - 9s 9s/step - loss: 1.2231 - root_mean_squared_error: 0.9602 - val_loss: 1.0149 - val_root_mean_squared_error: 0.8473\n",
      "Epoch 69/100\n",
      "1/1 [==============================] - 9s 9s/step - loss: 1.2100 - root_mean_squared_error: 0.9556 - val_loss: 1.0182 - val_root_mean_squared_error: 0.8518\n",
      "Epoch 70/100\n",
      "1/1 [==============================] - 8s 8s/step - loss: 1.1972 - root_mean_squared_error: 0.9511 - val_loss: 1.0241 - val_root_mean_squared_error: 0.8576\n",
      "Epoch 71/100\n",
      "1/1 [==============================] - 9s 9s/step - loss: 1.1894 - root_mean_squared_error: 0.9491 - val_loss: 1.0243 - val_root_mean_squared_error: 0.8600\n",
      "Epoch 72/100\n",
      "1/1 [==============================] - 9s 9s/step - loss: 1.1816 - root_mean_squared_error: 0.9471 - val_loss: 1.0150 - val_root_mean_squared_error: 0.8567\n",
      "Epoch 73/100\n",
      "1/1 [==============================] - 9s 9s/step - loss: 1.1709 - root_mean_squared_error: 0.9433 - val_loss: 1.0027 - val_root_mean_squared_error: 0.8514\n",
      "Epoch 74/100\n",
      "1/1 [==============================] - 8s 8s/step - loss: 1.1606 - root_mean_squared_error: 0.9396 - val_loss: 0.9943 - val_root_mean_squared_error: 0.8485\n",
      "Epoch 75/100\n",
      "1/1 [==============================] - 8s 8s/step - loss: 1.1537 - root_mean_squared_error: 0.9377 - val_loss: 0.9904 - val_root_mean_squared_error: 0.8482\n",
      "Epoch 76/100\n",
      "1/1 [==============================] - 9s 9s/step - loss: 1.1469 - root_mean_squared_error: 0.9359 - val_loss: 0.9899 - val_root_mean_squared_error: 0.8499\n"
     ]
    }
   ],
   "source": [
    "output = model.fit([X_train.movie, X_train.user], \n",
    "             X_train.rating_score,  \n",
    "             batch_size=len(X_train), epochs=100, validation_split=.2,\n",
    "                  callbacks=[callback])"
   ]
  },
  {
   "cell_type": "code",
   "execution_count": 120,
   "id": "787b402c",
   "metadata": {},
   "outputs": [
    {
     "data": {
      "text/plain": [
       "0.8430203199386597"
      ]
     },
     "execution_count": 120,
     "metadata": {},
     "output_type": "execute_result"
    }
   ],
   "source": [
    "callback.best"
   ]
  },
  {
   "cell_type": "code",
   "execution_count": 121,
   "id": "59ef7984",
   "metadata": {},
   "outputs": [
    {
     "data": {
      "text/plain": [
       "'val_root_mean_squared_error'"
      ]
     },
     "execution_count": 121,
     "metadata": {},
     "output_type": "execute_result"
    }
   ],
   "source": [
    "callback.monitor"
   ]
  },
  {
   "cell_type": "code",
   "execution_count": 122,
   "id": "cce9c693",
   "metadata": {},
   "outputs": [
    {
     "data": {
      "text/plain": [
       "<tensorflow.python.keras.engine.functional.Functional at 0x7ef8b7792a00>"
      ]
     },
     "execution_count": 122,
     "metadata": {},
     "output_type": "execute_result"
    }
   ],
   "source": [
    "callback.model"
   ]
  },
  {
   "cell_type": "code",
   "execution_count": 30,
   "id": "d0b4e261",
   "metadata": {},
   "outputs": [],
   "source": [
    "model.save('saved_model/copy16/model.h5')"
   ]
  },
  {
   "cell_type": "code",
   "execution_count": null,
   "id": "64ceec14",
   "metadata": {},
   "outputs": [],
   "source": []
  },
  {
   "cell_type": "code",
   "execution_count": null,
   "id": "a055b0bb",
   "metadata": {},
   "outputs": [],
   "source": [
    "output2 = model.fit([X_train.movie, X_train.user], \n",
    "             X_train.rating_score,  \n",
    "             batch_size=len(X_train), epochs=10, validation_split=.2,\n",
    "                  callbacks=[callback])"
   ]
  },
  {
   "cell_type": "code",
   "execution_count": null,
   "id": "afaaaf6c",
   "metadata": {},
   "outputs": [],
   "source": []
  },
  {
   "cell_type": "code",
   "execution_count": 15,
   "id": "d760a456",
   "metadata": {},
   "outputs": [
    {
     "data": {
      "image/png": "[encoded data removed]",
      "text/plain": [
       "<Figure size 720x216 with 2 Axes>"
      ]
     },
     "metadata": {
      "needs_background": "light"
     },
     "output_type": "display_data"
    }
   ],
   "source": [
    "fig, axs = plt.subplots(ncols=2, figsize=(10, 3))\n",
    "\n",
    "\n",
    "axs[0].plot(output.history['loss'], color='r')\n",
    "axs[0].plot(output.history['val_loss'], color='b')\n",
    "\n",
    "axs[1].plot(output.history['root_mean_squared_error'], color='r')\n",
    "axs[1].plot(output.history['val_root_mean_squared_error'], color='b')\n",
    "axs[1].axvline(np.where(output.history['val_root_mean_squared_error']==np.min(output.history['val_root_mean_squared_error'])), \n",
    "                 color='k', lw=1)\n",
    "axs[1].annotate(str(np.min(output.history['val_root_mean_squared_error'])),\n",
    "                    xy=(40,3),)\n",
    "\n",
    "#     title_str = '-'.join(str(run_history[key]['params'][param]) for param in run_history[key]['params'].keys(),\n",
    "#                         xytext=(.8,.8), xycoords='subfigure fraction')\n",
    "\n",
    "axs[0].set_title(\"mse\")\n",
    "axs[1].set_title(\"rmse\")\n",
    "\n",
    "axs[0].set_ylim(0,10)\n",
    "axs[1].set_ylim(0,5)\n",
    "\n",
    "axs[1].axhline(1, color='k', lw=1)\n",
    "    \n",
    "plt.tight_layout()   \n",
    "plt.show()"
   ]
  },
  {
   "cell_type": "code",
   "execution_count": 90,
   "id": "ad29f6f0",
   "metadata": {},
   "outputs": [
    {
     "data": {
      "text/plain": [
       "100"
      ]
     },
     "execution_count": 90,
     "metadata": {},
     "output_type": "execute_result"
    }
   ],
   "source": [
    "len(output.history['loss'])"
   ]
  },
  {
   "cell_type": "code",
   "execution_count": 91,
   "id": "fa34188c",
   "metadata": {},
   "outputs": [
    {
     "data": {
      "text/plain": [
       "[<tf.Variable 'embedding_14/embeddings:0' shape=(89419, 15) dtype=float32, numpy=\n",
       " array([[-0.04060972, -0.0408831 , -0.07540319, ...,  0.05272159,\n",
       "         -0.01610826,  0.03636319],\n",
       "        [-0.07631765,  0.01794105, -0.00635751, ..., -0.0513144 ,\n",
       "         -0.06476335, -0.01258612],\n",
       "        [-0.02940135, -0.03517935, -0.00887026, ...,  0.12255664,\n",
       "          0.15908323,  0.02870064],\n",
       "        ...,\n",
       "        [ 0.02127912,  0.04027199,  0.00054735, ..., -0.1885152 ,\n",
       "         -0.03283613, -0.06176513],\n",
       "        [ 0.01619839,  0.04960533,  0.02113556, ...,  0.09155231,\n",
       "          0.01556375,  0.04586617],\n",
       "        [ 0.01719183,  0.03272376, -0.01236945, ...,  0.01487299,\n",
       "         -0.04141879,  0.04155825]], dtype=float32)>,\n",
       " <tf.Variable 'embedding_15/embeddings:0' shape=(64816, 15) dtype=float32, numpy=\n",
       " array([[-0.07097471, -0.10677434, -0.12696075, ..., -0.08312505,\n",
       "         -0.07205073, -0.0492179 ],\n",
       "        [ 0.0753029 , -0.00496834, -0.00133236, ...,  0.05152988,\n",
       "          0.0306449 , -0.05259011],\n",
       "        [ 0.06397249,  0.08811894,  0.00644456, ...,  0.12881456,\n",
       "          0.00618854,  0.09534803],\n",
       "        ...,\n",
       "        [-0.03032211, -0.02067773,  0.01668265, ..., -0.04993582,\n",
       "         -0.05132934,  0.00248043],\n",
       "        [ 0.02575322, -0.04590441,  0.02100513, ..., -0.0172494 ,\n",
       "          0.02780226, -0.0088946 ],\n",
       "        [ 0.02913313, -0.01719033, -0.03479009, ...,  0.03208091,\n",
       "         -0.03768612,  0.0320279 ]], dtype=float32)>,\n",
       " <tf.Variable 'dense_32/kernel:0' shape=(30, 128) dtype=float32, numpy=\n",
       " array([[ 1.5295780e-02, -6.6475041e-04,  1.7101372e-02, ...,\n",
       "          1.1180621e-04,  4.3787584e-02,  1.1528961e-02],\n",
       "        [ 7.8052976e-03,  2.3362110e-04, -4.1826577e-03, ...,\n",
       "         -2.3623877e-05,  1.0364839e-02,  5.6529744e-03],\n",
       "        [ 1.2881858e-02,  8.6053170e-04,  1.1260245e-02, ...,\n",
       "          5.7313031e-05,  3.8682315e-02,  1.2721887e-02],\n",
       "        ...,\n",
       "        [-2.0597616e-02, -2.8871631e-04, -4.1643601e-02, ...,\n",
       "          4.0666948e-04, -5.0615268e-03, -4.1382287e-02],\n",
       "        [-8.2486840e-03, -6.3400163e-04, -3.6194749e-02, ...,\n",
       "          2.3573826e-05, -3.8754825e-02, -3.7649218e-02],\n",
       "        [ 5.4320162e-03, -2.4776300e-04, -2.6037721e-02, ...,\n",
       "          4.2780000e-04, -6.6272408e-02, -1.6481819e-02]], dtype=float32)>,\n",
       " <tf.Variable 'dense_32/bias:0' shape=(128,) dtype=float32, numpy=\n",
       " array([ 0.0371747 , -0.1023711 ,  0.04306002,  0.0468374 , -0.04735133,\n",
       "         0.04555471, -0.09353155,  0.04024534,  0.0321504 ,  0.04845939,\n",
       "        -0.09939567,  0.04050443, -0.0959291 ,  0.02349846,  0.04376367,\n",
       "        -0.02257023,  0.04794627,  0.04353931,  0.05066973,  0.04100508,\n",
       "         0.00831581, -0.0100784 ,  0.03976767, -0.0940553 , -0.00446828,\n",
       "        -0.02110382,  0.0418701 ,  0.04325078,  0.00608094,  0.04542106,\n",
       "        -0.10322579,  0.04491941, -0.01965196, -0.08801329, -0.00055386,\n",
       "        -0.10111856, -0.09156516, -0.06329799, -0.09833757,  0.04873508,\n",
       "        -0.08413235,  0.04246772, -0.07174245,  0.0360207 ,  0.0467156 ,\n",
       "         0.04499827,  0.04327533,  0.04562854,  0.04540145, -0.08266249,\n",
       "         0.03725973,  0.04761103,  0.04068732, -0.09543792,  0.04355907,\n",
       "         0.0459094 ,  0.04245615,  0.04043169, -0.08778936,  0.02889022,\n",
       "        -0.09008438, -0.08537195,  0.04336667,  0.0357128 ,  0.04262505,\n",
       "        -0.01261566,  0.04384232,  0.04399301, -0.09161666, -0.09713206,\n",
       "         0.04848541,  0.03919575, -0.0912591 , -0.03042919, -0.05642344,\n",
       "         0.00174266, -0.08552541, -0.06532459,  0.03375098, -0.09087045,\n",
       "         0.04665263,  0.04071897,  0.04386648,  0.04951899,  0.04221785,\n",
       "        -0.07133762, -0.07395039,  0.01590523,  0.04099347, -0.1064743 ,\n",
       "         0.02941141,  0.04386131,  0.04929784,  0.04243619,  0.01465108,\n",
       "        -0.08961285, -0.00303195,  0.0369447 ,  0.04383133, -0.0468077 ,\n",
       "         0.00765274,  0.04387626,  0.0460291 ,  0.04422492, -0.05554495,\n",
       "         0.0446579 ,  0.04341277,  0.04624182,  0.04443892, -0.08397055,\n",
       "         0.04110755,  0.04180937,  0.04148164,  0.0422663 ,  0.03888365,\n",
       "         0.04398013, -0.0568579 , -0.09752482,  0.04692052, -0.05283023,\n",
       "        -0.00800926, -0.09502779,  0.0446252 , -0.0533563 ,  0.0429077 ,\n",
       "        -0.10098504,  0.04464726,  0.04881814], dtype=float32)>,\n",
       " <tf.Variable 'dense_33/kernel:0' shape=(128, 64) dtype=float32, numpy=\n",
       " array([[ 3.2258481e-02, -4.0187489e-04,  7.0927688e-03, ...,\n",
       "         -4.7199719e-02,  8.4080115e-02, -2.2686276e-04],\n",
       "        [ 3.8440898e-04,  5.4514810e-04,  3.1937478e-04, ...,\n",
       "          1.6415032e-04, -2.9330954e-04,  7.4050715e-04],\n",
       "        [ 3.5594586e-02,  2.3684197e-03, -1.7727466e-02, ...,\n",
       "          8.1454217e-02,  3.0047897e-02,  6.0127478e-04],\n",
       "        ...,\n",
       "        [ 2.9789971e-04, -2.9707220e-04,  4.1958792e-04, ...,\n",
       "          8.4997684e-04,  6.8581023e-05, -2.5548210e-04],\n",
       "        [ 9.0265684e-02,  1.3459401e-03,  3.3727266e-02, ...,\n",
       "          3.0052855e-03,  3.7841357e-02,  4.9335865e-04],\n",
       "        [-3.7236173e-02,  1.6325624e-03,  4.4626221e-02, ...,\n",
       "          8.3654299e-02,  7.3226266e-02, -2.0942457e-04]], dtype=float32)>,\n",
       " <tf.Variable 'dense_33/bias:0' shape=(64,) dtype=float32, numpy=\n",
       " array([ 0.11230604, -0.12854402,  0.13001244, -0.00860706,  0.12368264,\n",
       "        -0.1030679 ,  0.11585779,  0.13209285,  0.11872925,  0.11623779,\n",
       "        -0.10024324, -0.09877466,  0.1324365 , -0.08944923,  0.13088244,\n",
       "        -0.08578659,  0.11611795,  0.1144914 , -0.01490945, -0.0955387 ,\n",
       "        -0.08935532, -0.06886546,  0.08810353,  0.1478632 , -0.08228289,\n",
       "         0.10137276,  0.1283936 , -0.08502802,  0.12153941,  0.09899752,\n",
       "        -0.0941155 ,  0.10142919,  0.13742577, -0.08935599, -0.08596231,\n",
       "        -0.00406665,  0.09990709,  0.05041865, -0.09382143,  0.12654763,\n",
       "        -0.09434251, -0.09517929, -0.0090952 , -0.09353171,  0.13249622,\n",
       "        -0.09397937,  0.1155656 , -0.08469003, -0.07163562,  0.10426059,\n",
       "         0.12851892, -0.07235575,  0.12285358,  0.10443656, -0.09791224,\n",
       "         0.11045516,  0.10280526,  0.11312179,  0.09253555,  0.11795966,\n",
       "         0.10447191,  0.09902384,  0.11796364, -0.07789647], dtype=float32)>,\n",
       " <tf.Variable 'dense_34/kernel:0' shape=(64, 32) dtype=float32, numpy=\n",
       " array([[-5.1179837e-04, -1.6090806e-04, -4.8876777e-02, ...,\n",
       "         -2.0504326e-03,  2.9321648e-02,  1.3590474e-01],\n",
       "        [-7.2695198e-05, -1.0576351e-04,  1.5387865e-02, ...,\n",
       "          4.8568228e-04, -9.5722399e-04,  7.6044658e-03],\n",
       "        [-2.5694529e-04,  8.3438848e-04,  1.5629363e-01, ...,\n",
       "          7.5797085e-03,  2.6220508e-02,  4.1345347e-02],\n",
       "        ...,\n",
       "        [ 1.0295667e-03, -8.5422746e-04, -4.3982126e-02, ...,\n",
       "          5.5458587e-02,  2.9978551e-02, -2.4378808e-02],\n",
       "        [-4.6819955e-04,  1.0558193e-04, -1.5004045e-01, ...,\n",
       "          3.5157390e-03,  2.6854021e-02, -1.4874576e-01],\n",
       "        [-2.1912789e-04, -1.7743994e-04,  3.6449765e-04, ...,\n",
       "          1.1761789e-04, -4.8137316e-04,  1.0630680e-03]], dtype=float32)>,\n",
       " <tf.Variable 'dense_34/bias:0' shape=(32,) dtype=float32, numpy=\n",
       " array([-0.10587353, -0.10599612,  0.21402736, -0.2520337 , -0.11448065,\n",
       "         0.21609539, -0.11637563,  0.21920161, -0.11181231,  0.2140267 ,\n",
       "         0.21510276, -0.12075423, -0.11770503, -0.11372122,  0.22358657,\n",
       "         0.21875823,  0.22543782,  0.22439036,  0.21403286,  0.21350127,\n",
       "        -0.11785963,  0.23444712,  0.21336779, -0.1132229 ,  0.21228865,\n",
       "         0.21802147, -0.26628727,  0.22077408, -0.11567538,  0.25322253,\n",
       "        -0.14090708,  0.2234586 ], dtype=float32)>,\n",
       " <tf.Variable 'dense_36/kernel:0' shape=(32, 1) dtype=float32, numpy=\n",
       " array([[ 0.00110235],\n",
       "        [ 0.01126219],\n",
       "        [ 0.39259672],\n",
       "        [-0.4448395 ],\n",
       "        [ 0.00209297],\n",
       "        [ 0.42926866],\n",
       "        [-0.02465626],\n",
       "        [ 0.18510696],\n",
       "        [-0.0715086 ],\n",
       "        [ 0.41403916],\n",
       "        [ 0.27538732],\n",
       "        [-0.07775708],\n",
       "        [-0.0134429 ],\n",
       "        [-0.01242439],\n",
       "        [ 0.35994878],\n",
       "        [ 0.3338758 ],\n",
       "        [ 0.47548005],\n",
       "        [ 0.11510097],\n",
       "        [ 0.33087   ],\n",
       "        [ 0.3667928 ],\n",
       "        [-0.13628435],\n",
       "        [ 0.3992859 ],\n",
       "        [ 0.38666576],\n",
       "        [-0.02840827],\n",
       "        [ 0.38073283],\n",
       "        [ 0.3344485 ],\n",
       "        [-0.37969694],\n",
       "        [ 0.4567325 ],\n",
       "        [-0.01715631],\n",
       "        [ 0.106554  ],\n",
       "        [-0.2680349 ],\n",
       "        [ 0.36743766]], dtype=float32)>,\n",
       " <tf.Variable 'dense_36/bias:0' shape=(1,) dtype=float32, numpy=array([0.21075657], dtype=float32)>]"
      ]
     },
     "execution_count": 91,
     "metadata": {},
     "output_type": "execute_result"
    }
   ],
   "source": [
    "model.trainable_variables"
   ]
  },
  {
   "cell_type": "code",
   "execution_count": 92,
   "id": "71a6fbf7",
   "metadata": {},
   "outputs": [
    {
     "name": "stdout",
     "output_type": "stream",
     "text": [
      "INFO:tensorflow:Assets written to: saved_model/rmse_845/assets\n"
     ]
    }
   ],
   "source": [
    "!mkdir -p saved_model\n",
    "model.save('saved_model/rmse_845')"
   ]
  },
  {
   "cell_type": "code",
   "execution_count": 93,
   "id": "de6975c3",
   "metadata": {},
   "outputs": [],
   "source": [
    "model.save('saved_model/rmse_845/model.h5')"
   ]
  },
  {
   "cell_type": "code",
   "execution_count": 94,
   "id": "9082e8c9",
   "metadata": {},
   "outputs": [
    {
     "data": {
      "text/html": [
       "<div>\n",
       "<style scoped>\n",
       "    .dataframe tbody tr th:only-of-type {\n",
       "        vertical-align: middle;\n",
       "    }\n",
       "\n",
       "    .dataframe tbody tr th {\n",
       "        vertical-align: top;\n",
       "    }\n",
       "\n",
       "    .dataframe thead th {\n",
       "        text-align: right;\n",
       "    }\n",
       "</style>\n",
       "<table border=\"1\" class=\"dataframe\">\n",
       "  <thead>\n",
       "    <tr style=\"text-align: right;\">\n",
       "      <th></th>\n",
       "      <th>movie</th>\n",
       "      <th>user</th>\n",
       "    </tr>\n",
       "    <tr>\n",
       "      <th>rating_score</th>\n",
       "      <th></th>\n",
       "      <th></th>\n",
       "    </tr>\n",
       "  </thead>\n",
       "  <tbody>\n",
       "    <tr>\n",
       "      <th>1</th>\n",
       "      <td>223618</td>\n",
       "      <td>223618</td>\n",
       "    </tr>\n",
       "    <tr>\n",
       "      <th>2</th>\n",
       "      <td>562898</td>\n",
       "      <td>562898</td>\n",
       "    </tr>\n",
       "    <tr>\n",
       "      <th>3</th>\n",
       "      <td>1558336</td>\n",
       "      <td>1558336</td>\n",
       "    </tr>\n",
       "    <tr>\n",
       "      <th>4</th>\n",
       "      <td>2254707</td>\n",
       "      <td>2254707</td>\n",
       "    </tr>\n",
       "    <tr>\n",
       "      <th>5</th>\n",
       "      <td>1598298</td>\n",
       "      <td>1598298</td>\n",
       "    </tr>\n",
       "  </tbody>\n",
       "</table>\n",
       "</div>"
      ],
      "text/plain": [
       "                movie     user\n",
       "rating_score                  \n",
       "1              223618   223618\n",
       "2              562898   562898\n",
       "3             1558336  1558336\n",
       "4             2254707  2254707\n",
       "5             1598298  1598298"
      ]
     },
     "execution_count": 94,
     "metadata": {},
     "output_type": "execute_result"
    }
   ],
   "source": [
    "X_train.groupby('rating_score').count()"
   ]
  },
  {
   "cell_type": "code",
   "execution_count": 28,
   "id": "2545f155",
   "metadata": {},
   "outputs": [],
   "source": [
    "import random\n",
    "from itertools import chain\n",
    "def flatten(list_of_lists):\n",
    "    \"Flatten one level of nesting\"\n",
    "    return chain.from_iterable(list_of_lists)"
   ]
  },
  {
   "cell_type": "code",
   "execution_count": 95,
   "id": "35754126",
   "metadata": {},
   "outputs": [],
   "source": [
    "to_drop = []\n",
    "for rating in [3,4,5]:\n",
    "    temp_df = X_train[X_train.rating_score==rating]\n",
    "    to_drop.append(random.choices(temp_df.index, k=int(len(temp_df)*.95)))\n",
    "    \n",
    "to_drop = list(flatten(to_drop))"
   ]
  },
  {
   "cell_type": "code",
   "execution_count": 96,
   "id": "ed69e899",
   "metadata": {},
   "outputs": [],
   "source": [
    "X_train_reduced = X_train.drop(index=to_drop)"
   ]
  },
  {
   "cell_type": "code",
   "execution_count": 97,
   "id": "8d99f29d",
   "metadata": {},
   "outputs": [
    {
     "data": {
      "text/plain": [
       "((6197857, 3), (2879395, 3))"
      ]
     },
     "execution_count": 97,
     "metadata": {},
     "output_type": "execute_result"
    }
   ],
   "source": [
    "X_train.shape, X_train_reduced.shape"
   ]
  },
  {
   "cell_type": "code",
   "execution_count": 99,
   "id": "fe53358c",
   "metadata": {
    "collapsed": true
   },
   "outputs": [
    {
     "name": "stdout",
     "output_type": "stream",
     "text": [
      "Epoch 1/100\n",
      "1/1 [==============================] - 5s 5s/step - loss: 1.2243 - root_mean_squared_error: 1.0039 - val_loss: 1.1510 - val_root_mean_squared_error: 0.9668\n",
      "Epoch 2/100\n",
      "1/1 [==============================] - 5s 5s/step - loss: 1.2104 - root_mean_squared_error: 0.9970 - val_loss: 1.1557 - val_root_mean_squared_error: 0.9691\n",
      "Epoch 3/100\n",
      "1/1 [==============================] - 4s 4s/step - loss: 1.2095 - root_mean_squared_error: 0.9965 - val_loss: 1.1403 - val_root_mean_squared_error: 0.9610\n",
      "Epoch 4/100\n",
      "1/1 [==============================] - 5s 5s/step - loss: 1.1970 - root_mean_squared_error: 0.9901 - val_loss: 1.1135 - val_root_mean_squared_error: 0.9468\n",
      "Epoch 5/100\n",
      "1/1 [==============================] - 4s 4s/step - loss: 1.1779 - root_mean_squared_error: 0.9802 - val_loss: 1.0990 - val_root_mean_squared_error: 0.9389\n",
      "Epoch 6/100\n",
      "1/1 [==============================] - 4s 4s/step - loss: 1.1725 - root_mean_squared_error: 0.9772 - val_loss: 1.1004 - val_root_mean_squared_error: 0.9397\n",
      "Epoch 7/100\n",
      "1/1 [==============================] - 4s 4s/step - loss: 1.1802 - root_mean_squared_error: 0.9812 - val_loss: 1.1021 - val_root_mean_squared_error: 0.9409\n",
      "Epoch 8/100\n",
      "1/1 [==============================] - 5s 5s/step - loss: 1.1809 - root_mean_squared_error: 0.9820 - val_loss: 1.0984 - val_root_mean_squared_error: 0.9399\n",
      "Epoch 9/100\n",
      "1/1 [==============================] - 4s 4s/step - loss: 1.1695 - root_mean_squared_error: 0.9770 - val_loss: 1.0969 - val_root_mean_squared_error: 0.9404\n",
      "Epoch 10/100\n",
      "1/1 [==============================] - 4s 4s/step - loss: 1.1575 - root_mean_squared_error: 0.9721 - val_loss: 1.1011 - val_root_mean_squared_error: 0.9441\n",
      "Epoch 11/100\n",
      "1/1 [==============================] - 4s 4s/step - loss: 1.1519 - root_mean_squared_error: 0.9707 - val_loss: 1.1037 - val_root_mean_squared_error: 0.9471\n",
      "Epoch 12/100\n",
      "1/1 [==============================] - 5s 5s/step - loss: 1.1483 - root_mean_squared_error: 0.9704 - val_loss: 1.0989 - val_root_mean_squared_error: 0.9461\n",
      "Epoch 13/100\n",
      "1/1 [==============================] - 4s 4s/step - loss: 1.1405 - root_mean_squared_error: 0.9678 - val_loss: 1.0917 - val_root_mean_squared_error: 0.9437\n",
      "Epoch 14/100\n",
      "1/1 [==============================] - 4s 4s/step - loss: 1.1325 - root_mean_squared_error: 0.9651 - val_loss: 1.0893 - val_root_mean_squared_error: 0.9436\n",
      "Epoch 15/100\n",
      "1/1 [==============================] - 4s 4s/step - loss: 1.1305 - root_mean_squared_error: 0.9652 - val_loss: 1.0909 - val_root_mean_squared_error: 0.9455\n",
      "Epoch 16/100\n",
      "1/1 [==============================] - 5s 5s/step - loss: 1.1316 - root_mean_squared_error: 0.9668 - val_loss: 1.0908 - val_root_mean_squared_error: 0.9463\n",
      "Epoch 17/100\n",
      "1/1 [==============================] - 4s 4s/step - loss: 1.1294 - root_mean_squared_error: 0.9665 - val_loss: 1.0885 - val_root_mean_squared_error: 0.9459\n",
      "Epoch 18/100\n",
      "1/1 [==============================] - 5s 5s/step - loss: 1.1231 - root_mean_squared_error: 0.9640 - val_loss: 1.0880 - val_root_mean_squared_error: 0.9462\n",
      "Epoch 19/100\n",
      "1/1 [==============================] - 4s 4s/step - loss: 1.1174 - root_mean_squared_error: 0.9616 - val_loss: 1.0895 - val_root_mean_squared_error: 0.9473\n",
      "Epoch 20/100\n",
      "1/1 [==============================] - 4s 4s/step - loss: 1.1153 - root_mean_squared_error: 0.9609 - val_loss: 1.0890 - val_root_mean_squared_error: 0.9474\n",
      "Epoch 21/100\n",
      "1/1 [==============================] - 4s 4s/step - loss: 1.1123 - root_mean_squared_error: 0.9596 - val_loss: 1.0852 - val_root_mean_squared_error: 0.9456\n",
      "Epoch 22/100\n",
      "1/1 [==============================] - 4s 4s/step - loss: 1.1079 - root_mean_squared_error: 0.9575 - val_loss: 1.0811 - val_root_mean_squared_error: 0.9437\n",
      "Epoch 23/100\n",
      "1/1 [==============================] - 4s 4s/step - loss: 1.1051 - root_mean_squared_error: 0.9563 - val_loss: 1.0795 - val_root_mean_squared_error: 0.9431\n",
      "Epoch 24/100\n",
      "1/1 [==============================] - 4s 4s/step - loss: 1.1047 - root_mean_squared_error: 0.9564 - val_loss: 1.0792 - val_root_mean_squared_error: 0.9434\n",
      "Epoch 25/100\n",
      "1/1 [==============================] - 4s 4s/step - loss: 1.1037 - root_mean_squared_error: 0.9563 - val_loss: 1.0786 - val_root_mean_squared_error: 0.9436\n",
      "Epoch 26/100\n",
      "1/1 [==============================] - 4s 4s/step - loss: 1.1005 - root_mean_squared_error: 0.9551 - val_loss: 1.0782 - val_root_mean_squared_error: 0.9441\n",
      "Epoch 27/100\n",
      "1/1 [==============================] - 4s 4s/step - loss: 1.0963 - root_mean_squared_error: 0.9536 - val_loss: 1.0789 - val_root_mean_squared_error: 0.9452\n",
      "Epoch 28/100\n",
      "1/1 [==============================] - 5s 5s/step - loss: 1.0936 - root_mean_squared_error: 0.9530 - val_loss: 1.0797 - val_root_mean_squared_error: 0.9464\n",
      "Epoch 29/100\n",
      "1/1 [==============================] - 4s 4s/step - loss: 1.0911 - root_mean_squared_error: 0.9524 - val_loss: 1.0786 - val_root_mean_squared_error: 0.9466\n",
      "Epoch 30/100\n",
      "1/1 [==============================] - 4s 4s/step - loss: 1.0896 - root_mean_squared_error: 0.9524 - val_loss: 1.0760 - val_root_mean_squared_error: 0.9459\n",
      "Epoch 31/100\n",
      "1/1 [==============================] - 5s 5s/step - loss: 1.0858 - root_mean_squared_error: 0.9511 - val_loss: 1.0737 - val_root_mean_squared_error: 0.9453\n",
      "Epoch 32/100\n",
      "1/1 [==============================] - 5s 5s/step - loss: 1.0838 - root_mean_squared_error: 0.9506 - val_loss: 1.0726 - val_root_mean_squared_error: 0.9453\n",
      "Epoch 33/100\n",
      "1/1 [==============================] - 4s 4s/step - loss: 1.0838 - root_mean_squared_error: 0.9512 - val_loss: 1.0717 - val_root_mean_squared_error: 0.9453\n",
      "Epoch 34/100\n",
      "1/1 [==============================] - 4s 4s/step - loss: 1.0813 - root_mean_squared_error: 0.9504 - val_loss: 1.0709 - val_root_mean_squared_error: 0.9454\n",
      "Epoch 35/100\n",
      "1/1 [==============================] - 5s 5s/step - loss: 1.0784 - root_mean_squared_error: 0.9493 - val_loss: 1.0707 - val_root_mean_squared_error: 0.9456\n"
     ]
    }
   ],
   "source": [
    "output_reduced = model.fit([X_train_reduced.movie, X_train_reduced.user], \n",
    "                             X_train_reduced.rating_score,  \n",
    "                             batch_size=len(X_train_reduced), epochs=100, validation_split=.2,\n",
    "                          callbacks=[callback])"
   ]
  },
  {
   "cell_type": "code",
   "execution_count": null,
   "id": "e8d2c14a",
   "metadata": {},
   "outputs": [],
   "source": []
  },
  {
   "cell_type": "code",
   "execution_count": null,
   "id": "814d3853",
   "metadata": {},
   "outputs": [],
   "source": []
  },
  {
   "cell_type": "code",
   "execution_count": null,
   "id": "e379f897",
   "metadata": {},
   "outputs": [],
   "source": []
  },
  {
   "cell_type": "code",
   "execution_count": 16,
   "id": "5c50f275",
   "metadata": {},
   "outputs": [
    {
     "data": {
      "text/html": [
       "<div>\n",
       "<style scoped>\n",
       "    .dataframe tbody tr th:only-of-type {\n",
       "        vertical-align: middle;\n",
       "    }\n",
       "\n",
       "    .dataframe tbody tr th {\n",
       "        vertical-align: top;\n",
       "    }\n",
       "\n",
       "    .dataframe thead th {\n",
       "        text-align: right;\n",
       "    }\n",
       "</style>\n",
       "<table border=\"1\" class=\"dataframe\">\n",
       "  <thead>\n",
       "    <tr style=\"text-align: right;\">\n",
       "      <th></th>\n",
       "      <th>movie</th>\n",
       "      <th>user</th>\n",
       "      <th>rating_score</th>\n",
       "    </tr>\n",
       "  </thead>\n",
       "  <tbody>\n",
       "    <tr>\n",
       "      <th>11862877</th>\n",
       "      <td>91</td>\n",
       "      <td>8097</td>\n",
       "      <td>4</td>\n",
       "    </tr>\n",
       "    <tr>\n",
       "      <th>6424992</th>\n",
       "      <td>12048</td>\n",
       "      <td>44363</td>\n",
       "      <td>3</td>\n",
       "    </tr>\n",
       "    <tr>\n",
       "      <th>12709205</th>\n",
       "      <td>176</td>\n",
       "      <td>21194</td>\n",
       "      <td>4</td>\n",
       "    </tr>\n",
       "    <tr>\n",
       "      <th>8348272</th>\n",
       "      <td>28179</td>\n",
       "      <td>7508</td>\n",
       "      <td>3</td>\n",
       "    </tr>\n",
       "    <tr>\n",
       "      <th>5786658</th>\n",
       "      <td>9053</td>\n",
       "      <td>3915</td>\n",
       "      <td>3</td>\n",
       "    </tr>\n",
       "    <tr>\n",
       "      <th>...</th>\n",
       "      <td>...</td>\n",
       "      <td>...</td>\n",
       "      <td>...</td>\n",
       "    </tr>\n",
       "    <tr>\n",
       "      <th>13103465</th>\n",
       "      <td>212</td>\n",
       "      <td>52317</td>\n",
       "      <td>4</td>\n",
       "    </tr>\n",
       "    <tr>\n",
       "      <th>3382914</th>\n",
       "      <td>3297</td>\n",
       "      <td>11310</td>\n",
       "      <td>5</td>\n",
       "    </tr>\n",
       "    <tr>\n",
       "      <th>7663495</th>\n",
       "      <td>20601</td>\n",
       "      <td>24438</td>\n",
       "      <td>4</td>\n",
       "    </tr>\n",
       "    <tr>\n",
       "      <th>12216666</th>\n",
       "      <td>136</td>\n",
       "      <td>24176</td>\n",
       "      <td>4</td>\n",
       "    </tr>\n",
       "    <tr>\n",
       "      <th>12047402</th>\n",
       "      <td>124</td>\n",
       "      <td>16633</td>\n",
       "      <td>4</td>\n",
       "    </tr>\n",
       "  </tbody>\n",
       "</table>\n",
       "<p>6197865 rows × 3 columns</p>\n",
       "</div>"
      ],
      "text/plain": [
       "          movie   user  rating_score\n",
       "11862877     91   8097             4\n",
       "6424992   12048  44363             3\n",
       "12709205    176  21194             4\n",
       "8348272   28179   7508             3\n",
       "5786658    9053   3915             3\n",
       "...         ...    ...           ...\n",
       "13103465    212  52317             4\n",
       "3382914    3297  11310             5\n",
       "7663495   20601  24438             4\n",
       "12216666    136  24176             4\n",
       "12047402    124  16633             4\n",
       "\n",
       "[6197865 rows x 3 columns]"
      ]
     },
     "execution_count": 16,
     "metadata": {},
     "output_type": "execute_result"
    }
   ],
   "source": [
    "X_train"
   ]
  },
  {
   "cell_type": "code",
   "execution_count": 17,
   "id": "4915624c",
   "metadata": {},
   "outputs": [
    {
     "data": {
      "text/html": [
       "<div>\n",
       "<style scoped>\n",
       "    .dataframe tbody tr th:only-of-type {\n",
       "        vertical-align: middle;\n",
       "    }\n",
       "\n",
       "    .dataframe tbody tr th {\n",
       "        vertical-align: top;\n",
       "    }\n",
       "\n",
       "    .dataframe thead th {\n",
       "        text-align: right;\n",
       "    }\n",
       "</style>\n",
       "<table border=\"1\" class=\"dataframe\">\n",
       "  <thead>\n",
       "    <tr style=\"text-align: right;\">\n",
       "      <th></th>\n",
       "      <th>movie</th>\n",
       "      <th>rating_score</th>\n",
       "    </tr>\n",
       "    <tr>\n",
       "      <th>user</th>\n",
       "      <th></th>\n",
       "      <th></th>\n",
       "    </tr>\n",
       "  </thead>\n",
       "  <tbody>\n",
       "    <tr>\n",
       "      <th>49758</th>\n",
       "      <td>735</td>\n",
       "      <td>735</td>\n",
       "    </tr>\n",
       "    <tr>\n",
       "      <th>46967</th>\n",
       "      <td>734</td>\n",
       "      <td>734</td>\n",
       "    </tr>\n",
       "    <tr>\n",
       "      <th>14547</th>\n",
       "      <td>722</td>\n",
       "      <td>722</td>\n",
       "    </tr>\n",
       "    <tr>\n",
       "      <th>40854</th>\n",
       "      <td>719</td>\n",
       "      <td>719</td>\n",
       "    </tr>\n",
       "    <tr>\n",
       "      <th>20490</th>\n",
       "      <td>718</td>\n",
       "      <td>718</td>\n",
       "    </tr>\n",
       "  </tbody>\n",
       "</table>\n",
       "</div>"
      ],
      "text/plain": [
       "       movie  rating_score\n",
       "user                      \n",
       "49758    735           735\n",
       "46967    734           734\n",
       "14547    722           722\n",
       "40854    719           719\n",
       "20490    718           718"
      ]
     },
     "execution_count": 17,
     "metadata": {},
     "output_type": "execute_result"
    }
   ],
   "source": [
    "X_train.groupby('user').count().sort_values(by='movie',ascending=False).head()"
   ]
  },
  {
   "cell_type": "code",
   "execution_count": 18,
   "id": "cbda0065",
   "metadata": {},
   "outputs": [
    {
     "data": {
      "text/html": [
       "<div>\n",
       "<style scoped>\n",
       "    .dataframe tbody tr th:only-of-type {\n",
       "        vertical-align: middle;\n",
       "    }\n",
       "\n",
       "    .dataframe tbody tr th {\n",
       "        vertical-align: top;\n",
       "    }\n",
       "\n",
       "    .dataframe thead th {\n",
       "        text-align: right;\n",
       "    }\n",
       "</style>\n",
       "<table border=\"1\" class=\"dataframe\">\n",
       "  <thead>\n",
       "    <tr style=\"text-align: right;\">\n",
       "      <th></th>\n",
       "      <th>movie_id</th>\n",
       "      <th>rating_score</th>\n",
       "      <th>user_id</th>\n",
       "      <th>user</th>\n",
       "      <th>movie</th>\n",
       "    </tr>\n",
       "  </thead>\n",
       "  <tbody>\n",
       "    <tr>\n",
       "      <th>13381</th>\n",
       "      <td>1085</td>\n",
       "      <td>4</td>\n",
       "      <td>89904558</td>\n",
       "      <td>58315</td>\n",
       "      <td>1038</td>\n",
       "    </tr>\n",
       "    <tr>\n",
       "      <th>19800</th>\n",
       "      <td>1094</td>\n",
       "      <td>4</td>\n",
       "      <td>89904558</td>\n",
       "      <td>58315</td>\n",
       "      <td>1047</td>\n",
       "    </tr>\n",
       "    <tr>\n",
       "      <th>23850</th>\n",
       "      <td>1099</td>\n",
       "      <td>2</td>\n",
       "      <td>89904558</td>\n",
       "      <td>58315</td>\n",
       "      <td>1052</td>\n",
       "    </tr>\n",
       "    <tr>\n",
       "      <th>35843</th>\n",
       "      <td>1103</td>\n",
       "      <td>5</td>\n",
       "      <td>89904558</td>\n",
       "      <td>58315</td>\n",
       "      <td>1056</td>\n",
       "    </tr>\n",
       "    <tr>\n",
       "      <th>48584</th>\n",
       "      <td>1116</td>\n",
       "      <td>3</td>\n",
       "      <td>89904558</td>\n",
       "      <td>58315</td>\n",
       "      <td>1069</td>\n",
       "    </tr>\n",
       "    <tr>\n",
       "      <th>...</th>\n",
       "      <td>...</td>\n",
       "      <td>...</td>\n",
       "      <td>...</td>\n",
       "      <td>...</td>\n",
       "      <td>...</td>\n",
       "    </tr>\n",
       "    <tr>\n",
       "      <th>15428890</th>\n",
       "      <td>981</td>\n",
       "      <td>2</td>\n",
       "      <td>89904558</td>\n",
       "      <td>58315</td>\n",
       "      <td>941</td>\n",
       "    </tr>\n",
       "    <tr>\n",
       "      <th>15489675</th>\n",
       "      <td>1046</td>\n",
       "      <td>3</td>\n",
       "      <td>89904558</td>\n",
       "      <td>58315</td>\n",
       "      <td>1002</td>\n",
       "    </tr>\n",
       "    <tr>\n",
       "      <th>15493413</th>\n",
       "      <td>1047</td>\n",
       "      <td>2</td>\n",
       "      <td>89904558</td>\n",
       "      <td>58315</td>\n",
       "      <td>1003</td>\n",
       "    </tr>\n",
       "    <tr>\n",
       "      <th>15498925</th>\n",
       "      <td>1049</td>\n",
       "      <td>2</td>\n",
       "      <td>89904558</td>\n",
       "      <td>58315</td>\n",
       "      <td>1005</td>\n",
       "    </tr>\n",
       "    <tr>\n",
       "      <th>15501406</th>\n",
       "      <td>1050</td>\n",
       "      <td>3</td>\n",
       "      <td>89904558</td>\n",
       "      <td>58315</td>\n",
       "      <td>1006</td>\n",
       "    </tr>\n",
       "  </tbody>\n",
       "</table>\n",
       "<p>998 rows × 5 columns</p>\n",
       "</div>"
      ],
      "text/plain": [
       "          movie_id  rating_score   user_id   user  movie\n",
       "13381         1085             4  89904558  58315   1038\n",
       "19800         1094             4  89904558  58315   1047\n",
       "23850         1099             2  89904558  58315   1052\n",
       "35843         1103             5  89904558  58315   1056\n",
       "48584         1116             3  89904558  58315   1069\n",
       "...            ...           ...       ...    ...    ...\n",
       "15428890       981             2  89904558  58315    941\n",
       "15489675      1046             3  89904558  58315   1002\n",
       "15493413      1047             2  89904558  58315   1003\n",
       "15498925      1049             2  89904558  58315   1005\n",
       "15501406      1050             3  89904558  58315   1006\n",
       "\n",
       "[998 rows x 5 columns]"
      ]
     },
     "execution_count": 18,
     "metadata": {},
     "output_type": "execute_result"
    }
   ],
   "source": [
    "user = 58315\n",
    "ratings[ratings.user==user]"
   ]
  },
  {
   "cell_type": "code",
   "execution_count": 19,
   "id": "d6c301d0",
   "metadata": {},
   "outputs": [],
   "source": [
    "movie_array = ratings[ratings.user==user].movie.values.astype(int)\n",
    "user_array = np.array([int(user) for n in range(len(movie_array))])"
   ]
  },
  {
   "cell_type": "code",
   "execution_count": 20,
   "id": "3d623231",
   "metadata": {},
   "outputs": [],
   "source": [
    "pred = model.predict([movie_array, user_array])"
   ]
  },
  {
   "cell_type": "code",
   "execution_count": 21,
   "id": "f2cf28b1",
   "metadata": {},
   "outputs": [],
   "source": [
    "def is_close_enough(pred, ratings):\n",
    "    val = []\n",
    "    for pair in zip(pred, ratings):\n",
    "        if pair[1] == 5:\n",
    "            val.append(pair[1] - 1 <= pair[0])\n",
    "        else:\n",
    "            val.append(pair[1] - .5 <= pair[0] <= pair[1] + .5)\n",
    "        \n",
    "    return val"
   ]
  },
  {
   "cell_type": "code",
   "execution_count": 22,
   "id": "6a76c0e2",
   "metadata": {},
   "outputs": [],
   "source": [
    "val = is_close_enough(np.round(pred.flatten(), 1), ratings[ratings.user==user].rating_score.values)"
   ]
  },
  {
   "cell_type": "code",
   "execution_count": 23,
   "id": "bda74ba0",
   "metadata": {},
   "outputs": [
    {
     "data": {
      "text/plain": [
       "0.5250501002004008"
      ]
     },
     "execution_count": 23,
     "metadata": {},
     "output_type": "execute_result"
    }
   ],
   "source": [
    "sum(val) / len(pred.flatten())"
   ]
  },
  {
   "cell_type": "code",
   "execution_count": 24,
   "id": "d7197171",
   "metadata": {},
   "outputs": [
    {
     "data": {
      "image/png": "[encoded data removed]",
      "text/plain": [
       "<Figure size 432x288 with 1 Axes>"
      ]
     },
     "metadata": {
      "needs_background": "light"
     },
     "output_type": "display_data"
    }
   ],
   "source": [
    "sns.histplot(pred.flatten(), bins=4, color='red', fill=False)\n",
    "sns.histplot(X_train[X_train.user==user].rating_score.values, bins=5, color='blue', fill=False)\n",
    "\n",
    "plt.show()"
   ]
  },
  {
   "cell_type": "code",
   "execution_count": 25,
   "id": "70f56664",
   "metadata": {},
   "outputs": [],
   "source": [
    "top_20_users = X_train.groupby('user').count().sort_values(by='movie',ascending=False).head(20).index"
   ]
  },
  {
   "cell_type": "code",
   "execution_count": 26,
   "id": "992b1ccd",
   "metadata": {},
   "outputs": [
    {
     "name": "stdout",
     "output_type": "stream",
     "text": [
      "49758 0.3986394557823129\n",
      "46967 0.3801089918256131\n",
      "14547 0.40166204986149584\n",
      "40854 0.44089012517385257\n",
      "20490 0.3245125348189415\n",
      "13686 0.44490934449093444\n",
      "18058 0.3486750348675035\n",
      "28524 0.4783216783216783\n",
      "38238 0.37780898876404495\n",
      "13828 0.3693820224719101\n",
      "41054 0.4022503516174402\n",
      "1380 0.3765867418899859\n",
      "55147 0.3305084745762712\n",
      "10210 0.4087694483734088\n",
      "5321 0.3521923620933522\n",
      "14125 0.4518413597733711\n",
      "6497 0.3640226628895184\n",
      "17796 0.4178470254957507\n",
      "59336 0.42127659574468085\n",
      "2488 0.5724431818181818\n"
     ]
    }
   ],
   "source": [
    "predictions = []\n",
    "\n",
    "for user in top_20_users:\n",
    "    movie_array = X_train[X_train.user==user].movie.values.astype(int)\n",
    "    user_array = np.array([int(user) for n in range(len(movie_array))])\n",
    "    pred = model.predict([movie_array, user_array])\n",
    "    val = is_close_enough(np.round(pred.flatten(), 1), ratings[ratings.user==user].rating_score.values)\n",
    "    \n",
    "    predictions.append(list(pred.flatten()))\n",
    "    print(user, sum(val) / len(pred.flatten()))"
   ]
  },
  {
   "cell_type": "code",
   "execution_count": 29,
   "id": "6e7f8b77",
   "metadata": {},
   "outputs": [
    {
     "data": {
      "image/png": "[encoded data removed]",
      "text/plain": [
       "<Figure size 432x288 with 1 Axes>"
      ]
     },
     "metadata": {
      "needs_background": "light"
     },
     "output_type": "display_data"
    }
   ],
   "source": [
    "sns.histplot(list(flatten(predictions)), bins=5, color='red', fill=False)\n",
    "sns.histplot(X_train[X_train.user.isin(top_20_users)].rating_score.values, bins=5, color='blue', fill=False)\n",
    "\n",
    "plt.show()"
   ]
  },
  {
   "cell_type": "code",
   "execution_count": null,
   "id": "4f4a293f",
   "metadata": {},
   "outputs": [],
   "source": []
  }
 ],
 "metadata": {
  "kernelspec": {
   "display_name": "tf_env",
   "language": "python",
   "name": "tf_env"
  },
  "language_info": {
   "codemirror_mode": {
    "name": "ipython",
    "version": 3
   },
   "file_extension": ".py",
   "mimetype": "text/x-python",
   "name": "python",
   "nbconvert_exporter": "python",
   "pygments_lexer": "ipython3",
   "version": "3.8.5"
  }
 },
 "nbformat": 4,
 "nbformat_minor": 5
}
