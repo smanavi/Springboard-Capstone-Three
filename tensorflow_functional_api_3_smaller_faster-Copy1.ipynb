{
 "cells": [
  {
   "cell_type": "markdown",
   "id": "e251b6f4",
   "metadata": {},
   "source": [
    "code is from here: https://heartbeat.fritz.ai/build-train-and-deploy-a-book-recommender-system-using-keras-tensorflow-js-b96944b936a7"
   ]
  },
  {
   "cell_type": "code",
   "execution_count": 1,
   "id": "f66ab82a",
   "metadata": {},
   "outputs": [],
   "source": [
    "import numpy as np\n",
    "import pandas as pd\n",
    "from sklearn.model_selection import train_test_split\n",
    "from sklearn.preprocessing import LabelEncoder\n",
    "\n",
    "import tensorflow as tf\n",
    "from tensorflow import keras\n",
    "from tensorflow.keras import layers"
   ]
  },
  {
   "cell_type": "code",
   "execution_count": 2,
   "id": "cd872b00",
   "metadata": {},
   "outputs": [],
   "source": [
    "import matplotlib.pyplot as plt\n",
    "import seaborn as sns"
   ]
  },
  {
   "cell_type": "code",
   "execution_count": 3,
   "id": "6af302da",
   "metadata": {},
   "outputs": [],
   "source": [
    "ratings = pd.read_pickle(\"./Data/small_random_selection_longform.pkl\")\n",
    "# ratings = pd.read_pickle(\"./Data/moderate_users_longform.pkl\")\n",
    "user_stats = pd.read_pickle(\"./Data/moderate_user_stats.pkl\")"
   ]
  },
  {
   "cell_type": "code",
   "execution_count": 4,
   "id": "f3a9fcd3",
   "metadata": {},
   "outputs": [
    {
     "data": {
      "text/plain": [
       "37235"
      ]
     },
     "execution_count": 4,
     "metadata": {},
     "output_type": "execute_result"
    }
   ],
   "source": [
    "user_enc = LabelEncoder()\n",
    "ratings['user'] = user_enc.fit_transform(ratings['user_id'].values)\n",
    "n_users = ratings['user'].nunique()\n",
    "n_users"
   ]
  },
  {
   "cell_type": "code",
   "execution_count": 5,
   "id": "3ed57496",
   "metadata": {},
   "outputs": [
    {
     "data": {
      "text/plain": [
       "29758"
      ]
     },
     "execution_count": 5,
     "metadata": {},
     "output_type": "execute_result"
    }
   ],
   "source": [
    "item_enc = LabelEncoder()\n",
    "ratings['movie'] = item_enc.fit_transform(ratings['movie_id'].values)\n",
    "n_movies = ratings['movie'].nunique()\n",
    "n_movies"
   ]
  },
  {
   "cell_type": "code",
   "execution_count": 6,
   "id": "0d7c39b7",
   "metadata": {},
   "outputs": [
    {
     "data": {
      "text/html": [
       "<div>\n",
       "<style scoped>\n",
       "    .dataframe tbody tr th:only-of-type {\n",
       "        vertical-align: middle;\n",
       "    }\n",
       "\n",
       "    .dataframe tbody tr th {\n",
       "        vertical-align: top;\n",
       "    }\n",
       "\n",
       "    .dataframe thead th {\n",
       "        text-align: right;\n",
       "    }\n",
       "</style>\n",
       "<table border=\"1\" class=\"dataframe\">\n",
       "  <thead>\n",
       "    <tr style=\"text-align: right;\">\n",
       "      <th></th>\n",
       "      <th>movie_id</th>\n",
       "      <th>rating_score</th>\n",
       "      <th>user_id</th>\n",
       "      <th>user</th>\n",
       "      <th>movie</th>\n",
       "    </tr>\n",
       "  </thead>\n",
       "  <tbody>\n",
       "    <tr>\n",
       "      <th>0</th>\n",
       "      <td>176</td>\n",
       "      <td>2</td>\n",
       "      <td>90476760</td>\n",
       "      <td>33647</td>\n",
       "      <td>136</td>\n",
       "    </tr>\n",
       "    <tr>\n",
       "      <th>1</th>\n",
       "      <td>20183</td>\n",
       "      <td>5</td>\n",
       "      <td>21347583</td>\n",
       "      <td>7941</td>\n",
       "      <td>5700</td>\n",
       "    </tr>\n",
       "    <tr>\n",
       "      <th>2</th>\n",
       "      <td>1819</td>\n",
       "      <td>5</td>\n",
       "      <td>24443276</td>\n",
       "      <td>9109</td>\n",
       "      <td>1586</td>\n",
       "    </tr>\n",
       "    <tr>\n",
       "      <th>3</th>\n",
       "      <td>2388</td>\n",
       "      <td>5</td>\n",
       "      <td>64167123</td>\n",
       "      <td>24036</td>\n",
       "      <td>2061</td>\n",
       "    </tr>\n",
       "    <tr>\n",
       "      <th>5</th>\n",
       "      <td>112482</td>\n",
       "      <td>3</td>\n",
       "      <td>55009665</td>\n",
       "      <td>20693</td>\n",
       "      <td>22140</td>\n",
       "    </tr>\n",
       "  </tbody>\n",
       "</table>\n",
       "</div>"
      ],
      "text/plain": [
       "   movie_id  rating_score   user_id   user  movie\n",
       "0       176             2  90476760  33647    136\n",
       "1     20183             5  21347583   7941   5700\n",
       "2      1819             5  24443276   9109   1586\n",
       "3      2388             5  64167123  24036   2061\n",
       "5    112482             3  55009665  20693  22140"
      ]
     },
     "execution_count": 6,
     "metadata": {},
     "output_type": "execute_result"
    }
   ],
   "source": [
    "ratings.head()"
   ]
  },
  {
   "cell_type": "code",
   "execution_count": 7,
   "id": "8a55af99",
   "metadata": {},
   "outputs": [],
   "source": [
    "def center_ratings(ratings_df, users_df):\n",
    "    ratings_df['centered_rating'] = None\n",
    "    for row in ratings_df.index:\n",
    "        mean_val = users_df.at[ratings_df.at[row, 'user_id'], 'mean_score']\n",
    "        ratings_df.at[row, 'centered_rating'] = ratings_df.at[row, 'rating_score'] - mean_val\n",
    "        \n",
    "    return ratings_df"
   ]
  },
  {
   "cell_type": "code",
   "execution_count": 8,
   "id": "ba656eb3",
   "metadata": {},
   "outputs": [
    {
     "data": {
      "text/html": [
       "<div>\n",
       "<style scoped>\n",
       "    .dataframe tbody tr th:only-of-type {\n",
       "        vertical-align: middle;\n",
       "    }\n",
       "\n",
       "    .dataframe tbody tr th {\n",
       "        vertical-align: top;\n",
       "    }\n",
       "\n",
       "    .dataframe thead th {\n",
       "        text-align: right;\n",
       "    }\n",
       "</style>\n",
       "<table border=\"1\" class=\"dataframe\">\n",
       "  <thead>\n",
       "    <tr style=\"text-align: right;\">\n",
       "      <th></th>\n",
       "      <th>movie_id</th>\n",
       "      <th>rating_score</th>\n",
       "      <th>user_id</th>\n",
       "      <th>user</th>\n",
       "      <th>movie</th>\n",
       "      <th>centered_rating</th>\n",
       "    </tr>\n",
       "  </thead>\n",
       "  <tbody>\n",
       "    <tr>\n",
       "      <th>0</th>\n",
       "      <td>176</td>\n",
       "      <td>2</td>\n",
       "      <td>90476760</td>\n",
       "      <td>33647</td>\n",
       "      <td>136</td>\n",
       "      <td>-0.931507</td>\n",
       "    </tr>\n",
       "    <tr>\n",
       "      <th>1</th>\n",
       "      <td>20183</td>\n",
       "      <td>5</td>\n",
       "      <td>21347583</td>\n",
       "      <td>7941</td>\n",
       "      <td>5700</td>\n",
       "      <td>1.596154</td>\n",
       "    </tr>\n",
       "    <tr>\n",
       "      <th>2</th>\n",
       "      <td>1819</td>\n",
       "      <td>5</td>\n",
       "      <td>24443276</td>\n",
       "      <td>9109</td>\n",
       "      <td>1586</td>\n",
       "      <td>0.867647</td>\n",
       "    </tr>\n",
       "    <tr>\n",
       "      <th>3</th>\n",
       "      <td>2388</td>\n",
       "      <td>5</td>\n",
       "      <td>64167123</td>\n",
       "      <td>24036</td>\n",
       "      <td>2061</td>\n",
       "      <td>1.558824</td>\n",
       "    </tr>\n",
       "    <tr>\n",
       "      <th>5</th>\n",
       "      <td>112482</td>\n",
       "      <td>3</td>\n",
       "      <td>55009665</td>\n",
       "      <td>20693</td>\n",
       "      <td>22140</td>\n",
       "      <td>-0.219512</td>\n",
       "    </tr>\n",
       "  </tbody>\n",
       "</table>\n",
       "</div>"
      ],
      "text/plain": [
       "   movie_id  rating_score   user_id   user  movie centered_rating\n",
       "0       176             2  90476760  33647    136       -0.931507\n",
       "1     20183             5  21347583   7941   5700        1.596154\n",
       "2      1819             5  24443276   9109   1586        0.867647\n",
       "3      2388             5  64167123  24036   2061        1.558824\n",
       "5    112482             3  55009665  20693  22140       -0.219512"
      ]
     },
     "execution_count": 8,
     "metadata": {},
     "output_type": "execute_result"
    }
   ],
   "source": [
    "ratings = center_ratings(ratings, user_stats)\n",
    "ratings.head()"
   ]
  },
  {
   "cell_type": "code",
   "execution_count": null,
   "id": "a8d175e8",
   "metadata": {},
   "outputs": [],
   "source": [
    "sns.histplot(data=ratings, x='centered_rating', bins=10)\n",
    "\n",
    "plt.show()"
   ]
  },
  {
   "cell_type": "code",
   "execution_count": 19,
   "id": "0f7cad98",
   "metadata": {},
   "outputs": [],
   "source": [
    "X_train, X_test = train_test_split(ratings[['movie', 'user', 'centered_rating']], test_size=0.5, random_state=42)"
   ]
  },
  {
   "cell_type": "code",
   "execution_count": 20,
   "id": "14d97c94",
   "metadata": {},
   "outputs": [
    {
     "data": {
      "text/plain": [
       "((277577, 3), (277577, 3))"
      ]
     },
     "execution_count": 20,
     "metadata": {},
     "output_type": "execute_result"
    }
   ],
   "source": [
    "X_train.shape, X_test.shape"
   ]
  },
  {
   "cell_type": "code",
   "execution_count": 21,
   "id": "544feed5",
   "metadata": {},
   "outputs": [],
   "source": [
    "nmovie_id = ratings.movie_id.nunique()\n",
    "nuser_id = ratings.user_id.nunique()"
   ]
  },
  {
   "cell_type": "code",
   "execution_count": 22,
   "id": "a9606f54",
   "metadata": {},
   "outputs": [],
   "source": [
    "del model"
   ]
  },
  {
   "cell_type": "code",
   "execution_count": 23,
   "id": "667c45e5",
   "metadata": {},
   "outputs": [],
   "source": [
    "input_movies = keras.layers.Input(shape=[1])\n",
    "embed_movies = keras.layers.Embedding(nmovie_id+1, 15)(input_movies)\n",
    "movies_out = keras.layers.Flatten()(embed_movies)\n",
    "\n",
    "input_users = keras.layers.Input(shape=[1])\n",
    "embed_users = keras.layers.Embedding(nuser_id+1, 15)(input_users)\n",
    "users_out = keras.layers.Flatten()(embed_users)\n",
    "\n",
    "conc_layer = keras.layers.Concatenate()([movies_out, users_out])\n",
    "x = keras.layers.Dense(32, activation='relu')(conc_layer)\n",
    "dropout = x = keras.layers.Dropout(rate=.3, seed=42)(x)\n",
    "# dense2 = x = keras.layers.Dense(32, activation='relu')(x)\n",
    "dense3 = x = keras.layers.Dense(16, activation='relu')(x)\n",
    "x_out = x = keras.layers.Dense(1, activation='relu')(x)\n",
    "\n",
    "\n",
    "model = keras.Model([input_movies, input_users], x_out)"
   ]
  },
  {
   "cell_type": "code",
   "execution_count": 24,
   "id": "ef75e68c",
   "metadata": {},
   "outputs": [
    {
     "name": "stdout",
     "output_type": "stream",
     "text": [
      "Model: \"model_1\"\n",
      "__________________________________________________________________________________________________\n",
      "Layer (type)                    Output Shape         Param #     Connected to                     \n",
      "==================================================================================================\n",
      "input_3 (InputLayer)            [(None, 1)]          0                                            \n",
      "__________________________________________________________________________________________________\n",
      "input_4 (InputLayer)            [(None, 1)]          0                                            \n",
      "__________________________________________________________________________________________________\n",
      "embedding_2 (Embedding)         (None, 1, 15)        446385      input_3[0][0]                    \n",
      "__________________________________________________________________________________________________\n",
      "embedding_3 (Embedding)         (None, 1, 15)        558540      input_4[0][0]                    \n",
      "__________________________________________________________________________________________________\n",
      "flatten_2 (Flatten)             (None, 15)           0           embedding_2[0][0]                \n",
      "__________________________________________________________________________________________________\n",
      "flatten_3 (Flatten)             (None, 15)           0           embedding_3[0][0]                \n",
      "__________________________________________________________________________________________________\n",
      "concatenate_1 (Concatenate)     (None, 30)           0           flatten_2[0][0]                  \n",
      "                                                                 flatten_3[0][0]                  \n",
      "__________________________________________________________________________________________________\n",
      "dense_3 (Dense)                 (None, 32)           992         concatenate_1[0][0]              \n",
      "__________________________________________________________________________________________________\n",
      "dropout_1 (Dropout)             (None, 32)           0           dense_3[0][0]                    \n",
      "__________________________________________________________________________________________________\n",
      "dense_4 (Dense)                 (None, 16)           528         dropout_1[0][0]                  \n",
      "__________________________________________________________________________________________________\n",
      "dense_5 (Dense)                 (None, 1)            17          dense_4[0][0]                    \n",
      "==================================================================================================\n",
      "Total params: 1,006,462\n",
      "Trainable params: 1,006,462\n",
      "Non-trainable params: 0\n",
      "__________________________________________________________________________________________________\n"
     ]
    }
   ],
   "source": [
    "opt = tf.optimizers.Adam(learning_rate=.001)\n",
    "model.compile(optimizer=opt, loss='mean_squared_error', metrics = keras.metrics.RootMeanSquaredError())\n",
    "\n",
    "model.summary()"
   ]
  },
  {
   "cell_type": "code",
   "execution_count": null,
   "id": "8df6123d",
   "metadata": {},
   "outputs": [],
   "source": [
    "# ratings.groupby('rating_score').count()['movie_id'].apply(lambda x: 1/x).reset_index(drop=True)"
   ]
  },
  {
   "cell_type": "code",
   "execution_count": null,
   "id": "5376586c",
   "metadata": {},
   "outputs": [],
   "source": [
    "# class_weights = dict(ratings.groupby('rating_score').count()['movie_id'].apply(lambda x: 1/x).reset_index(drop=True))"
   ]
  },
  {
   "cell_type": "code",
   "execution_count": null,
   "id": "4bc42e8f",
   "metadata": {},
   "outputs": [],
   "source": [
    "# class_weights"
   ]
  },
  {
   "cell_type": "code",
   "execution_count": 25,
   "id": "18cf8ab3",
   "metadata": {
    "scrolled": false
   },
   "outputs": [
    {
     "name": "stdout",
     "output_type": "stream",
     "text": [
      "Epoch 1/20\n",
      "3470/3470 [==============================] - 79s 22ms/step - loss: 0.8252 - root_mean_squared_error: 0.9084 - val_loss: 0.8170 - val_root_mean_squared_error: 0.9039\n",
      "Epoch 2/20\n",
      "3470/3470 [==============================] - 75s 22ms/step - loss: 0.8000 - root_mean_squared_error: 0.8944 - val_loss: 0.8178 - val_root_mean_squared_error: 0.9043\n",
      "Epoch 3/20\n",
      "3470/3470 [==============================] - 68s 20ms/step - loss: 0.7746 - root_mean_squared_error: 0.8801 - val_loss: 0.8230 - val_root_mean_squared_error: 0.9072\n",
      "Epoch 4/20\n",
      "3470/3470 [==============================] - 69s 20ms/step - loss: 0.7560 - root_mean_squared_error: 0.8695 - val_loss: 0.8285 - val_root_mean_squared_error: 0.9102\n",
      "Epoch 5/20\n",
      "3470/3470 [==============================] - 73s 21ms/step - loss: 0.7502 - root_mean_squared_error: 0.8662 - val_loss: 0.8286 - val_root_mean_squared_error: 0.9103\n",
      "Epoch 6/20\n",
      "3470/3470 [==============================] - 65s 19ms/step - loss: 0.7367 - root_mean_squared_error: 0.8583 - val_loss: 0.8311 - val_root_mean_squared_error: 0.9117\n",
      "Epoch 7/20\n",
      "3470/3470 [==============================] - 64s 18ms/step - loss: 0.7342 - root_mean_squared_error: 0.8569 - val_loss: 0.8350 - val_root_mean_squared_error: 0.9138\n",
      "Epoch 8/20\n",
      "3470/3470 [==============================] - 69s 20ms/step - loss: 0.7333 - root_mean_squared_error: 0.8563 - val_loss: 0.8341 - val_root_mean_squared_error: 0.9133\n",
      "Epoch 9/20\n",
      "3470/3470 [==============================] - 64s 18ms/step - loss: 0.7192 - root_mean_squared_error: 0.8481 - val_loss: 0.8342 - val_root_mean_squared_error: 0.9133\n",
      "Epoch 10/20\n",
      "3470/3470 [==============================] - 64s 18ms/step - loss: 0.7226 - root_mean_squared_error: 0.8501 - val_loss: 0.8347 - val_root_mean_squared_error: 0.9136\n",
      "Epoch 11/20\n",
      "3470/3470 [==============================] - 66s 19ms/step - loss: 0.7218 - root_mean_squared_error: 0.8496 - val_loss: 0.8333 - val_root_mean_squared_error: 0.9128\n",
      "Epoch 12/20\n",
      "3470/3470 [==============================] - 72s 21ms/step - loss: 0.7180 - root_mean_squared_error: 0.8474 - val_loss: 0.8366 - val_root_mean_squared_error: 0.9146\n",
      "Epoch 13/20\n",
      "3470/3470 [==============================] - 67s 19ms/step - loss: 0.7136 - root_mean_squared_error: 0.8448 - val_loss: 0.8340 - val_root_mean_squared_error: 0.9132\n",
      "Epoch 14/20\n",
      "3470/3470 [==============================] - 65s 19ms/step - loss: 0.7135 - root_mean_squared_error: 0.8447 - val_loss: 0.8360 - val_root_mean_squared_error: 0.9144\n",
      "Epoch 15/20\n",
      "3470/3470 [==============================] - 66s 19ms/step - loss: 0.7134 - root_mean_squared_error: 0.8446 - val_loss: 0.8343 - val_root_mean_squared_error: 0.9134\n",
      "Epoch 16/20\n",
      "3470/3470 [==============================] - 64s 18ms/step - loss: 0.7109 - root_mean_squared_error: 0.8432 - val_loss: 0.8319 - val_root_mean_squared_error: 0.9121\n",
      "Epoch 17/20\n",
      "3470/3470 [==============================] - 64s 18ms/step - loss: 0.7021 - root_mean_squared_error: 0.8379 - val_loss: 0.8347 - val_root_mean_squared_error: 0.9136\n",
      "Epoch 18/20\n",
      "3470/3470 [==============================] - 66s 19ms/step - loss: 0.7058 - root_mean_squared_error: 0.8401 - val_loss: 0.8343 - val_root_mean_squared_error: 0.9134\n",
      "Epoch 19/20\n",
      "3470/3470 [==============================] - 75s 22ms/step - loss: 0.7090 - root_mean_squared_error: 0.8420 - val_loss: 0.8351 - val_root_mean_squared_error: 0.9138\n",
      "Epoch 20/20\n",
      "3470/3470 [==============================] - 66s 19ms/step - loss: 0.7048 - root_mean_squared_error: 0.8395 - val_loss: 0.8395 - val_root_mean_squared_error: 0.9162\n"
     ]
    }
   ],
   "source": [
    "hist = model.fit([X_train.movie, X_train.user], \n",
    "                 X_train.centered_rating.astype(float), \n",
    "                 batch_size=64, epochs=20, verbose=1, validation_split=.2)"
   ]
  },
  {
   "cell_type": "code",
   "execution_count": null,
   "id": "596d7ccb",
   "metadata": {},
   "outputs": [],
   "source": [
    "train_loss = hist.history['loss']\n",
    "val_loss = hist.history['val_loss']\n",
    "plt.plot(train_loss, color='r', label='Train Loss')\n",
    "plt.plot(val_loss, color='b', label='Validation Loss')\n",
    "plt.title(\"Train and Validation Loss Curve\")\n",
    "plt.legend()\n",
    "plt.show()"
   ]
  },
  {
   "cell_type": "code",
   "execution_count": null,
   "id": "0e8bc303",
   "metadata": {},
   "outputs": [],
   "source": [
    "train_loss = hist.history['root_mean_squared_error']\n",
    "val_loss = hist.history['val_root_mean_squared_error']\n",
    "plt.plot(train_loss, color='r', label='Train RMSE')\n",
    "plt.plot(val_loss, color='b', label='Validation RMSE')\n",
    "plt.title(\"Train and Validation RMSE Curve\")\n",
    "plt.legend()\n",
    "plt.show()"
   ]
  },
  {
   "cell_type": "code",
   "execution_count": null,
   "id": "5ca713c4",
   "metadata": {},
   "outputs": [],
   "source": [
    "ratings.groupby('user_id').count().sort_values(by='movie_id',ascending=False)"
   ]
  },
  {
   "cell_type": "code",
   "execution_count": null,
   "id": "2bc7dff5",
   "metadata": {},
   "outputs": [],
   "source": [
    "ratings[ratings.user_id==74769593]"
   ]
  },
  {
   "cell_type": "code",
   "execution_count": null,
   "id": "8bb0d6c9",
   "metadata": {},
   "outputs": [],
   "source": [
    "movie_array = ratings[ratings.user_id==74769593].movie.values.astype(int)\n",
    "user = np.array([int(27853) for n in range(len(movie_array))])"
   ]
  },
  {
   "cell_type": "code",
   "execution_count": null,
   "id": "055bca6f",
   "metadata": {},
   "outputs": [],
   "source": [
    "movie_array.shape, movie_array.dtype, user.shape, user.dtype"
   ]
  },
  {
   "cell_type": "code",
   "execution_count": null,
   "id": "4c0d54c2",
   "metadata": {
    "scrolled": true
   },
   "outputs": [],
   "source": [
    "pred = model.predict([movie_array, user])"
   ]
  },
  {
   "cell_type": "code",
   "execution_count": null,
   "id": "62c8276b",
   "metadata": {
    "scrolled": true
   },
   "outputs": [],
   "source": [
    "pred.flatten()"
   ]
  },
  {
   "cell_type": "code",
   "execution_count": null,
   "id": "c3ac6266",
   "metadata": {},
   "outputs": [],
   "source": [
    "list(zip(zip(pred.flatten(), ratings[ratings.user_id==74769593].centered_rating.values),movie_array))"
   ]
  },
  {
   "cell_type": "code",
   "execution_count": null,
   "id": "46f807cd",
   "metadata": {},
   "outputs": [],
   "source": []
  }
 ],
 "metadata": {
  "kernelspec": {
   "display_name": "tf_env",
   "language": "python",
   "name": "tf_env"
  },
  "language_info": {
   "codemirror_mode": {
    "name": "ipython",
    "version": 3
   },
   "file_extension": ".py",
   "mimetype": "text/x-python",
   "name": "python",
   "nbconvert_exporter": "python",
   "pygments_lexer": "ipython3",
   "version": "3.8.5"
  }
 },
 "nbformat": 4,
 "nbformat_minor": 5
}
